{
 "cells": [
  {
   "cell_type": "markdown",
   "id": "be2bb294",
   "metadata": {},
   "source": [
    "# Imports"
   ]
  },
  {
   "cell_type": "code",
   "execution_count": 1,
   "id": "499fa2a3",
   "metadata": {},
   "outputs": [],
   "source": [
    "import pandas as pd\n",
    "import numpy as np\n",
    "import lightgbm as lgb\n",
    "from sklearn.model_selection import train_test_split\n",
    "from sklearn.preprocessing import StandardScaler\n",
    "from sklearn.linear_model import LinearRegression, LogisticRegression\n",
    "from sklearn.metrics import confusion_matrix, ConfusionMatrixDisplay, precision_score, recall_score, f1_score, classification_report, accuracy_score\n",
    "from sklearn.inspection import permutation_importance\n",
    "import ta\n",
    "from xgboost import XGBClassifier\n",
    "\n",
    "from tqdm.notebook import tqdm\n",
    "tqdm.pandas()\n",
    "\n",
    "import matplotlib.pyplot as plt\n",
    "import plotly.express as px\n",
    "\n",
    "from sklearn.metrics import f1_score\n",
    "from imblearn.under_sampling import RandomUnderSampler\n",
    "pd.set_option('display.float_format', lambda x: '%.3f' % x)\n",
    "np.set_printoptions(suppress=True)\n",
    "import warnings\n",
    "warnings.filterwarnings('ignore')\n",
    "\n",
    "from pprint import pprint\n",
    "\n",
    "import gc\n",
    "import optuna\n",
    "from sklearn.feature_selection import RFE"
   ]
  },
  {
   "cell_type": "code",
   "execution_count": 2,
   "id": "7bb6cf77",
   "metadata": {},
   "outputs": [
    {
     "data": {
      "text/html": [
       "<div>\n",
       "<style scoped>\n",
       "    .dataframe tbody tr th:only-of-type {\n",
       "        vertical-align: middle;\n",
       "    }\n",
       "\n",
       "    .dataframe tbody tr th {\n",
       "        vertical-align: top;\n",
       "    }\n",
       "\n",
       "    .dataframe thead th {\n",
       "        text-align: right;\n",
       "    }\n",
       "</style>\n",
       "<table border=\"1\" class=\"dataframe\">\n",
       "  <thead>\n",
       "    <tr style=\"text-align: right;\">\n",
       "      <th></th>\n",
       "      <th>Date</th>\n",
       "      <th>Ticker_P1</th>\n",
       "      <th>Close_P1</th>\n",
       "      <th>Ticker_P2</th>\n",
       "      <th>Close_P2</th>\n",
       "      <th>High_P1</th>\n",
       "      <th>High_P2</th>\n",
       "      <th>Low_P1</th>\n",
       "      <th>Low_P2</th>\n",
       "      <th>Volume_P1</th>\n",
       "      <th>...</th>\n",
       "      <th>abs_spread_normed_l7_avg</th>\n",
       "      <th>abs_spread_normed_l14_avg</th>\n",
       "      <th>cos_sim</th>\n",
       "      <th>corr_coef</th>\n",
       "      <th>pnls</th>\n",
       "      <th>num_entries</th>\n",
       "      <th>days_till_first_entry</th>\n",
       "      <th>both_legs_profited</th>\n",
       "      <th>SPY_return</th>\n",
       "      <th>successful_pair_trading</th>\n",
       "    </tr>\n",
       "  </thead>\n",
       "  <tbody>\n",
       "    <tr>\n",
       "      <th>0</th>\n",
       "      <td>2015-01-02</td>\n",
       "      <td>MMM</td>\n",
       "      <td>119.196</td>\n",
       "      <td>AKAM</td>\n",
       "      <td>63.250</td>\n",
       "      <td>165.080</td>\n",
       "      <td>63.900</td>\n",
       "      <td>162.730</td>\n",
       "      <td>62.520</td>\n",
       "      <td>2116400.000</td>\n",
       "      <td>...</td>\n",
       "      <td>NaN</td>\n",
       "      <td>NaN</td>\n",
       "      <td>NaN</td>\n",
       "      <td>NaN</td>\n",
       "      <td>NaN</td>\n",
       "      <td>NaN</td>\n",
       "      <td>NaN</td>\n",
       "      <td>NaN</td>\n",
       "      <td>-1.709</td>\n",
       "      <td>False</td>\n",
       "    </tr>\n",
       "    <tr>\n",
       "      <th>1</th>\n",
       "      <td>2015-01-05</td>\n",
       "      <td>MMM</td>\n",
       "      <td>116.507</td>\n",
       "      <td>AKAM</td>\n",
       "      <td>61.940</td>\n",
       "      <td>163.640</td>\n",
       "      <td>62.340</td>\n",
       "      <td>160.080</td>\n",
       "      <td>60.760</td>\n",
       "      <td>3692900.000</td>\n",
       "      <td>...</td>\n",
       "      <td>NaN</td>\n",
       "      <td>NaN</td>\n",
       "      <td>NaN</td>\n",
       "      <td>NaN</td>\n",
       "      <td>NaN</td>\n",
       "      <td>NaN</td>\n",
       "      <td>NaN</td>\n",
       "      <td>NaN</td>\n",
       "      <td>1.547</td>\n",
       "      <td>False</td>\n",
       "    </tr>\n",
       "    <tr>\n",
       "      <th>2</th>\n",
       "      <td>2015-01-06</td>\n",
       "      <td>MMM</td>\n",
       "      <td>115.265</td>\n",
       "      <td>AKAM</td>\n",
       "      <td>60.670</td>\n",
       "      <td>161.370</td>\n",
       "      <td>62.190</td>\n",
       "      <td>157.740</td>\n",
       "      <td>60.100</td>\n",
       "      <td>3532000.000</td>\n",
       "      <td>...</td>\n",
       "      <td>NaN</td>\n",
       "      <td>NaN</td>\n",
       "      <td>NaN</td>\n",
       "      <td>NaN</td>\n",
       "      <td>NaN</td>\n",
       "      <td>NaN</td>\n",
       "      <td>NaN</td>\n",
       "      <td>NaN</td>\n",
       "      <td>2.122</td>\n",
       "      <td>False</td>\n",
       "    </tr>\n",
       "    <tr>\n",
       "      <th>3</th>\n",
       "      <td>2015-01-07</td>\n",
       "      <td>MMM</td>\n",
       "      <td>116.101</td>\n",
       "      <td>AKAM</td>\n",
       "      <td>60.160</td>\n",
       "      <td>160.280</td>\n",
       "      <td>60.960</td>\n",
       "      <td>158.940</td>\n",
       "      <td>59.930</td>\n",
       "      <td>3081300.000</td>\n",
       "      <td>...</td>\n",
       "      <td>NaN</td>\n",
       "      <td>NaN</td>\n",
       "      <td>NaN</td>\n",
       "      <td>NaN</td>\n",
       "      <td>NaN</td>\n",
       "      <td>NaN</td>\n",
       "      <td>NaN</td>\n",
       "      <td>NaN</td>\n",
       "      <td>1.883</td>\n",
       "      <td>False</td>\n",
       "    </tr>\n",
       "    <tr>\n",
       "      <th>4</th>\n",
       "      <td>2015-01-08</td>\n",
       "      <td>MMM</td>\n",
       "      <td>118.883</td>\n",
       "      <td>AKAM</td>\n",
       "      <td>61.570</td>\n",
       "      <td>163.690</td>\n",
       "      <td>61.860</td>\n",
       "      <td>160.520</td>\n",
       "      <td>60.600</td>\n",
       "      <td>3142900.000</td>\n",
       "      <td>...</td>\n",
       "      <td>NaN</td>\n",
       "      <td>NaN</td>\n",
       "      <td>NaN</td>\n",
       "      <td>NaN</td>\n",
       "      <td>NaN</td>\n",
       "      <td>NaN</td>\n",
       "      <td>NaN</td>\n",
       "      <td>NaN</td>\n",
       "      <td>-0.170</td>\n",
       "      <td>False</td>\n",
       "    </tr>\n",
       "  </tbody>\n",
       "</table>\n",
       "<p>5 rows × 33 columns</p>\n",
       "</div>"
      ],
      "text/plain": [
       "         Date Ticker_P1  Close_P1 Ticker_P2  Close_P2  High_P1  High_P2  \\\n",
       "0  2015-01-02       MMM   119.196      AKAM    63.250  165.080   63.900   \n",
       "1  2015-01-05       MMM   116.507      AKAM    61.940  163.640   62.340   \n",
       "2  2015-01-06       MMM   115.265      AKAM    60.670  161.370   62.190   \n",
       "3  2015-01-07       MMM   116.101      AKAM    60.160  160.280   60.960   \n",
       "4  2015-01-08       MMM   118.883      AKAM    61.570  163.690   61.860   \n",
       "\n",
       "   Low_P1  Low_P2   Volume_P1  ...  abs_spread_normed_l7_avg  \\\n",
       "0 162.730  62.520 2116400.000  ...                       NaN   \n",
       "1 160.080  60.760 3692900.000  ...                       NaN   \n",
       "2 157.740  60.100 3532000.000  ...                       NaN   \n",
       "3 158.940  59.930 3081300.000  ...                       NaN   \n",
       "4 160.520  60.600 3142900.000  ...                       NaN   \n",
       "\n",
       "   abs_spread_normed_l14_avg  cos_sim  corr_coef  pnls  num_entries  \\\n",
       "0                        NaN      NaN        NaN   NaN          NaN   \n",
       "1                        NaN      NaN        NaN   NaN          NaN   \n",
       "2                        NaN      NaN        NaN   NaN          NaN   \n",
       "3                        NaN      NaN        NaN   NaN          NaN   \n",
       "4                        NaN      NaN        NaN   NaN          NaN   \n",
       "\n",
       "   days_till_first_entry  both_legs_profited  SPY_return  \\\n",
       "0                    NaN                 NaN      -1.709   \n",
       "1                    NaN                 NaN       1.547   \n",
       "2                    NaN                 NaN       2.122   \n",
       "3                    NaN                 NaN       1.883   \n",
       "4                    NaN                 NaN      -0.170   \n",
       "\n",
       "   successful_pair_trading  \n",
       "0                    False  \n",
       "1                    False  \n",
       "2                    False  \n",
       "3                    False  \n",
       "4                    False  \n",
       "\n",
       "[5 rows x 33 columns]"
      ]
     },
     "execution_count": 2,
     "metadata": {},
     "output_type": "execute_result"
    }
   ],
   "source": [
    "df = pd.read_csv('Data/Training/pair_features_updated_300_20.csv')\n",
    "df.head()"
   ]
  },
  {
   "cell_type": "code",
   "execution_count": 3,
   "id": "e4d22c2f",
   "metadata": {},
   "outputs": [
    {
     "data": {
      "text/plain": [
       "1257"
      ]
     },
     "execution_count": 3,
     "metadata": {},
     "output_type": "execute_result"
    }
   ],
   "source": [
    "total_days = df.Date.nunique()\n",
    "total_days"
   ]
  },
  {
   "cell_type": "code",
   "execution_count": 4,
   "id": "5ad854f5",
   "metadata": {},
   "outputs": [
    {
     "name": "stdout",
     "output_type": "stream",
     "text": [
      "(1539825, 33)\n"
     ]
    },
    {
     "data": {
      "text/plain": [
       "Date                              0\n",
       "Ticker_P1                         0\n",
       "Close_P1                          0\n",
       "Ticker_P2                         0\n",
       "Close_P2                          0\n",
       "High_P1                           0\n",
       "High_P2                           0\n",
       "Low_P1                            0\n",
       "Low_P2                            0\n",
       "Volume_P1                         0\n",
       "Volume_P2                         0\n",
       "abs_spread                        0\n",
       "same_sector_flag                  0\n",
       "same_sub_industry_flag            0\n",
       "abs_spread_mean              366275\n",
       "abs_spread_std               366275\n",
       "abs_spread_mean_l20           23275\n",
       "abs_spread_std_l20            23275\n",
       "spread_normed                366275\n",
       "abs_spread_normed_max        732550\n",
       "abs_spread_normed_90th       732550\n",
       "abs_spread_normed_75th       732550\n",
       "abs_spread_normed_median     732550\n",
       "abs_spread_normed_l7_avg     373625\n",
       "abs_spread_normed_l14_avg    382200\n",
       "cos_sim                      366275\n",
       "corr_coef                    366275\n",
       "pnls                         392000\n",
       "num_entries                  392000\n",
       "days_till_first_entry        859934\n",
       "both_legs_profited           392000\n",
       "SPY_return                        0\n",
       "successful_pair_trading           0\n",
       "dtype: int64"
      ]
     },
     "execution_count": 4,
     "metadata": {},
     "output_type": "execute_result"
    }
   ],
   "source": [
    "print(df.shape)\n",
    "df.isna().sum()"
   ]
  },
  {
   "cell_type": "code",
   "execution_count": 5,
   "id": "8d594821",
   "metadata": {},
   "outputs": [
    {
     "data": {
      "text/plain": [
       "1257"
      ]
     },
     "execution_count": 5,
     "metadata": {},
     "output_type": "execute_result"
    }
   ],
   "source": [
    "df.Date.nunique()"
   ]
  },
  {
   "cell_type": "code",
   "execution_count": 6,
   "id": "6826a684",
   "metadata": {},
   "outputs": [
    {
     "data": {
      "text/plain": [
       "count   807275.000\n",
       "mean         3.091\n",
       "std          0.662\n",
       "min          1.002\n",
       "25%          2.642\n",
       "50%          3.015\n",
       "75%          3.457\n",
       "max          7.195\n",
       "Name: abs_spread_normed_max, dtype: float64"
      ]
     },
     "execution_count": 6,
     "metadata": {},
     "output_type": "execute_result"
    }
   ],
   "source": [
    "df.abs_spread_normed_max.dropna().describe()"
   ]
  },
  {
   "cell_type": "code",
   "execution_count": 7,
   "id": "4dd722ed",
   "metadata": {},
   "outputs": [],
   "source": [
    "df = df.sort_values('Date')"
   ]
  },
  {
   "cell_type": "code",
   "execution_count": 8,
   "id": "ef9190d7",
   "metadata": {},
   "outputs": [
    {
     "name": "stdout",
     "output_type": "stream",
     "text": [
      "2015-01-02 2019-12-30\n"
     ]
    }
   ],
   "source": [
    "print(df.Date.min(),df.Date.max())"
   ]
  },
  {
   "cell_type": "markdown",
   "id": "6deae486",
   "metadata": {},
   "source": [
    "# Feature Engineering"
   ]
  },
  {
   "cell_type": "code",
   "execution_count": 9,
   "id": "24398048",
   "metadata": {},
   "outputs": [],
   "source": [
    "# TODO:\n",
    "# 1. Add group based features\n",
    "# 2. Stock2Vec based features\n",
    "# 3. Add Technical Indicators\n",
    "# 4. target is a sum of 2 directions with magnitudes (how much it goes up/down per leg)\n",
    "# 5. rolling features\n",
    "# 6. probability of classification model\n",
    "# 7. historical pnl and num_entries, drop leaky num_entries\n",
    "# 8. differencing features."
   ]
  },
  {
   "cell_type": "code",
   "execution_count": 10,
   "id": "a8f16e7d",
   "metadata": {},
   "outputs": [],
   "source": [
    "# 3 dimensions from a product perspective: ticker1, ticker2, and pair\n",
    "# 2 dimensions from a time perspective: short term vs long term\n",
    "# 2 factors of PnL: Volatility, and Reversion to mean\n",
    "\n",
    "# short term ticker 1 volatility: rolling mean, sector rolling mean, rolling std, sector rolling std\n",
    "# short term ticker 2 volatility: rolling mean, sector rolling mean, rolling std, sector rolling std\n",
    "# short term pair level volatility: rolling mean, sector rolling mean, rolling std, sector rolling std, \n",
    "#                                   differences of ticker level features\n",
    "\n",
    "# long term ticker 1 volatility: beta,\n",
    "# long term ticker 2 volatility: beta,\n",
    "# long term pair level volatility: most recent PNL (which is from 120 days ago), average historical PNL\n",
    "#                                  most recent number of entries, historical average vnumber of entries, \n",
    "#                                  diff of beta\n",
    "\n",
    "# short term ticker 1 reversion to mean: technical indicators\n",
    "# short term ticker 2 reversion to mean: technical indicators\n",
    "# short term pair level reversion to mean: technical indicators\n",
    "\n",
    "# long term ticker 1 reversion to mean: technical indicators\n",
    "# long term ticker 2 reversion to mean: technical indicators\n",
    "# long term pair level reversion to mean: technical indicators"
   ]
  },
  {
   "cell_type": "markdown",
   "id": "01f79c68",
   "metadata": {},
   "source": [
    "## Technical Indicators"
   ]
  },
  {
   "cell_type": "code",
   "execution_count": 11,
   "id": "57cd0e61",
   "metadata": {},
   "outputs": [],
   "source": [
    "class feature_engineering(object):\n",
    "    def __init__(self):\n",
    "        super(feature_engineering, self).__init__()\n",
    "\n",
    "    def generate_technical_indicator(self, data_df): \n",
    "        '''\n",
    "        Function to generate additional technical indicators for the stock\n",
    "\n",
    "        Uses the \"statsmodels.tsa.stattools\" (as \"ts\") package to apply \n",
    "        the equations specified in the \"Technical Indicators\" markdown section \n",
    "        to stock closing data.\n",
    "        \n",
    "        Input:\n",
    "        data_df-- Dataframe containing stock finacials data\n",
    "        \n",
    "        Output:\n",
    "        Stock finacials data with added Dataframe of feature obtained from feature engineering\n",
    "        ''' \n",
    "        # 1. Momentum Indicators\n",
    "        # Relative Strength Index\n",
    "        df = data_df\n",
    "        df['rsi'] = ta.momentum.rsi(df['Close'], window=14)\n",
    "        # Kaufman’s Adaptive Moving Average (KAMA)\n",
    "        df['kama'] = ta.momentum.kama(df['Close'],window=14)\n",
    "\n",
    "        # 2. Volume Indicators\n",
    "        # Accumulation/Distribution Index (ADI)\n",
    "        df['adi'] = ta.volume.acc_dist_index(df['High'], df['Low'], df['Close'], df['Volume'])\n",
    "\n",
    "        # Volume-price trend (VPT)\n",
    "        df['vpt'] = ta.volume.volume_price_trend(df['Close'], df['Volume'])\n",
    "\n",
    "        # 3. Volatility Indicators\n",
    "        # Average True Range (ATR)\n",
    "        df['atr'] = ta.volatility.average_true_range(df['High'], df['Low'],df['Close'], window=14)\n",
    "\n",
    "        # Bollinger Bands (BB) N-period simple moving average (MA)\n",
    "        df['bb_ma'] = ta.volatility.bollinger_mavg(df['Close'], window=20)\n",
    "\n",
    "        # 4. Trend Indicators\n",
    "        # Average Directional Movement Index (ADX)\n",
    "        df['adx'] = ta.trend.adx(df['High'], df['Low'], df['Close'], window=14)\n",
    "\n",
    "        # Exponential Moving Average\n",
    "        df['ema'] = ta.trend.ema_indicator(df['Close'], window=14)\n",
    "\n",
    "        # Moving Average Convergence Divergence (MACD)\n",
    "        df['macd'] = ta.trend.macd(df['Close'], window_fast=14, window_slow=30)\n",
    "\n",
    "        # 5. Other Indicators\n",
    "        # Daily Log Return (DLR)\n",
    "        df['dlr'] = ta.others.daily_log_return(df['Close'])\n",
    "\n",
    "        # Daily Returns\n",
    "        df['daily_returns'] = df['Close'].pct_change()\n",
    "\n",
    "        # Moving Averages\n",
    "        averages = [50,200]\n",
    "        for avg in averages:\n",
    "            col_name = str(avg) +' Days Average'\n",
    "            df[col_name] = df['Close'].rolling(window = avg, center = False).mean()\n",
    "\n",
    "        return df"
   ]
  },
  {
   "cell_type": "markdown",
   "id": "3872a90c",
   "metadata": {},
   "source": [
    "### Load SPY"
   ]
  },
  {
   "cell_type": "code",
   "execution_count": 12,
   "id": "d39ee0d7",
   "metadata": {},
   "outputs": [],
   "source": [
    "spy_df = pd.read_csv('Data/Training/1999-12-01-2023-12-31_SPY.csv')\n",
    "spy_df = spy_df[['Date','Adj Close']]\n",
    "spy_df.columns = ['Date','SPY_Close']\n",
    "df = pd.merge(df,spy_df,on='Date',how='left')"
   ]
  },
  {
   "cell_type": "markdown",
   "id": "b5717d7f",
   "metadata": {},
   "source": [
    "### Beta"
   ]
  },
  {
   "cell_type": "code",
   "execution_count": 13,
   "id": "a9c38c69",
   "metadata": {},
   "outputs": [],
   "source": [
    "def compute_beta(rs,df,ticker,market):\n",
    "    rows = df.loc[rs.index]\n",
    "    sec_returns = np.log( df[[ticker,market]] / df[[ticker,market]].shift(1) ) \n",
    "\n",
    "    cov = sec_returns.cov() * 250\n",
    "    cov_with_market = cov.iloc[0,1]\n",
    "    market_var = sec_returns[market].var() * 250\n",
    "    beta = cov_with_market / market_var\n",
    "    return beta"
   ]
  },
  {
   "cell_type": "code",
   "execution_count": 14,
   "id": "0d61d325",
   "metadata": {},
   "outputs": [
    {
     "data": {
      "text/plain": [
       "98"
      ]
     },
     "execution_count": 14,
     "metadata": {},
     "output_type": "execute_result"
    }
   ],
   "source": [
    "all_tickers = df['Ticker_P1'].unique().tolist()+df['Ticker_P2'].unique().tolist()\n",
    "len(all_tickers)"
   ]
  },
  {
   "cell_type": "code",
   "execution_count": 15,
   "id": "e78c7e55",
   "metadata": {},
   "outputs": [],
   "source": [
    "fe_obj = feature_engineering()\n"
   ]
  },
  {
   "cell_type": "markdown",
   "id": "5f2f8ee4",
   "metadata": {},
   "source": [
    "### Single Ticker Features"
   ]
  },
  {
   "cell_type": "code",
   "execution_count": 16,
   "id": "fc1b5a40",
   "metadata": {},
   "outputs": [
    {
     "data": {
      "text/plain": [
       "Index(['Date', 'Ticker_P1', 'Close_P1', 'Ticker_P2', 'Close_P2', 'High_P1',\n",
       "       'High_P2', 'Low_P1', 'Low_P2', 'Volume_P1', 'Volume_P2', 'abs_spread',\n",
       "       'same_sector_flag', 'same_sub_industry_flag', 'abs_spread_mean',\n",
       "       'abs_spread_std', 'abs_spread_mean_l20', 'abs_spread_std_l20',\n",
       "       'spread_normed', 'abs_spread_normed_max', 'abs_spread_normed_90th',\n",
       "       'abs_spread_normed_75th', 'abs_spread_normed_median',\n",
       "       'abs_spread_normed_l7_avg', 'abs_spread_normed_l14_avg', 'cos_sim',\n",
       "       'corr_coef', 'pnls', 'num_entries', 'days_till_first_entry',\n",
       "       'both_legs_profited', 'SPY_return', 'successful_pair_trading',\n",
       "       'SPY_Close'],\n",
       "      dtype='object')"
      ]
     },
     "execution_count": 16,
     "metadata": {},
     "output_type": "execute_result"
    }
   ],
   "source": [
    "df.columns"
   ]
  },
  {
   "cell_type": "code",
   "execution_count": 33,
   "id": "cff2ae08",
   "metadata": {},
   "outputs": [
    {
     "data": {
      "application/vnd.jupyter.widget-view+json": {
       "model_id": "376d234fafb146eda4f044b9d7001614",
       "version_major": 2,
       "version_minor": 0
      },
      "text/plain": [
       "  0%|          | 0/98 [00:00<?, ?it/s]"
      ]
     },
     "metadata": {},
     "output_type": "display_data"
    },
    {
     "data": {
      "application/vnd.jupyter.widget-view+json": {
       "model_id": "3b8c66acd18c46f5a5b59ad4bcfb5470",
       "version_major": 2,
       "version_minor": 0
      },
      "text/plain": [
       "0it [00:00, ?it/s]"
      ]
     },
     "metadata": {},
     "output_type": "display_data"
    },
    {
     "data": {
      "application/vnd.jupyter.widget-view+json": {
       "model_id": "cc0dfc53f552493ca79f0945f8ee92c9",
       "version_major": 2,
       "version_minor": 0
      },
      "text/plain": [
       "0it [00:00, ?it/s]"
      ]
     },
     "metadata": {},
     "output_type": "display_data"
    },
    {
     "data": {
      "application/vnd.jupyter.widget-view+json": {
       "model_id": "20779f275cb84cf5a0a163a379fb658e",
       "version_major": 2,
       "version_minor": 0
      },
      "text/plain": [
       "0it [00:00, ?it/s]"
      ]
     },
     "metadata": {},
     "output_type": "display_data"
    },
    {
     "data": {
      "application/vnd.jupyter.widget-view+json": {
       "model_id": "8d6e103d9cd04924b45a25627d94d34e",
       "version_major": 2,
       "version_minor": 0
      },
      "text/plain": [
       "0it [00:00, ?it/s]"
      ]
     },
     "metadata": {},
     "output_type": "display_data"
    },
    {
     "data": {
      "application/vnd.jupyter.widget-view+json": {
       "model_id": "6f2cfe6157d740d9b5ce6dcdf788874b",
       "version_major": 2,
       "version_minor": 0
      },
      "text/plain": [
       "0it [00:00, ?it/s]"
      ]
     },
     "metadata": {},
     "output_type": "display_data"
    },
    {
     "data": {
      "application/vnd.jupyter.widget-view+json": {
       "model_id": "e93218a023504797a2378bd11f9f20c9",
       "version_major": 2,
       "version_minor": 0
      },
      "text/plain": [
       "0it [00:00, ?it/s]"
      ]
     },
     "metadata": {},
     "output_type": "display_data"
    },
    {
     "data": {
      "application/vnd.jupyter.widget-view+json": {
       "model_id": "a59d3f21537040ebb2532be42f623bdb",
       "version_major": 2,
       "version_minor": 0
      },
      "text/plain": [
       "0it [00:00, ?it/s]"
      ]
     },
     "metadata": {},
     "output_type": "display_data"
    },
    {
     "data": {
      "application/vnd.jupyter.widget-view+json": {
       "model_id": "a6bbd3a672cc400db9c5d6d5f1136316",
       "version_major": 2,
       "version_minor": 0
      },
      "text/plain": [
       "0it [00:00, ?it/s]"
      ]
     },
     "metadata": {},
     "output_type": "display_data"
    },
    {
     "data": {
      "application/vnd.jupyter.widget-view+json": {
       "model_id": "1f51b5899f8a48ed9619978c91e519d2",
       "version_major": 2,
       "version_minor": 0
      },
      "text/plain": [
       "0it [00:00, ?it/s]"
      ]
     },
     "metadata": {},
     "output_type": "display_data"
    },
    {
     "data": {
      "application/vnd.jupyter.widget-view+json": {
       "model_id": "06c28ca6d9c743c8a3e308e1917820f2",
       "version_major": 2,
       "version_minor": 0
      },
      "text/plain": [
       "0it [00:00, ?it/s]"
      ]
     },
     "metadata": {},
     "output_type": "display_data"
    },
    {
     "data": {
      "application/vnd.jupyter.widget-view+json": {
       "model_id": "3e6c2b54e4cc42579c5aa58239ae835c",
       "version_major": 2,
       "version_minor": 0
      },
      "text/plain": [
       "0it [00:00, ?it/s]"
      ]
     },
     "metadata": {},
     "output_type": "display_data"
    },
    {
     "data": {
      "application/vnd.jupyter.widget-view+json": {
       "model_id": "02e6021cc9764846a1729ed05cc318c3",
       "version_major": 2,
       "version_minor": 0
      },
      "text/plain": [
       "0it [00:00, ?it/s]"
      ]
     },
     "metadata": {},
     "output_type": "display_data"
    },
    {
     "data": {
      "application/vnd.jupyter.widget-view+json": {
       "model_id": "7d1eda81d05145048b73e68ba9ff1dcd",
       "version_major": 2,
       "version_minor": 0
      },
      "text/plain": [
       "0it [00:00, ?it/s]"
      ]
     },
     "metadata": {},
     "output_type": "display_data"
    },
    {
     "data": {
      "application/vnd.jupyter.widget-view+json": {
       "model_id": "06c73ff4f64242f3899983be14e01181",
       "version_major": 2,
       "version_minor": 0
      },
      "text/plain": [
       "0it [00:00, ?it/s]"
      ]
     },
     "metadata": {},
     "output_type": "display_data"
    },
    {
     "data": {
      "application/vnd.jupyter.widget-view+json": {
       "model_id": "b5876c98fb004d0eba49ba5e85c452dc",
       "version_major": 2,
       "version_minor": 0
      },
      "text/plain": [
       "0it [00:00, ?it/s]"
      ]
     },
     "metadata": {},
     "output_type": "display_data"
    },
    {
     "data": {
      "application/vnd.jupyter.widget-view+json": {
       "model_id": "e42b1f9eef054fe382a691e9765119ce",
       "version_major": 2,
       "version_minor": 0
      },
      "text/plain": [
       "0it [00:00, ?it/s]"
      ]
     },
     "metadata": {},
     "output_type": "display_data"
    },
    {
     "data": {
      "application/vnd.jupyter.widget-view+json": {
       "model_id": "8ea0d9f95389422ba2d5d60ef67be9eb",
       "version_major": 2,
       "version_minor": 0
      },
      "text/plain": [
       "0it [00:00, ?it/s]"
      ]
     },
     "metadata": {},
     "output_type": "display_data"
    },
    {
     "data": {
      "application/vnd.jupyter.widget-view+json": {
       "model_id": "a5f341ab3c674595963bddc7798f67bc",
       "version_major": 2,
       "version_minor": 0
      },
      "text/plain": [
       "0it [00:00, ?it/s]"
      ]
     },
     "metadata": {},
     "output_type": "display_data"
    },
    {
     "data": {
      "application/vnd.jupyter.widget-view+json": {
       "model_id": "fb1b5a02a7e94732bee84eb133d3cd75",
       "version_major": 2,
       "version_minor": 0
      },
      "text/plain": [
       "0it [00:00, ?it/s]"
      ]
     },
     "metadata": {},
     "output_type": "display_data"
    },
    {
     "data": {
      "application/vnd.jupyter.widget-view+json": {
       "model_id": "c084f8578feb4a9094159bc8e922784a",
       "version_major": 2,
       "version_minor": 0
      },
      "text/plain": [
       "0it [00:00, ?it/s]"
      ]
     },
     "metadata": {},
     "output_type": "display_data"
    },
    {
     "data": {
      "application/vnd.jupyter.widget-view+json": {
       "model_id": "a5d1e896eb0147eb8dc3e63768055973",
       "version_major": 2,
       "version_minor": 0
      },
      "text/plain": [
       "0it [00:00, ?it/s]"
      ]
     },
     "metadata": {},
     "output_type": "display_data"
    },
    {
     "data": {
      "application/vnd.jupyter.widget-view+json": {
       "model_id": "6133191a14164ed9aa043ed28f50206a",
       "version_major": 2,
       "version_minor": 0
      },
      "text/plain": [
       "0it [00:00, ?it/s]"
      ]
     },
     "metadata": {},
     "output_type": "display_data"
    },
    {
     "data": {
      "application/vnd.jupyter.widget-view+json": {
       "model_id": "575eabf6d4be42c1b49b650061127ca0",
       "version_major": 2,
       "version_minor": 0
      },
      "text/plain": [
       "0it [00:00, ?it/s]"
      ]
     },
     "metadata": {},
     "output_type": "display_data"
    },
    {
     "data": {
      "application/vnd.jupyter.widget-view+json": {
       "model_id": "bb5ad2cc82434528868533bf3dc01e75",
       "version_major": 2,
       "version_minor": 0
      },
      "text/plain": [
       "0it [00:00, ?it/s]"
      ]
     },
     "metadata": {},
     "output_type": "display_data"
    },
    {
     "data": {
      "application/vnd.jupyter.widget-view+json": {
       "model_id": "fb9b364a9ce3474b87132dc71f23c47f",
       "version_major": 2,
       "version_minor": 0
      },
      "text/plain": [
       "0it [00:00, ?it/s]"
      ]
     },
     "metadata": {},
     "output_type": "display_data"
    },
    {
     "data": {
      "application/vnd.jupyter.widget-view+json": {
       "model_id": "ad921250a2b04df1b05b30594ca56c28",
       "version_major": 2,
       "version_minor": 0
      },
      "text/plain": [
       "0it [00:00, ?it/s]"
      ]
     },
     "metadata": {},
     "output_type": "display_data"
    },
    {
     "data": {
      "application/vnd.jupyter.widget-view+json": {
       "model_id": "213070dd3e45411cb4af72f89a9d1a0f",
       "version_major": 2,
       "version_minor": 0
      },
      "text/plain": [
       "0it [00:00, ?it/s]"
      ]
     },
     "metadata": {},
     "output_type": "display_data"
    },
    {
     "data": {
      "application/vnd.jupyter.widget-view+json": {
       "model_id": "37e7953452eb4632b7cb16b5aa9e4710",
       "version_major": 2,
       "version_minor": 0
      },
      "text/plain": [
       "0it [00:00, ?it/s]"
      ]
     },
     "metadata": {},
     "output_type": "display_data"
    },
    {
     "data": {
      "application/vnd.jupyter.widget-view+json": {
       "model_id": "74107eb4bf2e493a8d96c22973604aba",
       "version_major": 2,
       "version_minor": 0
      },
      "text/plain": [
       "0it [00:00, ?it/s]"
      ]
     },
     "metadata": {},
     "output_type": "display_data"
    },
    {
     "data": {
      "application/vnd.jupyter.widget-view+json": {
       "model_id": "be60dcf262ba4fcc91d705f67d8d7f61",
       "version_major": 2,
       "version_minor": 0
      },
      "text/plain": [
       "0it [00:00, ?it/s]"
      ]
     },
     "metadata": {},
     "output_type": "display_data"
    },
    {
     "data": {
      "application/vnd.jupyter.widget-view+json": {
       "model_id": "ba3637123cd645f088bbc5059e00e957",
       "version_major": 2,
       "version_minor": 0
      },
      "text/plain": [
       "0it [00:00, ?it/s]"
      ]
     },
     "metadata": {},
     "output_type": "display_data"
    },
    {
     "data": {
      "application/vnd.jupyter.widget-view+json": {
       "model_id": "64619b33c800464f9d3204823d2f9769",
       "version_major": 2,
       "version_minor": 0
      },
      "text/plain": [
       "0it [00:00, ?it/s]"
      ]
     },
     "metadata": {},
     "output_type": "display_data"
    },
    {
     "data": {
      "application/vnd.jupyter.widget-view+json": {
       "model_id": "9bf48353b5ec4904bda846f82e3ce4b2",
       "version_major": 2,
       "version_minor": 0
      },
      "text/plain": [
       "0it [00:00, ?it/s]"
      ]
     },
     "metadata": {},
     "output_type": "display_data"
    },
    {
     "data": {
      "application/vnd.jupyter.widget-view+json": {
       "model_id": "046549a9e32547a48c0adb444502b89f",
       "version_major": 2,
       "version_minor": 0
      },
      "text/plain": [
       "0it [00:00, ?it/s]"
      ]
     },
     "metadata": {},
     "output_type": "display_data"
    },
    {
     "data": {
      "application/vnd.jupyter.widget-view+json": {
       "model_id": "31ba498468b84e2ab889ba4a99dc3b1e",
       "version_major": 2,
       "version_minor": 0
      },
      "text/plain": [
       "0it [00:00, ?it/s]"
      ]
     },
     "metadata": {},
     "output_type": "display_data"
    },
    {
     "data": {
      "application/vnd.jupyter.widget-view+json": {
       "model_id": "3e1a0c480ae04fb38e657a42017f6004",
       "version_major": 2,
       "version_minor": 0
      },
      "text/plain": [
       "0it [00:00, ?it/s]"
      ]
     },
     "metadata": {},
     "output_type": "display_data"
    },
    {
     "data": {
      "application/vnd.jupyter.widget-view+json": {
       "model_id": "73628596741f44c9bcfda5d47c9f8139",
       "version_major": 2,
       "version_minor": 0
      },
      "text/plain": [
       "0it [00:00, ?it/s]"
      ]
     },
     "metadata": {},
     "output_type": "display_data"
    },
    {
     "data": {
      "application/vnd.jupyter.widget-view+json": {
       "model_id": "969c3d7fd9a74326af3aac16ddb27823",
       "version_major": 2,
       "version_minor": 0
      },
      "text/plain": [
       "0it [00:00, ?it/s]"
      ]
     },
     "metadata": {},
     "output_type": "display_data"
    },
    {
     "data": {
      "application/vnd.jupyter.widget-view+json": {
       "model_id": "178204e4a8fe40ac84e8cf4fb48f6cb7",
       "version_major": 2,
       "version_minor": 0
      },
      "text/plain": [
       "0it [00:00, ?it/s]"
      ]
     },
     "metadata": {},
     "output_type": "display_data"
    },
    {
     "data": {
      "application/vnd.jupyter.widget-view+json": {
       "model_id": "29f19d62fa974fd0af925e9b4591d56a",
       "version_major": 2,
       "version_minor": 0
      },
      "text/plain": [
       "0it [00:00, ?it/s]"
      ]
     },
     "metadata": {},
     "output_type": "display_data"
    },
    {
     "data": {
      "application/vnd.jupyter.widget-view+json": {
       "model_id": "0a867779e2d048e2a32d84e319a0240b",
       "version_major": 2,
       "version_minor": 0
      },
      "text/plain": [
       "0it [00:00, ?it/s]"
      ]
     },
     "metadata": {},
     "output_type": "display_data"
    },
    {
     "data": {
      "application/vnd.jupyter.widget-view+json": {
       "model_id": "a4d2a3ee275941cf9754ee86f27f33eb",
       "version_major": 2,
       "version_minor": 0
      },
      "text/plain": [
       "0it [00:00, ?it/s]"
      ]
     },
     "metadata": {},
     "output_type": "display_data"
    },
    {
     "data": {
      "application/vnd.jupyter.widget-view+json": {
       "model_id": "94e8abe1a96a4e04a81242d31a8a7902",
       "version_major": 2,
       "version_minor": 0
      },
      "text/plain": [
       "0it [00:00, ?it/s]"
      ]
     },
     "metadata": {},
     "output_type": "display_data"
    },
    {
     "data": {
      "application/vnd.jupyter.widget-view+json": {
       "model_id": "9126baa3281c453aba7dcab03aa4e88e",
       "version_major": 2,
       "version_minor": 0
      },
      "text/plain": [
       "0it [00:00, ?it/s]"
      ]
     },
     "metadata": {},
     "output_type": "display_data"
    },
    {
     "data": {
      "application/vnd.jupyter.widget-view+json": {
       "model_id": "db3dbe466b7b45a8badecf99ad912fc4",
       "version_major": 2,
       "version_minor": 0
      },
      "text/plain": [
       "0it [00:00, ?it/s]"
      ]
     },
     "metadata": {},
     "output_type": "display_data"
    },
    {
     "data": {
      "application/vnd.jupyter.widget-view+json": {
       "model_id": "ee5d5dcf4d9d4452818c9c1986976e5f",
       "version_major": 2,
       "version_minor": 0
      },
      "text/plain": [
       "0it [00:00, ?it/s]"
      ]
     },
     "metadata": {},
     "output_type": "display_data"
    },
    {
     "data": {
      "application/vnd.jupyter.widget-view+json": {
       "model_id": "1901213ba1cf40a4ac08a089e297d48f",
       "version_major": 2,
       "version_minor": 0
      },
      "text/plain": [
       "0it [00:00, ?it/s]"
      ]
     },
     "metadata": {},
     "output_type": "display_data"
    },
    {
     "data": {
      "application/vnd.jupyter.widget-view+json": {
       "model_id": "1cdf040818d342a39f6a48466ad7da57",
       "version_major": 2,
       "version_minor": 0
      },
      "text/plain": [
       "0it [00:00, ?it/s]"
      ]
     },
     "metadata": {},
     "output_type": "display_data"
    },
    {
     "data": {
      "application/vnd.jupyter.widget-view+json": {
       "model_id": "618e3e218580462cae0441080465865e",
       "version_major": 2,
       "version_minor": 0
      },
      "text/plain": [
       "0it [00:00, ?it/s]"
      ]
     },
     "metadata": {},
     "output_type": "display_data"
    },
    {
     "data": {
      "application/vnd.jupyter.widget-view+json": {
       "model_id": "530e5654bf6a4f88a64014d30e78c7f5",
       "version_major": 2,
       "version_minor": 0
      },
      "text/plain": [
       "0it [00:00, ?it/s]"
      ]
     },
     "metadata": {},
     "output_type": "display_data"
    },
    {
     "data": {
      "application/vnd.jupyter.widget-view+json": {
       "model_id": "36a8743cc8504e5e93d2c13ed7251642",
       "version_major": 2,
       "version_minor": 0
      },
      "text/plain": [
       "0it [00:00, ?it/s]"
      ]
     },
     "metadata": {},
     "output_type": "display_data"
    },
    {
     "data": {
      "application/vnd.jupyter.widget-view+json": {
       "model_id": "c2cf3b3320c4497ca32b42a67adca209",
       "version_major": 2,
       "version_minor": 0
      },
      "text/plain": [
       "0it [00:00, ?it/s]"
      ]
     },
     "metadata": {},
     "output_type": "display_data"
    },
    {
     "data": {
      "application/vnd.jupyter.widget-view+json": {
       "model_id": "6dfe3e9c97e14c1b836dd159efcc07ae",
       "version_major": 2,
       "version_minor": 0
      },
      "text/plain": [
       "0it [00:00, ?it/s]"
      ]
     },
     "metadata": {},
     "output_type": "display_data"
    },
    {
     "data": {
      "application/vnd.jupyter.widget-view+json": {
       "model_id": "60ab976bc67145d98d895f5157937255",
       "version_major": 2,
       "version_minor": 0
      },
      "text/plain": [
       "0it [00:00, ?it/s]"
      ]
     },
     "metadata": {},
     "output_type": "display_data"
    },
    {
     "data": {
      "application/vnd.jupyter.widget-view+json": {
       "model_id": "a7fd2d9415284b2398c10420db413171",
       "version_major": 2,
       "version_minor": 0
      },
      "text/plain": [
       "0it [00:00, ?it/s]"
      ]
     },
     "metadata": {},
     "output_type": "display_data"
    },
    {
     "data": {
      "application/vnd.jupyter.widget-view+json": {
       "model_id": "ee6834a460294a849e28d02a873fe350",
       "version_major": 2,
       "version_minor": 0
      },
      "text/plain": [
       "0it [00:00, ?it/s]"
      ]
     },
     "metadata": {},
     "output_type": "display_data"
    },
    {
     "data": {
      "application/vnd.jupyter.widget-view+json": {
       "model_id": "1de5c4269e99416b8df1f13810ef9b9d",
       "version_major": 2,
       "version_minor": 0
      },
      "text/plain": [
       "0it [00:00, ?it/s]"
      ]
     },
     "metadata": {},
     "output_type": "display_data"
    },
    {
     "data": {
      "application/vnd.jupyter.widget-view+json": {
       "model_id": "cb1db30f92f440e998e4449522e863fc",
       "version_major": 2,
       "version_minor": 0
      },
      "text/plain": [
       "0it [00:00, ?it/s]"
      ]
     },
     "metadata": {},
     "output_type": "display_data"
    },
    {
     "data": {
      "application/vnd.jupyter.widget-view+json": {
       "model_id": "1b455d0eec644d9a8c2c9c98b07a0a25",
       "version_major": 2,
       "version_minor": 0
      },
      "text/plain": [
       "0it [00:00, ?it/s]"
      ]
     },
     "metadata": {},
     "output_type": "display_data"
    },
    {
     "data": {
      "application/vnd.jupyter.widget-view+json": {
       "model_id": "5648aa26cd3841d8aa46fe237a680feb",
       "version_major": 2,
       "version_minor": 0
      },
      "text/plain": [
       "0it [00:00, ?it/s]"
      ]
     },
     "metadata": {},
     "output_type": "display_data"
    },
    {
     "data": {
      "application/vnd.jupyter.widget-view+json": {
       "model_id": "10ad704f8bcc42a79f93a6f30111d632",
       "version_major": 2,
       "version_minor": 0
      },
      "text/plain": [
       "0it [00:00, ?it/s]"
      ]
     },
     "metadata": {},
     "output_type": "display_data"
    },
    {
     "data": {
      "application/vnd.jupyter.widget-view+json": {
       "model_id": "525066a2760a43009a0b0639c1894990",
       "version_major": 2,
       "version_minor": 0
      },
      "text/plain": [
       "0it [00:00, ?it/s]"
      ]
     },
     "metadata": {},
     "output_type": "display_data"
    },
    {
     "data": {
      "application/vnd.jupyter.widget-view+json": {
       "model_id": "5c46b5cc88e749e994f01fbbe0d466a1",
       "version_major": 2,
       "version_minor": 0
      },
      "text/plain": [
       "0it [00:00, ?it/s]"
      ]
     },
     "metadata": {},
     "output_type": "display_data"
    },
    {
     "data": {
      "application/vnd.jupyter.widget-view+json": {
       "model_id": "c440f5316ce64da481d055ddc635608f",
       "version_major": 2,
       "version_minor": 0
      },
      "text/plain": [
       "0it [00:00, ?it/s]"
      ]
     },
     "metadata": {},
     "output_type": "display_data"
    },
    {
     "data": {
      "application/vnd.jupyter.widget-view+json": {
       "model_id": "1d88ad63b7bd48b884e544cca72c1ff1",
       "version_major": 2,
       "version_minor": 0
      },
      "text/plain": [
       "0it [00:00, ?it/s]"
      ]
     },
     "metadata": {},
     "output_type": "display_data"
    },
    {
     "data": {
      "application/vnd.jupyter.widget-view+json": {
       "model_id": "0776f470b69d4385942c3c3c01d9a3a8",
       "version_major": 2,
       "version_minor": 0
      },
      "text/plain": [
       "0it [00:00, ?it/s]"
      ]
     },
     "metadata": {},
     "output_type": "display_data"
    },
    {
     "data": {
      "application/vnd.jupyter.widget-view+json": {
       "model_id": "2464455c1fc14b94b91b285400b36261",
       "version_major": 2,
       "version_minor": 0
      },
      "text/plain": [
       "0it [00:00, ?it/s]"
      ]
     },
     "metadata": {},
     "output_type": "display_data"
    },
    {
     "data": {
      "application/vnd.jupyter.widget-view+json": {
       "model_id": "cd7cec8f60654836880deb0597c4a882",
       "version_major": 2,
       "version_minor": 0
      },
      "text/plain": [
       "0it [00:00, ?it/s]"
      ]
     },
     "metadata": {},
     "output_type": "display_data"
    },
    {
     "data": {
      "application/vnd.jupyter.widget-view+json": {
       "model_id": "e650992038fc425abcc90359b53e6a9c",
       "version_major": 2,
       "version_minor": 0
      },
      "text/plain": [
       "0it [00:00, ?it/s]"
      ]
     },
     "metadata": {},
     "output_type": "display_data"
    },
    {
     "data": {
      "application/vnd.jupyter.widget-view+json": {
       "model_id": "d9d97e79b0e9462fba208066d572d83e",
       "version_major": 2,
       "version_minor": 0
      },
      "text/plain": [
       "0it [00:00, ?it/s]"
      ]
     },
     "metadata": {},
     "output_type": "display_data"
    },
    {
     "data": {
      "application/vnd.jupyter.widget-view+json": {
       "model_id": "b20fd09b6bb5405d84c36f53cd7483c9",
       "version_major": 2,
       "version_minor": 0
      },
      "text/plain": [
       "0it [00:00, ?it/s]"
      ]
     },
     "metadata": {},
     "output_type": "display_data"
    },
    {
     "data": {
      "application/vnd.jupyter.widget-view+json": {
       "model_id": "3de65d09c2654afd8a96c5f9982e64fc",
       "version_major": 2,
       "version_minor": 0
      },
      "text/plain": [
       "0it [00:00, ?it/s]"
      ]
     },
     "metadata": {},
     "output_type": "display_data"
    },
    {
     "data": {
      "application/vnd.jupyter.widget-view+json": {
       "model_id": "538da5556f944eec9b669d77a662c347",
       "version_major": 2,
       "version_minor": 0
      },
      "text/plain": [
       "0it [00:00, ?it/s]"
      ]
     },
     "metadata": {},
     "output_type": "display_data"
    },
    {
     "data": {
      "application/vnd.jupyter.widget-view+json": {
       "model_id": "173801e204c44a0fb23da37af91284d3",
       "version_major": 2,
       "version_minor": 0
      },
      "text/plain": [
       "0it [00:00, ?it/s]"
      ]
     },
     "metadata": {},
     "output_type": "display_data"
    },
    {
     "data": {
      "application/vnd.jupyter.widget-view+json": {
       "model_id": "0a2f01a9cc1b4a03aea4e01401f2b689",
       "version_major": 2,
       "version_minor": 0
      },
      "text/plain": [
       "0it [00:00, ?it/s]"
      ]
     },
     "metadata": {},
     "output_type": "display_data"
    },
    {
     "data": {
      "application/vnd.jupyter.widget-view+json": {
       "model_id": "91ce24246d3a4751b9e47a205c961e5e",
       "version_major": 2,
       "version_minor": 0
      },
      "text/plain": [
       "0it [00:00, ?it/s]"
      ]
     },
     "metadata": {},
     "output_type": "display_data"
    },
    {
     "data": {
      "application/vnd.jupyter.widget-view+json": {
       "model_id": "70e0365676a34a82a405b0131b685e45",
       "version_major": 2,
       "version_minor": 0
      },
      "text/plain": [
       "0it [00:00, ?it/s]"
      ]
     },
     "metadata": {},
     "output_type": "display_data"
    },
    {
     "data": {
      "application/vnd.jupyter.widget-view+json": {
       "model_id": "4bc5632cb51141ffbdea14cbcf433da6",
       "version_major": 2,
       "version_minor": 0
      },
      "text/plain": [
       "0it [00:00, ?it/s]"
      ]
     },
     "metadata": {},
     "output_type": "display_data"
    },
    {
     "data": {
      "application/vnd.jupyter.widget-view+json": {
       "model_id": "4190f58544d449d2af9b24268002fd53",
       "version_major": 2,
       "version_minor": 0
      },
      "text/plain": [
       "0it [00:00, ?it/s]"
      ]
     },
     "metadata": {},
     "output_type": "display_data"
    },
    {
     "data": {
      "application/vnd.jupyter.widget-view+json": {
       "model_id": "9e28e1d1ae8c4da5a50bd7e4549b2335",
       "version_major": 2,
       "version_minor": 0
      },
      "text/plain": [
       "0it [00:00, ?it/s]"
      ]
     },
     "metadata": {},
     "output_type": "display_data"
    },
    {
     "data": {
      "application/vnd.jupyter.widget-view+json": {
       "model_id": "028aede0ae724ae489f6873660486d35",
       "version_major": 2,
       "version_minor": 0
      },
      "text/plain": [
       "0it [00:00, ?it/s]"
      ]
     },
     "metadata": {},
     "output_type": "display_data"
    },
    {
     "data": {
      "application/vnd.jupyter.widget-view+json": {
       "model_id": "051f5d9293784b51b0c58f4363b4d999",
       "version_major": 2,
       "version_minor": 0
      },
      "text/plain": [
       "0it [00:00, ?it/s]"
      ]
     },
     "metadata": {},
     "output_type": "display_data"
    },
    {
     "data": {
      "application/vnd.jupyter.widget-view+json": {
       "model_id": "5b9bb37e05934964a3452be65bf36c2b",
       "version_major": 2,
       "version_minor": 0
      },
      "text/plain": [
       "0it [00:00, ?it/s]"
      ]
     },
     "metadata": {},
     "output_type": "display_data"
    },
    {
     "data": {
      "application/vnd.jupyter.widget-view+json": {
       "model_id": "97931388064f428389921ebffacc8793",
       "version_major": 2,
       "version_minor": 0
      },
      "text/plain": [
       "0it [00:00, ?it/s]"
      ]
     },
     "metadata": {},
     "output_type": "display_data"
    },
    {
     "data": {
      "application/vnd.jupyter.widget-view+json": {
       "model_id": "2ff0bea2dba242768f249ca7abba200a",
       "version_major": 2,
       "version_minor": 0
      },
      "text/plain": [
       "0it [00:00, ?it/s]"
      ]
     },
     "metadata": {},
     "output_type": "display_data"
    },
    {
     "data": {
      "application/vnd.jupyter.widget-view+json": {
       "model_id": "8216db349037454f9a72246c24c30fdc",
       "version_major": 2,
       "version_minor": 0
      },
      "text/plain": [
       "0it [00:00, ?it/s]"
      ]
     },
     "metadata": {},
     "output_type": "display_data"
    },
    {
     "data": {
      "application/vnd.jupyter.widget-view+json": {
       "model_id": "dc64f5a8d7734738893edf1732443d67",
       "version_major": 2,
       "version_minor": 0
      },
      "text/plain": [
       "0it [00:00, ?it/s]"
      ]
     },
     "metadata": {},
     "output_type": "display_data"
    },
    {
     "data": {
      "application/vnd.jupyter.widget-view+json": {
       "model_id": "6f3bed95da814e7a9c91fc23a5ae9a87",
       "version_major": 2,
       "version_minor": 0
      },
      "text/plain": [
       "0it [00:00, ?it/s]"
      ]
     },
     "metadata": {},
     "output_type": "display_data"
    },
    {
     "data": {
      "application/vnd.jupyter.widget-view+json": {
       "model_id": "70da3653650c48ecb35606712705fbd0",
       "version_major": 2,
       "version_minor": 0
      },
      "text/plain": [
       "0it [00:00, ?it/s]"
      ]
     },
     "metadata": {},
     "output_type": "display_data"
    },
    {
     "data": {
      "application/vnd.jupyter.widget-view+json": {
       "model_id": "f221e8b65c804eddbfd427d7bbdc733d",
       "version_major": 2,
       "version_minor": 0
      },
      "text/plain": [
       "0it [00:00, ?it/s]"
      ]
     },
     "metadata": {},
     "output_type": "display_data"
    },
    {
     "data": {
      "application/vnd.jupyter.widget-view+json": {
       "model_id": "3c439cc2d4ef4cc6ab48177196729484",
       "version_major": 2,
       "version_minor": 0
      },
      "text/plain": [
       "0it [00:00, ?it/s]"
      ]
     },
     "metadata": {},
     "output_type": "display_data"
    },
    {
     "data": {
      "application/vnd.jupyter.widget-view+json": {
       "model_id": "433f2721fedc42e6918e9c3ff35bc095",
       "version_major": 2,
       "version_minor": 0
      },
      "text/plain": [
       "0it [00:00, ?it/s]"
      ]
     },
     "metadata": {},
     "output_type": "display_data"
    },
    {
     "data": {
      "application/vnd.jupyter.widget-view+json": {
       "model_id": "ea8abcddf570421394179bab071c91e1",
       "version_major": 2,
       "version_minor": 0
      },
      "text/plain": [
       "0it [00:00, ?it/s]"
      ]
     },
     "metadata": {},
     "output_type": "display_data"
    },
    {
     "data": {
      "application/vnd.jupyter.widget-view+json": {
       "model_id": "ba79e4301725410297a1d90af5ca9bbd",
       "version_major": 2,
       "version_minor": 0
      },
      "text/plain": [
       "0it [00:00, ?it/s]"
      ]
     },
     "metadata": {},
     "output_type": "display_data"
    },
    {
     "data": {
      "application/vnd.jupyter.widget-view+json": {
       "model_id": "fe5b1fa0502e4389a84978b398653501",
       "version_major": 2,
       "version_minor": 0
      },
      "text/plain": [
       "0it [00:00, ?it/s]"
      ]
     },
     "metadata": {},
     "output_type": "display_data"
    },
    {
     "data": {
      "application/vnd.jupyter.widget-view+json": {
       "model_id": "c5e8b951d4d046e3837838490816a049",
       "version_major": 2,
       "version_minor": 0
      },
      "text/plain": [
       "0it [00:00, ?it/s]"
      ]
     },
     "metadata": {},
     "output_type": "display_data"
    },
    {
     "data": {
      "application/vnd.jupyter.widget-view+json": {
       "model_id": "84b0537c042c46fa958d749506d7810c",
       "version_major": 2,
       "version_minor": 0
      },
      "text/plain": [
       "0it [00:00, ?it/s]"
      ]
     },
     "metadata": {},
     "output_type": "display_data"
    },
    {
     "data": {
      "application/vnd.jupyter.widget-view+json": {
       "model_id": "da76e4554524489ea4866bf656a84402",
       "version_major": 2,
       "version_minor": 0
      },
      "text/plain": [
       "0it [00:00, ?it/s]"
      ]
     },
     "metadata": {},
     "output_type": "display_data"
    }
   ],
   "source": [
    "all_tickers_df_list = []\n",
    "for t in tqdm(all_tickers):\n",
    "    single_ticker_df = (df[df['Ticker_P1']==t] if t in df['Ticker_P1'].unique() else df[df['Ticker_P2']==t])\n",
    "    single_ticker_df = single_ticker_df.sort_values('Date')\n",
    "    single_ticker_df = single_ticker_df[['Date','Ticker_P1','Close_P1','High_P1','Low_P1','Volume_P1','SPY_Close']] if t in df['Ticker_P1'].unique() else\\\n",
    "                       single_ticker_df[['Date','Ticker_P2','Close_P2','High_P2','Low_P2','Volume_P2','SPY_Close']]\n",
    "    single_ticker_df.columns = ['Date','Ticker','Close','High','Low','Volume','SPY_Close']\n",
    "    single_ticker_df = single_ticker_df.drop_duplicates()\n",
    "\n",
    "    single_ticker_df['rolling_beta'] = single_ticker_df['Close'].rolling(300).progress_apply(compute_beta, \\\n",
    "                                        args=(single_ticker_df,'Close','SPY_Close'))\n",
    "\n",
    "    single_ticker_df_with_technical_indicators = fe_obj.generate_technical_indicator(single_ticker_df)\n",
    "\n",
    "    all_tickers_df_list.append(single_ticker_df_with_technical_indicators)\n"
   ]
  },
  {
   "cell_type": "code",
   "execution_count": 18,
   "id": "3117adab",
   "metadata": {},
   "outputs": [
    {
     "data": {
      "text/plain": [
       "(123186, 21)"
      ]
     },
     "execution_count": 18,
     "metadata": {},
     "output_type": "execute_result"
    }
   ],
   "source": [
    "all_tickers_df = pd.concat(all_tickers_df_list,axis=0,ignore_index=True).reset_index(drop=True)\n",
    "all_tickers_df.shape"
   ]
  },
  {
   "cell_type": "code",
   "execution_count": 19,
   "id": "d0d9e8d6",
   "metadata": {},
   "outputs": [],
   "source": [
    "df = df.reset_index(drop=True)"
   ]
  },
  {
   "cell_type": "code",
   "execution_count": 20,
   "id": "a07549c3",
   "metadata": {},
   "outputs": [
    {
     "name": "stdout",
     "output_type": "stream",
     "text": [
      "(1539825, 34)\n",
      "(1539825, 54)\n",
      "(1539825, 74)\n",
      "(1539825, 73)\n"
     ]
    }
   ],
   "source": [
    "print(df.shape)\n",
    "all_tickers_df_P1_suffix = all_tickers_df.copy()\n",
    "all_tickers_df_P1_suffix.columns = ['Date','Ticker']+[c+'_P1' for c in all_tickers_df.columns if c not in ['Date','Ticker']]\n",
    "all_tickers_df_P2_suffix = all_tickers_df.copy()\n",
    "all_tickers_df_P2_suffix.columns = ['Date','Ticker']+[c+'_P2' for c in all_tickers_df.columns if c not in ['Date','Ticker']]\n",
    "\n",
    "df = pd.merge(df,all_tickers_df_P1_suffix,left_on=['Date','Ticker_P1'],right_on=['Date','Ticker'],\\\n",
    "              how='left',suffixes=['','_P1']).drop_duplicates()\n",
    "print(df.shape)\n",
    "df = pd.merge(df,all_tickers_df_P2_suffix,left_on=['Date','Ticker_P2'],right_on=['Date','Ticker'],\\\n",
    "              how='left',suffixes=['','_P2']).drop_duplicates()\n",
    "print(df.shape)\n",
    "df = df.loc[:,~df.columns.duplicated()]\n",
    "print(df.shape)"
   ]
  },
  {
   "cell_type": "code",
   "execution_count": 21,
   "id": "c90482bc",
   "metadata": {},
   "outputs": [
    {
     "data": {
      "text/plain": [
       "153"
      ]
     },
     "execution_count": 21,
     "metadata": {},
     "output_type": "execute_result"
    }
   ],
   "source": [
    "del all_tickers_df_P1_suffix, all_tickers_df_P2_suffix\n",
    "gc.collect()"
   ]
  },
  {
   "cell_type": "markdown",
   "id": "13d295d3-247a-4621-9ccd-0ebabc393b22",
   "metadata": {},
   "source": [
    "### Future Spreads"
   ]
  },
  {
   "cell_type": "code",
   "execution_count": 22,
   "id": "e4d118f3",
   "metadata": {},
   "outputs": [],
   "source": [
    "df = df.drop('Ticker',axis=1)"
   ]
  },
  {
   "cell_type": "code",
   "execution_count": 23,
   "id": "e6aeba81-260d-4881-9129-ae638cb00f66",
   "metadata": {},
   "outputs": [],
   "source": [
    "for i in range(17,20):\n",
    "    df['FUTURE_abs_spread_longterm'+str(i)] = df.groupby(['Ticker_P1','Ticker_P2'])['abs_spread'].shift(-1*i)\n",
    "\n",
    "for i in range(1,3):\n",
    "    df['FUTURE_abs_spread_shortterm'+str(i)] = df.groupby(['Ticker_P1','Ticker_P2'])['abs_spread'].shift(-1*i)\n",
    "    \n",
    "df['FUTURE_abs_spread_avg_longterm'] = df[[c for c in df.columns if 'FUTURE_abs_spread_longterm' in c]].mean(axis=1)\n",
    "df['FUTURE_abs_spread_avg_shortterm'] = df[[c for c in df.columns if 'FUTURE_abs_spread_shortterm' in c]].mean(axis=1)"
   ]
  },
  {
   "cell_type": "markdown",
   "id": "67972229",
   "metadata": {},
   "source": [
    "### Prev Values"
   ]
  },
  {
   "cell_type": "code",
   "execution_count": 24,
   "id": "f499a055",
   "metadata": {},
   "outputs": [],
   "source": [
    "df = df.sort_values('Date')"
   ]
  },
  {
   "cell_type": "code",
   "execution_count": 25,
   "id": "bc028956",
   "metadata": {},
   "outputs": [],
   "source": [
    "df['PREV_num_entries'] = df.groupby(['Ticker_P1','Ticker_P2']).num_entries.shift(21)\n",
    "df['PREV_pnls'] = df.groupby(['Ticker_P1','Ticker_P2']).pnls.shift(21)"
   ]
  },
  {
   "cell_type": "markdown",
   "id": "d0b40577",
   "metadata": {},
   "source": [
    "# Trim head and tail days"
   ]
  },
  {
   "cell_type": "code",
   "execution_count": 26,
   "id": "d012b0d5",
   "metadata": {},
   "outputs": [
    {
     "name": "stdout",
     "output_type": "stream",
     "text": [
      "(1539825, 81)\n",
      "(1171100, 81)\n",
      "(1145375, 81)\n"
     ]
    }
   ],
   "source": [
    "print(df.shape)\n",
    "df = df.drop(df.groupby(['Ticker_P1','Ticker_P2']).head(301).index,axis=0)\n",
    "print(df.shape)\n",
    "df = df.drop(df.groupby(['Ticker_P1','Ticker_P2']).tail(21).index,axis=0)\n",
    "print(df.shape)"
   ]
  },
  {
   "cell_type": "markdown",
   "id": "57d5a459",
   "metadata": {},
   "source": [
    "## Diff Values"
   ]
  },
  {
   "cell_type": "code",
   "execution_count": 27,
   "id": "368fbfef",
   "metadata": {},
   "outputs": [],
   "source": [
    "for c in ['Close', 'High', 'Low', 'Volume', 'rolling_beta', 'rsi', 'kama',\n",
    "       'adi', 'vpt', 'atr', 'bb_ma', 'adx', 'ema', 'macd', 'dlr',\n",
    "       'daily_returns', '50 Days Average', '200 Days Average']:\n",
    "# ,\n",
    "#        'sector_rolling_beta_mean', 'sector_rolling_beta_std',\n",
    "#        'sector_daily_return_mean', 'sector_daily_return_std']:\n",
    "    df['DIFF_'+c] = df[c+'_P1'] - df[c+'_P2']"
   ]
  },
  {
   "cell_type": "code",
   "execution_count": 28,
   "id": "94416b24",
   "metadata": {},
   "outputs": [],
   "source": [
    "df['DIFF_abs_spread_mean_l20_500'] = df['abs_spread_mean_l20'] - df['abs_spread_mean']"
   ]
  },
  {
   "cell_type": "code",
   "execution_count": 29,
   "id": "181fb341",
   "metadata": {},
   "outputs": [
    {
     "data": {
      "text/plain": [
       "days_till_first_entry          0.408\n",
       "abs_spread_normed_median       0.318\n",
       "abs_spread_normed_max          0.318\n",
       "abs_spread_normed_90th         0.318\n",
       "abs_spread_normed_75th         0.318\n",
       "PREV_num_entries               0.021\n",
       "PREV_pnls                      0.021\n",
       "abs_spread_normed_l14_avg      0.012\n",
       "abs_spread_normed_l7_avg       0.004\n",
       "DIFF_adi                       0.000\n",
       "adi_P2                         0.000\n",
       "adi_P1                         0.000\n",
       "daily_returns_P2               0.000\n",
       "200 Days Average_P2            0.000\n",
       "FUTURE_abs_spread_longterm17   0.000\n",
       "FUTURE_abs_spread_longterm18   0.000\n",
       "50 Days Average_P2             0.000\n",
       "macd_P2                        0.000\n",
       "dlr_P2                         0.000\n",
       "FUTURE_abs_spread_shortterm1   0.000\n",
       "dtype: float64"
      ]
     },
     "execution_count": 29,
     "metadata": {},
     "output_type": "execute_result"
    }
   ],
   "source": [
    "df.isna().sum().sort_values(ascending=False).head(20)/df.shape[0]"
   ]
  },
  {
   "cell_type": "code",
   "execution_count": 30,
   "id": "761ef82b",
   "metadata": {},
   "outputs": [],
   "source": [
    "# stop"
   ]
  },
  {
   "cell_type": "markdown",
   "id": "8f1fe874-f4c8-43db-abd0-cb4ba7f3c717",
   "metadata": {},
   "source": [
    "# Pre_processing"
   ]
  },
  {
   "cell_type": "markdown",
   "id": "3883d857-1fd6-42c3-a0c4-767649a0efe2",
   "metadata": {},
   "source": [
    "## Create additional labels"
   ]
  },
  {
   "cell_type": "code",
   "execution_count": 31,
   "id": "c7ee0126-f28f-4208-96f5-b0498101086b",
   "metadata": {},
   "outputs": [],
   "source": [
    "# Correct the labels\n",
    "df.both_legs_profited = df.both_legs_profited=='True'\n",
    "\n",
    "df['direction_longterm_entry'] = np.where((df['FUTURE_abs_spread_avg_longterm'] - (df['abs_spread_mean']+1.5*df['abs_spread_std']))>0,1,0)\n",
    "df['direction_longterm_exit'] = np.where((df['FUTURE_abs_spread_avg_longterm'] - (df['abs_spread_mean']+0.1*df['abs_spread_std']))<0,1,0)\n",
    "\n",
    "df['direction_shortterm_entry'] = np.where((df['FUTURE_abs_spread_avg_shortterm'] - (df['abs_spread_mean']+1.5*df['abs_spread_std']))>0,1,0)\n",
    "df['direction_shortterm_exit'] = np.where((df['FUTURE_abs_spread_avg_shortterm'] - (df['abs_spread_mean']+0.1*df['abs_spread_std']))<0,1,0)"
   ]
  },
  {
   "cell_type": "markdown",
   "id": "2fe97206-65fe-4370-a2a0-592e7d1cbc62",
   "metadata": {},
   "source": [
    "## Removing NAs after determining features to keep"
   ]
  },
  {
   "cell_type": "code",
   "execution_count": 32,
   "id": "2573e488-4221-40b0-9ad9-416055734209",
   "metadata": {},
   "outputs": [],
   "source": [
    "features = ['Close_P1', 'Close_P2', 'High_P1',\n",
    "       'High_P2', 'Low_P1', 'Low_P2', 'Volume_P1', 'Volume_P2', 'abs_spread',\n",
    "       'same_sector_flag', 'same_sub_industry_flag', 'abs_spread_mean',\n",
    "       'abs_spread_std', 'abs_spread_mean_l20', 'abs_spread_std_l20',\n",
    "       'spread_normed', 'abs_spread_normed_max', 'abs_spread_normed_90th',\n",
    "       'abs_spread_normed_75th', 'abs_spread_normed_median',\n",
    "       'abs_spread_normed_l7_avg', 'abs_spread_normed_l14_avg', 'cos_sim',\n",
    "       # 'corr_coef_l5', 'corr_coef_l10', 'corr_coef_l15', 'corr_coef_l20',\n",
    "       # 'corr_coef_l40', 'corr_coef_l60', \n",
    "       'corr_coef',\n",
    "       'rolling_beta_P1',\n",
    "       'rsi_P1', 'kama_P1', 'adi_P1', 'vpt_P1', 'atr_P1', 'bb_ma_P1', 'adx_P1',\n",
    "       'ema_P1', 'macd_P1', 'dlr_P1', 'daily_returns_P1', '50 Days Average_P1',\n",
    "       '200 Days Average_P1', 'rolling_beta_P2', 'rsi_P2', 'kama_P2',\n",
    "       'adi_P2', 'vpt_P2', 'atr_P2', 'bb_ma_P2', 'adx_P2', 'ema_P2', 'macd_P2',\n",
    "       'dlr_P2', 'daily_returns_P2', '50 Days Average_P2',\n",
    "       '200 Days Average_P2', 'PREV_num_entries', 'PREV_pnls', 'DIFF_Close',\n",
    "       'DIFF_High', 'DIFF_Low', 'DIFF_Volume', 'DIFF_rolling_beta', 'DIFF_rsi',\n",
    "       'DIFF_kama', 'DIFF_adi', 'DIFF_vpt', 'DIFF_atr', 'DIFF_bb_ma',\n",
    "       'DIFF_adx', 'DIFF_ema', 'DIFF_macd', 'DIFF_dlr', 'DIFF_daily_returns',\n",
    "       'DIFF_50 Days Average', 'DIFF_200 Days Average',\n",
    "       'DIFF_abs_spread_mean_l20_500']\n",
    "\n",
    "labels = ['direction_shortterm_entry', 'direction_longterm_exit']"
   ]
  },
  {
   "cell_type": "code",
   "execution_count": 63,
   "id": "0d413628-690c-432d-94cd-346effd1b7a3",
   "metadata": {},
   "outputs": [
    {
     "name": "stdout",
     "output_type": "stream",
     "text": [
      "(750192, 104)\n",
      "(750192, 104)\n"
     ]
    }
   ],
   "source": [
    "print(df.shape)\n",
    "df.replace([np.inf, -np.inf], np.nan, inplace=True)\n",
    "df = df.dropna(subset=features+labels)\n",
    "print(df.shape)\n",
    "\n",
    "\n",
    "# df.to_csv('Data//transformed_data.csv', index=False) \n",
    "\n",
    "# X = df[features]\n",
    "# y = df['direction_shortterm_entry']\n",
    "\n",
    "# X_train, X_test, y_train, y_test = train_test_split(X, y, test_size=0.2, random_state=42,shuffle=False)\n",
    "# X_val, X_test, y_val, y_test = train_test_split(X_test, y_test, test_size=0.5, random_state=42,shuffle=False)\n",
    "\n",
    "# # Get X test parameters for MVP\n",
    "# X_test.to_csv('Data//Testhack-DATA-xtest-input.csv', index=False) "
   ]
  },
  {
   "cell_type": "markdown",
   "id": "a25217b0-8258-4194-99dc-dbaed842db12",
   "metadata": {},
   "source": [
    "# Modeling - short term entry"
   ]
  },
  {
   "cell_type": "markdown",
   "id": "37edade9",
   "metadata": {},
   "source": [
    "## Train test split"
   ]
  },
  {
   "cell_type": "code",
   "execution_count": 34,
   "id": "b6927d9e-d3f2-42ad-8d38-a3b88e8d3318",
   "metadata": {},
   "outputs": [],
   "source": [
    "X = df[features]\n",
    "y = df['direction_shortterm_entry']\n",
    "\n",
    "X_train, X_test, y_train, y_test = train_test_split(X, y, test_size=0.2, random_state=42,shuffle=False)\n",
    "X_val, X_test, y_val, y_test = train_test_split(X_test, y_test, test_size=0.5, random_state=42,shuffle=False)"
   ]
  },
  {
   "cell_type": "code",
   "execution_count": 35,
   "id": "bdfc0542",
   "metadata": {},
   "outputs": [
    {
     "name": "stdout",
     "output_type": "stream",
     "text": [
      "2019-05-30 2019-08-29\n",
      "2017-05-18 2019-05-30\n",
      "2019-08-29 2019-11-27\n"
     ]
    }
   ],
   "source": [
    "print(df.loc[X_val.index].Date.min(),df.loc[X_val.index].Date.max())\n",
    "print(df.loc[X_train.index].Date.min(),df.loc[X_train.index].Date.max())\n",
    "print(df.loc[X_test.index].Date.min(),df.loc[X_test.index].Date.max())"
   ]
  },
  {
   "cell_type": "code",
   "execution_count": 36,
   "id": "b10a6909",
   "metadata": {},
   "outputs": [
    {
     "name": "stdout",
     "output_type": "stream",
     "text": [
      "(600153, 73)\n",
      "(75019, 73)\n",
      "(75020, 73)\n"
     ]
    }
   ],
   "source": [
    "print(X_train.shape)\n",
    "print(X_val.shape)\n",
    "print(X_test.shape)"
   ]
  },
  {
   "cell_type": "code",
   "execution_count": 37,
   "id": "68ecc4e1",
   "metadata": {},
   "outputs": [
    {
     "data": {
      "text/plain": [
       "direction_shortterm_entry\n",
       "0    433629\n",
       "1    166524\n",
       "Name: count, dtype: int64"
      ]
     },
     "execution_count": 37,
     "metadata": {},
     "output_type": "execute_result"
    }
   ],
   "source": [
    "y_train.value_counts()"
   ]
  },
  {
   "cell_type": "code",
   "execution_count": 38,
   "id": "2b2bc491",
   "metadata": {},
   "outputs": [
    {
     "data": {
      "text/plain": [
       "direction_shortterm_entry\n",
       "0    54481\n",
       "1    20538\n",
       "Name: count, dtype: int64"
      ]
     },
     "execution_count": 38,
     "metadata": {},
     "output_type": "execute_result"
    }
   ],
   "source": [
    "y_val.value_counts()"
   ]
  },
  {
   "cell_type": "code",
   "execution_count": 39,
   "id": "98f9860e",
   "metadata": {},
   "outputs": [
    {
     "data": {
      "text/plain": [
       "direction_shortterm_entry\n",
       "0    51618\n",
       "1    23402\n",
       "Name: count, dtype: int64"
      ]
     },
     "execution_count": 39,
     "metadata": {},
     "output_type": "execute_result"
    }
   ],
   "source": [
    "y_test.value_counts()"
   ]
  },
  {
   "cell_type": "code",
   "execution_count": 40,
   "id": "4780f13a-4dfd-4463-a239-1c0ffee4bf25",
   "metadata": {},
   "outputs": [
    {
     "data": {
      "text/plain": [
       "0.31194348173820313"
      ]
     },
     "execution_count": 40,
     "metadata": {},
     "output_type": "execute_result"
    }
   ],
   "source": [
    "y_test.mean()"
   ]
  },
  {
   "cell_type": "code",
   "execution_count": 41,
   "id": "ef8d5e69",
   "metadata": {},
   "outputs": [],
   "source": [
    "undersample = RandomUnderSampler(sampling_strategy='majority')\n",
    "X_train, y_train = undersample.fit_resample(X_train, y_train)"
   ]
  },
  {
   "cell_type": "markdown",
   "id": "439ff5b1-a614-4301-b656-be3fe20879a0",
   "metadata": {},
   "source": [
    "## XGBoost Classification"
   ]
  },
  {
   "cell_type": "code",
   "execution_count": 42,
   "id": "a853398b-133a-4ec3-a931-d7904a608730",
   "metadata": {},
   "outputs": [
    {
     "data": {
      "text/html": [
       "<style>#sk-container-id-1 {\n",
       "  /* Definition of color scheme common for light and dark mode */\n",
       "  --sklearn-color-text: black;\n",
       "  --sklearn-color-line: gray;\n",
       "  /* Definition of color scheme for unfitted estimators */\n",
       "  --sklearn-color-unfitted-level-0: #fff5e6;\n",
       "  --sklearn-color-unfitted-level-1: #f6e4d2;\n",
       "  --sklearn-color-unfitted-level-2: #ffe0b3;\n",
       "  --sklearn-color-unfitted-level-3: chocolate;\n",
       "  /* Definition of color scheme for fitted estimators */\n",
       "  --sklearn-color-fitted-level-0: #f0f8ff;\n",
       "  --sklearn-color-fitted-level-1: #d4ebff;\n",
       "  --sklearn-color-fitted-level-2: #b3dbfd;\n",
       "  --sklearn-color-fitted-level-3: cornflowerblue;\n",
       "\n",
       "  /* Specific color for light theme */\n",
       "  --sklearn-color-text-on-default-background: var(--sg-text-color, var(--theme-code-foreground, var(--jp-content-font-color1, black)));\n",
       "  --sklearn-color-background: var(--sg-background-color, var(--theme-background, var(--jp-layout-color0, white)));\n",
       "  --sklearn-color-border-box: var(--sg-text-color, var(--theme-code-foreground, var(--jp-content-font-color1, black)));\n",
       "  --sklearn-color-icon: #696969;\n",
       "\n",
       "  @media (prefers-color-scheme: dark) {\n",
       "    /* Redefinition of color scheme for dark theme */\n",
       "    --sklearn-color-text-on-default-background: var(--sg-text-color, var(--theme-code-foreground, var(--jp-content-font-color1, white)));\n",
       "    --sklearn-color-background: var(--sg-background-color, var(--theme-background, var(--jp-layout-color0, #111)));\n",
       "    --sklearn-color-border-box: var(--sg-text-color, var(--theme-code-foreground, var(--jp-content-font-color1, white)));\n",
       "    --sklearn-color-icon: #878787;\n",
       "  }\n",
       "}\n",
       "\n",
       "#sk-container-id-1 {\n",
       "  color: var(--sklearn-color-text);\n",
       "}\n",
       "\n",
       "#sk-container-id-1 pre {\n",
       "  padding: 0;\n",
       "}\n",
       "\n",
       "#sk-container-id-1 input.sk-hidden--visually {\n",
       "  border: 0;\n",
       "  clip: rect(1px 1px 1px 1px);\n",
       "  clip: rect(1px, 1px, 1px, 1px);\n",
       "  height: 1px;\n",
       "  margin: -1px;\n",
       "  overflow: hidden;\n",
       "  padding: 0;\n",
       "  position: absolute;\n",
       "  width: 1px;\n",
       "}\n",
       "\n",
       "#sk-container-id-1 div.sk-dashed-wrapped {\n",
       "  border: 1px dashed var(--sklearn-color-line);\n",
       "  margin: 0 0.4em 0.5em 0.4em;\n",
       "  box-sizing: border-box;\n",
       "  padding-bottom: 0.4em;\n",
       "  background-color: var(--sklearn-color-background);\n",
       "}\n",
       "\n",
       "#sk-container-id-1 div.sk-container {\n",
       "  /* jupyter's `normalize.less` sets `[hidden] { display: none; }`\n",
       "     but bootstrap.min.css set `[hidden] { display: none !important; }`\n",
       "     so we also need the `!important` here to be able to override the\n",
       "     default hidden behavior on the sphinx rendered scikit-learn.org.\n",
       "     See: https://github.com/scikit-learn/scikit-learn/issues/21755 */\n",
       "  display: inline-block !important;\n",
       "  position: relative;\n",
       "}\n",
       "\n",
       "#sk-container-id-1 div.sk-text-repr-fallback {\n",
       "  display: none;\n",
       "}\n",
       "\n",
       "div.sk-parallel-item,\n",
       "div.sk-serial,\n",
       "div.sk-item {\n",
       "  /* draw centered vertical line to link estimators */\n",
       "  background-image: linear-gradient(var(--sklearn-color-text-on-default-background), var(--sklearn-color-text-on-default-background));\n",
       "  background-size: 2px 100%;\n",
       "  background-repeat: no-repeat;\n",
       "  background-position: center center;\n",
       "}\n",
       "\n",
       "/* Parallel-specific style estimator block */\n",
       "\n",
       "#sk-container-id-1 div.sk-parallel-item::after {\n",
       "  content: \"\";\n",
       "  width: 100%;\n",
       "  border-bottom: 2px solid var(--sklearn-color-text-on-default-background);\n",
       "  flex-grow: 1;\n",
       "}\n",
       "\n",
       "#sk-container-id-1 div.sk-parallel {\n",
       "  display: flex;\n",
       "  align-items: stretch;\n",
       "  justify-content: center;\n",
       "  background-color: var(--sklearn-color-background);\n",
       "  position: relative;\n",
       "}\n",
       "\n",
       "#sk-container-id-1 div.sk-parallel-item {\n",
       "  display: flex;\n",
       "  flex-direction: column;\n",
       "}\n",
       "\n",
       "#sk-container-id-1 div.sk-parallel-item:first-child::after {\n",
       "  align-self: flex-end;\n",
       "  width: 50%;\n",
       "}\n",
       "\n",
       "#sk-container-id-1 div.sk-parallel-item:last-child::after {\n",
       "  align-self: flex-start;\n",
       "  width: 50%;\n",
       "}\n",
       "\n",
       "#sk-container-id-1 div.sk-parallel-item:only-child::after {\n",
       "  width: 0;\n",
       "}\n",
       "\n",
       "/* Serial-specific style estimator block */\n",
       "\n",
       "#sk-container-id-1 div.sk-serial {\n",
       "  display: flex;\n",
       "  flex-direction: column;\n",
       "  align-items: center;\n",
       "  background-color: var(--sklearn-color-background);\n",
       "  padding-right: 1em;\n",
       "  padding-left: 1em;\n",
       "}\n",
       "\n",
       "\n",
       "/* Toggleable style: style used for estimator/Pipeline/ColumnTransformer box that is\n",
       "clickable and can be expanded/collapsed.\n",
       "- Pipeline and ColumnTransformer use this feature and define the default style\n",
       "- Estimators will overwrite some part of the style using the `sk-estimator` class\n",
       "*/\n",
       "\n",
       "/* Pipeline and ColumnTransformer style (default) */\n",
       "\n",
       "#sk-container-id-1 div.sk-toggleable {\n",
       "  /* Default theme specific background. It is overwritten whether we have a\n",
       "  specific estimator or a Pipeline/ColumnTransformer */\n",
       "  background-color: var(--sklearn-color-background);\n",
       "}\n",
       "\n",
       "/* Toggleable label */\n",
       "#sk-container-id-1 label.sk-toggleable__label {\n",
       "  cursor: pointer;\n",
       "  display: block;\n",
       "  width: 100%;\n",
       "  margin-bottom: 0;\n",
       "  padding: 0.5em;\n",
       "  box-sizing: border-box;\n",
       "  text-align: center;\n",
       "}\n",
       "\n",
       "#sk-container-id-1 label.sk-toggleable__label-arrow:before {\n",
       "  /* Arrow on the left of the label */\n",
       "  content: \"▸\";\n",
       "  float: left;\n",
       "  margin-right: 0.25em;\n",
       "  color: var(--sklearn-color-icon);\n",
       "}\n",
       "\n",
       "#sk-container-id-1 label.sk-toggleable__label-arrow:hover:before {\n",
       "  color: var(--sklearn-color-text);\n",
       "}\n",
       "\n",
       "/* Toggleable content - dropdown */\n",
       "\n",
       "#sk-container-id-1 div.sk-toggleable__content {\n",
       "  max-height: 0;\n",
       "  max-width: 0;\n",
       "  overflow: hidden;\n",
       "  text-align: left;\n",
       "  /* unfitted */\n",
       "  background-color: var(--sklearn-color-unfitted-level-0);\n",
       "}\n",
       "\n",
       "#sk-container-id-1 div.sk-toggleable__content.fitted {\n",
       "  /* fitted */\n",
       "  background-color: var(--sklearn-color-fitted-level-0);\n",
       "}\n",
       "\n",
       "#sk-container-id-1 div.sk-toggleable__content pre {\n",
       "  margin: 0.2em;\n",
       "  border-radius: 0.25em;\n",
       "  color: var(--sklearn-color-text);\n",
       "  /* unfitted */\n",
       "  background-color: var(--sklearn-color-unfitted-level-0);\n",
       "}\n",
       "\n",
       "#sk-container-id-1 div.sk-toggleable__content.fitted pre {\n",
       "  /* unfitted */\n",
       "  background-color: var(--sklearn-color-fitted-level-0);\n",
       "}\n",
       "\n",
       "#sk-container-id-1 input.sk-toggleable__control:checked~div.sk-toggleable__content {\n",
       "  /* Expand drop-down */\n",
       "  max-height: 200px;\n",
       "  max-width: 100%;\n",
       "  overflow: auto;\n",
       "}\n",
       "\n",
       "#sk-container-id-1 input.sk-toggleable__control:checked~label.sk-toggleable__label-arrow:before {\n",
       "  content: \"▾\";\n",
       "}\n",
       "\n",
       "/* Pipeline/ColumnTransformer-specific style */\n",
       "\n",
       "#sk-container-id-1 div.sk-label input.sk-toggleable__control:checked~label.sk-toggleable__label {\n",
       "  color: var(--sklearn-color-text);\n",
       "  background-color: var(--sklearn-color-unfitted-level-2);\n",
       "}\n",
       "\n",
       "#sk-container-id-1 div.sk-label.fitted input.sk-toggleable__control:checked~label.sk-toggleable__label {\n",
       "  background-color: var(--sklearn-color-fitted-level-2);\n",
       "}\n",
       "\n",
       "/* Estimator-specific style */\n",
       "\n",
       "/* Colorize estimator box */\n",
       "#sk-container-id-1 div.sk-estimator input.sk-toggleable__control:checked~label.sk-toggleable__label {\n",
       "  /* unfitted */\n",
       "  background-color: var(--sklearn-color-unfitted-level-2);\n",
       "}\n",
       "\n",
       "#sk-container-id-1 div.sk-estimator.fitted input.sk-toggleable__control:checked~label.sk-toggleable__label {\n",
       "  /* fitted */\n",
       "  background-color: var(--sklearn-color-fitted-level-2);\n",
       "}\n",
       "\n",
       "#sk-container-id-1 div.sk-label label.sk-toggleable__label,\n",
       "#sk-container-id-1 div.sk-label label {\n",
       "  /* The background is the default theme color */\n",
       "  color: var(--sklearn-color-text-on-default-background);\n",
       "}\n",
       "\n",
       "/* On hover, darken the color of the background */\n",
       "#sk-container-id-1 div.sk-label:hover label.sk-toggleable__label {\n",
       "  color: var(--sklearn-color-text);\n",
       "  background-color: var(--sklearn-color-unfitted-level-2);\n",
       "}\n",
       "\n",
       "/* Label box, darken color on hover, fitted */\n",
       "#sk-container-id-1 div.sk-label.fitted:hover label.sk-toggleable__label.fitted {\n",
       "  color: var(--sklearn-color-text);\n",
       "  background-color: var(--sklearn-color-fitted-level-2);\n",
       "}\n",
       "\n",
       "/* Estimator label */\n",
       "\n",
       "#sk-container-id-1 div.sk-label label {\n",
       "  font-family: monospace;\n",
       "  font-weight: bold;\n",
       "  display: inline-block;\n",
       "  line-height: 1.2em;\n",
       "}\n",
       "\n",
       "#sk-container-id-1 div.sk-label-container {\n",
       "  text-align: center;\n",
       "}\n",
       "\n",
       "/* Estimator-specific */\n",
       "#sk-container-id-1 div.sk-estimator {\n",
       "  font-family: monospace;\n",
       "  border: 1px dotted var(--sklearn-color-border-box);\n",
       "  border-radius: 0.25em;\n",
       "  box-sizing: border-box;\n",
       "  margin-bottom: 0.5em;\n",
       "  /* unfitted */\n",
       "  background-color: var(--sklearn-color-unfitted-level-0);\n",
       "}\n",
       "\n",
       "#sk-container-id-1 div.sk-estimator.fitted {\n",
       "  /* fitted */\n",
       "  background-color: var(--sklearn-color-fitted-level-0);\n",
       "}\n",
       "\n",
       "/* on hover */\n",
       "#sk-container-id-1 div.sk-estimator:hover {\n",
       "  /* unfitted */\n",
       "  background-color: var(--sklearn-color-unfitted-level-2);\n",
       "}\n",
       "\n",
       "#sk-container-id-1 div.sk-estimator.fitted:hover {\n",
       "  /* fitted */\n",
       "  background-color: var(--sklearn-color-fitted-level-2);\n",
       "}\n",
       "\n",
       "/* Specification for estimator info (e.g. \"i\" and \"?\") */\n",
       "\n",
       "/* Common style for \"i\" and \"?\" */\n",
       "\n",
       ".sk-estimator-doc-link,\n",
       "a:link.sk-estimator-doc-link,\n",
       "a:visited.sk-estimator-doc-link {\n",
       "  float: right;\n",
       "  font-size: smaller;\n",
       "  line-height: 1em;\n",
       "  font-family: monospace;\n",
       "  background-color: var(--sklearn-color-background);\n",
       "  border-radius: 1em;\n",
       "  height: 1em;\n",
       "  width: 1em;\n",
       "  text-decoration: none !important;\n",
       "  margin-left: 1ex;\n",
       "  /* unfitted */\n",
       "  border: var(--sklearn-color-unfitted-level-1) 1pt solid;\n",
       "  color: var(--sklearn-color-unfitted-level-1);\n",
       "}\n",
       "\n",
       ".sk-estimator-doc-link.fitted,\n",
       "a:link.sk-estimator-doc-link.fitted,\n",
       "a:visited.sk-estimator-doc-link.fitted {\n",
       "  /* fitted */\n",
       "  border: var(--sklearn-color-fitted-level-1) 1pt solid;\n",
       "  color: var(--sklearn-color-fitted-level-1);\n",
       "}\n",
       "\n",
       "/* On hover */\n",
       "div.sk-estimator:hover .sk-estimator-doc-link:hover,\n",
       ".sk-estimator-doc-link:hover,\n",
       "div.sk-label-container:hover .sk-estimator-doc-link:hover,\n",
       ".sk-estimator-doc-link:hover {\n",
       "  /* unfitted */\n",
       "  background-color: var(--sklearn-color-unfitted-level-3);\n",
       "  color: var(--sklearn-color-background);\n",
       "  text-decoration: none;\n",
       "}\n",
       "\n",
       "div.sk-estimator.fitted:hover .sk-estimator-doc-link.fitted:hover,\n",
       ".sk-estimator-doc-link.fitted:hover,\n",
       "div.sk-label-container:hover .sk-estimator-doc-link.fitted:hover,\n",
       ".sk-estimator-doc-link.fitted:hover {\n",
       "  /* fitted */\n",
       "  background-color: var(--sklearn-color-fitted-level-3);\n",
       "  color: var(--sklearn-color-background);\n",
       "  text-decoration: none;\n",
       "}\n",
       "\n",
       "/* Span, style for the box shown on hovering the info icon */\n",
       ".sk-estimator-doc-link span {\n",
       "  display: none;\n",
       "  z-index: 9999;\n",
       "  position: relative;\n",
       "  font-weight: normal;\n",
       "  right: .2ex;\n",
       "  padding: .5ex;\n",
       "  margin: .5ex;\n",
       "  width: min-content;\n",
       "  min-width: 20ex;\n",
       "  max-width: 50ex;\n",
       "  color: var(--sklearn-color-text);\n",
       "  box-shadow: 2pt 2pt 4pt #999;\n",
       "  /* unfitted */\n",
       "  background: var(--sklearn-color-unfitted-level-0);\n",
       "  border: .5pt solid var(--sklearn-color-unfitted-level-3);\n",
       "}\n",
       "\n",
       ".sk-estimator-doc-link.fitted span {\n",
       "  /* fitted */\n",
       "  background: var(--sklearn-color-fitted-level-0);\n",
       "  border: var(--sklearn-color-fitted-level-3);\n",
       "}\n",
       "\n",
       ".sk-estimator-doc-link:hover span {\n",
       "  display: block;\n",
       "}\n",
       "\n",
       "/* \"?\"-specific style due to the `<a>` HTML tag */\n",
       "\n",
       "#sk-container-id-1 a.estimator_doc_link {\n",
       "  float: right;\n",
       "  font-size: 1rem;\n",
       "  line-height: 1em;\n",
       "  font-family: monospace;\n",
       "  background-color: var(--sklearn-color-background);\n",
       "  border-radius: 1rem;\n",
       "  height: 1rem;\n",
       "  width: 1rem;\n",
       "  text-decoration: none;\n",
       "  /* unfitted */\n",
       "  color: var(--sklearn-color-unfitted-level-1);\n",
       "  border: var(--sklearn-color-unfitted-level-1) 1pt solid;\n",
       "}\n",
       "\n",
       "#sk-container-id-1 a.estimator_doc_link.fitted {\n",
       "  /* fitted */\n",
       "  border: var(--sklearn-color-fitted-level-1) 1pt solid;\n",
       "  color: var(--sklearn-color-fitted-level-1);\n",
       "}\n",
       "\n",
       "/* On hover */\n",
       "#sk-container-id-1 a.estimator_doc_link:hover {\n",
       "  /* unfitted */\n",
       "  background-color: var(--sklearn-color-unfitted-level-3);\n",
       "  color: var(--sklearn-color-background);\n",
       "  text-decoration: none;\n",
       "}\n",
       "\n",
       "#sk-container-id-1 a.estimator_doc_link.fitted:hover {\n",
       "  /* fitted */\n",
       "  background-color: var(--sklearn-color-fitted-level-3);\n",
       "}\n",
       "</style><div id=\"sk-container-id-1\" class=\"sk-top-container\"><div class=\"sk-text-repr-fallback\"><pre>XGBClassifier(base_score=None, booster=None, callbacks=None,\n",
       "              colsample_bylevel=None, colsample_bynode=None,\n",
       "              colsample_bytree=None, device=None, early_stopping_rounds=None,\n",
       "              enable_categorical=False, eval_metric=None, feature_types=None,\n",
       "              gamma=None, grow_policy=None, importance_type=None,\n",
       "              interaction_constraints=None, learning_rate=0.3, max_bin=None,\n",
       "              max_cat_threshold=None, max_cat_to_onehot=None,\n",
       "              max_delta_step=None, max_depth=6, max_leaves=None,\n",
       "              min_child_weight=None, missing=nan, monotone_constraints=None,\n",
       "              multi_strategy=None, n_estimators=1000, n_jobs=None,\n",
       "              num_parallel_tree=None, random_state=None, ...)</pre><b>In a Jupyter environment, please rerun this cell to show the HTML representation or trust the notebook. <br />On GitHub, the HTML representation is unable to render, please try loading this page with nbviewer.org.</b></div><div class=\"sk-container\" hidden><div class=\"sk-item\"><div class=\"sk-estimator fitted sk-toggleable\"><input class=\"sk-toggleable__control sk-hidden--visually\" id=\"sk-estimator-id-1\" type=\"checkbox\" checked><label for=\"sk-estimator-id-1\" class=\"sk-toggleable__label fitted sk-toggleable__label-arrow fitted\">&nbsp;XGBClassifier<span class=\"sk-estimator-doc-link fitted\">i<span>Fitted</span></span></label><div class=\"sk-toggleable__content fitted\"><pre>XGBClassifier(base_score=None, booster=None, callbacks=None,\n",
       "              colsample_bylevel=None, colsample_bynode=None,\n",
       "              colsample_bytree=None, device=None, early_stopping_rounds=None,\n",
       "              enable_categorical=False, eval_metric=None, feature_types=None,\n",
       "              gamma=None, grow_policy=None, importance_type=None,\n",
       "              interaction_constraints=None, learning_rate=0.3, max_bin=None,\n",
       "              max_cat_threshold=None, max_cat_to_onehot=None,\n",
       "              max_delta_step=None, max_depth=6, max_leaves=None,\n",
       "              min_child_weight=None, missing=nan, monotone_constraints=None,\n",
       "              multi_strategy=None, n_estimators=1000, n_jobs=None,\n",
       "              num_parallel_tree=None, random_state=None, ...)</pre></div> </div></div></div></div>"
      ],
      "text/plain": [
       "XGBClassifier(base_score=None, booster=None, callbacks=None,\n",
       "              colsample_bylevel=None, colsample_bynode=None,\n",
       "              colsample_bytree=None, device=None, early_stopping_rounds=None,\n",
       "              enable_categorical=False, eval_metric=None, feature_types=None,\n",
       "              gamma=None, grow_policy=None, importance_type=None,\n",
       "              interaction_constraints=None, learning_rate=0.3, max_bin=None,\n",
       "              max_cat_threshold=None, max_cat_to_onehot=None,\n",
       "              max_delta_step=None, max_depth=6, max_leaves=None,\n",
       "              min_child_weight=None, missing=nan, monotone_constraints=None,\n",
       "              multi_strategy=None, n_estimators=1000, n_jobs=None,\n",
       "              num_parallel_tree=None, random_state=None, ...)"
      ]
     },
     "execution_count": 42,
     "metadata": {},
     "output_type": "execute_result"
    }
   ],
   "source": [
    "scaler = StandardScaler().fit(X_train)\n",
    "scaled_X_train = scaler.transform(X_train)\n",
    "scaled_X_test = scaler.transform(X_test)\n",
    "\n",
    "xgb_st_entry = XGBClassifier(n_estimators=1000, max_depth=6, learning_rate=0.3, objective='binary:logistic')\n",
    "xgb_st_entry.fit(scaled_X_train, y_train)"
   ]
  },
  {
   "cell_type": "code",
   "execution_count": 43,
   "id": "e54578d1-b135-430b-a968-5663669c0fed",
   "metadata": {},
   "outputs": [
    {
     "data": {
      "text/html": [
       "<div>\n",
       "<style scoped>\n",
       "    .dataframe tbody tr th:only-of-type {\n",
       "        vertical-align: middle;\n",
       "    }\n",
       "\n",
       "    .dataframe tbody tr th {\n",
       "        vertical-align: top;\n",
       "    }\n",
       "\n",
       "    .dataframe thead th {\n",
       "        text-align: right;\n",
       "    }\n",
       "</style>\n",
       "<table border=\"1\" class=\"dataframe\">\n",
       "  <thead>\n",
       "    <tr style=\"text-align: right;\">\n",
       "      <th></th>\n",
       "      <th>features</th>\n",
       "      <th>importances</th>\n",
       "    </tr>\n",
       "  </thead>\n",
       "  <tbody>\n",
       "    <tr>\n",
       "      <th>15</th>\n",
       "      <td>spread_normed</td>\n",
       "      <td>0.621</td>\n",
       "    </tr>\n",
       "    <tr>\n",
       "      <th>51</th>\n",
       "      <td>200 Days Average_P2</td>\n",
       "      <td>0.009</td>\n",
       "    </tr>\n",
       "    <tr>\n",
       "      <th>36</th>\n",
       "      <td>50 Days Average_P1</td>\n",
       "      <td>0.008</td>\n",
       "    </tr>\n",
       "    <tr>\n",
       "      <th>44</th>\n",
       "      <td>bb_ma_P2</td>\n",
       "      <td>0.008</td>\n",
       "    </tr>\n",
       "    <tr>\n",
       "      <th>50</th>\n",
       "      <td>50 Days Average_P2</td>\n",
       "      <td>0.007</td>\n",
       "    </tr>\n",
       "    <tr>\n",
       "      <th>37</th>\n",
       "      <td>200 Days Average_P1</td>\n",
       "      <td>0.007</td>\n",
       "    </tr>\n",
       "    <tr>\n",
       "      <th>32</th>\n",
       "      <td>ema_P1</td>\n",
       "      <td>0.007</td>\n",
       "    </tr>\n",
       "    <tr>\n",
       "      <th>30</th>\n",
       "      <td>bb_ma_P1</td>\n",
       "      <td>0.007</td>\n",
       "    </tr>\n",
       "    <tr>\n",
       "      <th>52</th>\n",
       "      <td>PREV_num_entries</td>\n",
       "      <td>0.007</td>\n",
       "    </tr>\n",
       "    <tr>\n",
       "      <th>2</th>\n",
       "      <td>High_P1</td>\n",
       "      <td>0.007</td>\n",
       "    </tr>\n",
       "  </tbody>\n",
       "</table>\n",
       "</div>"
      ],
      "text/plain": [
       "               features  importances\n",
       "15        spread_normed        0.621\n",
       "51  200 Days Average_P2        0.009\n",
       "36   50 Days Average_P1        0.008\n",
       "44             bb_ma_P2        0.008\n",
       "50   50 Days Average_P2        0.007\n",
       "37  200 Days Average_P1        0.007\n",
       "32               ema_P1        0.007\n",
       "30             bb_ma_P1        0.007\n",
       "52     PREV_num_entries        0.007\n",
       "2               High_P1        0.007"
      ]
     },
     "execution_count": 43,
     "metadata": {},
     "output_type": "execute_result"
    }
   ],
   "source": [
    "# Plot feature importances\n",
    "importances = xgb_st_entry.feature_importances_\n",
    "feature_imp_tb_xgb = pd.DataFrame()\n",
    "feature_imp_tb_xgb['features'] = features\n",
    "feature_imp_tb_xgb['importances'] = importances\n",
    "feature_imp_tb_xgb.sort_values('importances', ascending=False).head(10)"
   ]
  },
  {
   "cell_type": "markdown",
   "id": "2a6872b1-7851-4bc8-9d45-6f412a209113",
   "metadata": {},
   "source": [
    "### Traditional Evaluation"
   ]
  },
  {
   "cell_type": "code",
   "execution_count": 44,
   "id": "53b98dd7-80d7-4f6a-b951-3ff8f8fc025b",
   "metadata": {},
   "outputs": [],
   "source": [
    "# Predict the labels for the test set\n",
    "y_pred = xgb_st_entry.predict(scaled_X_test)\n",
    "y_pred_proba = [x[1] for x in xgb_st_entry.predict_proba(scaled_X_test)]"
   ]
  },
  {
   "cell_type": "code",
   "execution_count": 45,
   "id": "79be32d8-2125-405f-96e1-46867f29517e",
   "metadata": {},
   "outputs": [
    {
     "name": "stdout",
     "output_type": "stream",
     "text": [
      "              precision    recall  f1-score   support\n",
      "\n",
      "           0       0.97      0.93      0.95     51618\n",
      "           1       0.87      0.94      0.90     23402\n",
      "\n",
      "    accuracy                           0.94     75020\n",
      "   macro avg       0.92      0.94      0.93     75020\n",
      "weighted avg       0.94      0.94      0.94     75020\n",
      "\n"
     ]
    },
    {
     "data": {
      "text/plain": [
       "<sklearn.metrics._plot.confusion_matrix.ConfusionMatrixDisplay at 0x16c954c10>"
      ]
     },
     "execution_count": 45,
     "metadata": {},
     "output_type": "execute_result"
    },
    {
     "data": {
      "image/png": "[encoded data removed]",
      "text/plain": [
       "<Figure size 640x480 with 2 Axes>"
      ]
     },
     "metadata": {},
     "output_type": "display_data"
    }
   ],
   "source": [
    "# Calculate precision, recall, and F1 scoreb\n",
    "report = classification_report(y_test, y_pred)\n",
    "print(report)\n",
    "\n",
    "cm = confusion_matrix(y_test, y_pred,normalize='true')\n",
    "disp = ConfusionMatrixDisplay(confusion_matrix=cm)\n",
    "disp.plot()"
   ]
  },
  {
   "cell_type": "markdown",
   "id": "c2fb9e1a-9c71-46d7-98fe-8129e62e844c",
   "metadata": {},
   "source": [
    "# Modeling - long term exit"
   ]
  },
  {
   "cell_type": "markdown",
   "id": "e8679239-e11b-4880-8e18-353bb1da5f73",
   "metadata": {},
   "source": [
    "## Train test split"
   ]
  },
  {
   "cell_type": "code",
   "execution_count": 46,
   "id": "fc94b29d-b698-40c4-bddb-d42fb997be91",
   "metadata": {},
   "outputs": [],
   "source": [
    "X = df[features]\n",
    "y = df['direction_longterm_exit']\n",
    "\n",
    "X_train, X_test, y_train, y_test = train_test_split(X, y, test_size=0.2, random_state=42,shuffle=False)\n",
    "X_val, X_test, y_val, y_test = train_test_split(X_test, y_test, test_size=0.5, random_state=42,shuffle=False)"
   ]
  },
  {
   "cell_type": "code",
   "execution_count": 47,
   "id": "30982b5a-c13b-4ff7-b066-403aa04c006c",
   "metadata": {},
   "outputs": [
    {
     "data": {
      "text/plain": [
       "0.3120234604105572"
      ]
     },
     "execution_count": 47,
     "metadata": {},
     "output_type": "execute_result"
    }
   ],
   "source": [
    "y_test.mean()"
   ]
  },
  {
   "cell_type": "code",
   "execution_count": 48,
   "id": "ecde45ca-c46a-4465-b34f-6f87986b8a6f",
   "metadata": {},
   "outputs": [],
   "source": [
    "undersample = RandomUnderSampler(sampling_strategy='majority')\n",
    "X_train, y_train = undersample.fit_resample(X_train, y_train)"
   ]
  },
  {
   "cell_type": "markdown",
   "id": "7af269ef-f9de-4685-9740-fda37bb41cac",
   "metadata": {},
   "source": [
    "## XGBoost Classification"
   ]
  },
  {
   "cell_type": "code",
   "execution_count": 49,
   "id": "8cab7fab-a1c9-42ab-9197-f21479aa5f7c",
   "metadata": {},
   "outputs": [
    {
     "data": {
      "text/html": [
       "<style>#sk-container-id-2 {\n",
       "  /* Definition of color scheme common for light and dark mode */\n",
       "  --sklearn-color-text: black;\n",
       "  --sklearn-color-line: gray;\n",
       "  /* Definition of color scheme for unfitted estimators */\n",
       "  --sklearn-color-unfitted-level-0: #fff5e6;\n",
       "  --sklearn-color-unfitted-level-1: #f6e4d2;\n",
       "  --sklearn-color-unfitted-level-2: #ffe0b3;\n",
       "  --sklearn-color-unfitted-level-3: chocolate;\n",
       "  /* Definition of color scheme for fitted estimators */\n",
       "  --sklearn-color-fitted-level-0: #f0f8ff;\n",
       "  --sklearn-color-fitted-level-1: #d4ebff;\n",
       "  --sklearn-color-fitted-level-2: #b3dbfd;\n",
       "  --sklearn-color-fitted-level-3: cornflowerblue;\n",
       "\n",
       "  /* Specific color for light theme */\n",
       "  --sklearn-color-text-on-default-background: var(--sg-text-color, var(--theme-code-foreground, var(--jp-content-font-color1, black)));\n",
       "  --sklearn-color-background: var(--sg-background-color, var(--theme-background, var(--jp-layout-color0, white)));\n",
       "  --sklearn-color-border-box: var(--sg-text-color, var(--theme-code-foreground, var(--jp-content-font-color1, black)));\n",
       "  --sklearn-color-icon: #696969;\n",
       "\n",
       "  @media (prefers-color-scheme: dark) {\n",
       "    /* Redefinition of color scheme for dark theme */\n",
       "    --sklearn-color-text-on-default-background: var(--sg-text-color, var(--theme-code-foreground, var(--jp-content-font-color1, white)));\n",
       "    --sklearn-color-background: var(--sg-background-color, var(--theme-background, var(--jp-layout-color0, #111)));\n",
       "    --sklearn-color-border-box: var(--sg-text-color, var(--theme-code-foreground, var(--jp-content-font-color1, white)));\n",
       "    --sklearn-color-icon: #878787;\n",
       "  }\n",
       "}\n",
       "\n",
       "#sk-container-id-2 {\n",
       "  color: var(--sklearn-color-text);\n",
       "}\n",
       "\n",
       "#sk-container-id-2 pre {\n",
       "  padding: 0;\n",
       "}\n",
       "\n",
       "#sk-container-id-2 input.sk-hidden--visually {\n",
       "  border: 0;\n",
       "  clip: rect(1px 1px 1px 1px);\n",
       "  clip: rect(1px, 1px, 1px, 1px);\n",
       "  height: 1px;\n",
       "  margin: -1px;\n",
       "  overflow: hidden;\n",
       "  padding: 0;\n",
       "  position: absolute;\n",
       "  width: 1px;\n",
       "}\n",
       "\n",
       "#sk-container-id-2 div.sk-dashed-wrapped {\n",
       "  border: 1px dashed var(--sklearn-color-line);\n",
       "  margin: 0 0.4em 0.5em 0.4em;\n",
       "  box-sizing: border-box;\n",
       "  padding-bottom: 0.4em;\n",
       "  background-color: var(--sklearn-color-background);\n",
       "}\n",
       "\n",
       "#sk-container-id-2 div.sk-container {\n",
       "  /* jupyter's `normalize.less` sets `[hidden] { display: none; }`\n",
       "     but bootstrap.min.css set `[hidden] { display: none !important; }`\n",
       "     so we also need the `!important` here to be able to override the\n",
       "     default hidden behavior on the sphinx rendered scikit-learn.org.\n",
       "     See: https://github.com/scikit-learn/scikit-learn/issues/21755 */\n",
       "  display: inline-block !important;\n",
       "  position: relative;\n",
       "}\n",
       "\n",
       "#sk-container-id-2 div.sk-text-repr-fallback {\n",
       "  display: none;\n",
       "}\n",
       "\n",
       "div.sk-parallel-item,\n",
       "div.sk-serial,\n",
       "div.sk-item {\n",
       "  /* draw centered vertical line to link estimators */\n",
       "  background-image: linear-gradient(var(--sklearn-color-text-on-default-background), var(--sklearn-color-text-on-default-background));\n",
       "  background-size: 2px 100%;\n",
       "  background-repeat: no-repeat;\n",
       "  background-position: center center;\n",
       "}\n",
       "\n",
       "/* Parallel-specific style estimator block */\n",
       "\n",
       "#sk-container-id-2 div.sk-parallel-item::after {\n",
       "  content: \"\";\n",
       "  width: 100%;\n",
       "  border-bottom: 2px solid var(--sklearn-color-text-on-default-background);\n",
       "  flex-grow: 1;\n",
       "}\n",
       "\n",
       "#sk-container-id-2 div.sk-parallel {\n",
       "  display: flex;\n",
       "  align-items: stretch;\n",
       "  justify-content: center;\n",
       "  background-color: var(--sklearn-color-background);\n",
       "  position: relative;\n",
       "}\n",
       "\n",
       "#sk-container-id-2 div.sk-parallel-item {\n",
       "  display: flex;\n",
       "  flex-direction: column;\n",
       "}\n",
       "\n",
       "#sk-container-id-2 div.sk-parallel-item:first-child::after {\n",
       "  align-self: flex-end;\n",
       "  width: 50%;\n",
       "}\n",
       "\n",
       "#sk-container-id-2 div.sk-parallel-item:last-child::after {\n",
       "  align-self: flex-start;\n",
       "  width: 50%;\n",
       "}\n",
       "\n",
       "#sk-container-id-2 div.sk-parallel-item:only-child::after {\n",
       "  width: 0;\n",
       "}\n",
       "\n",
       "/* Serial-specific style estimator block */\n",
       "\n",
       "#sk-container-id-2 div.sk-serial {\n",
       "  display: flex;\n",
       "  flex-direction: column;\n",
       "  align-items: center;\n",
       "  background-color: var(--sklearn-color-background);\n",
       "  padding-right: 1em;\n",
       "  padding-left: 1em;\n",
       "}\n",
       "\n",
       "\n",
       "/* Toggleable style: style used for estimator/Pipeline/ColumnTransformer box that is\n",
       "clickable and can be expanded/collapsed.\n",
       "- Pipeline and ColumnTransformer use this feature and define the default style\n",
       "- Estimators will overwrite some part of the style using the `sk-estimator` class\n",
       "*/\n",
       "\n",
       "/* Pipeline and ColumnTransformer style (default) */\n",
       "\n",
       "#sk-container-id-2 div.sk-toggleable {\n",
       "  /* Default theme specific background. It is overwritten whether we have a\n",
       "  specific estimator or a Pipeline/ColumnTransformer */\n",
       "  background-color: var(--sklearn-color-background);\n",
       "}\n",
       "\n",
       "/* Toggleable label */\n",
       "#sk-container-id-2 label.sk-toggleable__label {\n",
       "  cursor: pointer;\n",
       "  display: block;\n",
       "  width: 100%;\n",
       "  margin-bottom: 0;\n",
       "  padding: 0.5em;\n",
       "  box-sizing: border-box;\n",
       "  text-align: center;\n",
       "}\n",
       "\n",
       "#sk-container-id-2 label.sk-toggleable__label-arrow:before {\n",
       "  /* Arrow on the left of the label */\n",
       "  content: \"▸\";\n",
       "  float: left;\n",
       "  margin-right: 0.25em;\n",
       "  color: var(--sklearn-color-icon);\n",
       "}\n",
       "\n",
       "#sk-container-id-2 label.sk-toggleable__label-arrow:hover:before {\n",
       "  color: var(--sklearn-color-text);\n",
       "}\n",
       "\n",
       "/* Toggleable content - dropdown */\n",
       "\n",
       "#sk-container-id-2 div.sk-toggleable__content {\n",
       "  max-height: 0;\n",
       "  max-width: 0;\n",
       "  overflow: hidden;\n",
       "  text-align: left;\n",
       "  /* unfitted */\n",
       "  background-color: var(--sklearn-color-unfitted-level-0);\n",
       "}\n",
       "\n",
       "#sk-container-id-2 div.sk-toggleable__content.fitted {\n",
       "  /* fitted */\n",
       "  background-color: var(--sklearn-color-fitted-level-0);\n",
       "}\n",
       "\n",
       "#sk-container-id-2 div.sk-toggleable__content pre {\n",
       "  margin: 0.2em;\n",
       "  border-radius: 0.25em;\n",
       "  color: var(--sklearn-color-text);\n",
       "  /* unfitted */\n",
       "  background-color: var(--sklearn-color-unfitted-level-0);\n",
       "}\n",
       "\n",
       "#sk-container-id-2 div.sk-toggleable__content.fitted pre {\n",
       "  /* unfitted */\n",
       "  background-color: var(--sklearn-color-fitted-level-0);\n",
       "}\n",
       "\n",
       "#sk-container-id-2 input.sk-toggleable__control:checked~div.sk-toggleable__content {\n",
       "  /* Expand drop-down */\n",
       "  max-height: 200px;\n",
       "  max-width: 100%;\n",
       "  overflow: auto;\n",
       "}\n",
       "\n",
       "#sk-container-id-2 input.sk-toggleable__control:checked~label.sk-toggleable__label-arrow:before {\n",
       "  content: \"▾\";\n",
       "}\n",
       "\n",
       "/* Pipeline/ColumnTransformer-specific style */\n",
       "\n",
       "#sk-container-id-2 div.sk-label input.sk-toggleable__control:checked~label.sk-toggleable__label {\n",
       "  color: var(--sklearn-color-text);\n",
       "  background-color: var(--sklearn-color-unfitted-level-2);\n",
       "}\n",
       "\n",
       "#sk-container-id-2 div.sk-label.fitted input.sk-toggleable__control:checked~label.sk-toggleable__label {\n",
       "  background-color: var(--sklearn-color-fitted-level-2);\n",
       "}\n",
       "\n",
       "/* Estimator-specific style */\n",
       "\n",
       "/* Colorize estimator box */\n",
       "#sk-container-id-2 div.sk-estimator input.sk-toggleable__control:checked~label.sk-toggleable__label {\n",
       "  /* unfitted */\n",
       "  background-color: var(--sklearn-color-unfitted-level-2);\n",
       "}\n",
       "\n",
       "#sk-container-id-2 div.sk-estimator.fitted input.sk-toggleable__control:checked~label.sk-toggleable__label {\n",
       "  /* fitted */\n",
       "  background-color: var(--sklearn-color-fitted-level-2);\n",
       "}\n",
       "\n",
       "#sk-container-id-2 div.sk-label label.sk-toggleable__label,\n",
       "#sk-container-id-2 div.sk-label label {\n",
       "  /* The background is the default theme color */\n",
       "  color: var(--sklearn-color-text-on-default-background);\n",
       "}\n",
       "\n",
       "/* On hover, darken the color of the background */\n",
       "#sk-container-id-2 div.sk-label:hover label.sk-toggleable__label {\n",
       "  color: var(--sklearn-color-text);\n",
       "  background-color: var(--sklearn-color-unfitted-level-2);\n",
       "}\n",
       "\n",
       "/* Label box, darken color on hover, fitted */\n",
       "#sk-container-id-2 div.sk-label.fitted:hover label.sk-toggleable__label.fitted {\n",
       "  color: var(--sklearn-color-text);\n",
       "  background-color: var(--sklearn-color-fitted-level-2);\n",
       "}\n",
       "\n",
       "/* Estimator label */\n",
       "\n",
       "#sk-container-id-2 div.sk-label label {\n",
       "  font-family: monospace;\n",
       "  font-weight: bold;\n",
       "  display: inline-block;\n",
       "  line-height: 1.2em;\n",
       "}\n",
       "\n",
       "#sk-container-id-2 div.sk-label-container {\n",
       "  text-align: center;\n",
       "}\n",
       "\n",
       "/* Estimator-specific */\n",
       "#sk-container-id-2 div.sk-estimator {\n",
       "  font-family: monospace;\n",
       "  border: 1px dotted var(--sklearn-color-border-box);\n",
       "  border-radius: 0.25em;\n",
       "  box-sizing: border-box;\n",
       "  margin-bottom: 0.5em;\n",
       "  /* unfitted */\n",
       "  background-color: var(--sklearn-color-unfitted-level-0);\n",
       "}\n",
       "\n",
       "#sk-container-id-2 div.sk-estimator.fitted {\n",
       "  /* fitted */\n",
       "  background-color: var(--sklearn-color-fitted-level-0);\n",
       "}\n",
       "\n",
       "/* on hover */\n",
       "#sk-container-id-2 div.sk-estimator:hover {\n",
       "  /* unfitted */\n",
       "  background-color: var(--sklearn-color-unfitted-level-2);\n",
       "}\n",
       "\n",
       "#sk-container-id-2 div.sk-estimator.fitted:hover {\n",
       "  /* fitted */\n",
       "  background-color: var(--sklearn-color-fitted-level-2);\n",
       "}\n",
       "\n",
       "/* Specification for estimator info (e.g. \"i\" and \"?\") */\n",
       "\n",
       "/* Common style for \"i\" and \"?\" */\n",
       "\n",
       ".sk-estimator-doc-link,\n",
       "a:link.sk-estimator-doc-link,\n",
       "a:visited.sk-estimator-doc-link {\n",
       "  float: right;\n",
       "  font-size: smaller;\n",
       "  line-height: 1em;\n",
       "  font-family: monospace;\n",
       "  background-color: var(--sklearn-color-background);\n",
       "  border-radius: 1em;\n",
       "  height: 1em;\n",
       "  width: 1em;\n",
       "  text-decoration: none !important;\n",
       "  margin-left: 1ex;\n",
       "  /* unfitted */\n",
       "  border: var(--sklearn-color-unfitted-level-1) 1pt solid;\n",
       "  color: var(--sklearn-color-unfitted-level-1);\n",
       "}\n",
       "\n",
       ".sk-estimator-doc-link.fitted,\n",
       "a:link.sk-estimator-doc-link.fitted,\n",
       "a:visited.sk-estimator-doc-link.fitted {\n",
       "  /* fitted */\n",
       "  border: var(--sklearn-color-fitted-level-1) 1pt solid;\n",
       "  color: var(--sklearn-color-fitted-level-1);\n",
       "}\n",
       "\n",
       "/* On hover */\n",
       "div.sk-estimator:hover .sk-estimator-doc-link:hover,\n",
       ".sk-estimator-doc-link:hover,\n",
       "div.sk-label-container:hover .sk-estimator-doc-link:hover,\n",
       ".sk-estimator-doc-link:hover {\n",
       "  /* unfitted */\n",
       "  background-color: var(--sklearn-color-unfitted-level-3);\n",
       "  color: var(--sklearn-color-background);\n",
       "  text-decoration: none;\n",
       "}\n",
       "\n",
       "div.sk-estimator.fitted:hover .sk-estimator-doc-link.fitted:hover,\n",
       ".sk-estimator-doc-link.fitted:hover,\n",
       "div.sk-label-container:hover .sk-estimator-doc-link.fitted:hover,\n",
       ".sk-estimator-doc-link.fitted:hover {\n",
       "  /* fitted */\n",
       "  background-color: var(--sklearn-color-fitted-level-3);\n",
       "  color: var(--sklearn-color-background);\n",
       "  text-decoration: none;\n",
       "}\n",
       "\n",
       "/* Span, style for the box shown on hovering the info icon */\n",
       ".sk-estimator-doc-link span {\n",
       "  display: none;\n",
       "  z-index: 9999;\n",
       "  position: relative;\n",
       "  font-weight: normal;\n",
       "  right: .2ex;\n",
       "  padding: .5ex;\n",
       "  margin: .5ex;\n",
       "  width: min-content;\n",
       "  min-width: 20ex;\n",
       "  max-width: 50ex;\n",
       "  color: var(--sklearn-color-text);\n",
       "  box-shadow: 2pt 2pt 4pt #999;\n",
       "  /* unfitted */\n",
       "  background: var(--sklearn-color-unfitted-level-0);\n",
       "  border: .5pt solid var(--sklearn-color-unfitted-level-3);\n",
       "}\n",
       "\n",
       ".sk-estimator-doc-link.fitted span {\n",
       "  /* fitted */\n",
       "  background: var(--sklearn-color-fitted-level-0);\n",
       "  border: var(--sklearn-color-fitted-level-3);\n",
       "}\n",
       "\n",
       ".sk-estimator-doc-link:hover span {\n",
       "  display: block;\n",
       "}\n",
       "\n",
       "/* \"?\"-specific style due to the `<a>` HTML tag */\n",
       "\n",
       "#sk-container-id-2 a.estimator_doc_link {\n",
       "  float: right;\n",
       "  font-size: 1rem;\n",
       "  line-height: 1em;\n",
       "  font-family: monospace;\n",
       "  background-color: var(--sklearn-color-background);\n",
       "  border-radius: 1rem;\n",
       "  height: 1rem;\n",
       "  width: 1rem;\n",
       "  text-decoration: none;\n",
       "  /* unfitted */\n",
       "  color: var(--sklearn-color-unfitted-level-1);\n",
       "  border: var(--sklearn-color-unfitted-level-1) 1pt solid;\n",
       "}\n",
       "\n",
       "#sk-container-id-2 a.estimator_doc_link.fitted {\n",
       "  /* fitted */\n",
       "  border: var(--sklearn-color-fitted-level-1) 1pt solid;\n",
       "  color: var(--sklearn-color-fitted-level-1);\n",
       "}\n",
       "\n",
       "/* On hover */\n",
       "#sk-container-id-2 a.estimator_doc_link:hover {\n",
       "  /* unfitted */\n",
       "  background-color: var(--sklearn-color-unfitted-level-3);\n",
       "  color: var(--sklearn-color-background);\n",
       "  text-decoration: none;\n",
       "}\n",
       "\n",
       "#sk-container-id-2 a.estimator_doc_link.fitted:hover {\n",
       "  /* fitted */\n",
       "  background-color: var(--sklearn-color-fitted-level-3);\n",
       "}\n",
       "</style><div id=\"sk-container-id-2\" class=\"sk-top-container\"><div class=\"sk-text-repr-fallback\"><pre>XGBClassifier(base_score=None, booster=None, callbacks=None,\n",
       "              colsample_bylevel=None, colsample_bynode=None,\n",
       "              colsample_bytree=None, device=None, early_stopping_rounds=None,\n",
       "              enable_categorical=False, eval_metric=None, feature_types=None,\n",
       "              gamma=None, grow_policy=None, importance_type=None,\n",
       "              interaction_constraints=None, learning_rate=0.3, max_bin=None,\n",
       "              max_cat_threshold=None, max_cat_to_onehot=None,\n",
       "              max_delta_step=None, max_depth=6, max_leaves=None,\n",
       "              min_child_weight=None, missing=nan, monotone_constraints=None,\n",
       "              multi_strategy=None, n_estimators=1000, n_jobs=None,\n",
       "              num_parallel_tree=None, random_state=None, ...)</pre><b>In a Jupyter environment, please rerun this cell to show the HTML representation or trust the notebook. <br />On GitHub, the HTML representation is unable to render, please try loading this page with nbviewer.org.</b></div><div class=\"sk-container\" hidden><div class=\"sk-item\"><div class=\"sk-estimator fitted sk-toggleable\"><input class=\"sk-toggleable__control sk-hidden--visually\" id=\"sk-estimator-id-2\" type=\"checkbox\" checked><label for=\"sk-estimator-id-2\" class=\"sk-toggleable__label fitted sk-toggleable__label-arrow fitted\">&nbsp;XGBClassifier<span class=\"sk-estimator-doc-link fitted\">i<span>Fitted</span></span></label><div class=\"sk-toggleable__content fitted\"><pre>XGBClassifier(base_score=None, booster=None, callbacks=None,\n",
       "              colsample_bylevel=None, colsample_bynode=None,\n",
       "              colsample_bytree=None, device=None, early_stopping_rounds=None,\n",
       "              enable_categorical=False, eval_metric=None, feature_types=None,\n",
       "              gamma=None, grow_policy=None, importance_type=None,\n",
       "              interaction_constraints=None, learning_rate=0.3, max_bin=None,\n",
       "              max_cat_threshold=None, max_cat_to_onehot=None,\n",
       "              max_delta_step=None, max_depth=6, max_leaves=None,\n",
       "              min_child_weight=None, missing=nan, monotone_constraints=None,\n",
       "              multi_strategy=None, n_estimators=1000, n_jobs=None,\n",
       "              num_parallel_tree=None, random_state=None, ...)</pre></div> </div></div></div></div>"
      ],
      "text/plain": [
       "XGBClassifier(base_score=None, booster=None, callbacks=None,\n",
       "              colsample_bylevel=None, colsample_bynode=None,\n",
       "              colsample_bytree=None, device=None, early_stopping_rounds=None,\n",
       "              enable_categorical=False, eval_metric=None, feature_types=None,\n",
       "              gamma=None, grow_policy=None, importance_type=None,\n",
       "              interaction_constraints=None, learning_rate=0.3, max_bin=None,\n",
       "              max_cat_threshold=None, max_cat_to_onehot=None,\n",
       "              max_delta_step=None, max_depth=6, max_leaves=None,\n",
       "              min_child_weight=None, missing=nan, monotone_constraints=None,\n",
       "              multi_strategy=None, n_estimators=1000, n_jobs=None,\n",
       "              num_parallel_tree=None, random_state=None, ...)"
      ]
     },
     "execution_count": 49,
     "metadata": {},
     "output_type": "execute_result"
    }
   ],
   "source": [
    "scaler = StandardScaler().fit(X_train)\n",
    "scaled_X_train = scaler.transform(X_train)\n",
    "scaled_X_test = scaler.transform(X_test)\n",
    "\n",
    "xgb_lt_exit = XGBClassifier(n_estimators=1000, max_depth=6, learning_rate=0.3, objective='binary:logistic')\n",
    "xgb_lt_exit.fit(scaled_X_train, y_train)"
   ]
  },
  {
   "cell_type": "code",
   "execution_count": 50,
   "id": "dbf77719-7cbf-4351-9039-94cb3f93021c",
   "metadata": {},
   "outputs": [
    {
     "data": {
      "text/html": [
       "<div>\n",
       "<style scoped>\n",
       "    .dataframe tbody tr th:only-of-type {\n",
       "        vertical-align: middle;\n",
       "    }\n",
       "\n",
       "    .dataframe tbody tr th {\n",
       "        vertical-align: top;\n",
       "    }\n",
       "\n",
       "    .dataframe thead th {\n",
       "        text-align: right;\n",
       "    }\n",
       "</style>\n",
       "<table border=\"1\" class=\"dataframe\">\n",
       "  <thead>\n",
       "    <tr style=\"text-align: right;\">\n",
       "      <th></th>\n",
       "      <th>features</th>\n",
       "      <th>importances</th>\n",
       "    </tr>\n",
       "  </thead>\n",
       "  <tbody>\n",
       "    <tr>\n",
       "      <th>15</th>\n",
       "      <td>spread_normed</td>\n",
       "      <td>0.405</td>\n",
       "    </tr>\n",
       "    <tr>\n",
       "      <th>36</th>\n",
       "      <td>50 Days Average_P1</td>\n",
       "      <td>0.017</td>\n",
       "    </tr>\n",
       "    <tr>\n",
       "      <th>37</th>\n",
       "      <td>200 Days Average_P1</td>\n",
       "      <td>0.017</td>\n",
       "    </tr>\n",
       "    <tr>\n",
       "      <th>27</th>\n",
       "      <td>adi_P1</td>\n",
       "      <td>0.016</td>\n",
       "    </tr>\n",
       "    <tr>\n",
       "      <th>32</th>\n",
       "      <td>ema_P1</td>\n",
       "      <td>0.015</td>\n",
       "    </tr>\n",
       "    <tr>\n",
       "      <th>26</th>\n",
       "      <td>kama_P1</td>\n",
       "      <td>0.015</td>\n",
       "    </tr>\n",
       "    <tr>\n",
       "      <th>51</th>\n",
       "      <td>200 Days Average_P2</td>\n",
       "      <td>0.015</td>\n",
       "    </tr>\n",
       "    <tr>\n",
       "      <th>70</th>\n",
       "      <td>DIFF_50 Days Average</td>\n",
       "      <td>0.014</td>\n",
       "    </tr>\n",
       "    <tr>\n",
       "      <th>41</th>\n",
       "      <td>adi_P2</td>\n",
       "      <td>0.013</td>\n",
       "    </tr>\n",
       "    <tr>\n",
       "      <th>52</th>\n",
       "      <td>PREV_num_entries</td>\n",
       "      <td>0.013</td>\n",
       "    </tr>\n",
       "  </tbody>\n",
       "</table>\n",
       "</div>"
      ],
      "text/plain": [
       "                features  importances\n",
       "15         spread_normed        0.405\n",
       "36    50 Days Average_P1        0.017\n",
       "37   200 Days Average_P1        0.017\n",
       "27                adi_P1        0.016\n",
       "32                ema_P1        0.015\n",
       "26               kama_P1        0.015\n",
       "51   200 Days Average_P2        0.015\n",
       "70  DIFF_50 Days Average        0.014\n",
       "41                adi_P2        0.013\n",
       "52      PREV_num_entries        0.013"
      ]
     },
     "execution_count": 50,
     "metadata": {},
     "output_type": "execute_result"
    }
   ],
   "source": [
    "# Plot feature importances\n",
    "importances = xgb_lt_exit.feature_importances_\n",
    "feature_imp_tb_xgb = pd.DataFrame()\n",
    "feature_imp_tb_xgb['features'] = features\n",
    "feature_imp_tb_xgb['importances'] = importances\n",
    "feature_imp_tb_xgb.sort_values('importances', ascending=False).head(10)"
   ]
  },
  {
   "cell_type": "markdown",
   "id": "8f88944b-448a-4fdd-9a8d-932201acaa9f",
   "metadata": {},
   "source": [
    "### Traditional Evaluation"
   ]
  },
  {
   "cell_type": "code",
   "execution_count": 51,
   "id": "ed0bbb42-2f54-4680-9292-34634d06f374",
   "metadata": {},
   "outputs": [],
   "source": [
    "# Predict the labels for the test set\n",
    "y_pred = xgb_lt_exit.predict(scaled_X_test)"
   ]
  },
  {
   "cell_type": "code",
   "execution_count": 52,
   "id": "cecef19b-f38e-4307-8490-2e57a7bf68b1",
   "metadata": {},
   "outputs": [
    {
     "name": "stdout",
     "output_type": "stream",
     "text": [
      "              precision    recall  f1-score   support\n",
      "\n",
      "           0       0.90      0.83      0.87     51612\n",
      "           1       0.68      0.80      0.74     23408\n",
      "\n",
      "    accuracy                           0.82     75020\n",
      "   macro avg       0.79      0.82      0.80     75020\n",
      "weighted avg       0.83      0.82      0.83     75020\n",
      "\n"
     ]
    },
    {
     "data": {
      "text/plain": [
       "<sklearn.metrics._plot.confusion_matrix.ConfusionMatrixDisplay at 0x16d067810>"
      ]
     },
     "execution_count": 52,
     "metadata": {},
     "output_type": "execute_result"
    },
    {
     "data": {
      "image/png": "[encoded data removed]",
      "text/plain": [
       "<Figure size 640x480 with 2 Axes>"
      ]
     },
     "metadata": {},
     "output_type": "display_data"
    }
   ],
   "source": [
    "# Calculate precision, recall, and F1 scoreb\n",
    "report = classification_report(y_test, y_pred)\n",
    "print(report)\n",
    "\n",
    "cm = confusion_matrix(y_test, y_pred,normalize='true')\n",
    "disp = ConfusionMatrixDisplay(confusion_matrix=cm)\n",
    "disp.plot()"
   ]
  },
  {
   "cell_type": "markdown",
   "id": "faad759d-597a-4063-8c51-e29a49b3082e",
   "metadata": {},
   "source": [
    "# Evaluate using precision/pnl at k"
   ]
  },
  {
   "cell_type": "code",
   "execution_count": 53,
   "id": "34f3b7c9-0a3e-4e25-8d6c-84ffa45183c1",
   "metadata": {},
   "outputs": [],
   "source": [
    "y_pred_proba_lt_exit = [x[1] for x in xgb_lt_exit.predict_proba(scaled_X_test)]\n",
    "y_pred_proba_st_entry = [x[1] for x in xgb_st_entry.predict_proba(scaled_X_test)]\n",
    "test_data_enriched = df[['Date','Ticker_P1', 'Ticker_P2', 'pnls', 'both_legs_profited']].loc[y_test.index]"
   ]
  },
  {
   "cell_type": "code",
   "execution_count": 54,
   "id": "02649018-cd4f-4923-aae0-5f3df7d8c772",
   "metadata": {},
   "outputs": [],
   "source": [
    "test_data_enriched['predicted_proba_st_entry'] = y_pred_proba_st_entry\n",
    "test_data_enriched['predicted_proba_lt_exit'] = y_pred_proba_lt_exit\n",
    "test_data_enriched['predicted_score_combined'] =  \\\n",
    "(test_data_enriched['predicted_proba_st_entry'] + test_data_enriched['predicted_proba_lt_exit'])/2"
   ]
  },
  {
   "cell_type": "code",
   "execution_count": 59,
   "id": "6f462469-d11a-45f9-8489-ac60e49d3724",
   "metadata": {},
   "outputs": [],
   "source": [
    "xgb_st_entry.features_names = features\n",
    "xgb_lt_exit.features_names = features\n",
    "\n",
    "xgb_st_entry.feature_scaler = scaler\n",
    "xgb_lt_exit.feature_scaler = scaler"
   ]
  },
  {
   "cell_type": "code",
   "execution_count": 61,
   "id": "5840418a-a703-4a72-9955-98b5f1f13ec6",
   "metadata": {},
   "outputs": [],
   "source": [
    "import pickle\n",
    "with open('Outputs/xgb_st_entry.pkl','wb') as file:\n",
    "    pickle.dump(xgb_st_entry, file)\n",
    "\n",
    "with open('Outputs/xgb_lt_exit.pkl','wb') as file:\n",
    "    pickle.dump(xgb_lt_exit, file)"
   ]
  },
  {
   "cell_type": "markdown",
   "id": "48ad9045-fc17-4a5f-a623-9df55560ba6f",
   "metadata": {},
   "source": [
    "## Precision at k\n",
    "\n",
    "binary label - both logs profited"
   ]
  },
  {
   "cell_type": "code",
   "execution_count": 42,
   "id": "1d202c3d-f4f5-4dff-80f2-a4a3527335ee",
   "metadata": {},
   "outputs": [
    {
     "data": {
      "text/html": [
       "<div>\n",
       "<style scoped>\n",
       "    .dataframe tbody tr th:only-of-type {\n",
       "        vertical-align: middle;\n",
       "    }\n",
       "\n",
       "    .dataframe tbody tr th {\n",
       "        vertical-align: top;\n",
       "    }\n",
       "\n",
       "    .dataframe thead th {\n",
       "        text-align: right;\n",
       "    }\n",
       "</style>\n",
       "<table border=\"1\" class=\"dataframe\">\n",
       "  <thead>\n",
       "    <tr style=\"text-align: right;\">\n",
       "      <th></th>\n",
       "      <th>Close_P1</th>\n",
       "      <th>Close_P2</th>\n",
       "      <th>High_P1</th>\n",
       "      <th>High_P2</th>\n",
       "      <th>Low_P1</th>\n",
       "      <th>Low_P2</th>\n",
       "      <th>Volume_P1</th>\n",
       "      <th>Volume_P2</th>\n",
       "      <th>abs_spread</th>\n",
       "      <th>same_sector_flag</th>\n",
       "      <th>...</th>\n",
       "      <th>DIFF_atr</th>\n",
       "      <th>DIFF_bb_ma</th>\n",
       "      <th>DIFF_adx</th>\n",
       "      <th>DIFF_ema</th>\n",
       "      <th>DIFF_macd</th>\n",
       "      <th>DIFF_dlr</th>\n",
       "      <th>DIFF_daily_returns</th>\n",
       "      <th>DIFF_50 Days Average</th>\n",
       "      <th>DIFF_200 Days Average</th>\n",
       "      <th>DIFF_abs_spread_mean_l20_500</th>\n",
       "    </tr>\n",
       "  </thead>\n",
       "  <tbody>\n",
       "    <tr>\n",
       "      <th>0</th>\n",
       "      <td>181.461</td>\n",
       "      <td>96.820</td>\n",
       "      <td>212.220</td>\n",
       "      <td>97.780</td>\n",
       "      <td>209.700</td>\n",
       "      <td>95.170</td>\n",
       "      <td>560900.000</td>\n",
       "      <td>1520500.000</td>\n",
       "      <td>84.641</td>\n",
       "      <td>False</td>\n",
       "      <td>...</td>\n",
       "      <td>28.226</td>\n",
       "      <td>87.138</td>\n",
       "      <td>-12.763</td>\n",
       "      <td>85.688</td>\n",
       "      <td>-1.343</td>\n",
       "      <td>0.439</td>\n",
       "      <td>0.004</td>\n",
       "      <td>87.849</td>\n",
       "      <td>87.478</td>\n",
       "      <td>0.143</td>\n",
       "    </tr>\n",
       "    <tr>\n",
       "      <th>1</th>\n",
       "      <td>49.313</td>\n",
       "      <td>71.438</td>\n",
       "      <td>61.830</td>\n",
       "      <td>84.410</td>\n",
       "      <td>60.530</td>\n",
       "      <td>83.490</td>\n",
       "      <td>2015900.000</td>\n",
       "      <td>874600.000</td>\n",
       "      <td>22.125</td>\n",
       "      <td>False</td>\n",
       "      <td>...</td>\n",
       "      <td>0.257</td>\n",
       "      <td>-19.726</td>\n",
       "      <td>11.234</td>\n",
       "      <td>-20.742</td>\n",
       "      <td>-3.188</td>\n",
       "      <td>1.639</td>\n",
       "      <td>0.017</td>\n",
       "      <td>-13.250</td>\n",
       "      <td>-3.547</td>\n",
       "      <td>9.521</td>\n",
       "    </tr>\n",
       "    <tr>\n",
       "      <th>2</th>\n",
       "      <td>46.156</td>\n",
       "      <td>40.431</td>\n",
       "      <td>53.540</td>\n",
       "      <td>49.030</td>\n",
       "      <td>52.870</td>\n",
       "      <td>47.640</td>\n",
       "      <td>2194300.000</td>\n",
       "      <td>2811400.000</td>\n",
       "      <td>5.726</td>\n",
       "      <td>False</td>\n",
       "      <td>...</td>\n",
       "      <td>-1.012</td>\n",
       "      <td>8.571</td>\n",
       "      <td>-0.547</td>\n",
       "      <td>7.714</td>\n",
       "      <td>-0.195</td>\n",
       "      <td>-3.253</td>\n",
       "      <td>-0.033</td>\n",
       "      <td>7.611</td>\n",
       "      <td>4.786</td>\n",
       "      <td>4.008</td>\n",
       "    </tr>\n",
       "    <tr>\n",
       "      <th>3</th>\n",
       "      <td>181.461</td>\n",
       "      <td>47.269</td>\n",
       "      <td>212.220</td>\n",
       "      <td>48.255</td>\n",
       "      <td>209.700</td>\n",
       "      <td>47.737</td>\n",
       "      <td>560900.000</td>\n",
       "      <td>550000.000</td>\n",
       "      <td>134.192</td>\n",
       "      <td>False</td>\n",
       "      <td>...</td>\n",
       "      <td>29.927</td>\n",
       "      <td>129.057</td>\n",
       "      <td>-12.637</td>\n",
       "      <td>130.581</td>\n",
       "      <td>1.639</td>\n",
       "      <td>0.131</td>\n",
       "      <td>0.001</td>\n",
       "      <td>127.342</td>\n",
       "      <td>121.097</td>\n",
       "      <td>13.470</td>\n",
       "    </tr>\n",
       "    <tr>\n",
       "      <th>4</th>\n",
       "      <td>96.820</td>\n",
       "      <td>37.520</td>\n",
       "      <td>97.780</td>\n",
       "      <td>37.710</td>\n",
       "      <td>95.170</td>\n",
       "      <td>37.000</td>\n",
       "      <td>1520500.000</td>\n",
       "      <td>727600.000</td>\n",
       "      <td>59.300</td>\n",
       "      <td>True</td>\n",
       "      <td>...</td>\n",
       "      <td>2.335</td>\n",
       "      <td>51.966</td>\n",
       "      <td>-3.536</td>\n",
       "      <td>54.767</td>\n",
       "      <td>3.437</td>\n",
       "      <td>-2.109</td>\n",
       "      <td>-0.021</td>\n",
       "      <td>47.899</td>\n",
       "      <td>40.215</td>\n",
       "      <td>17.477</td>\n",
       "    </tr>\n",
       "  </tbody>\n",
       "</table>\n",
       "<p>5 rows × 73 columns</p>\n",
       "</div>"
      ],
      "text/plain": [
       "   Close_P1  Close_P2  High_P1  High_P2  Low_P1  Low_P2   Volume_P1  \\\n",
       "0   181.461    96.820  212.220   97.780 209.700  95.170  560900.000   \n",
       "1    49.313    71.438   61.830   84.410  60.530  83.490 2015900.000   \n",
       "2    46.156    40.431   53.540   49.030  52.870  47.640 2194300.000   \n",
       "3   181.461    47.269  212.220   48.255 209.700  47.737  560900.000   \n",
       "4    96.820    37.520   97.780   37.710  95.170  37.000 1520500.000   \n",
       "\n",
       "    Volume_P2  abs_spread  same_sector_flag  ...  DIFF_atr  DIFF_bb_ma  \\\n",
       "0 1520500.000      84.641             False  ...    28.226      87.138   \n",
       "1  874600.000      22.125             False  ...     0.257     -19.726   \n",
       "2 2811400.000       5.726             False  ...    -1.012       8.571   \n",
       "3  550000.000     134.192             False  ...    29.927     129.057   \n",
       "4  727600.000      59.300              True  ...     2.335      51.966   \n",
       "\n",
       "   DIFF_adx  DIFF_ema  DIFF_macd  DIFF_dlr  DIFF_daily_returns  \\\n",
       "0   -12.763    85.688     -1.343     0.439               0.004   \n",
       "1    11.234   -20.742     -3.188     1.639               0.017   \n",
       "2    -0.547     7.714     -0.195    -3.253              -0.033   \n",
       "3   -12.637   130.581      1.639     0.131               0.001   \n",
       "4    -3.536    54.767      3.437    -2.109              -0.021   \n",
       "\n",
       "   DIFF_50 Days Average  DIFF_200 Days Average  DIFF_abs_spread_mean_l20_500  \n",
       "0                87.849                 87.478                         0.143  \n",
       "1               -13.250                 -3.547                         9.521  \n",
       "2                 7.611                  4.786                         4.008  \n",
       "3               127.342                121.097                        13.470  \n",
       "4                47.899                 40.215                        17.477  \n",
       "\n",
       "[5 rows x 73 columns]"
      ]
     },
     "execution_count": 42,
     "metadata": {},
     "output_type": "execute_result"
    }
   ],
   "source": [
    "read_x = pd.read_csv('Data/Testhack-DATA-xtest-input.csv')\n",
    "read_x.head(5)"
   ]
  },
  {
   "cell_type": "code",
   "execution_count": 65,
   "id": "1f375c60-0a06-4504-a700-f0485a55f0b3",
   "metadata": {},
   "outputs": [],
   "source": [
    "df = pd.read_csv('Data//transformed_data.csv')"
   ]
  },
  {
   "cell_type": "code",
   "execution_count": 68,
   "id": "54054371-e9fe-49ef-959a-3a294d445d1b",
   "metadata": {},
   "outputs": [],
   "source": [
    "import joblib\n",
    "entry_model = joblib.load(\"Outputs/xgb_st_entry.pkl\")\n",
    "# exit_model = joblib.load(\"Outputs/xgb_lt_exit.pkl\")\n",
    "X_test = xgb_model.feature_scaler.transform(latest[xgb_model.features_names])\n",
    "\n",
    "predictions = entry_model.predict(X_test)"
   ]
  },
  {
   "cell_type": "code",
   "execution_count": 123,
   "id": "7befb38f-ab89-4379-b17a-ad8c3ed9c525",
   "metadata": {},
   "outputs": [],
   "source": [
    "probability_class_1 = entry_model.predict_proba(X_test)\n",
    "predictions = np.argmax(probability_class_1, axis=1)\n",
    "probability = probability_class_1[:, 1]"
   ]
  },
  {
   "cell_type": "code",
   "execution_count": 126,
   "id": "02a4e52d-3d4e-4787-a126-1a0f28cbaa97",
   "metadata": {},
   "outputs": [
    {
     "data": {
      "text/plain": [
       "1176"
      ]
     },
     "execution_count": 126,
     "metadata": {},
     "output_type": "execute_result"
    }
   ],
   "source": [
    "len(probability)"
   ]
  },
  {
   "cell_type": "code",
   "execution_count": 114,
   "id": "8ed78792-f68e-48ef-911b-6002b2882b43",
   "metadata": {},
   "outputs": [],
   "source": [
    "latest = df[df.Date == df.Date.max()]"
   ]
  },
  {
   "cell_type": "code",
   "execution_count": 138,
   "id": "f323fbb0-b194-4ed5-9fd4-0844aca735e0",
   "metadata": {},
   "outputs": [],
   "source": [
    "len(latest)\n",
    "latest = latest.reset_index()"
   ]
  },
  {
   "cell_type": "code",
   "execution_count": 147,
   "id": "b04b973e-de29-4bfd-8ca0-32644f25636a",
   "metadata": {},
   "outputs": [
    {
     "ename": "ValueError",
     "evalue": "Must have equal len keys and value when setting with an iterable",
     "output_type": "error",
     "traceback": [
      "\u001b[0;31m---------------------------------------------------------------------------\u001b[0m",
      "\u001b[0;31mValueError\u001b[0m                                Traceback (most recent call last)",
      "Cell \u001b[0;32mIn[147], line 1\u001b[0m\n\u001b[0;32m----> 1\u001b[0m \u001b[43mlatest\u001b[49m\u001b[38;5;241;43m.\u001b[39;49m\u001b[43miloc\u001b[49m\u001b[43m[\u001b[49m\u001b[38;5;124;43m'\u001b[39;49m\u001b[38;5;124;43mpreds\u001b[39;49m\u001b[38;5;124;43m'\u001b[39;49m\u001b[43m]\u001b[49m \u001b[38;5;241m=\u001b[39m [x \u001b[38;5;28;01mfor\u001b[39;00m x \u001b[38;5;129;01min\u001b[39;00m predictions]\n\u001b[1;32m      2\u001b[0m best_k \u001b[38;5;241m=\u001b[39m latest\u001b[38;5;241m.\u001b[39msort_values(\u001b[38;5;124m'\u001b[39m\u001b[38;5;124mpreds\u001b[39m\u001b[38;5;124m'\u001b[39m, ascending\u001b[38;5;241m=\u001b[39m\u001b[38;5;28;01mFalse\u001b[39;00m)\u001b[38;5;241m.\u001b[39mhead(\u001b[38;5;241m3\u001b[39m)\n\u001b[1;32m      4\u001b[0m \u001b[38;5;28mstr\u001b[39m(probability[best_k\u001b[38;5;241m.\u001b[39mindex])\n",
      "File \u001b[0;32m~/Library/Caches/pypoetry/virtualenvs/pair-trading-foundations-DEzRRu6K-py3.11/lib/python3.11/site-packages/pandas/core/indexing.py:911\u001b[0m, in \u001b[0;36m_LocationIndexer.__setitem__\u001b[0;34m(self, key, value)\u001b[0m\n\u001b[1;32m    908\u001b[0m \u001b[38;5;28mself\u001b[39m\u001b[38;5;241m.\u001b[39m_has_valid_setitem_indexer(key)\n\u001b[1;32m    910\u001b[0m iloc \u001b[38;5;241m=\u001b[39m \u001b[38;5;28mself\u001b[39m \u001b[38;5;28;01mif\u001b[39;00m \u001b[38;5;28mself\u001b[39m\u001b[38;5;241m.\u001b[39mname \u001b[38;5;241m==\u001b[39m \u001b[38;5;124m\"\u001b[39m\u001b[38;5;124miloc\u001b[39m\u001b[38;5;124m\"\u001b[39m \u001b[38;5;28;01melse\u001b[39;00m \u001b[38;5;28mself\u001b[39m\u001b[38;5;241m.\u001b[39mobj\u001b[38;5;241m.\u001b[39miloc\n\u001b[0;32m--> 911\u001b[0m \u001b[43miloc\u001b[49m\u001b[38;5;241;43m.\u001b[39;49m\u001b[43m_setitem_with_indexer\u001b[49m\u001b[43m(\u001b[49m\u001b[43mindexer\u001b[49m\u001b[43m,\u001b[49m\u001b[43m \u001b[49m\u001b[43mvalue\u001b[49m\u001b[43m,\u001b[49m\u001b[43m \u001b[49m\u001b[38;5;28;43mself\u001b[39;49m\u001b[38;5;241;43m.\u001b[39;49m\u001b[43mname\u001b[49m\u001b[43m)\u001b[49m\n",
      "File \u001b[0;32m~/Library/Caches/pypoetry/virtualenvs/pair-trading-foundations-DEzRRu6K-py3.11/lib/python3.11/site-packages/pandas/core/indexing.py:1942\u001b[0m, in \u001b[0;36m_iLocIndexer._setitem_with_indexer\u001b[0;34m(self, indexer, value, name)\u001b[0m\n\u001b[1;32m   1939\u001b[0m \u001b[38;5;66;03m# align and set the values\u001b[39;00m\n\u001b[1;32m   1940\u001b[0m \u001b[38;5;28;01mif\u001b[39;00m take_split_path:\n\u001b[1;32m   1941\u001b[0m     \u001b[38;5;66;03m# We have to operate column-wise\u001b[39;00m\n\u001b[0;32m-> 1942\u001b[0m     \u001b[38;5;28;43mself\u001b[39;49m\u001b[38;5;241;43m.\u001b[39;49m\u001b[43m_setitem_with_indexer_split_path\u001b[49m\u001b[43m(\u001b[49m\u001b[43mindexer\u001b[49m\u001b[43m,\u001b[49m\u001b[43m \u001b[49m\u001b[43mvalue\u001b[49m\u001b[43m,\u001b[49m\u001b[43m \u001b[49m\u001b[43mname\u001b[49m\u001b[43m)\u001b[49m\n\u001b[1;32m   1943\u001b[0m \u001b[38;5;28;01melse\u001b[39;00m:\n\u001b[1;32m   1944\u001b[0m     \u001b[38;5;28mself\u001b[39m\u001b[38;5;241m.\u001b[39m_setitem_single_block(indexer, value, name)\n",
      "File \u001b[0;32m~/Library/Caches/pypoetry/virtualenvs/pair-trading-foundations-DEzRRu6K-py3.11/lib/python3.11/site-packages/pandas/core/indexing.py:2027\u001b[0m, in \u001b[0;36m_iLocIndexer._setitem_with_indexer_split_path\u001b[0;34m(self, indexer, value, name)\u001b[0m\n\u001b[1;32m   2024\u001b[0m         \u001b[38;5;28mself\u001b[39m\u001b[38;5;241m.\u001b[39m_setitem_single_column(ilocs[\u001b[38;5;241m0\u001b[39m], value, pi)\n\u001b[1;32m   2026\u001b[0m     \u001b[38;5;28;01melse\u001b[39;00m:\n\u001b[0;32m-> 2027\u001b[0m         \u001b[38;5;28;01mraise\u001b[39;00m \u001b[38;5;167;01mValueError\u001b[39;00m(\n\u001b[1;32m   2028\u001b[0m             \u001b[38;5;124m\"\u001b[39m\u001b[38;5;124mMust have equal len keys and value \u001b[39m\u001b[38;5;124m\"\u001b[39m\n\u001b[1;32m   2029\u001b[0m             \u001b[38;5;124m\"\u001b[39m\u001b[38;5;124mwhen setting with an iterable\u001b[39m\u001b[38;5;124m\"\u001b[39m\n\u001b[1;32m   2030\u001b[0m         )\n\u001b[1;32m   2032\u001b[0m \u001b[38;5;28;01melse\u001b[39;00m:\n\u001b[1;32m   2033\u001b[0m     \u001b[38;5;66;03m# scalar value\u001b[39;00m\n\u001b[1;32m   2034\u001b[0m     \u001b[38;5;28;01mfor\u001b[39;00m loc \u001b[38;5;129;01min\u001b[39;00m ilocs:\n",
      "\u001b[0;31mValueError\u001b[0m: Must have equal len keys and value when setting with an iterable"
     ]
    }
   ],
   "source": [
    "latest['preds'] = [x for x in predictions]\n",
    "best_k = latest.sort_values('preds', ascending=False).head(3)\n",
    "\n",
    "str(probability[best_k.index])"
   ]
  },
  {
   "cell_type": "code",
   "execution_count": 103,
   "id": "cf05a319-46a5-4b0c-9930-d43c4389363f",
   "metadata": {},
   "outputs": [
    {
     "data": {
      "text/plain": [
       "Index(['Date', 'Ticker_P1', 'Close_P1', 'Ticker_P2', 'Close_P2', 'High_P1',\n",
       "       'High_P2', 'Low_P1', 'Low_P2', 'Volume_P1',\n",
       "       ...\n",
       "       'DIFF_dlr', 'DIFF_daily_returns', 'DIFF_50 Days Average',\n",
       "       'DIFF_200 Days Average', 'DIFF_abs_spread_mean_l20_500',\n",
       "       'direction_longterm_entry', 'direction_longterm_exit',\n",
       "       'direction_shortterm_entry', 'direction_shortterm_exit', 'preds'],\n",
       "      dtype='object', length=105)"
      ]
     },
     "execution_count": 103,
     "metadata": {},
     "output_type": "execute_result"
    }
   ],
   "source": [
    "output = latest.sort_values('preds', ascending=False).head(3)\n",
    "\n",
    "output.columns\n",
    "# np.array(output['preds'])\n",
    "# output.columns\n",
    "# print(output[0]['Ticker_P1'].item())\n",
    "# print(output[0]['Ticker_P2'].item())"
   ]
  },
  {
   "cell_type": "code",
   "execution_count": 55,
   "id": "2cbcb603-ae8a-401f-94de-37061c9db23c",
   "metadata": {},
   "outputs": [],
   "source": [
    "# def evaluate(model, k):\n",
    "#     \"\"\"\n",
    "#     model: str, one of predicted_proba_st_entry, predicted_proba_lt_exit, predicted_score_combined\n",
    "#     \"\"\"\n",
    "#     agg_y_test = test_data_enriched.groupby('Date').apply(lambda x: x.nlargest(k, model)).reset_index(drop=True)\n",
    "#     precision_at_k = agg_y_test.groupby('Date').max('both_legs_profited').reset_index(drop=True).both_legs_profited.mean()\n",
    "#     pnl_at_k = agg_y_test.groupby('Date').mean('pnls').reset_index(drop=True).pnls.mean()\n",
    "\n",
    "#     return precision_at_k, pnl_at_k\n",
    "\n",
    "model_names = ['predicted_proba_st_entry', 'predicted_proba_lt_exit', 'predicted_score_combined']\n",
    "all_ks = [1, 3, 5]\n",
    "\n",
    "models_used = []\n",
    "top_k = []\n",
    "pct_pair_profited = []\n",
    "avg_pnls = []\n",
    "\n",
    "for model in model_names:\n",
    "    for k in all_ks:\n",
    "        agg_y_test = test_data_enriched.groupby('Date').apply(lambda x: x.nlargest(k, model)).reset_index(drop=True)\n",
    "        precision_at_k = agg_y_test.groupby('Date').max('both_legs_profited').reset_index(drop=True).both_legs_profited.mean()\n",
    "        pnl_at_k = agg_y_test.groupby('Date').mean('pnls').reset_index(drop=True).pnls.mean()\n",
    "        models_used.append(model)\n",
    "        top_k.append(k)\n",
    "        pct_pair_profited.append(precision_at_k)  \n",
    "        avg_pnls.append(pnl_at_k)"
   ]
  },
  {
   "cell_type": "code",
   "execution_count": 56,
   "id": "2baf6e2b-12b6-478b-9eab-e2d9ab632cdf",
   "metadata": {},
   "outputs": [
    {
     "data": {
      "text/html": [
       "<div>\n",
       "<style scoped>\n",
       "    .dataframe tbody tr th:only-of-type {\n",
       "        vertical-align: middle;\n",
       "    }\n",
       "\n",
       "    .dataframe tbody tr th {\n",
       "        vertical-align: top;\n",
       "    }\n",
       "\n",
       "    .dataframe thead th {\n",
       "        text-align: right;\n",
       "    }\n",
       "</style>\n",
       "<table border=\"1\" class=\"dataframe\">\n",
       "  <thead>\n",
       "    <tr style=\"text-align: right;\">\n",
       "      <th></th>\n",
       "      <th>models_used</th>\n",
       "      <th>top_k</th>\n",
       "      <th>pct_pair_both_leg_profited_at_k (%)</th>\n",
       "      <th>avg_pnls_at_k (%)</th>\n",
       "    </tr>\n",
       "  </thead>\n",
       "  <tbody>\n",
       "    <tr>\n",
       "      <th>0</th>\n",
       "      <td>predicted_proba_st_entry</td>\n",
       "      <td>1</td>\n",
       "      <td>12.500</td>\n",
       "      <td>0.326</td>\n",
       "    </tr>\n",
       "    <tr>\n",
       "      <th>1</th>\n",
       "      <td>predicted_proba_st_entry</td>\n",
       "      <td>3</td>\n",
       "      <td>45.312</td>\n",
       "      <td>0.381</td>\n",
       "    </tr>\n",
       "    <tr>\n",
       "      <th>2</th>\n",
       "      <td>predicted_proba_st_entry</td>\n",
       "      <td>5</td>\n",
       "      <td>56.250</td>\n",
       "      <td>0.248</td>\n",
       "    </tr>\n",
       "    <tr>\n",
       "      <th>3</th>\n",
       "      <td>predicted_proba_lt_exit</td>\n",
       "      <td>1</td>\n",
       "      <td>15.625</td>\n",
       "      <td>0.021</td>\n",
       "    </tr>\n",
       "    <tr>\n",
       "      <th>4</th>\n",
       "      <td>predicted_proba_lt_exit</td>\n",
       "      <td>3</td>\n",
       "      <td>34.375</td>\n",
       "      <td>-0.036</td>\n",
       "    </tr>\n",
       "    <tr>\n",
       "      <th>5</th>\n",
       "      <td>predicted_proba_lt_exit</td>\n",
       "      <td>5</td>\n",
       "      <td>40.625</td>\n",
       "      <td>-0.020</td>\n",
       "    </tr>\n",
       "    <tr>\n",
       "      <th>6</th>\n",
       "      <td>predicted_score_combined</td>\n",
       "      <td>1</td>\n",
       "      <td>17.188</td>\n",
       "      <td>0.250</td>\n",
       "    </tr>\n",
       "    <tr>\n",
       "      <th>7</th>\n",
       "      <td>predicted_score_combined</td>\n",
       "      <td>3</td>\n",
       "      <td>50.000</td>\n",
       "      <td>0.311</td>\n",
       "    </tr>\n",
       "    <tr>\n",
       "      <th>8</th>\n",
       "      <td>predicted_score_combined</td>\n",
       "      <td>5</td>\n",
       "      <td>67.188</td>\n",
       "      <td>0.272</td>\n",
       "    </tr>\n",
       "  </tbody>\n",
       "</table>\n",
       "</div>"
      ],
      "text/plain": [
       "                models_used  top_k  pct_pair_both_leg_profited_at_k (%)  \\\n",
       "0  predicted_proba_st_entry      1                               12.500   \n",
       "1  predicted_proba_st_entry      3                               45.312   \n",
       "2  predicted_proba_st_entry      5                               56.250   \n",
       "3   predicted_proba_lt_exit      1                               15.625   \n",
       "4   predicted_proba_lt_exit      3                               34.375   \n",
       "5   predicted_proba_lt_exit      5                               40.625   \n",
       "6  predicted_score_combined      1                               17.188   \n",
       "7  predicted_score_combined      3                               50.000   \n",
       "8  predicted_score_combined      5                               67.188   \n",
       "\n",
       "   avg_pnls_at_k (%)  \n",
       "0              0.326  \n",
       "1              0.381  \n",
       "2              0.248  \n",
       "3              0.021  \n",
       "4             -0.036  \n",
       "5             -0.020  \n",
       "6              0.250  \n",
       "7              0.311  \n",
       "8              0.272  "
      ]
     },
     "execution_count": 56,
     "metadata": {},
     "output_type": "execute_result"
    }
   ],
   "source": [
    "summary_tb = pd.DataFrame()\n",
    "summary_tb['models_used'] = models_used\n",
    "summary_tb['top_k'] = top_k\n",
    "summary_tb['pct_pair_both_leg_profited_at_k (%)'] = np.array(pct_pair_profited)*100\n",
    "summary_tb['avg_pnls_at_k (%)'] = avg_pnls\n",
    "summary_tb"
   ]
  },
  {
   "cell_type": "code",
   "execution_count": null,
   "id": "d6ca172f-dd27-48ee-828d-29fdf8733e14",
   "metadata": {},
   "outputs": [],
   "source": []
  }
 ],
 "metadata": {
  "kernelspec": {
   "display_name": "Python 3 (ipykernel)",
   "language": "python",
   "name": "python3"
  },
  "language_info": {
   "codemirror_mode": {
    "name": "ipython",
    "version": 3
   },
   "file_extension": ".py",
   "mimetype": "text/x-python",
   "name": "python",
   "nbconvert_exporter": "python",
   "pygments_lexer": "ipython3",
   "version": "3.11.6"
  },
  "toc": {
   "base_numbering": 1,
   "nav_menu": {},
   "number_sections": true,
   "sideBar": true,
   "skip_h1_title": false,
   "title_cell": "Table of Contents",
   "title_sidebar": "Contents",
   "toc_cell": false,
   "toc_position": {
    "height": "calc(100% - 180px)",
    "left": "10px",
    "top": "150px",
    "width": "256px"
   },
   "toc_section_display": true,
   "toc_window_display": true
  },
  "varInspector": {
   "cols": {
    "lenName": 16,
    "lenType": 16,
    "lenVar": 40
   },
   "kernels_config": {
    "python": {
     "delete_cmd_postfix": "",
     "delete_cmd_prefix": "del ",
     "library": "var_list.py",
     "varRefreshCmd": "print(var_dic_list())"
    },
    "r": {
     "delete_cmd_postfix": ") ",
     "delete_cmd_prefix": "rm(",
     "library": "var_list.r",
     "varRefreshCmd": "cat(var_dic_list()) "
    }
   },
   "types_to_exclude": [
    "module",
    "function",
    "builtin_function_or_method",
    "instance",
    "_Feature"
   ],
   "window_display": false
  }
 },
 "nbformat": 4,
 "nbformat_minor": 5
}
