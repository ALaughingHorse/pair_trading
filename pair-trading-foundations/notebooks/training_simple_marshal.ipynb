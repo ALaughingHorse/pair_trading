{
 "cells": [
  {
   "cell_type": "code",
   "execution_count": null,
   "id": "4811023e-d8ef-4c27-ab22-300d9add312c",
   "metadata": {},
   "outputs": [],
   "source": [
    "import pandas as pd\n",
    "import numpy as np\n",
    "from sklearn.model_selection import train_test_split\n",
    "from sklearn.linear_model import LogisticRegression\n",
    "from sklearn.tree import DecisionTreeClassifier, plot_tree\n",
    "from sklearn.ensemble import RandomForestClassifier\n",
    "from xgboost import XGBClassifier\n",
    "import matplotlib.pyplot as plt\n",
    "from sklearn.metrics import classification_report, accuracy_score"
   ]
  },
  {
   "cell_type": "code",
   "execution_count": null,
   "id": "7560e426-1d27-462d-bca3-7e0d16414e97",
   "metadata": {},
   "outputs": [],
   "source": [
    "df = pd.read_csv('Data/Training/pair_features_updated_300_20.csv')\n",
    "# df['pnls'] = df['pnls']*100.0\n",
    "df.head()"
   ]
  },
  {
   "cell_type": "code",
   "execution_count": null,
   "id": "c1b12c43-0d7a-4c6b-bb93-8d664e8987c4",
   "metadata": {},
   "outputs": [],
   "source": []
  },
  {
   "cell_type": "code",
   "execution_count": null,
   "id": "114c2826-3e92-4608-96eb-e1c5ed23f45b",
   "metadata": {},
   "outputs": [],
   "source": [
    "df.columns"
   ]
  },
  {
   "cell_type": "code",
   "execution_count": null,
   "id": "63ae4984-de3c-4a7c-9f63-b6a3438d4ed1",
   "metadata": {},
   "outputs": [],
   "source": [
    "df.isna().sum().sort_values(ascending=False).head(20)"
   ]
  },
  {
   "cell_type": "code",
   "execution_count": null,
   "id": "3c835825-7d67-479d-9f46-3170ef206c56",
   "metadata": {},
   "outputs": [],
   "source": [
    "features_names = ['cos_sim', 'corr_coef', 'same_sector_flag', 'same_sub_industry_flag',\n",
    "       'abs_spread_normed_max', 'abs_spread_normed_90th',\n",
    "       'abs_spread_normed_75th', 'abs_spread_normed_median',\n",
    "       'abs_spread_normed_l7_avg', 'abs_spread_normed_l14_avg']\n",
    "\n",
    "# features_names = ['Date', 'Ticker_P1','Ticker_P2' ,'cos_sim', 'corr_coef', 'same_sector_flag', 'same_sub_industry_flag']\n",
    "# features_names = ['corr_coef', 'same_sector_flag', 'same_sub_industry_flag']\n",
    "\n",
    "# label = ['Date', 'Ticker_P1','Ticker_P2','recommended_trade','pnls']\n",
    "label = ['successful_pair_trading']"
   ]
  },
  {
   "cell_type": "code",
   "execution_count": null,
   "id": "a9b13793-0348-4e30-b95f-8fb118abbd96",
   "metadata": {},
   "outputs": [],
   "source": [
    "print(df.shape)\n",
    "df.replace([np.inf, -np.inf], np.nan, inplace=True)\n",
    "df = df.dropna(subset=features_names)\n",
    "print(df.shape)"
   ]
  },
  {
   "cell_type": "code",
   "execution_count": null,
   "id": "d7ebcd0e-2eb1-49ec-bd7f-69169939c4a6",
   "metadata": {},
   "outputs": [],
   "source": [
    "df.columns"
   ]
  },
  {
   "cell_type": "code",
   "execution_count": null,
   "id": "a37af3a8-2969-4fca-a385-3580459d8d8f",
   "metadata": {},
   "outputs": [],
   "source": [
    "X_train, X_test, y_train, y_test = train_test_split(df[features_names], df[label], test_size=0.2, shuffle=False)"
   ]
  },
  {
   "cell_type": "code",
   "execution_count": null,
   "id": "a6360cc2-2d91-4801-bf7d-fc55d821a7bb",
   "metadata": {},
   "outputs": [],
   "source": [
    "# Initialize and train the Decision Tree Classifier\n",
    "clf = DecisionTreeClassifier(random_state=42)\n",
    "clf.fit(X_train, y_train)\n",
    "\n",
    "# # Initialize and train the Logistic Regression model\n",
    "# log_reg = LogisticRegression(max_iter=200, random_state=42)\n",
    "# log_reg.fit(X_train, y_train)\n",
    "\n",
    "# # Initialize RandomForest \n",
    "# rf = RandomForestClassifier()\n",
    "# rf.fit(X_train, y_train)\n",
    "\n",
    "xgb = XGBClassifier()\n",
    "xgb.fit(X_train, y_train)"
   ]
  },
  {
   "cell_type": "code",
   "execution_count": null,
   "id": "cdd20182-f725-456c-b1b4-336bdc4ba955",
   "metadata": {},
   "outputs": [],
   "source": [
    "# Plot feature importances\n",
    "importances = clf.feature_importances_\n",
    "feature_imp_tb_tree = pd.DataFrame()\n",
    "feature_imp_tb_tree['features'] = features_names\n",
    "feature_imp_tb_tree['importances'] = importances"
   ]
  },
  {
   "cell_type": "code",
   "execution_count": null,
   "id": "3bb73e78-bff0-4b43-9305-62bce609ac4f",
   "metadata": {},
   "outputs": [],
   "source": [
    "# # Plot feature importances\n",
    "# importances = rf.feature_importances_\n",
    "# feature_imp_tb_rf = pd.DataFrame()\n",
    "# feature_imp_tb_rf['features'] = features_names\n",
    "# feature_imp_tb_rf['importances'] = importances\n",
    "\n",
    "# Plot feature importances\n",
    "importances = xgb.feature_importances_\n",
    "feature_imp_tb_xgb = pd.DataFrame()\n",
    "feature_imp_tb_xgb['features'] = features_names\n",
    "feature_imp_tb_xgb['importances'] = importances"
   ]
  },
  {
   "cell_type": "code",
   "execution_count": null,
   "id": "841cd942-33f9-4c65-840c-e17a68ffe7cd",
   "metadata": {},
   "outputs": [],
   "source": [
    "# # Plot feature importances\n",
    "# importances = log_reg.coef_[0]\n",
    "# feature_imp_tb_lr = pd.DataFrame()\n",
    "# feature_imp_tb_lr['features'] = features_names\n",
    "# feature_imp_tb_lr['coef'] = importances"
   ]
  },
  {
   "cell_type": "code",
   "execution_count": null,
   "id": "b54f2833-baf4-4a57-9c32-6db8e449c169",
   "metadata": {},
   "outputs": [],
   "source": [
    "feature_imp_tb_tree"
   ]
  },
  {
   "cell_type": "code",
   "execution_count": null,
   "id": "fecdbb86-11b4-4945-97bd-164227bea3b7",
   "metadata": {},
   "outputs": [],
   "source": [
    "feature_imp_tb_xgb"
   ]
  },
  {
   "cell_type": "code",
   "execution_count": null,
   "id": "e9257dab-b944-4afa-bae5-16bf2b5163d7",
   "metadata": {},
   "outputs": [],
   "source": [
    "# Predict the labels for the test set\n",
    "y_pred = clf.predict(X_test)\n",
    "\n",
    "# Calculate accuracy\n",
    "accuracy = accuracy_score(y_test, y_pred)\n",
    "print(f\"Accuracy: {accuracy:.2f}\")\n",
    "\n",
    "# Calculate precision, recall, and F1 score\n",
    "report = classification_report(y_test, y_pred)\n",
    "print(report)"
   ]
  },
  {
   "cell_type": "code",
   "execution_count": null,
   "id": "8c2b267d-f19d-4a40-a5be-c3a268fb9833",
   "metadata": {},
   "outputs": [],
   "source": [
    "# Predict the labels for the test set\n",
    "y_pred = xgb.predict(X_test)\n",
    "y_pred_proba = [x[1] for x in xgb.predict_proba(X_test)]\n",
    "\n",
    "# Calculate accuracy\n",
    "accuracy = accuracy_score(y_test, y_pred)\n",
    "print(f\"Accuracy: {accuracy:.2f}\")\n",
    "\n",
    "# Calculate precision, recall, and F1 score\n",
    "report = classification_report(y_test, y_pred)\n",
    "print(report)"
   ]
  },
  {
   "cell_type": "code",
   "execution_count": null,
   "id": "35e33433-2cc3-471f-902c-1c0fd7717931",
   "metadata": {},
   "outputs": [],
   "source": []
  }
 ],
 "metadata": {
  "kernelspec": {
   "display_name": "Python 3 (ipykernel)",
   "language": "python",
   "name": "python3"
  },
  "language_info": {
   "codemirror_mode": {
    "name": "ipython",
    "version": 3
   },
   "file_extension": ".py",
   "mimetype": "text/x-python",
   "name": "python",
   "nbconvert_exporter": "python",
   "pygments_lexer": "ipython3",
   "version": "3.11.6"
  }
 },
 "nbformat": 4,
 "nbformat_minor": 5
}
