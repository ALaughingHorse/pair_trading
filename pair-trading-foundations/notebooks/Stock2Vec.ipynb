{
 "cells": [
  {
   "cell_type": "code",
   "execution_count": 1,
   "id": "e5ab1d73",
   "metadata": {},
   "outputs": [
    {
     "name": "stderr",
     "output_type": "stream",
     "text": [
      "/tmp/ipykernel_18981/3803107103.py:4: DeprecationWarning: \n",
      "Pyarrow will become a required dependency of pandas in the next major release of pandas (pandas 3.0),\n",
      "(to allow more performant data types, such as the Arrow string type, and better interoperability with other libraries)\n",
      "but was not found to be installed on your system.\n",
      "If this would cause problems for you,\n",
      "please provide us feedback at https://github.com/pandas-dev/pandas/issues/54466\n",
      "        \n",
      "  import pandas as pd\n",
      "2024-02-21 03:32:34.501944: I tensorflow/core/util/port.cc:110] oneDNN custom operations are on. You may see slightly different numerical results due to floating-point round-off errors from different computation orders. To turn them off, set the environment variable `TF_ENABLE_ONEDNN_OPTS=0`.\n",
      "2024-02-21 03:32:34.539260: I tensorflow/core/platform/cpu_feature_guard.cc:182] This TensorFlow binary is optimized to use available CPU instructions in performance-critical operations.\n",
      "To enable the following instructions: AVX2 AVX512F AVX512_VNNI AVX512_BF16 AVX_VNNI AMX_TILE AMX_INT8 AMX_BF16 FMA, in other operations, rebuild TensorFlow with the appropriate compiler flags.\n",
      "2024-02-21 03:32:35.183430: W tensorflow/compiler/tf2tensorrt/utils/py_utils.cc:38] TF-TRT Warning: Could not find TensorRT\n"
     ]
    }
   ],
   "source": [
    "# Import Dependencies:\n",
    "## Note: You may have to install a number of packages prior to running this notebook.\n",
    "import numpy as np\n",
    "import pandas as pd\n",
    "import os\n",
    "import glob\n",
    "import pickle as pickle\n",
    "import json\n",
    "# import missingno\n",
    "import itertools\n",
    "from itertools import cycle\n",
    "from datetime import datetime\n",
    "from builtins import object\n",
    "from datetime import date\n",
    "from dateutil.relativedelta import relativedelta\n",
    "from collections import defaultdict\n",
    "from concurrent import futures\n",
    "from pandas import set_option\n",
    "import ta\n",
    "# import pandas_datareader.data as web\n",
    "import warnings\n",
    "import random\n",
    "warnings.filterwarnings('ignore')\n",
    "\n",
    "#visualization dependencies\n",
    "import matplotlib.pyplot as plt\n",
    "import matplotlib.cm as cm\n",
    "import seaborn as sns\n",
    "from plotly import graph_objects as go\n",
    "from plotly import offline as py\n",
    "import plotly.express as px\n",
    "%matplotlib inline\n",
    "\n",
    "#machine learning/statistical dependencies\n",
    "import statsmodels.api as sm\n",
    "from kneed import KneeLocator\n",
    "from sklearn import metrics\n",
    "from sklearn.preprocessing import StandardScaler, MinMaxScaler\n",
    "from sklearn.metrics import mean_squared_error, silhouette_score\n",
    "from sklearn.cluster import KMeans, AgglomerativeClustering, AffinityPropagation\n",
    "from sklearn.manifold import TSNE\n",
    "import statsmodels.api as sm\n",
    "import statsmodels.tsa.stattools as ts\n",
    "from statsmodels.tsa.arima.model import ARIMA \n",
    "# from pykalman import KalmanFilter\n",
    "from keras.models import Sequential, Model\n",
    "from keras.layers import Dense, LSTM, Dropout\n",
    "import scipy.cluster.hierarchy as shc\n",
    "\n",
    "import gc\n",
    "from tqdm.notebook import tqdm\n",
    "import tensorflow as tf\n",
    "from tensorflow.keras import layers\n",
    "from sklearn.model_selection import train_test_split\n",
    "\n",
    "from tensorflow.keras.layers import dot, Dense, Reshape, Embedding\n",
    "from tensorflow.keras.models import Sequential\n",
    "\n",
    "from sklearn.metrics.pairwise import cosine_similarity\n",
    "import faiss\n",
    "\n",
    "#displaying\n",
    "# set_option('precision', 3)"
   ]
  },
  {
   "cell_type": "code",
   "execution_count": 2,
   "id": "4bee25bd",
   "metadata": {},
   "outputs": [],
   "source": [
    "tqdm.pandas()"
   ]
  },
  {
   "cell_type": "code",
   "execution_count": 3,
   "id": "ccbeeaa0",
   "metadata": {},
   "outputs": [],
   "source": [
    "pd.set_option('display.float_format', lambda x: '%.3f' % x)\n",
    "np.set_printoptions(suppress=True)\n"
   ]
  },
  {
   "cell_type": "markdown",
   "id": "78e5cb20",
   "metadata": {},
   "source": [
    "# Read Data"
   ]
  },
  {
   "cell_type": "code",
   "execution_count": 4,
   "id": "7f816bc0",
   "metadata": {},
   "outputs": [],
   "source": [
    "df = pd.read_csv('/home/ec2-user/Capstone/1999-12-01-2023-12-31.csv')"
   ]
  },
  {
   "cell_type": "code",
   "execution_count": 5,
   "id": "61f145dd",
   "metadata": {},
   "outputs": [],
   "source": [
    "spy_df = pd.read_csv('/home/ec2-user/Capstone/1999-12-01-2023-12-31_SPY.csv')"
   ]
  },
  {
   "cell_type": "code",
   "execution_count": 6,
   "id": "77fefc38",
   "metadata": {},
   "outputs": [
    {
     "data": {
      "text/plain": [
       "(2701713, 10)"
      ]
     },
     "execution_count": 6,
     "metadata": {},
     "output_type": "execute_result"
    }
   ],
   "source": [
    "df.shape"
   ]
  },
  {
   "cell_type": "code",
   "execution_count": 7,
   "id": "0f124c34",
   "metadata": {},
   "outputs": [
    {
     "data": {
      "text/html": [
       "<div>\n",
       "<style scoped>\n",
       "    .dataframe tbody tr th:only-of-type {\n",
       "        vertical-align: middle;\n",
       "    }\n",
       "\n",
       "    .dataframe tbody tr th {\n",
       "        vertical-align: top;\n",
       "    }\n",
       "\n",
       "    .dataframe thead th {\n",
       "        text-align: right;\n",
       "    }\n",
       "</style>\n",
       "<table border=\"1\" class=\"dataframe\">\n",
       "  <thead>\n",
       "    <tr style=\"text-align: right;\">\n",
       "      <th></th>\n",
       "      <th>Date</th>\n",
       "      <th>Open</th>\n",
       "      <th>High</th>\n",
       "      <th>Low</th>\n",
       "      <th>Close</th>\n",
       "      <th>Adj Close</th>\n",
       "      <th>Volume</th>\n",
       "      <th>Ticker</th>\n",
       "      <th>GICS Sector</th>\n",
       "      <th>GICS Sub-Industry</th>\n",
       "    </tr>\n",
       "  </thead>\n",
       "  <tbody>\n",
       "    <tr>\n",
       "      <th>0</th>\n",
       "      <td>1999-12-01</td>\n",
       "      <td>47.344</td>\n",
       "      <td>47.625</td>\n",
       "      <td>46.781</td>\n",
       "      <td>47.219</td>\n",
       "      <td>24.405</td>\n",
       "      <td>2062600.000</td>\n",
       "      <td>MMM</td>\n",
       "      <td>Industrials</td>\n",
       "      <td>Industrial Conglomerates</td>\n",
       "    </tr>\n",
       "    <tr>\n",
       "      <th>1</th>\n",
       "      <td>1999-12-02</td>\n",
       "      <td>47.500</td>\n",
       "      <td>49.219</td>\n",
       "      <td>47.469</td>\n",
       "      <td>48.594</td>\n",
       "      <td>25.116</td>\n",
       "      <td>2617400.000</td>\n",
       "      <td>MMM</td>\n",
       "      <td>Industrials</td>\n",
       "      <td>Industrial Conglomerates</td>\n",
       "    </tr>\n",
       "    <tr>\n",
       "      <th>2</th>\n",
       "      <td>1999-12-03</td>\n",
       "      <td>48.750</td>\n",
       "      <td>50.406</td>\n",
       "      <td>48.750</td>\n",
       "      <td>49.656</td>\n",
       "      <td>25.665</td>\n",
       "      <td>3060600.000</td>\n",
       "      <td>MMM</td>\n",
       "      <td>Industrials</td>\n",
       "      <td>Industrial Conglomerates</td>\n",
       "    </tr>\n",
       "    <tr>\n",
       "      <th>3</th>\n",
       "      <td>1999-12-06</td>\n",
       "      <td>49.250</td>\n",
       "      <td>49.531</td>\n",
       "      <td>48.688</td>\n",
       "      <td>48.906</td>\n",
       "      <td>25.277</td>\n",
       "      <td>1282200.000</td>\n",
       "      <td>MMM</td>\n",
       "      <td>Industrials</td>\n",
       "      <td>Industrial Conglomerates</td>\n",
       "    </tr>\n",
       "    <tr>\n",
       "      <th>4</th>\n",
       "      <td>1999-12-07</td>\n",
       "      <td>48.750</td>\n",
       "      <td>48.750</td>\n",
       "      <td>46.500</td>\n",
       "      <td>46.500</td>\n",
       "      <td>24.034</td>\n",
       "      <td>2190400.000</td>\n",
       "      <td>MMM</td>\n",
       "      <td>Industrials</td>\n",
       "      <td>Industrial Conglomerates</td>\n",
       "    </tr>\n",
       "  </tbody>\n",
       "</table>\n",
       "</div>"
      ],
      "text/plain": [
       "         Date   Open   High    Low  Close  Adj Close      Volume Ticker  \\\n",
       "0  1999-12-01 47.344 47.625 46.781 47.219     24.405 2062600.000    MMM   \n",
       "1  1999-12-02 47.500 49.219 47.469 48.594     25.116 2617400.000    MMM   \n",
       "2  1999-12-03 48.750 50.406 48.750 49.656     25.665 3060600.000    MMM   \n",
       "3  1999-12-06 49.250 49.531 48.688 48.906     25.277 1282200.000    MMM   \n",
       "4  1999-12-07 48.750 48.750 46.500 46.500     24.034 2190400.000    MMM   \n",
       "\n",
       "   GICS Sector         GICS Sub-Industry  \n",
       "0  Industrials  Industrial Conglomerates  \n",
       "1  Industrials  Industrial Conglomerates  \n",
       "2  Industrials  Industrial Conglomerates  \n",
       "3  Industrials  Industrial Conglomerates  \n",
       "4  Industrials  Industrial Conglomerates  "
      ]
     },
     "execution_count": 7,
     "metadata": {},
     "output_type": "execute_result"
    }
   ],
   "source": [
    "df.head()"
   ]
  },
  {
   "cell_type": "markdown",
   "id": "1955b069",
   "metadata": {},
   "source": [
    "# Feature Engineering"
   ]
  },
  {
   "cell_type": "code",
   "execution_count": 8,
   "id": "873830ed",
   "metadata": {},
   "outputs": [],
   "source": [
    "class feature_engineering(object):\n",
    "    def __init__(self):\n",
    "        super(feature_engineering, self).__init__()\n",
    "\n",
    "    def generate_technical_indicator(self, data_df): \n",
    "        '''\n",
    "        Function to generate additional technical indicators for the stock\n",
    "\n",
    "        Uses the \"statsmodels.tsa.stattools\" (as \"ts\") package to apply \n",
    "        the equations specified in the \"Technical Indicators\" markdown section \n",
    "        to stock closing data.\n",
    "        \n",
    "        Input:\n",
    "        data_df-- Dataframe containing stock finacials data\n",
    "        \n",
    "        Output:\n",
    "        Stock finacials data with added Dataframe of feature obtained from feature engineering\n",
    "        ''' \n",
    "        # 1. Momentum Indicators\n",
    "        # Relative Strength Index\n",
    "        df = data_df\n",
    "        df['rsi'] = ta.momentum.rsi(df['Close'], window=14)\n",
    "        # Kaufman’s Adaptive Moving Average (KAMA)\n",
    "        df['kama'] = ta.momentum.kama(df['Close'],window=14)\n",
    "\n",
    "        # 2. Volume Indicators\n",
    "        # Accumulation/Distribution Index (ADI)\n",
    "        df['adi'] = ta.volume.acc_dist_index(df['High'], df['Low'], df['Close'], df['Volume'])\n",
    "\n",
    "        # Volume-price trend (VPT)\n",
    "        df['vpt'] = ta.volume.volume_price_trend(df['Close'], df['Volume'])\n",
    "\n",
    "        # 3. Volatility Indicators\n",
    "        # Average True Range (ATR)\n",
    "        df['atr'] = ta.volatility.average_true_range(df['High'], df['Low'],df['Close'], window=14)\n",
    "\n",
    "        # Bollinger Bands (BB) N-period simple moving average (MA)\n",
    "        df['bb_ma'] = ta.volatility.bollinger_mavg(df['Close'], window=20)\n",
    "\n",
    "        # 4. Trend Indicators\n",
    "        # Average Directional Movement Index (ADX)\n",
    "        df['adx'] = ta.trend.adx(df['High'], df['Low'], df['Close'], window=14)\n",
    "\n",
    "        # Exponential Moving Average\n",
    "        df['ema'] = ta.trend.ema_indicator(df['Close'], window=14)\n",
    "\n",
    "        # Moving Average Convergence Divergence (MACD)\n",
    "        df['macd'] = ta.trend.macd(df['Close'], window_fast=14, window_slow=30)\n",
    "\n",
    "        # 5. Other Indicators\n",
    "        # Daily Log Return (DLR)\n",
    "        df['dlr'] = ta.others.daily_log_return(df['Close'])\n",
    "\n",
    "        # Daily Returns\n",
    "        df['daily_returns'] = df['Adj Close'].pct_change()\n",
    "\n",
    "        # Moving Averages\n",
    "        averages = [50,200]\n",
    "        for avg in averages:\n",
    "            col_name = str(avg) +' Days Average'\n",
    "            df[col_name] = df['Adj Close'].rolling(window = avg, center = False).mean()\n",
    "\n",
    "        return df"
   ]
  },
  {
   "cell_type": "code",
   "execution_count": 9,
   "id": "9c0b80a6",
   "metadata": {},
   "outputs": [
    {
     "data": {
      "text/html": [
       "<div>\n",
       "<style scoped>\n",
       "    .dataframe tbody tr th:only-of-type {\n",
       "        vertical-align: middle;\n",
       "    }\n",
       "\n",
       "    .dataframe tbody tr th {\n",
       "        vertical-align: top;\n",
       "    }\n",
       "\n",
       "    .dataframe thead th {\n",
       "        text-align: right;\n",
       "    }\n",
       "</style>\n",
       "<table border=\"1\" class=\"dataframe\">\n",
       "  <thead>\n",
       "    <tr style=\"text-align: right;\">\n",
       "      <th></th>\n",
       "      <th>Date</th>\n",
       "      <th>Open</th>\n",
       "      <th>High</th>\n",
       "      <th>Low</th>\n",
       "      <th>Close</th>\n",
       "      <th>Adj Close</th>\n",
       "      <th>Volume</th>\n",
       "      <th>Ticker</th>\n",
       "      <th>GICS Sector</th>\n",
       "      <th>GICS Sub-Industry</th>\n",
       "      <th>...</th>\n",
       "      <th>vpt</th>\n",
       "      <th>atr</th>\n",
       "      <th>bb_ma</th>\n",
       "      <th>adx</th>\n",
       "      <th>ema</th>\n",
       "      <th>macd</th>\n",
       "      <th>dlr</th>\n",
       "      <th>daily_returns</th>\n",
       "      <th>50 Days Average</th>\n",
       "      <th>200 Days Average</th>\n",
       "    </tr>\n",
       "  </thead>\n",
       "  <tbody>\n",
       "    <tr>\n",
       "      <th>0</th>\n",
       "      <td>1999-12-01</td>\n",
       "      <td>47.344</td>\n",
       "      <td>47.625</td>\n",
       "      <td>46.781</td>\n",
       "      <td>47.219</td>\n",
       "      <td>24.405</td>\n",
       "      <td>2062600.000</td>\n",
       "      <td>MMM</td>\n",
       "      <td>Industrials</td>\n",
       "      <td>Industrial Conglomerates</td>\n",
       "      <td>...</td>\n",
       "      <td>NaN</td>\n",
       "      <td>0.000</td>\n",
       "      <td>NaN</td>\n",
       "      <td>0.000</td>\n",
       "      <td>NaN</td>\n",
       "      <td>NaN</td>\n",
       "      <td>NaN</td>\n",
       "      <td>NaN</td>\n",
       "      <td>NaN</td>\n",
       "      <td>NaN</td>\n",
       "    </tr>\n",
       "    <tr>\n",
       "      <th>1</th>\n",
       "      <td>1999-12-02</td>\n",
       "      <td>47.500</td>\n",
       "      <td>49.219</td>\n",
       "      <td>47.469</td>\n",
       "      <td>48.594</td>\n",
       "      <td>25.116</td>\n",
       "      <td>2617400.000</td>\n",
       "      <td>MMM</td>\n",
       "      <td>Industrials</td>\n",
       "      <td>Industrial Conglomerates</td>\n",
       "      <td>...</td>\n",
       "      <td>76218.134</td>\n",
       "      <td>0.000</td>\n",
       "      <td>NaN</td>\n",
       "      <td>0.000</td>\n",
       "      <td>NaN</td>\n",
       "      <td>NaN</td>\n",
       "      <td>2.870</td>\n",
       "      <td>0.029</td>\n",
       "      <td>NaN</td>\n",
       "      <td>NaN</td>\n",
       "    </tr>\n",
       "    <tr>\n",
       "      <th>2</th>\n",
       "      <td>1999-12-03</td>\n",
       "      <td>48.750</td>\n",
       "      <td>50.406</td>\n",
       "      <td>48.750</td>\n",
       "      <td>49.656</td>\n",
       "      <td>25.665</td>\n",
       "      <td>3060600.000</td>\n",
       "      <td>MMM</td>\n",
       "      <td>Industrials</td>\n",
       "      <td>Industrial Conglomerates</td>\n",
       "      <td>...</td>\n",
       "      <td>143138.005</td>\n",
       "      <td>0.000</td>\n",
       "      <td>NaN</td>\n",
       "      <td>0.000</td>\n",
       "      <td>NaN</td>\n",
       "      <td>NaN</td>\n",
       "      <td>2.163</td>\n",
       "      <td>0.022</td>\n",
       "      <td>NaN</td>\n",
       "      <td>NaN</td>\n",
       "    </tr>\n",
       "    <tr>\n",
       "      <th>3</th>\n",
       "      <td>1999-12-06</td>\n",
       "      <td>49.250</td>\n",
       "      <td>49.531</td>\n",
       "      <td>48.688</td>\n",
       "      <td>48.906</td>\n",
       "      <td>25.277</td>\n",
       "      <td>1282200.000</td>\n",
       "      <td>MMM</td>\n",
       "      <td>Industrials</td>\n",
       "      <td>Industrial Conglomerates</td>\n",
       "      <td>...</td>\n",
       "      <td>123771.863</td>\n",
       "      <td>0.000</td>\n",
       "      <td>NaN</td>\n",
       "      <td>0.000</td>\n",
       "      <td>NaN</td>\n",
       "      <td>NaN</td>\n",
       "      <td>-1.522</td>\n",
       "      <td>-0.015</td>\n",
       "      <td>NaN</td>\n",
       "      <td>NaN</td>\n",
       "    </tr>\n",
       "    <tr>\n",
       "      <th>4</th>\n",
       "      <td>1999-12-07</td>\n",
       "      <td>48.750</td>\n",
       "      <td>48.750</td>\n",
       "      <td>46.500</td>\n",
       "      <td>46.500</td>\n",
       "      <td>24.034</td>\n",
       "      <td>2190400.000</td>\n",
       "      <td>MMM</td>\n",
       "      <td>Industrials</td>\n",
       "      <td>Industrial Conglomerates</td>\n",
       "      <td>...</td>\n",
       "      <td>16001.384</td>\n",
       "      <td>0.000</td>\n",
       "      <td>NaN</td>\n",
       "      <td>0.000</td>\n",
       "      <td>NaN</td>\n",
       "      <td>NaN</td>\n",
       "      <td>-5.045</td>\n",
       "      <td>-0.049</td>\n",
       "      <td>NaN</td>\n",
       "      <td>NaN</td>\n",
       "    </tr>\n",
       "  </tbody>\n",
       "</table>\n",
       "<p>5 rows × 23 columns</p>\n",
       "</div>"
      ],
      "text/plain": [
       "         Date   Open   High    Low  Close  Adj Close      Volume Ticker  \\\n",
       "0  1999-12-01 47.344 47.625 46.781 47.219     24.405 2062600.000    MMM   \n",
       "1  1999-12-02 47.500 49.219 47.469 48.594     25.116 2617400.000    MMM   \n",
       "2  1999-12-03 48.750 50.406 48.750 49.656     25.665 3060600.000    MMM   \n",
       "3  1999-12-06 49.250 49.531 48.688 48.906     25.277 1282200.000    MMM   \n",
       "4  1999-12-07 48.750 48.750 46.500 46.500     24.034 2190400.000    MMM   \n",
       "\n",
       "   GICS Sector         GICS Sub-Industry  ...        vpt   atr  bb_ma   adx  \\\n",
       "0  Industrials  Industrial Conglomerates  ...        NaN 0.000    NaN 0.000   \n",
       "1  Industrials  Industrial Conglomerates  ...  76218.134 0.000    NaN 0.000   \n",
       "2  Industrials  Industrial Conglomerates  ... 143138.005 0.000    NaN 0.000   \n",
       "3  Industrials  Industrial Conglomerates  ... 123771.863 0.000    NaN 0.000   \n",
       "4  Industrials  Industrial Conglomerates  ...  16001.384 0.000    NaN 0.000   \n",
       "\n",
       "   ema  macd    dlr  daily_returns  50 Days Average  200 Days Average  \n",
       "0  NaN   NaN    NaN            NaN              NaN               NaN  \n",
       "1  NaN   NaN  2.870          0.029              NaN               NaN  \n",
       "2  NaN   NaN  2.163          0.022              NaN               NaN  \n",
       "3  NaN   NaN -1.522         -0.015              NaN               NaN  \n",
       "4  NaN   NaN -5.045         -0.049              NaN               NaN  \n",
       "\n",
       "[5 rows x 23 columns]"
      ]
     },
     "execution_count": 9,
     "metadata": {},
     "output_type": "execute_result"
    }
   ],
   "source": [
    "# Create an instance of the feature_engineering class object\n",
    "fe_obj = feature_engineering()\n",
    "\n",
    "# Add technical indicators to combined_data\n",
    "df = fe_obj.generate_technical_indicator(df)\n",
    "df.head()"
   ]
  },
  {
   "cell_type": "code",
   "execution_count": 10,
   "id": "19060e2d",
   "metadata": {},
   "outputs": [],
   "source": [
    "spy_df = fe_obj.generate_technical_indicator(spy_df)"
   ]
  },
  {
   "cell_type": "markdown",
   "id": "e76685e7",
   "metadata": {},
   "source": [
    "# Filter Data and Select Date Range and Columns"
   ]
  },
  {
   "cell_type": "code",
   "execution_count": 11,
   "id": "06a8106c",
   "metadata": {},
   "outputs": [
    {
     "data": {
      "application/vnd.jupyter.widget-view+json": {
       "model_id": "769c98474cdb4d8f9e46fd32e2fe9239",
       "version_major": 2,
       "version_minor": 0
      },
      "text/plain": [
       "  0%|          | 0/481 [00:00<?, ?it/s]"
      ]
     },
     "metadata": {},
     "output_type": "display_data"
    },
    {
     "data": {
      "text/html": [
       "<div>\n",
       "<style scoped>\n",
       "    .dataframe tbody tr th:only-of-type {\n",
       "        vertical-align: middle;\n",
       "    }\n",
       "\n",
       "    .dataframe tbody tr th {\n",
       "        vertical-align: top;\n",
       "    }\n",
       "\n",
       "    .dataframe thead th {\n",
       "        text-align: right;\n",
       "    }\n",
       "</style>\n",
       "<table border=\"1\" class=\"dataframe\">\n",
       "  <thead>\n",
       "    <tr style=\"text-align: right;\">\n",
       "      <th></th>\n",
       "      <th>Date</th>\n",
       "      <th>Ticker</th>\n",
       "      <th>daily_returns</th>\n",
       "    </tr>\n",
       "  </thead>\n",
       "  <tbody>\n",
       "    <tr>\n",
       "      <th>0</th>\n",
       "      <td>2011-01-04</td>\n",
       "      <td>A</td>\n",
       "      <td>-0.009</td>\n",
       "    </tr>\n",
       "    <tr>\n",
       "      <th>1</th>\n",
       "      <td>2011-01-05</td>\n",
       "      <td>A</td>\n",
       "      <td>-0.002</td>\n",
       "    </tr>\n",
       "    <tr>\n",
       "      <th>2</th>\n",
       "      <td>2011-01-06</td>\n",
       "      <td>A</td>\n",
       "      <td>0.002</td>\n",
       "    </tr>\n",
       "    <tr>\n",
       "      <th>3</th>\n",
       "      <td>2011-01-07</td>\n",
       "      <td>A</td>\n",
       "      <td>0.003</td>\n",
       "    </tr>\n",
       "    <tr>\n",
       "      <th>4</th>\n",
       "      <td>2011-01-10</td>\n",
       "      <td>A</td>\n",
       "      <td>0.014</td>\n",
       "    </tr>\n",
       "  </tbody>\n",
       "</table>\n",
       "</div>"
      ],
      "text/plain": [
       "         Date Ticker  daily_returns\n",
       "0  2011-01-04      A         -0.009\n",
       "1  2011-01-05      A         -0.002\n",
       "2  2011-01-06      A          0.002\n",
       "3  2011-01-07      A          0.003\n",
       "4  2011-01-10      A          0.014"
      ]
     },
     "execution_count": 11,
     "metadata": {},
     "output_type": "execute_result"
    }
   ],
   "source": [
    "input_data = df[df.Date!=df.Date.min()][['Date','Ticker','daily_returns']].dropna()\n",
    "input_data = input_data[input_data.Date.between('2011-01-01','2016-01-01')]\n",
    "input_data = input_data.groupby('Ticker').progress_apply(lambda group: group.iloc[1:,]).reset_index(drop=True)\n",
    "input_data.head()"
   ]
  },
  {
   "cell_type": "code",
   "execution_count": 12,
   "id": "518313ca",
   "metadata": {},
   "outputs": [],
   "source": [
    "spy_df['spy_daily_returns'] = spy_df['daily_returns']"
   ]
  },
  {
   "cell_type": "code",
   "execution_count": 13,
   "id": "48d243de",
   "metadata": {},
   "outputs": [
    {
     "name": "stdout",
     "output_type": "stream",
     "text": [
      "(582690, 3)\n",
      "(582690, 4)\n"
     ]
    }
   ],
   "source": [
    "print(input_data.shape)\n",
    "input_data = pd.merge(input_data,spy_df[['Date','spy_daily_returns']],on='Date',how='left')\n",
    "print(input_data.shape)\n"
   ]
  },
  {
   "cell_type": "code",
   "execution_count": 14,
   "id": "5db31090",
   "metadata": {},
   "outputs": [
    {
     "data": {
      "text/plain": [
       "count   582690.000\n",
       "mean         0.007\n",
       "std          0.007\n",
       "min          0.000\n",
       "0%           0.000\n",
       "10%          0.001\n",
       "20%          0.002\n",
       "30%          0.003\n",
       "40%          0.004\n",
       "50%          0.005\n",
       "60%          0.006\n",
       "70%          0.008\n",
       "80%          0.011\n",
       "90%          0.015\n",
       "max          0.065\n",
       "Name: spy_daily_returns, dtype: float64"
      ]
     },
     "execution_count": 14,
     "metadata": {},
     "output_type": "execute_result"
    }
   ],
   "source": [
    "input_data['spy_daily_returns'].abs().describe(np.arange(0,1,0.1))"
   ]
  },
  {
   "cell_type": "code",
   "execution_count": 15,
   "id": "d5923813",
   "metadata": {},
   "outputs": [
    {
     "name": "stdout",
     "output_type": "stream",
     "text": [
      "(582690, 4)\n",
      "(281416, 4)\n"
     ]
    }
   ],
   "source": [
    "# input_data['daily_returns'] = np.where(input_data['spy_daily_returns'].abs() <= 0.005,\\\n",
    "#                                        input_data['daily_returns'],input_data['daily_returns']-input_data['spy_daily_returns'])\n",
    "input_data['daily_returns'] = input_data['daily_returns']-input_data['spy_daily_returns']\n",
    "print(input_data.shape)\n",
    "input_data = input_data[input_data['spy_daily_returns'].abs() > 0.005]\n",
    "print(input_data.shape)"
   ]
  },
  {
   "cell_type": "code",
   "execution_count": 16,
   "id": "dc6aa5db",
   "metadata": {},
   "outputs": [
    {
     "data": {
      "text/plain": [
       "count   281416.000\n",
       "mean         0.010\n",
       "std          0.011\n",
       "min          0.000\n",
       "0%           0.000\n",
       "10%          0.001\n",
       "20%          0.002\n",
       "30%          0.004\n",
       "40%          0.005\n",
       "50%          0.007\n",
       "60%          0.009\n",
       "70%          0.011\n",
       "80%          0.015\n",
       "90%          0.021\n",
       "91%          0.022\n",
       "92%          0.023\n",
       "93%          0.025\n",
       "94%          0.026\n",
       "95%          0.028\n",
       "96%          0.031\n",
       "97%          0.035\n",
       "98%          0.040\n",
       "99%          0.052\n",
       "max          0.610\n",
       "Name: daily_returns, dtype: float64"
      ]
     },
     "execution_count": 16,
     "metadata": {},
     "output_type": "execute_result"
    }
   ],
   "source": [
    "input_data.daily_returns.abs().describe(np.arange(0,0.9,0.1).tolist()+np.arange(0.9,1,0.01).tolist())"
   ]
  },
  {
   "cell_type": "code",
   "execution_count": 17,
   "id": "54f0df9d",
   "metadata": {},
   "outputs": [
    {
     "data": {
      "text/html": [
       "<div>\n",
       "<style scoped>\n",
       "    .dataframe tbody tr th:only-of-type {\n",
       "        vertical-align: middle;\n",
       "    }\n",
       "\n",
       "    .dataframe tbody tr th {\n",
       "        vertical-align: top;\n",
       "    }\n",
       "\n",
       "    .dataframe thead th {\n",
       "        text-align: right;\n",
       "    }\n",
       "</style>\n",
       "<table border=\"1\" class=\"dataframe\">\n",
       "  <thead>\n",
       "    <tr style=\"text-align: right;\">\n",
       "      <th></th>\n",
       "      <th>Date</th>\n",
       "      <th>Ticker</th>\n",
       "      <th>daily_returns</th>\n",
       "      <th>spy_daily_returns</th>\n",
       "    </tr>\n",
       "  </thead>\n",
       "  <tbody>\n",
       "    <tr>\n",
       "      <th>546143</th>\n",
       "      <td>2013-04-19</td>\n",
       "      <td>VRTX</td>\n",
       "      <td>0.610</td>\n",
       "      <td>0.009</td>\n",
       "    </tr>\n",
       "    <tr>\n",
       "      <th>274137</th>\n",
       "      <td>2012-01-25</td>\n",
       "      <td>ILMN</td>\n",
       "      <td>0.455</td>\n",
       "      <td>0.008</td>\n",
       "    </tr>\n",
       "    <tr>\n",
       "      <th>546440</th>\n",
       "      <td>2014-06-24</td>\n",
       "      <td>VRTX</td>\n",
       "      <td>0.410</td>\n",
       "      <td>-0.006</td>\n",
       "    </tr>\n",
       "    <tr>\n",
       "      <th>185949</th>\n",
       "      <td>2015-12-16</td>\n",
       "      <td>ENPH</td>\n",
       "      <td>0.371</td>\n",
       "      <td>0.015</td>\n",
       "    </tr>\n",
       "    <tr>\n",
       "      <th>509508</th>\n",
       "      <td>2012-07-26</td>\n",
       "      <td>TMUS</td>\n",
       "      <td>0.351</td>\n",
       "      <td>0.016</td>\n",
       "    </tr>\n",
       "  </tbody>\n",
       "</table>\n",
       "</div>"
      ],
      "text/plain": [
       "              Date Ticker  daily_returns  spy_daily_returns\n",
       "546143  2013-04-19   VRTX          0.610              0.009\n",
       "274137  2012-01-25   ILMN          0.455              0.008\n",
       "546440  2014-06-24   VRTX          0.410             -0.006\n",
       "185949  2015-12-16   ENPH          0.371              0.015\n",
       "509508  2012-07-26   TMUS          0.351              0.016"
      ]
     },
     "execution_count": 17,
     "metadata": {},
     "output_type": "execute_result"
    }
   ],
   "source": [
    "input_data.sort_values('daily_returns',ascending=False).head()"
   ]
  },
  {
   "cell_type": "code",
   "execution_count": 18,
   "id": "e4b13c2f",
   "metadata": {},
   "outputs": [],
   "source": [
    "# df[df.Ticker=='WMB'][input_data.columns.tolist()+['Adj Close']].set_index('Date').loc['2002-07-26':]"
   ]
  },
  {
   "cell_type": "code",
   "execution_count": 19,
   "id": "18a25715",
   "metadata": {},
   "outputs": [
    {
     "name": "stdout",
     "output_type": "stream",
     "text": [
      "(281416, 4)\n"
     ]
    },
    {
     "data": {
      "text/plain": [
       "(281415, 4)"
      ]
     },
     "execution_count": 19,
     "metadata": {},
     "output_type": "execute_result"
    }
   ],
   "source": [
    "print(input_data.shape)\n",
    "input_data = input_data[input_data.daily_returns.abs()<0.5]\n",
    "input_data.shape"
   ]
  },
  {
   "cell_type": "markdown",
   "id": "ea8446c7",
   "metadata": {},
   "source": [
    "# Prepare Data for Stock2Vec"
   ]
  },
  {
   "cell_type": "code",
   "execution_count": 20,
   "id": "6b8d6f62",
   "metadata": {},
   "outputs": [
    {
     "data": {
      "text/plain": [
       "['2011-01-05',\n",
       " '2011-01-12',\n",
       " '2011-01-14',\n",
       " '2011-01-19',\n",
       " '2011-01-24',\n",
       " '2011-01-28',\n",
       " '2011-01-31',\n",
       " '2011-02-01',\n",
       " '2011-02-07',\n",
       " '2011-02-11',\n",
       " '2011-02-16',\n",
       " '2011-02-22',\n",
       " '2011-02-23',\n",
       " '2011-02-25',\n",
       " '2011-02-28',\n",
       " '2011-03-01',\n",
       " '2011-03-03',\n",
       " '2011-03-04',\n",
       " '2011-03-07',\n",
       " '2011-03-08',\n",
       " '2011-03-10',\n",
       " '2011-03-11',\n",
       " '2011-03-14',\n",
       " '2011-03-15',\n",
       " '2011-03-16',\n",
       " '2011-03-17',\n",
       " '2011-03-21',\n",
       " '2011-03-24',\n",
       " '2011-03-29',\n",
       " '2011-03-30',\n",
       " '2011-04-12',\n",
       " '2011-04-18',\n",
       " '2011-04-19',\n",
       " '2011-04-20',\n",
       " '2011-04-21',\n",
       " '2011-04-26',\n",
       " '2011-04-27',\n",
       " '2011-05-04',\n",
       " '2011-05-05',\n",
       " '2011-05-10',\n",
       " '2011-05-11',\n",
       " '2011-05-13',\n",
       " '2011-05-16',\n",
       " '2011-05-18',\n",
       " '2011-05-20',\n",
       " '2011-05-23',\n",
       " '2011-05-31',\n",
       " '2011-06-01',\n",
       " '2011-06-03',\n",
       " '2011-06-06',\n",
       " '2011-06-09',\n",
       " '2011-06-10',\n",
       " '2011-06-14',\n",
       " '2011-06-15',\n",
       " '2011-06-20',\n",
       " '2011-06-21',\n",
       " '2011-06-22',\n",
       " '2011-06-24',\n",
       " '2011-06-27',\n",
       " '2011-06-28',\n",
       " '2011-06-29',\n",
       " '2011-06-30',\n",
       " '2011-07-01',\n",
       " '2011-07-07',\n",
       " '2011-07-08',\n",
       " '2011-07-11',\n",
       " '2011-07-14',\n",
       " '2011-07-15',\n",
       " '2011-07-18',\n",
       " '2011-07-19',\n",
       " '2011-07-21',\n",
       " '2011-07-25',\n",
       " '2011-07-27',\n",
       " '2011-07-29',\n",
       " '2011-08-02',\n",
       " '2011-08-03',\n",
       " '2011-08-04',\n",
       " '2011-08-08',\n",
       " '2011-08-09',\n",
       " '2011-08-10',\n",
       " '2011-08-11',\n",
       " '2011-08-12',\n",
       " '2011-08-15',\n",
       " '2011-08-16',\n",
       " '2011-08-18',\n",
       " '2011-08-19',\n",
       " '2011-08-23',\n",
       " '2011-08-24',\n",
       " '2011-08-25',\n",
       " '2011-08-26',\n",
       " '2011-08-29',\n",
       " '2011-09-01',\n",
       " '2011-09-02',\n",
       " '2011-09-06',\n",
       " '2011-09-07',\n",
       " '2011-09-08',\n",
       " '2011-09-09',\n",
       " '2011-09-12',\n",
       " '2011-09-13',\n",
       " '2011-09-14',\n",
       " '2011-09-15',\n",
       " '2011-09-16',\n",
       " '2011-09-19',\n",
       " '2011-09-21',\n",
       " '2011-09-22',\n",
       " '2011-09-23',\n",
       " '2011-09-26',\n",
       " '2011-09-27',\n",
       " '2011-09-28',\n",
       " '2011-09-29',\n",
       " '2011-09-30',\n",
       " '2011-10-03',\n",
       " '2011-10-04',\n",
       " '2011-10-05',\n",
       " '2011-10-06',\n",
       " '2011-10-07',\n",
       " '2011-10-10',\n",
       " '2011-10-12',\n",
       " '2011-10-14',\n",
       " '2011-10-17',\n",
       " '2011-10-18',\n",
       " '2011-10-19',\n",
       " '2011-10-21',\n",
       " '2011-10-24',\n",
       " '2011-10-25',\n",
       " '2011-10-26',\n",
       " '2011-10-27',\n",
       " '2011-10-31',\n",
       " '2011-11-01',\n",
       " '2011-11-02',\n",
       " '2011-11-03',\n",
       " '2011-11-04',\n",
       " '2011-11-07',\n",
       " '2011-11-08',\n",
       " '2011-11-09',\n",
       " '2011-11-10',\n",
       " '2011-11-11',\n",
       " '2011-11-14',\n",
       " '2011-11-16',\n",
       " '2011-11-17',\n",
       " '2011-11-21',\n",
       " '2011-11-23',\n",
       " '2011-11-28',\n",
       " '2011-11-30',\n",
       " '2011-12-05',\n",
       " '2011-12-08',\n",
       " '2011-12-09',\n",
       " '2011-12-12',\n",
       " '2011-12-13',\n",
       " '2011-12-14',\n",
       " '2011-12-19',\n",
       " '2011-12-20',\n",
       " '2011-12-22',\n",
       " '2011-12-23',\n",
       " '2011-12-28',\n",
       " '2011-12-29',\n",
       " '2012-01-03',\n",
       " '2012-01-10',\n",
       " '2012-01-13',\n",
       " '2012-01-18',\n",
       " '2012-01-19',\n",
       " '2012-01-25',\n",
       " '2012-01-26',\n",
       " '2012-02-01',\n",
       " '2012-02-03',\n",
       " '2012-02-10',\n",
       " '2012-02-13',\n",
       " '2012-02-16',\n",
       " '2012-03-01',\n",
       " '2012-03-06',\n",
       " '2012-03-07',\n",
       " '2012-03-08',\n",
       " '2012-03-13',\n",
       " '2012-03-15',\n",
       " '2012-03-22',\n",
       " '2012-03-26',\n",
       " '2012-04-02',\n",
       " '2012-04-04',\n",
       " '2012-04-09',\n",
       " '2012-04-10',\n",
       " '2012-04-11',\n",
       " '2012-04-12',\n",
       " '2012-04-13',\n",
       " '2012-04-17',\n",
       " '2012-04-19',\n",
       " '2012-04-23',\n",
       " '2012-04-25',\n",
       " '2012-04-26',\n",
       " '2012-05-01',\n",
       " '2012-05-03',\n",
       " '2012-05-04',\n",
       " '2012-05-09',\n",
       " '2012-05-14',\n",
       " '2012-05-15',\n",
       " '2012-05-17',\n",
       " '2012-05-18',\n",
       " '2012-05-21',\n",
       " '2012-05-29',\n",
       " '2012-05-30',\n",
       " '2012-06-01',\n",
       " '2012-06-05',\n",
       " '2012-06-06',\n",
       " '2012-06-08',\n",
       " '2012-06-11',\n",
       " '2012-06-12',\n",
       " '2012-06-13',\n",
       " '2012-06-14',\n",
       " '2012-06-15',\n",
       " '2012-06-19',\n",
       " '2012-06-21',\n",
       " '2012-06-22',\n",
       " '2012-06-25',\n",
       " '2012-06-26',\n",
       " '2012-06-27',\n",
       " '2012-06-29',\n",
       " '2012-07-03',\n",
       " '2012-07-06',\n",
       " '2012-07-10',\n",
       " '2012-07-13',\n",
       " '2012-07-17',\n",
       " '2012-07-18',\n",
       " '2012-07-20',\n",
       " '2012-07-23',\n",
       " '2012-07-24',\n",
       " '2012-07-26',\n",
       " '2012-07-27',\n",
       " '2012-07-31',\n",
       " '2012-08-02',\n",
       " '2012-08-03',\n",
       " '2012-08-07',\n",
       " '2012-08-16',\n",
       " '2012-08-23',\n",
       " '2012-08-24',\n",
       " '2012-08-30',\n",
       " '2012-09-06',\n",
       " '2012-09-10',\n",
       " '2012-09-13',\n",
       " '2012-09-25',\n",
       " '2012-09-26',\n",
       " '2012-09-27',\n",
       " '2012-10-04',\n",
       " '2012-10-09',\n",
       " '2012-10-10',\n",
       " '2012-10-15',\n",
       " '2012-10-16',\n",
       " '2012-10-19',\n",
       " '2012-10-23',\n",
       " '2012-11-01',\n",
       " '2012-11-02',\n",
       " '2012-11-06',\n",
       " '2012-11-07',\n",
       " '2012-11-08',\n",
       " '2012-11-14',\n",
       " '2012-11-19',\n",
       " '2012-11-23',\n",
       " '2012-11-27',\n",
       " '2012-11-28',\n",
       " '2012-12-11',\n",
       " '2012-12-13',\n",
       " '2012-12-17',\n",
       " '2012-12-18',\n",
       " '2012-12-19',\n",
       " '2012-12-20',\n",
       " '2012-12-21',\n",
       " '2012-12-28',\n",
       " '2012-12-31',\n",
       " '2013-01-02',\n",
       " '2013-01-10',\n",
       " '2013-01-17',\n",
       " '2013-01-22',\n",
       " '2013-01-25',\n",
       " '2013-02-01',\n",
       " '2013-02-04',\n",
       " '2013-02-05',\n",
       " '2013-02-08',\n",
       " '2013-02-19',\n",
       " '2013-02-20',\n",
       " '2013-02-21',\n",
       " '2013-02-22',\n",
       " '2013-02-25',\n",
       " '2013-02-26',\n",
       " '2013-02-27',\n",
       " '2013-03-04',\n",
       " '2013-03-05',\n",
       " '2013-03-14',\n",
       " '2013-03-18',\n",
       " '2013-03-20',\n",
       " '2013-03-21',\n",
       " '2013-03-22',\n",
       " '2013-03-26',\n",
       " '2013-04-03',\n",
       " '2013-04-08',\n",
       " '2013-04-10',\n",
       " '2013-04-15',\n",
       " '2013-04-16',\n",
       " '2013-04-17',\n",
       " '2013-04-18',\n",
       " '2013-04-19',\n",
       " '2013-04-23',\n",
       " '2013-04-29',\n",
       " '2013-05-01',\n",
       " '2013-05-02',\n",
       " '2013-05-03',\n",
       " '2013-05-07',\n",
       " '2013-05-14',\n",
       " '2013-05-15',\n",
       " '2013-05-17',\n",
       " '2013-05-22',\n",
       " '2013-05-28',\n",
       " '2013-05-29',\n",
       " '2013-05-31',\n",
       " '2013-06-03',\n",
       " '2013-06-05',\n",
       " '2013-06-06',\n",
       " '2013-06-07',\n",
       " '2013-06-11',\n",
       " '2013-06-12',\n",
       " '2013-06-13',\n",
       " '2013-06-14',\n",
       " '2013-06-17',\n",
       " '2013-06-18',\n",
       " '2013-06-19',\n",
       " '2013-06-20',\n",
       " '2013-06-24',\n",
       " '2013-06-25',\n",
       " '2013-06-26',\n",
       " '2013-06-27',\n",
       " '2013-07-01',\n",
       " '2013-07-05',\n",
       " '2013-07-08',\n",
       " '2013-07-09',\n",
       " '2013-07-11',\n",
       " '2013-07-18',\n",
       " '2013-08-01',\n",
       " '2013-08-06',\n",
       " '2013-08-14',\n",
       " '2013-08-15',\n",
       " '2013-08-19',\n",
       " '2013-08-21',\n",
       " '2013-08-22',\n",
       " '2013-08-27',\n",
       " '2013-09-04',\n",
       " '2013-09-09',\n",
       " '2013-09-10',\n",
       " '2013-09-16',\n",
       " '2013-09-18',\n",
       " '2013-09-20',\n",
       " '2013-09-30',\n",
       " '2013-10-01',\n",
       " '2013-10-03',\n",
       " '2013-10-04',\n",
       " '2013-10-07',\n",
       " '2013-10-08',\n",
       " '2013-10-10',\n",
       " '2013-10-11',\n",
       " '2013-10-15',\n",
       " '2013-10-16',\n",
       " '2013-10-17',\n",
       " '2013-10-18',\n",
       " '2013-10-22',\n",
       " '2013-10-29',\n",
       " '2013-11-06',\n",
       " '2013-11-07',\n",
       " '2013-11-08',\n",
       " '2013-11-13',\n",
       " '2013-11-21',\n",
       " '2013-11-22',\n",
       " '2013-12-06',\n",
       " '2013-12-11',\n",
       " '2013-12-16',\n",
       " '2013-12-18',\n",
       " '2013-12-20',\n",
       " '2013-12-23',\n",
       " '2013-12-26',\n",
       " '2014-01-02',\n",
       " '2014-01-07',\n",
       " '2014-01-13',\n",
       " '2014-01-14',\n",
       " '2014-01-15',\n",
       " '2014-01-23',\n",
       " '2014-01-24',\n",
       " '2014-01-28',\n",
       " '2014-01-29',\n",
       " '2014-01-30',\n",
       " '2014-01-31',\n",
       " '2014-02-03',\n",
       " '2014-02-04',\n",
       " '2014-02-06',\n",
       " '2014-02-07',\n",
       " '2014-02-11',\n",
       " '2014-02-13',\n",
       " '2014-02-14',\n",
       " '2014-02-19',\n",
       " '2014-02-20',\n",
       " '2014-02-24',\n",
       " '2014-02-27',\n",
       " '2014-03-03',\n",
       " '2014-03-04',\n",
       " '2014-03-13',\n",
       " '2014-03-17',\n",
       " '2014-03-18',\n",
       " '2014-03-19',\n",
       " '2014-03-20',\n",
       " '2014-03-26',\n",
       " '2014-03-31',\n",
       " '2014-04-01',\n",
       " '2014-04-04',\n",
       " '2014-04-07',\n",
       " '2014-04-09',\n",
       " '2014-04-10',\n",
       " '2014-04-11',\n",
       " '2014-04-14',\n",
       " '2014-04-15',\n",
       " '2014-04-16',\n",
       " '2014-04-25',\n",
       " '2014-05-06',\n",
       " '2014-05-07',\n",
       " '2014-05-12',\n",
       " '2014-05-15',\n",
       " '2014-05-20',\n",
       " '2014-05-21',\n",
       " '2014-05-27',\n",
       " '2014-05-29',\n",
       " '2014-06-05',\n",
       " '2014-06-12',\n",
       " '2014-06-18',\n",
       " '2014-06-24',\n",
       " '2014-07-01',\n",
       " '2014-07-08',\n",
       " '2014-07-14',\n",
       " '2014-07-17',\n",
       " '2014-07-18',\n",
       " '2014-07-31',\n",
       " '2014-08-04',\n",
       " '2014-08-05',\n",
       " '2014-08-07',\n",
       " '2014-08-08',\n",
       " '2014-08-13',\n",
       " '2014-08-18',\n",
       " '2014-08-19',\n",
       " '2014-08-25',\n",
       " '2014-09-09',\n",
       " '2014-09-12',\n",
       " '2014-09-16',\n",
       " '2014-09-18',\n",
       " '2014-09-22',\n",
       " '2014-09-23',\n",
       " '2014-09-24',\n",
       " '2014-09-25',\n",
       " '2014-09-26',\n",
       " '2014-10-01',\n",
       " '2014-10-03',\n",
       " '2014-10-07',\n",
       " '2014-10-08',\n",
       " '2014-10-09',\n",
       " '2014-10-10',\n",
       " '2014-10-13',\n",
       " '2014-10-15',\n",
       " '2014-10-17',\n",
       " '2014-10-20',\n",
       " '2014-10-21',\n",
       " '2014-10-22',\n",
       " '2014-10-23',\n",
       " '2014-10-24',\n",
       " '2014-10-28',\n",
       " '2014-10-30',\n",
       " '2014-10-31',\n",
       " '2014-11-05',\n",
       " '2014-11-18',\n",
       " '2014-11-21',\n",
       " '2014-12-01',\n",
       " '2014-12-02',\n",
       " '2014-12-08',\n",
       " '2014-12-10',\n",
       " '2014-12-11',\n",
       " '2014-12-12',\n",
       " '2014-12-15',\n",
       " '2014-12-16',\n",
       " '2014-12-17',\n",
       " '2014-12-18',\n",
       " '2014-12-30',\n",
       " '2014-12-31',\n",
       " '2015-01-05',\n",
       " '2015-01-06',\n",
       " '2015-01-07',\n",
       " '2015-01-08',\n",
       " '2015-01-09',\n",
       " '2015-01-12',\n",
       " '2015-01-14',\n",
       " '2015-01-15',\n",
       " '2015-01-16',\n",
       " '2015-01-21',\n",
       " '2015-01-22',\n",
       " '2015-01-23',\n",
       " '2015-01-27',\n",
       " '2015-01-28',\n",
       " '2015-01-29',\n",
       " '2015-01-30',\n",
       " '2015-02-02',\n",
       " '2015-02-03',\n",
       " '2015-02-05',\n",
       " '2015-02-10',\n",
       " '2015-02-12',\n",
       " '2015-02-20',\n",
       " '2015-03-02',\n",
       " '2015-03-06',\n",
       " '2015-03-10',\n",
       " '2015-03-12',\n",
       " '2015-03-13',\n",
       " '2015-03-16',\n",
       " '2015-03-18',\n",
       " '2015-03-20',\n",
       " '2015-03-24',\n",
       " '2015-03-25',\n",
       " '2015-03-30',\n",
       " '2015-03-31',\n",
       " '2015-04-06',\n",
       " '2015-04-10',\n",
       " '2015-04-17',\n",
       " '2015-04-20',\n",
       " '2015-04-30',\n",
       " '2015-05-01',\n",
       " '2015-05-05',\n",
       " '2015-05-08',\n",
       " '2015-05-14',\n",
       " '2015-05-26',\n",
       " '2015-05-27',\n",
       " '2015-05-29',\n",
       " '2015-06-04',\n",
       " '2015-06-08',\n",
       " '2015-06-10',\n",
       " '2015-06-12',\n",
       " '2015-06-16',\n",
       " '2015-06-18',\n",
       " '2015-06-22',\n",
       " '2015-06-24',\n",
       " '2015-06-29',\n",
       " '2015-07-01',\n",
       " '2015-07-07',\n",
       " '2015-07-08',\n",
       " '2015-07-10',\n",
       " '2015-07-13',\n",
       " '2015-07-16',\n",
       " '2015-07-23',\n",
       " '2015-07-24',\n",
       " '2015-07-27',\n",
       " '2015-07-28',\n",
       " '2015-07-29',\n",
       " '2015-08-06',\n",
       " '2015-08-10',\n",
       " '2015-08-11',\n",
       " '2015-08-17',\n",
       " '2015-08-19',\n",
       " '2015-08-20',\n",
       " '2015-08-21',\n",
       " '2015-08-24',\n",
       " '2015-08-25',\n",
       " '2015-08-26',\n",
       " '2015-08-27',\n",
       " '2015-08-31',\n",
       " '2015-09-01',\n",
       " '2015-09-02',\n",
       " '2015-09-04',\n",
       " '2015-09-08',\n",
       " '2015-09-09',\n",
       " '2015-09-10',\n",
       " '2015-09-15',\n",
       " '2015-09-16',\n",
       " '2015-09-18',\n",
       " '2015-09-21',\n",
       " '2015-09-22',\n",
       " '2015-09-28',\n",
       " '2015-09-30',\n",
       " '2015-10-02',\n",
       " '2015-10-05',\n",
       " '2015-10-07',\n",
       " '2015-10-08',\n",
       " '2015-10-13',\n",
       " '2015-10-15',\n",
       " '2015-10-21',\n",
       " '2015-10-22',\n",
       " '2015-10-23',\n",
       " '2015-10-28',\n",
       " '2015-11-02',\n",
       " '2015-11-09',\n",
       " '2015-11-12',\n",
       " '2015-11-13',\n",
       " '2015-11-16',\n",
       " '2015-11-18',\n",
       " '2015-12-01',\n",
       " '2015-12-02',\n",
       " '2015-12-03',\n",
       " '2015-12-04',\n",
       " '2015-12-07',\n",
       " '2015-12-08',\n",
       " '2015-12-09',\n",
       " '2015-12-11',\n",
       " '2015-12-14',\n",
       " '2015-12-15',\n",
       " '2015-12-16',\n",
       " '2015-12-17',\n",
       " '2015-12-18',\n",
       " '2015-12-21',\n",
       " '2015-12-22',\n",
       " '2015-12-23',\n",
       " '2015-12-29',\n",
       " '2015-12-30',\n",
       " '2015-12-31']"
      ]
     },
     "execution_count": 20,
     "metadata": {},
     "output_type": "execute_result"
    }
   ],
   "source": [
    "all_dates = sorted(input_data.Date.unique())\n",
    "all_dates"
   ]
  },
  {
   "cell_type": "code",
   "execution_count": 21,
   "id": "6c453550",
   "metadata": {},
   "outputs": [
    {
     "data": {
      "application/vnd.jupyter.widget-view+json": {
       "model_id": "275d1046d65a4c1394579ca10253a9f8",
       "version_major": 2,
       "version_minor": 0
      },
      "text/plain": [
       "  0%|          | 0/608 [00:00<?, ?it/s]"
      ]
     },
     "metadata": {},
     "output_type": "display_data"
    }
   ],
   "source": [
    "all_sentences_returns = []\n",
    "all_sentences_tickers = []\n",
    "for d in tqdm(all_dates):\n",
    "    sub_df = input_data[input_data.Date == d]\n",
    "    sub_df = sub_df.sort_values('daily_returns',ascending=True)\n",
    "    all_sentences_returns.append(sub_df['daily_returns'])\n",
    "    all_sentences_tickers.append(' '.join(sub_df['Ticker']))"
   ]
  },
  {
   "cell_type": "code",
   "execution_count": 22,
   "id": "049d30fb",
   "metadata": {},
   "outputs": [
    {
     "data": {
      "text/plain": [
       "159877   -0.054\n",
       "325218   -0.049\n",
       "352525   -0.031\n",
       "554368   -0.026\n",
       "541798   -0.026\n",
       "          ...  \n",
       "74025     0.054\n",
       "398045    0.057\n",
       "13326     0.065\n",
       "19611     0.068\n",
       "394253    0.072\n",
       "Name: daily_returns, Length: 445, dtype: float64"
      ]
     },
     "execution_count": 22,
     "metadata": {},
     "output_type": "execute_result"
    }
   ],
   "source": [
    "all_sentences_returns[0]"
   ]
  },
  {
   "cell_type": "code",
   "execution_count": 23,
   "id": "f4b7292e",
   "metadata": {},
   "outputs": [],
   "source": [
    "np.savetxt('./stock_str.txt',all_sentences_tickers,delimiter=\" \",newline='\\n',fmt='%s')"
   ]
  },
  {
   "cell_type": "code",
   "execution_count": 24,
   "id": "7f941a77",
   "metadata": {},
   "outputs": [
    {
     "name": "stderr",
     "output_type": "stream",
     "text": [
      "2024-02-21 03:33:18.477109: E tensorflow/compiler/xla/stream_executor/cuda/cuda_driver.cc:268] failed call to cuInit: CUDA_ERROR_NO_DEVICE: no CUDA-capable device is detected\n"
     ]
    }
   ],
   "source": [
    "text_ds = tf.data.TextLineDataset('./stock_str.txt').filter(lambda x: tf.cast(tf.strings.length(x),bool))"
   ]
  },
  {
   "cell_type": "code",
   "execution_count": 25,
   "id": "3ff3d191",
   "metadata": {},
   "outputs": [
    {
     "name": "stdout",
     "output_type": "stream",
     "text": [
      "vocab_size:  481\n",
      "sequence_length:  481\n"
     ]
    }
   ],
   "source": [
    "def custom_standardization(t):\n",
    "    return tf.strings.upper(t)\n",
    "\n",
    "vocab_size = input_data.Ticker.nunique()\n",
    "print(\"vocab_size: \",vocab_size)\n",
    "sequence_length = max([len(l.split(' ')) for l in all_sentences_tickers])\n",
    "print(\"sequence_length: \",sequence_length)\n",
    "vectorize_layer = layers.experimental.preprocessing.TextVectorization(\n",
    "        standardize = custom_standardization,\n",
    "        max_tokens = vocab_size,\n",
    "        output_mode = 'int',\n",
    "        output_sequence_length = sequence_length\n",
    ")"
   ]
  },
  {
   "cell_type": "code",
   "execution_count": 26,
   "id": "3c1b2806",
   "metadata": {},
   "outputs": [
    {
     "name": "stdout",
     "output_type": "stream",
     "text": [
      "['', '[UNK]', 'ZION', 'ZBRA', 'ZBH', 'YUM', 'XRAY', 'XOM', 'XEL', 'WYNN', 'WY', 'WTW', 'WST', 'WRB', 'WMT', 'WMB', 'WM', 'WHR', 'WFC', 'WELL']\n"
     ]
    }
   ],
   "source": [
    "vectorize_layer.adapt(text_ds.batch(sequence_length))\n",
    "inverse_vocab = vectorize_layer.get_vocabulary()\n",
    "print(inverse_vocab[:20])"
   ]
  },
  {
   "cell_type": "code",
   "execution_count": 27,
   "id": "f189cc45",
   "metadata": {},
   "outputs": [],
   "source": [
    "text_vector_ds = text_ds.batch(sequence_length).prefetch(tf.data.experimental.AUTOTUNE).map(vectorize_layer).unbatch()"
   ]
  },
  {
   "cell_type": "code",
   "execution_count": 28,
   "id": "eacd0ce8",
   "metadata": {},
   "outputs": [
    {
     "name": "stdout",
     "output_type": "stream",
     "text": [
      "608\n",
      "608\n"
     ]
    }
   ],
   "source": [
    "sequences = list(text_vector_ds.as_numpy_iterator())\n",
    "print(len(sequences))\n",
    "print(input_data.Date.nunique())"
   ]
  },
  {
   "cell_type": "code",
   "execution_count": 29,
   "id": "de615bee",
   "metadata": {},
   "outputs": [
    {
     "name": "stdout",
     "output_type": "stream",
     "text": [
      "[322 197 176  22  31  98 347 293 357  60  63 394 247 155 131 213 433 423\n",
      " 328 137] [0 0 0 0 0 0 0 0 0 0 0 0 0 0 0 0 0 0 0 0]\n",
      "[407 322 255 143 404 103 432 335 356 139  12 392 171 194   2 163 430 287\n",
      " 424 233] [0 0 0 0 0 0 0 0 0 0 0 0 0 0 0 0 0 0 0 0]\n",
      "[430 371  77   5 155  50 418 161 202  90 268 392 168 399 146 397  91  86\n",
      " 442 234] [0 0 0 0 0 0 0 0 0 0 0 0 0 0 0 0 0 0 0 0]\n",
      "[170 353  50 367 103 147 426  41 102 180 258  77 445 387 288 314 400  76\n",
      " 430 192] [0 0 0 0 0 0 0 0 0 0 0 0 0 0 0 0 0 0 0 0]\n",
      "[342 282 372 430 182 400   2  62 235 215 278 273   4 254 173 200  39 351\n",
      " 356 328] [0 0 0 0 0 0 0 0 0 0 0 0 0 0 0 0 0 0 0 0]\n",
      "[288 444 417 387  98 143 264 179 265 291 338 134 188 180 195  78 171  36\n",
      "  51  72] [0 0 0 0 0 0 0 0 0 0 0 0 0 0 0 0 0 0 0 0]\n",
      "[264  17 144 385 444 122 227 328 371 288 342 154 198  57  43 335 125 229\n",
      " 206 105] [0 0 0 0 0 0 0 0 0 0 0 0 0 0 0 0 0 0 0 0]\n",
      "[132  80  28  98 250 304 343 235  93 205 120 364  50 275  86 406 379 154\n",
      "  43 255] [0 0 0 0 0 0 0 0 0 0 0 0 0 0 0 0 0 0 0 0]\n",
      "[ 70 145 425 143  49 242 266 446  10 273 173 286 315 193 306  50  39 319\n",
      " 305 235] [0 0 0 0 0 0 0 0 0 0 0 0 0 0 0 0 0 0 0 0]\n",
      "[290 143 103 188 207  21 373 201  76 292 180 328 183 311 283  15 396 385\n",
      "  93 341] [0 0 0 0 0 0 0 0 0 0 0 0 0 0 0 0 0 0 0 0]\n",
      "[290  75 315 283 364 420 154 417 355 219  21  18 300 270 317 442 215 102\n",
      " 129  42] [0 0 0 0 0 0 0 0 0 0 0 0 0 0 0 0 0 0 0 0]\n",
      "[291 145  43 370 387 122 223 159 332 368  72 355 138  77 180 154 231 326\n",
      " 444  50] [0 0 0 0 0 0 0 0 0 0 0 0 0 0 0 0 0 0 0 0]\n",
      "[248 444 322 387  43 223 435 264 236 404 103 169 171 445 145 154 284  21\n",
      "  75 353] [0 0 0 0 0 0 0 0 0 0 0 0 0 0 0 0 0 0 0 0]\n",
      "[274 430  91  61 277 154 351 328 283 387 202 164 151   7 266  43  14 290\n",
      " 244  77] [0 0 0 0 0 0 0 0 0 0 0 0 0 0 0 0 0 0 0 0]\n",
      "[274 427 342 430  36  28  40 154 159 191 173 417  34 229 138 145 115 313\n",
      " 103  21] [0 0 0 0 0 0 0 0 0 0 0 0 0 0 0 0 0 0 0 0]\n",
      "[444 194 143 105 370 373 407 332 196  31 245 214 231 266 145 278  28  10\n",
      "  32  43] [0 0 0 0 0 0 0 0 0 0 0 0 0 0 0 0 0 0 0 0]\n",
      "[155 364 328 306 194 427  55 122 283 154  60  68  69 248 138 112 108  30\n",
      "  70 268] [0 0 0 0 0 0 0 0 0 0 0 0 0 0 0 0 0 0 0 0]\n",
      "[367 332  43 192 378 166 312 296 206 390  62 386 123 429 225 102 226 288\n",
      " 326  10] [0 0 0 0 0 0 0 0 0 0 0 0 0 0 0 0 0 0 0 0]\n",
      "[ 63 159 143 314 169 423 282 369 422 367 138 213 192  25   9 194 387 170\n",
      " 380 286] [0 0 0 0 0 0 0 0 0 0 0 0 0 0 0 0 0 0 0 0]\n",
      "[154 446 145 167  32 302 135 240 107 418 371 337  72 256 143 170 429 417\n",
      " 159 155] [0 0 0 0 0 0 0 0 0 0 0 0 0 0 0 0 0 0 0 0]\n",
      "[145 148 387 446 194 299 252 211 373 102  32 180 157 170 143 219  85 390\n",
      " 382 126] [0 0 0 0 0 0 0 0 0 0 0 0 0 0 0 0 0 0 0 0]\n",
      "[ 89 308 381 148 173 177 103  26 182 348 193 376 370 240 152 347 122 369\n",
      " 412 202] [0 0 0 0 0 0 0 0 0 0 0 0 0 0 0 0 0 0 0 0]\n",
      "[143  56 295 404 194  50 444  49 158  43 431 131 111  75 251 382  99 432\n",
      " 364 129] [0 0 0 0 0 0 0 0 0 0 0 0 0 0 0 0 0 0 0 0]\n",
      "[431 372 251   6 285 350 292 126  88  32 109 131 234 138 273 231 439 382\n",
      " 181 145] [0 0 0 0 0 0 0 0 0 0 0 0 0 0 0 0 0 0 0 0]\n",
      "[158 106 407 332 443 388 223 444  64  88 146 241 282 159 413   9 445 271\n",
      " 292 288] [0 0 0 0 0 0 0 0 0 0 0 0 0 0 0 0 0 0 0 0]\n",
      "[223 196 332 282  72  43 219 356 404 417 433 295 236 377 342  41 195 323\n",
      " 264 265] [0 0 0 0 0 0 0 0 0 0 0 0 0 0 0 0 0 0 0 0]\n",
      "[ 90 418 371 215 448 216 235 265 378  94 282 343  76  50 127 152 209 162\n",
      " 322 173] [0 0 0 0 0 0 0 0 0 0 0 0 0 0 0 0 0 0 0 0]\n",
      "[396 133 264 341 400 204 286 256 160 140  11 282 418 338  10 152 430  55\n",
      " 196  45] [0 0 0 0 0 0 0 0 0 0 0 0 0 0 0 0 0 0 0 0]\n",
      "[277 206 328 380  43 248 429 178 444 326 266 332 431  22 349 306 396 181\n",
      "  49  86] [0 0 0 0 0 0 0 0 0 0 0 0 0 0 0 0 0 0 0 0]\n",
      "[206 425 145  47 339 178 122 372 404 326 380 227 159 266 165 193  38 240\n",
      " 320 273] [0 0 0 0 0 0 0 0 0 0 0 0 0 0 0 0 0 0 0 0]\n",
      "[ 63 107 193 287 299 143 349 315 135 256 334 286 167 302 413 381 273  85\n",
      "  72 225] [0 0 0 0 0 0 0 0 0 0 0 0 0 0 0 0 0 0 0 0]\n",
      "[171  36 100 197 425 353  54 138  51 157 273 145 269  39  10   6 400 375\n",
      " 159  88] [0 0 0 0 0 0 0 0 0 0 0 0 0 0 0 0 0 0 0 0]\n",
      "[147 180 383 139 390 235 215  55 359 162 274 391 103 166 211 430  52 343\n",
      " 265 148] [0 0 0 0 0 0 0 0 0 0 0 0 0 0 0 0 0 0 0 0]\n",
      "[ 36 230  71  18 222 121   4 339  43  35 327   2 209 102 444  62  38 367\n",
      " 170 370] [0 0 0 0 0 0 0 0 0 0 0 0 0 0 0 0 0 0 0 0]\n",
      "[144 197 387 213 122 420 269 356 230  53  51 404 127 195  87  26  62 327\n",
      " 271  64] [0 0 0 0 0 0 0 0 0 0 0 0 0 0 0 0 0 0 0 0]\n",
      "[154  32 225 356 419 188 196 180 354   5 219 400 417 282 425 426 313 163\n",
      " 314 435] [0 0 0 0 0 0 0 0 0 0 0 0 0 0 0 0 0 0 0 0]\n",
      "[ 97 372 123  72  73  21 392 143 177 341 203 349 326 138 170 315  77 166\n",
      " 242 387] [0 0 0 0 0 0 0 0 0 0 0 0 0 0 0 0 0 0 0 0]\n",
      "[108 204 194 264 274 103  54 235 221 107 193 286  25  36 223 337 426  38\n",
      " 252 140] [0 0 0 0 0 0 0 0 0 0 0 0 0 0 0 0 0 0 0 0]\n",
      "[314 228 160  31 107 167 446 102 251 388 425 100 265 155 181 413 387 191\n",
      " 193 380] [0 0 0 0 0 0 0 0 0 0 0 0 0 0 0 0 0 0 0 0]\n",
      "[382 143 437 303 384 170  70 274  55 446 367 392 228 432 164 200  67 286\n",
      " 269 273] [0 0 0 0 0 0 0 0 0 0 0 0 0 0 0 0 0 0 0 0]\n",
      "[387 337 286 324  32 372  50 331 256  72 302 143 388 355 235 413 449 170\n",
      " 299 330] [0 0 0 0 0 0 0 0 0 0 0 0 0 0 0 0 0 0 0 0]\n",
      "[145 274 193 235 215 126 132 146 381 330 339  98 264  64 161 100 404 165\n",
      " 355  21] [0 0 0 0 0 0 0 0 0 0 0 0 0 0 0 0 0 0 0 0]\n",
      "[387 143 417 342 193   9  40  72 154 194 312 198 336  50 231 380 389 368\n",
      " 145 192] [0 0 0 0 0 0 0 0 0 0 0 0 0 0 0 0 0 0 0 0]\n",
      "[431 244 446  43 102  60 283 216 444 248 294 201 131 400 429 318 233 292\n",
      " 434 307] [0 0 0 0 0 0 0 0 0 0 0 0 0 0 0 0 0 0 0 0]\n",
      "[157 387  33 435  99 258  57  47 254 329 355 397  62 193  51 146 158 171\n",
      "  93  35] [0 0 0 0 0 0 0 0 0 0 0 0 0 0 0 0 0 0 0 0]\n",
      "[407 143 340 235  50 194  45 232 368 432 233 225 131 389 381 273 382 304\n",
      " 137 445] [0 0 0 0 0 0 0 0 0 0 0 0 0 0 0 0 0 0 0 0]\n",
      "[407 404 180  57 115 356 430 219 235 148  29 402 367  41 371  59   4 123\n",
      " 319 198] [0 0 0 0 0 0 0 0 0 0 0 0 0 0 0 0 0 0 0 0]\n",
      "[219 328 102  36 114 159 387 141  53  62 278  50 321 423 223  18 143  88\n",
      " 265  48] [0 0 0 0 0 0 0 0 0 0 0 0 0 0 0 0 0 0 0 0]\n",
      "[ 72 418  17 193 188 223 180  41  51 219  57 387 138 277  63 422  36 115\n",
      " 312 145] [0 0 0 0 0 0 0 0 0 0 0 0 0 0 0 0 0 0 0 0]\n",
      "[122 102  50 406  32 378 256 193 154 400 194 444 373 192 115 314 107 252\n",
      " 299 329] [0 0 0 0 0 0 0 0 0 0 0 0 0 0 0 0 0 0 0 0]\n",
      "[446 120 169 444 214 282 103 264 104 142 143 130 379 145  81 110 194 188\n",
      " 222 275] [0 0 0 0 0 0 0 0 0 0 0 0 0 0 0 0 0 0 0 0]\n",
      "[387 273 355 448 180 314 219 372 388 188 245 386 231 260 288 282 235 179\n",
      " 232 138] [0 0 0 0 0 0 0 0 0 0 0 0 0 0 0 0 0 0 0 0]\n",
      "[285 351  47 166 430 400 378 446 217 209  90 373 432 444 269 312 448 258\n",
      " 333 389] [0 0 0 0 0 0 0 0 0 0 0 0 0 0 0 0 0 0 0 0]\n",
      "[121 372 143 181 251  50  75 111 170 336 223 367 304 159  40 193 314 126\n",
      " 312 179] [0 0 0 0 0 0 0 0 0 0 0 0 0 0 0 0 0 0 0 0]\n",
      "[ 72 118 166  50 387 180 422 443 258 103 254  18 364 302 102  63 215 145\n",
      " 138 121] [0 0 0 0 0 0 0 0 0 0 0 0 0 0 0 0 0 0 0 0]\n",
      "[ 23 266 125 448 308 401 119 269 420 217 103 131  82 292 274  79 316 216\n",
      " 398 361] [0 0 0 0 0 0 0 0 0 0 0 0 0 0 0 0 0 0 0 0]\n",
      "[439  98 387 105 152 372 367 171 243 401 219 370 332 422  43 419 179 366\n",
      "   4  88] [0 0 0 0 0 0 0 0 0 0 0 0 0 0 0 0 0 0 0 0]\n",
      "[159  43  32 332  21 274 387 388 372 137 167 148  41 102  56 341  36  54\n",
      " 226 155] [0 0 0 0 0 0 0 0 0 0 0 0 0 0 0 0 0 0 0 0]\n",
      "[259 396 145 385 373  87 179 144 447  41 449 328 266 167 209 193  75  21\n",
      " 315 350] [0 0 0 0 0 0 0 0 0 0 0 0 0 0 0 0 0 0 0 0]\n",
      "[332 172 441 258 288 166 259 218 346  90 282 390 308  76 327 140 324 371\n",
      "  79 162] [0 0 0 0 0 0 0 0 0 0 0 0 0 0 0 0 0 0 0 0]\n",
      "[ 72 122 326 444 182 332 320 387 314  43 148 420  40 295 196 449  94 327\n",
      " 242 194] [0 0 0 0 0 0 0 0 0 0 0 0 0 0 0 0 0 0 0 0]\n",
      "[367 178 191  34 109 392 166 400  28 206 405 242  43 441 351 170 255 449\n",
      " 308 154] [0 0 0 0 0 0 0 0 0 0 0 0 0 0 0 0 0 0 0 0]\n",
      "[367 302  55 329 446 155  50 128 161 420 306 315 381 340 119 308 427 208\n",
      " 164 217] [0 0 0 0 0 0 0 0 0 0 0 0 0 0 0 0 0 0 0 0]\n",
      "[179 229 216 127 236 242 449 151 305 273 173 247 277 392  56  49 407   5\n",
      " 437  39] [0 0 0 0 0 0 0 0 0 0 0 0 0 0 0 0 0 0 0 0]\n",
      "[387  31 445 101  62  88 169 254  50 166 372 251 422 262 263 278 359  36\n",
      " 423 411] [0 0 0 0 0 0 0 0 0 0 0 0 0 0 0 0 0 0 0 0]\n",
      "[180 193 419 372  40 223 378 105  25 170 158  45 386 122 337 184 387 194\n",
      " 251 226] [0 0 0 0 0 0 0 0 0 0 0 0 0 0 0 0 0 0 0 0]\n",
      "[189 396 427 105 351 154 145 124 100 108 114  50   2 245  97 450 169 444\n",
      " 148 285] [0 0 0 0 0 0 0 0 0 0 0 0 0 0 0 0 0 0 0 0]\n",
      "[444 144 305 251 143  33 230  43 378 373 383 182   5 353 133 272 151 169\n",
      " 419  88] [0 0 0 0 0 0 0 0 0 0 0 0 0 0 0 0 0 0 0 0]\n",
      "[444 424 255 138 332 422 158 251 445 226 193 380 235 399  36 192 177 400\n",
      " 404 115] [0 0 0 0 0 0 0 0 0 0 0 0 0 0 0 0 0 0 0 0]\n",
      "[406 383 314  76 428 224   9 400  73  39 305  30 242  17   2 258 360 295\n",
      " 155 220] [0 0 0 0 0 0 0 0 0 0 0 0 0 0 0 0 0 0 0 0]\n",
      "[ 75 282  48  21 114 348 293  23  51 342  87 273  72  17 238 254 128 219\n",
      " 138 209] [0 0 0 0 0 0 0 0 0 0 0 0 0 0 0 0 0 0 0 0]\n",
      "[448 115 235  43  41 293 444 397 353  10 143  61 282  36 103 193 447 446\n",
      "  21 332] [0 0 0 0 0 0 0 0 0 0 0 0 0 0 0 0 0 0 0 0]\n",
      "[219 236 407 365 266 143  53 303 305 148  36 123 100 242 159 445 438 184\n",
      " 336 332] [0 0 0 0 0 0 0 0 0 0 0 0 0 0 0 0 0 0 0 0]\n",
      "[387 353 213 197 143 155  16 304 171 163 231 380 248 407 232 252  75 415\n",
      "  29  21] [0 0 0 0 0 0 0 0 0 0 0 0 0 0 0 0 0 0 0 0]\n",
      "[ 57 387 180 123 444 193  36 368 122 276  99  56  31 437 223 176 314 450\n",
      "  27  72] [0 0 0 0 0 0 0 0 0 0 0 0 0 0 0 0 0 0 0 0]\n",
      "[171 167 343 380 122 140 368 425 446  78 450 259  27 144 388 360  75 240\n",
      " 269 288] [0 0 0 0 0 0 0 0 0 0 0 0 0 0 0 0 0 0 0 0]\n",
      "[314  36 380 180 138 143 331 193  15  32 121 145 256 426  57 134 422 167\n",
      "  50 232] [0 0 0 0 0 0 0 0 0 0 0 0 0 0 0 0 0 0 0 0]\n",
      "[400 448  36 378 166 251 193 102 226 368 450  55 122 419 245 343 351 120\n",
      "  45  41] [0 0 0 0 0 0 0 0 0 0 0 0 0 0 0 0 0 0 0 0]\n",
      "[180 340 377  80  31 449 176 274  82 346 128 326 361 144  70 131   4 341\n",
      " 448 442] [0 0 0 0 0 0 0 0 0 0 0 0 0 0 0 0 0 0 0 0]\n",
      "[387 102 226 251 400   2 278  62 378 215 431 258 357 254 166 359 206 122\n",
      " 111 324] [0 0 0 0 0 0 0 0 0 0 0 0 0 0 0 0 0 0 0 0]\n",
      "[277 449  23 389  56  88 119  60 259 377 217 320 163 195 236 346  91 139\n",
      "  31 372] [0 0 0 0 0 0 0 0 0 0 0 0 0 0 0 0 0 0 0 0]\n",
      "[166 396 102 215 145   2 254 245 278 159 143 390 126  76 447  62 158 226\n",
      "  35 429] [0 0 0 0 0 0 0 0 0 0 0 0 0 0 0 0 0 0 0 0]\n",
      "[306  70  40 224 263 262 336 384 216  87 141  97 202  59 269  50 242 185\n",
      "  60 402] [0 0 0 0 0 0 0 0 0 0 0 0 0 0 0 0 0 0 0 0]\n",
      "[196  72 426 105 372  63 166 400  56 240 378 184 425 161  24 369  77 193\n",
      " 160 180] [0 0 0 0 0 0 0 0 0 0 0 0 0 0 0 0 0 0 0 0]\n",
      "[ 36 148 180 336 223 122 380 184 426 440 273  89 256  97  15 445 134 342\n",
      " 251 188] [0 0 0 0 0 0 0 0 0 0 0 0 0 0 0 0 0 0 0 0]\n",
      "[248 435  50 102  36 159 256 274 273 265 372 122 388 154  88  21 180  75\n",
      " 157 419] [0 0 0 0 0 0 0 0 0 0 0 0 0 0 0 0 0 0 0 0]\n",
      "[122 155 400 251  23 120 326 206 324 258 248 144  52 332 209 166 441 217\n",
      " 317  68] [0 0 0 0 0 0 0 0 0 0 0 0 0 0 0 0 0 0 0 0]\n",
      "[159 273 138 422 269 367 342 155 154 279 209 143 145 237 120 103 115 167\n",
      "  23 446] [0 0 0 0 0 0 0 0 0 0 0 0 0 0 0 0 0 0 0 0]\n",
      "[372 387 247 332 380 105 448 423 319  45 246 407 145 180 444 226  85 370\n",
      " 189 109] [0 0 0 0 0 0 0 0 0 0 0 0 0 0 0 0 0 0 0 0]\n",
      "[310 333 166 131 103 148 248  18 292 295 255 409 129 283  16 201   8 446\n",
      "  49 307] [0 0 0 0 0 0 0 0 0 0 0 0 0 0 0 0 0 0 0 0]\n",
      "[446 155 253 403 144  14 191  82 418 347  69 125  34 212 133 306 264 187\n",
      "  11  60] [0 0 0 0 0 0 0 0 0 0 0 0 0 0 0 0 0 0 0 0]\n",
      "[207 387 235 188 444 102 169 231 407 359   2 251 448 122 265 278 100 419\n",
      " 181 254] [0 0 0 0 0 0 0 0 0 0 0 0 0 0 0 0 0 0 0 0]\n",
      "[154 400 274 351 449 411 192  72 126 226 180  36 251  57 134 166 387 278\n",
      " 425 422] [0 0 0 0 0 0 0 0 0 0 0 0 0 0 0 0 0 0 0 0]\n",
      "[102 368  17 304 181 279 380 166 122 158 400  97 444 218 359 396 231 271\n",
      " 413 143] [0 0 0 0 0 0 0 0 0 0 0 0 0 0 0 0 0 0 0 0]\n",
      "[319 128 367 154 155 356 320 173 322 156 112 321  55  82 447 433 216 310\n",
      " 187 125] [0 0 0 0 0 0 0 0 0 0 0 0 0 0 0 0 0 0 0 0]\n",
      "[387 179  91 328 449  17 171 280 102 445 181 359  41 372 226 274 218 232\n",
      " 400 100] [0 0 0 0 0 0 0 0 0 0 0 0 0 0 0 0 0 0 0 0]\n",
      "[ 29 103  31 312 193 448 160 209 343 337 205 266   4  36   6 286 192 363\n",
      " 248 102] [0 0 0 0 0 0 0 0 0 0 0 0 0 0 0 0 0 0 0 0]\n",
      "[425 171 444 414 188 321 115 426 228 155 320 167 238 367  73 286  90 299\n",
      " 166  11] [0 0 0 0 0 0 0 0 0 0 0 0 0 0 0 0 0 0 0 0]\n",
      "[396 448 450 102 387 326  40 206 415 413 219  32 389 383 156 424   3 400\n",
      " 379   9] [0 0 0 0 0 0 0 0 0 0 0 0 0 0 0 0 0 0 0 0]\n",
      "[171 103 377 408 228 300   3 102 353   9 344 235  29 115 264 383 450 194\n",
      "  27 424] [0 0 0 0 0 0 0 0 0 0 0 0 0 0 0 0 0 0 0 0]\n",
      "[154 236 219 255 367 345 103 159 373 165 327 348 344 389 274 179 366 337\n",
      " 446 205] [0 0 0 0 0 0 0 0 0 0 0 0 0 0 0 0 0 0 0 0]\n",
      "[154 177 274 273 296 103 236 261 219 243  54  57 439 286 143 202 235 422\n",
      "  85 128] [0 0 0 0 0 0 0 0 0 0 0 0 0 0 0 0 0 0 0 0]\n",
      "[166 154 448 115 143  48  45 231  31   2 372 387  76 102 181 380 450 378\n",
      " 339   3] [0 0 0 0 0 0 0 0 0 0 0 0 0 0 0 0 0 0 0 0]\n",
      "[368 193 166 149 381 339 445  57 286 256 251 400 236 254 359 274 214 141\n",
      " 430  36] [0 0 0 0 0 0 0 0 0 0 0 0 0 0 0 0 0 0 0 0]\n",
      "[394 211 331 286 264 274 450  92  77 368 413 252 284 387 302 107 315 337\n",
      " 105 426] [0 0 0 0 0 0 0 0 0 0 0 0 0 0 0 0 0 0 0 0]\n",
      "[337 299 170 302 155 256 388 315 301  30 448  90 273 248 380 173 113 236\n",
      " 421 316] [0 0 0 0 0 0 0 0 0 0 0 0 0 0 0 0 0 0 0 0]\n",
      "[360 446  50 103 407 423 343 105  72 194 277   9 143 186 381 159 339 191\n",
      " 438 414] [0 0 0 0 0 0 0 0 0 0 0 0 0 0 0 0 0 0 0 0]\n",
      "[ 23 444  43 329 154 356 417 446 322 396 195 397 332 159 103 400 319 264\n",
      " 155 206] [0 0 0 0 0 0 0 0 0 0 0 0 0 0 0 0 0 0 0 0]\n",
      "[274 449 387 231 368 286 232 426 367 306 331 193 169  50  77 211 391 256\n",
      " 445 319] [0 0 0 0 0 0 0 0 0 0 0 0 0 0 0 0 0 0 0 0]\n",
      "[422 154 143 316   9 293  56   5 194 170 290 159 193 389 450  72  75 180\n",
      "  59  89] [0 0 0 0 0 0 0 0 0 0 0 0 0 0 0 0 0 0 0 0]\n",
      "[159 367  48 166 444 170 368   9 193 387 194  99  51 195 225 372   2 180\n",
      " 414 196] [0 0 0 0 0 0 0 0 0 0 0 0 0 0 0 0 0 0 0 0]\n",
      "[387 444 159  43 180 332 422 122 378 400 102 446 173 195 192 435 274 196\n",
      " 165 166] [0 0 0 0 0 0 0 0 0 0 0 0 0 0 0 0 0 0 0 0]\n",
      "[155 298 161  20 307 150 185   8 129 333 433 434 371 448 242 191 343  70\n",
      " 449 168] [0 0 0 0 0 0 0 0 0 0 0 0 0 0 0 0 0 0 0 0]\n",
      "[448 390   5 289 205 310 344  42 177  91 190 449 275 347 410  41 230 104\n",
      " 404 120] [0 0 0 0 0 0 0 0 0 0 0 0 0 0 0 0 0 0 0 0]\n",
      "[144  59 373 347 230 376 446 314 311 382 115 348  12  78 356 259  44 246\n",
      " 340 185] [0 0 0 0 0 0 0 0 0 0 0 0 0 0 0 0 0 0 0 0]\n",
      "[236  91 314  24 160  57 274 102 387 445 166 181 372 400 215  58 254 359\n",
      " 367 258] [0 0 0 0 0 0 0 0 0 0 0 0 0 0 0 0 0 0 0 0]\n",
      "[446 154 236 274  87 293  65 131 392 172 277  23 366 217  90  86  30 212\n",
      " 360 178] [0 0 0 0 0 0 0 0 0 0 0 0 0 0 0 0 0 0 0 0]\n",
      "[ 21 398 273 405 337 103 307  23  74 136 179  94 314 389 367 235 365 256\n",
      "  24 293] [0 0 0 0 0 0 0 0 0 0 0 0 0 0 0 0 0 0 0 0]\n",
      "[186 444 103  47 235 446 124 332  58  27  21 350 274 373 422 385   5 287\n",
      " 236 154] [0 0 0 0 0 0 0 0 0 0 0 0 0 0 0 0 0 0 0 0]\n",
      "[122  18 256 387  21 446 231 102  88 278 350  31  97  36 372 274 171 388\n",
      " 177 169] [0 0 0 0 0 0 0 0 0 0 0 0 0 0 0 0 0 0 0 0]\n",
      "[103 154 241  39 305 196 366 427 229 350 236 119 155 363 242 393 255 129\n",
      " 440 447] [0 0 0 0 0 0 0 0 0 0 0 0 0 0 0 0 0 0 0 0]\n",
      "[138 359  21 274 426 372 406 273 219 443 162 387   9 368 417 411  72 278\n",
      " 155 193] [0 0 0 0 0 0 0 0 0 0 0 0 0 0 0 0 0 0 0 0]\n",
      "[273 256 195   9 444 159 138 271 321  43 201 446 194 114  85 229 443 332\n",
      "  36 136] [0 0 0 0 0 0 0 0 0 0 0 0 0 0 0 0 0 0 0 0]\n",
      "[212 450 361 103 448  32 268 360 198 125  26 333  82  74 315 131 347 317\n",
      " 292 247] [0 0 0 0 0 0 0 0 0 0 0 0 0 0 0 0 0 0 0 0]\n",
      "[154 274  98  11  53 173 450 122   2 115 251 337 329 174  32 206 103 419\n",
      " 444 100] [0 0 0 0 0 0 0 0 0 0 0 0 0 0 0 0 0 0 0 0]\n",
      "[417  58 365 342 288 410 216 371 406 200 273 314 451 236 436  24 272 407\n",
      "  94 389] [0 0 0 0 0 0 0 0 0 0 0 0 0 0 0 0 0 0 0 0]\n",
      "[314 299 270 244 216 230 103  16  21 360 364  43 200 358 446 328 322  72\n",
      " 407 346] [0 0 0 0 0 0 0 0 0 0 0 0 0 0 0 0 0 0 0 0]\n",
      "[445 166  77 102  32 274 378 400 386 167 266  53 372 387 304 430 302 286\n",
      " 122  31] [0 0 0 0 0 0 0 0 0 0 0 0 0 0 0 0 0 0 0 0]\n",
      "[ 57 265 422 357 387 105 166 388 378 115 246 188 120 400 143 181 226 394\n",
      " 380 408] [0 0 0 0 0 0 0 0 0 0 0 0 0 0 0 0 0 0 0 0]\n",
      "[395  78 444 343  68 451 446  45 145 336 420 360 138 407 363 291 332 279\n",
      " 352 322] [0 0 0 0 0 0 0 0 0 0 0 0 0 0 0 0 0 0 0 0]\n",
      "[314 217 180 251 115 131 387 134 297 360 343 103  99  60 111 448 451  23\n",
      " 446 171] [0 0 0 0 0 0 0 0 0 0 0 0 0 0 0 0 0 0 0 0]\n",
      "[177 192 400  91 350 451  19 372 130 225 314 430  33 211  54  58 228   4\n",
      " 264 154] [0 0 0 0 0 0 0 0 0 0 0 0 0 0 0 0 0 0 0 0]\n",
      "[446 108 274 157 103  50 396 143 273 314 313 138 451  72 355 202   9 173\n",
      " 240  47] [0 0 0 0 0 0 0 0 0 0 0 0 0 0 0 0 0 0 0 0]\n",
      "[237 446 381 107 444 373  43  75 290 450 143  57 180 227 332 217 313 211\n",
      "  72 352] [0 0 0 0 0 0 0 0 0 0 0 0 0 0 0 0 0 0 0 0]\n",
      "[265 159 166 380 435 258 378 105 188 245 439 126 390 286 143 122  31 180\n",
      "  88  72] [0 0 0 0 0 0 0 0 0 0 0 0 0 0 0 0 0 0 0 0]\n",
      "[ 47 332 444 293 194 108   9 154 159  43  72 443 357 400 356 236  58 371\n",
      " 214 389] [0 0 0 0 0 0 0 0 0 0 0 0 0 0 0 0 0 0 0 0]\n",
      "[ 32 377 235 446 326 273 449 103 265 306  55 216 259 420 443 405  86 196\n",
      " 244 211] [0 0 0 0 0 0 0 0 0 0 0 0 0 0 0 0 0 0 0 0]\n",
      "[314 390 446 122 184 102 407 215 378 132 274 350 279 147 372 207 260  28\n",
      " 277 280] [0 0 0 0 0 0 0 0 0 0 0 0 0 0 0 0 0 0 0 0]\n",
      "[450  32 166 357 154 444  43 196 332 293 115 329 184 171  41 236 258 103\n",
      " 378 382] [0 0 0 0 0 0 0 0 0 0 0 0 0 0 0 0 0 0 0 0]\n",
      "[148 367  72 423 170 159 368  21 154 138 197 143  63 219 169 337 256  36\n",
      " 380 398] [0 0 0 0 0 0 0 0 0 0 0 0 0 0 0 0 0 0 0 0]\n",
      "[269 400 378 120 154  17 166 340 274  23 248 192   9 417 430 394 389 254\n",
      " 226 444] [0 0 0 0 0 0 0 0 0 0 0 0 0 0 0 0 0 0 0 0]\n",
      "[223  72 105 387 159  80 337 102 445 150 138 181 252 404  77 122 336 231\n",
      " 193 422] [0 0 0 0 0 0 0 0 0 0 0 0 0 0 0 0 0 0 0 0]\n",
      "[402 236 447 346 217  87  13 310  20 136 178  30 405 244 407 247  82  14\n",
      " 344 298] [0 0 0 0 0 0 0 0 0 0 0 0 0 0 0 0 0 0 0 0]\n",
      "[154 396 367 198  94 447 360 364 323 266 450 253  99  60 211 366  14 405\n",
      " 128 448] [0 0 0 0 0 0 0 0 0 0 0 0 0 0 0 0 0 0 0 0]\n",
      "[103 177 196 242 235 364 357 327 145 191  30 392 306 159 313  34 311 348\n",
      " 376 420] [0 0 0 0 0 0 0 0 0 0 0 0 0 0 0 0 0 0 0 0]\n",
      "[ 50 166 251 378 380 181 445 372 219 122 274 126 180 430 419 448  32  77\n",
      " 194 218] [0 0 0 0 0 0 0 0 0 0 0 0 0 0 0 0 0 0 0 0]\n",
      "[306  41 347 236 448 170  24 143 219 169 216 367 397 407 299 161 361 426\n",
      " 402  60] [0 0 0 0 0 0 0 0 0 0 0 0 0 0 0 0 0 0 0 0]\n",
      "[342 166 423 143 251 378 236 138 400 445 256 337 422 426 234 120 407 304\n",
      " 226 413] [0 0 0 0 0 0 0 0 0 0 0 0 0 0 0 0 0 0 0 0]\n",
      "[396 444 143 285 138 387 196  72 381 332  43 404 326 235 417 197 255   9\n",
      " 219 154] [0 0 0 0 0 0 0 0 0 0 0 0 0 0 0 0 0 0 0 0]\n",
      "[274 122 117 302 320 413 273  88  85  40 107 282 426 105 231  97 435 342\n",
      " 375 252] [0 0 0 0 0 0 0 0 0 0 0 0 0 0 0 0 0 0 0 0]\n",
      "[143 444 332 166 265 422 105 372 195 378   3  57 109 251  43 274 407 426\n",
      " 430 102] [0 0 0 0 0 0 0 0 0 0 0 0 0 0 0 0 0 0 0 0]\n",
      "[273 268 448  33 370 244 255 266 402  74 451 152  31 105 351  50 446 441\n",
      " 322 366] [0 0 0 0 0 0 0 0 0 0 0 0 0 0 0 0 0 0 0 0]\n",
      "[303 387 373 255 155  40  51 326 206 404 198 264  36 122 152 322  33  55\n",
      " 209 332] [0 0 0 0 0 0 0 0 0 0 0 0 0 0 0 0 0 0 0 0]\n",
      "[404  57 342  43 122 448 314 154 444 206 145 417 265 107 343 173 166 198\n",
      "  72 422] [0 0 0 0 0 0 0 0 0 0 0 0 0 0 0 0 0 0 0 0]\n",
      "[425 286 143 176 170 444 105   9  57 194 430 372 173 400 445 155 180 169\n",
      " 196 188] [0 0 0 0 0 0 0 0 0 0 0 0 0 0 0 0 0 0 0 0]\n",
      "[290 373 402  43 235  51 332 328  33 397 192  99 163 404 312 196  32  60\n",
      " 170 417] [0 0 0 0 0 0 0 0 0 0 0 0 0 0 0 0 0 0 0 0]\n",
      "[273  54 172 129 283 156 292 397  41 446 216 177  82 186 320 136 310 451\n",
      " 319 112] [0 0 0 0 0 0 0 0 0 0 0 0 0 0 0 0 0 0 0 0]\n",
      "[ 41  47  43 366 154 299 337 143 235 405 273 327 219  56 328  78 282 429\n",
      " 352 413] [0 0 0 0 0 0 0 0 0 0 0 0 0 0 0 0 0 0 0 0]\n",
      "[ 50 313 427 274  77 282 197  48 406 166 339 312 422 378 348 400 145 105\n",
      "  27 169] [0 0 0 0 0 0 0 0 0 0 0 0 0 0 0 0 0 0 0 0]\n",
      "[ 76 390 119 367 287 118 170  24 185 147  67 171 387  88 242 352 155 231\n",
      " 364 434] [0 0 0 0 0 0 0 0 0 0 0 0 0 0 0 0 0 0 0 0]\n",
      "[274 337 150 254 313 387 385  39 404 352 153 359 113  73 299 283  35 298\n",
      " 434 193] [0 0 0 0 0 0 0 0 0 0 0 0 0 0 0 0 0 0 0 0]\n",
      "[266 163 252 305 257  76 143 390  64  97 203  88 232 181 169 219 251 380\n",
      " 370 263] [0 0 0 0 0 0 0 0 0 0 0 0 0 0 0 0 0 0 0 0]\n",
      "[144   2 299 254  96 236 359 215  88 387 252 181 159 367  18 111 138 363\n",
      " 251 450] [0 0 0 0 0 0 0 0 0 0 0 0 0 0 0 0 0 0 0 0]\n",
      "[417 365  65 140 372 293 291 299 222 313 288 427 328  33 187  49 155 135\n",
      " 447 217] [0 0 0 0 0 0 0 0 0 0 0 0 0 0 0 0 0 0 0 0]\n",
      "[293   9 446 211 415  39 306 235 155 185 396 313 363 216 161 125 328 383\n",
      " 447 406] [0 0 0 0 0 0 0 0 0 0 0 0 0 0 0 0 0 0 0 0]\n",
      "[274  50  72  77 148 166 380 286 414  44 122 120 159 343 388 370 170 367\n",
      " 368 126] [0 0 0 0 0 0 0 0 0 0 0 0 0 0 0 0 0 0 0 0]\n",
      "[274 154 348 277 328 306   9 453 448 112 148 370 285 150 450  77 205 146\n",
      " 219  76] [0 0 0 0 0 0 0 0 0 0 0 0 0 0 0 0 0 0 0 0]\n",
      "[ 86 404 103 417 367 122  22  16 418 179 330 236  11  34  19 415 134 279\n",
      " 377 441] [0 0 0 0 0 0 0 0 0 0 0 0 0 0 0 0 0 0 0 0]\n",
      "[274 122 382 219 143 264 406 332 319 448  11  17 125  67 171 326  23  43\n",
      " 293 195] [0 0 0 0 0 0 0 0 0 0 0 0 0 0 0 0 0 0 0 0]\n",
      "[193 188 265 166 452 367 378  45 430 179 321 225 258 235 103 355 414 304\n",
      " 381 380] [0 0 0 0 0 0 0 0 0 0 0 0 0 0 0 0 0 0 0 0]\n",
      "[274 235 154 372 195 183 286 149 232 269 155 376 406 169  29 150 135 324\n",
      " 292 364] [0 0 0 0 0 0 0 0 0 0 0 0 0 0 0 0 0 0 0 0]\n",
      "[430 187 429 290 289 110 104 431   7 379  42 214 120 142 130 402 275 102\n",
      " 307  87] [0 0 0 0 0 0 0 0 0 0 0 0 0 0 0 0 0 0 0 0]\n",
      "[371  23 155 449 209 112 447  44 402 283 335 153 292 418  41 171  47  59\n",
      " 354 129] [0 0 0 0 0 0 0 0 0 0 0 0 0 0 0 0 0 0 0 0]\n",
      "[429  75 312  21  70 259 300 341 448 177 323 150 349 146 265 337 408 385\n",
      " 409  42] [0 0 0 0 0 0 0 0 0 0 0 0 0 0 0 0 0 0 0 0]\n",
      "[387 337 368 193 453  77 388 233 444 181 149 286 299 284 339 256 251 252\n",
      " 167 302] [0 0 0 0 0 0 0 0 0 0 0 0 0 0 0 0 0 0 0 0]\n",
      "[159 388  85 122 446 209 196 364 150 413 453 447 396 367 143  26 240  75\n",
      " 216  49] [0 0 0 0 0 0 0 0 0 0 0 0 0 0 0 0 0 0 0 0]\n",
      "[260 236 206 417 231 274 122 143  50   5 444 449 139  17 446 266 438 370\n",
      " 414 348] [0 0 0 0 0 0 0 0 0 0 0 0 0 0 0 0 0 0 0 0]\n",
      "[ 50 453 109  72 159 115 274 378 155 355 166 326 425  36  68 400 370 404\n",
      " 387 446] [0 0 0 0 0 0 0 0 0 0 0 0 0 0 0 0 0 0 0 0]\n",
      "[171 353 454 179 446 314 188  50 274  57 126 108 205 154 192 102 400 250\n",
      " 226 404] [0 0 0 0 0 0 0 0 0 0 0 0 0 0 0 0 0 0 0 0]\n",
      "[387 206  36 235 122 196 396 143 314 287  17 120 171 105 332  32 179 154\n",
      " 449 326] [0 0 0 0 0 0 0 0 0 0 0 0 0 0 0 0 0 0 0 0]\n",
      "[282 299 148 132 337 154 155 315 389 286 107 302  49 135 450 269 137 413\n",
      " 307  86] [0 0 0 0 0 0 0 0 0 0 0 0 0 0 0 0 0 0 0 0]\n",
      "[236 274 287 177 327 187  30 173 216 292 335 443 168 125  86 247 320 119\n",
      " 159 384] [0 0 0 0 0 0 0 0 0 0 0 0 0 0 0 0 0 0 0 0]\n",
      "[293 400 274 166 115 236 215 258 446 262 263 336 219 218 145 378  18 390\n",
      " 372 382] [0 0 0 0 0 0 0 0 0 0 0 0 0 0 0 0 0 0 0 0]\n",
      "[453  17 454  75 236 289  89 455 447 139 177 432 319 258 320 380 402 114\n",
      " 193  96] [0 0 0 0 0 0 0 0 0 0 0 0 0 0 0 0 0 0 0 0]\n",
      "[ 73 106  77 146  72 407 380 143  38 109 443 454 325 278 339 381 386 206\n",
      " 101 141] [0 0 0 0 0 0 0 0 0 0 0 0 0 0 0 0 0 0 0 0]\n",
      "[274 217 255 422  14  10 235  72 387 154 257 206 287 380 120  50 435 332\n",
      " 444 353] [0 0 0 0 0 0 0 0 0 0 0 0 0 0 0 0 0 0 0 0]\n",
      "[365 252 375 219 272 216  97 177 274 267 154 166 380 349 245 123 291  82\n",
      " 158 355] [0 0 0 0 0 0 0 0 0 0 0 0 0 0 0 0 0 0 0 0]\n",
      "[427  57 141  17  43 331 399 194 381 365 393 348  36  16   4   3  37 273\n",
      " 300 385] [0 0 0 0 0 0 0 0 0 0 0 0 0 0 0 0 0 0 0 0]\n",
      "[320 303 225 355  36 455 192 290  57 204 306  47 250 392  30 240 387 347\n",
      " 176   6] [0 0 0 0 0 0 0 0 0 0 0 0 0 0 0 0 0 0 0 0]\n",
      "[111 416 154 159  34 180 193  50 167 166  72 207 264 407 453 211 413 192\n",
      " 287 223] [0 0 0 0 0 0 0 0 0 0 0 0 0 0 0 0 0 0 0 0]\n",
      "[387 160 367 274 415 306 223 454 407 171 150 256 193 304 353 102 455 388\n",
      " 157 430] [0 0 0 0 0 0 0 0 0 0 0 0 0 0 0 0 0 0 0 0]\n",
      "[264 446  47 449 367 171  78   9 135 390 242 378 115 138 149 447 313 105\n",
      " 170 422] [0 0 0 0 0 0 0 0 0 0 0 0 0 0 0 0 0 0 0 0]\n",
      "[453  50  36 427 194  57 166   9 180 378 351  59 367  93 426 223  55 380\n",
      " 188 111] [0 0 0 0 0 0 0 0 0 0 0 0 0 0 0 0 0 0 0 0]\n",
      "[274 286 299 453  36  57  77  99 337 256 159 413 155 252  55  85 181 146\n",
      " 331 167] [0 0 0 0 0 0 0 0 0 0 0 0 0 0 0 0 0 0 0 0]\n",
      "[ 36 332 122 444 206 188 136  43 387 235 430 322 402 224 196 380 134 326\n",
      " 245 251] [0 0 0 0 0 0 0 0 0 0 0 0 0 0 0 0 0 0 0 0]\n",
      "[435 274 387 169  21  75 159 454 145  43 158 103  72 143  47 273 262 263\n",
      "  50 148] [0 0 0 0 0 0 0 0 0 0 0 0 0 0 0 0 0 0 0 0]\n",
      "[457 198 218 400   3 386 129 292 346 166 402 268 296 168  94  26 231 317\n",
      " 247 112] [0 0 0 0 0 0 0 0 0 0 0 0 0 0 0 0 0 0 0 0]\n",
      "[446 457  51  75  21 155 154 348 455 342 398 353 108 274  98 280 282 346\n",
      "  68 337] [0 0 0 0 0 0 0 0 0 0 0 0 0 0 0 0 0 0 0 0]\n",
      "[454 206 274 337 256 188 422 299 381 326 312 426  54 368  36 211 372 223\n",
      "  72 252] [0 0 0 0 0 0 0 0 0 0 0 0 0 0 0 0 0 0 0 0]\n",
      "[454 122  36 387 107 103 326 206 143   5 302 329  75 381 194 430 192 159\n",
      "  17 254] [0 0 0 0 0 0 0 0 0 0 0 0 0 0 0 0 0 0 0 0]\n",
      "[287 257 457 328 427  89 387 261 269 263 262 345 256 203  77 284  86 327\n",
      " 131 157] [0 0 0 0 0 0 0 0 0 0 0 0 0 0 0 0 0 0 0 0]\n",
      "[256 447  56 446 236 388 293 196 453 345 259 327 456   3 354  65 332 246\n",
      " 217  60] [0 0 0 0 0 0 0 0 0 0 0 0 0 0 0 0 0 0 0 0]\n",
      "[277 292   5 148  36  47 388 368 235 302  15 350  55  57 391 308 393 255\n",
      " 107 315] [0 0 0 0 0 0 0 0 0 0 0 0 0 0 0 0 0 0 0 0]\n",
      "[353 259 454  36 444 122  43 188 313 257  77 378 206   9 355 342 150 107\n",
      " 273 154] [0 0 0 0 0 0 0 0 0 0 0 0 0 0 0 0 0 0 0 0]\n",
      "[285 353 226 332 118  93 165  60  77 263 262 434   8  27 406 273 345  21\n",
      "  92  30] [0 0 0 0 0 0 0 0 0 0 0 0 0 0 0 0 0 0 0 0]\n",
      "[103 274 152  47 124  51 231 107 260 337 313 223 206 196 123  22 296  89\n",
      " 134 396] [0 0 0 0 0 0 0 0 0 0 0 0 0 0 0 0 0 0 0 0]\n",
      "[177 106  72 274 259 381 152  47 196 368  75 407 159  57 398 345  50 145\n",
      " 197 453] [0 0 0 0 0 0 0 0 0 0 0 0 0 0 0 0 0 0 0 0]\n",
      "[444 454 195 180  43 404 332  13  55 441 308 428 366 194 453   9 292 385\n",
      " 144 157] [0 0 0 0 0 0 0 0 0 0 0 0 0 0 0 0 0 0 0 0]\n",
      "[ 23 437 173 301 290 130 282 422 228 371 337  82 163 248 310 153 161 446\n",
      " 373 360] [0 0 0 0 0 0 0 0 0 0 0 0 0 0 0 0 0 0 0 0]\n",
      "[387 159 368 252 211 302  75 286 188 143  77 135 107 264  17 282 422 167\n",
      "  72 236] [0 0 0 0 0 0 0 0 0 0 0 0 0 0 0 0 0 0 0 0]\n",
      "[277 370 188  17 444 339 286  36 452 256 105  97 332  51 149  85 321 264\n",
      " 223 173] [0 0 0 0 0 0 0 0 0 0 0 0 0 0 0 0 0 0 0 0]\n",
      "[422  36 107  72 454 195 223 169 109 332 452 166 180 378  63 274 400 192\n",
      " 278 102] [0 0 0 0 0 0 0 0 0 0 0 0 0 0 0 0 0 0 0 0]\n",
      "[454  50  57 331 453 183  47  24 274 157  72 155 336 236 171 291 284  66\n",
      " 391  97] [0 0 0 0 0 0 0 0 0 0 0 0 0 0 0 0 0 0 0 0]\n",
      "[136 356 173 402  51  94 404 322 196 202 261 457 454 171  89 255 455 103\n",
      "  74  59] [0 0 0 0 0 0 0 0 0 0 0 0 0 0 0 0 0 0 0 0]\n",
      "[152 288 305 242 337 332  39 308 353 454 457 299  82 444 265 218  33 363\n",
      "  50 433] [0 0 0 0 0 0 0 0 0 0 0 0 0 0 0 0 0 0 0 0]\n",
      "[198 332  43 253 444  39 385 396  74 328  59 317 448  89 305 450  65 326\n",
      "   5 290] [0 0 0 0 0 0 0 0 0 0 0 0 0 0 0 0 0 0 0 0]\n",
      "[273 109 282 435 416 213 453  63  36 342 340 148 336 270 197  72 169  56\n",
      " 439 445] [0 0 0 0 0 0 0 0 0 0 0 0 0 0 0 0 0 0 0 0]\n",
      "[422 387 355 454  36 159  48 264 143 286  45 107 290 296 229 188 375 326\n",
      " 404 154] [0 0 0 0 0 0 0 0 0 0 0 0 0 0 0 0 0 0 0 0]\n",
      "[ 47  51 282 248 239 330  49 169   9 235 402 343 138 457  65 182 327 206\n",
      " 396 154] [0 0 0 0 0 0 0 0 0 0 0 0 0 0 0 0 0 0 0 0]\n",
      "[ 50  76 224 159 338 274 387  43  51  54 453 205 196 145 143 365 332 313\n",
      " 154 253] [0 0 0 0 0 0 0 0 0 0 0 0 0 0 0 0 0 0 0 0]\n",
      "[ 36 332 323 400 444 404 418  50 122  43 279 301 426 206 166 328 371  41\n",
      " 102 147] [0 0 0 0 0 0 0 0 0 0 0 0 0 0 0 0 0 0 0 0]\n",
      "[356 387 422 229 282 314  40 180 365  47 173  89  51 181 444 265 435 111\n",
      " 327 291] [0 0 0 0 0 0 0 0 0 0 0 0 0 0 0 0 0 0 0 0]\n",
      "[353 107 229 427 194 274 109 386  72  47 159  50 458 356 286 453 404 301\n",
      " 342 459] [0 0 0 0 0 0 0 0 0 0 0 0 0 0 0 0 0 0 0 0]\n",
      "[ 36  17 169  67 454 341 421  43 387 122  37 282 453 201 444 150 356 180\n",
      " 381  72] [0 0 0 0 0 0 0 0 0 0 0 0 0 0 0 0 0 0 0 0]\n",
      "[280  31 231 457 382  43 154  44 313 176   4 331 100 136 309 194  50 242\n",
      " 387 267] [0 0 0 0 0 0 0 0 0 0 0 0 0 0 0 0 0 0 0 0]\n",
      "[457  89 459 155 126 326 171  43  51 197  65 328 185 454 331 298  75 254\n",
      " 380 343] [0 0 0 0 0 0 0 0 0 0 0 0 0 0 0 0 0 0 0 0]\n",
      "[ 56 242 188 457 198 196 437  65  39 372 311  47 176 305  89 389 179  40\n",
      " 194 281] [0 0 0 0 0 0 0 0 0 0 0 0 0 0 0 0 0 0 0 0]\n",
      "[235 385  11 413 299 180 302 171 457  68 376 396  77 282 166 311 381 150\n",
      " 123 132] [0 0 0 0 0 0 0 0 0 0 0 0 0 0 0 0 0 0 0 0]\n",
      "[138 235 274 264 376 212 163 458 326 171  30 122 353 344 269 360 366 110\n",
      " 446 459] [0 0 0 0 0 0 0 0 0 0 0 0 0 0 0 0 0 0 0 0]\n",
      "[444 283 366 457 418 344 172  19 201 127  42  28 115 195 335 130 131 432\n",
      " 307 300] [0 0 0 0 0 0 0 0 0 0 0 0 0 0 0 0 0 0 0 0]\n",
      "[445 457  14 340  24  49  57 332 444 269 322  58 453 364 434  90 310 131\n",
      " 290 348] [0 0 0 0 0 0 0 0 0 0 0 0 0 0 0 0 0 0 0 0]\n",
      "[248  77 444  75 425 332 146 401 157 367 337 299 378  36 138 458 422 173\n",
      " 171 234] [0 0 0 0 0 0 0 0 0 0 0 0 0 0 0 0 0 0 0 0]\n",
      "[435  50 396 439 340 219 171 404 109 286 202 250 154  47 369 194 146 368\n",
      "  54 264] [0 0 0 0 0 0 0 0 0 0 0 0 0 0 0 0 0 0 0 0]\n",
      "[274 154 282 454  75 219  31  21 180 143 192 280 290 213 242  47 138 286\n",
      " 368 107] [0 0 0 0 0 0 0 0 0 0 0 0 0 0 0 0 0 0 0 0]\n",
      "[177 454  75  23 430 328 142 136 112 287 192 228 190 208 456  37 453 275\n",
      "  11 257] [0 0 0 0 0 0 0 0 0 0 0 0 0 0 0 0 0 0 0 0]\n",
      "[ 50 404 458 143 232  72 234 282 407 355 314 242 259 171 166 219  74 443\n",
      " 353 290] [0 0 0 0 0 0 0 0 0 0 0 0 0 0 0 0 0 0 0 0]\n",
      "[444 136 235 150 426 152 396 151 117 202  43 457 222  25 224 402  51 195\n",
      " 452 238] [0 0 0 0 0 0 0 0 0 0 0 0 0 0 0 0 0 0 0 0]\n",
      "[ 50 138 422  77  36 143 235 313 407 154  31 375 285 446 122 225  88 396\n",
      " 109 372] [0 0 0 0 0 0 0 0 0 0 0 0 0 0 0 0 0 0 0 0]\n",
      "[223 387 177 458 122  36 206 148 326 188 111 273 229 159  67 219 446 179\n",
      "  57 256] [0 0 0 0 0 0 0 0 0 0 0 0 0 0 0 0 0 0 0 0]\n",
      "[ 43 454 178 328 116 457 199 444 273 433   8 207 294 265 310  20 354 434\n",
      " 283 112] [0 0 0 0 0 0 0 0 0 0 0 0 0 0 0 0 0 0 0 0]\n",
      "[406 165 169 454 356 194 448  94 435  43 207 323  42 216 387 300 148 418\n",
      " 180 444] [0 0 0 0 0 0 0 0 0 0 0 0 0 0 0 0 0 0 0 0]\n",
      "[293 154 454 188 387   4 381  74  31 259 171 134  47 312 179 196 314 391\n",
      "  65   6] [0 0 0 0 0 0 0 0 0 0 0 0 0 0 0 0 0 0 0 0]\n",
      "[ 32 173 454 143 235 334 381  57  56 458 355 301 282 450 296 422 201 148\n",
      " 407 138] [0 0 0 0 0 0 0 0 0 0 0 0 0 0 0 0 0 0 0 0]\n",
      "[236  57 204 255 453 322 449 165 316 171  69  50 347 351  18 396 391 136\n",
      " 312 269] [0 0 0 0 0 0 0 0 0 0 0 0 0 0 0 0 0 0 0 0]\n",
      "[454 118 102 139 448 257  57 422 278 383  62 353 287   2 254 332  51 453\n",
      " 356 171] [0 0 0 0 0 0 0 0 0 0 0 0 0 0 0 0 0 0 0 0]\n",
      "[422 356 123 196 274 412 145 313 388 173  31 446 187 250 340 143  47 430\n",
      " 290 265] [0 0 0 0 0 0 0 0 0 0 0 0 0 0 0 0 0 0 0 0]\n",
      "[173 102 103 429 193 255 174 331 286 252 148  32 448 380  65 304 443 181\n",
      " 256 258] [0 0 0 0 0 0 0 0 0 0 0 0 0 0 0 0 0 0 0 0]\n",
      "[ 94 292 454 416  15 129 155 424 372  14 154 323 283 450 297 333 347 127\n",
      "  60 308] [0 0 0 0 0 0 0 0 0 0 0 0 0 0 0 0 0 0 0 0]\n",
      "[ 72 446 280 274 155 228 430  93 367 387 454 441 169 282  36 115  80 326\n",
      " 193  29] [0 0 0 0 0 0 0 0 0 0 0 0 0 0 0 0 0 0 0 0]\n",
      "[165 448 387  22 264 154 422 364 280 237 326 322 384 236 179 301 115 275\n",
      "  50  82] [0 0 0 0 0 0 0 0 0 0 0 0 0 0 0 0 0 0 0 0]\n",
      "[166 242 400 315 454 258 378   2 218 254 305 458 161 390  62  31 181 248\n",
      " 115  21] [0 0 0 0 0 0 0 0 0 0 0 0 0 0 0 0 0 0 0 0]\n",
      "[454 264  56 171 449 111 448 381 356 423 192 313 256 194 387  41 159 188\n",
      " 443 459] [0 0 0 0 0 0 0 0 0 0 0 0 0 0 0 0 0 0 0 0]\n",
      "[422 387 332 122 196  36 444  43 454 326 446 448  75 274 188 194 264 284\n",
      "  10 400] [0 0 0 0 0 0 0 0 0 0 0 0 0 0 0 0 0 0 0 0]\n",
      "[457 429 352 434 364 293 441  29 307 427 112 233 173 435   8 295 328 116\n",
      " 310 180] [0 0 0 0 0 0 0 0 0 0 0 0 0 0 0 0 0 0 0 0]\n",
      "[454 457 458 314  50 292 307 404  20 434  82  30 129 112 298   8 356 116\n",
      " 295  79] [0 0 0 0 0 0 0 0 0 0 0 0 0 0 0 0 0 0 0 0]\n",
      "[ 75   2 454 356 427 250  21 248 215  77 171  36 242 322 342 403 254 134\n",
      " 108 115] [0 0 0 0 0 0 0 0 0 0 0 0 0 0 0 0 0 0 0 0]\n",
      "[454 235 459  21 126 343 140  57   3 173 446 154  75 275 230 277 239 206\n",
      " 363 414] [0 0 0 0 0 0 0 0 0 0 0 0 0 0 0 0 0 0 0 0]\n",
      "[328 322 448  40 396 357 211 235  14 339 171 157 240 172 421  38 153 177\n",
      " 414 374] [0 0 0 0 0 0 0 0 0 0 0 0 0 0 0 0 0 0 0 0]\n",
      "[ 72  50 173 367 337 404 372 155 454  29 314 181 107 427 136 103 299 407\n",
      "  22 265] [0 0 0 0 0 0 0 0 0 0 0 0 0 0 0 0 0 0 0 0]\n",
      "[ 47 248 159 274 279 173 388 270 228 451 211 368  57 255  48 355 172 323\n",
      " 115 264] [0 0 0 0 0 0 0 0 0 0 0 0 0 0 0 0 0 0 0 0]\n",
      "[285 313 353 150 171 396 172  13 271  11 441 119 178 350 402 229  87 244\n",
      " 155  99] [0 0 0 0 0 0 0 0 0 0 0 0 0 0 0 0 0 0 0 0]\n",
      "[454 229  47 404 313 271 453   5 103 372 373 119  77 299 188 328 115 198\n",
      " 126  27] [0 0 0 0 0 0 0 0 0 0 0 0 0 0 0 0 0 0 0 0]\n",
      "[370 229 422 168 329 313 319 451  47 274 357  72  59 133 440  60 350 173\n",
      " 448 105] [0 0 0 0 0 0 0 0 0 0 0 0 0 0 0 0 0 0 0 0]\n",
      "[159 274 457   5 454  48  23 133 240 397  47 223 251 143 338 396 171 158\n",
      " 231 440] [0 0 0 0 0 0 0 0 0 0 0 0 0 0 0 0 0 0 0 0]\n",
      "[422 259 223 171 248 302 353 107 180 444 252  32 315  17 382 219 135   7\n",
      " 445 446] [0 0 0 0 0 0 0 0 0 0 0 0 0 0 0 0 0 0 0 0]\n",
      "[453 144 109  47  65 456 221 448 240 142  68 415 392 233  78 366 323 373\n",
      "  13  11] [0 0 0 0 0 0 0 0 0 0 0 0 0 0 0 0 0 0 0 0]\n",
      "[459 196 328  57 322 316 299 337 171  56 154  60 161  33 150 396 236 242\n",
      "  19 255] [0 0 0 0 0 0 0 0 0 0 0 0 0 0 0 0 0 0 0 0]\n",
      "[161 173 446  67 287 202 235  29 180 206 425 290 326 238  54 293 177 319\n",
      " 178 144] [0 0 0 0 0 0 0 0 0 0 0 0 0 0 0 0 0 0 0 0]\n",
      "[400 378 266  43 173 161  35  33 444 430   5 218 460 155 443 332 411 274\n",
      " 313 273] [0 0 0 0 0 0 0 0 0 0 0 0 0 0 0 0 0 0 0 0]\n",
      "[121 293 435 461  65 265  36 273 183 342  56 193  74 259 312 287 210 351\n",
      "  99 143] [0 0 0 0 0 0 0 0 0 0 0 0 0 0 0 0 0 0 0 0]\n",
      "[405 255   5 443  72 404  10 348 155 288 173 371 106  14  66 375 415 451\n",
      " 446  86] [0 0 0 0 0 0 0 0 0 0 0 0 0 0 0 0 0 0 0 0]\n",
      "[ 91 457 168 193  99 408 415  17  56 185 122 459 196 397 126   4  57 326\n",
      " 292 300] [0 0 0 0 0 0 0 0 0 0 0 0 0 0 0 0 0 0 0 0]\n",
      "[ 80 184 457 143 404 454 387  74 105 314 122  72 290  58 422   5 273 137\n",
      " 407  36] [154   0   0   0   0   0   0   0   0   0   0   0   0   0   0   0   0   0\n",
      "   0   0]\n",
      "[ 80 184 293   5 252 250 238  74  65 356 323 251  57 303 190 427 259 297\n",
      "  17 267] [454   0   0   0   0   0   0   0   0   0   0   0   0   0   0   0   0   0\n",
      "   0   0]\n",
      "[184 173  80 444 219 274  93 396 384 460 332 361 205  88 233 230 401 228\n",
      " 183 207] [277   0   0   0   0   0   0   0   0   0   0   0   0   0   0   0   0   0\n",
      "   0   0]\n",
      "[242 261 202 194 182 173 103 113  40 286   9 404 144 122 322 351 444 326\n",
      "  87 301] [50  0  0  0  0  0  0  0  0  0  0  0  0  0  0  0  0  0  0  0]\n",
      "[259 206 122 460 315 444 188 286  32 326 155 177  77 367  75 179 170 154\n",
      " 450  36] [456   0   0   0   0   0   0   0   0   0   0   0   0   0   0   0   0   0\n",
      "   0   0]\n",
      "[404  72  50 387 264 456 458 457  36 131   6 422 193 245 400  54 359 226\n",
      " 253 207] [454   0   0   0   0   0   0   0   0   0   0   0   0   0   0   0   0   0\n",
      "   0   0]\n",
      "[157 154 242 396 427 274  56  83 462  39  57 305 367 370 171 335 461 363\n",
      " 353 327] [248   0   0   0   0   0   0   0   0   0   0   0   0   0   0   0   0   0\n",
      "   0   0]\n",
      "[454 282 166 460 387 304 167 179 188 198  50  31 122 107 455 251  36 326\n",
      "  72 258] [420   0   0   0   0   0   0   0   0   0   0   0   0   0   0   0   0   0\n",
      "   0   0]\n",
      "[291 274 140  49 396 458 422  68  72  40 192 462 283 446 365 173  55 340\n",
      " 369 219] [122   0   0   0   0   0   0   0   0   0   0   0   0   0   0   0   0   0\n",
      "   0   0]\n",
      "[274 454 155 457 282 435  60 443 461 172  47  68 408 293  42 379 177 314\n",
      " 301 119] [322   0   0   0   0   0   0   0   0   0   0   0   0   0   0   0   0   0\n",
      "   0   0]\n",
      "[459 154 274 443 353 456 229 180 299 388 375 219 462 151 454 173 167 155\n",
      " 453 242] [450   0   0   0   0   0   0   0   0   0   0   0   0   0   0   0   0   0\n",
      "   0   0]\n",
      "[229  23  62 461 173 462  35 194 450 322 105 155 359 202 219 457  74 180\n",
      "  32   9] [458   0   0   0   0   0   0   0   0   0   0   0   0   0   0   0   0   0\n",
      "   0   0]\n",
      "[ 50 229 460 417 353 462 293 154 177 453 282   4  89 342  29 247 112 207\n",
      "  80 361] [454   0   0   0   0   0   0   0   0   0   0   0   0   0   0   0   0   0\n",
      "   0   0]\n",
      "[143 454 235 458  85 196 370 256 290 181 388 166 380 273 389 369  56 245\n",
      " 109 368] [364   0   0   0   0   0   0   0   0   0   0   0   0   0   0   0   0   0\n",
      "   0   0]\n",
      "[284 338 330 457 135 375 368  37 242 379 192 248 302 264  26  74 200 426\n",
      " 291 190] [274   0   0   0   0   0   0   0   0   0   0   0   0   0   0   0   0   0\n",
      "   0   0]\n",
      "[137 223 100 422 341 304 276 364 258 123  63 166 179 331 440 144 108 138\n",
      " 169 285] [277   0   0   0   0   0   0   0   0   0   0   0   0   0   0   0   0   0\n",
      "   0   0]\n",
      "[422 173 196 282 459 242 426 336 138  31 122 283 265  43 454  27 202 273\n",
      "  39 463] [152   0   0   0   0   0   0   0   0   0   0   0   0   0   0   0   0   0\n",
      "   0   0]\n",
      "[396 219 274 296 397 308 326 311 456 459 170 400 122  27 123 117 303 358\n",
      " 207 444] [154   0   0   0   0   0   0   0   0   0   0   0   0   0   0   0   0   0\n",
      "   0   0]\n",
      "[260 460  50 455 387 448 450 414 343 122  32  96  10 154 235 342 454   5\n",
      " 232 378] [457   0   0   0   0   0   0   0   0   0   0   0   0   0   0   0   0   0\n",
      "   0   0]\n",
      "[454 459 457 456 453 220 273 223  49 262 263  97 154 446 155  27  65 135\n",
      " 381  98] [422   0   0   0   0   0   0   0   0   0   0   0   0   0   0   0   0   0\n",
      "   0   0]\n",
      "[274 396 287 155 448 460  41 154 148 144 190 124 455 273 337 122 314  14\n",
      " 304 202] [228   0   0   0   0   0   0   0   0   0   0   0   0   0   0   0   0   0\n",
      "   0   0]\n",
      "[454 286  36 188 122 107 155  31 206 193 326 160 302 387 355 337 232 180\n",
      " 167 143] [154   0   0   0   0   0   0   0   0   0   0   0   0   0   0   0   0   0\n",
      "   0   0]\n",
      "[456  35 258  47 204 369 413 147 449 365 336 393 387 382  67 155 154  26\n",
      "  71  11] [454   0   0   0   0   0   0   0   0   0   0   0   0   0   0   0   0   0\n",
      "   0   0]\n",
      "[ 45 143 407 454  63 453 138 443 256 159 400  72  46 286 438 155 169  64\n",
      " 452 186] [328   0   0   0   0   0   0   0   0   0   0   0   0   0   0   0   0   0\n",
      "   0   0]\n",
      "[138 312 166 143 426 122  39 387  17  31 457 196 356 154 407 242 180 103\n",
      " 417 326] [113   0   0   0   0   0   0   0   0   0   0   0   0   0   0   0   0   0\n",
      "   0   0]\n",
      "[241 271 336 248 315 413 148 388 261 456 187 138 229 337 266 302 282 422\n",
      " 107 459] [0 0 0 0 0 0 0 0 0 0 0 0 0 0 0 0 0 0 0 0]\n",
      "[239 463 155 336   5  36 269 224 412  39 392 405  48 246 293 115 456 229\n",
      "  92 164] [154   0   0   0   0   0   0   0   0   0   0   0   0   0   0   0   0   0\n",
      "   0   0]\n",
      "[290  95 460 404 235 206 456 417 454  93 177 420 231 461 328 353 397  27\n",
      " 401 304] [184   0   0   0   0   0   0   0   0   0   0   0   0   0   0   0   0   0\n",
      "   0   0]\n",
      "[ 57  54 140 450 458 193 281 459  88 101 259 304 276  32 141 109 296 368\n",
      " 426  36] [422   0   0   0   0   0   0   0   0   0   0   0   0   0   0   0   0   0\n",
      "   0   0]\n",
      "[416 232 461 242 343 228  60 299 217 250 150 140 408 292  68 161 323 239\n",
      " 112 131] [264   0   0   0   0   0   0   0   0   0   0   0   0   0   0   0   0   0\n",
      "   0   0]\n",
      "[457 446 242  23 293 292 363 344  57 283 323 300 218 127  70 308 165 171\n",
      " 274  39] [103   0   0   0   0   0   0   0   0   0   0   0   0   0   0   0   0   0\n",
      "   0   0]\n",
      "[274  50 391 264 356 250 456 235 454 457 398 269 229 458 459 154 290 341\n",
      " 422 430] [115   0   0   0   0   0   0   0   0   0   0   0   0   0   0   0   0   0\n",
      "   0   0]\n",
      "[ 50 443 425  54 323 363 286  39 234 219 307 350 148 336 375 110 391  81\n",
      " 379 214] [293 454   0   0   0   0   0   0   0   0   0   0   0   0   0   0   0   0\n",
      "   0   0]\n",
      "[330 443 103 456 155 277 235 454 180 350 323 248 320 252 446 314 194 457\n",
      "   9  85] [304 385   0   0   0   0   0   0   0   0   0   0   0   0   0   0   0   0\n",
      "   0   0]\n",
      "[435 456 330 155 293 148  41 364 109 448 127 219 391 169 168  50  14 323\n",
      " 464  86] [422 314   0   0   0   0   0   0   0   0   0   0   0   0   0   0   0   0\n",
      "   0   0]\n",
      "[454 274 142 404 411 380 458  60  57 250 410 196 371 416 314 154 115 145\n",
      " 350 372] [107 385   0   0   0   0   0   0   0   0   0   0   0   0   0   0   0   0\n",
      "   0   0]\n",
      "[292 283 154 150 342  19 130 433  28 456 410 104 432 301 142 112 344 317\n",
      "  43 323] [76 50  0  0  0  0  0  0  0  0  0  0  0  0  0  0  0  0  0  0]\n",
      "[454  50 255 212 326 206 192  10 463 380 332 130 188 461 361 122 457 183\n",
      "  45 235] [357 155   0   0   0   0   0   0   0   0   0   0   0   0   0   0   0   0\n",
      "   0   0]\n",
      "[459  50 345 207 420 461 415 103 107 394 430  98 127 240 212 353 446 460\n",
      " 248 437] [264 293   0   0   0   0   0   0   0   0   0   0   0   0   0   0   0   0\n",
      "   0   0]\n",
      "[459  50 282 392 273 454  36 190 342 323  57 348 269 103 326 251  47 179\n",
      " 343 243] [345 234   0   0   0   0   0   0   0   0   0   0   0   0   0   0   0   0\n",
      "   0   0]\n",
      "[287 387 269 444 394 266  77  22 198 386 288 223 180  10 157 304 138 320\n",
      " 170 274] [323 219   0   0   0   0   0   0   0   0   0   0   0   0   0   0   0   0\n",
      "   0   0]\n",
      "[ 86 154  98 456 137  72 397 444  43 143 443 315  36 138 423 169  22 364\n",
      "  12  63] [122 103   0   0   0   0   0   0   0   0   0   0   0   0   0   0   0   0\n",
      "   0   0]\n",
      "[230 345 301 323  58 155 193 463 190 134  40 106 344 142 413 282  72 410\n",
      "  69 168] [458  43   0   0   0   0   0   0   0   0   0   0   0   0   0   0   0   0\n",
      "   0   0]\n",
      "[196 274  50 380 166 219 378  72  46 138 197 170 387 155 326 251 367 450\n",
      "   9 154] [230 328   0   0   0   0   0   0   0   0   0   0   0   0   0   0   0   0\n",
      "   0   0]\n",
      "[274 454  47 392 196 313 103 458 301 184 396 154  10 427  72 319 323 232\n",
      "  25 245] [ 40 192   0   0   0   0   0   0   0   0   0   0   0   0   0   0   0   0\n",
      "   0   0]\n",
      "[192 274 250 458 463 314  15 459 164  16  54  33 273 364 453 348 272  78\n",
      " 464 313] [ 72 454   0   0   0   0   0   0   0   0   0   0   0   0   0   0   0   0\n",
      "   0   0]\n",
      "[459 173 403 446 251 293 254 215 396 274 279 387 264 435 453 351 378 181\n",
      " 102   2] [323 364   0   0   0   0   0   0   0   0   0   0   0   0   0   0   0   0\n",
      "   0   0]\n",
      "[269  36 421 392 446 196 103  43 265 448 192 117 142  59 460 104 287 150\n",
      " 141 432] [387 154   0   0   0   0   0   0   0   0   0   0   0   0   0   0   0   0\n",
      "   0   0]\n",
      "[285 459 247 155 116 250 343  10 230  15 182 448 382 458 301 350 435  81\n",
      " 306  31] [340  36   0   0   0   0   0   0   0   0   0   0   0   0   0   0   0   0\n",
      "   0   0]\n",
      "[314 114 235 103  28 323  19 432 130 410 454 104 326 206 140 387 418 289\n",
      " 394 120] [145 439   0   0   0   0   0   0   0   0   0   0   0   0   0   0   0   0\n",
      "   0   0]\n",
      "[122 326 206 387 155 379 180 386 188 209  28 211 314 450 274 460 142 418\n",
      " 394 130] [357 223   2  57   0   0   0   0   0   0   0   0   0   0   0   0   0   0\n",
      "   0   0]\n",
      "[454  36 387 143 194 368 332 462 286 273 355  32 226  31 397   9 282 180\n",
      " 223 459] [236  40 314 456   0   0   0   0   0   0   0   0   0   0   0   0   0   0\n",
      "   0   0]\n",
      "[ 23  67 382  98  39 391 154 353 425 316 350 367 171 404 185 464 137  66\n",
      " 115 449] [332 370 459 274   0   0   0   0   0   0   0   0   0   0   0   0   0   0\n",
      "   0   0]\n",
      "[155  47 195 464 465 423 170 402 444 463 286 404 293  17 466 197 443 250\n",
      "   3 387] [185 180 392 235   0   0   0   0   0   0   0   0   0   0   0   0   0   0\n",
      "   0   0]\n",
      "[133 412 277 170 178 250 450 460 422 370 274 337 315 336  32 397 443 145\n",
      " 203 367] [377 353 459 454   0   0   0   0   0   0   0   0   0   0   0   0   0   0\n",
      "   0   0]\n",
      "[453  57 466 405 465 283 129 307 294 358 152 354 137 298 292 318  20 150\n",
      " 323 418] [222 264 154 396  50   0   0   0   0   0   0   0   0   0   0   0   0   0\n",
      "   0   0]\n",
      "[155 206 326  41 122 387 450 295  28 142 144 196 190 459  19 323 286 307\n",
      " 292  31] [ 50 466   2 215 465   0   0   0   0   0   0   0   0   0   0   0   0   0\n",
      "   0   0]\n",
      "[138 407  72 234 235 143 122 155 326 223 446 206 188 169 179 186 159 103\n",
      " 387 276] [196 389 150 453 454   0   0   0   0   0   0   0   0   0   0   0   0   0\n",
      "   0   0]\n",
      "[229 159 327 205 314 250 274 382   2  98 306 442 241 466 364 293 465 115\n",
      " 173  61] [213 122 206 154 326   0   0   0   0   0   0   0   0   0   0   0   0   0\n",
      "   0   0]\n",
      "[102  88 215 465   2 359 466   5 254 124 454 319 464 171  62 193 180 350\n",
      " 162 147] [122 206 326 387 422   0   0   0   0   0   0   0   0   0   0   0   0   0\n",
      "   0   0]\n",
      "[411  87 312 138 234 403 407 426 465 466  32 106 326 261 450 122 455 115\n",
      " 342 457] [337 166 422 380  39   0   0   0   0   0   0   0   0   0   0   0   0   0\n",
      "   0   0]\n",
      "[435 130 357 274 190  54 379 455 454  28  19 161 155 142 360 412 301 217\n",
      " 398   7] [235 416 460 202 107   0   0   0   0   0   0   0   0   0   0   0   0   0\n",
      "   0   0]\n",
      "[454 155 103 122 458  17  43  31 235 332 123 448 225 335 144 188 378 422\n",
      "  36  57] [290 283  49  32  68   0   0   0   0   0   0   0   0   0   0   0   0   0\n",
      "   0   0]\n",
      "[184 192  50 460 387 384  80  87 332  54 253 220 198  57 326 179 171 107\n",
      " 333  43] [145 458 155 404 454   0   0   0   0   0   0   0   0   0   0   0   0   0\n",
      "   0   0]\n",
      "[341 159 248 453  40 450 273 437 157 340 219  65  75 380 454  21 372 282\n",
      " 121 301] [155 404 206 122 326   0   0   0   0   0   0   0   0   0   0   0   0   0\n",
      "   0   0]\n",
      "[413 456 206 167 122 326 332 387 460 274 144 218  43  32 166  84 105 252\n",
      " 323 225] [457  50 121 404 328   0   0   0   0   0   0   0   0   0   0   0   0   0\n",
      "   0   0]\n",
      "[290  60 396 155  77 170 161 184 143 369 219 358 335 286 312 319  17 438\n",
      "  51 302] [ 34 368 198 259 235   0   0   0   0   0   0   0   0   0   0   0   0   0\n",
      "   0   0]\n",
      "[248 235 158 397  60 131 464 230 209 437 220  28  26 327 316 368  49 130\n",
      " 100 466] [450 313 396  50 277   0   0   0   0   0   0   0   0   0   0   0   0   0\n",
      "   0   0]\n",
      "[454  43 235 332 422 105  21 382 115 274 314 444   2 159 180 373 181  47\n",
      " 111  36] [ 28 371 323  50 404   0   0   0   0   0   0   0   0   0   0   0   0   0\n",
      "   0   0]\n",
      "[447 207 270 366 323  15 164 277 342 193 387 405 337 299 274 459 462  20\n",
      "  40 295] [159 213 197 454 219   0   0   0   0   0   0   0   0   0   0   0   0   0\n",
      "   0   0]\n",
      "[ 50 450 448 162  41 467  26 305 278  32 358 377  35 462 279 118  68 312\n",
      " 268 402] [235 326 454 122 332   0   0   0   0   0   0   0   0   0   0   0   0   0\n",
      "   0   0]\n",
      "[377 250 155 443 450 229 255 122 326  47 346 196  99 130 235 206  28 217\n",
      " 167 178] [195  27 422 154  43   0   0   0   0   0   0   0   0   0   0   0   0   0\n",
      "   0   0]\n",
      "[457 443 446 460 373  36 301 235 192  47 314 248  32 450 282 387 425 154\n",
      "  15 447] [122 380 401 404 121   0   0   0   0   0   0   0   0   0   0   0   0   0\n",
      "   0   0]\n",
      "[ 88 305 363 313 242 181   2 250  39 111 359  67 357 236 293  21 446 254\n",
      " 235 251] [387 206 326 155 439   0   0   0   0   0   0   0   0   0   0   0   0   0\n",
      "   0   0]\n",
      "[319 155 115 326 375 283 323 206 259 422 130 344 460 122  19 148 164  47\n",
      "  74 411] [264 177 404  65 454   0   0   0   0   0   0   0   0   0   0   0   0   0\n",
      "   0   0]\n",
      "[467 323 230 344 125 457  28 299 335 137 300 120 408 392 315 459 331 173\n",
      " 313 211] [103 229 345 314 207   0   0   0   0   0   0   0   0   0   0   0   0   0\n",
      "   0   0]\n",
      "[155 183 459 435 133  22  90 371  17 415 229 301 465  32 458 466 456 216\n",
      " 260 356] [274 235 154 202 404   0   0   0   0   0   0   0   0   0   0   0   0   0\n",
      "   0   0]\n",
      "[404 301 392 130  50 201 190 103 323 154  47 462 245 273 290 214 122 326\n",
      " 291 229] [ 43 467 196 444  74   0   0   0   0   0   0   0   0   0   0   0   0   0\n",
      "   0   0]\n",
      "[404 425 206 326 130 122 235 387 360 314 327 408  15 418  38 290 344 372\n",
      " 201  46] [458  50 460 273 454   0   0   0   0   0   0   0   0   0   0   0   0   0\n",
      "   0   0]\n",
      "[235  36 260 464 236 103 454 396 171 105 304 417 154  87 328  48 296 107\n",
      "   2  51] [151 130 323 404 229   0   0   0   0   0   0   0   0   0   0   0   0   0\n",
      "   0   0]\n",
      "[458 454 235 457 277 188 154 392 313  50 446 389 236 342 269 211 103 368\n",
      " 422 396] [  8 319 185 173  12   0   0   0   0   0   0   0   0   0   0   0   0   0\n",
      "   0   0]\n",
      "[327 397 425 456 248 205   5 448 155 459 229 250 219  43 334 367 399 192\n",
      " 340 270] [269 235 458 454 396   0   0   0   0   0   0   0   0   0   0   0   0   0\n",
      "   0   0]\n",
      "[159 155 230 313 170  99 119 437 103 287  47 367 183 154 196  40 410 339\n",
      " 327 342] [236 453 336 454 387   0   0   0   0   0   0   0   0   0   0   0   0   0\n",
      "   0   0]\n",
      "[226 320 273 458 453 459 109 383 387 326 282 296 229 206 122 219 336  31\n",
      " 313 148] [ 50 107 396 284  88   0   0   0   0   0   0   0   0   0   0   0   0   0\n",
      "   0   0]\n",
      "[ 73 292 188  48 459 336 321 177 226 155 312 196 339 341 462 319 148 283\n",
      " 222 139] [460 103 107 442 115   0   0   0   0   0   0   0   0   0   0   0   0   0\n",
      "   0   0]\n",
      "[241  39 312  38 114 363 273  73 337 162 282 242 258  72 196 339 235 149\n",
      " 219 451] [113 425 403  65 326   0   0   0   0   0   0   0   0   0   0   0   0   0\n",
      "   0   0]\n",
      "[422 229 231  49  39 363  27 242 198 261 305 249 205 398 323 169 327 103\n",
      " 253 372] [274 262 263 356 425   0   0   0   0   0   0   0   0   0   0   0   0   0\n",
      "   0   0]\n",
      "[154  56   2  24 422 107 460 169 329 102  76 425  75 143 239 219 148 457\n",
      " 445   9] [212 206  31 236  17   0   0   0   0   0   0   0   0   0   0   0   0   0\n",
      "   0   0]\n",
      "[355 293  75 456 223 295 313 132 289 443 314 446 412 457 130 110 155 408\n",
      " 103 458] [159 279  43 204 451   0   0   0   0   0   0   0   0   0   0   0   0   0\n",
      "   0   0]\n",
      "[ 50  30 192 235 107 115 396 103 314 446 315 269 460 454 337 458  43  32\n",
      " 316 284] [352 347 164 312  99   0   0   0   0   0   0   0   0   0   0   0   0   0\n",
      "   0   0]\n",
      "[ 50 404  36 107 416  57 274 380 134  99 183 454 103  86 106 407 337 287\n",
      " 197  44] [148  97 111 109 314   0   0   0   0   0   0   0   0   0   0   0   0   0\n",
      "   0   0]\n",
      "[206 122 173  28 142 289 160 301 326 130 323 115  19 391 104 344  81 300\n",
      " 297 405] [181 404  88 102 145   0   0   0   0   0   0   0   0   0   0   0   0   0\n",
      "   0   0]\n",
      "[103 454 146  43 230 283 456 219 385 236 467 257 224 332 287 444 395 453\n",
      " 239 327] [380 265 107 235 404   0   0   0   0   0   0   0   0   0   0   0   0   0\n",
      "   0   0]\n",
      "[322  60 119 420 155 468 170 427 316 422  94 172 310  90 283 229 398  98\n",
      " 330 305] [  5 374 454 460 159 236   0   0   0   0   0   0   0   0   0   0   0   0\n",
      "   0   0]\n",
      "[ 94 234 307 456 274 453 146 326 239 130  19 233 241  47  59  77  57 323\n",
      " 397 265] [  5 458 435 364 103 392   0   0   0   0   0   0   0   0   0   0   0   0\n",
      "   0   0]\n",
      "[ 40 460 350 454 107 302 274 277  72  50 337 344 145 458 315 443 407 255\n",
      " 301 196] [123 450 202 382 346 313   0   0   0   0   0   0   0   0   0   0   0   0\n",
      "   0   0]\n",
      "[205 454 327 313 342  98 274 332 104 382 229 120 148 195 214  12 340  54\n",
      " 350 453] [ 23 230  34 191 387 444   0   0   0   0   0   0   0   0   0   0   0   0\n",
      "   0   0]\n",
      "[ 57 439 422 469 454  90 371 196 202 171 328 332 176 159 353 435 397 418\n",
      " 255  40] [ 54 173 265 280 290 404 407   0   0   0   0   0   0   0   0   0   0   0\n",
      "   0   0]\n",
      "[223 456 426 288 159  77  50 259  21  72 299 260  93 369 458 443 462  63\n",
      " 265 367] [335 446 179 269 108 206 326   0   0   0   0   0   0   0   0   0   0   0\n",
      "   0   0]\n",
      "[211 287 454 396 270 257 161  49 459 387 469 274 139 127 179 371  47 152\n",
      " 346 142] [184 153  57 338  75 458  45   0   0   0   0   0   0   0   0   0   0   0\n",
      "   0   0]\n",
      "[159  23  45  40 448 426 288 469 404 454 314 211 107  43  60 307  79 283\n",
      " 153 289] [206 188 443 143 457 122 319   0   0   0   0   0   0   0   0   0   0   0\n",
      "   0   0]\n",
      "[312 202 171 327 131 459 285 387 115 337 145 427 153 328 454 350 307 318\n",
      " 317 465] [286 200 420 396 134  57  50   0   0   0   0   0   0   0   0   0   0   0\n",
      "   0   0]\n",
      "[143 107  72 441 115 460 438 459 404 308 230 138 284 259  96 223 450 371\n",
      " 310 462] [456 400 171 155 274 387 454   0   0   0   0   0   0   0   0   0   0   0\n",
      "   0   0]\n",
      "[154 387 396 223 230 332  43 259 122 446 466 288  55 412 390 344 218 144\n",
      " 388 179] [290 458 459 180 159 343 454   0   0   0   0   0   0   0   0   0   0   0\n",
      "   0   0]\n",
      "[196 229 404 270 460 392 185  50  51 274 427 458 122  40 126  99  33 457\n",
      " 328 425] [343  72 468 454 282 168 219   0   0   0   0   0   0   0   0   0   0   0\n",
      "   0   0]\n",
      "[456 454  98 155  47  19 291 314 196 467 294  56 230 173 398 129 401 134\n",
      "  82 116] [273 236 229 235 223 103  50   0   0   0   0   0   0   0   0   0   0   0\n",
      "   0   0]\n",
      "[202 287 103 240 305  40 277 450 313 252 154 385 211 229  27 235 265 332\n",
      " 167 387] [342 422 101  63 458 454 148   0   0   0   0   0   0   0   0   0   0   0\n",
      "   0   0]\n",
      "[380 200 280 437 225 126 394 215  76 454 419 274 193 251 123 451 411 386\n",
      " 208 166] [387 115  31 155  38 282 154   0   0   0   0   0   0   0   0   0   0   0\n",
      "   0   0]\n",
      "[425 229  98 458 194   9 257 385 180 215 404 264 287 197  17 387 451 326\n",
      " 446  43] [273 212 164  89 282 329 219   0   0   0   0   0   0   0   0   0   0   0\n",
      "   0   0]\n",
      "[ 75 443 266 456 414 198 106 219  21 171 353 363 341  72 283  96 465 129\n",
      " 285 466] [ 53 444  31 453 154  24 326   0   0   0   0   0   0   0   0   0   0   0\n",
      "   0   0]\n",
      "[178 401 404  57 107 447 323 195 180 332  89 435 378 161 467 396 247 457\n",
      "  65 459] [456 444 426 270 331 450  75   0   0   0   0   0   0   0   0   0   0   0\n",
      "   0   0]\n",
      "[270  17 396 155 172  87 327 401  51  13 337 174 203 201   7  57  75 204\n",
      " 326 125] [177 399 342 194 460 458 457   0   0   0   0   0   0   0   0   0   0   0\n",
      "   0   0]\n",
      "[417 155 191 219 270 459 273 334 446 277 255 458 321  10 282 132 102  34\n",
      "  45 105] [264 396 263 262   9  49 356   0   0   0   0   0   0   0   0   0   0   0\n",
      "   0   0]\n",
      "[454  36 425 228 101  96 387 350 449 373 261 143 100  17 380  54 345  88\n",
      " 160 386] [463 307 443 127 444 211 404   0   0   0   0   0   0   0   0   0   0   0\n",
      "   0   0]\n",
      "[ 47 383  65 169 296 151  75 182 333  56 250 437 270 198  49  46 405 450\n",
      " 396  32] [342 459 140 337 239   5 451   0   0   0   0   0   0   0   0   0   0   0\n",
      "   0   0]\n",
      "[ 44  57 228 362 308 372 314 269 165 383 281 429 458 365 425 323 167 158\n",
      "  11  67] [277 160  84 136  31 459 427   0   0   0   0   0   0   0   0   0   0   0\n",
      "   0   0]\n",
      "[363  29 314 337 305 459 122 115 464  31 209 205  44 165 198 230 427 280\n",
      " 158  78] [460 458 453 466 138 465 290   0   0   0   0   0   0   0   0   0   0   0\n",
      "   0   0]\n",
      "[463 377 171 409 107  48 130  43 139 144  40 323 161 444  75 326 343 367\n",
      " 229 206] [ 36 188 256 376  77  23 103   0   0   0   0   0   0   0   0   0   0   0\n",
      "   0   0]\n",
      "[364  22 358 235 148 462 341 128 197 330 149 463 313 121 265 225 303 223\n",
      " 396 166] [340 423 459 464 454 171 264   0   0   0   0   0   0   0   0   0   0   0\n",
      "   0   0]\n",
      "[445  33 446 231  86 235 309  23 467 128 444  28 407  26 269 345  88  43\n",
      " 380 350] [107  39 242 143 135 346 114   0   0   0   0   0   0   0   0   0   0   0\n",
      "   0   0]\n",
      "[235  50 453  47 358 273 425 102   2 103 451 378 382 459 240 432 254 118\n",
      "  31 282] [209 367 201  27 454 259   3   0   0   0   0   0   0   0   0   0   0   0\n",
      "   0   0]\n",
      "[453 314 301  83 454 337  32  14  40 357 377  19 322  28  60 373 443 101\n",
      " 323 191] [129 468 161  43  72 108  50   0   0   0   0   0   0   0   0   0   0   0\n",
      "   0   0]\n",
      "[387 338  77 179 447 432  26 435  27  12 365 146  90 308 219 159 418 391\n",
      " 364 337] [ 50 107 314 459 194  72 242   0   0   0   0   0   0   0   0   0   0   0\n",
      "   0   0]\n",
      "[202 459 450  32 432 455 235 141 197 416 138 190  33 192 167 445 437 115\n",
      " 322  10] [467 387 342 449 404 274  27   0   0   0   0   0   0   0   0   0   0   0\n",
      "   0   0]\n",
      "[453 319 459 105 370 231 226  88 464 290 368 232 444  43 378 343 380 355\n",
      "  34 277] [367 222 229  72 103  50 373   0   0   0   0   0   0   0   0   0   0   0\n",
      "   0   0]\n",
      "[456 270 396 448  60 229 219 148 402 330 463 197 206 327 250 322 176 328\n",
      " 371  30] [356 385 332 454 177 340 453   0   0   0   0   0   0   0   0   0   0   0\n",
      "   0   0]\n",
      "[453 236 184 301 235 173 342 161 282 435 425 416 194 103 387  65  54 423\n",
      " 145 386] [  8 434 405 156 155 352 295   0   0   0   0   0   0   0   0   0   0   0\n",
      "   0   0]\n",
      "[ 29 239 236  57  10 337 155 289 422 192 144 202 219 405 387 244 446  74\n",
      " 468 367] [287 106 123 444 392 453 274   0   0   0   0   0   0   0   0   0   0   0\n",
      "   0   0]\n",
      "[158 373  59 155 323 240 388 317 222 310  80  94 358 401 202 444  43 335\n",
      " 329 276] [314 164 105 372 235 387 285   0   0   0   0   0   0   0   0   0   0   0\n",
      "   0   0]\n",
      "[285  28 142 310 323 104 155 336 416 450 435 158  42 372 116 433 410 455\n",
      "  81 344] [ 40 114 242  88 363 248 274   0   0   0   0   0   0   0   0   0   0   0\n",
      "   0   0]\n",
      "[188 196 223 326 206 135 454 202  15 457 161  80 385 235 285 414  98 442\n",
      " 444 230] [100  57  69 197 423 226  72   0   0   0   0   0   0   0   0   0   0   0\n",
      "   0   0]\n",
      "[457 454 387 236 274 459 282 299 155 414 235  50 177 417 444  27 159 121\n",
      " 372 380] [143 398  41 448 385 205 327   0   0   0   0   0   0   0   0   0   0   0\n",
      "   0   0]\n",
      "[460 155 154  50 459 299  90 371 256 107 265  15 323 210  94 450 209 417\n",
      " 259 263] [169 236 363  12 235 159 387   0   0   0   0   0   0   0   0   0   0   0\n",
      "   0   0]\n",
      "[158 240 131 357 362 283 129 460 216  49 448 112 434 294 310 361  82 410\n",
      " 298  52] [207 236 389  43 454 453 229   0   0   0   0   0   0   0   0   0   0   0\n",
      "   0   0]\n",
      "[115 143 314 236 229 340 343 159  50  44 154  88 389 446  72 260 263 457\n",
      " 290 171] [274 292 425 150 176 456 396   0   0   0   0   0   0   0   0   0   0   0\n",
      "   0   0]\n",
      "[453  36 314 180 115  57 380 340 428  32 459 176  27  41 357  74 192 211\n",
      " 462 468] [241 128  28 130 142 217 392   0   0   0   0   0   0   0   0   0   0   0\n",
      "   0   0]\n",
      "[229  47 244 265 313 413 288 337 283  33  74  69 317 379 112  82 275 110\n",
      " 292  20] [392 235 103 446 457 459 458   0   0   0   0   0   0   0   0   0   0   0\n",
      "   0   0]\n",
      "[235 458 454 269 340 173 273 236 425  44 461 459 446  50 314 114 404 197\n",
      " 457 435] [352  69  55 409 432 187 365   0   0   0   0   0   0   0   0   0   0   0\n",
      "   0   0]\n",
      "[273 422 392 444 340 265  40 446 280 230 462 218 191 345 277 367 169 397\n",
      " 419 229] [107 428 349 404 365 460 453   0   0   0   0   0   0   0   0   0   0   0\n",
      "   0   0]\n",
      "[235 453 229  50 202 161 236 332 454 182 385  63 370 105 414 380 195 158\n",
      "  40 446] [159 460 224 282 378 382 293   0   0   0   0   0   0   0   0   0   0   0\n",
      "   0   0]\n",
      "[  3   9 314 274 235 396 147 155  47  50 194 319 229  57 192 154 248 460\n",
      " 387 209] [ 32 404  88 459 210 425 458   0   0   0   0   0   0   0   0   0   0   0\n",
      "   0   0]\n",
      "[202 396 138 148 438 339 353 254  39 400 186  35  46   4 147  28 305 422\n",
      " 242  98] [ 48 194  32 340  43 444 332 314   0   0   0   0   0   0   0   0   0   0\n",
      "   0   0]\n",
      "[417 236 188 213 154 454 387   9 422 458 460 457  43 143  63  34 191 389\n",
      " 161 407] [ 10 126 415  27 155 448 280  41   0   0   0   0   0   0   0   0   0   0\n",
      "   0   0]\n",
      "[404 154 458 387 454 457  50   9 430 417  22  60 342  44 439 340 161 427\n",
      " 188 314] [150 259 385 250 184   3 302 407   0   0   0   0   0   0   0   0   0   0\n",
      "   0   0]\n",
      "[459  54 274 458 336 115 148 276 259  40 389  50 273 314  22 391 342 235\n",
      " 155 168] [315 107 453 183 242 192 454 313   0   0   0   0   0   0   0   0   0   0\n",
      "   0   0]\n",
      "[470 292 148 283 112 434 298 131  20 354  28 310 156 433  99 183  82 352\n",
      "   8 307] [115 143 392 154 454 404 342 459   0   0   0   0   0   0   0   0   0   0\n",
      "   0   0]\n",
      "[235 385  88 159 460 367 446 449 331 201 468 111 336 274 469  65 126 394\n",
      " 226 181] [ 49  27  57 470 291 464 270 341   0   0   0   0   0   0   0   0   0   0\n",
      "   0   0]\n",
      "[ 59 396 404 397  58 314 375 265 171 103  94  45 340  60 165  12 196  66\n",
      " 357  77] [417 140 156 315 253 154 369 470   0   0   0   0   0   0   0   0   0   0\n",
      "   0   0]\n",
      "[342 235 247 322  49 190 323 432  47 344  28 144  19  32 438 130 450 434\n",
      "  11 248] [380 134 460 236  59 154 425 454   0   0   0   0   0   0   0   0   0   0\n",
      "   0   0]\n",
      "[402 470 155 454  17 326 248 460 293 397  32 173 286 136 196 347 370  59\n",
      " 154  98] [314 353 235  49 150 115 389 283   0   0   0   0   0   0   0   0   0   0\n",
      "   0   0]\n",
      "[264 451 345 387 328  65 179  22 423 177 382 402 184  12 202  31  83 260\n",
      " 409 100] [185 154 107 392 425 460 459  49   0   0   0   0   0   0   0   0   0   0\n",
      "   0   0]\n",
      "[ 57 274   9 182 332 384 194  49  40 305 240 158 420 348 193 103 357 180\n",
      " 444  11] [ 21 454 453 176 314  36 458 417   0   0   0   0   0   0   0   0   0   0\n",
      "   0   0]\n",
      "[196  43 332 444 105 195 211 470 257 293 236  23 198 376 417 452 117 370\n",
      " 437 290] [ 98 285 299 167 356 240 373 229 471   0   0   0   0   0   0   0   0   0\n",
      "   0   0]\n",
      "[377   3  56 285 373  50 422 404 138 264 446  57 471 276 438  97 449 282\n",
      "  72  46] [394 182  44 202  23 435 284 412 439   0   0   0   0   0   0   0   0   0\n",
      "   0   0]\n",
      "[107  55 460 240 302 337 135 211  45 353  43 256 388 370 158 450 167 173\n",
      " 413 444] [239 206 179  27  20 396  10 159 446   0   0   0   0   0   0   0   0   0\n",
      "   0   0]\n",
      "[264 150 453 292 283  10 459 131  98 155 240 409 199 229 173 298 129  79\n",
      " 310 112] [389 387 332  44 454 154 103 350 471   0   0   0   0   0   0   0   0   0\n",
      "   0   0]\n",
      "[404 314 458 459 115 274 273 453 342 470 340 236 457 471 235 427 154  23\n",
      " 192 180] [337 150 283 308 433 307 197  17  43   0   0   0   0   0   0   0   0   0\n",
      "   0   0]\n",
      "[196 129 292 150 155 148 283 382  43  77 387 156 244 396  57 287 432 434\n",
      " 116 112] [159 417 460 154 158 378 454  50 422   0   0   0   0   0   0   0   0   0\n",
      "   0   0]\n",
      "[  5 278 325 159 444 299 215 326 102 387 337 396 235  43 332 254 470 340\n",
      " 150 206] [ 22 353 442 367 114 242 373  84  87   0   0   0   0   0   0   0   0   0\n",
      "   0   0]\n",
      "[422 145  85 205  75 368  33 144 402 327 353 194 271 309 286 369 351 230\n",
      " 134  84] [235 380 236 254 269  47 454 404  72   0   0   0   0   0   0   0   0   0\n",
      "   0   0]\n",
      "[404 426 117 190 458 217 159 314 171   5 387 364 108  36   7 468 264 361\n",
      " 435 340] [ 32  22 422 424 197 202 450  57 393   0   0   0   0   0   0   0   0   0\n",
      "   0   0]\n",
      "[444 360 138 376  43 433 230 405 298 449  90 116 294 373  20 454 317 392\n",
      " 446  11] [364 314 453 105 171 202 302  77 264 389 471   0   0   0   0   0   0   0\n",
      "   0   0]\n",
      "[  3 107 291 237  60 163  23  43 256 460 463 171 234 315 413 302 332 349\n",
      " 444 334] [169 103  67 328 437 109 421 228 283 471  56   0   0   0   0   0   0   0\n",
      "   0   0]\n",
      "[382 171 143  57 138 367 305 242  22 159  27 363 197 353 313  39   9 180\n",
      " 460 105] [104 117  79 397  23 274 454 449 154 343 314   0   0   0   0   0   0   0\n",
      "   0   0]\n",
      "[115 470  50 465 466  27 290 453 154  43 150 458 369 274 177  30  67 356\n",
      "  41  21] [ 15   9 198  17 387 134 397 236  56 173 145   0   0   0   0   0   0   0\n",
      "   0   0]\n",
      "[121 330 471 170  59  57 337 287 286 196 340 232  94 312 465  56  33  89\n",
      " 129  51] [392  72  43  12 273 449 235 446 459 470 277   0   0   0   0   0   0   0\n",
      "   0   0]\n",
      "[173 322 470 423 349 453 143 252  50  57 186 447 302 148  74 380 250 352\n",
      " 112 131] [109 122 146 195  77 444  43 454 115 404 328   0   0   0   0   0   0   0\n",
      "   0   0]\n",
      "[240 464 470  50  90 236  48 453 328 391  21 364 103  80 418 139 102 340\n",
      " 148 441] [458 196 326 206  94 472 387 253 471  59 404   0   0   0   0   0   0   0\n",
      "   0   0]\n",
      "[422 155 289 313  44  46 458 416 219  47 169 470 326 438 444 207 342 472\n",
      " 336  22] [386 166  50 396 387 202 177 269 236 373 235   0   0   0   0   0   0   0\n",
      "   0   0]\n",
      "[207 471 264 417  22 235 159 259 404 458 276 236 387 312 166 169 237 453\n",
      "  36  68] [337 171 454 155 449 182 358  41   4 305 461   0   0   0   0   0   0   0\n",
      "   0   0]\n",
      "[ 19  28 130 289 190  42 120 379 297 104 342 300 275 408 110 422  32 142\n",
      " 235 214] [273  33 229 357 240 312 196 396 404 470  40   0   0   0   0   0   0   0\n",
      "   0   0]\n",
      "[452 422 473 196 180 194 431 232 264 109 219 179  91 359 121   2 131 319\n",
      " 443 231] [129 236 302  72 242 269 192 470 243 159 454   0   0   0   0   0   0   0\n",
      "   0   0]\n",
      "[167 299 460 142 116 404 337 130 107  20 344 122  19  31  28 335 410  32\n",
      " 190 120] [357 446 471 143 427 453  72 377 177 115 165   0   0   0   0   0   0   0\n",
      "   0   0]\n",
      "[274 454 387 471 402  23 235 470  57  50 196 194 159 154  43 231 314 450\n",
      " 444  22] [366 212  65 172 446 106 473 216 250 173 360   0   0   0   0   0   0   0\n",
      "   0   0]\n",
      "[211 454 364 182  22 337 195 467 207  63 360  40 458 216 301 151 114 273\n",
      " 225  70] [176  23 115 194 155 264 443 143 447 457 159 367   0   0   0   0   0   0\n",
      "   0   0]\n",
      "[454 345  77 150 300 408 387 283 225  99 409 112 380 146 443 276  97 462\n",
      " 161 364] [159  70  72 133 473  40 255 235 115 305 392 446   0   0   0   0   0   0\n",
      "   0   0]\n",
      "[474 470 454 426 443 392 115 143 363 427 471 242 273 191 342 407 459 313\n",
      " 236 303] [142 100 110 410 352 155 317 283  54  28 130 163 453   0   0   0   0   0\n",
      "   0   0]\n",
      "[ 41 404  44  68 385 396 127 422 122 270 376 391 119  23 409 316 343 448\n",
      " 445 168] [194 421 193 443 446  45 256 453 454 386 159 474 152   0   0   0   0   0\n",
      "   0   0]\n",
      "[ 72  36 404 105 471 473 446  22   3  75 331 148 454 107 195 367 143 332\n",
      " 126 368] [295  82 435 293 298 182 307 381 292  49 265 150 239   0   0   0   0   0\n",
      "   0   0]\n",
      "[460 474 155  77  63 413 315 447 404 193 107  32 264 387 473 312 146 337\n",
      " 204 170] [461 446 105  44 458  43 332 314   3 260 459 444  27   0   0   0   0   0\n",
      "   0   0]\n",
      "[ 36 396 105 265 370 355 458 248 468  88 451 404 276  54  47 282 449  45\n",
      " 330  73] [ 19 207 298   8 210  20  32 405  78 243 395 454 367   0   0   0   0   0\n",
      "   0   0]\n",
      "[ 43 444 437 415  55 432 256 332   3 367 470 219 195 380  15 469  51 276\n",
      "  50 105] [423 314  36 184 446 396 450 173 269 115 155 474 471   0   0   0   0   0\n",
      "   0   0]\n",
      "[243 422 274  15 140 105 454  88 370 460 296 387 159 256 470  36 155  55\n",
      " 388  97] [ 42 459 130 323 289 410 240 300 373 404  28 142  43   0   0   0   0   0\n",
      "   0   0]\n",
      "[169 143 186 407 138  72 159 197 219 471 459  63  50 422 213 411  46 282\n",
      " 460 270] [131  20 300 385 310  28  59  94 130 405  23 294  19   0   0   0   0   0\n",
      "   0   0]\n",
      "[ 55 193 460 256  43 138 444 302 332 274 252 290 388 471 331 195 140 123\n",
      " 188 459] [295 446 434 310 294 155 270 336  20  82 453 282 339   0   0   0   0   0\n",
      "   0   0]\n",
      "[215 400 102 359 118  68 218 455 150  14  62 278 378 254 162 129 112 173\n",
      " 448 462] [122 143 206  15 107 277 412 299 169 302 337 470 454   0   0   0   0   0\n",
      "   0   0]\n",
      "[454 367 359 196 162 235 351 262 473 263 373 299 186 470 274  56 314  44\n",
      " 177 453] [ 31  80 249 469 206 457 122 313 458 326 301 103  45   0   0   0   0   0\n",
      "   0   0]\n",
      "[241 404 422 458 343 451 336 341 330 301 194 449 225   6 375 339 248 415\n",
      " 103 464] [469 206 290 232 196 332 425 255 444 195  43 144 105   0   0   0   0   0\n",
      "   0   0]\n",
      "[356 210 241 383 200 474 130  40 377 310 187 298 317  89 240 369 217 320\n",
      " 112 456] [ 46 195 450 101  72 407 370 368 455 444 236 121  24 454   0   0   0   0\n",
      "   0   0]\n",
      "[471 177 454 147 392 329 411 460 422 401 473 302 458 107  22  58  97  91\n",
      " 388  36] [476  77 131 260 272 200 183 150 101 154 382 236 231  78   0   0   0   0\n",
      "   0   0]\n",
      "[267 195 155  69 105 380 237 309 265 125 433 146 462 308 441 170 307 128\n",
      "  11  33] [453 460 235 459 375  38 197 299 136 123 211 458  44  51   0   0   0   0\n",
      "   0   0]\n",
      "[417 219 288 265 193 314 453 135 229 107 454 301 302 353  28  78 397 388\n",
      " 171  85] [146 269 444  66 105  29 332  76 406 425 213 239  98 293   0   0   0   0\n",
      "   0   0]\n",
      "[ 56 286  65 188 176 103 194 201  60 168 371 396  41 140 357 390  87 185\n",
      " 392 408] [299 171 101 123 219 454 460 274 420 169  17 355 353  50   0   0   0   0\n",
      "   0   0]\n",
      "[399 381 365 234 337 286 407  22 464 202 186 343 143 315 457 155  72 460\n",
      "  41  55] [432 468 462  12 348 427 404 340 301 385 191  34  47 235   0   0   0   0\n",
      "   0   0]\n",
      "[ 54 155 371  93  89 269  90  22 418 385 276 142 239  65  99 153 201 206\n",
      " 409 434] [186 143 274 389 290 299 438 277 113 454 202 404 304 471   0   0   0   0\n",
      "   0   0]\n",
      "[454 107 155 459 163 269  50  41 464   9 161 180 236 471 342 286 194 343\n",
      " 446 448] [ 63  22 453 398 156 112 299 143 183 302 150 336 315 470   0   0   0   0\n",
      "   0   0]\n",
      "[388 253  68 222 207 256 241 453 475 396 445 240 359 243  49 373 164 473\n",
      " 286 148] [274 404 169 269 407 170 103 155 313 236  43 454 264 182   0   0   0   0\n",
      "   0   0]\n",
      "[404  50 195 154 332 444  43 177  96 290 397 293 164 471 446 299 192 234\n",
      " 314  75] [ 91 355 157 470 159 461 286 454 460 222   3 375 435  94   0   0   0   0\n",
      "   0   0]\n",
      "[ 55 108 274  36 471 115 396  50 149 422 311 140 370 339 417 344 176 277\n",
      " 260 194] [317 130 252 315 164   7 230 349 334 404 330 135 138 155   0   0   0   0\n",
      "   0   0]\n",
      "[337  90 471 470 371  56 155 299  69 256 196 332  57  40  26 459 204 173\n",
      "  23 418] [302 460  97 450  38  44 339  32 314 404 105 387 392 454   0   0   0   0\n",
      "   0   0]\n",
      "[ 55 140 299 413 460 167  15 107 404 252 135 455 315 471 274 311  47 256\n",
      " 454 194] [433 410 300 293 198 131  43 166 434 195 415 235 396 103   0   0   0   0\n",
      "   0   0]\n",
      "[ 55 140   9   5 453 426 460 387 206 193 252 225 108 167 314 286 381 304\n",
      " 274 315] [ 42 456 152  65  19 408  28 473 170 340 444 373 195  43   0   0   0   0\n",
      "   0   0]\n",
      "[286 470 314 259 462 387  77 454 321  36 115 426 235 450 473  15 368 413\n",
      " 323 243] [404  87 446 444  43  40 217 111  55 471 453 332  23 196   0   0   0   0\n",
      "   0   0]\n",
      "[ 36 193 331 286 108 126 303 419 470  77 181 394 304 191 426  76 386 226\n",
      " 412  85] [320  28   5 422 295 134 337 224  23  56 196  47 353 439   0   0   0   0\n",
      "   0   0]\n",
      "[155 446 288 439  44 103 286 115 235 467 236  66   5 420  77 108  89 453\n",
      " 466 445] [473  11 230  17  94 196 444 460 291 228  27 474 137 458   0   0   0   0\n",
      "   0   0]\n",
      "[453 444 332 180  17 195 146 179  49  47  43 417 263 328 262 154 164 280\n",
      "   9 392] [117 423 107  32 167  98 474 349 335 315 413 455 460 470   0   0   0   0\n",
      "   0   0]\n",
      "[180 284 291 471  37 194   9 309  23  36 296 336  49 109 474  66 200 151\n",
      " 257 365] [387 349 342 413 105 302 277 140 107 404 454 315  17  55   0   0   0   0\n",
      "   0   0]\n",
      "[ 77 105 404 473  32 377 388  40  28 450 471 130 256  89 417 370 146 196\n",
      " 453  19] [  9 223 148 336 155 193 463 440 446  50 392 274 180 137   0   0   0   0\n",
      "   0   0]\n",
      "[354 405  20 298 290 317 318 474 462 432 156 333   8 199 310 129 294  79\n",
      "  82 409] [242 305 332   4 382 444 205 376  43 144 286 265  77 155   0   0   0   0\n",
      "   0   0]\n",
      "[283 295 150 292 129 142 112 321 230 153 151  42  22 474 307 434 275 298\n",
      " 178  36] [103 397 229 459 253 122 206 470 143  43 326 454 422  51   0   0   0   0\n",
      "   0   0]\n",
      "[ 36  55 107 451 413 274 455  77 302 286 140 337 299 375 154 193 252 349\n",
      " 167 460] [131 314 471 459 323 269 142 473 289  74 236 373   4 382 474   0   0   0\n",
      "   0   0]\n",
      "[454 473 143 477 474 140 349 261 278 339   2 180 103 423 235  88 115 378\n",
      " 387 102] [317 110 286 190 130 379 367 289  28 173  81 165 449 168 155   0   0   0\n",
      "   0   0]\n",
      "[454 456 159 422 264 225  54 413 107 157 389  55  36 155 427  32 140 201\n",
      " 287 241] [397  60 180 461 235 346 319 356 473 122 206  57 326 474 392   0   0   0\n",
      "   0   0]\n",
      "[115 142 474 235 437 130 103 328 344 373 392 155  28 430 275 397  19 112\n",
      " 420 104] [274  45  72 231 143 305  39 460 159 314 407 177 363  32 260   0   0   0\n",
      "   0   0]\n",
      "[ 55 359 470 132 140  88  89 255 462 444 102 389 215 254 136   2 450  32\n",
      " 461 332] [  9 274   3 165 380 179 134  75  21 425 115 103 143 155 337   0   0   0\n",
      "   0   0]\n",
      "[140  41 159 454 107 167  63 444 299 455 173  36  85  77 460  55 261 252\n",
      " 146 413] [104  19 130 293 392 458 320 235 155 190 396 276 385 196 250   0   0   0\n",
      "   0   0]\n",
      "[286  50 450  22 115 364  43 218  88 455 367 453  14 162 155  13 171 332\n",
      " 320 146] [153 269 252 186 283  49 229 409 239 107 302 173 179 140 460   0   0   0\n",
      "   0   0]\n",
      "[115 396 326 206 122 400 274 454 387 143 422  44 458 219 235  21 342 378\n",
      " 389  75] [244 423 339 172 364 217 295  19 305 298  60 470 213 377 155   0   0   0\n",
      "   0   0]\n",
      "[422 425 180 428 159 150  60  36 452 468 443 203 117 258  14  70 375 470\n",
      "  84 355] [420 446 302 167 453 256 315 286 454  47 388 193 107  85  27   0   0   0\n",
      "   0   0]\n",
      "[474 241 278 387 373 236 314 230 115 471 473 454 184  44 130 127 141 106\n",
      " 461 233] [413 299  36 107 140 274 455  56 193 280 147 470 460 422 154   0   0   0\n",
      "   0   0]\n",
      "[282 329 403 392 432 292 303 140  36 337 150 459 351  21 471 299 352 129\n",
      " 283  26] [270 162 417 400  43  90 359 154  38 371 102 454 312 215 195   0   0   0\n",
      "   0   0]\n",
      "[ 37 368 213 212  76 390 304 426  77 286  41 399 100 321 361 117 121 284\n",
      " 181 303] [322  36 470 235 249 340 450 196 477 458  32  98 472  89 454   0   0   0\n",
      "   0   0]\n",
      "[164 375 121 286 264 444 145 234 159 341 248 355 303 435 443 125  75 342\n",
      "  21 440] [146  77 325 156 322 154 455  64 470 155  24 120 266 422 414   0   0   0\n",
      "   0   0]\n",
      "[252 456 107 315 413 302 167  55 286 256 337 349  85 140 334 460 109 444\n",
      " 388 364] [ 91 143 458  45 453  21 470 477 471  96 219  64 401 443 313   0   0   0\n",
      "   0   0]\n",
      "[426 106 273 446 105 470  77 244 286 471  96 466 141 337  57 266   4 462\n",
      " 161 456] [326 442  51 387 331 187 250  73 401 412 361 122  56 458 454   0   0   0\n",
      "   0   0]\n",
      "[425 280 132 444 332  43 122 387 454  56 470 461 197 248  36  44  82 195\n",
      "  75 164] [273 453 315  48 252  34 450 107 304 167 155 263 262 392 417   0   0   0\n",
      "   0   0]\n",
      "[477 453 159 319 184 406  70 143  10 332 235 304 195 142 474 382 228  72\n",
      " 457 177] [117 425 315 107 349 225 167 106 176  55 413 454 108 280 274   0   0   0\n",
      "   0   0]\n",
      "[404 235  65 195 444 446  43 155  49 459 367 201 332 103 236 425 216 239\n",
      " 313 476] [256 194 465 466 304 261  55 347  77 470  36 274 193 296 286   0   0   0\n",
      "   0   0]\n",
      "[228 111 369 355  22  43 188 143 332  17 216 190 360 477 134 347 138 444\n",
      " 362 179] [146 240 276 397 437  77 186  84 474 364 286 136 306 399 422   0   0   0\n",
      "   0   0]\n",
      "[286  68 130 256  47 413 252 388  96 460 375 315 139 155 321  70  99 302\n",
      "  85 107] [197 153   9 265 106 407  43 274 471 189 180 470 159 171 176   0   0   0\n",
      "   0   0]\n",
      "[393 148 403  50 217 473 314 220  41 298  82 216 257 150 299 441 322 283\n",
      " 317  56] [342 404 464 286 470 381 427 460 145 237 114 309 453 341 290   0   0   0\n",
      "   0   0]\n",
      "[387 230 473 302 259 454 256 167 310 462  85 176 388 143 283 105 460 370\n",
      " 315 399] [ 70  43 235 401  51 332 129 205  61 449 461 155 446 233 179   0   0   0\n",
      "   0   0]\n",
      "[ 32 404 292 450  50 298 129 433 432   8 150 333 295 286 354 310 112  82\n",
      " 283 474] [370  88 320 364 462 422 138 235  63 105  72 391 134 192 143   0   0   0\n",
      "   0   0]\n",
      "[155 122 354  20  28 142  19 196 112 307 172 130 110 310 379 286 432   8\n",
      " 433 298] [ 62 312 400 373 215 387 181  45 219 111 359 140  88 454 350   0   0   0\n",
      "   0   0]\n",
      "[454  75  77 180  36 286  30 367 193 159 450 477  92 186 197 435 181 111\n",
      "   2 378] [298 461 297 129 425  19 283 470 294 344 434 295  78 145 474   0   0   0\n",
      "   0   0]\n",
      "[234  55 422 164 373 299 413 467  50 474 106 450 252 315 236 148 334 302\n",
      " 145 256] [329  18   2 118 102 328  77 351 324 115  27 364 454 166 404   0   0   0\n",
      "   0   0]\n",
      "[474  27 286 140 475  54 193 368 389 264 241 135  88  55 273 154 280 381\n",
      " 295 418] [ 32 242 316 211 392  63  56 305 137 423 159  96  40  47 143   0   0   0\n",
      "   0   0]\n",
      "[154 474 404 454  73   9 286 387 159 188 274 161 304   2 368  90 330 234\n",
      " 102 143] [ 23  50 348 382 407  72  58 236 242  98 314 477 103 420 293   0   0   0\n",
      "   0   0]\n",
      "[474 454  88 439 158 102 197 373 332 312 145 475  43  22 284   9 202 115\n",
      "  87 147] [432 315 201 146 321 413 150 153 302 286 470 193 109 112  77   0   0   0\n",
      "   0   0]\n",
      "[470 454 446 314 425 236 471 342 338 235 293 459  27 458  39 461 443 115\n",
      " 473 404] [107 256  19 111 104 418 150 289 344   2 152 387 474 286 392   0   0   0\n",
      "   0   0]\n",
      "[470 471 140 301 385 454  49 445 340 358 138 189 392 440 447 207 148 373\n",
      "   9 265] [211 387 337 312 367 206 122 474 263 262 178 460 154 274 404   0   0   0\n",
      "   0   0]\n",
      "[207 197 477 407 145  72 422 213  63 423 159 392 438  46 446 343  44 169\n",
      " 103 133] [ 55 252 460 388 135  85 455  86 299 167 256 183 107  32 315   0   0   0\n",
      "   0   0]\n",
      "[ 27 234 474 356 462 155 422 161 475  22 371  90 476 469 269 423  57  47\n",
      " 467 235] [150  50 314  32 286 449 450 460 299 292 473  77 211 130 438   0   0   0\n",
      "   0   0]\n",
      "[177 438 170 407 349 420 115 446 197 235  90 269 145 367 396 266  39 286\n",
      " 371 392] [389 380 105 462 204 171 326 159 202 476 471  54   3 364 372   0   0   0\n",
      "   0   0]\n",
      "[195 454 142  43 162 472 444 206  77 282 163 477 141 138 319 332 387  12\n",
      " 146  72] [167 164 117 452  36 193 349 432 426 256 252  28 413  50 453   0   0   0\n",
      "   0   0]\n",
      "[279 126 321 286 282 337 285  99 100 477 196 306 211 181 404 281 107 166\n",
      "  57 111] [446 375 319 445 461 425 474 232 229 154 340 314 356 270 271   0   0   0\n",
      "   0   0]\n",
      "[458 422 478 387 403 138 206 342  52 446  94 459  23  45 336 397 407 177\n",
      " 394 417] [185 304 131  85 425 382  21 154 380 245 404 385  75 339  27 368   0   0\n",
      "   0   0]\n",
      "[478 105 422  27 454 244 462 364  49 162 122  68 361 382 367 370 387 144\n",
      " 368 366] [283  75  44 164 444 241 115  22 417 235 150 474 339 404 470 255   0   0\n",
      "   0   0]\n",
      "[264 343 412 376   4 189 435 235 477 239 450 464 449  12 274 177 458 151\n",
      " 473 353] [348 286 226 406 357  21   9 340  31 250 109 301 176  97 202 404   0   0\n",
      "   0   0]\n",
      "[115 264 274  66 108 478 334  85 458 252 373 116 418 277 167 177  93  56\n",
      " 460 349] [236 339 450 269 195 407 143 477 239  25  72   5 404 290 192  63   0   0\n",
      "   0   0]\n",
      "[180 232 470 302  72 444 460  20 459 407 167 138 287 235 315 163 372 446\n",
      " 339 409] [ 34 463  65 429 472 296  50 304  36 342 154 161 240 404 478 306   0   0\n",
      "   0   0]\n",
      "[173 145 454 384 478 449 342 404 221 364 467 389 144 424 134  22 395 280\n",
      " 475 202] [385 336  47 299 143 186   9 462 367 370 256 392  34 105 150 171   0   0\n",
      "   0   0]\n",
      "[396  60 460 446   9 167  94 159 256 422  40 388  55 252 198 322 150 149\n",
      " 341 276] [289  48 439 185 407 172 336 442 370 457 462 105 478 471 382 474   0   0\n",
      "   0   0]\n",
      "[274 286 248 194  99  43 180 332 264 420 327 460 422 150  56 450  33 252\n",
      " 444  51] [ 62 330 359 459  98 463  10 461  47 358  27 453 364 192  57 474   0   0\n",
      "   0   0]\n",
      "[ 78  56 474 459 356  55 140 402 107 413  49 364 471 165  15   3  32 122\n",
      " 152   9] [ 40 177 463 247 134  43 143 453  41 446 138 314  72 477 145 407   0   0\n",
      "   0   0]\n",
      "[385  36 141 454  44 355 286 132 287  59 196 114  40 458   9 356 157 261\n",
      " 274  55] [ 72 235 459 168 432  43 138 305  22 183 201 115 363 407 353 242   0   0\n",
      "   0   0]\n",
      "[454 230  86  55 387  78 193 108 138 321  21  15  54 350 474 225 117 213\n",
      " 303  43] [173 397 155 145 148 205 371 418 422  27  57 180 345  90 194   9   0   0\n",
      "   0   0]\n",
      "[  9 180 194 332 444  43 477 312 407 196 138  72 143 458 195 274  75 159\n",
      " 103 291] [377 460 304 244 288 142  19  74 319 205 399 115 404 471 470  50   0   0\n",
      "   0   0]\n",
      "[155 103 196  50 145 469 474 432 105 310 454 235  22 134  99 405 370 195\n",
      " 364 348] [290 398 387  41 477 438  13 150 161  72 292  45 154 404 478 277   0   0\n",
      "   0   0]\n",
      "[138 404 201 145 176 283 426 447 257 194 305 180 357 450 219 168 103 129\n",
      " 445 315] [195 173 108 471 473 340 245 326 454 280 319 444 477  36 323  57   0   0\n",
      "   0   0]\n",
      "[242  36 274 285  27  43 444 472 469  98 240 144  55 448 430 404  41 195\n",
      " 407 134] [137 223  39  12 458  44 259 266 346  10 252 477 293 273 173 470   0   0\n",
      "   0   0]\n",
      "[223 137 478 299 256 388 337 107  85 460 373 171 474 242 413 448 201 146\n",
      " 454  57] [115 392 372 442 420 446 143 103 396 259  72 314 235 105  99 194   0   0\n",
      "   0   0]\n",
      "[242 121 232 155 454 180   9 286 211  19  81 404  28 300 350 327  17 110\n",
      " 474 293] [332 457 154 278 460  43 477 304 439 444  55 305 177 140 363  15   0   0\n",
      "   0   0]\n",
      "[458 148 180 235 470 273 265 224 242 425  39  38 230 339  41 307 396 276\n",
      "  15 449] [326 122  78 398 288 178 445 117 313 319  47  49 245 286  70 206   0   0\n",
      "   0   0]\n",
      "[404 422 465 426 159 177 461 452 387  72 180 274 458 336 444 420 466 470\n",
      " 167 446] [  8 317 433 395  79 478 460 456 391 333 310 353  82 117 474 411  96   0\n",
      "   0   0]\n",
      "[ 36 256 460 115  96 315 444 167 388 413  55  43 193 135 349  85 252 302\n",
      " 274 290] [ 33 190 323  27 360  52 450 245  32 194 384 358 453   9 362  13 251   0\n",
      "   0   0]\n",
      "[422 155  50 363 359 286 414 470 171 398 367 459   2 479 145 380 400  72\n",
      " 278 368] [199 256   8 216 112 140 116 354 129 317 347 206 172 194  55 180 435  12\n",
      "   9   0]\n",
      "[454 414 180 452 477   9 381 480 368 265 194  72  50 160 455 446 479 143\n",
      " 286 150] [275  78 333 373 405  79 310 110 177  44 289 155 459  19 353 214   1 255\n",
      " 478   0]\n",
      "[109 107 321 392 413 167 299   9 422 117 337 302 388 222  86 238 150 252\n",
      " 451 264] [290 103   1 459 177 444 462  23 387 195 138 407 176  43 332 105  31  72\n",
      " 474   0]\n",
      "[478 373 305 138 177 363 471 242 294 323 143 315  38 223  90 339 441 129\n",
      " 266 474] [444 251 320  94 263 380 293  99   9 180 154 140 235 194 274 259 454 480\n",
      " 450   0]\n",
      "[ 87 259 452 422 113 213 381 423 197 265 320  27 460 256  17 138 155 107\n",
      " 149 413] [459   1 409 480 477 262 417 119 121 172  88 312 314  32 263 378 159 404\n",
      " 154   0]\n",
      "[ 36 286  38 155 239 292 331 348 174 329 106 375 480 245 469 358 114 474\n",
      " 189 283] [ 46 327  16 444   9 143  90 146 188 371  72 195 159 265 169 299 414 282\n",
      " 273   0]\n",
      "[392 351 286 425 444 101 470 363  76  72 422 413 235 269 446 195 387 337\n",
      " 477 331] [ 93 341 318 457  81 458 342 301 273  29  28  71 153 267 126 219  34 478\n",
      " 417   0]\n",
      "[ 27 286 470  80 459 478  50 474  95  72 458   3 235 421 117  67 167 450\n",
      " 155 477] [177   8 116 199 318 295 294 317 461 299 433 352 307 146 131 392 420 473\n",
      "  25   0]\n",
      "[ 48 308 471 387 267  13 463 432   9 175  80 474 472 470 158 417 323 297\n",
      " 456  22] [413 113 473 107  38  50 311 302  37 225  77  45 304 260 286 159 422 369\n",
      " 188   0]\n",
      "[161 232  97 109 446  43 392 246   9 474 459 235 332 435 172 372 195 337\n",
      "  98 293] [140 189 256 205 431 326 288 141 272 460 469 365 207 274 454 151 387  30\n",
      " 422   0]\n",
      "[264  50 459 235 173 392 319 477 273 250 211 290 465 293 420 471 466 404\n",
      "  72 397] [299 225 302 107 154 367 295 349 474 286 315 460 277  22 134 449  68 413\n",
      " 314   0]\n",
      "[422 173 307 295 115  47  89 454 314 275  81 104 131 129 420 360 214  28\n",
      "  19 319] [337 388 407 276 140 304 450 449 477 252  36  55 256 155 413 193  32 478\n",
      " 286   0]\n",
      "[  3 286 454 270 367 443 159   5 471   9 452 194 138 237 274 381  77 265\n",
      " 462 170] [302 354 455 429 115 300  20 195 405 332 144  32 122 444 262 263 450 314\n",
      " 478   0]\n",
      "[306 115 460 422 334 256 388  98 123 111  88 372   1 396 329 337 264 341\n",
      " 148 288] [444 463 358 276 206 195  47 155 407 473 353  22 364 171  50  15 470 235\n",
      " 474   0]\n",
      "[167 478  75 413 388 252 256 302 404 349 315 274 209  55  77 107 313 334\n",
      " 337  85] [270 129 348   8 307 392 247 446 317 365 292 326  72 198 322 155   5  86\n",
      " 387   0]\n",
      "[ 55 454 154 438 459 159  83 458 471 380 446 324 353 342 477 273 143 404\n",
      " 422  72] [ 86 410 310  16 456  93 142  82 240 230  19  49  28 148 397 155 247 201\n",
      " 476   0]\n",
      "[233 157  94 450  32 330 154 269 443 164 446 478 274 166 256  89 444 263\n",
      " 460 136] [ 20  41 405 354 236 471 317 438 237 456 171 299 387  75 248 307 342 474\n",
      " 422   0]\n",
      "[337 286 167 388 302 147 315 252 442 460 102 372 155 154  55 390 414  65\n",
      " 235 107] [ 86 109 213 480 407 143 470  36 234 148  70 292 393 159 409 456 157  72\n",
      " 454   0]\n",
      "[454 292 276 168 233 422 286 185  10 450  15 461 120 155 326 354 130 230\n",
      " 413 121] [291 274 370 412 269 453  98 143 459  44 477  96 320 388 235 404 314 154\n",
      " 396   0]\n",
      "[286  85 155   9 472 456 276  79 399 238 367 426  11  16 424 224 441 409\n",
      " 150 129] [459 420 138 279 290 168 235  72 396 407 103 417 446 264 145 262 438 263\n",
      " 154   0]\n",
      "[456 328 221  12  43 472  32 322  98 137 195 459 305 376 377 282 273 436\n",
      " 381 332] [331 334  77 337  86 302 154  55  36  50 413 407 159 252 167 388 478 256\n",
      " 286   0]\n",
      "[446 103   9 380 156 478 138 235  67 109 245  28 474 379 410  24 168 297\n",
      " 275 142] [265 337 135 108 264 363 396 387 455  85 256 460 321 388 159  36 252 167\n",
      " 349   0]\n",
      "[322 286 154 314 107  36 422 460 315   9 380 407 426 186  72  35 331 378\n",
      " 215 321] [441 195 235 185 248 161 217   5 348  23 356 402  74 397 332 456  43 444\n",
      " 177   0]\n",
      "[155 322 150  75 153 432 352  55 295 479 283 154 156 426 447  79 334 318\n",
      "  20 434] [ 45  50 480 291 407 446 392  31 443 103 460 365 332 177 444 404 449 235\n",
      " 387   0]\n",
      "[350 150 286 465 466 432 248 399 256 155 167 372 120 193 461 480 226 388\n",
      " 326 146] [314 446 389  68 328 380 454 332 404 313 196 471 397  27 478 159 322 422\n",
      " 163   0]\n",
      "[154 350 312 167 211 334 337 252 196  79 190 306 444  86 328  85 288 183\n",
      " 135 230] [321 452   1  77 163 458 420 380  72 453 342 407  88 438 286 143 138 103\n",
      " 186   0]\n",
      "[167 471 413  56 454 460 173 159 109  80 191  97 474 357  98 252 103 477\n",
      " 274 197] [105  61 414 444 195 301 171 455  75 457  48  32 462 368 311  36 387 286\n",
      " 154   0]\n",
      "[196 471   9 477  15  90 328 194 322 480 160 143 180 371  55 473  17  54\n",
      "  75 363] [376 443 290 273 337 265 171 453  44 460 209 429 392 269 213 286 235 314\n",
      " 459   0]\n",
      "[245 180 469 477 387 159  70 189 232 196 209  77  87 371 397 324 326  59\n",
      " 122  43] [224 126  15 123 211 172  36 148  57 150   3  37 154  17 288 470  68 426\n",
      "  63   0]\n",
      "[470 284   6 280 477  32 407 102 479 478 446 450 463 429  27 289  65 319\n",
      " 291 472] [337 388 193 256  99 349 460 315 286   9 167 290 154 248 107  15 155 413\n",
      "  68   0]\n",
      "[286 446 150  21 469 413 159 243 245 474 170  88 123  75 380 264 302 117\n",
      " 448 355] [104 275 293 453 310 131  15 439 214  28 142 426 350 230  19  68 461 471\n",
      " 385   0]\n",
      "[150 454 235 392 446 197 236 103 286 422 473 461 326  27   9 385 269 213\n",
      " 420 264] [279 198 140 277  88 359  60 202 260 301  57 388 474 304 439 165 478 211\n",
      " 480   0]\n",
      "[381 377 170 292 150 155  21 370  75 477 454 105 444 211 478 143 422 206\n",
      "   9 180] [ 41 201  65 293 213 328 131 448 286 268 140 369 392 269 409 196 117 439\n",
      " 322   0]\n",
      "[ 15 235 353 477 286 314 103 426  55 454 404 448 368   9 447  27 167 179\n",
      " 364 140] [210 112  22  14 234 409  82  20  53 456  79 199  68 441 270 220 298 434\n",
      " 472   0]\n",
      "[435 277 345  22 410 478 444 255 366 244 365 224 125 299 141  12 473 267\n",
      " 424  85] [  5 154 364  63 340  55 380 413  15 143 447   3 286 453  75 264 235  99\n",
      "  21   0]\n",
      "[264 357  88 142  43 278 444 102 101 147 332 100 111 280 400 313 223 254\n",
      " 467 118] [299 252 460 180  55 349 274 235 413 446 107 159 155 315 286 167 194 454\n",
      "   9   0]\n",
      "[235 293 171 474  72 314 407 422 250 373 392 260 103 201 473 343 464 353\n",
      " 152 398] [155 225 264 286 375 271 315 458 380 117 150 330 140 194  36 167  55 159\n",
      " 454   0]\n",
      "[  5 439  50 322 235 150 377 301 472 328 314 171  27 319 350 112 129  97\n",
      " 402  99] [245  15 219 115  72 138 453  77 196 170 420 387 367 103 454   9 404 286\n",
      " 260   0]\n",
      "[312  72 320 235 478 236 459 458  50 363 480  57 380 328  41 407 417 115\n",
      " 305 155] [454 426 134 286 460  56 238 276  95 422  36 302 248 117 252 414 167   9\n",
      " 154   0]\n",
      "[478 453 477 235 176 173 224 454  32 407 226 103 420 387  27  49 446  31\n",
      " 293 239] [467 342 262 282 435 170 161  39 367 138 242  50 194 480 305 410 422 171\n",
      "  68   0]\n",
      "[ 75 259 154 448  56  87  21 248 176  39  60  36 138 276 296  99  14 170\n",
      " 460 304] [471 407  23 459 477 461 115 454 105 378 392 370 215 236 473 235 462 425\n",
      " 314   0]\n",
      "[177 478 121 356 411 364 242 337  21 147  64 363 315  27 159 459 305   9\n",
      "  75 109] [255  36 231  52 401  63 256 438 374 388 144  92  60 398 422 392 229 265\n",
      " 454 213]\n",
      "[ 41 461 299 448 242 122 171 205  25 447 403 363 353 101 382  27 327 454\n",
      "  39 410] [138 216  75 146 269  31 414  53 478 458 243 158 143 195  73 114 187  36\n",
      "  46 312]\n",
      "[273  33  17 196 150 245  28  60 337 459  71 292 322  19  76 388 397  59\n",
      " 433 130] [461 448 446  27   3  75 138 194 262 314 219 475 417  29  43   9 263 351\n",
      " 164 425]\n",
      "[427  23 239  30  65 244 307 141 365 436 464 112 269  43 105 131  56 305\n",
      " 291 294] [  2 278 430 260 132 204 359 135 177 280 400 149 151 454 473 470 372 382\n",
      "  63 264]\n",
      "[471 454  34 447 356 143 177 311 478 364  30 129   1 192 173 370 333 136\n",
      " 213 244] [150 127 464 230 103 236 196  27 314 392 334  77 171 376  10 343 165 461\n",
      " 306 248]\n",
      "[389 219   9 194 404 478 472 454 387 159 154  56  47 132  77  19 397 479\n",
      " 470   5] [480 294 131 337 107 434 381 464 377 155 108   3 460 292 339 115 367 235\n",
      " 149 413]\n",
      "[ 55 286 115   3  75 257 437  36 108 375 479 248 140 474  72 377  54 426\n",
      " 399 117] [464  47 364 313 459  19 321 458 198  92 156 273 328 289 196  30  57 470\n",
      " 456  67]\n",
      "[ 40 470  94 322 196  59 341 396 328  51 154   3 282  60 285  33 404   9\n",
      " 457 198] [304  41  68 330 193  57 367 337 243 448 276 264 235 203   5 368 423 446\n",
      " 236  27]\n",
      "[473 474 313 389 469  57 332 290 314 462 370 444 396 479  43 105   5 472\n",
      " 149 159] [252  45 200   7 388  75 460 122 471 140 151 334  55 167 349  15   3 154\n",
      " 337 454]\n",
      "[106 138  60  57 301 444  68 156 478 148 264 189 337 161 289 299   9 449\n",
      " 202  90] [479  10 446 377 146 447  65 339  72  77 155 143 388 392 286 426 381 149\n",
      " 422 404]\n",
      "[355 447 476  55 367 373 276 312 445 235 161 404 375 232 396 337 426 123\n",
      " 393  95] [274  50 107 205  41  39 145 263 363  27 171 159  90 305 448 444   1 201\n",
      "   9 454]\n",
      "[150 447 140 365 315 248 470 286 167  75 299 252 159   1 432 302 186 349\n",
      "  55 339] [195 313  72  44 458 425 211 444 471 332 235  43  39   9 274 355 154  54\n",
      " 106 454]\n",
      "[161  83 447 446 235 450  15 315 126   9 350 266 132 369 337 180 465  31\n",
      "  51 250] [ 14 396 225 108 347 150 248  60 367  49 276  21 474  29 177 328 209 155\n",
      " 454 407]\n",
      "[150  55 447 350 140  15 108 367 167 255 454 432 292  36  54 315 321 471\n",
      " 252 149] [480 145   1   5 326 322 103 201 429 420 183 357 195 314  88 313  72 474\n",
      " 155  40]\n",
      "[ 55  15 140 315 167 286 193 107 302 388 176  36 143 359 349 154   2 159\n",
      " 455 387] [139 287 364 444 306   1  75 478 209 317 319  43  78  57 422 170 332 196\n",
      " 150 454]\n",
      "[195 138 286 454 170 149 106  78 373   9 117 447  22 339 102 264 394 278\n",
      "  36 193] [ 44  49 115 103 213 350  12 107 235 328 439  51 392  41 236 197 337 150\n",
      " 402  55]\n",
      "[196 387  17 223 313 347 473 273 122 101 357  31 469 250 240 144  22 427\n",
      " 138  44] [399 295 367  38 194 170 460 304 140 286 150  36 454 256 447 388  15 331\n",
      "  55   9]\n",
      "[ 55  15 337 140 388 157 413 386 286 394 143  32 380 450   9  36 315 277\n",
      " 126 180] [305 190 294 244 365 250 130 343 289 110 313 373  28 274 149 439 352  11\n",
      " 339 266]\n",
      "[387 150 477  75 286 315   3  21 404 299 155 447 331  72 380 479 474  22\n",
      " 450 226] [373 330  56 457 336 461 302 235 357 417 244 212 349 110 334 196 313 471\n",
      " 274 454]\n",
      "[174 314 285 337 117 330  77 264 185 443  97 154 335 462 477 331 188 479\n",
      "  14  48] [159 313 334 339  56 390 413 380 359 404 102   7  57 432 290 235   9 478\n",
      " 236 454]\n",
      "[260 107 460 167 315 146 388 256 349 428 140 373 302 252 149  41 404 321\n",
      " 413 308] [ 79 150 387 352 161 180 273   9 353 194 156 469 335  17 249  50 426 422\n",
      " 274 454]\n",
      "[286  15 155 167   9  55 454   3 440 149 315 137 460 140 121 256 462 387\n",
      " 117 349] [305 298 426  77 404 363  63 352 393 464 471 159 323 284  32 434 380 450\n",
      " 199 474]\n",
      "[478  15 107 211 141 454 140 473 422 359 401 372  88 102 258 453 324   2\n",
      " 162 460] [165 367 337 327 276 146 292 323 388 286 185 437 105 171 299 393 370 353\n",
      " 319 150]\n",
      "[460 219 107 170 356 161 252 405 103 474  98 349 211 456 302  96 350 307\n",
      " 154 409] [480 444 196 422 105 477 446  41 274   9 462 407  25 337 448   3 404 150\n",
      " 140 454]\n",
      "[356 148 235 404 477 299 211 150 454 340  41 274  50 448 159 479 110 176\n",
      "  33 103] [437 287 388 288 367 396 315 146  77 132  55  78  36 375 189 170 202 426\n",
      " 140 422]\n",
      "[152 159 373 100 324 322 290 247 289 236 357 143 314 457  37 462 313  44\n",
      " 196 425] [ 79 226 170 140 388 302 252 150 349   1 460 299 337 413 447 107 167 315\n",
      "  15 286]\n",
      "[454 196 447 380 356 121  25 406 476 170 291 140 321  79   1 324 189 283\n",
      " 478  96] [193 467  21  60 245 105 389 107  80 462   9 106 211 337 417 230 446 236\n",
      "  50  11]\n",
      "[167 150 337 315 447 367  43 299 286 474 140 477 349 252 230 176 195 331\n",
      "   9 154] [131  28 385 348 156 294 450 243 354  50  96   8 440 282   1 461  32 274\n",
      " 454 404]\n",
      "[422 115  96  72 404  12 467  63 170 245 478 264 186  46 201  44 243 438\n",
      " 435  78] [134   9  50 388 135 180 155 456 460 299 167 196 447 315 387  55 337 140\n",
      "  15 150]\n"
     ]
    }
   ],
   "source": [
    "for seq in sequences:\n",
    "    print(seq[:20],seq[-20:])"
   ]
  },
  {
   "cell_type": "markdown",
   "id": "b9ec57fb",
   "metadata": {},
   "source": [
    "## generate_training_data"
   ]
  },
  {
   "cell_type": "code",
   "execution_count": 30,
   "id": "776d8c50",
   "metadata": {},
   "outputs": [],
   "source": [
    "training_data_map = {}"
   ]
  },
  {
   "cell_type": "code",
   "execution_count": 31,
   "id": "3e9fb0b6",
   "metadata": {},
   "outputs": [],
   "source": [
    "def generate_training_data(sequences):\n",
    "    for i, sequence in tqdm(enumerate(sequences)):\n",
    "        sequence = sequence[sequence != 0]\n",
    "        \n",
    "        curr_return_list = all_sentences_returns[i].values.tolist()\n",
    "        \n",
    "        all_combinations_iter = itertools.combinations(range(len(sequence)),2)\n",
    "        \n",
    "        for j in tqdm(all_combinations_iter):\n",
    "            target_index, context_index = j\n",
    "            \n",
    "            target_stock = sequence[target_index]\n",
    "            context_stock = sequence[context_index]\n",
    "\n",
    "            if target_stock == context_stock:\n",
    "                continue\n",
    "            target_stock_return = curr_return_list[target_index]\n",
    "            context_stock_return = curr_return_list[context_index]\n",
    "            \n",
    "#             print(inverse_vocab[target_stock], inverse_vocab[context_stock], target_stock_return,context_stock_return)\n",
    "\n",
    "            label = abs(target_stock_return-context_stock_return)*100.0\n",
    "            \n",
    "            key = (target_stock, context_stock) if target_stock < context_stock else (context_stock, target_stock)\n",
    "            \n",
    "            if key in training_data_map:\n",
    "                new_avg = (training_data_map[key][0]*training_data_map[key][1]+label)/(training_data_map[key][1]+1)\n",
    "                training_data_map[key] = [new_avg, training_data_map[key][1]+1]\n",
    "            else:\n",
    "                training_data_map[key] = [label, 1]\n",
    "            \n",
    "#             break\n",
    "#         break"
   ]
  },
  {
   "cell_type": "code",
   "execution_count": 32,
   "id": "3a4f9e02",
   "metadata": {},
   "outputs": [
    {
     "data": {
      "application/vnd.jupyter.widget-view+json": {
       "model_id": "aab13e30633145588e89c1e79786ea85",
       "version_major": 2,
       "version_minor": 0
      },
      "text/plain": [
       "0it [00:00, ?it/s]"
      ]
     },
     "metadata": {},
     "output_type": "display_data"
    }
   ],
   "source": [
    "all_returns = []\n",
    "all_tickers = []\n",
    "for i, sequence in tqdm(enumerate(sequences[0:1])):\n",
    "    sequence = sequence[sequence != 0]\n",
    "    sequence_tickers = [inverse_vocab[s] for s in sequence]\n",
    "    \n",
    "    curr_return_list = all_sentences_returns[i].values.tolist()\n",
    "    \n",
    "    all_returns.append(curr_return_list)\n",
    "    all_tickers.append(sequence_tickers)\n",
    "    \n"
   ]
  },
  {
   "cell_type": "code",
   "execution_count": 33,
   "id": "6f063202",
   "metadata": {},
   "outputs": [],
   "source": [
    "def flatten_comprehension(matrix):\n",
    "    return [item for row in matrix for item in row]"
   ]
  },
  {
   "cell_type": "code",
   "execution_count": 34,
   "id": "4207cce9",
   "metadata": {},
   "outputs": [
    {
     "data": {
      "text/html": [
       "<div>\n",
       "<style scoped>\n",
       "    .dataframe tbody tr th:only-of-type {\n",
       "        vertical-align: middle;\n",
       "    }\n",
       "\n",
       "    .dataframe tbody tr th {\n",
       "        vertical-align: top;\n",
       "    }\n",
       "\n",
       "    .dataframe thead th {\n",
       "        text-align: right;\n",
       "    }\n",
       "</style>\n",
       "<table border=\"1\" class=\"dataframe\">\n",
       "  <thead>\n",
       "    <tr style=\"text-align: right;\">\n",
       "      <th></th>\n",
       "      <th>return</th>\n",
       "      <th>Ticker</th>\n",
       "    </tr>\n",
       "  </thead>\n",
       "  <tbody>\n",
       "    <tr>\n",
       "      <th>0</th>\n",
       "      <td>-5.379</td>\n",
       "      <td>DLTR</td>\n",
       "    </tr>\n",
       "    <tr>\n",
       "      <th>1</th>\n",
       "      <td>-4.871</td>\n",
       "      <td>LRCX</td>\n",
       "    </tr>\n",
       "    <tr>\n",
       "      <th>2</th>\n",
       "      <td>-3.107</td>\n",
       "      <td>MLM</td>\n",
       "    </tr>\n",
       "    <tr>\n",
       "      <th>3</th>\n",
       "      <td>-2.644</td>\n",
       "      <td>WBD</td>\n",
       "    </tr>\n",
       "    <tr>\n",
       "      <th>4</th>\n",
       "      <td>-2.608</td>\n",
       "      <td>VMC</td>\n",
       "    </tr>\n",
       "  </tbody>\n",
       "</table>\n",
       "</div>"
      ],
      "text/plain": [
       "   return Ticker\n",
       "0  -5.379   DLTR\n",
       "1  -4.871   LRCX\n",
       "2  -3.107    MLM\n",
       "3  -2.644    WBD\n",
       "4  -2.608    VMC"
      ]
     },
     "execution_count": 34,
     "metadata": {},
     "output_type": "execute_result"
    }
   ],
   "source": [
    "flat_all_returns = flatten_comprehension(all_returns)\n",
    "flat_all_tickers = flatten_comprehension(all_tickers)\n",
    "ticker_level_df = pd.DataFrame({'return':[f*100 for f in flat_all_returns],'Ticker':flat_all_tickers})\n",
    "# ticker_level_df = ticker_level_df.groupby('ticker')['return']\n",
    "ticker_level_df.head()"
   ]
  },
  {
   "cell_type": "code",
   "execution_count": 35,
   "id": "04b8d0c0",
   "metadata": {},
   "outputs": [
    {
     "data": {
      "application/vnd.jupyter.widget-view+json": {
       "model_id": "971b962fb671432fae811862340642ef",
       "version_major": 2,
       "version_minor": 0
      },
      "text/plain": [
       "0it [00:00, ?it/s]"
      ]
     },
     "metadata": {},
     "output_type": "display_data"
    },
    {
     "data": {
      "application/vnd.jupyter.widget-view+json": {
       "model_id": "8b7d2531b25a4e0e847d6192332bce30",
       "version_major": 2,
       "version_minor": 0
      },
      "text/plain": [
       "0it [00:00, ?it/s]"
      ]
     },
     "metadata": {},
     "output_type": "display_data"
    },
    {
     "data": {
      "application/vnd.jupyter.widget-view+json": {
       "model_id": "f5f47b3163a14ef696377c916319fc0b",
       "version_major": 2,
       "version_minor": 0
      },
      "text/plain": [
       "0it [00:00, ?it/s]"
      ]
     },
     "metadata": {},
     "output_type": "display_data"
    },
    {
     "data": {
      "application/vnd.jupyter.widget-view+json": {
       "model_id": "1976fa7a293741049fbf426b183ec937",
       "version_major": 2,
       "version_minor": 0
      },
      "text/plain": [
       "0it [00:00, ?it/s]"
      ]
     },
     "metadata": {},
     "output_type": "display_data"
    },
    {
     "data": {
      "application/vnd.jupyter.widget-view+json": {
       "model_id": "5b450448a8bd40aeba5b48b2d4eb8824",
       "version_major": 2,
       "version_minor": 0
      },
      "text/plain": [
       "0it [00:00, ?it/s]"
      ]
     },
     "metadata": {},
     "output_type": "display_data"
    },
    {
     "data": {
      "application/vnd.jupyter.widget-view+json": {
       "model_id": "d544f1079ffc4e4bb4d8198a2d044bdc",
       "version_major": 2,
       "version_minor": 0
      },
      "text/plain": [
       "0it [00:00, ?it/s]"
      ]
     },
     "metadata": {},
     "output_type": "display_data"
    },
    {
     "data": {
      "application/vnd.jupyter.widget-view+json": {
       "model_id": "371c37c260eb448c885b30febbc6cdaa",
       "version_major": 2,
       "version_minor": 0
      },
      "text/plain": [
       "0it [00:00, ?it/s]"
      ]
     },
     "metadata": {},
     "output_type": "display_data"
    },
    {
     "data": {
      "application/vnd.jupyter.widget-view+json": {
       "model_id": "407cee038fef4f18bb3563bebf88b899",
       "version_major": 2,
       "version_minor": 0
      },
      "text/plain": [
       "0it [00:00, ?it/s]"
      ]
     },
     "metadata": {},
     "output_type": "display_data"
    },
    {
     "data": {
      "application/vnd.jupyter.widget-view+json": {
       "model_id": "e70486a8987f4890a7a6029c079250de",
       "version_major": 2,
       "version_minor": 0
      },
      "text/plain": [
       "0it [00:00, ?it/s]"
      ]
     },
     "metadata": {},
     "output_type": "display_data"
    },
    {
     "data": {
      "application/vnd.jupyter.widget-view+json": {
       "model_id": "3bc3901193cf452897c6d9712e361b32",
       "version_major": 2,
       "version_minor": 0
      },
      "text/plain": [
       "0it [00:00, ?it/s]"
      ]
     },
     "metadata": {},
     "output_type": "display_data"
    },
    {
     "data": {
      "application/vnd.jupyter.widget-view+json": {
       "model_id": "d6d708d830d64effa035a6c448fc4ef1",
       "version_major": 2,
       "version_minor": 0
      },
      "text/plain": [
       "0it [00:00, ?it/s]"
      ]
     },
     "metadata": {},
     "output_type": "display_data"
    },
    {
     "data": {
      "application/vnd.jupyter.widget-view+json": {
       "model_id": "f8a596a12ad54527b00f744b81969303",
       "version_major": 2,
       "version_minor": 0
      },
      "text/plain": [
       "0it [00:00, ?it/s]"
      ]
     },
     "metadata": {},
     "output_type": "display_data"
    },
    {
     "data": {
      "application/vnd.jupyter.widget-view+json": {
       "model_id": "97ebfb26886e4ddca006bf878ed002ad",
       "version_major": 2,
       "version_minor": 0
      },
      "text/plain": [
       "0it [00:00, ?it/s]"
      ]
     },
     "metadata": {},
     "output_type": "display_data"
    },
    {
     "data": {
      "application/vnd.jupyter.widget-view+json": {
       "model_id": "8def09c8f2a44af1bd6286b225f50713",
       "version_major": 2,
       "version_minor": 0
      },
      "text/plain": [
       "0it [00:00, ?it/s]"
      ]
     },
     "metadata": {},
     "output_type": "display_data"
    },
    {
     "data": {
      "application/vnd.jupyter.widget-view+json": {
       "model_id": "64cb2f1348024ad4ab28b268a4ce7935",
       "version_major": 2,
       "version_minor": 0
      },
      "text/plain": [
       "0it [00:00, ?it/s]"
      ]
     },
     "metadata": {},
     "output_type": "display_data"
    },
    {
     "data": {
      "application/vnd.jupyter.widget-view+json": {
       "model_id": "c8c369bf199d43a1a0d08f842c562231",
       "version_major": 2,
       "version_minor": 0
      },
      "text/plain": [
       "0it [00:00, ?it/s]"
      ]
     },
     "metadata": {},
     "output_type": "display_data"
    },
    {
     "data": {
      "application/vnd.jupyter.widget-view+json": {
       "model_id": "d31c8eefb27542a5a308ec0202efab44",
       "version_major": 2,
       "version_minor": 0
      },
      "text/plain": [
       "0it [00:00, ?it/s]"
      ]
     },
     "metadata": {},
     "output_type": "display_data"
    },
    {
     "data": {
      "application/vnd.jupyter.widget-view+json": {
       "model_id": "d35ec0918eba431f9e41d17f716d7423",
       "version_major": 2,
       "version_minor": 0
      },
      "text/plain": [
       "0it [00:00, ?it/s]"
      ]
     },
     "metadata": {},
     "output_type": "display_data"
    },
    {
     "data": {
      "application/vnd.jupyter.widget-view+json": {
       "model_id": "535c3ba80a814aa5b88dc391c90c1949",
       "version_major": 2,
       "version_minor": 0
      },
      "text/plain": [
       "0it [00:00, ?it/s]"
      ]
     },
     "metadata": {},
     "output_type": "display_data"
    },
    {
     "data": {
      "application/vnd.jupyter.widget-view+json": {
       "model_id": "556628535a674acb9ff1492b5101bdb9",
       "version_major": 2,
       "version_minor": 0
      },
      "text/plain": [
       "0it [00:00, ?it/s]"
      ]
     },
     "metadata": {},
     "output_type": "display_data"
    },
    {
     "data": {
      "application/vnd.jupyter.widget-view+json": {
       "model_id": "28400098892843a4aab8174ba4f8c8bd",
       "version_major": 2,
       "version_minor": 0
      },
      "text/plain": [
       "0it [00:00, ?it/s]"
      ]
     },
     "metadata": {},
     "output_type": "display_data"
    },
    {
     "data": {
      "application/vnd.jupyter.widget-view+json": {
       "model_id": "9b15b7bb2be948d29412f0875905d6f3",
       "version_major": 2,
       "version_minor": 0
      },
      "text/plain": [
       "0it [00:00, ?it/s]"
      ]
     },
     "metadata": {},
     "output_type": "display_data"
    },
    {
     "data": {
      "application/vnd.jupyter.widget-view+json": {
       "model_id": "7262ce24ef004fecaf014751b8e8b851",
       "version_major": 2,
       "version_minor": 0
      },
      "text/plain": [
       "0it [00:00, ?it/s]"
      ]
     },
     "metadata": {},
     "output_type": "display_data"
    },
    {
     "data": {
      "application/vnd.jupyter.widget-view+json": {
       "model_id": "9d79df861a7a4ac7a374037d1843f43a",
       "version_major": 2,
       "version_minor": 0
      },
      "text/plain": [
       "0it [00:00, ?it/s]"
      ]
     },
     "metadata": {},
     "output_type": "display_data"
    },
    {
     "data": {
      "application/vnd.jupyter.widget-view+json": {
       "model_id": "c696eae9e0f148e0a7a7d07028c208cd",
       "version_major": 2,
       "version_minor": 0
      },
      "text/plain": [
       "0it [00:00, ?it/s]"
      ]
     },
     "metadata": {},
     "output_type": "display_data"
    },
    {
     "data": {
      "application/vnd.jupyter.widget-view+json": {
       "model_id": "ef64644a336847c2aaea0d63b4383a38",
       "version_major": 2,
       "version_minor": 0
      },
      "text/plain": [
       "0it [00:00, ?it/s]"
      ]
     },
     "metadata": {},
     "output_type": "display_data"
    },
    {
     "data": {
      "application/vnd.jupyter.widget-view+json": {
       "model_id": "7b5ea680252b4683bd5c375de6645732",
       "version_major": 2,
       "version_minor": 0
      },
      "text/plain": [
       "0it [00:00, ?it/s]"
      ]
     },
     "metadata": {},
     "output_type": "display_data"
    },
    {
     "data": {
      "application/vnd.jupyter.widget-view+json": {
       "model_id": "20467d3c9bf646d3a47a7b83f4f4aef7",
       "version_major": 2,
       "version_minor": 0
      },
      "text/plain": [
       "0it [00:00, ?it/s]"
      ]
     },
     "metadata": {},
     "output_type": "display_data"
    },
    {
     "data": {
      "application/vnd.jupyter.widget-view+json": {
       "model_id": "adfdf0081df547e9bc1b5909c7896645",
       "version_major": 2,
       "version_minor": 0
      },
      "text/plain": [
       "0it [00:00, ?it/s]"
      ]
     },
     "metadata": {},
     "output_type": "display_data"
    },
    {
     "data": {
      "application/vnd.jupyter.widget-view+json": {
       "model_id": "d889e6e5f38642cdbede35f9b51d2355",
       "version_major": 2,
       "version_minor": 0
      },
      "text/plain": [
       "0it [00:00, ?it/s]"
      ]
     },
     "metadata": {},
     "output_type": "display_data"
    },
    {
     "data": {
      "application/vnd.jupyter.widget-view+json": {
       "model_id": "bf3574a9e3074345bf7611e272dd4d67",
       "version_major": 2,
       "version_minor": 0
      },
      "text/plain": [
       "0it [00:00, ?it/s]"
      ]
     },
     "metadata": {},
     "output_type": "display_data"
    },
    {
     "data": {
      "application/vnd.jupyter.widget-view+json": {
       "model_id": "2be227cf9bcd41d79cb48c5856fbcf40",
       "version_major": 2,
       "version_minor": 0
      },
      "text/plain": [
       "0it [00:00, ?it/s]"
      ]
     },
     "metadata": {},
     "output_type": "display_data"
    },
    {
     "data": {
      "application/vnd.jupyter.widget-view+json": {
       "model_id": "8e1990af2ab54bb59f0c444c364f1567",
       "version_major": 2,
       "version_minor": 0
      },
      "text/plain": [
       "0it [00:00, ?it/s]"
      ]
     },
     "metadata": {},
     "output_type": "display_data"
    },
    {
     "data": {
      "application/vnd.jupyter.widget-view+json": {
       "model_id": "73c670475b9147b0aaee8d07c7253b30",
       "version_major": 2,
       "version_minor": 0
      },
      "text/plain": [
       "0it [00:00, ?it/s]"
      ]
     },
     "metadata": {},
     "output_type": "display_data"
    },
    {
     "data": {
      "application/vnd.jupyter.widget-view+json": {
       "model_id": "27ee38db13104ac6a84b2a968728fa7f",
       "version_major": 2,
       "version_minor": 0
      },
      "text/plain": [
       "0it [00:00, ?it/s]"
      ]
     },
     "metadata": {},
     "output_type": "display_data"
    },
    {
     "data": {
      "application/vnd.jupyter.widget-view+json": {
       "model_id": "c3a91c1de447493dbec72b481dd29918",
       "version_major": 2,
       "version_minor": 0
      },
      "text/plain": [
       "0it [00:00, ?it/s]"
      ]
     },
     "metadata": {},
     "output_type": "display_data"
    },
    {
     "data": {
      "application/vnd.jupyter.widget-view+json": {
       "model_id": "fafa75c6f2414ba18202bfb0c28ac1bf",
       "version_major": 2,
       "version_minor": 0
      },
      "text/plain": [
       "0it [00:00, ?it/s]"
      ]
     },
     "metadata": {},
     "output_type": "display_data"
    },
    {
     "data": {
      "application/vnd.jupyter.widget-view+json": {
       "model_id": "7293a0b1ed10432f94e1d6d3b646ac3c",
       "version_major": 2,
       "version_minor": 0
      },
      "text/plain": [
       "0it [00:00, ?it/s]"
      ]
     },
     "metadata": {},
     "output_type": "display_data"
    },
    {
     "data": {
      "application/vnd.jupyter.widget-view+json": {
       "model_id": "79796a165305443d9a10303c7e811ada",
       "version_major": 2,
       "version_minor": 0
      },
      "text/plain": [
       "0it [00:00, ?it/s]"
      ]
     },
     "metadata": {},
     "output_type": "display_data"
    },
    {
     "data": {
      "application/vnd.jupyter.widget-view+json": {
       "model_id": "5f094dd4765945a3b3bc233cedc0e551",
       "version_major": 2,
       "version_minor": 0
      },
      "text/plain": [
       "0it [00:00, ?it/s]"
      ]
     },
     "metadata": {},
     "output_type": "display_data"
    },
    {
     "data": {
      "application/vnd.jupyter.widget-view+json": {
       "model_id": "83e51bd006f4449cbecc7e62c2abec56",
       "version_major": 2,
       "version_minor": 0
      },
      "text/plain": [
       "0it [00:00, ?it/s]"
      ]
     },
     "metadata": {},
     "output_type": "display_data"
    },
    {
     "data": {
      "application/vnd.jupyter.widget-view+json": {
       "model_id": "1f5d0a81acfc4d099dc0dcf045289a8f",
       "version_major": 2,
       "version_minor": 0
      },
      "text/plain": [
       "0it [00:00, ?it/s]"
      ]
     },
     "metadata": {},
     "output_type": "display_data"
    },
    {
     "data": {
      "application/vnd.jupyter.widget-view+json": {
       "model_id": "832886973e9c46f5b920c9bff42afcb2",
       "version_major": 2,
       "version_minor": 0
      },
      "text/plain": [
       "0it [00:00, ?it/s]"
      ]
     },
     "metadata": {},
     "output_type": "display_data"
    },
    {
     "data": {
      "application/vnd.jupyter.widget-view+json": {
       "model_id": "0f0b1dc134bd46a5a96c4b1e13b8229f",
       "version_major": 2,
       "version_minor": 0
      },
      "text/plain": [
       "0it [00:00, ?it/s]"
      ]
     },
     "metadata": {},
     "output_type": "display_data"
    },
    {
     "data": {
      "application/vnd.jupyter.widget-view+json": {
       "model_id": "1dc9335cbb724b3b9ab758b443c76829",
       "version_major": 2,
       "version_minor": 0
      },
      "text/plain": [
       "0it [00:00, ?it/s]"
      ]
     },
     "metadata": {},
     "output_type": "display_data"
    },
    {
     "data": {
      "application/vnd.jupyter.widget-view+json": {
       "model_id": "2fe432584c624216b4b749e6b943fbbe",
       "version_major": 2,
       "version_minor": 0
      },
      "text/plain": [
       "0it [00:00, ?it/s]"
      ]
     },
     "metadata": {},
     "output_type": "display_data"
    },
    {
     "data": {
      "application/vnd.jupyter.widget-view+json": {
       "model_id": "a4909cfd34eb468ca053a0ad4261720a",
       "version_major": 2,
       "version_minor": 0
      },
      "text/plain": [
       "0it [00:00, ?it/s]"
      ]
     },
     "metadata": {},
     "output_type": "display_data"
    },
    {
     "data": {
      "application/vnd.jupyter.widget-view+json": {
       "model_id": "aed0fc08899c4790a374a7bf5a48282c",
       "version_major": 2,
       "version_minor": 0
      },
      "text/plain": [
       "0it [00:00, ?it/s]"
      ]
     },
     "metadata": {},
     "output_type": "display_data"
    },
    {
     "data": {
      "application/vnd.jupyter.widget-view+json": {
       "model_id": "903d4e6bbb18440789743b83c5cbb189",
       "version_major": 2,
       "version_minor": 0
      },
      "text/plain": [
       "0it [00:00, ?it/s]"
      ]
     },
     "metadata": {},
     "output_type": "display_data"
    },
    {
     "data": {
      "application/vnd.jupyter.widget-view+json": {
       "model_id": "b8f5db11019141bfa947b4c77f853ccf",
       "version_major": 2,
       "version_minor": 0
      },
      "text/plain": [
       "0it [00:00, ?it/s]"
      ]
     },
     "metadata": {},
     "output_type": "display_data"
    },
    {
     "data": {
      "application/vnd.jupyter.widget-view+json": {
       "model_id": "e9425713375a44deb2e56da8a16d2d76",
       "version_major": 2,
       "version_minor": 0
      },
      "text/plain": [
       "0it [00:00, ?it/s]"
      ]
     },
     "metadata": {},
     "output_type": "display_data"
    },
    {
     "data": {
      "application/vnd.jupyter.widget-view+json": {
       "model_id": "44e251e89d7a48ed98e24fb88b15db1c",
       "version_major": 2,
       "version_minor": 0
      },
      "text/plain": [
       "0it [00:00, ?it/s]"
      ]
     },
     "metadata": {},
     "output_type": "display_data"
    },
    {
     "data": {
      "application/vnd.jupyter.widget-view+json": {
       "model_id": "a59e36de0a2d4540b0f6b09263a94276",
       "version_major": 2,
       "version_minor": 0
      },
      "text/plain": [
       "0it [00:00, ?it/s]"
      ]
     },
     "metadata": {},
     "output_type": "display_data"
    },
    {
     "data": {
      "application/vnd.jupyter.widget-view+json": {
       "model_id": "e9bf05bd96ab42abbb6b9a3e6a9e7dc9",
       "version_major": 2,
       "version_minor": 0
      },
      "text/plain": [
       "0it [00:00, ?it/s]"
      ]
     },
     "metadata": {},
     "output_type": "display_data"
    },
    {
     "data": {
      "application/vnd.jupyter.widget-view+json": {
       "model_id": "c91d6380c2ee4c0d9c85e151aa14afd4",
       "version_major": 2,
       "version_minor": 0
      },
      "text/plain": [
       "0it [00:00, ?it/s]"
      ]
     },
     "metadata": {},
     "output_type": "display_data"
    },
    {
     "data": {
      "application/vnd.jupyter.widget-view+json": {
       "model_id": "26ca804c2f47486794a9ac0fd7dd1da0",
       "version_major": 2,
       "version_minor": 0
      },
      "text/plain": [
       "0it [00:00, ?it/s]"
      ]
     },
     "metadata": {},
     "output_type": "display_data"
    },
    {
     "data": {
      "application/vnd.jupyter.widget-view+json": {
       "model_id": "10f2b996a856484cb93175df361f846f",
       "version_major": 2,
       "version_minor": 0
      },
      "text/plain": [
       "0it [00:00, ?it/s]"
      ]
     },
     "metadata": {},
     "output_type": "display_data"
    },
    {
     "data": {
      "application/vnd.jupyter.widget-view+json": {
       "model_id": "9f9df044922b48aea569047897f83a3c",
       "version_major": 2,
       "version_minor": 0
      },
      "text/plain": [
       "0it [00:00, ?it/s]"
      ]
     },
     "metadata": {},
     "output_type": "display_data"
    },
    {
     "data": {
      "application/vnd.jupyter.widget-view+json": {
       "model_id": "d2b4888f7b5f47a9bf19b3b67d130174",
       "version_major": 2,
       "version_minor": 0
      },
      "text/plain": [
       "0it [00:00, ?it/s]"
      ]
     },
     "metadata": {},
     "output_type": "display_data"
    },
    {
     "data": {
      "application/vnd.jupyter.widget-view+json": {
       "model_id": "1fc4856a302149afb84032b012dcbaf2",
       "version_major": 2,
       "version_minor": 0
      },
      "text/plain": [
       "0it [00:00, ?it/s]"
      ]
     },
     "metadata": {},
     "output_type": "display_data"
    },
    {
     "data": {
      "application/vnd.jupyter.widget-view+json": {
       "model_id": "6712e3cc258b4f77b1a10b5625175301",
       "version_major": 2,
       "version_minor": 0
      },
      "text/plain": [
       "0it [00:00, ?it/s]"
      ]
     },
     "metadata": {},
     "output_type": "display_data"
    },
    {
     "data": {
      "application/vnd.jupyter.widget-view+json": {
       "model_id": "a07dc09d31414eaf9bdc7ab539105d18",
       "version_major": 2,
       "version_minor": 0
      },
      "text/plain": [
       "0it [00:00, ?it/s]"
      ]
     },
     "metadata": {},
     "output_type": "display_data"
    },
    {
     "data": {
      "application/vnd.jupyter.widget-view+json": {
       "model_id": "a86cccbd8622452d9eb094de50b49b91",
       "version_major": 2,
       "version_minor": 0
      },
      "text/plain": [
       "0it [00:00, ?it/s]"
      ]
     },
     "metadata": {},
     "output_type": "display_data"
    },
    {
     "data": {
      "application/vnd.jupyter.widget-view+json": {
       "model_id": "8a423391103a44b986af1f4eb26cd51c",
       "version_major": 2,
       "version_minor": 0
      },
      "text/plain": [
       "0it [00:00, ?it/s]"
      ]
     },
     "metadata": {},
     "output_type": "display_data"
    },
    {
     "data": {
      "application/vnd.jupyter.widget-view+json": {
       "model_id": "37366cd28fac4114b34cfcb7530dc74d",
       "version_major": 2,
       "version_minor": 0
      },
      "text/plain": [
       "0it [00:00, ?it/s]"
      ]
     },
     "metadata": {},
     "output_type": "display_data"
    },
    {
     "data": {
      "application/vnd.jupyter.widget-view+json": {
       "model_id": "bd844217f2594904b1ba5e2d74174100",
       "version_major": 2,
       "version_minor": 0
      },
      "text/plain": [
       "0it [00:00, ?it/s]"
      ]
     },
     "metadata": {},
     "output_type": "display_data"
    },
    {
     "data": {
      "application/vnd.jupyter.widget-view+json": {
       "model_id": "57f300a6275a42cd92e228ab6c6150f9",
       "version_major": 2,
       "version_minor": 0
      },
      "text/plain": [
       "0it [00:00, ?it/s]"
      ]
     },
     "metadata": {},
     "output_type": "display_data"
    },
    {
     "data": {
      "application/vnd.jupyter.widget-view+json": {
       "model_id": "98e40320ca3d466184ecf3a7aaf902a1",
       "version_major": 2,
       "version_minor": 0
      },
      "text/plain": [
       "0it [00:00, ?it/s]"
      ]
     },
     "metadata": {},
     "output_type": "display_data"
    },
    {
     "data": {
      "application/vnd.jupyter.widget-view+json": {
       "model_id": "ab3973a6e6924a77bf60aed57c93fd76",
       "version_major": 2,
       "version_minor": 0
      },
      "text/plain": [
       "0it [00:00, ?it/s]"
      ]
     },
     "metadata": {},
     "output_type": "display_data"
    },
    {
     "data": {
      "application/vnd.jupyter.widget-view+json": {
       "model_id": "5c461ceb7fdc4d2f836e5ab121a6daaa",
       "version_major": 2,
       "version_minor": 0
      },
      "text/plain": [
       "0it [00:00, ?it/s]"
      ]
     },
     "metadata": {},
     "output_type": "display_data"
    },
    {
     "data": {
      "application/vnd.jupyter.widget-view+json": {
       "model_id": "d5ffa871d857440ca11f24d6def601d4",
       "version_major": 2,
       "version_minor": 0
      },
      "text/plain": [
       "0it [00:00, ?it/s]"
      ]
     },
     "metadata": {},
     "output_type": "display_data"
    },
    {
     "data": {
      "application/vnd.jupyter.widget-view+json": {
       "model_id": "02643f06b745447392310068917dcbc0",
       "version_major": 2,
       "version_minor": 0
      },
      "text/plain": [
       "0it [00:00, ?it/s]"
      ]
     },
     "metadata": {},
     "output_type": "display_data"
    },
    {
     "data": {
      "application/vnd.jupyter.widget-view+json": {
       "model_id": "82cfb03d4c20459391cfa2bcd7699580",
       "version_major": 2,
       "version_minor": 0
      },
      "text/plain": [
       "0it [00:00, ?it/s]"
      ]
     },
     "metadata": {},
     "output_type": "display_data"
    },
    {
     "data": {
      "application/vnd.jupyter.widget-view+json": {
       "model_id": "c0e9c6d8fe084bc8b207caa0c00b3c74",
       "version_major": 2,
       "version_minor": 0
      },
      "text/plain": [
       "0it [00:00, ?it/s]"
      ]
     },
     "metadata": {},
     "output_type": "display_data"
    },
    {
     "data": {
      "application/vnd.jupyter.widget-view+json": {
       "model_id": "c3d9b133143d4c3c9d9ca6cdf3a701a2",
       "version_major": 2,
       "version_minor": 0
      },
      "text/plain": [
       "0it [00:00, ?it/s]"
      ]
     },
     "metadata": {},
     "output_type": "display_data"
    },
    {
     "data": {
      "application/vnd.jupyter.widget-view+json": {
       "model_id": "84c5c07296cb4bbd92fa8bfb2fa0869b",
       "version_major": 2,
       "version_minor": 0
      },
      "text/plain": [
       "0it [00:00, ?it/s]"
      ]
     },
     "metadata": {},
     "output_type": "display_data"
    },
    {
     "data": {
      "application/vnd.jupyter.widget-view+json": {
       "model_id": "63d4b05ed2c043b7bbc105579590defd",
       "version_major": 2,
       "version_minor": 0
      },
      "text/plain": [
       "0it [00:00, ?it/s]"
      ]
     },
     "metadata": {},
     "output_type": "display_data"
    },
    {
     "data": {
      "application/vnd.jupyter.widget-view+json": {
       "model_id": "38444da49b784ba8bd0f28990831cc12",
       "version_major": 2,
       "version_minor": 0
      },
      "text/plain": [
       "0it [00:00, ?it/s]"
      ]
     },
     "metadata": {},
     "output_type": "display_data"
    },
    {
     "data": {
      "application/vnd.jupyter.widget-view+json": {
       "model_id": "23cb436ea4fc40bca7a7da62c8598e14",
       "version_major": 2,
       "version_minor": 0
      },
      "text/plain": [
       "0it [00:00, ?it/s]"
      ]
     },
     "metadata": {},
     "output_type": "display_data"
    },
    {
     "data": {
      "application/vnd.jupyter.widget-view+json": {
       "model_id": "6150971067d749f59d31ec2c843db495",
       "version_major": 2,
       "version_minor": 0
      },
      "text/plain": [
       "0it [00:00, ?it/s]"
      ]
     },
     "metadata": {},
     "output_type": "display_data"
    },
    {
     "data": {
      "application/vnd.jupyter.widget-view+json": {
       "model_id": "8cb50992202e4f6f811f04e8fe1b3928",
       "version_major": 2,
       "version_minor": 0
      },
      "text/plain": [
       "0it [00:00, ?it/s]"
      ]
     },
     "metadata": {},
     "output_type": "display_data"
    },
    {
     "data": {
      "application/vnd.jupyter.widget-view+json": {
       "model_id": "96ab4081d6514934af86a26cbaced05e",
       "version_major": 2,
       "version_minor": 0
      },
      "text/plain": [
       "0it [00:00, ?it/s]"
      ]
     },
     "metadata": {},
     "output_type": "display_data"
    },
    {
     "data": {
      "application/vnd.jupyter.widget-view+json": {
       "model_id": "576917cb61bc407cb2fc492741e6884c",
       "version_major": 2,
       "version_minor": 0
      },
      "text/plain": [
       "0it [00:00, ?it/s]"
      ]
     },
     "metadata": {},
     "output_type": "display_data"
    },
    {
     "data": {
      "application/vnd.jupyter.widget-view+json": {
       "model_id": "90a60f8850034520ad56fb4fe0334136",
       "version_major": 2,
       "version_minor": 0
      },
      "text/plain": [
       "0it [00:00, ?it/s]"
      ]
     },
     "metadata": {},
     "output_type": "display_data"
    },
    {
     "data": {
      "application/vnd.jupyter.widget-view+json": {
       "model_id": "2969ef36f63c4079b84699a8886aa9be",
       "version_major": 2,
       "version_minor": 0
      },
      "text/plain": [
       "0it [00:00, ?it/s]"
      ]
     },
     "metadata": {},
     "output_type": "display_data"
    },
    {
     "data": {
      "application/vnd.jupyter.widget-view+json": {
       "model_id": "c5b2887e4e0c45da9ed37dd4ec411720",
       "version_major": 2,
       "version_minor": 0
      },
      "text/plain": [
       "0it [00:00, ?it/s]"
      ]
     },
     "metadata": {},
     "output_type": "display_data"
    },
    {
     "data": {
      "application/vnd.jupyter.widget-view+json": {
       "model_id": "b11b72ca5c2844c2849fcc6a81501787",
       "version_major": 2,
       "version_minor": 0
      },
      "text/plain": [
       "0it [00:00, ?it/s]"
      ]
     },
     "metadata": {},
     "output_type": "display_data"
    },
    {
     "data": {
      "application/vnd.jupyter.widget-view+json": {
       "model_id": "08db89b19602444e99e8c6add384b062",
       "version_major": 2,
       "version_minor": 0
      },
      "text/plain": [
       "0it [00:00, ?it/s]"
      ]
     },
     "metadata": {},
     "output_type": "display_data"
    },
    {
     "data": {
      "application/vnd.jupyter.widget-view+json": {
       "model_id": "910046ddf39e4c008236ed8a4ec0a5e9",
       "version_major": 2,
       "version_minor": 0
      },
      "text/plain": [
       "0it [00:00, ?it/s]"
      ]
     },
     "metadata": {},
     "output_type": "display_data"
    },
    {
     "data": {
      "application/vnd.jupyter.widget-view+json": {
       "model_id": "5201bcfe365c4f4a8ca5176dd3fcc2ad",
       "version_major": 2,
       "version_minor": 0
      },
      "text/plain": [
       "0it [00:00, ?it/s]"
      ]
     },
     "metadata": {},
     "output_type": "display_data"
    },
    {
     "data": {
      "application/vnd.jupyter.widget-view+json": {
       "model_id": "abec9a13f62d487088f02f947e56fcbe",
       "version_major": 2,
       "version_minor": 0
      },
      "text/plain": [
       "0it [00:00, ?it/s]"
      ]
     },
     "metadata": {},
     "output_type": "display_data"
    },
    {
     "data": {
      "application/vnd.jupyter.widget-view+json": {
       "model_id": "366ccce204994935bb93853797904d33",
       "version_major": 2,
       "version_minor": 0
      },
      "text/plain": [
       "0it [00:00, ?it/s]"
      ]
     },
     "metadata": {},
     "output_type": "display_data"
    },
    {
     "data": {
      "application/vnd.jupyter.widget-view+json": {
       "model_id": "2156d18eeb4f45c482e2d099d445d8b4",
       "version_major": 2,
       "version_minor": 0
      },
      "text/plain": [
       "0it [00:00, ?it/s]"
      ]
     },
     "metadata": {},
     "output_type": "display_data"
    },
    {
     "data": {
      "application/vnd.jupyter.widget-view+json": {
       "model_id": "3df3c8648a1449d59f71a04da5f5267a",
       "version_major": 2,
       "version_minor": 0
      },
      "text/plain": [
       "0it [00:00, ?it/s]"
      ]
     },
     "metadata": {},
     "output_type": "display_data"
    },
    {
     "data": {
      "application/vnd.jupyter.widget-view+json": {
       "model_id": "1778c0a7f6604bd58f4bb1cc34a06fdd",
       "version_major": 2,
       "version_minor": 0
      },
      "text/plain": [
       "0it [00:00, ?it/s]"
      ]
     },
     "metadata": {},
     "output_type": "display_data"
    },
    {
     "data": {
      "application/vnd.jupyter.widget-view+json": {
       "model_id": "7d7c1b8cfd164c3dae7529e90985d798",
       "version_major": 2,
       "version_minor": 0
      },
      "text/plain": [
       "0it [00:00, ?it/s]"
      ]
     },
     "metadata": {},
     "output_type": "display_data"
    },
    {
     "data": {
      "application/vnd.jupyter.widget-view+json": {
       "model_id": "8ab48aba471841b8a0acdedf82e64eb5",
       "version_major": 2,
       "version_minor": 0
      },
      "text/plain": [
       "0it [00:00, ?it/s]"
      ]
     },
     "metadata": {},
     "output_type": "display_data"
    },
    {
     "data": {
      "application/vnd.jupyter.widget-view+json": {
       "model_id": "0a3c128b9cad4bc7b6363218b2c6b8e5",
       "version_major": 2,
       "version_minor": 0
      },
      "text/plain": [
       "0it [00:00, ?it/s]"
      ]
     },
     "metadata": {},
     "output_type": "display_data"
    },
    {
     "data": {
      "application/vnd.jupyter.widget-view+json": {
       "model_id": "362b6d7f68bb45f3ab1efd2d6d348b81",
       "version_major": 2,
       "version_minor": 0
      },
      "text/plain": [
       "0it [00:00, ?it/s]"
      ]
     },
     "metadata": {},
     "output_type": "display_data"
    },
    {
     "data": {
      "application/vnd.jupyter.widget-view+json": {
       "model_id": "8d0e80d0781b45e7bb93ca7c205bfd4d",
       "version_major": 2,
       "version_minor": 0
      },
      "text/plain": [
       "0it [00:00, ?it/s]"
      ]
     },
     "metadata": {},
     "output_type": "display_data"
    },
    {
     "data": {
      "application/vnd.jupyter.widget-view+json": {
       "model_id": "459fb101991449f4bffb3ab15088ac9a",
       "version_major": 2,
       "version_minor": 0
      },
      "text/plain": [
       "0it [00:00, ?it/s]"
      ]
     },
     "metadata": {},
     "output_type": "display_data"
    },
    {
     "data": {
      "application/vnd.jupyter.widget-view+json": {
       "model_id": "3fe946e86a1c4fb4a0cfa0a9e42ad6b3",
       "version_major": 2,
       "version_minor": 0
      },
      "text/plain": [
       "0it [00:00, ?it/s]"
      ]
     },
     "metadata": {},
     "output_type": "display_data"
    },
    {
     "data": {
      "application/vnd.jupyter.widget-view+json": {
       "model_id": "40eb8d5f3e0f4a1fb49ac1a81ebea50a",
       "version_major": 2,
       "version_minor": 0
      },
      "text/plain": [
       "0it [00:00, ?it/s]"
      ]
     },
     "metadata": {},
     "output_type": "display_data"
    },
    {
     "data": {
      "application/vnd.jupyter.widget-view+json": {
       "model_id": "702c5276a63e42af8c066915abac96dc",
       "version_major": 2,
       "version_minor": 0
      },
      "text/plain": [
       "0it [00:00, ?it/s]"
      ]
     },
     "metadata": {},
     "output_type": "display_data"
    },
    {
     "data": {
      "application/vnd.jupyter.widget-view+json": {
       "model_id": "f341b6a9d3494b838a6516fd8779a47e",
       "version_major": 2,
       "version_minor": 0
      },
      "text/plain": [
       "0it [00:00, ?it/s]"
      ]
     },
     "metadata": {},
     "output_type": "display_data"
    },
    {
     "data": {
      "application/vnd.jupyter.widget-view+json": {
       "model_id": "687700072f564cdfae63162ffc55f1e0",
       "version_major": 2,
       "version_minor": 0
      },
      "text/plain": [
       "0it [00:00, ?it/s]"
      ]
     },
     "metadata": {},
     "output_type": "display_data"
    },
    {
     "data": {
      "application/vnd.jupyter.widget-view+json": {
       "model_id": "379bc7d7237e45cdb714a5342c288312",
       "version_major": 2,
       "version_minor": 0
      },
      "text/plain": [
       "0it [00:00, ?it/s]"
      ]
     },
     "metadata": {},
     "output_type": "display_data"
    },
    {
     "data": {
      "application/vnd.jupyter.widget-view+json": {
       "model_id": "e7e2017eac804290ba8ed4f3b39d7361",
       "version_major": 2,
       "version_minor": 0
      },
      "text/plain": [
       "0it [00:00, ?it/s]"
      ]
     },
     "metadata": {},
     "output_type": "display_data"
    },
    {
     "data": {
      "application/vnd.jupyter.widget-view+json": {
       "model_id": "27c2eaef003146d29f9fb6006eefe89b",
       "version_major": 2,
       "version_minor": 0
      },
      "text/plain": [
       "0it [00:00, ?it/s]"
      ]
     },
     "metadata": {},
     "output_type": "display_data"
    },
    {
     "data": {
      "application/vnd.jupyter.widget-view+json": {
       "model_id": "92d47524f3a14a8789ed2e7c67e51d4f",
       "version_major": 2,
       "version_minor": 0
      },
      "text/plain": [
       "0it [00:00, ?it/s]"
      ]
     },
     "metadata": {},
     "output_type": "display_data"
    },
    {
     "data": {
      "application/vnd.jupyter.widget-view+json": {
       "model_id": "3bf9b146defa46f89e4f0e8342162d61",
       "version_major": 2,
       "version_minor": 0
      },
      "text/plain": [
       "0it [00:00, ?it/s]"
      ]
     },
     "metadata": {},
     "output_type": "display_data"
    },
    {
     "data": {
      "application/vnd.jupyter.widget-view+json": {
       "model_id": "5b3dbceaba2e4fed80eeb04f59e807d3",
       "version_major": 2,
       "version_minor": 0
      },
      "text/plain": [
       "0it [00:00, ?it/s]"
      ]
     },
     "metadata": {},
     "output_type": "display_data"
    },
    {
     "data": {
      "application/vnd.jupyter.widget-view+json": {
       "model_id": "d9126fc8799f4b24b7a574d4e7895b5a",
       "version_major": 2,
       "version_minor": 0
      },
      "text/plain": [
       "0it [00:00, ?it/s]"
      ]
     },
     "metadata": {},
     "output_type": "display_data"
    },
    {
     "data": {
      "application/vnd.jupyter.widget-view+json": {
       "model_id": "0a4e4d061e2b49158271d9109a0aabc9",
       "version_major": 2,
       "version_minor": 0
      },
      "text/plain": [
       "0it [00:00, ?it/s]"
      ]
     },
     "metadata": {},
     "output_type": "display_data"
    },
    {
     "data": {
      "application/vnd.jupyter.widget-view+json": {
       "model_id": "e41516ade6ac402f91493248657178d7",
       "version_major": 2,
       "version_minor": 0
      },
      "text/plain": [
       "0it [00:00, ?it/s]"
      ]
     },
     "metadata": {},
     "output_type": "display_data"
    },
    {
     "data": {
      "application/vnd.jupyter.widget-view+json": {
       "model_id": "b94d1d56785a492cbfd54ec6ff6dbb07",
       "version_major": 2,
       "version_minor": 0
      },
      "text/plain": [
       "0it [00:00, ?it/s]"
      ]
     },
     "metadata": {},
     "output_type": "display_data"
    },
    {
     "data": {
      "application/vnd.jupyter.widget-view+json": {
       "model_id": "642e57dc02514eef9e46d9976e858a29",
       "version_major": 2,
       "version_minor": 0
      },
      "text/plain": [
       "0it [00:00, ?it/s]"
      ]
     },
     "metadata": {},
     "output_type": "display_data"
    },
    {
     "data": {
      "application/vnd.jupyter.widget-view+json": {
       "model_id": "b580f7cc99e044aa9e777de36fa23c4a",
       "version_major": 2,
       "version_minor": 0
      },
      "text/plain": [
       "0it [00:00, ?it/s]"
      ]
     },
     "metadata": {},
     "output_type": "display_data"
    },
    {
     "data": {
      "application/vnd.jupyter.widget-view+json": {
       "model_id": "1446410cfcb5421dac0e11efb4d20282",
       "version_major": 2,
       "version_minor": 0
      },
      "text/plain": [
       "0it [00:00, ?it/s]"
      ]
     },
     "metadata": {},
     "output_type": "display_data"
    },
    {
     "data": {
      "application/vnd.jupyter.widget-view+json": {
       "model_id": "dab24a6a32474cac8feac83c1ca42502",
       "version_major": 2,
       "version_minor": 0
      },
      "text/plain": [
       "0it [00:00, ?it/s]"
      ]
     },
     "metadata": {},
     "output_type": "display_data"
    },
    {
     "data": {
      "application/vnd.jupyter.widget-view+json": {
       "model_id": "9e31bb44541d4de9840f5bb07dc5d667",
       "version_major": 2,
       "version_minor": 0
      },
      "text/plain": [
       "0it [00:00, ?it/s]"
      ]
     },
     "metadata": {},
     "output_type": "display_data"
    },
    {
     "data": {
      "application/vnd.jupyter.widget-view+json": {
       "model_id": "2cbf2e2c972d4a028804a2bc5a11f77c",
       "version_major": 2,
       "version_minor": 0
      },
      "text/plain": [
       "0it [00:00, ?it/s]"
      ]
     },
     "metadata": {},
     "output_type": "display_data"
    },
    {
     "data": {
      "application/vnd.jupyter.widget-view+json": {
       "model_id": "5820d78267c94d1db8c59cfac7879edc",
       "version_major": 2,
       "version_minor": 0
      },
      "text/plain": [
       "0it [00:00, ?it/s]"
      ]
     },
     "metadata": {},
     "output_type": "display_data"
    },
    {
     "data": {
      "application/vnd.jupyter.widget-view+json": {
       "model_id": "ca78a52c4c664ceeb91696943febe98f",
       "version_major": 2,
       "version_minor": 0
      },
      "text/plain": [
       "0it [00:00, ?it/s]"
      ]
     },
     "metadata": {},
     "output_type": "display_data"
    },
    {
     "data": {
      "application/vnd.jupyter.widget-view+json": {
       "model_id": "ee4c38b86c04444cb20a3e39fd925291",
       "version_major": 2,
       "version_minor": 0
      },
      "text/plain": [
       "0it [00:00, ?it/s]"
      ]
     },
     "metadata": {},
     "output_type": "display_data"
    },
    {
     "data": {
      "application/vnd.jupyter.widget-view+json": {
       "model_id": "21e476dc589d4416af536add9843978e",
       "version_major": 2,
       "version_minor": 0
      },
      "text/plain": [
       "0it [00:00, ?it/s]"
      ]
     },
     "metadata": {},
     "output_type": "display_data"
    },
    {
     "data": {
      "application/vnd.jupyter.widget-view+json": {
       "model_id": "24849634221b4604a91d5524b6ec73ef",
       "version_major": 2,
       "version_minor": 0
      },
      "text/plain": [
       "0it [00:00, ?it/s]"
      ]
     },
     "metadata": {},
     "output_type": "display_data"
    },
    {
     "data": {
      "application/vnd.jupyter.widget-view+json": {
       "model_id": "19646fca20ac4cf9929a3890f73d27b7",
       "version_major": 2,
       "version_minor": 0
      },
      "text/plain": [
       "0it [00:00, ?it/s]"
      ]
     },
     "metadata": {},
     "output_type": "display_data"
    },
    {
     "data": {
      "application/vnd.jupyter.widget-view+json": {
       "model_id": "7d09bea1ed93480a8aa7e2b53ab146e9",
       "version_major": 2,
       "version_minor": 0
      },
      "text/plain": [
       "0it [00:00, ?it/s]"
      ]
     },
     "metadata": {},
     "output_type": "display_data"
    },
    {
     "data": {
      "application/vnd.jupyter.widget-view+json": {
       "model_id": "7fe985ffe1564a31a36ee6e18b7d630e",
       "version_major": 2,
       "version_minor": 0
      },
      "text/plain": [
       "0it [00:00, ?it/s]"
      ]
     },
     "metadata": {},
     "output_type": "display_data"
    },
    {
     "data": {
      "application/vnd.jupyter.widget-view+json": {
       "model_id": "753b402bf2c142d9a30b573f2cfe15e3",
       "version_major": 2,
       "version_minor": 0
      },
      "text/plain": [
       "0it [00:00, ?it/s]"
      ]
     },
     "metadata": {},
     "output_type": "display_data"
    },
    {
     "data": {
      "application/vnd.jupyter.widget-view+json": {
       "model_id": "fa4262f173314b13ba7caadd9d2da978",
       "version_major": 2,
       "version_minor": 0
      },
      "text/plain": [
       "0it [00:00, ?it/s]"
      ]
     },
     "metadata": {},
     "output_type": "display_data"
    },
    {
     "data": {
      "application/vnd.jupyter.widget-view+json": {
       "model_id": "cd260f5ca7b6499785652b77624c17ea",
       "version_major": 2,
       "version_minor": 0
      },
      "text/plain": [
       "0it [00:00, ?it/s]"
      ]
     },
     "metadata": {},
     "output_type": "display_data"
    },
    {
     "data": {
      "application/vnd.jupyter.widget-view+json": {
       "model_id": "0df0fd42651545a99a8d6fac8e32ec77",
       "version_major": 2,
       "version_minor": 0
      },
      "text/plain": [
       "0it [00:00, ?it/s]"
      ]
     },
     "metadata": {},
     "output_type": "display_data"
    },
    {
     "data": {
      "application/vnd.jupyter.widget-view+json": {
       "model_id": "2d23b5d0063b464f8b20ab2a5b61e6d2",
       "version_major": 2,
       "version_minor": 0
      },
      "text/plain": [
       "0it [00:00, ?it/s]"
      ]
     },
     "metadata": {},
     "output_type": "display_data"
    },
    {
     "data": {
      "application/vnd.jupyter.widget-view+json": {
       "model_id": "0167468d798044148f0271de2703256f",
       "version_major": 2,
       "version_minor": 0
      },
      "text/plain": [
       "0it [00:00, ?it/s]"
      ]
     },
     "metadata": {},
     "output_type": "display_data"
    },
    {
     "data": {
      "application/vnd.jupyter.widget-view+json": {
       "model_id": "7cfb51e6683349afb419bcc4e893a1b9",
       "version_major": 2,
       "version_minor": 0
      },
      "text/plain": [
       "0it [00:00, ?it/s]"
      ]
     },
     "metadata": {},
     "output_type": "display_data"
    },
    {
     "data": {
      "application/vnd.jupyter.widget-view+json": {
       "model_id": "ed1a7b31a0e04ff3b8ca91d0949b72f7",
       "version_major": 2,
       "version_minor": 0
      },
      "text/plain": [
       "0it [00:00, ?it/s]"
      ]
     },
     "metadata": {},
     "output_type": "display_data"
    },
    {
     "data": {
      "application/vnd.jupyter.widget-view+json": {
       "model_id": "250e7cc585b946458c3446fcb4154ce8",
       "version_major": 2,
       "version_minor": 0
      },
      "text/plain": [
       "0it [00:00, ?it/s]"
      ]
     },
     "metadata": {},
     "output_type": "display_data"
    },
    {
     "data": {
      "application/vnd.jupyter.widget-view+json": {
       "model_id": "a55a3dea99604fe4afe1e8411b890b77",
       "version_major": 2,
       "version_minor": 0
      },
      "text/plain": [
       "0it [00:00, ?it/s]"
      ]
     },
     "metadata": {},
     "output_type": "display_data"
    },
    {
     "data": {
      "application/vnd.jupyter.widget-view+json": {
       "model_id": "35fd53cdc18d47e891f80b6297bff0de",
       "version_major": 2,
       "version_minor": 0
      },
      "text/plain": [
       "0it [00:00, ?it/s]"
      ]
     },
     "metadata": {},
     "output_type": "display_data"
    },
    {
     "data": {
      "application/vnd.jupyter.widget-view+json": {
       "model_id": "f7ae060aacc8460d863fdc34323808ae",
       "version_major": 2,
       "version_minor": 0
      },
      "text/plain": [
       "0it [00:00, ?it/s]"
      ]
     },
     "metadata": {},
     "output_type": "display_data"
    },
    {
     "data": {
      "application/vnd.jupyter.widget-view+json": {
       "model_id": "cdc0a2b38b4c469095b83a6d3fc18eab",
       "version_major": 2,
       "version_minor": 0
      },
      "text/plain": [
       "0it [00:00, ?it/s]"
      ]
     },
     "metadata": {},
     "output_type": "display_data"
    },
    {
     "data": {
      "application/vnd.jupyter.widget-view+json": {
       "model_id": "a872e9fdf9e14fd1bdd0b88b0a2fd83f",
       "version_major": 2,
       "version_minor": 0
      },
      "text/plain": [
       "0it [00:00, ?it/s]"
      ]
     },
     "metadata": {},
     "output_type": "display_data"
    },
    {
     "data": {
      "application/vnd.jupyter.widget-view+json": {
       "model_id": "6d0f26ca6eb844d3a932e3ddb2dbf2b8",
       "version_major": 2,
       "version_minor": 0
      },
      "text/plain": [
       "0it [00:00, ?it/s]"
      ]
     },
     "metadata": {},
     "output_type": "display_data"
    },
    {
     "data": {
      "application/vnd.jupyter.widget-view+json": {
       "model_id": "0fcf6f14922f4e33a5e187c27c073aae",
       "version_major": 2,
       "version_minor": 0
      },
      "text/plain": [
       "0it [00:00, ?it/s]"
      ]
     },
     "metadata": {},
     "output_type": "display_data"
    },
    {
     "data": {
      "application/vnd.jupyter.widget-view+json": {
       "model_id": "d0be6c14970e438ea0fa6f472af55980",
       "version_major": 2,
       "version_minor": 0
      },
      "text/plain": [
       "0it [00:00, ?it/s]"
      ]
     },
     "metadata": {},
     "output_type": "display_data"
    },
    {
     "data": {
      "application/vnd.jupyter.widget-view+json": {
       "model_id": "77b10b3f64a6466bb7ba76d0e7fe6eeb",
       "version_major": 2,
       "version_minor": 0
      },
      "text/plain": [
       "0it [00:00, ?it/s]"
      ]
     },
     "metadata": {},
     "output_type": "display_data"
    },
    {
     "data": {
      "application/vnd.jupyter.widget-view+json": {
       "model_id": "068ae194cc15456eaa3f73ce01f222bf",
       "version_major": 2,
       "version_minor": 0
      },
      "text/plain": [
       "0it [00:00, ?it/s]"
      ]
     },
     "metadata": {},
     "output_type": "display_data"
    },
    {
     "data": {
      "application/vnd.jupyter.widget-view+json": {
       "model_id": "401b738938dc482ab489793d307d2374",
       "version_major": 2,
       "version_minor": 0
      },
      "text/plain": [
       "0it [00:00, ?it/s]"
      ]
     },
     "metadata": {},
     "output_type": "display_data"
    },
    {
     "data": {
      "application/vnd.jupyter.widget-view+json": {
       "model_id": "3d1648f32b4942aeb966509226654bc9",
       "version_major": 2,
       "version_minor": 0
      },
      "text/plain": [
       "0it [00:00, ?it/s]"
      ]
     },
     "metadata": {},
     "output_type": "display_data"
    },
    {
     "data": {
      "application/vnd.jupyter.widget-view+json": {
       "model_id": "bda78c0d0dba4128b2d5cdad11063fd8",
       "version_major": 2,
       "version_minor": 0
      },
      "text/plain": [
       "0it [00:00, ?it/s]"
      ]
     },
     "metadata": {},
     "output_type": "display_data"
    },
    {
     "data": {
      "application/vnd.jupyter.widget-view+json": {
       "model_id": "2121610d652542a78112dceef148b05a",
       "version_major": 2,
       "version_minor": 0
      },
      "text/plain": [
       "0it [00:00, ?it/s]"
      ]
     },
     "metadata": {},
     "output_type": "display_data"
    },
    {
     "data": {
      "application/vnd.jupyter.widget-view+json": {
       "model_id": "4aa13dae525e40ef9cdd8e15b964f9ae",
       "version_major": 2,
       "version_minor": 0
      },
      "text/plain": [
       "0it [00:00, ?it/s]"
      ]
     },
     "metadata": {},
     "output_type": "display_data"
    },
    {
     "data": {
      "application/vnd.jupyter.widget-view+json": {
       "model_id": "1090ce96182b488ea28029ee3e1bb301",
       "version_major": 2,
       "version_minor": 0
      },
      "text/plain": [
       "0it [00:00, ?it/s]"
      ]
     },
     "metadata": {},
     "output_type": "display_data"
    },
    {
     "data": {
      "application/vnd.jupyter.widget-view+json": {
       "model_id": "28043a8454f147c3811f7c382f260550",
       "version_major": 2,
       "version_minor": 0
      },
      "text/plain": [
       "0it [00:00, ?it/s]"
      ]
     },
     "metadata": {},
     "output_type": "display_data"
    },
    {
     "data": {
      "application/vnd.jupyter.widget-view+json": {
       "model_id": "9810d6cfe6d44aed8a7b40e11013764b",
       "version_major": 2,
       "version_minor": 0
      },
      "text/plain": [
       "0it [00:00, ?it/s]"
      ]
     },
     "metadata": {},
     "output_type": "display_data"
    },
    {
     "data": {
      "application/vnd.jupyter.widget-view+json": {
       "model_id": "86fc49e14ef047c5aa4885c928e3d036",
       "version_major": 2,
       "version_minor": 0
      },
      "text/plain": [
       "0it [00:00, ?it/s]"
      ]
     },
     "metadata": {},
     "output_type": "display_data"
    },
    {
     "data": {
      "application/vnd.jupyter.widget-view+json": {
       "model_id": "2aeeeb02cf45461e889b5546b4d752f7",
       "version_major": 2,
       "version_minor": 0
      },
      "text/plain": [
       "0it [00:00, ?it/s]"
      ]
     },
     "metadata": {},
     "output_type": "display_data"
    },
    {
     "data": {
      "application/vnd.jupyter.widget-view+json": {
       "model_id": "4356ba9e307944829ea8e970ff45bc23",
       "version_major": 2,
       "version_minor": 0
      },
      "text/plain": [
       "0it [00:00, ?it/s]"
      ]
     },
     "metadata": {},
     "output_type": "display_data"
    },
    {
     "data": {
      "application/vnd.jupyter.widget-view+json": {
       "model_id": "5aeaf56ea6564651b9eca001ba481ddf",
       "version_major": 2,
       "version_minor": 0
      },
      "text/plain": [
       "0it [00:00, ?it/s]"
      ]
     },
     "metadata": {},
     "output_type": "display_data"
    },
    {
     "data": {
      "application/vnd.jupyter.widget-view+json": {
       "model_id": "42a025c8a0c64000b27fec30d1a20677",
       "version_major": 2,
       "version_minor": 0
      },
      "text/plain": [
       "0it [00:00, ?it/s]"
      ]
     },
     "metadata": {},
     "output_type": "display_data"
    },
    {
     "data": {
      "application/vnd.jupyter.widget-view+json": {
       "model_id": "5288b3eda3da480797ba749a0390e83a",
       "version_major": 2,
       "version_minor": 0
      },
      "text/plain": [
       "0it [00:00, ?it/s]"
      ]
     },
     "metadata": {},
     "output_type": "display_data"
    },
    {
     "data": {
      "application/vnd.jupyter.widget-view+json": {
       "model_id": "3144ea70ca854196aa06f06f4ce0b041",
       "version_major": 2,
       "version_minor": 0
      },
      "text/plain": [
       "0it [00:00, ?it/s]"
      ]
     },
     "metadata": {},
     "output_type": "display_data"
    },
    {
     "data": {
      "application/vnd.jupyter.widget-view+json": {
       "model_id": "fdfc3886439b4c0a96b186c99e3f1a4c",
       "version_major": 2,
       "version_minor": 0
      },
      "text/plain": [
       "0it [00:00, ?it/s]"
      ]
     },
     "metadata": {},
     "output_type": "display_data"
    },
    {
     "data": {
      "application/vnd.jupyter.widget-view+json": {
       "model_id": "556845b85c164bb68087a657f84bd776",
       "version_major": 2,
       "version_minor": 0
      },
      "text/plain": [
       "0it [00:00, ?it/s]"
      ]
     },
     "metadata": {},
     "output_type": "display_data"
    },
    {
     "data": {
      "application/vnd.jupyter.widget-view+json": {
       "model_id": "eaa699c4de204ac9b95d084a92da0a96",
       "version_major": 2,
       "version_minor": 0
      },
      "text/plain": [
       "0it [00:00, ?it/s]"
      ]
     },
     "metadata": {},
     "output_type": "display_data"
    },
    {
     "data": {
      "application/vnd.jupyter.widget-view+json": {
       "model_id": "6c83ffa60c8e461bb320c78ea7023129",
       "version_major": 2,
       "version_minor": 0
      },
      "text/plain": [
       "0it [00:00, ?it/s]"
      ]
     },
     "metadata": {},
     "output_type": "display_data"
    },
    {
     "data": {
      "application/vnd.jupyter.widget-view+json": {
       "model_id": "923f9cf30ac846e7bcb100500d9c68ca",
       "version_major": 2,
       "version_minor": 0
      },
      "text/plain": [
       "0it [00:00, ?it/s]"
      ]
     },
     "metadata": {},
     "output_type": "display_data"
    },
    {
     "data": {
      "application/vnd.jupyter.widget-view+json": {
       "model_id": "03948e360013430db03266d6071551e5",
       "version_major": 2,
       "version_minor": 0
      },
      "text/plain": [
       "0it [00:00, ?it/s]"
      ]
     },
     "metadata": {},
     "output_type": "display_data"
    },
    {
     "data": {
      "application/vnd.jupyter.widget-view+json": {
       "model_id": "7c104ec551ca45f1ac119bb5b4f2f0dd",
       "version_major": 2,
       "version_minor": 0
      },
      "text/plain": [
       "0it [00:00, ?it/s]"
      ]
     },
     "metadata": {},
     "output_type": "display_data"
    },
    {
     "data": {
      "application/vnd.jupyter.widget-view+json": {
       "model_id": "ac2ad8d030674efb98a33e4a459dc72a",
       "version_major": 2,
       "version_minor": 0
      },
      "text/plain": [
       "0it [00:00, ?it/s]"
      ]
     },
     "metadata": {},
     "output_type": "display_data"
    },
    {
     "data": {
      "application/vnd.jupyter.widget-view+json": {
       "model_id": "7a8683d7221e4a2a8266d03ccdbadc53",
       "version_major": 2,
       "version_minor": 0
      },
      "text/plain": [
       "0it [00:00, ?it/s]"
      ]
     },
     "metadata": {},
     "output_type": "display_data"
    },
    {
     "data": {
      "application/vnd.jupyter.widget-view+json": {
       "model_id": "34e162b3613943f29857b3aa8f225960",
       "version_major": 2,
       "version_minor": 0
      },
      "text/plain": [
       "0it [00:00, ?it/s]"
      ]
     },
     "metadata": {},
     "output_type": "display_data"
    },
    {
     "data": {
      "application/vnd.jupyter.widget-view+json": {
       "model_id": "2e0dbc98266e4be1b40267eff41add55",
       "version_major": 2,
       "version_minor": 0
      },
      "text/plain": [
       "0it [00:00, ?it/s]"
      ]
     },
     "metadata": {},
     "output_type": "display_data"
    },
    {
     "data": {
      "application/vnd.jupyter.widget-view+json": {
       "model_id": "99ed30e6c26e487a9bc0faef85f2c130",
       "version_major": 2,
       "version_minor": 0
      },
      "text/plain": [
       "0it [00:00, ?it/s]"
      ]
     },
     "metadata": {},
     "output_type": "display_data"
    },
    {
     "data": {
      "application/vnd.jupyter.widget-view+json": {
       "model_id": "d5f2006f7ad0467abf5a241ac491aaa0",
       "version_major": 2,
       "version_minor": 0
      },
      "text/plain": [
       "0it [00:00, ?it/s]"
      ]
     },
     "metadata": {},
     "output_type": "display_data"
    },
    {
     "data": {
      "application/vnd.jupyter.widget-view+json": {
       "model_id": "9eca9c011ee849a09ed766934f6922b2",
       "version_major": 2,
       "version_minor": 0
      },
      "text/plain": [
       "0it [00:00, ?it/s]"
      ]
     },
     "metadata": {},
     "output_type": "display_data"
    },
    {
     "data": {
      "application/vnd.jupyter.widget-view+json": {
       "model_id": "9d685c6926814a92b8d2f62bf4746743",
       "version_major": 2,
       "version_minor": 0
      },
      "text/plain": [
       "0it [00:00, ?it/s]"
      ]
     },
     "metadata": {},
     "output_type": "display_data"
    },
    {
     "data": {
      "application/vnd.jupyter.widget-view+json": {
       "model_id": "f305b566b2624199a984a900b041ab2d",
       "version_major": 2,
       "version_minor": 0
      },
      "text/plain": [
       "0it [00:00, ?it/s]"
      ]
     },
     "metadata": {},
     "output_type": "display_data"
    },
    {
     "data": {
      "application/vnd.jupyter.widget-view+json": {
       "model_id": "47dd95379a6f413398ca5459c8af72fc",
       "version_major": 2,
       "version_minor": 0
      },
      "text/plain": [
       "0it [00:00, ?it/s]"
      ]
     },
     "metadata": {},
     "output_type": "display_data"
    },
    {
     "data": {
      "application/vnd.jupyter.widget-view+json": {
       "model_id": "4b0fbf7c200a4689bcee9e79c3e5ff94",
       "version_major": 2,
       "version_minor": 0
      },
      "text/plain": [
       "0it [00:00, ?it/s]"
      ]
     },
     "metadata": {},
     "output_type": "display_data"
    },
    {
     "data": {
      "application/vnd.jupyter.widget-view+json": {
       "model_id": "dc07be5eb994437cbb0c0220329e6d97",
       "version_major": 2,
       "version_minor": 0
      },
      "text/plain": [
       "0it [00:00, ?it/s]"
      ]
     },
     "metadata": {},
     "output_type": "display_data"
    },
    {
     "data": {
      "application/vnd.jupyter.widget-view+json": {
       "model_id": "33dee4870e074f61b559955d0eb9ccc9",
       "version_major": 2,
       "version_minor": 0
      },
      "text/plain": [
       "0it [00:00, ?it/s]"
      ]
     },
     "metadata": {},
     "output_type": "display_data"
    },
    {
     "data": {
      "application/vnd.jupyter.widget-view+json": {
       "model_id": "12a902cce9a0488ebfc2d3f9e158105c",
       "version_major": 2,
       "version_minor": 0
      },
      "text/plain": [
       "0it [00:00, ?it/s]"
      ]
     },
     "metadata": {},
     "output_type": "display_data"
    },
    {
     "data": {
      "application/vnd.jupyter.widget-view+json": {
       "model_id": "5f57d1bf76be46c982f0c83b9eac368e",
       "version_major": 2,
       "version_minor": 0
      },
      "text/plain": [
       "0it [00:00, ?it/s]"
      ]
     },
     "metadata": {},
     "output_type": "display_data"
    },
    {
     "data": {
      "application/vnd.jupyter.widget-view+json": {
       "model_id": "465d088c89474401b0d989e7a9747bb3",
       "version_major": 2,
       "version_minor": 0
      },
      "text/plain": [
       "0it [00:00, ?it/s]"
      ]
     },
     "metadata": {},
     "output_type": "display_data"
    },
    {
     "data": {
      "application/vnd.jupyter.widget-view+json": {
       "model_id": "5c0fef9230654c70ae911bd55cd3085a",
       "version_major": 2,
       "version_minor": 0
      },
      "text/plain": [
       "0it [00:00, ?it/s]"
      ]
     },
     "metadata": {},
     "output_type": "display_data"
    },
    {
     "data": {
      "application/vnd.jupyter.widget-view+json": {
       "model_id": "9a1cd76f452c4b3e98200ca93998ebe4",
       "version_major": 2,
       "version_minor": 0
      },
      "text/plain": [
       "0it [00:00, ?it/s]"
      ]
     },
     "metadata": {},
     "output_type": "display_data"
    },
    {
     "data": {
      "application/vnd.jupyter.widget-view+json": {
       "model_id": "5d88d3a584a94422af936983dde3ea4f",
       "version_major": 2,
       "version_minor": 0
      },
      "text/plain": [
       "0it [00:00, ?it/s]"
      ]
     },
     "metadata": {},
     "output_type": "display_data"
    },
    {
     "data": {
      "application/vnd.jupyter.widget-view+json": {
       "model_id": "92b3e4686a2e4aa7a095a4dded87204e",
       "version_major": 2,
       "version_minor": 0
      },
      "text/plain": [
       "0it [00:00, ?it/s]"
      ]
     },
     "metadata": {},
     "output_type": "display_data"
    },
    {
     "data": {
      "application/vnd.jupyter.widget-view+json": {
       "model_id": "77e199e7c19e4599947ac88a7272353c",
       "version_major": 2,
       "version_minor": 0
      },
      "text/plain": [
       "0it [00:00, ?it/s]"
      ]
     },
     "metadata": {},
     "output_type": "display_data"
    },
    {
     "data": {
      "application/vnd.jupyter.widget-view+json": {
       "model_id": "b7ae9b49996f47d6b21d30d58b3f33f9",
       "version_major": 2,
       "version_minor": 0
      },
      "text/plain": [
       "0it [00:00, ?it/s]"
      ]
     },
     "metadata": {},
     "output_type": "display_data"
    },
    {
     "data": {
      "application/vnd.jupyter.widget-view+json": {
       "model_id": "9d6dfc7c8c6a4bfa92e51cf8cac67d7f",
       "version_major": 2,
       "version_minor": 0
      },
      "text/plain": [
       "0it [00:00, ?it/s]"
      ]
     },
     "metadata": {},
     "output_type": "display_data"
    },
    {
     "data": {
      "application/vnd.jupyter.widget-view+json": {
       "model_id": "a5bec992a1c8426fbdd5c6df35e43b8c",
       "version_major": 2,
       "version_minor": 0
      },
      "text/plain": [
       "0it [00:00, ?it/s]"
      ]
     },
     "metadata": {},
     "output_type": "display_data"
    },
    {
     "data": {
      "application/vnd.jupyter.widget-view+json": {
       "model_id": "c1eef096ff8d4d7586e4cef3ebee40bf",
       "version_major": 2,
       "version_minor": 0
      },
      "text/plain": [
       "0it [00:00, ?it/s]"
      ]
     },
     "metadata": {},
     "output_type": "display_data"
    },
    {
     "data": {
      "application/vnd.jupyter.widget-view+json": {
       "model_id": "e7e2540aec2442a9b078d36fd50b8826",
       "version_major": 2,
       "version_minor": 0
      },
      "text/plain": [
       "0it [00:00, ?it/s]"
      ]
     },
     "metadata": {},
     "output_type": "display_data"
    },
    {
     "data": {
      "application/vnd.jupyter.widget-view+json": {
       "model_id": "bcb774f66bbe468e9c9bde7b12f3d642",
       "version_major": 2,
       "version_minor": 0
      },
      "text/plain": [
       "0it [00:00, ?it/s]"
      ]
     },
     "metadata": {},
     "output_type": "display_data"
    },
    {
     "data": {
      "application/vnd.jupyter.widget-view+json": {
       "model_id": "d0205d37686f4e9fb19c475594e902bb",
       "version_major": 2,
       "version_minor": 0
      },
      "text/plain": [
       "0it [00:00, ?it/s]"
      ]
     },
     "metadata": {},
     "output_type": "display_data"
    },
    {
     "data": {
      "application/vnd.jupyter.widget-view+json": {
       "model_id": "f93f2e59b7c14b928817506b0701da78",
       "version_major": 2,
       "version_minor": 0
      },
      "text/plain": [
       "0it [00:00, ?it/s]"
      ]
     },
     "metadata": {},
     "output_type": "display_data"
    },
    {
     "data": {
      "application/vnd.jupyter.widget-view+json": {
       "model_id": "bd109a52bde34201b9b0580dfa09c207",
       "version_major": 2,
       "version_minor": 0
      },
      "text/plain": [
       "0it [00:00, ?it/s]"
      ]
     },
     "metadata": {},
     "output_type": "display_data"
    },
    {
     "data": {
      "application/vnd.jupyter.widget-view+json": {
       "model_id": "a2aa4c6364954cc4bcce0d03f26ee217",
       "version_major": 2,
       "version_minor": 0
      },
      "text/plain": [
       "0it [00:00, ?it/s]"
      ]
     },
     "metadata": {},
     "output_type": "display_data"
    },
    {
     "data": {
      "application/vnd.jupyter.widget-view+json": {
       "model_id": "9268cdfb84f04f82b3b81e8241bc7450",
       "version_major": 2,
       "version_minor": 0
      },
      "text/plain": [
       "0it [00:00, ?it/s]"
      ]
     },
     "metadata": {},
     "output_type": "display_data"
    },
    {
     "data": {
      "application/vnd.jupyter.widget-view+json": {
       "model_id": "742d463e6c784d35be1e894643d86d53",
       "version_major": 2,
       "version_minor": 0
      },
      "text/plain": [
       "0it [00:00, ?it/s]"
      ]
     },
     "metadata": {},
     "output_type": "display_data"
    },
    {
     "data": {
      "application/vnd.jupyter.widget-view+json": {
       "model_id": "ae2820277f2843e18b7a3f327eebc7b5",
       "version_major": 2,
       "version_minor": 0
      },
      "text/plain": [
       "0it [00:00, ?it/s]"
      ]
     },
     "metadata": {},
     "output_type": "display_data"
    },
    {
     "data": {
      "application/vnd.jupyter.widget-view+json": {
       "model_id": "f62bfdbea4284cb2997f45aa424deb95",
       "version_major": 2,
       "version_minor": 0
      },
      "text/plain": [
       "0it [00:00, ?it/s]"
      ]
     },
     "metadata": {},
     "output_type": "display_data"
    },
    {
     "data": {
      "application/vnd.jupyter.widget-view+json": {
       "model_id": "836b7c04a46845c1935f49bbc09fe95c",
       "version_major": 2,
       "version_minor": 0
      },
      "text/plain": [
       "0it [00:00, ?it/s]"
      ]
     },
     "metadata": {},
     "output_type": "display_data"
    },
    {
     "data": {
      "application/vnd.jupyter.widget-view+json": {
       "model_id": "a3cef071fa134c789c3ede7bd919dcea",
       "version_major": 2,
       "version_minor": 0
      },
      "text/plain": [
       "0it [00:00, ?it/s]"
      ]
     },
     "metadata": {},
     "output_type": "display_data"
    },
    {
     "data": {
      "application/vnd.jupyter.widget-view+json": {
       "model_id": "48835f3eb3144e1eae02f4b2307c57c7",
       "version_major": 2,
       "version_minor": 0
      },
      "text/plain": [
       "0it [00:00, ?it/s]"
      ]
     },
     "metadata": {},
     "output_type": "display_data"
    },
    {
     "data": {
      "application/vnd.jupyter.widget-view+json": {
       "model_id": "127f7c580d5d4a23beb2e916fa804283",
       "version_major": 2,
       "version_minor": 0
      },
      "text/plain": [
       "0it [00:00, ?it/s]"
      ]
     },
     "metadata": {},
     "output_type": "display_data"
    },
    {
     "data": {
      "application/vnd.jupyter.widget-view+json": {
       "model_id": "73ce231c8a3944d0be6f471ce3b7aabb",
       "version_major": 2,
       "version_minor": 0
      },
      "text/plain": [
       "0it [00:00, ?it/s]"
      ]
     },
     "metadata": {},
     "output_type": "display_data"
    },
    {
     "data": {
      "application/vnd.jupyter.widget-view+json": {
       "model_id": "f5018f0bf1e4421587723ddd9dbb99f5",
       "version_major": 2,
       "version_minor": 0
      },
      "text/plain": [
       "0it [00:00, ?it/s]"
      ]
     },
     "metadata": {},
     "output_type": "display_data"
    },
    {
     "data": {
      "application/vnd.jupyter.widget-view+json": {
       "model_id": "0fbce5874e674794995e1255c5c1e64b",
       "version_major": 2,
       "version_minor": 0
      },
      "text/plain": [
       "0it [00:00, ?it/s]"
      ]
     },
     "metadata": {},
     "output_type": "display_data"
    },
    {
     "data": {
      "application/vnd.jupyter.widget-view+json": {
       "model_id": "752e811d789b44c396a8e268756bd254",
       "version_major": 2,
       "version_minor": 0
      },
      "text/plain": [
       "0it [00:00, ?it/s]"
      ]
     },
     "metadata": {},
     "output_type": "display_data"
    },
    {
     "data": {
      "application/vnd.jupyter.widget-view+json": {
       "model_id": "f5ef80173b4c4b329f72f43188d0365d",
       "version_major": 2,
       "version_minor": 0
      },
      "text/plain": [
       "0it [00:00, ?it/s]"
      ]
     },
     "metadata": {},
     "output_type": "display_data"
    },
    {
     "data": {
      "application/vnd.jupyter.widget-view+json": {
       "model_id": "8d7c7aa3accf478bb7a8335438d1ce07",
       "version_major": 2,
       "version_minor": 0
      },
      "text/plain": [
       "0it [00:00, ?it/s]"
      ]
     },
     "metadata": {},
     "output_type": "display_data"
    },
    {
     "data": {
      "application/vnd.jupyter.widget-view+json": {
       "model_id": "3112d741bb2b46bba10924d67c979430",
       "version_major": 2,
       "version_minor": 0
      },
      "text/plain": [
       "0it [00:00, ?it/s]"
      ]
     },
     "metadata": {},
     "output_type": "display_data"
    },
    {
     "data": {
      "application/vnd.jupyter.widget-view+json": {
       "model_id": "9b22bbf6812b4b64be026ef52c09cbef",
       "version_major": 2,
       "version_minor": 0
      },
      "text/plain": [
       "0it [00:00, ?it/s]"
      ]
     },
     "metadata": {},
     "output_type": "display_data"
    },
    {
     "data": {
      "application/vnd.jupyter.widget-view+json": {
       "model_id": "440ef9081fef4d21be627a194db2a8dc",
       "version_major": 2,
       "version_minor": 0
      },
      "text/plain": [
       "0it [00:00, ?it/s]"
      ]
     },
     "metadata": {},
     "output_type": "display_data"
    },
    {
     "data": {
      "application/vnd.jupyter.widget-view+json": {
       "model_id": "62b5f74d15b649e988a7342314b98ea3",
       "version_major": 2,
       "version_minor": 0
      },
      "text/plain": [
       "0it [00:00, ?it/s]"
      ]
     },
     "metadata": {},
     "output_type": "display_data"
    },
    {
     "data": {
      "application/vnd.jupyter.widget-view+json": {
       "model_id": "d66abf1fd3f24643bc896f61b1776ce0",
       "version_major": 2,
       "version_minor": 0
      },
      "text/plain": [
       "0it [00:00, ?it/s]"
      ]
     },
     "metadata": {},
     "output_type": "display_data"
    },
    {
     "data": {
      "application/vnd.jupyter.widget-view+json": {
       "model_id": "3b0958a3a8bd4da78fd2db5814d2e06c",
       "version_major": 2,
       "version_minor": 0
      },
      "text/plain": [
       "0it [00:00, ?it/s]"
      ]
     },
     "metadata": {},
     "output_type": "display_data"
    },
    {
     "data": {
      "application/vnd.jupyter.widget-view+json": {
       "model_id": "a8c194310185468089719c10d0c51b9d",
       "version_major": 2,
       "version_minor": 0
      },
      "text/plain": [
       "0it [00:00, ?it/s]"
      ]
     },
     "metadata": {},
     "output_type": "display_data"
    },
    {
     "data": {
      "application/vnd.jupyter.widget-view+json": {
       "model_id": "4a8b4bc28a6b41f882af1c8bc67a54b4",
       "version_major": 2,
       "version_minor": 0
      },
      "text/plain": [
       "0it [00:00, ?it/s]"
      ]
     },
     "metadata": {},
     "output_type": "display_data"
    },
    {
     "data": {
      "application/vnd.jupyter.widget-view+json": {
       "model_id": "21472a4bdf1e4b5d93cc7ed93c4080b3",
       "version_major": 2,
       "version_minor": 0
      },
      "text/plain": [
       "0it [00:00, ?it/s]"
      ]
     },
     "metadata": {},
     "output_type": "display_data"
    },
    {
     "data": {
      "application/vnd.jupyter.widget-view+json": {
       "model_id": "4f7037c0efb8481bbbf59d10574742b9",
       "version_major": 2,
       "version_minor": 0
      },
      "text/plain": [
       "0it [00:00, ?it/s]"
      ]
     },
     "metadata": {},
     "output_type": "display_data"
    },
    {
     "data": {
      "application/vnd.jupyter.widget-view+json": {
       "model_id": "72c5d694eeda44179df5c9803e53eb44",
       "version_major": 2,
       "version_minor": 0
      },
      "text/plain": [
       "0it [00:00, ?it/s]"
      ]
     },
     "metadata": {},
     "output_type": "display_data"
    },
    {
     "data": {
      "application/vnd.jupyter.widget-view+json": {
       "model_id": "89a7cb4346854574902473954cd64ba8",
       "version_major": 2,
       "version_minor": 0
      },
      "text/plain": [
       "0it [00:00, ?it/s]"
      ]
     },
     "metadata": {},
     "output_type": "display_data"
    },
    {
     "data": {
      "application/vnd.jupyter.widget-view+json": {
       "model_id": "acf6e7f56f2241eca03bd4d6b2ec2357",
       "version_major": 2,
       "version_minor": 0
      },
      "text/plain": [
       "0it [00:00, ?it/s]"
      ]
     },
     "metadata": {},
     "output_type": "display_data"
    },
    {
     "data": {
      "application/vnd.jupyter.widget-view+json": {
       "model_id": "5eaa1956ae624f44b68092f4e32316bd",
       "version_major": 2,
       "version_minor": 0
      },
      "text/plain": [
       "0it [00:00, ?it/s]"
      ]
     },
     "metadata": {},
     "output_type": "display_data"
    },
    {
     "data": {
      "application/vnd.jupyter.widget-view+json": {
       "model_id": "b4915d8270df4aa48483a68ac77be7bf",
       "version_major": 2,
       "version_minor": 0
      },
      "text/plain": [
       "0it [00:00, ?it/s]"
      ]
     },
     "metadata": {},
     "output_type": "display_data"
    },
    {
     "data": {
      "application/vnd.jupyter.widget-view+json": {
       "model_id": "c01407583d0b46a6a4b5e3ad3b236506",
       "version_major": 2,
       "version_minor": 0
      },
      "text/plain": [
       "0it [00:00, ?it/s]"
      ]
     },
     "metadata": {},
     "output_type": "display_data"
    },
    {
     "data": {
      "application/vnd.jupyter.widget-view+json": {
       "model_id": "c26e54870cc5439893c5c7ef07fefc34",
       "version_major": 2,
       "version_minor": 0
      },
      "text/plain": [
       "0it [00:00, ?it/s]"
      ]
     },
     "metadata": {},
     "output_type": "display_data"
    },
    {
     "data": {
      "application/vnd.jupyter.widget-view+json": {
       "model_id": "cc9b3364ce694f8aa3833f3f95349a37",
       "version_major": 2,
       "version_minor": 0
      },
      "text/plain": [
       "0it [00:00, ?it/s]"
      ]
     },
     "metadata": {},
     "output_type": "display_data"
    },
    {
     "data": {
      "application/vnd.jupyter.widget-view+json": {
       "model_id": "60f5476e72204e0887394679080d74dc",
       "version_major": 2,
       "version_minor": 0
      },
      "text/plain": [
       "0it [00:00, ?it/s]"
      ]
     },
     "metadata": {},
     "output_type": "display_data"
    },
    {
     "data": {
      "application/vnd.jupyter.widget-view+json": {
       "model_id": "a1c7b644d0e946c7bb9b894bc7f00ec3",
       "version_major": 2,
       "version_minor": 0
      },
      "text/plain": [
       "0it [00:00, ?it/s]"
      ]
     },
     "metadata": {},
     "output_type": "display_data"
    },
    {
     "data": {
      "application/vnd.jupyter.widget-view+json": {
       "model_id": "3cfc76e2cdca4177be333e6a573e2421",
       "version_major": 2,
       "version_minor": 0
      },
      "text/plain": [
       "0it [00:00, ?it/s]"
      ]
     },
     "metadata": {},
     "output_type": "display_data"
    },
    {
     "data": {
      "application/vnd.jupyter.widget-view+json": {
       "model_id": "962a9d52651f4b059941e1fce8262e2d",
       "version_major": 2,
       "version_minor": 0
      },
      "text/plain": [
       "0it [00:00, ?it/s]"
      ]
     },
     "metadata": {},
     "output_type": "display_data"
    },
    {
     "data": {
      "application/vnd.jupyter.widget-view+json": {
       "model_id": "2e8337b6fdc54bb3a2fc6ecc8bdb782f",
       "version_major": 2,
       "version_minor": 0
      },
      "text/plain": [
       "0it [00:00, ?it/s]"
      ]
     },
     "metadata": {},
     "output_type": "display_data"
    },
    {
     "data": {
      "application/vnd.jupyter.widget-view+json": {
       "model_id": "d9fc483ba12442eea9dfdfa14a5a7513",
       "version_major": 2,
       "version_minor": 0
      },
      "text/plain": [
       "0it [00:00, ?it/s]"
      ]
     },
     "metadata": {},
     "output_type": "display_data"
    },
    {
     "data": {
      "application/vnd.jupyter.widget-view+json": {
       "model_id": "4d1834fdd896461ab58811d5aca71bfa",
       "version_major": 2,
       "version_minor": 0
      },
      "text/plain": [
       "0it [00:00, ?it/s]"
      ]
     },
     "metadata": {},
     "output_type": "display_data"
    },
    {
     "data": {
      "application/vnd.jupyter.widget-view+json": {
       "model_id": "34fa292cddfa4d5d897802aae60c2116",
       "version_major": 2,
       "version_minor": 0
      },
      "text/plain": [
       "0it [00:00, ?it/s]"
      ]
     },
     "metadata": {},
     "output_type": "display_data"
    },
    {
     "data": {
      "application/vnd.jupyter.widget-view+json": {
       "model_id": "1db6e4e859fa4fcc90e6f357a4bd33cc",
       "version_major": 2,
       "version_minor": 0
      },
      "text/plain": [
       "0it [00:00, ?it/s]"
      ]
     },
     "metadata": {},
     "output_type": "display_data"
    },
    {
     "data": {
      "application/vnd.jupyter.widget-view+json": {
       "model_id": "9711520612ae40f8a956d73925f864d4",
       "version_major": 2,
       "version_minor": 0
      },
      "text/plain": [
       "0it [00:00, ?it/s]"
      ]
     },
     "metadata": {},
     "output_type": "display_data"
    },
    {
     "data": {
      "application/vnd.jupyter.widget-view+json": {
       "model_id": "0e93dfe8284440d39ae72aaefdb4de52",
       "version_major": 2,
       "version_minor": 0
      },
      "text/plain": [
       "0it [00:00, ?it/s]"
      ]
     },
     "metadata": {},
     "output_type": "display_data"
    },
    {
     "data": {
      "application/vnd.jupyter.widget-view+json": {
       "model_id": "a7490daa3e9d40e9bdda335001ea3ff7",
       "version_major": 2,
       "version_minor": 0
      },
      "text/plain": [
       "0it [00:00, ?it/s]"
      ]
     },
     "metadata": {},
     "output_type": "display_data"
    },
    {
     "data": {
      "application/vnd.jupyter.widget-view+json": {
       "model_id": "7ee873aeb2fd49319e1f425ec63b3f03",
       "version_major": 2,
       "version_minor": 0
      },
      "text/plain": [
       "0it [00:00, ?it/s]"
      ]
     },
     "metadata": {},
     "output_type": "display_data"
    },
    {
     "data": {
      "application/vnd.jupyter.widget-view+json": {
       "model_id": "e96e95c4d543444d829dc12df213df7b",
       "version_major": 2,
       "version_minor": 0
      },
      "text/plain": [
       "0it [00:00, ?it/s]"
      ]
     },
     "metadata": {},
     "output_type": "display_data"
    },
    {
     "data": {
      "application/vnd.jupyter.widget-view+json": {
       "model_id": "7fad372a8df34afaa7e425ae089994cf",
       "version_major": 2,
       "version_minor": 0
      },
      "text/plain": [
       "0it [00:00, ?it/s]"
      ]
     },
     "metadata": {},
     "output_type": "display_data"
    },
    {
     "data": {
      "application/vnd.jupyter.widget-view+json": {
       "model_id": "5f238af0dfe14c1fa2b5a647e82ce4da",
       "version_major": 2,
       "version_minor": 0
      },
      "text/plain": [
       "0it [00:00, ?it/s]"
      ]
     },
     "metadata": {},
     "output_type": "display_data"
    },
    {
     "data": {
      "application/vnd.jupyter.widget-view+json": {
       "model_id": "3c79c1eedd5a45379f9dba77bcb6a6f1",
       "version_major": 2,
       "version_minor": 0
      },
      "text/plain": [
       "0it [00:00, ?it/s]"
      ]
     },
     "metadata": {},
     "output_type": "display_data"
    },
    {
     "data": {
      "application/vnd.jupyter.widget-view+json": {
       "model_id": "49550e3929d44f40907183e57c1ccffa",
       "version_major": 2,
       "version_minor": 0
      },
      "text/plain": [
       "0it [00:00, ?it/s]"
      ]
     },
     "metadata": {},
     "output_type": "display_data"
    },
    {
     "data": {
      "application/vnd.jupyter.widget-view+json": {
       "model_id": "75cd6a1d4977420dbf277f9815debfc4",
       "version_major": 2,
       "version_minor": 0
      },
      "text/plain": [
       "0it [00:00, ?it/s]"
      ]
     },
     "metadata": {},
     "output_type": "display_data"
    },
    {
     "data": {
      "application/vnd.jupyter.widget-view+json": {
       "model_id": "3ac77afde9234c5b928b80fa37ee1f9c",
       "version_major": 2,
       "version_minor": 0
      },
      "text/plain": [
       "0it [00:00, ?it/s]"
      ]
     },
     "metadata": {},
     "output_type": "display_data"
    },
    {
     "data": {
      "application/vnd.jupyter.widget-view+json": {
       "model_id": "2d2013e3b19e412ab755f69688be217a",
       "version_major": 2,
       "version_minor": 0
      },
      "text/plain": [
       "0it [00:00, ?it/s]"
      ]
     },
     "metadata": {},
     "output_type": "display_data"
    },
    {
     "data": {
      "application/vnd.jupyter.widget-view+json": {
       "model_id": "b66da05cc51049cea070c0f9f8ec0d50",
       "version_major": 2,
       "version_minor": 0
      },
      "text/plain": [
       "0it [00:00, ?it/s]"
      ]
     },
     "metadata": {},
     "output_type": "display_data"
    },
    {
     "data": {
      "application/vnd.jupyter.widget-view+json": {
       "model_id": "5999cda333504493b94e532a8d444269",
       "version_major": 2,
       "version_minor": 0
      },
      "text/plain": [
       "0it [00:00, ?it/s]"
      ]
     },
     "metadata": {},
     "output_type": "display_data"
    },
    {
     "data": {
      "application/vnd.jupyter.widget-view+json": {
       "model_id": "50f50cb5048c47139e2cc5619b24a492",
       "version_major": 2,
       "version_minor": 0
      },
      "text/plain": [
       "0it [00:00, ?it/s]"
      ]
     },
     "metadata": {},
     "output_type": "display_data"
    },
    {
     "data": {
      "application/vnd.jupyter.widget-view+json": {
       "model_id": "ce0759093ae24279995f4f0981476f45",
       "version_major": 2,
       "version_minor": 0
      },
      "text/plain": [
       "0it [00:00, ?it/s]"
      ]
     },
     "metadata": {},
     "output_type": "display_data"
    },
    {
     "data": {
      "application/vnd.jupyter.widget-view+json": {
       "model_id": "5c925730995e4469bfea7aecca6f3bc2",
       "version_major": 2,
       "version_minor": 0
      },
      "text/plain": [
       "0it [00:00, ?it/s]"
      ]
     },
     "metadata": {},
     "output_type": "display_data"
    },
    {
     "data": {
      "application/vnd.jupyter.widget-view+json": {
       "model_id": "c97d7f157785491db2e62c4dc5ecd0c4",
       "version_major": 2,
       "version_minor": 0
      },
      "text/plain": [
       "0it [00:00, ?it/s]"
      ]
     },
     "metadata": {},
     "output_type": "display_data"
    },
    {
     "data": {
      "application/vnd.jupyter.widget-view+json": {
       "model_id": "68de981cc6584373a4f7bbcbb06073ba",
       "version_major": 2,
       "version_minor": 0
      },
      "text/plain": [
       "0it [00:00, ?it/s]"
      ]
     },
     "metadata": {},
     "output_type": "display_data"
    },
    {
     "data": {
      "application/vnd.jupyter.widget-view+json": {
       "model_id": "fe512a61aafd433db27f8a4d5ad45cd2",
       "version_major": 2,
       "version_minor": 0
      },
      "text/plain": [
       "0it [00:00, ?it/s]"
      ]
     },
     "metadata": {},
     "output_type": "display_data"
    },
    {
     "data": {
      "application/vnd.jupyter.widget-view+json": {
       "model_id": "1ae90bebcdd24f4cb5f35f63c610a791",
       "version_major": 2,
       "version_minor": 0
      },
      "text/plain": [
       "0it [00:00, ?it/s]"
      ]
     },
     "metadata": {},
     "output_type": "display_data"
    },
    {
     "data": {
      "application/vnd.jupyter.widget-view+json": {
       "model_id": "de1c3ddf2dd345c3a45fabba270bdcbd",
       "version_major": 2,
       "version_minor": 0
      },
      "text/plain": [
       "0it [00:00, ?it/s]"
      ]
     },
     "metadata": {},
     "output_type": "display_data"
    },
    {
     "data": {
      "application/vnd.jupyter.widget-view+json": {
       "model_id": "0b89c12bd4af489eba63ce9c421337d3",
       "version_major": 2,
       "version_minor": 0
      },
      "text/plain": [
       "0it [00:00, ?it/s]"
      ]
     },
     "metadata": {},
     "output_type": "display_data"
    },
    {
     "data": {
      "application/vnd.jupyter.widget-view+json": {
       "model_id": "38c5b40673dd468084405f3a36c30b1a",
       "version_major": 2,
       "version_minor": 0
      },
      "text/plain": [
       "0it [00:00, ?it/s]"
      ]
     },
     "metadata": {},
     "output_type": "display_data"
    },
    {
     "data": {
      "application/vnd.jupyter.widget-view+json": {
       "model_id": "7eb3d6c474924ba5a361f90c50528d4e",
       "version_major": 2,
       "version_minor": 0
      },
      "text/plain": [
       "0it [00:00, ?it/s]"
      ]
     },
     "metadata": {},
     "output_type": "display_data"
    },
    {
     "data": {
      "application/vnd.jupyter.widget-view+json": {
       "model_id": "db59137e2abb4f23a6ba46b136189066",
       "version_major": 2,
       "version_minor": 0
      },
      "text/plain": [
       "0it [00:00, ?it/s]"
      ]
     },
     "metadata": {},
     "output_type": "display_data"
    },
    {
     "data": {
      "application/vnd.jupyter.widget-view+json": {
       "model_id": "e17b7ceba642439fa91a5cfb9ec8bc43",
       "version_major": 2,
       "version_minor": 0
      },
      "text/plain": [
       "0it [00:00, ?it/s]"
      ]
     },
     "metadata": {},
     "output_type": "display_data"
    },
    {
     "data": {
      "application/vnd.jupyter.widget-view+json": {
       "model_id": "b1f0c96c626e422fbec968bb44fa646e",
       "version_major": 2,
       "version_minor": 0
      },
      "text/plain": [
       "0it [00:00, ?it/s]"
      ]
     },
     "metadata": {},
     "output_type": "display_data"
    },
    {
     "data": {
      "application/vnd.jupyter.widget-view+json": {
       "model_id": "57e5186a9f0342b0830c1c934dbe1e6c",
       "version_major": 2,
       "version_minor": 0
      },
      "text/plain": [
       "0it [00:00, ?it/s]"
      ]
     },
     "metadata": {},
     "output_type": "display_data"
    },
    {
     "data": {
      "application/vnd.jupyter.widget-view+json": {
       "model_id": "45e120f7271c40a9a60466c90ee2ca27",
       "version_major": 2,
       "version_minor": 0
      },
      "text/plain": [
       "0it [00:00, ?it/s]"
      ]
     },
     "metadata": {},
     "output_type": "display_data"
    },
    {
     "data": {
      "application/vnd.jupyter.widget-view+json": {
       "model_id": "52e95da8b5ef49a5acfa9626edde184d",
       "version_major": 2,
       "version_minor": 0
      },
      "text/plain": [
       "0it [00:00, ?it/s]"
      ]
     },
     "metadata": {},
     "output_type": "display_data"
    },
    {
     "data": {
      "application/vnd.jupyter.widget-view+json": {
       "model_id": "f1ae9ff2263640b08450f7a76d7f59d9",
       "version_major": 2,
       "version_minor": 0
      },
      "text/plain": [
       "0it [00:00, ?it/s]"
      ]
     },
     "metadata": {},
     "output_type": "display_data"
    },
    {
     "data": {
      "application/vnd.jupyter.widget-view+json": {
       "model_id": "a80d8035ad2d43f7a20246c3e6e60726",
       "version_major": 2,
       "version_minor": 0
      },
      "text/plain": [
       "0it [00:00, ?it/s]"
      ]
     },
     "metadata": {},
     "output_type": "display_data"
    },
    {
     "data": {
      "application/vnd.jupyter.widget-view+json": {
       "model_id": "30ad2f1b7cb24938a31354190206f82e",
       "version_major": 2,
       "version_minor": 0
      },
      "text/plain": [
       "0it [00:00, ?it/s]"
      ]
     },
     "metadata": {},
     "output_type": "display_data"
    },
    {
     "data": {
      "application/vnd.jupyter.widget-view+json": {
       "model_id": "8c605cb72a044ded84fd8635c98bec01",
       "version_major": 2,
       "version_minor": 0
      },
      "text/plain": [
       "0it [00:00, ?it/s]"
      ]
     },
     "metadata": {},
     "output_type": "display_data"
    },
    {
     "data": {
      "application/vnd.jupyter.widget-view+json": {
       "model_id": "ac5a440d2351469fa6631b7c6efab66b",
       "version_major": 2,
       "version_minor": 0
      },
      "text/plain": [
       "0it [00:00, ?it/s]"
      ]
     },
     "metadata": {},
     "output_type": "display_data"
    },
    {
     "data": {
      "application/vnd.jupyter.widget-view+json": {
       "model_id": "1c03b7e80af94e53ad470faef3285f09",
       "version_major": 2,
       "version_minor": 0
      },
      "text/plain": [
       "0it [00:00, ?it/s]"
      ]
     },
     "metadata": {},
     "output_type": "display_data"
    },
    {
     "data": {
      "application/vnd.jupyter.widget-view+json": {
       "model_id": "48b6443f111e442d971dc80ef95125d2",
       "version_major": 2,
       "version_minor": 0
      },
      "text/plain": [
       "0it [00:00, ?it/s]"
      ]
     },
     "metadata": {},
     "output_type": "display_data"
    },
    {
     "data": {
      "application/vnd.jupyter.widget-view+json": {
       "model_id": "7864b8a6c2c54a1b855f9d42d3543b9a",
       "version_major": 2,
       "version_minor": 0
      },
      "text/plain": [
       "0it [00:00, ?it/s]"
      ]
     },
     "metadata": {},
     "output_type": "display_data"
    },
    {
     "data": {
      "application/vnd.jupyter.widget-view+json": {
       "model_id": "0b60e2be9c7d4d3da596631ac06faa42",
       "version_major": 2,
       "version_minor": 0
      },
      "text/plain": [
       "0it [00:00, ?it/s]"
      ]
     },
     "metadata": {},
     "output_type": "display_data"
    },
    {
     "data": {
      "application/vnd.jupyter.widget-view+json": {
       "model_id": "634de225c77b47dca78de5dd10b69086",
       "version_major": 2,
       "version_minor": 0
      },
      "text/plain": [
       "0it [00:00, ?it/s]"
      ]
     },
     "metadata": {},
     "output_type": "display_data"
    },
    {
     "data": {
      "application/vnd.jupyter.widget-view+json": {
       "model_id": "8e75ea869f614798a7fcfb093afcb886",
       "version_major": 2,
       "version_minor": 0
      },
      "text/plain": [
       "0it [00:00, ?it/s]"
      ]
     },
     "metadata": {},
     "output_type": "display_data"
    },
    {
     "data": {
      "application/vnd.jupyter.widget-view+json": {
       "model_id": "9071ca0349b54b81bb40a9394e8f2f8e",
       "version_major": 2,
       "version_minor": 0
      },
      "text/plain": [
       "0it [00:00, ?it/s]"
      ]
     },
     "metadata": {},
     "output_type": "display_data"
    },
    {
     "data": {
      "application/vnd.jupyter.widget-view+json": {
       "model_id": "43ac368805b24629898a999954a09d14",
       "version_major": 2,
       "version_minor": 0
      },
      "text/plain": [
       "0it [00:00, ?it/s]"
      ]
     },
     "metadata": {},
     "output_type": "display_data"
    },
    {
     "data": {
      "application/vnd.jupyter.widget-view+json": {
       "model_id": "3b9dbb2cb9ff4fd98219fdc4cb3564ac",
       "version_major": 2,
       "version_minor": 0
      },
      "text/plain": [
       "0it [00:00, ?it/s]"
      ]
     },
     "metadata": {},
     "output_type": "display_data"
    },
    {
     "data": {
      "application/vnd.jupyter.widget-view+json": {
       "model_id": "3ff292077b824907a80f186242847f08",
       "version_major": 2,
       "version_minor": 0
      },
      "text/plain": [
       "0it [00:00, ?it/s]"
      ]
     },
     "metadata": {},
     "output_type": "display_data"
    },
    {
     "data": {
      "application/vnd.jupyter.widget-view+json": {
       "model_id": "e7fa3d5484414f149aa6873bd5bac05c",
       "version_major": 2,
       "version_minor": 0
      },
      "text/plain": [
       "0it [00:00, ?it/s]"
      ]
     },
     "metadata": {},
     "output_type": "display_data"
    },
    {
     "data": {
      "application/vnd.jupyter.widget-view+json": {
       "model_id": "35b562b843754b95a9243cf9b8d1beb6",
       "version_major": 2,
       "version_minor": 0
      },
      "text/plain": [
       "0it [00:00, ?it/s]"
      ]
     },
     "metadata": {},
     "output_type": "display_data"
    },
    {
     "data": {
      "application/vnd.jupyter.widget-view+json": {
       "model_id": "576768f1214a486588e58e7e66e9a879",
       "version_major": 2,
       "version_minor": 0
      },
      "text/plain": [
       "0it [00:00, ?it/s]"
      ]
     },
     "metadata": {},
     "output_type": "display_data"
    },
    {
     "data": {
      "application/vnd.jupyter.widget-view+json": {
       "model_id": "7ce9e24b3c194313bf245f8dd3ec850f",
       "version_major": 2,
       "version_minor": 0
      },
      "text/plain": [
       "0it [00:00, ?it/s]"
      ]
     },
     "metadata": {},
     "output_type": "display_data"
    },
    {
     "data": {
      "application/vnd.jupyter.widget-view+json": {
       "model_id": "c39654a2069b4f0c878d25116f152c05",
       "version_major": 2,
       "version_minor": 0
      },
      "text/plain": [
       "0it [00:00, ?it/s]"
      ]
     },
     "metadata": {},
     "output_type": "display_data"
    },
    {
     "data": {
      "application/vnd.jupyter.widget-view+json": {
       "model_id": "9ac18274d8bc4ffab93add17d0bf56f1",
       "version_major": 2,
       "version_minor": 0
      },
      "text/plain": [
       "0it [00:00, ?it/s]"
      ]
     },
     "metadata": {},
     "output_type": "display_data"
    },
    {
     "data": {
      "application/vnd.jupyter.widget-view+json": {
       "model_id": "818504b4f03044159abc854252722c5b",
       "version_major": 2,
       "version_minor": 0
      },
      "text/plain": [
       "0it [00:00, ?it/s]"
      ]
     },
     "metadata": {},
     "output_type": "display_data"
    },
    {
     "data": {
      "application/vnd.jupyter.widget-view+json": {
       "model_id": "8828dcc7e2e04d2dbb7674f441c1d98e",
       "version_major": 2,
       "version_minor": 0
      },
      "text/plain": [
       "0it [00:00, ?it/s]"
      ]
     },
     "metadata": {},
     "output_type": "display_data"
    },
    {
     "data": {
      "application/vnd.jupyter.widget-view+json": {
       "model_id": "6cbe85b9c42e441d85f46447bbe2a33c",
       "version_major": 2,
       "version_minor": 0
      },
      "text/plain": [
       "0it [00:00, ?it/s]"
      ]
     },
     "metadata": {},
     "output_type": "display_data"
    },
    {
     "data": {
      "application/vnd.jupyter.widget-view+json": {
       "model_id": "231bf8faddd44d27b764df73a0521d25",
       "version_major": 2,
       "version_minor": 0
      },
      "text/plain": [
       "0it [00:00, ?it/s]"
      ]
     },
     "metadata": {},
     "output_type": "display_data"
    },
    {
     "data": {
      "application/vnd.jupyter.widget-view+json": {
       "model_id": "616632079c054470aff3e2c4328b4f7a",
       "version_major": 2,
       "version_minor": 0
      },
      "text/plain": [
       "0it [00:00, ?it/s]"
      ]
     },
     "metadata": {},
     "output_type": "display_data"
    },
    {
     "data": {
      "application/vnd.jupyter.widget-view+json": {
       "model_id": "00ea5a52df904dc9ac028cf46d2a2874",
       "version_major": 2,
       "version_minor": 0
      },
      "text/plain": [
       "0it [00:00, ?it/s]"
      ]
     },
     "metadata": {},
     "output_type": "display_data"
    },
    {
     "data": {
      "application/vnd.jupyter.widget-view+json": {
       "model_id": "3dac6e8233d84cc8b1e944cfcd49c2c6",
       "version_major": 2,
       "version_minor": 0
      },
      "text/plain": [
       "0it [00:00, ?it/s]"
      ]
     },
     "metadata": {},
     "output_type": "display_data"
    },
    {
     "data": {
      "application/vnd.jupyter.widget-view+json": {
       "model_id": "d08b139119c747358c7b0428ea8f03f8",
       "version_major": 2,
       "version_minor": 0
      },
      "text/plain": [
       "0it [00:00, ?it/s]"
      ]
     },
     "metadata": {},
     "output_type": "display_data"
    },
    {
     "data": {
      "application/vnd.jupyter.widget-view+json": {
       "model_id": "ed07d3ff408047b0837fb0753435998b",
       "version_major": 2,
       "version_minor": 0
      },
      "text/plain": [
       "0it [00:00, ?it/s]"
      ]
     },
     "metadata": {},
     "output_type": "display_data"
    },
    {
     "data": {
      "application/vnd.jupyter.widget-view+json": {
       "model_id": "2fad3fc7d2c14f9383baa8809533d256",
       "version_major": 2,
       "version_minor": 0
      },
      "text/plain": [
       "0it [00:00, ?it/s]"
      ]
     },
     "metadata": {},
     "output_type": "display_data"
    },
    {
     "data": {
      "application/vnd.jupyter.widget-view+json": {
       "model_id": "4b649b128f82477c8c321698eb462328",
       "version_major": 2,
       "version_minor": 0
      },
      "text/plain": [
       "0it [00:00, ?it/s]"
      ]
     },
     "metadata": {},
     "output_type": "display_data"
    },
    {
     "data": {
      "application/vnd.jupyter.widget-view+json": {
       "model_id": "84a5b7f475284ef085872cd789f8e8f7",
       "version_major": 2,
       "version_minor": 0
      },
      "text/plain": [
       "0it [00:00, ?it/s]"
      ]
     },
     "metadata": {},
     "output_type": "display_data"
    },
    {
     "data": {
      "application/vnd.jupyter.widget-view+json": {
       "model_id": "8427518ad12b4fcc84349ad71e4eec81",
       "version_major": 2,
       "version_minor": 0
      },
      "text/plain": [
       "0it [00:00, ?it/s]"
      ]
     },
     "metadata": {},
     "output_type": "display_data"
    },
    {
     "data": {
      "application/vnd.jupyter.widget-view+json": {
       "model_id": "04c8b1534b484f5bad183a8e3755613b",
       "version_major": 2,
       "version_minor": 0
      },
      "text/plain": [
       "0it [00:00, ?it/s]"
      ]
     },
     "metadata": {},
     "output_type": "display_data"
    },
    {
     "data": {
      "application/vnd.jupyter.widget-view+json": {
       "model_id": "9c3141ce8bd44aca93dc8ddd6b13c537",
       "version_major": 2,
       "version_minor": 0
      },
      "text/plain": [
       "0it [00:00, ?it/s]"
      ]
     },
     "metadata": {},
     "output_type": "display_data"
    },
    {
     "data": {
      "application/vnd.jupyter.widget-view+json": {
       "model_id": "7182362bd0554f81917e45e56def0266",
       "version_major": 2,
       "version_minor": 0
      },
      "text/plain": [
       "0it [00:00, ?it/s]"
      ]
     },
     "metadata": {},
     "output_type": "display_data"
    },
    {
     "data": {
      "application/vnd.jupyter.widget-view+json": {
       "model_id": "a525007a23ad4d0a816d6cb8e1fc51fc",
       "version_major": 2,
       "version_minor": 0
      },
      "text/plain": [
       "0it [00:00, ?it/s]"
      ]
     },
     "metadata": {},
     "output_type": "display_data"
    },
    {
     "data": {
      "application/vnd.jupyter.widget-view+json": {
       "model_id": "2d60a979266c4fdb9273a48e965aaddc",
       "version_major": 2,
       "version_minor": 0
      },
      "text/plain": [
       "0it [00:00, ?it/s]"
      ]
     },
     "metadata": {},
     "output_type": "display_data"
    },
    {
     "data": {
      "application/vnd.jupyter.widget-view+json": {
       "model_id": "a4b7fb4a3b074ee7914d068b50dd50db",
       "version_major": 2,
       "version_minor": 0
      },
      "text/plain": [
       "0it [00:00, ?it/s]"
      ]
     },
     "metadata": {},
     "output_type": "display_data"
    },
    {
     "data": {
      "application/vnd.jupyter.widget-view+json": {
       "model_id": "a792fa2905064aeb9f7bca329cbc4b90",
       "version_major": 2,
       "version_minor": 0
      },
      "text/plain": [
       "0it [00:00, ?it/s]"
      ]
     },
     "metadata": {},
     "output_type": "display_data"
    },
    {
     "data": {
      "application/vnd.jupyter.widget-view+json": {
       "model_id": "4423954dbc4b44d9b7ca6adb613ed419",
       "version_major": 2,
       "version_minor": 0
      },
      "text/plain": [
       "0it [00:00, ?it/s]"
      ]
     },
     "metadata": {},
     "output_type": "display_data"
    },
    {
     "data": {
      "application/vnd.jupyter.widget-view+json": {
       "model_id": "1fbdac8995454005a6772b30816f2fbf",
       "version_major": 2,
       "version_minor": 0
      },
      "text/plain": [
       "0it [00:00, ?it/s]"
      ]
     },
     "metadata": {},
     "output_type": "display_data"
    },
    {
     "data": {
      "application/vnd.jupyter.widget-view+json": {
       "model_id": "c0d50e0db3b44515b79662af81b4cf03",
       "version_major": 2,
       "version_minor": 0
      },
      "text/plain": [
       "0it [00:00, ?it/s]"
      ]
     },
     "metadata": {},
     "output_type": "display_data"
    },
    {
     "data": {
      "application/vnd.jupyter.widget-view+json": {
       "model_id": "3629ae00720b4f46bea703c85ca0011b",
       "version_major": 2,
       "version_minor": 0
      },
      "text/plain": [
       "0it [00:00, ?it/s]"
      ]
     },
     "metadata": {},
     "output_type": "display_data"
    },
    {
     "data": {
      "application/vnd.jupyter.widget-view+json": {
       "model_id": "bfaaf811dc214491bcd4f80c43c86f7d",
       "version_major": 2,
       "version_minor": 0
      },
      "text/plain": [
       "0it [00:00, ?it/s]"
      ]
     },
     "metadata": {},
     "output_type": "display_data"
    },
    {
     "data": {
      "application/vnd.jupyter.widget-view+json": {
       "model_id": "c5d2f46e1f0f464c8b6860b633b47d9b",
       "version_major": 2,
       "version_minor": 0
      },
      "text/plain": [
       "0it [00:00, ?it/s]"
      ]
     },
     "metadata": {},
     "output_type": "display_data"
    },
    {
     "data": {
      "application/vnd.jupyter.widget-view+json": {
       "model_id": "174f21bdff2944c691f68e76dcf92641",
       "version_major": 2,
       "version_minor": 0
      },
      "text/plain": [
       "0it [00:00, ?it/s]"
      ]
     },
     "metadata": {},
     "output_type": "display_data"
    },
    {
     "data": {
      "application/vnd.jupyter.widget-view+json": {
       "model_id": "0d2ac8597dd141e0a9e5a435a239555c",
       "version_major": 2,
       "version_minor": 0
      },
      "text/plain": [
       "0it [00:00, ?it/s]"
      ]
     },
     "metadata": {},
     "output_type": "display_data"
    },
    {
     "data": {
      "application/vnd.jupyter.widget-view+json": {
       "model_id": "167df21729a1426ca63b67c7f90bec74",
       "version_major": 2,
       "version_minor": 0
      },
      "text/plain": [
       "0it [00:00, ?it/s]"
      ]
     },
     "metadata": {},
     "output_type": "display_data"
    },
    {
     "data": {
      "application/vnd.jupyter.widget-view+json": {
       "model_id": "fb42f3245c734058a69a3fabe708a30d",
       "version_major": 2,
       "version_minor": 0
      },
      "text/plain": [
       "0it [00:00, ?it/s]"
      ]
     },
     "metadata": {},
     "output_type": "display_data"
    },
    {
     "data": {
      "application/vnd.jupyter.widget-view+json": {
       "model_id": "d0129b2951424f0da3c58c12f2c2e959",
       "version_major": 2,
       "version_minor": 0
      },
      "text/plain": [
       "0it [00:00, ?it/s]"
      ]
     },
     "metadata": {},
     "output_type": "display_data"
    },
    {
     "data": {
      "application/vnd.jupyter.widget-view+json": {
       "model_id": "e8ae08d341ea4345bb430d1dde525391",
       "version_major": 2,
       "version_minor": 0
      },
      "text/plain": [
       "0it [00:00, ?it/s]"
      ]
     },
     "metadata": {},
     "output_type": "display_data"
    },
    {
     "data": {
      "application/vnd.jupyter.widget-view+json": {
       "model_id": "a0f6a78f5c974a1490cd52f0320fa2cf",
       "version_major": 2,
       "version_minor": 0
      },
      "text/plain": [
       "0it [00:00, ?it/s]"
      ]
     },
     "metadata": {},
     "output_type": "display_data"
    },
    {
     "data": {
      "application/vnd.jupyter.widget-view+json": {
       "model_id": "cdb2cdca18fb4001ae2e989b988a40a4",
       "version_major": 2,
       "version_minor": 0
      },
      "text/plain": [
       "0it [00:00, ?it/s]"
      ]
     },
     "metadata": {},
     "output_type": "display_data"
    },
    {
     "data": {
      "application/vnd.jupyter.widget-view+json": {
       "model_id": "67f6a8805ecd4f00ac90198b26c79084",
       "version_major": 2,
       "version_minor": 0
      },
      "text/plain": [
       "0it [00:00, ?it/s]"
      ]
     },
     "metadata": {},
     "output_type": "display_data"
    },
    {
     "data": {
      "application/vnd.jupyter.widget-view+json": {
       "model_id": "725d805e2b5b41ea97ef7736e817eee3",
       "version_major": 2,
       "version_minor": 0
      },
      "text/plain": [
       "0it [00:00, ?it/s]"
      ]
     },
     "metadata": {},
     "output_type": "display_data"
    },
    {
     "data": {
      "application/vnd.jupyter.widget-view+json": {
       "model_id": "260c61192dca434399bcf7c65bf41906",
       "version_major": 2,
       "version_minor": 0
      },
      "text/plain": [
       "0it [00:00, ?it/s]"
      ]
     },
     "metadata": {},
     "output_type": "display_data"
    },
    {
     "data": {
      "application/vnd.jupyter.widget-view+json": {
       "model_id": "8f5ea230c3b941aea9dc98d4424f19f4",
       "version_major": 2,
       "version_minor": 0
      },
      "text/plain": [
       "0it [00:00, ?it/s]"
      ]
     },
     "metadata": {},
     "output_type": "display_data"
    },
    {
     "data": {
      "application/vnd.jupyter.widget-view+json": {
       "model_id": "6c28477584bf4da098aa3dec2b1d2c0f",
       "version_major": 2,
       "version_minor": 0
      },
      "text/plain": [
       "0it [00:00, ?it/s]"
      ]
     },
     "metadata": {},
     "output_type": "display_data"
    },
    {
     "data": {
      "application/vnd.jupyter.widget-view+json": {
       "model_id": "78b471172d2340ae848476cb0ee6bfc8",
       "version_major": 2,
       "version_minor": 0
      },
      "text/plain": [
       "0it [00:00, ?it/s]"
      ]
     },
     "metadata": {},
     "output_type": "display_data"
    },
    {
     "data": {
      "application/vnd.jupyter.widget-view+json": {
       "model_id": "1e3395ab63be4e058d262a06956730e3",
       "version_major": 2,
       "version_minor": 0
      },
      "text/plain": [
       "0it [00:00, ?it/s]"
      ]
     },
     "metadata": {},
     "output_type": "display_data"
    },
    {
     "data": {
      "application/vnd.jupyter.widget-view+json": {
       "model_id": "b77304b15a434e3d8d28437c695f26ad",
       "version_major": 2,
       "version_minor": 0
      },
      "text/plain": [
       "0it [00:00, ?it/s]"
      ]
     },
     "metadata": {},
     "output_type": "display_data"
    },
    {
     "data": {
      "application/vnd.jupyter.widget-view+json": {
       "model_id": "dd2a0661c1084cdfa976b60b83fdc1b4",
       "version_major": 2,
       "version_minor": 0
      },
      "text/plain": [
       "0it [00:00, ?it/s]"
      ]
     },
     "metadata": {},
     "output_type": "display_data"
    },
    {
     "data": {
      "application/vnd.jupyter.widget-view+json": {
       "model_id": "0759ca3032f347798824cef491e7ba7b",
       "version_major": 2,
       "version_minor": 0
      },
      "text/plain": [
       "0it [00:00, ?it/s]"
      ]
     },
     "metadata": {},
     "output_type": "display_data"
    },
    {
     "data": {
      "application/vnd.jupyter.widget-view+json": {
       "model_id": "e027d288b9144f6abfb3e9dbd0e41652",
       "version_major": 2,
       "version_minor": 0
      },
      "text/plain": [
       "0it [00:00, ?it/s]"
      ]
     },
     "metadata": {},
     "output_type": "display_data"
    },
    {
     "data": {
      "application/vnd.jupyter.widget-view+json": {
       "model_id": "79536ab493f041bfb66aeca41b4079ac",
       "version_major": 2,
       "version_minor": 0
      },
      "text/plain": [
       "0it [00:00, ?it/s]"
      ]
     },
     "metadata": {},
     "output_type": "display_data"
    },
    {
     "data": {
      "application/vnd.jupyter.widget-view+json": {
       "model_id": "45484107644e4abc98723db0d0359ac4",
       "version_major": 2,
       "version_minor": 0
      },
      "text/plain": [
       "0it [00:00, ?it/s]"
      ]
     },
     "metadata": {},
     "output_type": "display_data"
    },
    {
     "data": {
      "application/vnd.jupyter.widget-view+json": {
       "model_id": "4262507c2ef04d2c9846824d02d9d93e",
       "version_major": 2,
       "version_minor": 0
      },
      "text/plain": [
       "0it [00:00, ?it/s]"
      ]
     },
     "metadata": {},
     "output_type": "display_data"
    },
    {
     "data": {
      "application/vnd.jupyter.widget-view+json": {
       "model_id": "759e8552c2894a2f958725d7701d6f52",
       "version_major": 2,
       "version_minor": 0
      },
      "text/plain": [
       "0it [00:00, ?it/s]"
      ]
     },
     "metadata": {},
     "output_type": "display_data"
    },
    {
     "data": {
      "application/vnd.jupyter.widget-view+json": {
       "model_id": "7d08dafe62884fc19165faea7089dee2",
       "version_major": 2,
       "version_minor": 0
      },
      "text/plain": [
       "0it [00:00, ?it/s]"
      ]
     },
     "metadata": {},
     "output_type": "display_data"
    },
    {
     "data": {
      "application/vnd.jupyter.widget-view+json": {
       "model_id": "68e4b7b82eb3457394418675c8683cd0",
       "version_major": 2,
       "version_minor": 0
      },
      "text/plain": [
       "0it [00:00, ?it/s]"
      ]
     },
     "metadata": {},
     "output_type": "display_data"
    },
    {
     "data": {
      "application/vnd.jupyter.widget-view+json": {
       "model_id": "c83324224c804ef3970738dd1cb25f68",
       "version_major": 2,
       "version_minor": 0
      },
      "text/plain": [
       "0it [00:00, ?it/s]"
      ]
     },
     "metadata": {},
     "output_type": "display_data"
    },
    {
     "data": {
      "application/vnd.jupyter.widget-view+json": {
       "model_id": "fe414121a1ca4e5e9fdf6038a199fb96",
       "version_major": 2,
       "version_minor": 0
      },
      "text/plain": [
       "0it [00:00, ?it/s]"
      ]
     },
     "metadata": {},
     "output_type": "display_data"
    },
    {
     "data": {
      "application/vnd.jupyter.widget-view+json": {
       "model_id": "0750383823bd4b648d6246e203fa0cf0",
       "version_major": 2,
       "version_minor": 0
      },
      "text/plain": [
       "0it [00:00, ?it/s]"
      ]
     },
     "metadata": {},
     "output_type": "display_data"
    },
    {
     "data": {
      "application/vnd.jupyter.widget-view+json": {
       "model_id": "c5feb06fea494c08ae3489015f6e4863",
       "version_major": 2,
       "version_minor": 0
      },
      "text/plain": [
       "0it [00:00, ?it/s]"
      ]
     },
     "metadata": {},
     "output_type": "display_data"
    },
    {
     "data": {
      "application/vnd.jupyter.widget-view+json": {
       "model_id": "b0626a19fb24415eb45e61a8fa8497d7",
       "version_major": 2,
       "version_minor": 0
      },
      "text/plain": [
       "0it [00:00, ?it/s]"
      ]
     },
     "metadata": {},
     "output_type": "display_data"
    },
    {
     "data": {
      "application/vnd.jupyter.widget-view+json": {
       "model_id": "c472370970834eb78145e1b0b11a68e7",
       "version_major": 2,
       "version_minor": 0
      },
      "text/plain": [
       "0it [00:00, ?it/s]"
      ]
     },
     "metadata": {},
     "output_type": "display_data"
    },
    {
     "data": {
      "application/vnd.jupyter.widget-view+json": {
       "model_id": "4c279f882b5a410d882ad44fc382fa40",
       "version_major": 2,
       "version_minor": 0
      },
      "text/plain": [
       "0it [00:00, ?it/s]"
      ]
     },
     "metadata": {},
     "output_type": "display_data"
    },
    {
     "data": {
      "application/vnd.jupyter.widget-view+json": {
       "model_id": "b51570efb45b46e5913a28e12addbc75",
       "version_major": 2,
       "version_minor": 0
      },
      "text/plain": [
       "0it [00:00, ?it/s]"
      ]
     },
     "metadata": {},
     "output_type": "display_data"
    },
    {
     "data": {
      "application/vnd.jupyter.widget-view+json": {
       "model_id": "aabd78937fa34ecc80e58442b06505b0",
       "version_major": 2,
       "version_minor": 0
      },
      "text/plain": [
       "0it [00:00, ?it/s]"
      ]
     },
     "metadata": {},
     "output_type": "display_data"
    },
    {
     "data": {
      "application/vnd.jupyter.widget-view+json": {
       "model_id": "e07d82bad9574726a9c02b9e45fe0a5a",
       "version_major": 2,
       "version_minor": 0
      },
      "text/plain": [
       "0it [00:00, ?it/s]"
      ]
     },
     "metadata": {},
     "output_type": "display_data"
    },
    {
     "data": {
      "application/vnd.jupyter.widget-view+json": {
       "model_id": "cf0e50a923c44329aa5d37a8a69b9ca2",
       "version_major": 2,
       "version_minor": 0
      },
      "text/plain": [
       "0it [00:00, ?it/s]"
      ]
     },
     "metadata": {},
     "output_type": "display_data"
    },
    {
     "data": {
      "application/vnd.jupyter.widget-view+json": {
       "model_id": "6e28967b19344e9980a6a63df5b54545",
       "version_major": 2,
       "version_minor": 0
      },
      "text/plain": [
       "0it [00:00, ?it/s]"
      ]
     },
     "metadata": {},
     "output_type": "display_data"
    },
    {
     "data": {
      "application/vnd.jupyter.widget-view+json": {
       "model_id": "93c5d919b043446ba0c86055a43aafbb",
       "version_major": 2,
       "version_minor": 0
      },
      "text/plain": [
       "0it [00:00, ?it/s]"
      ]
     },
     "metadata": {},
     "output_type": "display_data"
    },
    {
     "data": {
      "application/vnd.jupyter.widget-view+json": {
       "model_id": "26775d47812c41e0895fa926e0f7180f",
       "version_major": 2,
       "version_minor": 0
      },
      "text/plain": [
       "0it [00:00, ?it/s]"
      ]
     },
     "metadata": {},
     "output_type": "display_data"
    },
    {
     "data": {
      "application/vnd.jupyter.widget-view+json": {
       "model_id": "601c78f3d5cb4e13ae9322a0fb127921",
       "version_major": 2,
       "version_minor": 0
      },
      "text/plain": [
       "0it [00:00, ?it/s]"
      ]
     },
     "metadata": {},
     "output_type": "display_data"
    },
    {
     "data": {
      "application/vnd.jupyter.widget-view+json": {
       "model_id": "1c7605de2fc94f37b3e32788a5b05249",
       "version_major": 2,
       "version_minor": 0
      },
      "text/plain": [
       "0it [00:00, ?it/s]"
      ]
     },
     "metadata": {},
     "output_type": "display_data"
    },
    {
     "data": {
      "application/vnd.jupyter.widget-view+json": {
       "model_id": "dfaea681e4cb4e3586940f7709275cd3",
       "version_major": 2,
       "version_minor": 0
      },
      "text/plain": [
       "0it [00:00, ?it/s]"
      ]
     },
     "metadata": {},
     "output_type": "display_data"
    },
    {
     "data": {
      "application/vnd.jupyter.widget-view+json": {
       "model_id": "b9277d055faa41e788d99c2bf41d12d3",
       "version_major": 2,
       "version_minor": 0
      },
      "text/plain": [
       "0it [00:00, ?it/s]"
      ]
     },
     "metadata": {},
     "output_type": "display_data"
    },
    {
     "data": {
      "application/vnd.jupyter.widget-view+json": {
       "model_id": "4090cfa46096455bb9a04b4bf1939c71",
       "version_major": 2,
       "version_minor": 0
      },
      "text/plain": [
       "0it [00:00, ?it/s]"
      ]
     },
     "metadata": {},
     "output_type": "display_data"
    },
    {
     "data": {
      "application/vnd.jupyter.widget-view+json": {
       "model_id": "88613ae6c4c643bc89f03674d8769840",
       "version_major": 2,
       "version_minor": 0
      },
      "text/plain": [
       "0it [00:00, ?it/s]"
      ]
     },
     "metadata": {},
     "output_type": "display_data"
    },
    {
     "data": {
      "application/vnd.jupyter.widget-view+json": {
       "model_id": "c882a8cbbf7c47eebec9737f5e8ab136",
       "version_major": 2,
       "version_minor": 0
      },
      "text/plain": [
       "0it [00:00, ?it/s]"
      ]
     },
     "metadata": {},
     "output_type": "display_data"
    },
    {
     "data": {
      "application/vnd.jupyter.widget-view+json": {
       "model_id": "038473d3941e4b1a965ebeac25576693",
       "version_major": 2,
       "version_minor": 0
      },
      "text/plain": [
       "0it [00:00, ?it/s]"
      ]
     },
     "metadata": {},
     "output_type": "display_data"
    },
    {
     "data": {
      "application/vnd.jupyter.widget-view+json": {
       "model_id": "71b930b0863f401d8775c9c912c6cd4a",
       "version_major": 2,
       "version_minor": 0
      },
      "text/plain": [
       "0it [00:00, ?it/s]"
      ]
     },
     "metadata": {},
     "output_type": "display_data"
    },
    {
     "data": {
      "application/vnd.jupyter.widget-view+json": {
       "model_id": "37598b30072f4dd9a7b19e52f32df2fd",
       "version_major": 2,
       "version_minor": 0
      },
      "text/plain": [
       "0it [00:00, ?it/s]"
      ]
     },
     "metadata": {},
     "output_type": "display_data"
    },
    {
     "data": {
      "application/vnd.jupyter.widget-view+json": {
       "model_id": "58d788490063418a8151be28416a5ae9",
       "version_major": 2,
       "version_minor": 0
      },
      "text/plain": [
       "0it [00:00, ?it/s]"
      ]
     },
     "metadata": {},
     "output_type": "display_data"
    },
    {
     "data": {
      "application/vnd.jupyter.widget-view+json": {
       "model_id": "ec70055c7e934e7e87f11910b4a6ef97",
       "version_major": 2,
       "version_minor": 0
      },
      "text/plain": [
       "0it [00:00, ?it/s]"
      ]
     },
     "metadata": {},
     "output_type": "display_data"
    },
    {
     "data": {
      "application/vnd.jupyter.widget-view+json": {
       "model_id": "bd8d57cad4f04b1387bf426bbf93bb92",
       "version_major": 2,
       "version_minor": 0
      },
      "text/plain": [
       "0it [00:00, ?it/s]"
      ]
     },
     "metadata": {},
     "output_type": "display_data"
    },
    {
     "data": {
      "application/vnd.jupyter.widget-view+json": {
       "model_id": "75c15aecdece4fae92f9a01dbc98cdd9",
       "version_major": 2,
       "version_minor": 0
      },
      "text/plain": [
       "0it [00:00, ?it/s]"
      ]
     },
     "metadata": {},
     "output_type": "display_data"
    },
    {
     "data": {
      "application/vnd.jupyter.widget-view+json": {
       "model_id": "a9c0b60108074e869088ba4bf0499fbe",
       "version_major": 2,
       "version_minor": 0
      },
      "text/plain": [
       "0it [00:00, ?it/s]"
      ]
     },
     "metadata": {},
     "output_type": "display_data"
    },
    {
     "data": {
      "application/vnd.jupyter.widget-view+json": {
       "model_id": "99b8f8bb1ab945dd9465034f5dd44698",
       "version_major": 2,
       "version_minor": 0
      },
      "text/plain": [
       "0it [00:00, ?it/s]"
      ]
     },
     "metadata": {},
     "output_type": "display_data"
    },
    {
     "data": {
      "application/vnd.jupyter.widget-view+json": {
       "model_id": "1d0b7471cf294c359199b0205e0859fd",
       "version_major": 2,
       "version_minor": 0
      },
      "text/plain": [
       "0it [00:00, ?it/s]"
      ]
     },
     "metadata": {},
     "output_type": "display_data"
    },
    {
     "data": {
      "application/vnd.jupyter.widget-view+json": {
       "model_id": "1cb03fa7c67e4cca8574e66f04ca715e",
       "version_major": 2,
       "version_minor": 0
      },
      "text/plain": [
       "0it [00:00, ?it/s]"
      ]
     },
     "metadata": {},
     "output_type": "display_data"
    },
    {
     "data": {
      "application/vnd.jupyter.widget-view+json": {
       "model_id": "822f9543d09646ea81df3c711bc8989f",
       "version_major": 2,
       "version_minor": 0
      },
      "text/plain": [
       "0it [00:00, ?it/s]"
      ]
     },
     "metadata": {},
     "output_type": "display_data"
    },
    {
     "data": {
      "application/vnd.jupyter.widget-view+json": {
       "model_id": "995ea646eb634a14ad1ed32037b616f4",
       "version_major": 2,
       "version_minor": 0
      },
      "text/plain": [
       "0it [00:00, ?it/s]"
      ]
     },
     "metadata": {},
     "output_type": "display_data"
    },
    {
     "data": {
      "application/vnd.jupyter.widget-view+json": {
       "model_id": "d1c660bec8f64b548013b6151032225b",
       "version_major": 2,
       "version_minor": 0
      },
      "text/plain": [
       "0it [00:00, ?it/s]"
      ]
     },
     "metadata": {},
     "output_type": "display_data"
    },
    {
     "data": {
      "application/vnd.jupyter.widget-view+json": {
       "model_id": "5fe474911cf649489da4496d453c0b26",
       "version_major": 2,
       "version_minor": 0
      },
      "text/plain": [
       "0it [00:00, ?it/s]"
      ]
     },
     "metadata": {},
     "output_type": "display_data"
    },
    {
     "data": {
      "application/vnd.jupyter.widget-view+json": {
       "model_id": "955569128a14444b85a536d8c4569735",
       "version_major": 2,
       "version_minor": 0
      },
      "text/plain": [
       "0it [00:00, ?it/s]"
      ]
     },
     "metadata": {},
     "output_type": "display_data"
    },
    {
     "data": {
      "application/vnd.jupyter.widget-view+json": {
       "model_id": "ced5e24a71df44d2949622d4c3304980",
       "version_major": 2,
       "version_minor": 0
      },
      "text/plain": [
       "0it [00:00, ?it/s]"
      ]
     },
     "metadata": {},
     "output_type": "display_data"
    },
    {
     "data": {
      "application/vnd.jupyter.widget-view+json": {
       "model_id": "b4f82b0b225140f090d38e99517c5af1",
       "version_major": 2,
       "version_minor": 0
      },
      "text/plain": [
       "0it [00:00, ?it/s]"
      ]
     },
     "metadata": {},
     "output_type": "display_data"
    },
    {
     "data": {
      "application/vnd.jupyter.widget-view+json": {
       "model_id": "45bc787a576447dbb656b523957ee05c",
       "version_major": 2,
       "version_minor": 0
      },
      "text/plain": [
       "0it [00:00, ?it/s]"
      ]
     },
     "metadata": {},
     "output_type": "display_data"
    },
    {
     "data": {
      "application/vnd.jupyter.widget-view+json": {
       "model_id": "e7f0eedd1ee847988c1495f885fcb55f",
       "version_major": 2,
       "version_minor": 0
      },
      "text/plain": [
       "0it [00:00, ?it/s]"
      ]
     },
     "metadata": {},
     "output_type": "display_data"
    },
    {
     "data": {
      "application/vnd.jupyter.widget-view+json": {
       "model_id": "bb44332bdde344f9aea8d7fe1a13b14a",
       "version_major": 2,
       "version_minor": 0
      },
      "text/plain": [
       "0it [00:00, ?it/s]"
      ]
     },
     "metadata": {},
     "output_type": "display_data"
    },
    {
     "data": {
      "application/vnd.jupyter.widget-view+json": {
       "model_id": "9de0e57a33df4e4fb15efd94967c32aa",
       "version_major": 2,
       "version_minor": 0
      },
      "text/plain": [
       "0it [00:00, ?it/s]"
      ]
     },
     "metadata": {},
     "output_type": "display_data"
    },
    {
     "data": {
      "application/vnd.jupyter.widget-view+json": {
       "model_id": "f63ceeb35d044202a9f88fc1a3efede4",
       "version_major": 2,
       "version_minor": 0
      },
      "text/plain": [
       "0it [00:00, ?it/s]"
      ]
     },
     "metadata": {},
     "output_type": "display_data"
    },
    {
     "data": {
      "application/vnd.jupyter.widget-view+json": {
       "model_id": "2f84aae536e04277aa90d72d93432ef5",
       "version_major": 2,
       "version_minor": 0
      },
      "text/plain": [
       "0it [00:00, ?it/s]"
      ]
     },
     "metadata": {},
     "output_type": "display_data"
    },
    {
     "data": {
      "application/vnd.jupyter.widget-view+json": {
       "model_id": "4fde0687788249b2a192d40e902e9d41",
       "version_major": 2,
       "version_minor": 0
      },
      "text/plain": [
       "0it [00:00, ?it/s]"
      ]
     },
     "metadata": {},
     "output_type": "display_data"
    },
    {
     "data": {
      "application/vnd.jupyter.widget-view+json": {
       "model_id": "7f78cc9e20774ce3a25631e793ca21ce",
       "version_major": 2,
       "version_minor": 0
      },
      "text/plain": [
       "0it [00:00, ?it/s]"
      ]
     },
     "metadata": {},
     "output_type": "display_data"
    },
    {
     "data": {
      "application/vnd.jupyter.widget-view+json": {
       "model_id": "b659605cfc514c3bb7d1c75d6fc72842",
       "version_major": 2,
       "version_minor": 0
      },
      "text/plain": [
       "0it [00:00, ?it/s]"
      ]
     },
     "metadata": {},
     "output_type": "display_data"
    },
    {
     "data": {
      "application/vnd.jupyter.widget-view+json": {
       "model_id": "30946c18ca34432480464c33525bd3b1",
       "version_major": 2,
       "version_minor": 0
      },
      "text/plain": [
       "0it [00:00, ?it/s]"
      ]
     },
     "metadata": {},
     "output_type": "display_data"
    },
    {
     "data": {
      "application/vnd.jupyter.widget-view+json": {
       "model_id": "c441c6a5471c493a81578839da4356ea",
       "version_major": 2,
       "version_minor": 0
      },
      "text/plain": [
       "0it [00:00, ?it/s]"
      ]
     },
     "metadata": {},
     "output_type": "display_data"
    },
    {
     "data": {
      "application/vnd.jupyter.widget-view+json": {
       "model_id": "79bc232c0e9f4d888eb2f494c9c1c4dc",
       "version_major": 2,
       "version_minor": 0
      },
      "text/plain": [
       "0it [00:00, ?it/s]"
      ]
     },
     "metadata": {},
     "output_type": "display_data"
    },
    {
     "data": {
      "application/vnd.jupyter.widget-view+json": {
       "model_id": "d53352f634f64c1eaf658ea6ed2cf934",
       "version_major": 2,
       "version_minor": 0
      },
      "text/plain": [
       "0it [00:00, ?it/s]"
      ]
     },
     "metadata": {},
     "output_type": "display_data"
    },
    {
     "data": {
      "application/vnd.jupyter.widget-view+json": {
       "model_id": "b5b41160ed7d4b8d976ca024cb995bc5",
       "version_major": 2,
       "version_minor": 0
      },
      "text/plain": [
       "0it [00:00, ?it/s]"
      ]
     },
     "metadata": {},
     "output_type": "display_data"
    },
    {
     "data": {
      "application/vnd.jupyter.widget-view+json": {
       "model_id": "78e31fa2b2914df8b9afd631c2bae746",
       "version_major": 2,
       "version_minor": 0
      },
      "text/plain": [
       "0it [00:00, ?it/s]"
      ]
     },
     "metadata": {},
     "output_type": "display_data"
    },
    {
     "data": {
      "application/vnd.jupyter.widget-view+json": {
       "model_id": "a00cb3de8daf4e80a1c6f7b35a44f5fa",
       "version_major": 2,
       "version_minor": 0
      },
      "text/plain": [
       "0it [00:00, ?it/s]"
      ]
     },
     "metadata": {},
     "output_type": "display_data"
    },
    {
     "data": {
      "application/vnd.jupyter.widget-view+json": {
       "model_id": "b28e82c751394856bb1808a8da3a0b68",
       "version_major": 2,
       "version_minor": 0
      },
      "text/plain": [
       "0it [00:00, ?it/s]"
      ]
     },
     "metadata": {},
     "output_type": "display_data"
    },
    {
     "data": {
      "application/vnd.jupyter.widget-view+json": {
       "model_id": "40a389165809498894c05a05a90970c9",
       "version_major": 2,
       "version_minor": 0
      },
      "text/plain": [
       "0it [00:00, ?it/s]"
      ]
     },
     "metadata": {},
     "output_type": "display_data"
    },
    {
     "data": {
      "application/vnd.jupyter.widget-view+json": {
       "model_id": "367bdb6af6e94803bdd09bec8d355ec3",
       "version_major": 2,
       "version_minor": 0
      },
      "text/plain": [
       "0it [00:00, ?it/s]"
      ]
     },
     "metadata": {},
     "output_type": "display_data"
    },
    {
     "data": {
      "application/vnd.jupyter.widget-view+json": {
       "model_id": "2e152b62a4ef4940bd1a71bd4786cdd3",
       "version_major": 2,
       "version_minor": 0
      },
      "text/plain": [
       "0it [00:00, ?it/s]"
      ]
     },
     "metadata": {},
     "output_type": "display_data"
    },
    {
     "data": {
      "application/vnd.jupyter.widget-view+json": {
       "model_id": "dc2b1cb3486145b8b80e02af2c26b1a7",
       "version_major": 2,
       "version_minor": 0
      },
      "text/plain": [
       "0it [00:00, ?it/s]"
      ]
     },
     "metadata": {},
     "output_type": "display_data"
    },
    {
     "data": {
      "application/vnd.jupyter.widget-view+json": {
       "model_id": "05387ce24a4947138e07490596ecb0a5",
       "version_major": 2,
       "version_minor": 0
      },
      "text/plain": [
       "0it [00:00, ?it/s]"
      ]
     },
     "metadata": {},
     "output_type": "display_data"
    },
    {
     "data": {
      "application/vnd.jupyter.widget-view+json": {
       "model_id": "f5fe368508a3484c942c4a3cdd9defb1",
       "version_major": 2,
       "version_minor": 0
      },
      "text/plain": [
       "0it [00:00, ?it/s]"
      ]
     },
     "metadata": {},
     "output_type": "display_data"
    },
    {
     "data": {
      "application/vnd.jupyter.widget-view+json": {
       "model_id": "203788d791214c00930700537519e4c0",
       "version_major": 2,
       "version_minor": 0
      },
      "text/plain": [
       "0it [00:00, ?it/s]"
      ]
     },
     "metadata": {},
     "output_type": "display_data"
    },
    {
     "data": {
      "application/vnd.jupyter.widget-view+json": {
       "model_id": "f183f7641c214c4e9a25de8efbf319a0",
       "version_major": 2,
       "version_minor": 0
      },
      "text/plain": [
       "0it [00:00, ?it/s]"
      ]
     },
     "metadata": {},
     "output_type": "display_data"
    },
    {
     "data": {
      "application/vnd.jupyter.widget-view+json": {
       "model_id": "a6144743b4184c9ca498768faa5cfb5c",
       "version_major": 2,
       "version_minor": 0
      },
      "text/plain": [
       "0it [00:00, ?it/s]"
      ]
     },
     "metadata": {},
     "output_type": "display_data"
    },
    {
     "data": {
      "application/vnd.jupyter.widget-view+json": {
       "model_id": "e1c11587e3564784b10abd6c93e074ff",
       "version_major": 2,
       "version_minor": 0
      },
      "text/plain": [
       "0it [00:00, ?it/s]"
      ]
     },
     "metadata": {},
     "output_type": "display_data"
    },
    {
     "data": {
      "application/vnd.jupyter.widget-view+json": {
       "model_id": "005586d179034e13a517633370edc8d6",
       "version_major": 2,
       "version_minor": 0
      },
      "text/plain": [
       "0it [00:00, ?it/s]"
      ]
     },
     "metadata": {},
     "output_type": "display_data"
    },
    {
     "data": {
      "application/vnd.jupyter.widget-view+json": {
       "model_id": "86246edb5cbc4d68b04e3da11e2f887b",
       "version_major": 2,
       "version_minor": 0
      },
      "text/plain": [
       "0it [00:00, ?it/s]"
      ]
     },
     "metadata": {},
     "output_type": "display_data"
    },
    {
     "data": {
      "application/vnd.jupyter.widget-view+json": {
       "model_id": "aa71174ee14e46bfaa6af70cacb7878b",
       "version_major": 2,
       "version_minor": 0
      },
      "text/plain": [
       "0it [00:00, ?it/s]"
      ]
     },
     "metadata": {},
     "output_type": "display_data"
    },
    {
     "data": {
      "application/vnd.jupyter.widget-view+json": {
       "model_id": "c6b3c2a69af34728965d90a37f824ca1",
       "version_major": 2,
       "version_minor": 0
      },
      "text/plain": [
       "0it [00:00, ?it/s]"
      ]
     },
     "metadata": {},
     "output_type": "display_data"
    },
    {
     "data": {
      "application/vnd.jupyter.widget-view+json": {
       "model_id": "1c43be32178e4025a9ba90c10b2c3480",
       "version_major": 2,
       "version_minor": 0
      },
      "text/plain": [
       "0it [00:00, ?it/s]"
      ]
     },
     "metadata": {},
     "output_type": "display_data"
    },
    {
     "data": {
      "application/vnd.jupyter.widget-view+json": {
       "model_id": "7fc3adce63de406ab5e339c09fd5c7e6",
       "version_major": 2,
       "version_minor": 0
      },
      "text/plain": [
       "0it [00:00, ?it/s]"
      ]
     },
     "metadata": {},
     "output_type": "display_data"
    },
    {
     "data": {
      "application/vnd.jupyter.widget-view+json": {
       "model_id": "2a398bbbf3ce4701b022cb27aa952b62",
       "version_major": 2,
       "version_minor": 0
      },
      "text/plain": [
       "0it [00:00, ?it/s]"
      ]
     },
     "metadata": {},
     "output_type": "display_data"
    },
    {
     "data": {
      "application/vnd.jupyter.widget-view+json": {
       "model_id": "451b231a0d6f432ea7bb7cd6add79433",
       "version_major": 2,
       "version_minor": 0
      },
      "text/plain": [
       "0it [00:00, ?it/s]"
      ]
     },
     "metadata": {},
     "output_type": "display_data"
    },
    {
     "data": {
      "application/vnd.jupyter.widget-view+json": {
       "model_id": "5e549d19d79f4cafb7d1544dab64693c",
       "version_major": 2,
       "version_minor": 0
      },
      "text/plain": [
       "0it [00:00, ?it/s]"
      ]
     },
     "metadata": {},
     "output_type": "display_data"
    },
    {
     "data": {
      "application/vnd.jupyter.widget-view+json": {
       "model_id": "7876c6f9d4764304a27e5823d2f78eb6",
       "version_major": 2,
       "version_minor": 0
      },
      "text/plain": [
       "0it [00:00, ?it/s]"
      ]
     },
     "metadata": {},
     "output_type": "display_data"
    },
    {
     "data": {
      "application/vnd.jupyter.widget-view+json": {
       "model_id": "bc0d64a478ff419ba6ca16938a2adff0",
       "version_major": 2,
       "version_minor": 0
      },
      "text/plain": [
       "0it [00:00, ?it/s]"
      ]
     },
     "metadata": {},
     "output_type": "display_data"
    },
    {
     "data": {
      "application/vnd.jupyter.widget-view+json": {
       "model_id": "15fbb1847e0146a1b1018519309b3a1a",
       "version_major": 2,
       "version_minor": 0
      },
      "text/plain": [
       "0it [00:00, ?it/s]"
      ]
     },
     "metadata": {},
     "output_type": "display_data"
    },
    {
     "data": {
      "application/vnd.jupyter.widget-view+json": {
       "model_id": "e07f4d7eb52d4590808feb6c7a390505",
       "version_major": 2,
       "version_minor": 0
      },
      "text/plain": [
       "0it [00:00, ?it/s]"
      ]
     },
     "metadata": {},
     "output_type": "display_data"
    },
    {
     "data": {
      "application/vnd.jupyter.widget-view+json": {
       "model_id": "5c908879ecf1480b811b6563a20343f3",
       "version_major": 2,
       "version_minor": 0
      },
      "text/plain": [
       "0it [00:00, ?it/s]"
      ]
     },
     "metadata": {},
     "output_type": "display_data"
    },
    {
     "data": {
      "application/vnd.jupyter.widget-view+json": {
       "model_id": "ae477e9515c749f78b6a1351673fb82c",
       "version_major": 2,
       "version_minor": 0
      },
      "text/plain": [
       "0it [00:00, ?it/s]"
      ]
     },
     "metadata": {},
     "output_type": "display_data"
    },
    {
     "data": {
      "application/vnd.jupyter.widget-view+json": {
       "model_id": "16d0d34091f64c9b805b217e860bedcc",
       "version_major": 2,
       "version_minor": 0
      },
      "text/plain": [
       "0it [00:00, ?it/s]"
      ]
     },
     "metadata": {},
     "output_type": "display_data"
    },
    {
     "data": {
      "application/vnd.jupyter.widget-view+json": {
       "model_id": "20853fb007094d30b276aff2014d878a",
       "version_major": 2,
       "version_minor": 0
      },
      "text/plain": [
       "0it [00:00, ?it/s]"
      ]
     },
     "metadata": {},
     "output_type": "display_data"
    },
    {
     "data": {
      "application/vnd.jupyter.widget-view+json": {
       "model_id": "e8f9680ce18f48a5a512632222f99970",
       "version_major": 2,
       "version_minor": 0
      },
      "text/plain": [
       "0it [00:00, ?it/s]"
      ]
     },
     "metadata": {},
     "output_type": "display_data"
    },
    {
     "data": {
      "application/vnd.jupyter.widget-view+json": {
       "model_id": "62eaba7ccf81472fbe09022b45f89407",
       "version_major": 2,
       "version_minor": 0
      },
      "text/plain": [
       "0it [00:00, ?it/s]"
      ]
     },
     "metadata": {},
     "output_type": "display_data"
    },
    {
     "data": {
      "application/vnd.jupyter.widget-view+json": {
       "model_id": "4617bcf4821848edb3ddb2fe83bd2002",
       "version_major": 2,
       "version_minor": 0
      },
      "text/plain": [
       "0it [00:00, ?it/s]"
      ]
     },
     "metadata": {},
     "output_type": "display_data"
    },
    {
     "data": {
      "application/vnd.jupyter.widget-view+json": {
       "model_id": "d04dc0fc31d64e26825aa409b53f64d7",
       "version_major": 2,
       "version_minor": 0
      },
      "text/plain": [
       "0it [00:00, ?it/s]"
      ]
     },
     "metadata": {},
     "output_type": "display_data"
    },
    {
     "data": {
      "application/vnd.jupyter.widget-view+json": {
       "model_id": "a64c420e5f8f4e6c82d990e6d525366d",
       "version_major": 2,
       "version_minor": 0
      },
      "text/plain": [
       "0it [00:00, ?it/s]"
      ]
     },
     "metadata": {},
     "output_type": "display_data"
    },
    {
     "data": {
      "application/vnd.jupyter.widget-view+json": {
       "model_id": "7861d9e72f7d4bc4934e5cc45ec5e193",
       "version_major": 2,
       "version_minor": 0
      },
      "text/plain": [
       "0it [00:00, ?it/s]"
      ]
     },
     "metadata": {},
     "output_type": "display_data"
    },
    {
     "data": {
      "application/vnd.jupyter.widget-view+json": {
       "model_id": "093a039c2bf54eee9f5eedbb0fc78ca0",
       "version_major": 2,
       "version_minor": 0
      },
      "text/plain": [
       "0it [00:00, ?it/s]"
      ]
     },
     "metadata": {},
     "output_type": "display_data"
    },
    {
     "data": {
      "application/vnd.jupyter.widget-view+json": {
       "model_id": "f757cfd390014fca8426c0d69bc6a422",
       "version_major": 2,
       "version_minor": 0
      },
      "text/plain": [
       "0it [00:00, ?it/s]"
      ]
     },
     "metadata": {},
     "output_type": "display_data"
    },
    {
     "data": {
      "application/vnd.jupyter.widget-view+json": {
       "model_id": "016d95e002fb4b8b8a27723b72ccb6f0",
       "version_major": 2,
       "version_minor": 0
      },
      "text/plain": [
       "0it [00:00, ?it/s]"
      ]
     },
     "metadata": {},
     "output_type": "display_data"
    },
    {
     "data": {
      "application/vnd.jupyter.widget-view+json": {
       "model_id": "f12c1a62aae242fa804db9308c1143bb",
       "version_major": 2,
       "version_minor": 0
      },
      "text/plain": [
       "0it [00:00, ?it/s]"
      ]
     },
     "metadata": {},
     "output_type": "display_data"
    },
    {
     "data": {
      "application/vnd.jupyter.widget-view+json": {
       "model_id": "927c14bad2c44e359fdae8b3495a72d6",
       "version_major": 2,
       "version_minor": 0
      },
      "text/plain": [
       "0it [00:00, ?it/s]"
      ]
     },
     "metadata": {},
     "output_type": "display_data"
    },
    {
     "data": {
      "application/vnd.jupyter.widget-view+json": {
       "model_id": "d0666998e12641d78c905fe5fb84121d",
       "version_major": 2,
       "version_minor": 0
      },
      "text/plain": [
       "0it [00:00, ?it/s]"
      ]
     },
     "metadata": {},
     "output_type": "display_data"
    },
    {
     "data": {
      "application/vnd.jupyter.widget-view+json": {
       "model_id": "1204bc427c6a4c1ebdeb72c3b67a1d2c",
       "version_major": 2,
       "version_minor": 0
      },
      "text/plain": [
       "0it [00:00, ?it/s]"
      ]
     },
     "metadata": {},
     "output_type": "display_data"
    },
    {
     "data": {
      "application/vnd.jupyter.widget-view+json": {
       "model_id": "e6fd17beb1b0405fb652f669b8cbca59",
       "version_major": 2,
       "version_minor": 0
      },
      "text/plain": [
       "0it [00:00, ?it/s]"
      ]
     },
     "metadata": {},
     "output_type": "display_data"
    },
    {
     "data": {
      "application/vnd.jupyter.widget-view+json": {
       "model_id": "93e071943e7c45e0ad70bd4cf4236c3b",
       "version_major": 2,
       "version_minor": 0
      },
      "text/plain": [
       "0it [00:00, ?it/s]"
      ]
     },
     "metadata": {},
     "output_type": "display_data"
    },
    {
     "data": {
      "application/vnd.jupyter.widget-view+json": {
       "model_id": "c2d505edc9dd41da8e16220b6e62a1e8",
       "version_major": 2,
       "version_minor": 0
      },
      "text/plain": [
       "0it [00:00, ?it/s]"
      ]
     },
     "metadata": {},
     "output_type": "display_data"
    },
    {
     "data": {
      "application/vnd.jupyter.widget-view+json": {
       "model_id": "fd8a109db8cc4723bee158cb4cc8296e",
       "version_major": 2,
       "version_minor": 0
      },
      "text/plain": [
       "0it [00:00, ?it/s]"
      ]
     },
     "metadata": {},
     "output_type": "display_data"
    },
    {
     "data": {
      "application/vnd.jupyter.widget-view+json": {
       "model_id": "9a43bfdb2ed442b086d4b163084e50b2",
       "version_major": 2,
       "version_minor": 0
      },
      "text/plain": [
       "0it [00:00, ?it/s]"
      ]
     },
     "metadata": {},
     "output_type": "display_data"
    },
    {
     "data": {
      "application/vnd.jupyter.widget-view+json": {
       "model_id": "3f428c838ced4cdfbe604be2d9866aee",
       "version_major": 2,
       "version_minor": 0
      },
      "text/plain": [
       "0it [00:00, ?it/s]"
      ]
     },
     "metadata": {},
     "output_type": "display_data"
    },
    {
     "data": {
      "application/vnd.jupyter.widget-view+json": {
       "model_id": "70ff82c3656843b08b120ed312134176",
       "version_major": 2,
       "version_minor": 0
      },
      "text/plain": [
       "0it [00:00, ?it/s]"
      ]
     },
     "metadata": {},
     "output_type": "display_data"
    },
    {
     "data": {
      "application/vnd.jupyter.widget-view+json": {
       "model_id": "6252ac51ec464f0a9c2ca7ff9a602bd1",
       "version_major": 2,
       "version_minor": 0
      },
      "text/plain": [
       "0it [00:00, ?it/s]"
      ]
     },
     "metadata": {},
     "output_type": "display_data"
    },
    {
     "data": {
      "application/vnd.jupyter.widget-view+json": {
       "model_id": "0975605f9c284631a2a8dd44b13d219e",
       "version_major": 2,
       "version_minor": 0
      },
      "text/plain": [
       "0it [00:00, ?it/s]"
      ]
     },
     "metadata": {},
     "output_type": "display_data"
    },
    {
     "data": {
      "application/vnd.jupyter.widget-view+json": {
       "model_id": "dfa12347b9a24c31ac98e25d32be7711",
       "version_major": 2,
       "version_minor": 0
      },
      "text/plain": [
       "0it [00:00, ?it/s]"
      ]
     },
     "metadata": {},
     "output_type": "display_data"
    },
    {
     "data": {
      "application/vnd.jupyter.widget-view+json": {
       "model_id": "401a261639d949d4b5322b963e77d75e",
       "version_major": 2,
       "version_minor": 0
      },
      "text/plain": [
       "0it [00:00, ?it/s]"
      ]
     },
     "metadata": {},
     "output_type": "display_data"
    },
    {
     "data": {
      "application/vnd.jupyter.widget-view+json": {
       "model_id": "8c91cceff04f4be79f58121e15857549",
       "version_major": 2,
       "version_minor": 0
      },
      "text/plain": [
       "0it [00:00, ?it/s]"
      ]
     },
     "metadata": {},
     "output_type": "display_data"
    },
    {
     "data": {
      "application/vnd.jupyter.widget-view+json": {
       "model_id": "ad036b4fbc0e464582ce4d4550b4bd65",
       "version_major": 2,
       "version_minor": 0
      },
      "text/plain": [
       "0it [00:00, ?it/s]"
      ]
     },
     "metadata": {},
     "output_type": "display_data"
    },
    {
     "data": {
      "application/vnd.jupyter.widget-view+json": {
       "model_id": "372853bbe00f41569b8d80ca35ef85b9",
       "version_major": 2,
       "version_minor": 0
      },
      "text/plain": [
       "0it [00:00, ?it/s]"
      ]
     },
     "metadata": {},
     "output_type": "display_data"
    },
    {
     "data": {
      "application/vnd.jupyter.widget-view+json": {
       "model_id": "fe8a3a496774490cad42e5c672fb838f",
       "version_major": 2,
       "version_minor": 0
      },
      "text/plain": [
       "0it [00:00, ?it/s]"
      ]
     },
     "metadata": {},
     "output_type": "display_data"
    },
    {
     "data": {
      "application/vnd.jupyter.widget-view+json": {
       "model_id": "387624c039a547a2a450380665c2cecd",
       "version_major": 2,
       "version_minor": 0
      },
      "text/plain": [
       "0it [00:00, ?it/s]"
      ]
     },
     "metadata": {},
     "output_type": "display_data"
    },
    {
     "data": {
      "application/vnd.jupyter.widget-view+json": {
       "model_id": "56dfffb1d52a46889c9d6c21d61df47c",
       "version_major": 2,
       "version_minor": 0
      },
      "text/plain": [
       "0it [00:00, ?it/s]"
      ]
     },
     "metadata": {},
     "output_type": "display_data"
    },
    {
     "data": {
      "application/vnd.jupyter.widget-view+json": {
       "model_id": "4fefe569fa1b4feb8d3ecc70edb777c4",
       "version_major": 2,
       "version_minor": 0
      },
      "text/plain": [
       "0it [00:00, ?it/s]"
      ]
     },
     "metadata": {},
     "output_type": "display_data"
    },
    {
     "data": {
      "application/vnd.jupyter.widget-view+json": {
       "model_id": "c990917a97da4e0db12d25224090f584",
       "version_major": 2,
       "version_minor": 0
      },
      "text/plain": [
       "0it [00:00, ?it/s]"
      ]
     },
     "metadata": {},
     "output_type": "display_data"
    },
    {
     "data": {
      "application/vnd.jupyter.widget-view+json": {
       "model_id": "fccca678dfcc4962a3cf3e301eaabbe3",
       "version_major": 2,
       "version_minor": 0
      },
      "text/plain": [
       "0it [00:00, ?it/s]"
      ]
     },
     "metadata": {},
     "output_type": "display_data"
    },
    {
     "data": {
      "application/vnd.jupyter.widget-view+json": {
       "model_id": "a5f2fd27385c4b5a86083d9ae0b2ff71",
       "version_major": 2,
       "version_minor": 0
      },
      "text/plain": [
       "0it [00:00, ?it/s]"
      ]
     },
     "metadata": {},
     "output_type": "display_data"
    },
    {
     "data": {
      "application/vnd.jupyter.widget-view+json": {
       "model_id": "34854fd98aa44afe8ad08f369f231889",
       "version_major": 2,
       "version_minor": 0
      },
      "text/plain": [
       "0it [00:00, ?it/s]"
      ]
     },
     "metadata": {},
     "output_type": "display_data"
    },
    {
     "data": {
      "application/vnd.jupyter.widget-view+json": {
       "model_id": "e0c7db29325a4649b41c69a21652d6a3",
       "version_major": 2,
       "version_minor": 0
      },
      "text/plain": [
       "0it [00:00, ?it/s]"
      ]
     },
     "metadata": {},
     "output_type": "display_data"
    },
    {
     "data": {
      "application/vnd.jupyter.widget-view+json": {
       "model_id": "9c3fdbec51fe478cb992d4a7173725ff",
       "version_major": 2,
       "version_minor": 0
      },
      "text/plain": [
       "0it [00:00, ?it/s]"
      ]
     },
     "metadata": {},
     "output_type": "display_data"
    },
    {
     "data": {
      "application/vnd.jupyter.widget-view+json": {
       "model_id": "b5862a6753f242cf8c3be1cc794b9ef4",
       "version_major": 2,
       "version_minor": 0
      },
      "text/plain": [
       "0it [00:00, ?it/s]"
      ]
     },
     "metadata": {},
     "output_type": "display_data"
    },
    {
     "data": {
      "application/vnd.jupyter.widget-view+json": {
       "model_id": "aebc639a003f4ef198e0708dd216b25b",
       "version_major": 2,
       "version_minor": 0
      },
      "text/plain": [
       "0it [00:00, ?it/s]"
      ]
     },
     "metadata": {},
     "output_type": "display_data"
    },
    {
     "data": {
      "application/vnd.jupyter.widget-view+json": {
       "model_id": "0a0979c030d64686b7d861368190750f",
       "version_major": 2,
       "version_minor": 0
      },
      "text/plain": [
       "0it [00:00, ?it/s]"
      ]
     },
     "metadata": {},
     "output_type": "display_data"
    },
    {
     "data": {
      "application/vnd.jupyter.widget-view+json": {
       "model_id": "b287a0359cc648e78fbeab6cd47ab9d9",
       "version_major": 2,
       "version_minor": 0
      },
      "text/plain": [
       "0it [00:00, ?it/s]"
      ]
     },
     "metadata": {},
     "output_type": "display_data"
    },
    {
     "data": {
      "application/vnd.jupyter.widget-view+json": {
       "model_id": "d4fa507180ba4c44a597e235f6c37b18",
       "version_major": 2,
       "version_minor": 0
      },
      "text/plain": [
       "0it [00:00, ?it/s]"
      ]
     },
     "metadata": {},
     "output_type": "display_data"
    },
    {
     "data": {
      "application/vnd.jupyter.widget-view+json": {
       "model_id": "505941cded2b46fdb9a86dac24b3402b",
       "version_major": 2,
       "version_minor": 0
      },
      "text/plain": [
       "0it [00:00, ?it/s]"
      ]
     },
     "metadata": {},
     "output_type": "display_data"
    },
    {
     "data": {
      "application/vnd.jupyter.widget-view+json": {
       "model_id": "448ecd1b5d8142a0b8a0d5fec0f277c2",
       "version_major": 2,
       "version_minor": 0
      },
      "text/plain": [
       "0it [00:00, ?it/s]"
      ]
     },
     "metadata": {},
     "output_type": "display_data"
    },
    {
     "data": {
      "application/vnd.jupyter.widget-view+json": {
       "model_id": "809423581de5421d95ce0f28af0433cb",
       "version_major": 2,
       "version_minor": 0
      },
      "text/plain": [
       "0it [00:00, ?it/s]"
      ]
     },
     "metadata": {},
     "output_type": "display_data"
    },
    {
     "data": {
      "application/vnd.jupyter.widget-view+json": {
       "model_id": "a6fd74b119014e3db12ab54045e4d1c0",
       "version_major": 2,
       "version_minor": 0
      },
      "text/plain": [
       "0it [00:00, ?it/s]"
      ]
     },
     "metadata": {},
     "output_type": "display_data"
    },
    {
     "data": {
      "application/vnd.jupyter.widget-view+json": {
       "model_id": "4b08acd03c7f48acbb0e8acc68360463",
       "version_major": 2,
       "version_minor": 0
      },
      "text/plain": [
       "0it [00:00, ?it/s]"
      ]
     },
     "metadata": {},
     "output_type": "display_data"
    },
    {
     "data": {
      "application/vnd.jupyter.widget-view+json": {
       "model_id": "45ce80b8d87b414bbc3339f3b6efac7d",
       "version_major": 2,
       "version_minor": 0
      },
      "text/plain": [
       "0it [00:00, ?it/s]"
      ]
     },
     "metadata": {},
     "output_type": "display_data"
    },
    {
     "data": {
      "application/vnd.jupyter.widget-view+json": {
       "model_id": "7fd1bbba1b26424f933f181a7b503925",
       "version_major": 2,
       "version_minor": 0
      },
      "text/plain": [
       "0it [00:00, ?it/s]"
      ]
     },
     "metadata": {},
     "output_type": "display_data"
    },
    {
     "data": {
      "application/vnd.jupyter.widget-view+json": {
       "model_id": "10402a561f8e41c3a229cc5be22d2ddb",
       "version_major": 2,
       "version_minor": 0
      },
      "text/plain": [
       "0it [00:00, ?it/s]"
      ]
     },
     "metadata": {},
     "output_type": "display_data"
    },
    {
     "data": {
      "application/vnd.jupyter.widget-view+json": {
       "model_id": "d4875ff39eb14e1b9d8fd5767937c720",
       "version_major": 2,
       "version_minor": 0
      },
      "text/plain": [
       "0it [00:00, ?it/s]"
      ]
     },
     "metadata": {},
     "output_type": "display_data"
    },
    {
     "data": {
      "application/vnd.jupyter.widget-view+json": {
       "model_id": "2b3ca17fc1304d26a043a9f63c57af1d",
       "version_major": 2,
       "version_minor": 0
      },
      "text/plain": [
       "0it [00:00, ?it/s]"
      ]
     },
     "metadata": {},
     "output_type": "display_data"
    },
    {
     "data": {
      "application/vnd.jupyter.widget-view+json": {
       "model_id": "a010b4231ed1469785ac12bb99b3cc45",
       "version_major": 2,
       "version_minor": 0
      },
      "text/plain": [
       "0it [00:00, ?it/s]"
      ]
     },
     "metadata": {},
     "output_type": "display_data"
    },
    {
     "data": {
      "application/vnd.jupyter.widget-view+json": {
       "model_id": "6edffa257f6c4bd2a966a4987a5379b4",
       "version_major": 2,
       "version_minor": 0
      },
      "text/plain": [
       "0it [00:00, ?it/s]"
      ]
     },
     "metadata": {},
     "output_type": "display_data"
    },
    {
     "data": {
      "application/vnd.jupyter.widget-view+json": {
       "model_id": "0aca7e9e08f449a4b1888290519de3a6",
       "version_major": 2,
       "version_minor": 0
      },
      "text/plain": [
       "0it [00:00, ?it/s]"
      ]
     },
     "metadata": {},
     "output_type": "display_data"
    },
    {
     "data": {
      "application/vnd.jupyter.widget-view+json": {
       "model_id": "ff2c11f1a61f48bb9f97df646a66ea4a",
       "version_major": 2,
       "version_minor": 0
      },
      "text/plain": [
       "0it [00:00, ?it/s]"
      ]
     },
     "metadata": {},
     "output_type": "display_data"
    },
    {
     "data": {
      "application/vnd.jupyter.widget-view+json": {
       "model_id": "21ec8ba888cb4836b75d21d00bb584e2",
       "version_major": 2,
       "version_minor": 0
      },
      "text/plain": [
       "0it [00:00, ?it/s]"
      ]
     },
     "metadata": {},
     "output_type": "display_data"
    },
    {
     "data": {
      "application/vnd.jupyter.widget-view+json": {
       "model_id": "466cb416d87d47b49a5b4e7fd376101f",
       "version_major": 2,
       "version_minor": 0
      },
      "text/plain": [
       "0it [00:00, ?it/s]"
      ]
     },
     "metadata": {},
     "output_type": "display_data"
    },
    {
     "data": {
      "application/vnd.jupyter.widget-view+json": {
       "model_id": "b3bce19c59bb419285391351ea61e049",
       "version_major": 2,
       "version_minor": 0
      },
      "text/plain": [
       "0it [00:00, ?it/s]"
      ]
     },
     "metadata": {},
     "output_type": "display_data"
    },
    {
     "data": {
      "application/vnd.jupyter.widget-view+json": {
       "model_id": "3596dda00f50477db79eba9f7fe044bf",
       "version_major": 2,
       "version_minor": 0
      },
      "text/plain": [
       "0it [00:00, ?it/s]"
      ]
     },
     "metadata": {},
     "output_type": "display_data"
    },
    {
     "data": {
      "application/vnd.jupyter.widget-view+json": {
       "model_id": "f5730c44a0db4a419ec190398969b874",
       "version_major": 2,
       "version_minor": 0
      },
      "text/plain": [
       "0it [00:00, ?it/s]"
      ]
     },
     "metadata": {},
     "output_type": "display_data"
    },
    {
     "data": {
      "application/vnd.jupyter.widget-view+json": {
       "model_id": "1360348294cf4042b83b180cbab7c880",
       "version_major": 2,
       "version_minor": 0
      },
      "text/plain": [
       "0it [00:00, ?it/s]"
      ]
     },
     "metadata": {},
     "output_type": "display_data"
    },
    {
     "data": {
      "application/vnd.jupyter.widget-view+json": {
       "model_id": "625215e306fb452ea89438a8ed348a0a",
       "version_major": 2,
       "version_minor": 0
      },
      "text/plain": [
       "0it [00:00, ?it/s]"
      ]
     },
     "metadata": {},
     "output_type": "display_data"
    },
    {
     "data": {
      "application/vnd.jupyter.widget-view+json": {
       "model_id": "7f8495893ee24370be1ea2a91ea4b3dd",
       "version_major": 2,
       "version_minor": 0
      },
      "text/plain": [
       "0it [00:00, ?it/s]"
      ]
     },
     "metadata": {},
     "output_type": "display_data"
    },
    {
     "data": {
      "application/vnd.jupyter.widget-view+json": {
       "model_id": "d5153e04ed8c45258ae536755f9f268e",
       "version_major": 2,
       "version_minor": 0
      },
      "text/plain": [
       "0it [00:00, ?it/s]"
      ]
     },
     "metadata": {},
     "output_type": "display_data"
    },
    {
     "data": {
      "application/vnd.jupyter.widget-view+json": {
       "model_id": "7131a632459a4a47a6644dc20fae9114",
       "version_major": 2,
       "version_minor": 0
      },
      "text/plain": [
       "0it [00:00, ?it/s]"
      ]
     },
     "metadata": {},
     "output_type": "display_data"
    },
    {
     "data": {
      "application/vnd.jupyter.widget-view+json": {
       "model_id": "c7110376d315419890dc2cf82e9f4fcf",
       "version_major": 2,
       "version_minor": 0
      },
      "text/plain": [
       "0it [00:00, ?it/s]"
      ]
     },
     "metadata": {},
     "output_type": "display_data"
    },
    {
     "data": {
      "application/vnd.jupyter.widget-view+json": {
       "model_id": "663cbd2326dc4288afaf60401d6c6a96",
       "version_major": 2,
       "version_minor": 0
      },
      "text/plain": [
       "0it [00:00, ?it/s]"
      ]
     },
     "metadata": {},
     "output_type": "display_data"
    },
    {
     "data": {
      "application/vnd.jupyter.widget-view+json": {
       "model_id": "c1796d1e0b8a4e198b2bed8ce226dda6",
       "version_major": 2,
       "version_minor": 0
      },
      "text/plain": [
       "0it [00:00, ?it/s]"
      ]
     },
     "metadata": {},
     "output_type": "display_data"
    },
    {
     "data": {
      "application/vnd.jupyter.widget-view+json": {
       "model_id": "328f20baa5d1484583d377356b2b201a",
       "version_major": 2,
       "version_minor": 0
      },
      "text/plain": [
       "0it [00:00, ?it/s]"
      ]
     },
     "metadata": {},
     "output_type": "display_data"
    },
    {
     "data": {
      "application/vnd.jupyter.widget-view+json": {
       "model_id": "4e9a0619a05f4fd98e3d416d9fd51999",
       "version_major": 2,
       "version_minor": 0
      },
      "text/plain": [
       "0it [00:00, ?it/s]"
      ]
     },
     "metadata": {},
     "output_type": "display_data"
    },
    {
     "data": {
      "application/vnd.jupyter.widget-view+json": {
       "model_id": "bf87d7d964d44051a1f27c2b174a5fea",
       "version_major": 2,
       "version_minor": 0
      },
      "text/plain": [
       "0it [00:00, ?it/s]"
      ]
     },
     "metadata": {},
     "output_type": "display_data"
    },
    {
     "data": {
      "application/vnd.jupyter.widget-view+json": {
       "model_id": "b9c4b270edbe48cebb9f0df9a29cd4ec",
       "version_major": 2,
       "version_minor": 0
      },
      "text/plain": [
       "0it [00:00, ?it/s]"
      ]
     },
     "metadata": {},
     "output_type": "display_data"
    },
    {
     "data": {
      "application/vnd.jupyter.widget-view+json": {
       "model_id": "b39718e590294ab5aa5fc78502561d80",
       "version_major": 2,
       "version_minor": 0
      },
      "text/plain": [
       "0it [00:00, ?it/s]"
      ]
     },
     "metadata": {},
     "output_type": "display_data"
    },
    {
     "data": {
      "application/vnd.jupyter.widget-view+json": {
       "model_id": "be25324594e540f28570e6cd85bf5f3f",
       "version_major": 2,
       "version_minor": 0
      },
      "text/plain": [
       "0it [00:00, ?it/s]"
      ]
     },
     "metadata": {},
     "output_type": "display_data"
    },
    {
     "data": {
      "application/vnd.jupyter.widget-view+json": {
       "model_id": "728710c7fff249f1b862141340971f9f",
       "version_major": 2,
       "version_minor": 0
      },
      "text/plain": [
       "0it [00:00, ?it/s]"
      ]
     },
     "metadata": {},
     "output_type": "display_data"
    },
    {
     "data": {
      "application/vnd.jupyter.widget-view+json": {
       "model_id": "dd4fbbde981b46adbcf96cea11209179",
       "version_major": 2,
       "version_minor": 0
      },
      "text/plain": [
       "0it [00:00, ?it/s]"
      ]
     },
     "metadata": {},
     "output_type": "display_data"
    },
    {
     "data": {
      "application/vnd.jupyter.widget-view+json": {
       "model_id": "7ba4c6ff076a45afb91ceea50f170342",
       "version_major": 2,
       "version_minor": 0
      },
      "text/plain": [
       "0it [00:00, ?it/s]"
      ]
     },
     "metadata": {},
     "output_type": "display_data"
    },
    {
     "data": {
      "application/vnd.jupyter.widget-view+json": {
       "model_id": "da4a1f7cdcae4194a280064980b2d851",
       "version_major": 2,
       "version_minor": 0
      },
      "text/plain": [
       "0it [00:00, ?it/s]"
      ]
     },
     "metadata": {},
     "output_type": "display_data"
    },
    {
     "data": {
      "application/vnd.jupyter.widget-view+json": {
       "model_id": "b08e1fc98c0f47c6b8a5c114f30fdbca",
       "version_major": 2,
       "version_minor": 0
      },
      "text/plain": [
       "0it [00:00, ?it/s]"
      ]
     },
     "metadata": {},
     "output_type": "display_data"
    },
    {
     "data": {
      "application/vnd.jupyter.widget-view+json": {
       "model_id": "e68b42eafa1940be9cf0031f1894a107",
       "version_major": 2,
       "version_minor": 0
      },
      "text/plain": [
       "0it [00:00, ?it/s]"
      ]
     },
     "metadata": {},
     "output_type": "display_data"
    },
    {
     "data": {
      "application/vnd.jupyter.widget-view+json": {
       "model_id": "a7e28aa29732477db7e60f94cd1a5758",
       "version_major": 2,
       "version_minor": 0
      },
      "text/plain": [
       "0it [00:00, ?it/s]"
      ]
     },
     "metadata": {},
     "output_type": "display_data"
    },
    {
     "data": {
      "application/vnd.jupyter.widget-view+json": {
       "model_id": "8011fe8de5484eb195b7eb80baec7184",
       "version_major": 2,
       "version_minor": 0
      },
      "text/plain": [
       "0it [00:00, ?it/s]"
      ]
     },
     "metadata": {},
     "output_type": "display_data"
    },
    {
     "data": {
      "application/vnd.jupyter.widget-view+json": {
       "model_id": "fd67b0ed40db4a3fb30acd116029c4a6",
       "version_major": 2,
       "version_minor": 0
      },
      "text/plain": [
       "0it [00:00, ?it/s]"
      ]
     },
     "metadata": {},
     "output_type": "display_data"
    },
    {
     "data": {
      "application/vnd.jupyter.widget-view+json": {
       "model_id": "d2790d45df8a4d7b82bd38fc2fd09402",
       "version_major": 2,
       "version_minor": 0
      },
      "text/plain": [
       "0it [00:00, ?it/s]"
      ]
     },
     "metadata": {},
     "output_type": "display_data"
    },
    {
     "data": {
      "application/vnd.jupyter.widget-view+json": {
       "model_id": "16351ce104894476b8df8ef6c24b8a00",
       "version_major": 2,
       "version_minor": 0
      },
      "text/plain": [
       "0it [00:00, ?it/s]"
      ]
     },
     "metadata": {},
     "output_type": "display_data"
    },
    {
     "data": {
      "application/vnd.jupyter.widget-view+json": {
       "model_id": "d7fb5cfb66fb47fdaf6563750b1a25fd",
       "version_major": 2,
       "version_minor": 0
      },
      "text/plain": [
       "0it [00:00, ?it/s]"
      ]
     },
     "metadata": {},
     "output_type": "display_data"
    },
    {
     "data": {
      "application/vnd.jupyter.widget-view+json": {
       "model_id": "7ffc849962cc4f988c04632e41fb45ae",
       "version_major": 2,
       "version_minor": 0
      },
      "text/plain": [
       "0it [00:00, ?it/s]"
      ]
     },
     "metadata": {},
     "output_type": "display_data"
    },
    {
     "data": {
      "application/vnd.jupyter.widget-view+json": {
       "model_id": "a29b6e2e865840dca46d95bbc086beeb",
       "version_major": 2,
       "version_minor": 0
      },
      "text/plain": [
       "0it [00:00, ?it/s]"
      ]
     },
     "metadata": {},
     "output_type": "display_data"
    },
    {
     "data": {
      "application/vnd.jupyter.widget-view+json": {
       "model_id": "0b7476b599a14a6a9eff82098ce8b7b3",
       "version_major": 2,
       "version_minor": 0
      },
      "text/plain": [
       "0it [00:00, ?it/s]"
      ]
     },
     "metadata": {},
     "output_type": "display_data"
    },
    {
     "data": {
      "application/vnd.jupyter.widget-view+json": {
       "model_id": "ab0db1efec55493886fcad50c7ec290b",
       "version_major": 2,
       "version_minor": 0
      },
      "text/plain": [
       "0it [00:00, ?it/s]"
      ]
     },
     "metadata": {},
     "output_type": "display_data"
    },
    {
     "data": {
      "application/vnd.jupyter.widget-view+json": {
       "model_id": "43ed8de18ab44b9999aed3e2900c7e02",
       "version_major": 2,
       "version_minor": 0
      },
      "text/plain": [
       "0it [00:00, ?it/s]"
      ]
     },
     "metadata": {},
     "output_type": "display_data"
    },
    {
     "data": {
      "application/vnd.jupyter.widget-view+json": {
       "model_id": "33abc5a519e345069755a95357f64f89",
       "version_major": 2,
       "version_minor": 0
      },
      "text/plain": [
       "0it [00:00, ?it/s]"
      ]
     },
     "metadata": {},
     "output_type": "display_data"
    },
    {
     "data": {
      "application/vnd.jupyter.widget-view+json": {
       "model_id": "8a2a650c96634317a3adf421fc50a549",
       "version_major": 2,
       "version_minor": 0
      },
      "text/plain": [
       "0it [00:00, ?it/s]"
      ]
     },
     "metadata": {},
     "output_type": "display_data"
    },
    {
     "data": {
      "application/vnd.jupyter.widget-view+json": {
       "model_id": "4963a7eec05a457e9029e82fe5011ee3",
       "version_major": 2,
       "version_minor": 0
      },
      "text/plain": [
       "0it [00:00, ?it/s]"
      ]
     },
     "metadata": {},
     "output_type": "display_data"
    },
    {
     "data": {
      "application/vnd.jupyter.widget-view+json": {
       "model_id": "626cc9a3ed554987b7d61276a9626e55",
       "version_major": 2,
       "version_minor": 0
      },
      "text/plain": [
       "0it [00:00, ?it/s]"
      ]
     },
     "metadata": {},
     "output_type": "display_data"
    },
    {
     "data": {
      "application/vnd.jupyter.widget-view+json": {
       "model_id": "1d8fc377e0214184b74fad7badd3a6d1",
       "version_major": 2,
       "version_minor": 0
      },
      "text/plain": [
       "0it [00:00, ?it/s]"
      ]
     },
     "metadata": {},
     "output_type": "display_data"
    },
    {
     "data": {
      "application/vnd.jupyter.widget-view+json": {
       "model_id": "88eff2762ea447f4ad64e3a6044f6d12",
       "version_major": 2,
       "version_minor": 0
      },
      "text/plain": [
       "0it [00:00, ?it/s]"
      ]
     },
     "metadata": {},
     "output_type": "display_data"
    },
    {
     "data": {
      "application/vnd.jupyter.widget-view+json": {
       "model_id": "48bb621603074cc9bbc344e94e01efea",
       "version_major": 2,
       "version_minor": 0
      },
      "text/plain": [
       "0it [00:00, ?it/s]"
      ]
     },
     "metadata": {},
     "output_type": "display_data"
    },
    {
     "data": {
      "application/vnd.jupyter.widget-view+json": {
       "model_id": "124bcb4b66ec49c084fe2422c4e9daef",
       "version_major": 2,
       "version_minor": 0
      },
      "text/plain": [
       "0it [00:00, ?it/s]"
      ]
     },
     "metadata": {},
     "output_type": "display_data"
    },
    {
     "data": {
      "application/vnd.jupyter.widget-view+json": {
       "model_id": "f45bf083467e4c08871d842e6c5843a0",
       "version_major": 2,
       "version_minor": 0
      },
      "text/plain": [
       "0it [00:00, ?it/s]"
      ]
     },
     "metadata": {},
     "output_type": "display_data"
    },
    {
     "data": {
      "application/vnd.jupyter.widget-view+json": {
       "model_id": "f55f33077f57402fbdb1fd0fc3032495",
       "version_major": 2,
       "version_minor": 0
      },
      "text/plain": [
       "0it [00:00, ?it/s]"
      ]
     },
     "metadata": {},
     "output_type": "display_data"
    },
    {
     "data": {
      "application/vnd.jupyter.widget-view+json": {
       "model_id": "2e3124a7f926419692b60f49f7a3a232",
       "version_major": 2,
       "version_minor": 0
      },
      "text/plain": [
       "0it [00:00, ?it/s]"
      ]
     },
     "metadata": {},
     "output_type": "display_data"
    },
    {
     "data": {
      "application/vnd.jupyter.widget-view+json": {
       "model_id": "3ff1a1b9827b43e0a8c509346cff90dc",
       "version_major": 2,
       "version_minor": 0
      },
      "text/plain": [
       "0it [00:00, ?it/s]"
      ]
     },
     "metadata": {},
     "output_type": "display_data"
    },
    {
     "data": {
      "application/vnd.jupyter.widget-view+json": {
       "model_id": "ef8df3e07a254d9996c6cc185b5b5c2b",
       "version_major": 2,
       "version_minor": 0
      },
      "text/plain": [
       "0it [00:00, ?it/s]"
      ]
     },
     "metadata": {},
     "output_type": "display_data"
    },
    {
     "data": {
      "application/vnd.jupyter.widget-view+json": {
       "model_id": "d6a14f92beb84b67b5af70d242139185",
       "version_major": 2,
       "version_minor": 0
      },
      "text/plain": [
       "0it [00:00, ?it/s]"
      ]
     },
     "metadata": {},
     "output_type": "display_data"
    },
    {
     "data": {
      "application/vnd.jupyter.widget-view+json": {
       "model_id": "821f8e0937904538a3075e7dbb9e32d4",
       "version_major": 2,
       "version_minor": 0
      },
      "text/plain": [
       "0it [00:00, ?it/s]"
      ]
     },
     "metadata": {},
     "output_type": "display_data"
    },
    {
     "data": {
      "application/vnd.jupyter.widget-view+json": {
       "model_id": "12a05703dea7405c86a9ac27630ed6f2",
       "version_major": 2,
       "version_minor": 0
      },
      "text/plain": [
       "0it [00:00, ?it/s]"
      ]
     },
     "metadata": {},
     "output_type": "display_data"
    },
    {
     "data": {
      "application/vnd.jupyter.widget-view+json": {
       "model_id": "5fade880d28944c29b29c8300eaa4a93",
       "version_major": 2,
       "version_minor": 0
      },
      "text/plain": [
       "0it [00:00, ?it/s]"
      ]
     },
     "metadata": {},
     "output_type": "display_data"
    },
    {
     "data": {
      "application/vnd.jupyter.widget-view+json": {
       "model_id": "8a5c3079166141ad9daaddc15c965622",
       "version_major": 2,
       "version_minor": 0
      },
      "text/plain": [
       "0it [00:00, ?it/s]"
      ]
     },
     "metadata": {},
     "output_type": "display_data"
    },
    {
     "data": {
      "application/vnd.jupyter.widget-view+json": {
       "model_id": "43a37ead242a410e825f0a4fd88b57b1",
       "version_major": 2,
       "version_minor": 0
      },
      "text/plain": [
       "0it [00:00, ?it/s]"
      ]
     },
     "metadata": {},
     "output_type": "display_data"
    },
    {
     "data": {
      "application/vnd.jupyter.widget-view+json": {
       "model_id": "084fdbcf57554525bfe91abc3a714c92",
       "version_major": 2,
       "version_minor": 0
      },
      "text/plain": [
       "0it [00:00, ?it/s]"
      ]
     },
     "metadata": {},
     "output_type": "display_data"
    },
    {
     "data": {
      "application/vnd.jupyter.widget-view+json": {
       "model_id": "d4d8aa0c6d0149098816f46d34958c7d",
       "version_major": 2,
       "version_minor": 0
      },
      "text/plain": [
       "0it [00:00, ?it/s]"
      ]
     },
     "metadata": {},
     "output_type": "display_data"
    },
    {
     "data": {
      "application/vnd.jupyter.widget-view+json": {
       "model_id": "fed6190e677e462d8f760b42022908df",
       "version_major": 2,
       "version_minor": 0
      },
      "text/plain": [
       "0it [00:00, ?it/s]"
      ]
     },
     "metadata": {},
     "output_type": "display_data"
    },
    {
     "data": {
      "application/vnd.jupyter.widget-view+json": {
       "model_id": "c23941f9e14a475ba9765cf72bbf38be",
       "version_major": 2,
       "version_minor": 0
      },
      "text/plain": [
       "0it [00:00, ?it/s]"
      ]
     },
     "metadata": {},
     "output_type": "display_data"
    },
    {
     "data": {
      "application/vnd.jupyter.widget-view+json": {
       "model_id": "9ca5edf613774a0381ffd3091aa30d55",
       "version_major": 2,
       "version_minor": 0
      },
      "text/plain": [
       "0it [00:00, ?it/s]"
      ]
     },
     "metadata": {},
     "output_type": "display_data"
    },
    {
     "data": {
      "application/vnd.jupyter.widget-view+json": {
       "model_id": "97da63217ac64c548df6466210cdeb1f",
       "version_major": 2,
       "version_minor": 0
      },
      "text/plain": [
       "0it [00:00, ?it/s]"
      ]
     },
     "metadata": {},
     "output_type": "display_data"
    },
    {
     "data": {
      "application/vnd.jupyter.widget-view+json": {
       "model_id": "083a3c7faa7644f4b042e0d8c0b93219",
       "version_major": 2,
       "version_minor": 0
      },
      "text/plain": [
       "0it [00:00, ?it/s]"
      ]
     },
     "metadata": {},
     "output_type": "display_data"
    },
    {
     "data": {
      "application/vnd.jupyter.widget-view+json": {
       "model_id": "1937f4dccda844108ef8917786f2d509",
       "version_major": 2,
       "version_minor": 0
      },
      "text/plain": [
       "0it [00:00, ?it/s]"
      ]
     },
     "metadata": {},
     "output_type": "display_data"
    },
    {
     "data": {
      "application/vnd.jupyter.widget-view+json": {
       "model_id": "04b0b9c22f6c441bbec2a9ab71c5765a",
       "version_major": 2,
       "version_minor": 0
      },
      "text/plain": [
       "0it [00:00, ?it/s]"
      ]
     },
     "metadata": {},
     "output_type": "display_data"
    },
    {
     "data": {
      "application/vnd.jupyter.widget-view+json": {
       "model_id": "8b00500c99dd44cba8c5b499d38f17c6",
       "version_major": 2,
       "version_minor": 0
      },
      "text/plain": [
       "0it [00:00, ?it/s]"
      ]
     },
     "metadata": {},
     "output_type": "display_data"
    },
    {
     "data": {
      "application/vnd.jupyter.widget-view+json": {
       "model_id": "09d86f8e74c74b66b52941d421c750aa",
       "version_major": 2,
       "version_minor": 0
      },
      "text/plain": [
       "0it [00:00, ?it/s]"
      ]
     },
     "metadata": {},
     "output_type": "display_data"
    },
    {
     "data": {
      "application/vnd.jupyter.widget-view+json": {
       "model_id": "734dac065e314d67820a5cce6c94b34d",
       "version_major": 2,
       "version_minor": 0
      },
      "text/plain": [
       "0it [00:00, ?it/s]"
      ]
     },
     "metadata": {},
     "output_type": "display_data"
    },
    {
     "data": {
      "application/vnd.jupyter.widget-view+json": {
       "model_id": "60e1359230124505a0fdede44f0ecf77",
       "version_major": 2,
       "version_minor": 0
      },
      "text/plain": [
       "0it [00:00, ?it/s]"
      ]
     },
     "metadata": {},
     "output_type": "display_data"
    },
    {
     "data": {
      "application/vnd.jupyter.widget-view+json": {
       "model_id": "ff015ec08f974f37b4ef077e01a0514c",
       "version_major": 2,
       "version_minor": 0
      },
      "text/plain": [
       "0it [00:00, ?it/s]"
      ]
     },
     "metadata": {},
     "output_type": "display_data"
    },
    {
     "data": {
      "application/vnd.jupyter.widget-view+json": {
       "model_id": "c950004dc9ac4271927d9797f6fb8704",
       "version_major": 2,
       "version_minor": 0
      },
      "text/plain": [
       "0it [00:00, ?it/s]"
      ]
     },
     "metadata": {},
     "output_type": "display_data"
    },
    {
     "data": {
      "application/vnd.jupyter.widget-view+json": {
       "model_id": "3a5176dcfb524262b350a94d46dde309",
       "version_major": 2,
       "version_minor": 0
      },
      "text/plain": [
       "0it [00:00, ?it/s]"
      ]
     },
     "metadata": {},
     "output_type": "display_data"
    },
    {
     "data": {
      "application/vnd.jupyter.widget-view+json": {
       "model_id": "efa84772d50349e094dfac1ad7da4e13",
       "version_major": 2,
       "version_minor": 0
      },
      "text/plain": [
       "0it [00:00, ?it/s]"
      ]
     },
     "metadata": {},
     "output_type": "display_data"
    },
    {
     "data": {
      "application/vnd.jupyter.widget-view+json": {
       "model_id": "73758dbc65384ed687d94abb797f0c1b",
       "version_major": 2,
       "version_minor": 0
      },
      "text/plain": [
       "0it [00:00, ?it/s]"
      ]
     },
     "metadata": {},
     "output_type": "display_data"
    },
    {
     "data": {
      "application/vnd.jupyter.widget-view+json": {
       "model_id": "86f367e8c76547108889445e629fd81b",
       "version_major": 2,
       "version_minor": 0
      },
      "text/plain": [
       "0it [00:00, ?it/s]"
      ]
     },
     "metadata": {},
     "output_type": "display_data"
    },
    {
     "data": {
      "application/vnd.jupyter.widget-view+json": {
       "model_id": "da530e0e2e4d42d39682839fe1412170",
       "version_major": 2,
       "version_minor": 0
      },
      "text/plain": [
       "0it [00:00, ?it/s]"
      ]
     },
     "metadata": {},
     "output_type": "display_data"
    },
    {
     "data": {
      "application/vnd.jupyter.widget-view+json": {
       "model_id": "5d130c9d9704419484b820fbee4b991e",
       "version_major": 2,
       "version_minor": 0
      },
      "text/plain": [
       "0it [00:00, ?it/s]"
      ]
     },
     "metadata": {},
     "output_type": "display_data"
    },
    {
     "data": {
      "application/vnd.jupyter.widget-view+json": {
       "model_id": "c0e2575ed374408293cab9720db997c7",
       "version_major": 2,
       "version_minor": 0
      },
      "text/plain": [
       "0it [00:00, ?it/s]"
      ]
     },
     "metadata": {},
     "output_type": "display_data"
    },
    {
     "data": {
      "application/vnd.jupyter.widget-view+json": {
       "model_id": "7290ea97adbf40cf903d797386883ae6",
       "version_major": 2,
       "version_minor": 0
      },
      "text/plain": [
       "0it [00:00, ?it/s]"
      ]
     },
     "metadata": {},
     "output_type": "display_data"
    },
    {
     "data": {
      "application/vnd.jupyter.widget-view+json": {
       "model_id": "9dfd7a1d31a1491086d05b613b8d5dd3",
       "version_major": 2,
       "version_minor": 0
      },
      "text/plain": [
       "0it [00:00, ?it/s]"
      ]
     },
     "metadata": {},
     "output_type": "display_data"
    },
    {
     "data": {
      "application/vnd.jupyter.widget-view+json": {
       "model_id": "1930017b416c4c379f304b4c11e1e785",
       "version_major": 2,
       "version_minor": 0
      },
      "text/plain": [
       "0it [00:00, ?it/s]"
      ]
     },
     "metadata": {},
     "output_type": "display_data"
    },
    {
     "data": {
      "application/vnd.jupyter.widget-view+json": {
       "model_id": "1d2c6d02c83c44eb9a5627405a12d955",
       "version_major": 2,
       "version_minor": 0
      },
      "text/plain": [
       "0it [00:00, ?it/s]"
      ]
     },
     "metadata": {},
     "output_type": "display_data"
    },
    {
     "data": {
      "application/vnd.jupyter.widget-view+json": {
       "model_id": "a648fb68e4ab432bb9acd05018da332c",
       "version_major": 2,
       "version_minor": 0
      },
      "text/plain": [
       "0it [00:00, ?it/s]"
      ]
     },
     "metadata": {},
     "output_type": "display_data"
    },
    {
     "data": {
      "application/vnd.jupyter.widget-view+json": {
       "model_id": "086411656aa547a8a8bf99a5d63f206e",
       "version_major": 2,
       "version_minor": 0
      },
      "text/plain": [
       "0it [00:00, ?it/s]"
      ]
     },
     "metadata": {},
     "output_type": "display_data"
    },
    {
     "data": {
      "application/vnd.jupyter.widget-view+json": {
       "model_id": "df984cbddde34509ad28558a9189dcd5",
       "version_major": 2,
       "version_minor": 0
      },
      "text/plain": [
       "0it [00:00, ?it/s]"
      ]
     },
     "metadata": {},
     "output_type": "display_data"
    },
    {
     "data": {
      "application/vnd.jupyter.widget-view+json": {
       "model_id": "1d229b7e64954614b39e15dd36044594",
       "version_major": 2,
       "version_minor": 0
      },
      "text/plain": [
       "0it [00:00, ?it/s]"
      ]
     },
     "metadata": {},
     "output_type": "display_data"
    },
    {
     "data": {
      "application/vnd.jupyter.widget-view+json": {
       "model_id": "7aab1225655f458bab33e27b07e09268",
       "version_major": 2,
       "version_minor": 0
      },
      "text/plain": [
       "0it [00:00, ?it/s]"
      ]
     },
     "metadata": {},
     "output_type": "display_data"
    },
    {
     "data": {
      "application/vnd.jupyter.widget-view+json": {
       "model_id": "02c6b180a1b34ce1aae8abab61394321",
       "version_major": 2,
       "version_minor": 0
      },
      "text/plain": [
       "0it [00:00, ?it/s]"
      ]
     },
     "metadata": {},
     "output_type": "display_data"
    },
    {
     "data": {
      "application/vnd.jupyter.widget-view+json": {
       "model_id": "629c0f2ac5634946826972492a301d4f",
       "version_major": 2,
       "version_minor": 0
      },
      "text/plain": [
       "0it [00:00, ?it/s]"
      ]
     },
     "metadata": {},
     "output_type": "display_data"
    },
    {
     "data": {
      "application/vnd.jupyter.widget-view+json": {
       "model_id": "f13b671979bd45eab84de819b09e714b",
       "version_major": 2,
       "version_minor": 0
      },
      "text/plain": [
       "0it [00:00, ?it/s]"
      ]
     },
     "metadata": {},
     "output_type": "display_data"
    },
    {
     "data": {
      "application/vnd.jupyter.widget-view+json": {
       "model_id": "cb535517cafa40039b15c6576898f807",
       "version_major": 2,
       "version_minor": 0
      },
      "text/plain": [
       "0it [00:00, ?it/s]"
      ]
     },
     "metadata": {},
     "output_type": "display_data"
    },
    {
     "data": {
      "application/vnd.jupyter.widget-view+json": {
       "model_id": "e7b537a59a864bbf97fc9fdf14cdc133",
       "version_major": 2,
       "version_minor": 0
      },
      "text/plain": [
       "0it [00:00, ?it/s]"
      ]
     },
     "metadata": {},
     "output_type": "display_data"
    },
    {
     "data": {
      "application/vnd.jupyter.widget-view+json": {
       "model_id": "fb67356b1303470db8af9970a17f0a9c",
       "version_major": 2,
       "version_minor": 0
      },
      "text/plain": [
       "0it [00:00, ?it/s]"
      ]
     },
     "metadata": {},
     "output_type": "display_data"
    },
    {
     "data": {
      "application/vnd.jupyter.widget-view+json": {
       "model_id": "ecd81c16ae1a419b96dfb6aa4010111a",
       "version_major": 2,
       "version_minor": 0
      },
      "text/plain": [
       "0it [00:00, ?it/s]"
      ]
     },
     "metadata": {},
     "output_type": "display_data"
    },
    {
     "data": {
      "application/vnd.jupyter.widget-view+json": {
       "model_id": "de10030b0f954541b01e32fa7804925f",
       "version_major": 2,
       "version_minor": 0
      },
      "text/plain": [
       "0it [00:00, ?it/s]"
      ]
     },
     "metadata": {},
     "output_type": "display_data"
    },
    {
     "data": {
      "application/vnd.jupyter.widget-view+json": {
       "model_id": "d4dbf3c63a064b7c8f863bbddc4e04c8",
       "version_major": 2,
       "version_minor": 0
      },
      "text/plain": [
       "0it [00:00, ?it/s]"
      ]
     },
     "metadata": {},
     "output_type": "display_data"
    },
    {
     "data": {
      "application/vnd.jupyter.widget-view+json": {
       "model_id": "b31a0a81b5624b12b87a5181ec407d80",
       "version_major": 2,
       "version_minor": 0
      },
      "text/plain": [
       "0it [00:00, ?it/s]"
      ]
     },
     "metadata": {},
     "output_type": "display_data"
    },
    {
     "data": {
      "application/vnd.jupyter.widget-view+json": {
       "model_id": "b6544610eaa7483aafdf19e280686b9a",
       "version_major": 2,
       "version_minor": 0
      },
      "text/plain": [
       "0it [00:00, ?it/s]"
      ]
     },
     "metadata": {},
     "output_type": "display_data"
    },
    {
     "data": {
      "application/vnd.jupyter.widget-view+json": {
       "model_id": "c5a1b71db10c4f459ac9c8001426a4cd",
       "version_major": 2,
       "version_minor": 0
      },
      "text/plain": [
       "0it [00:00, ?it/s]"
      ]
     },
     "metadata": {},
     "output_type": "display_data"
    },
    {
     "data": {
      "application/vnd.jupyter.widget-view+json": {
       "model_id": "42eee99665f74c03aa8b6ba4815cc623",
       "version_major": 2,
       "version_minor": 0
      },
      "text/plain": [
       "0it [00:00, ?it/s]"
      ]
     },
     "metadata": {},
     "output_type": "display_data"
    },
    {
     "data": {
      "application/vnd.jupyter.widget-view+json": {
       "model_id": "b5dc46afd32e4b34a0ecd4240304e175",
       "version_major": 2,
       "version_minor": 0
      },
      "text/plain": [
       "0it [00:00, ?it/s]"
      ]
     },
     "metadata": {},
     "output_type": "display_data"
    },
    {
     "data": {
      "application/vnd.jupyter.widget-view+json": {
       "model_id": "05e49474cc0949a0a6464ea417f42ee2",
       "version_major": 2,
       "version_minor": 0
      },
      "text/plain": [
       "0it [00:00, ?it/s]"
      ]
     },
     "metadata": {},
     "output_type": "display_data"
    },
    {
     "data": {
      "application/vnd.jupyter.widget-view+json": {
       "model_id": "16b9006c71144666a6a3c3ad1086fe6a",
       "version_major": 2,
       "version_minor": 0
      },
      "text/plain": [
       "0it [00:00, ?it/s]"
      ]
     },
     "metadata": {},
     "output_type": "display_data"
    },
    {
     "data": {
      "application/vnd.jupyter.widget-view+json": {
       "model_id": "f0c386c5d80c482380ca5fe705456e6e",
       "version_major": 2,
       "version_minor": 0
      },
      "text/plain": [
       "0it [00:00, ?it/s]"
      ]
     },
     "metadata": {},
     "output_type": "display_data"
    },
    {
     "data": {
      "application/vnd.jupyter.widget-view+json": {
       "model_id": "8fb2a5aa0c94416189861f563d03ba5f",
       "version_major": 2,
       "version_minor": 0
      },
      "text/plain": [
       "0it [00:00, ?it/s]"
      ]
     },
     "metadata": {},
     "output_type": "display_data"
    },
    {
     "data": {
      "application/vnd.jupyter.widget-view+json": {
       "model_id": "59e552a10e424d879727754bc38e8bdf",
       "version_major": 2,
       "version_minor": 0
      },
      "text/plain": [
       "0it [00:00, ?it/s]"
      ]
     },
     "metadata": {},
     "output_type": "display_data"
    },
    {
     "data": {
      "application/vnd.jupyter.widget-view+json": {
       "model_id": "a515ea6821324c38a79f7e5d23c1fdd1",
       "version_major": 2,
       "version_minor": 0
      },
      "text/plain": [
       "0it [00:00, ?it/s]"
      ]
     },
     "metadata": {},
     "output_type": "display_data"
    },
    {
     "data": {
      "application/vnd.jupyter.widget-view+json": {
       "model_id": "12ce1848bdc74112a35bf9b07cf65740",
       "version_major": 2,
       "version_minor": 0
      },
      "text/plain": [
       "0it [00:00, ?it/s]"
      ]
     },
     "metadata": {},
     "output_type": "display_data"
    },
    {
     "data": {
      "application/vnd.jupyter.widget-view+json": {
       "model_id": "173b18d49fd244998336d6c8894dde56",
       "version_major": 2,
       "version_minor": 0
      },
      "text/plain": [
       "0it [00:00, ?it/s]"
      ]
     },
     "metadata": {},
     "output_type": "display_data"
    },
    {
     "data": {
      "application/vnd.jupyter.widget-view+json": {
       "model_id": "d41182399c72410290d4be2cfec35dae",
       "version_major": 2,
       "version_minor": 0
      },
      "text/plain": [
       "0it [00:00, ?it/s]"
      ]
     },
     "metadata": {},
     "output_type": "display_data"
    },
    {
     "data": {
      "application/vnd.jupyter.widget-view+json": {
       "model_id": "c3f72701762644319a7d4f685d45acdb",
       "version_major": 2,
       "version_minor": 0
      },
      "text/plain": [
       "0it [00:00, ?it/s]"
      ]
     },
     "metadata": {},
     "output_type": "display_data"
    },
    {
     "data": {
      "application/vnd.jupyter.widget-view+json": {
       "model_id": "ae82c95fcc3d450eb981280a1a99cdf9",
       "version_major": 2,
       "version_minor": 0
      },
      "text/plain": [
       "0it [00:00, ?it/s]"
      ]
     },
     "metadata": {},
     "output_type": "display_data"
    },
    {
     "data": {
      "application/vnd.jupyter.widget-view+json": {
       "model_id": "f7550c8febd745ca8fe7bc4a53f92d05",
       "version_major": 2,
       "version_minor": 0
      },
      "text/plain": [
       "0it [00:00, ?it/s]"
      ]
     },
     "metadata": {},
     "output_type": "display_data"
    },
    {
     "data": {
      "application/vnd.jupyter.widget-view+json": {
       "model_id": "d4ec6c179d1b48579af5ed96cc7b4064",
       "version_major": 2,
       "version_minor": 0
      },
      "text/plain": [
       "0it [00:00, ?it/s]"
      ]
     },
     "metadata": {},
     "output_type": "display_data"
    },
    {
     "data": {
      "application/vnd.jupyter.widget-view+json": {
       "model_id": "33a00cf0efec4b07b7cb9e6229dcd4fc",
       "version_major": 2,
       "version_minor": 0
      },
      "text/plain": [
       "0it [00:00, ?it/s]"
      ]
     },
     "metadata": {},
     "output_type": "display_data"
    },
    {
     "data": {
      "application/vnd.jupyter.widget-view+json": {
       "model_id": "ef6dc8cbd43d4b2b835a5b3d99f95326",
       "version_major": 2,
       "version_minor": 0
      },
      "text/plain": [
       "0it [00:00, ?it/s]"
      ]
     },
     "metadata": {},
     "output_type": "display_data"
    },
    {
     "data": {
      "application/vnd.jupyter.widget-view+json": {
       "model_id": "bee46ad6a76a423499e24354ed048a3c",
       "version_major": 2,
       "version_minor": 0
      },
      "text/plain": [
       "0it [00:00, ?it/s]"
      ]
     },
     "metadata": {},
     "output_type": "display_data"
    },
    {
     "data": {
      "application/vnd.jupyter.widget-view+json": {
       "model_id": "4d5c53e07ff942a78456488285d21954",
       "version_major": 2,
       "version_minor": 0
      },
      "text/plain": [
       "0it [00:00, ?it/s]"
      ]
     },
     "metadata": {},
     "output_type": "display_data"
    },
    {
     "data": {
      "application/vnd.jupyter.widget-view+json": {
       "model_id": "265b860d5a6b4b1eabc04ebc1592cd6b",
       "version_major": 2,
       "version_minor": 0
      },
      "text/plain": [
       "0it [00:00, ?it/s]"
      ]
     },
     "metadata": {},
     "output_type": "display_data"
    },
    {
     "data": {
      "application/vnd.jupyter.widget-view+json": {
       "model_id": "50b7ad51314c465b8edc003875b2a480",
       "version_major": 2,
       "version_minor": 0
      },
      "text/plain": [
       "0it [00:00, ?it/s]"
      ]
     },
     "metadata": {},
     "output_type": "display_data"
    },
    {
     "data": {
      "application/vnd.jupyter.widget-view+json": {
       "model_id": "94d306511e9d46f8bdf9ac6eee3210bc",
       "version_major": 2,
       "version_minor": 0
      },
      "text/plain": [
       "0it [00:00, ?it/s]"
      ]
     },
     "metadata": {},
     "output_type": "display_data"
    },
    {
     "data": {
      "application/vnd.jupyter.widget-view+json": {
       "model_id": "eac58e58e89347509af854b120e0e037",
       "version_major": 2,
       "version_minor": 0
      },
      "text/plain": [
       "0it [00:00, ?it/s]"
      ]
     },
     "metadata": {},
     "output_type": "display_data"
    },
    {
     "data": {
      "application/vnd.jupyter.widget-view+json": {
       "model_id": "19cc3a34e07e44e99d6655677dd7ff25",
       "version_major": 2,
       "version_minor": 0
      },
      "text/plain": [
       "0it [00:00, ?it/s]"
      ]
     },
     "metadata": {},
     "output_type": "display_data"
    },
    {
     "data": {
      "application/vnd.jupyter.widget-view+json": {
       "model_id": "b2abe5354a7d45fdb5a91197453769fb",
       "version_major": 2,
       "version_minor": 0
      },
      "text/plain": [
       "0it [00:00, ?it/s]"
      ]
     },
     "metadata": {},
     "output_type": "display_data"
    },
    {
     "data": {
      "application/vnd.jupyter.widget-view+json": {
       "model_id": "d90400c7425f4d45af8eb7a3a9c99bac",
       "version_major": 2,
       "version_minor": 0
      },
      "text/plain": [
       "0it [00:00, ?it/s]"
      ]
     },
     "metadata": {},
     "output_type": "display_data"
    }
   ],
   "source": [
    "generate_training_data(sequences)"
   ]
  },
  {
   "cell_type": "code",
   "execution_count": 36,
   "id": "67cd1243",
   "metadata": {},
   "outputs": [
    {
     "data": {
      "application/vnd.jupyter.widget-view+json": {
       "model_id": "af8de78411ab4f888fa2fd082b138113",
       "version_major": 2,
       "version_minor": 0
      },
      "text/plain": [
       "  0%|          | 0/114960 [00:00<?, ?it/s]"
      ]
     },
     "metadata": {},
     "output_type": "display_data"
    },
    {
     "data": {
      "application/vnd.jupyter.widget-view+json": {
       "model_id": "d0382f632ea843dfbc7295953adf18c3",
       "version_major": 2,
       "version_minor": 0
      },
      "text/plain": [
       "  0%|          | 0/114960 [00:00<?, ?it/s]"
      ]
     },
     "metadata": {},
     "output_type": "display_data"
    },
    {
     "data": {
      "application/vnd.jupyter.widget-view+json": {
       "model_id": "a1638b1b10f14c7b9032b5ca11830565",
       "version_major": 2,
       "version_minor": 0
      },
      "text/plain": [
       "  0%|          | 0/114960 [00:00<?, ?it/s]"
      ]
     },
     "metadata": {},
     "output_type": "display_data"
    }
   ],
   "source": [
    "targets = [c[0] for c in tqdm([*training_data_map.keys()])]\n",
    "contexts = [c[1] for c in tqdm([*training_data_map.keys()])]\n",
    "labels = [training_data_map[c][0] for c in tqdm([*training_data_map.keys()])]\n"
   ]
  },
  {
   "cell_type": "code",
   "execution_count": 37,
   "id": "261cd177",
   "metadata": {},
   "outputs": [
    {
     "data": {
      "application/vnd.jupyter.widget-view+json": {
       "model_id": "2b6128a787424956b62f47503843fef3",
       "version_major": 2,
       "version_minor": 0
      },
      "text/plain": [
       "  0%|          | 0/114960 [00:00<?, ?it/s]"
      ]
     },
     "metadata": {},
     "output_type": "display_data"
    },
    {
     "data": {
      "text/plain": [
       "count   114960.000\n",
       "mean       565.637\n",
       "std        119.401\n",
       "min         70.000\n",
       "0%          70.000\n",
       "10%        412.000\n",
       "20%        608.000\n",
       "30%        608.000\n",
       "40%        608.000\n",
       "50%        608.000\n",
       "60%        608.000\n",
       "70%        608.000\n",
       "80%        608.000\n",
       "90%        608.000\n",
       "max        608.000\n",
       "dtype: float64"
      ]
     },
     "execution_count": 37,
     "metadata": {},
     "output_type": "execute_result"
    }
   ],
   "source": [
    "# Count distribution\n",
    "pd.Series(training_data_map[c][1] for c in tqdm([*training_data_map.keys()])).describe(np.arange(0,1,0.1))"
   ]
  },
  {
   "cell_type": "code",
   "execution_count": 38,
   "id": "3a3f8656",
   "metadata": {},
   "outputs": [
    {
     "data": {
      "application/vnd.jupyter.widget-view+json": {
       "model_id": "05295a5493e440edbc3eb832e669e9b2",
       "version_major": 2,
       "version_minor": 0
      },
      "text/plain": [
       "  0%|          | 0/114960 [00:00<?, ?it/s]"
      ]
     },
     "metadata": {},
     "output_type": "display_data"
    },
    {
     "data": {
      "text/plain": [
       "count   114960.000\n",
       "mean         1.452\n",
       "std          0.415\n",
       "min          0.065\n",
       "0%           0.065\n",
       "10%          1.020\n",
       "20%          1.122\n",
       "30%          1.205\n",
       "40%          1.284\n",
       "50%          1.370\n",
       "60%          1.468\n",
       "70%          1.587\n",
       "80%          1.742\n",
       "90%          2.014\n",
       "max          5.256\n",
       "dtype: float64"
      ]
     },
     "execution_count": 38,
     "metadata": {},
     "output_type": "execute_result"
    }
   ],
   "source": [
    "# Average diff distribution\n",
    "pd.Series(training_data_map[c][0] for c in tqdm([*training_data_map.keys()])).describe(np.arange(0,1,0.1))"
   ]
  },
  {
   "cell_type": "code",
   "execution_count": 39,
   "id": "bbf80901",
   "metadata": {},
   "outputs": [],
   "source": [
    "targets = np.array(targets)\n",
    "contexts = np.array(contexts)\n",
    "labels = np.array(labels)"
   ]
  },
  {
   "cell_type": "code",
   "execution_count": 40,
   "id": "0ab7c1ce",
   "metadata": {},
   "outputs": [],
   "source": [
    "targets_train, targets_test, contexts_train, contexts_test, labels_train, labels_test = train_test_split(\n",
    "        targets, contexts, labels, test_size = 0.2, shuffle=True, random_state=42\n",
    ")"
   ]
  },
  {
   "cell_type": "markdown",
   "id": "fe447161",
   "metadata": {},
   "source": [
    "# Create Model"
   ]
  },
  {
   "cell_type": "code",
   "execution_count": 56,
   "id": "e895edf5",
   "metadata": {},
   "outputs": [
    {
     "name": "stdout",
     "output_type": "stream",
     "text": [
      "Model: \"model_1\"\n",
      "__________________________________________________________________________________________________\n",
      " Layer (type)                Output Shape                 Param #   Connected to                  \n",
      "==================================================================================================\n",
      " target_input (InputLayer)   [(None, 1)]                  0         []                            \n",
      "                                                                                                  \n",
      " context_input (InputLayer)  [(None, 1)]                  0         []                            \n",
      "                                                                                                  \n",
      " target (Embedding)          (None, 1, 32)                15392     ['target_input[0][0]']        \n",
      "                                                                                                  \n",
      " context (Embedding)         (None, 1, 32)                15392     ['context_input[0][0]']       \n",
      "                                                                                                  \n",
      " reshape_2 (Reshape)         (None, 32)                   0         ['target[0][0]']              \n",
      "                                                                                                  \n",
      " reshape_3 (Reshape)         (None, 32)                   0         ['context[0][0]']             \n",
      "                                                                                                  \n",
      " dot_1 (Dot)                 (None, 1)                    0         ['reshape_2[0][0]',           \n",
      "                                                                     'reshape_3[0][0]']           \n",
      "                                                                                                  \n",
      " dense_1 (Dense)             (None, 1)                    2         ['dot_1[0][0]']               \n",
      "                                                                                                  \n",
      "==================================================================================================\n",
      "Total params: 30786 (120.26 KB)\n",
      "Trainable params: 30786 (120.26 KB)\n",
      "Non-trainable params: 0 (0.00 Byte)\n",
      "__________________________________________________________________________________________________\n"
     ]
    }
   ],
   "source": [
    "EMBEDDING_DIM = 32\n",
    "\n",
    "target_model = Sequential()\n",
    "target_model.add(Embedding(vocab_size, EMBEDDING_DIM, embeddings_initializer='he_normal',input_length=1,name='target'))\n",
    "target_model.add(Reshape((EMBEDDING_DIM, )))\n",
    "\n",
    "context_model = Sequential()\n",
    "context_model.add(Embedding(vocab_size, EMBEDDING_DIM, embeddings_initializer='he_normal',input_length=1,name='context'))\n",
    "context_model.add(Reshape((EMBEDDING_DIM, )))\n",
    "\n",
    "dot_product = dot([target_model.output, context_model.output],axes=1,normalize=True)\n",
    "dot_product = Dense(1,activation='relu')(dot_product)\n",
    "\n",
    "model = tf.keras.Model(inputs=[target_model.input, context_model.input], outputs=dot_product)\n",
    "\n",
    "optimizer = tf.keras.optimizers.Adam(0.001)\n",
    "model.compile(loss='mse',optimizer = optimizer, metrics = ['mae'],run_eagerly=True)\n",
    "\n",
    "model.summary()"
   ]
  },
  {
   "cell_type": "markdown",
   "id": "c22e1158",
   "metadata": {},
   "source": [
    "# Train model"
   ]
  },
  {
   "cell_type": "code",
   "execution_count": 57,
   "id": "d905c80c",
   "metadata": {},
   "outputs": [
    {
     "name": "stdout",
     "output_type": "stream",
     "text": [
      "Epoch 1/50\n",
      "719/719 [==============================] - 10s 13ms/step - loss: 0.9846 - mae: 0.8006 - val_loss: 0.1063 - val_mae: 0.2322\n",
      "Epoch 2/50\n",
      "719/719 [==============================] - 10s 13ms/step - loss: 0.0795 - mae: 0.1960 - val_loss: 0.0582 - val_mae: 0.1636\n",
      "Epoch 3/50\n",
      "719/719 [==============================] - 9s 13ms/step - loss: 0.0379 - mae: 0.1226 - val_loss: 0.0269 - val_mae: 0.1015\n",
      "Epoch 4/50\n",
      "719/719 [==============================] - 9s 13ms/step - loss: 0.0179 - mae: 0.0752 - val_loss: 0.0151 - val_mae: 0.0710\n",
      "Epoch 5/50\n",
      "719/719 [==============================] - 9s 13ms/step - loss: 0.0112 - mae: 0.0584 - val_loss: 0.0110 - val_mae: 0.0611\n",
      "Epoch 6/50\n",
      "719/719 [==============================] - 10s 13ms/step - loss: 0.0084 - mae: 0.0537 - val_loss: 0.0087 - val_mae: 0.0564\n",
      "Epoch 7/50\n",
      "719/719 [==============================] - 10s 13ms/step - loss: 0.0070 - mae: 0.0529 - val_loss: 0.0077 - val_mae: 0.0570\n",
      "Epoch 8/50\n",
      "719/719 [==============================] - 9s 13ms/step - loss: 0.0062 - mae: 0.0534 - val_loss: 0.0070 - val_mae: 0.0569\n",
      "Epoch 9/50\n",
      "719/719 [==============================] - 9s 13ms/step - loss: 0.0054 - mae: 0.0517 - val_loss: 0.0062 - val_mae: 0.0543\n",
      "Epoch 10/50\n",
      "719/719 [==============================] - 9s 13ms/step - loss: 0.0048 - mae: 0.0500 - val_loss: 0.0057 - val_mae: 0.0530\n",
      "Epoch 11/50\n",
      "719/719 [==============================] - 9s 13ms/step - loss: 0.0043 - mae: 0.0476 - val_loss: 0.0052 - val_mae: 0.0513\n",
      "Epoch 12/50\n",
      "719/719 [==============================] - 10s 13ms/step - loss: 0.0039 - mae: 0.0454 - val_loss: 0.0047 - val_mae: 0.0486\n",
      "Epoch 13/50\n",
      "719/719 [==============================] - 9s 13ms/step - loss: 0.0035 - mae: 0.0434 - val_loss: 0.0045 - val_mae: 0.0477\n",
      "Epoch 14/50\n",
      "719/719 [==============================] - 9s 13ms/step - loss: 0.0033 - mae: 0.0420 - val_loss: 0.0041 - val_mae: 0.0445\n",
      "Epoch 15/50\n",
      "719/719 [==============================] - 9s 13ms/step - loss: 0.0030 - mae: 0.0402 - val_loss: 0.0039 - val_mae: 0.0437\n",
      "Epoch 16/50\n",
      "719/719 [==============================] - 9s 13ms/step - loss: 0.0028 - mae: 0.0389 - val_loss: 0.0037 - val_mae: 0.0425\n",
      "Epoch 17/50\n",
      "719/719 [==============================] - 9s 13ms/step - loss: 0.0027 - mae: 0.0380 - val_loss: 0.0036 - val_mae: 0.0413\n",
      "Epoch 18/50\n",
      "719/719 [==============================] - 9s 13ms/step - loss: 0.0025 - mae: 0.0366 - val_loss: 0.0034 - val_mae: 0.0402\n",
      "Epoch 19/50\n",
      "719/719 [==============================] - 9s 13ms/step - loss: 0.0024 - mae: 0.0356 - val_loss: 0.0034 - val_mae: 0.0401\n",
      "Epoch 20/50\n",
      "719/719 [==============================] - 9s 13ms/step - loss: 0.0023 - mae: 0.0351 - val_loss: 0.0033 - val_mae: 0.0393\n",
      "Epoch 21/50\n",
      "719/719 [==============================] - 9s 13ms/step - loss: 0.0022 - mae: 0.0339 - val_loss: 0.0031 - val_mae: 0.0384\n",
      "Epoch 22/50\n",
      "719/719 [==============================] - 9s 13ms/step - loss: 0.0021 - mae: 0.0335 - val_loss: 0.0029 - val_mae: 0.0371\n",
      "Epoch 23/50\n",
      "719/719 [==============================] - 9s 13ms/step - loss: 0.0020 - mae: 0.0325 - val_loss: 0.0030 - val_mae: 0.0371\n",
      "Epoch 24/50\n",
      "719/719 [==============================] - 9s 13ms/step - loss: 0.0019 - mae: 0.0318 - val_loss: 0.0030 - val_mae: 0.0378\n",
      "Epoch 25/50\n",
      "719/719 [==============================] - 9s 13ms/step - loss: 0.0019 - mae: 0.0313 - val_loss: 0.0028 - val_mae: 0.0361\n",
      "Epoch 26/50\n",
      "719/719 [==============================] - 9s 13ms/step - loss: 0.0018 - mae: 0.0306 - val_loss: 0.0028 - val_mae: 0.0355\n",
      "Epoch 27/50\n",
      "719/719 [==============================] - 10s 13ms/step - loss: 0.0017 - mae: 0.0302 - val_loss: 0.0027 - val_mae: 0.0355\n",
      "Epoch 28/50\n",
      "719/719 [==============================] - 9s 13ms/step - loss: 0.0017 - mae: 0.0296 - val_loss: 0.0027 - val_mae: 0.0350\n",
      "Epoch 29/50\n",
      "719/719 [==============================] - 9s 13ms/step - loss: 0.0016 - mae: 0.0292 - val_loss: 0.0027 - val_mae: 0.0350\n",
      "Epoch 30/50\n",
      "719/719 [==============================] - 9s 13ms/step - loss: 0.0016 - mae: 0.0287 - val_loss: 0.0026 - val_mae: 0.0345\n",
      "Epoch 31/50\n",
      "719/719 [==============================] - 9s 13ms/step - loss: 0.0015 - mae: 0.0285 - val_loss: 0.0026 - val_mae: 0.0341\n",
      "Epoch 32/50\n",
      "719/719 [==============================] - 9s 13ms/step - loss: 0.0015 - mae: 0.0280 - val_loss: 0.0025 - val_mae: 0.0339\n",
      "Epoch 33/50\n",
      "719/719 [==============================] - 9s 13ms/step - loss: 0.0014 - mae: 0.0277 - val_loss: 0.0025 - val_mae: 0.0337\n",
      "Epoch 34/50\n",
      "719/719 [==============================] - 9s 13ms/step - loss: 0.0014 - mae: 0.0272 - val_loss: 0.0025 - val_mae: 0.0332\n",
      "Epoch 35/50\n",
      "719/719 [==============================] - 9s 13ms/step - loss: 0.0014 - mae: 0.0269 - val_loss: 0.0025 - val_mae: 0.0330\n",
      "Epoch 36/50\n",
      "719/719 [==============================] - 9s 13ms/step - loss: 0.0013 - mae: 0.0267 - val_loss: 0.0024 - val_mae: 0.0325\n",
      "Epoch 37/50\n",
      "719/719 [==============================] - 9s 13ms/step - loss: 0.0013 - mae: 0.0263 - val_loss: 0.0023 - val_mae: 0.0320\n",
      "Epoch 38/50\n",
      "719/719 [==============================] - 9s 13ms/step - loss: 0.0013 - mae: 0.0262 - val_loss: 0.0023 - val_mae: 0.0321\n",
      "Epoch 39/50\n",
      "719/719 [==============================] - 9s 13ms/step - loss: 0.0013 - mae: 0.0258 - val_loss: 0.0023 - val_mae: 0.0320\n",
      "Epoch 40/50\n",
      "719/719 [==============================] - 9s 13ms/step - loss: 0.0012 - mae: 0.0258 - val_loss: 0.0023 - val_mae: 0.0316\n",
      "Epoch 41/50\n",
      "719/719 [==============================] - 9s 13ms/step - loss: 0.0012 - mae: 0.0254 - val_loss: 0.0023 - val_mae: 0.0317\n",
      "Epoch 42/50\n",
      "719/719 [==============================] - 9s 13ms/step - loss: 0.0012 - mae: 0.0251 - val_loss: 0.0023 - val_mae: 0.0313\n",
      "Epoch 43/50\n",
      "719/719 [==============================] - 9s 13ms/step - loss: 0.0012 - mae: 0.0250 - val_loss: 0.0023 - val_mae: 0.0315\n",
      "Epoch 44/50\n",
      "719/719 [==============================] - 9s 13ms/step - loss: 0.0012 - mae: 0.0249 - val_loss: 0.0023 - val_mae: 0.0315\n",
      "Epoch 45/50\n",
      "719/719 [==============================] - 9s 13ms/step - loss: 0.0011 - mae: 0.0245 - val_loss: 0.0022 - val_mae: 0.0308\n",
      "Epoch 46/50\n",
      "719/719 [==============================] - 9s 13ms/step - loss: 0.0011 - mae: 0.0244 - val_loss: 0.0023 - val_mae: 0.0312\n",
      "Epoch 47/50\n",
      "719/719 [==============================] - 10s 14ms/step - loss: 0.0011 - mae: 0.0243 - val_loss: 0.0022 - val_mae: 0.0309\n",
      "Epoch 48/50\n",
      "719/719 [==============================] - 9s 13ms/step - loss: 0.0011 - mae: 0.0242 - val_loss: 0.0022 - val_mae: 0.0309\n",
      "Epoch 49/50\n",
      "719/719 [==============================] - 9s 13ms/step - loss: 0.0011 - mae: 0.0240 - val_loss: 0.0022 - val_mae: 0.0310\n",
      "Epoch 50/50\n",
      "719/719 [==============================] - 10s 13ms/step - loss: 0.0011 - mae: 0.0239 - val_loss: 0.0022 - val_mae: 0.0303\n"
     ]
    },
    {
     "data": {
      "text/plain": [
       "<keras.src.callbacks.History at 0x7fdfbc8d2dd0>"
      ]
     },
     "execution_count": 57,
     "metadata": {},
     "output_type": "execute_result"
    }
   ],
   "source": [
    "model.fit([targets_train,contexts_train], labels_train,\\\n",
    "          validation_data = ([targets_test, contexts_test], labels_test),\\\n",
    "          batch_size = 128,\\\n",
    "          epochs = 50)"
   ]
  },
  {
   "cell_type": "markdown",
   "id": "a0297dd2",
   "metadata": {},
   "source": [
    "# Retrieve Embeddings"
   ]
  },
  {
   "cell_type": "code",
   "execution_count": 58,
   "id": "46e697e8",
   "metadata": {},
   "outputs": [],
   "source": [
    "def get_embeddings(df_to_parse):\n",
    "    weights = model.get_layer('target').get_weights()[0]\n",
    "    return np.array([weights[inverse_vocab.index(stock)] if stock in inverse_vocab else [np.nan]*EMBEDDING_DIM\\\n",
    "                     for stock in tqdm(df_to_parse.Ticker.unique())]) "
   ]
  },
  {
   "cell_type": "code",
   "execution_count": 59,
   "id": "b11e3331",
   "metadata": {},
   "outputs": [
    {
     "data": {
      "application/vnd.jupyter.widget-view+json": {
       "model_id": "7e432874aa644ba5a2379cc14a035e50",
       "version_major": 2,
       "version_minor": 0
      },
      "text/plain": [
       "  0%|          | 0/481 [00:00<?, ?it/s]"
      ]
     },
     "metadata": {},
     "output_type": "display_data"
    },
    {
     "name": "stdout",
     "output_type": "stream",
     "text": [
      "(481, 33)\n",
      "(479, 34)\n"
     ]
    },
    {
     "data": {
      "text/html": [
       "<div>\n",
       "<style scoped>\n",
       "    .dataframe tbody tr th:only-of-type {\n",
       "        vertical-align: middle;\n",
       "    }\n",
       "\n",
       "    .dataframe tbody tr th {\n",
       "        vertical-align: top;\n",
       "    }\n",
       "\n",
       "    .dataframe thead th {\n",
       "        text-align: right;\n",
       "    }\n",
       "</style>\n",
       "<table border=\"1\" class=\"dataframe\">\n",
       "  <thead>\n",
       "    <tr style=\"text-align: right;\">\n",
       "      <th></th>\n",
       "      <th>STOCK2VEC_0</th>\n",
       "      <th>STOCK2VEC_1</th>\n",
       "      <th>STOCK2VEC_2</th>\n",
       "      <th>STOCK2VEC_3</th>\n",
       "      <th>STOCK2VEC_4</th>\n",
       "      <th>STOCK2VEC_5</th>\n",
       "      <th>STOCK2VEC_6</th>\n",
       "      <th>STOCK2VEC_7</th>\n",
       "      <th>STOCK2VEC_8</th>\n",
       "      <th>STOCK2VEC_9</th>\n",
       "      <th>...</th>\n",
       "      <th>STOCK2VEC_24</th>\n",
       "      <th>STOCK2VEC_25</th>\n",
       "      <th>STOCK2VEC_26</th>\n",
       "      <th>STOCK2VEC_27</th>\n",
       "      <th>STOCK2VEC_28</th>\n",
       "      <th>STOCK2VEC_29</th>\n",
       "      <th>STOCK2VEC_30</th>\n",
       "      <th>STOCK2VEC_31</th>\n",
       "      <th>Ticker</th>\n",
       "      <th>GICS Sector</th>\n",
       "    </tr>\n",
       "  </thead>\n",
       "  <tbody>\n",
       "    <tr>\n",
       "      <th>0</th>\n",
       "      <td>-0.012</td>\n",
       "      <td>-0.037</td>\n",
       "      <td>-0.031</td>\n",
       "      <td>0.015</td>\n",
       "      <td>-0.033</td>\n",
       "      <td>0.155</td>\n",
       "      <td>0.089</td>\n",
       "      <td>0.051</td>\n",
       "      <td>-0.096</td>\n",
       "      <td>0.099</td>\n",
       "      <td>...</td>\n",
       "      <td>0.178</td>\n",
       "      <td>0.656</td>\n",
       "      <td>0.161</td>\n",
       "      <td>0.213</td>\n",
       "      <td>0.059</td>\n",
       "      <td>0.322</td>\n",
       "      <td>-0.557</td>\n",
       "      <td>0.055</td>\n",
       "      <td>A</td>\n",
       "      <td>Health Care</td>\n",
       "    </tr>\n",
       "    <tr>\n",
       "      <th>1</th>\n",
       "      <td>0.093</td>\n",
       "      <td>-0.027</td>\n",
       "      <td>-0.130</td>\n",
       "      <td>-0.040</td>\n",
       "      <td>0.020</td>\n",
       "      <td>-0.015</td>\n",
       "      <td>0.158</td>\n",
       "      <td>-0.083</td>\n",
       "      <td>-0.058</td>\n",
       "      <td>-0.009</td>\n",
       "      <td>...</td>\n",
       "      <td>0.512</td>\n",
       "      <td>0.342</td>\n",
       "      <td>-0.026</td>\n",
       "      <td>0.228</td>\n",
       "      <td>-0.020</td>\n",
       "      <td>0.075</td>\n",
       "      <td>-0.621</td>\n",
       "      <td>0.125</td>\n",
       "      <td>AAL</td>\n",
       "      <td>Industrials</td>\n",
       "    </tr>\n",
       "    <tr>\n",
       "      <th>2</th>\n",
       "      <td>0.094</td>\n",
       "      <td>-0.137</td>\n",
       "      <td>-0.063</td>\n",
       "      <td>0.121</td>\n",
       "      <td>-0.072</td>\n",
       "      <td>0.156</td>\n",
       "      <td>0.267</td>\n",
       "      <td>0.058</td>\n",
       "      <td>-0.031</td>\n",
       "      <td>-0.088</td>\n",
       "      <td>...</td>\n",
       "      <td>0.568</td>\n",
       "      <td>0.610</td>\n",
       "      <td>0.053</td>\n",
       "      <td>0.086</td>\n",
       "      <td>-0.115</td>\n",
       "      <td>0.292</td>\n",
       "      <td>-0.183</td>\n",
       "      <td>0.226</td>\n",
       "      <td>AAPL</td>\n",
       "      <td>Information Technology</td>\n",
       "    </tr>\n",
       "    <tr>\n",
       "      <th>3</th>\n",
       "      <td>-0.028</td>\n",
       "      <td>0.012</td>\n",
       "      <td>-0.070</td>\n",
       "      <td>0.031</td>\n",
       "      <td>-0.027</td>\n",
       "      <td>0.147</td>\n",
       "      <td>0.135</td>\n",
       "      <td>0.070</td>\n",
       "      <td>-0.147</td>\n",
       "      <td>-0.014</td>\n",
       "      <td>...</td>\n",
       "      <td>0.386</td>\n",
       "      <td>0.302</td>\n",
       "      <td>0.029</td>\n",
       "      <td>0.136</td>\n",
       "      <td>-0.026</td>\n",
       "      <td>0.416</td>\n",
       "      <td>-0.708</td>\n",
       "      <td>0.014</td>\n",
       "      <td>ABBV</td>\n",
       "      <td>Health Care</td>\n",
       "    </tr>\n",
       "    <tr>\n",
       "      <th>4</th>\n",
       "      <td>0.002</td>\n",
       "      <td>-0.080</td>\n",
       "      <td>-0.037</td>\n",
       "      <td>0.139</td>\n",
       "      <td>0.026</td>\n",
       "      <td>0.119</td>\n",
       "      <td>0.099</td>\n",
       "      <td>0.227</td>\n",
       "      <td>-0.098</td>\n",
       "      <td>0.084</td>\n",
       "      <td>...</td>\n",
       "      <td>0.571</td>\n",
       "      <td>0.402</td>\n",
       "      <td>0.079</td>\n",
       "      <td>0.001</td>\n",
       "      <td>0.008</td>\n",
       "      <td>0.451</td>\n",
       "      <td>-0.378</td>\n",
       "      <td>0.261</td>\n",
       "      <td>ABT</td>\n",
       "      <td>Health Care</td>\n",
       "    </tr>\n",
       "    <tr>\n",
       "      <th>...</th>\n",
       "      <td>...</td>\n",
       "      <td>...</td>\n",
       "      <td>...</td>\n",
       "      <td>...</td>\n",
       "      <td>...</td>\n",
       "      <td>...</td>\n",
       "      <td>...</td>\n",
       "      <td>...</td>\n",
       "      <td>...</td>\n",
       "      <td>...</td>\n",
       "      <td>...</td>\n",
       "      <td>...</td>\n",
       "      <td>...</td>\n",
       "      <td>...</td>\n",
       "      <td>...</td>\n",
       "      <td>...</td>\n",
       "      <td>...</td>\n",
       "      <td>...</td>\n",
       "      <td>...</td>\n",
       "      <td>...</td>\n",
       "      <td>...</td>\n",
       "    </tr>\n",
       "    <tr>\n",
       "      <th>476</th>\n",
       "      <td>0.018</td>\n",
       "      <td>-0.045</td>\n",
       "      <td>-0.004</td>\n",
       "      <td>0.028</td>\n",
       "      <td>-0.071</td>\n",
       "      <td>0.154</td>\n",
       "      <td>0.079</td>\n",
       "      <td>0.232</td>\n",
       "      <td>-0.032</td>\n",
       "      <td>-0.031</td>\n",
       "      <td>...</td>\n",
       "      <td>0.321</td>\n",
       "      <td>1.017</td>\n",
       "      <td>-0.012</td>\n",
       "      <td>-0.030</td>\n",
       "      <td>-0.054</td>\n",
       "      <td>0.207</td>\n",
       "      <td>-0.270</td>\n",
       "      <td>0.137</td>\n",
       "      <td>YUM</td>\n",
       "      <td>Consumer Discretionary</td>\n",
       "    </tr>\n",
       "    <tr>\n",
       "      <th>477</th>\n",
       "      <td>-0.027</td>\n",
       "      <td>0.012</td>\n",
       "      <td>-0.028</td>\n",
       "      <td>0.126</td>\n",
       "      <td>-0.033</td>\n",
       "      <td>0.105</td>\n",
       "      <td>0.059</td>\n",
       "      <td>0.201</td>\n",
       "      <td>-0.118</td>\n",
       "      <td>-0.020</td>\n",
       "      <td>...</td>\n",
       "      <td>0.398</td>\n",
       "      <td>0.909</td>\n",
       "      <td>0.103</td>\n",
       "      <td>-0.049</td>\n",
       "      <td>-0.066</td>\n",
       "      <td>0.297</td>\n",
       "      <td>-0.234</td>\n",
       "      <td>0.154</td>\n",
       "      <td>ZBH</td>\n",
       "      <td>Health Care</td>\n",
       "    </tr>\n",
       "    <tr>\n",
       "      <th>478</th>\n",
       "      <td>-0.038</td>\n",
       "      <td>-0.008</td>\n",
       "      <td>0.024</td>\n",
       "      <td>0.010</td>\n",
       "      <td>0.006</td>\n",
       "      <td>0.066</td>\n",
       "      <td>0.116</td>\n",
       "      <td>0.074</td>\n",
       "      <td>-0.120</td>\n",
       "      <td>-0.089</td>\n",
       "      <td>...</td>\n",
       "      <td>0.474</td>\n",
       "      <td>0.959</td>\n",
       "      <td>0.081</td>\n",
       "      <td>-0.010</td>\n",
       "      <td>-0.010</td>\n",
       "      <td>0.323</td>\n",
       "      <td>-0.259</td>\n",
       "      <td>0.054</td>\n",
       "      <td>ZBRA</td>\n",
       "      <td>Information Technology</td>\n",
       "    </tr>\n",
       "    <tr>\n",
       "      <th>479</th>\n",
       "      <td>-0.032</td>\n",
       "      <td>0.088</td>\n",
       "      <td>-0.055</td>\n",
       "      <td>0.057</td>\n",
       "      <td>0.007</td>\n",
       "      <td>0.153</td>\n",
       "      <td>0.137</td>\n",
       "      <td>-0.142</td>\n",
       "      <td>0.018</td>\n",
       "      <td>0.178</td>\n",
       "      <td>...</td>\n",
       "      <td>0.227</td>\n",
       "      <td>0.874</td>\n",
       "      <td>0.107</td>\n",
       "      <td>-0.006</td>\n",
       "      <td>-0.061</td>\n",
       "      <td>0.335</td>\n",
       "      <td>-0.271</td>\n",
       "      <td>-0.026</td>\n",
       "      <td>ZION</td>\n",
       "      <td>Financials</td>\n",
       "    </tr>\n",
       "    <tr>\n",
       "      <th>480</th>\n",
       "      <td>0.084</td>\n",
       "      <td>-0.089</td>\n",
       "      <td>-0.111</td>\n",
       "      <td>0.018</td>\n",
       "      <td>0.033</td>\n",
       "      <td>0.166</td>\n",
       "      <td>0.004</td>\n",
       "      <td>0.070</td>\n",
       "      <td>-0.121</td>\n",
       "      <td>0.007</td>\n",
       "      <td>...</td>\n",
       "      <td>0.328</td>\n",
       "      <td>0.267</td>\n",
       "      <td>0.144</td>\n",
       "      <td>0.132</td>\n",
       "      <td>0.035</td>\n",
       "      <td>0.470</td>\n",
       "      <td>-0.395</td>\n",
       "      <td>0.084</td>\n",
       "      <td>ZTS</td>\n",
       "      <td>Health Care</td>\n",
       "    </tr>\n",
       "  </tbody>\n",
       "</table>\n",
       "<p>479 rows × 34 columns</p>\n",
       "</div>"
      ],
      "text/plain": [
       "     STOCK2VEC_0  STOCK2VEC_1  STOCK2VEC_2  STOCK2VEC_3  STOCK2VEC_4  \\\n",
       "0         -0.012       -0.037       -0.031        0.015       -0.033   \n",
       "1          0.093       -0.027       -0.130       -0.040        0.020   \n",
       "2          0.094       -0.137       -0.063        0.121       -0.072   \n",
       "3         -0.028        0.012       -0.070        0.031       -0.027   \n",
       "4          0.002       -0.080       -0.037        0.139        0.026   \n",
       "..           ...          ...          ...          ...          ...   \n",
       "476        0.018       -0.045       -0.004        0.028       -0.071   \n",
       "477       -0.027        0.012       -0.028        0.126       -0.033   \n",
       "478       -0.038       -0.008        0.024        0.010        0.006   \n",
       "479       -0.032        0.088       -0.055        0.057        0.007   \n",
       "480        0.084       -0.089       -0.111        0.018        0.033   \n",
       "\n",
       "     STOCK2VEC_5  STOCK2VEC_6  STOCK2VEC_7  STOCK2VEC_8  STOCK2VEC_9  ...  \\\n",
       "0          0.155        0.089        0.051       -0.096        0.099  ...   \n",
       "1         -0.015        0.158       -0.083       -0.058       -0.009  ...   \n",
       "2          0.156        0.267        0.058       -0.031       -0.088  ...   \n",
       "3          0.147        0.135        0.070       -0.147       -0.014  ...   \n",
       "4          0.119        0.099        0.227       -0.098        0.084  ...   \n",
       "..           ...          ...          ...          ...          ...  ...   \n",
       "476        0.154        0.079        0.232       -0.032       -0.031  ...   \n",
       "477        0.105        0.059        0.201       -0.118       -0.020  ...   \n",
       "478        0.066        0.116        0.074       -0.120       -0.089  ...   \n",
       "479        0.153        0.137       -0.142        0.018        0.178  ...   \n",
       "480        0.166        0.004        0.070       -0.121        0.007  ...   \n",
       "\n",
       "     STOCK2VEC_24  STOCK2VEC_25  STOCK2VEC_26  STOCK2VEC_27  STOCK2VEC_28  \\\n",
       "0           0.178         0.656         0.161         0.213         0.059   \n",
       "1           0.512         0.342        -0.026         0.228        -0.020   \n",
       "2           0.568         0.610         0.053         0.086        -0.115   \n",
       "3           0.386         0.302         0.029         0.136        -0.026   \n",
       "4           0.571         0.402         0.079         0.001         0.008   \n",
       "..            ...           ...           ...           ...           ...   \n",
       "476         0.321         1.017        -0.012        -0.030        -0.054   \n",
       "477         0.398         0.909         0.103        -0.049        -0.066   \n",
       "478         0.474         0.959         0.081        -0.010        -0.010   \n",
       "479         0.227         0.874         0.107        -0.006        -0.061   \n",
       "480         0.328         0.267         0.144         0.132         0.035   \n",
       "\n",
       "     STOCK2VEC_29  STOCK2VEC_30  STOCK2VEC_31  Ticker             GICS Sector  \n",
       "0           0.322        -0.557         0.055       A             Health Care  \n",
       "1           0.075        -0.621         0.125     AAL             Industrials  \n",
       "2           0.292        -0.183         0.226    AAPL  Information Technology  \n",
       "3           0.416        -0.708         0.014    ABBV             Health Care  \n",
       "4           0.451        -0.378         0.261     ABT             Health Care  \n",
       "..            ...           ...           ...     ...                     ...  \n",
       "476         0.207        -0.270         0.137     YUM  Consumer Discretionary  \n",
       "477         0.297        -0.234         0.154     ZBH             Health Care  \n",
       "478         0.323        -0.259         0.054    ZBRA  Information Technology  \n",
       "479         0.335        -0.271        -0.026    ZION              Financials  \n",
       "480         0.470        -0.395         0.084     ZTS             Health Care  \n",
       "\n",
       "[479 rows x 34 columns]"
      ]
     },
     "execution_count": 59,
     "metadata": {},
     "output_type": "execute_result"
    }
   ],
   "source": [
    "embedding_values = pd.DataFrame(get_embeddings(input_data),columns=['STOCK2VEC_'+str(i) for i in range(EMBEDDING_DIM)])\n",
    "embedding_values['Ticker'] = input_data.Ticker.unique()\n",
    "print(embedding_values.shape)\n",
    "embedding_values = pd.merge(embedding_values, df[['Ticker','GICS Sector']].drop_duplicates(),on='Ticker',how='left')\n",
    "embedding_values = embedding_values.dropna()\n",
    "print(embedding_values.shape)\n",
    "embedding_values"
   ]
  },
  {
   "cell_type": "markdown",
   "id": "6b5fe058",
   "metadata": {},
   "source": [
    "# Plot Stocks"
   ]
  },
  {
   "cell_type": "code",
   "execution_count": 71,
   "id": "65f487b2",
   "metadata": {},
   "outputs": [
    {
     "name": "stdout",
     "output_type": "stream",
     "text": [
      "[0.20261912 0.36390838 0.4495577 ]\n",
      "(479, 3) (479, 34)\n"
     ]
    }
   ],
   "source": [
    "from sklearn.decomposition import PCA\n",
    "from matplotlib import pyplot\n",
    "from mpl_toolkits.mplot3d import Axes3D\n",
    "\n",
    "def plot_3D(result,embedding_values,ticker_to_highlight,color_column):\n",
    "    PCs_3d = pd.DataFrame(result)\n",
    "    PCs_3d.columns = ['PC1','PC2','PC3']\n",
    "    \n",
    "    plot_df = pd.concat([PCs_3d.reset_index(drop=True),embedding_values.reset_index(drop=True)],axis=1)\n",
    "    plot_df = pd.merge(plot_df, ticker_level_df,on='Ticker',how='left')\n",
    "    print(plot_df.shape)\n",
    "    plot_df = plot_df.dropna()\n",
    "    print(plot_df.shape)\n",
    "\n",
    "    print(plot_df.columns)\n",
    "    columns_to_hover = ['Ticker','return']\n",
    "    \n",
    "    all_stocks = px.scatter_3d(\n",
    "            plot_df,\n",
    "            x = 'PC1',\n",
    "            y = 'PC2',\n",
    "            z = 'PC3',\n",
    "            title = 'Stock2Vec',\n",
    "#             color = 'GICS Sector',\n",
    "#             color = 'return',\n",
    "            color = color_column,\n",
    "            custom_data = columns_to_hover\n",
    "    )\n",
    "    \n",
    "    all_stocks.update_traces(marker={'size':5})\n",
    "    all_stocks.update_traces(hovertemplate=\"<br>\".join(['\\\"'+f+\": %{customdata[\"+str(i)+']}\\\"' \\\n",
    "                                                    for i, f in enumerate(columns_to_hover)]))\n",
    "    \n",
    "    search_stock = plot_df[plot_df['Ticker']==ticker_to_highlight].iloc[0:1]\n",
    "    \n",
    "    search_stock_trace = px.scatter_3d(\n",
    "                                search_stock,\n",
    "                                x = [search_stock['PC1'].iloc[0]],\n",
    "                                y = [search_stock['PC2'].iloc[0]],\n",
    "                                z = [search_stock['PC3'].iloc[0]],\n",
    "                                symbol_sequence = ['diamond'],\n",
    "                                size = [7],\n",
    "                                color_discrete_sequence = ['red'],\n",
    "                                custom_data = columns_to_hover\n",
    "    )\n",
    "    \n",
    "    search_stock_trace.update_traces(hovertemplate=\"<br>\".join(['\\\"'+f+\": %{customdata[\"+str(i)+']}\\\"' \\\n",
    "                                                    for i, f in enumerate(columns_to_hover)]))\n",
    "    \n",
    "    fig = go.Figure(data=all_stocks.data+search_stock_trace.data)\n",
    "    fig.show()\n",
    "\n",
    "all_stock_vecs = embedding_values.drop(['Ticker','GICS Sector'],axis=1)\n",
    "pca = PCA(n_components=3)\n",
    "result = pca.fit_transform(all_stock_vecs)\n",
    "\n",
    "print(pca.explained_variance_ratio_.cumsum())\n",
    "print(result.shape, embedding_values.shape)\n"
   ]
  },
  {
   "cell_type": "code",
   "execution_count": 72,
   "id": "16ccac94",
   "metadata": {},
   "outputs": [
    {
     "name": "stdout",
     "output_type": "stream",
     "text": [
      "(479, 38)\n",
      "(445, 38)\n",
      "Index(['PC1', 'PC2', 'PC3', 'STOCK2VEC_0', 'STOCK2VEC_1', 'STOCK2VEC_2',\n",
      "       'STOCK2VEC_3', 'STOCK2VEC_4', 'STOCK2VEC_5', 'STOCK2VEC_6',\n",
      "       'STOCK2VEC_7', 'STOCK2VEC_8', 'STOCK2VEC_9', 'STOCK2VEC_10',\n",
      "       'STOCK2VEC_11', 'STOCK2VEC_12', 'STOCK2VEC_13', 'STOCK2VEC_14',\n",
      "       'STOCK2VEC_15', 'STOCK2VEC_16', 'STOCK2VEC_17', 'STOCK2VEC_18',\n",
      "       'STOCK2VEC_19', 'STOCK2VEC_20', 'STOCK2VEC_21', 'STOCK2VEC_22',\n",
      "       'STOCK2VEC_23', 'STOCK2VEC_24', 'STOCK2VEC_25', 'STOCK2VEC_26',\n",
      "       'STOCK2VEC_27', 'STOCK2VEC_28', 'STOCK2VEC_29', 'STOCK2VEC_30',\n",
      "       'STOCK2VEC_31', 'Ticker', 'GICS Sector', 'return'],\n",
      "      dtype='object')\n"
     ]
    },
    {
     "data": {
      "application/vnd.plotly.v1+json": {
       "config": {
        "plotlyServerURL": "https://plot.ly"
       },
       "data": [
        {
         "customdata": [
          [
           "A",
           -0.7366818589894408
          ],
          [
           "AAL",
           4.000051632380774
          ],
          [
           "AAPL",
           0.29828598982328813
          ],
          [
           "ABT",
           -0.5197285139178387
          ],
          [
           "ACGL",
           -0.37189163478978937
          ],
          [
           "ACN",
           -0.4990103097512133
          ],
          [
           "ADBE",
           1.733527552930747
          ],
          [
           "ADI",
           -0.3065038262078712
          ],
          [
           "ADM",
           -0.05889382460078085
          ],
          [
           "ADP",
           1.0800827222374743
          ],
          [
           "ADSK",
           6.513759638243921
          ],
          [
           "AEE",
           -0.7305323403173358
          ],
          [
           "AEP",
           -2.0261543978041807
          ],
          [
           "AES",
           0.8295081780166802
          ],
          [
           "AFL",
           -0.7144672890601278
          ],
          [
           "AIG",
           6.824370660811208
          ],
          [
           "AIZ",
           -0.12782607283507996
          ],
          [
           "AJG",
           -0.4510039722385173
          ],
          [
           "AKAM",
           3.1077621662117583
          ],
          [
           "ALB",
           -0.8449365000493092
          ],
          [
           "ALGN",
           1.1725787871388338
          ],
          [
           "ALL",
           -0.6763945164896978
          ],
          [
           "AMAT",
           -2.022944770526358
          ],
          [
           "AMD",
           1.076615640483003
          ],
          [
           "AME",
           0.06878405167134449
          ],
          [
           "AMGN",
           -0.5549760510901169
          ],
          [
           "AMP",
           1.0920701295741297
          ],
          [
           "AMT",
           -1.8992124238855324
          ],
          [
           "AMZN",
           0.7829099180912236
          ],
          [
           "ANSS",
           1.1233754368738857
          ],
          [
           "AON",
           -0.49753388612847615
          ],
          [
           "AOS",
           1.7684655332356858
          ],
          [
           "APA",
           1.9831388027990338
          ],
          [
           "APD",
           -0.9569323951468145
          ],
          [
           "APH",
           -1.3219961129611102
          ],
          [
           "ARE",
           0.24396511096191897
          ],
          [
           "ATO",
           -0.17061269515197264
          ],
          [
           "AVB",
           -0.242167453600306
          ],
          [
           "AVGO",
           -0.5554251365740726
          ],
          [
           "AVY",
           -1.188138044846887
          ],
          [
           "AWK",
           -1.0650887653905539
          ],
          [
           "AXON",
           1.7863539589176858
          ],
          [
           "AXP",
           2.38180178747065
          ],
          [
           "AZO",
           -1.7428236457047386
          ],
          [
           "BA",
           0.28696418727696127
          ],
          [
           "BAC",
           1.3061774869973952
          ],
          [
           "BALL",
           0.22688103189139053
          ],
          [
           "BAX",
           0.6781450714205661
          ],
          [
           "BBWI",
           -1.6560971325717988
          ],
          [
           "BBY",
           1.3347898255650748
          ],
          [
           "BDX",
           -0.4957735422907117
          ],
          [
           "BEN",
           -2.160375343927301
          ],
          [
           "BG",
           1.6505296349176302
          ],
          [
           "BIIB",
           -0.09804361502856462
          ],
          [
           "BIO",
           0.2400012098981108
          ],
          [
           "BK",
           2.940943073814317
          ],
          [
           "BKNG",
           5.396535331854557
          ],
          [
           "BKR",
           -0.3766321806128792
          ],
          [
           "BLDR",
           -0.5197285139178387
          ],
          [
           "BLK",
           0.5116308989368212
          ],
          [
           "BMY",
           -0.9400387289818735
          ],
          [
           "BR",
           -0.3838399983808083
          ],
          [
           "BRO",
           0.5694566995498196
          ],
          [
           "BSX",
           0.14872323216994499
          ],
          [
           "BWA",
           0.4042642947759356
          ],
          [
           "BX",
           -0.5865465523915092
          ],
          [
           "BXP",
           0.15081274931978417
          ],
          [
           "C",
           0.9088312750036298
          ],
          [
           "CAG",
           -0.29886937374066225
          ],
          [
           "CAH",
           0.2578909714930244
          ],
          [
           "CAT",
           0.3446162697971822
          ],
          [
           "CB",
           -0.8573155478212691
          ],
          [
           "CBOE",
           -0.8136039847149723
          ],
          [
           "CBRE",
           0.4102789810379148
          ],
          [
           "CCI",
           -1.557776791411336
          ],
          [
           "CCL",
           0.4571296902849964
          ],
          [
           "CDNS",
           -0.5197285139178387
          ],
          [
           "CE",
           -0.495757339943359
          ],
          [
           "CF",
           0.97673567269978
          ],
          [
           "CHD",
           -0.18696641804347713
          ],
          [
           "CHRW",
           -1.2283142570748473
          ],
          [
           "CHTR",
           -0.5954830100107444
          ],
          [
           "CI",
           -0.19957189952959364
          ],
          [
           "CINF",
           -0.23891248211804772
          ],
          [
           "CL",
           -1.1472324055162741
          ],
          [
           "CLX",
           0.08123603268324064
          ],
          [
           "CMA",
           -0.9348663354004749
          ],
          [
           "CMCSA",
           0.8171835927672344
          ],
          [
           "CME",
           -2.295848571290837
          ],
          [
           "CMG",
           -1.1358166315910578
          ],
          [
           "CMI",
           0.7257672796354253
          ],
          [
           "CMS",
           -0.7857318472694108
          ],
          [
           "CNC",
           -1.0532627779025971
          ],
          [
           "CNP",
           -0.8987124192739504
          ],
          [
           "COF",
           3.692741180739212
          ],
          [
           "COO",
           -1.104952495497935
          ],
          [
           "COP",
           -1.0058759567462494
          ],
          [
           "COR",
           1.0123789517916704
          ],
          [
           "COST",
           -2.3723842985599375
          ],
          [
           "CPB",
           -0.20053443011900374
          ],
          [
           "CPRT",
           -0.4129169926563314
          ],
          [
           "CPT",
           0.05754995963143106
          ],
          [
           "CRL",
           0.7233674901025555
          ],
          [
           "CRM",
           4.277967992607823
          ],
          [
           "CSCO",
           0.6985736030097112
          ],
          [
           "CSGP",
           -0.0076047374716115
          ],
          [
           "CSX",
           0.21407912124775663
          ],
          [
           "CTAS",
           0.6729291850832597
          ],
          [
           "CTRA",
           -0.573015359361051
          ],
          [
           "CTSH",
           2.2175925099932936
          ],
          [
           "CVS",
           0.5368113937674446
          ],
          [
           "CVX",
           -0.6944267003284543
          ],
          [
           "D",
           -0.774730277160196
          ],
          [
           "DAL",
           3.071620072875225
          ],
          [
           "DD",
           -0.6924174211879963
          ],
          [
           "DE",
           0.9497852408381302
          ],
          [
           "DFS",
           2.4340654114125115
          ],
          [
           "DG",
           -1.9604534485281544
          ],
          [
           "DGX",
           1.128680076226285
          ],
          [
           "DHI",
           2.7275760892093714
          ],
          [
           "DHR",
           -0.6262912944881904
          ],
          [
           "DIS",
           1.968062606958143
          ],
          [
           "DLR",
           -0.0489760295775854
          ],
          [
           "DLTR",
           -5.379063124531269
          ],
          [
           "DOV",
           -1.5062797761784208
          ],
          [
           "DPZ",
           2.634236327391082
          ],
          [
           "DRI",
           -1.6760903340000688
          ],
          [
           "DTE",
           -0.4979043438007258
          ],
          [
           "DUK",
           -1.5225203155030953
          ],
          [
           "DVA",
           -1.7427100470290502
          ],
          [
           "DVN",
           0.1196661736258875
          ],
          [
           "DXCM",
           2.333125263463076
          ],
          [
           "EA",
           -1.1302314770582078
          ],
          [
           "EBAY",
           0.39351195646613046
          ],
          [
           "ECL",
           -0.3187554166102391
          ],
          [
           "ED",
           -1.1836848282806067
          ],
          [
           "EFX",
           0.48503625771296743
          ],
          [
           "EG",
           -1.4479855616049142
          ],
          [
           "EIX",
           -1.7790260912390332
          ],
          [
           "EL",
           0.5569885767731098
          ],
          [
           "ELV",
           -0.2625906729503358
          ],
          [
           "EMN",
           0.21716567579541657
          ],
          [
           "EMR",
           0.7192270236543674
          ],
          [
           "EOG",
           -0.3135073270149835
          ],
          [
           "EQIX",
           0.07525515199688915
          ],
          [
           "EQR",
           -0.5783485321736892
          ],
          [
           "EQT",
           0.3017774340663637
          ],
          [
           "ES",
           -1.8049879026804772
          ],
          [
           "ESS",
           0.17412347019043484
          ],
          [
           "ETN",
           0.18750157802387424
          ],
          [
           "ETR",
           -1.313019435306917
          ],
          [
           "EVRG",
           -0.9912641580049231
          ],
          [
           "EW",
           -2.3261257570707183
          ],
          [
           "EXC",
           0.045382079408118337
          ],
          [
           "EXPD",
           -0.9034950829863053
          ],
          [
           "EXPE",
           3.6162479535053027
          ],
          [
           "EXR",
           -0.2372810962427918
          ],
          [
           "F",
           2.414668798978048
          ],
          [
           "FAST",
           -0.08506836580703947
          ],
          [
           "FCX",
           -0.856588800319158
          ],
          [
           "FDS",
           -0.3058457236450707
          ],
          [
           "FDX",
           0.2856904925913506
          ],
          [
           "FE",
           -0.17656287257377112
          ],
          [
           "FFIV",
           3.432710096234959
          ],
          [
           "FI",
           0.31874118146446584
          ],
          [
           "FICO",
           -0.47634410168884145
          ],
          [
           "FIS",
           1.2333931609587179
          ],
          [
           "FITB",
           1.0417500171050698
          ],
          [
           "FLT",
           0.8812057179264476
          ],
          [
           "FMC",
           -1.5252971363136747
          ],
          [
           "FRT",
           -1.5530072990765253
          ],
          [
           "FSLR",
           -0.1536432453063563
          ],
          [
           "FTNT",
           3.8554535640408893
          ],
          [
           "GD",
           -0.06447450029227753
          ],
          [
           "GE",
           -0.3585529516086483
          ],
          [
           "GEN",
           2.16093330847813
          ],
          [
           "GILD",
           0.9401150198226071
          ],
          [
           "GIS",
           2.086012298497142
          ],
          [
           "GL",
           0.6257594916869946
          ],
          [
           "GLW",
           -0.9916846219373165
          ],
          [
           "GM",
           -0.07119758360885076
          ],
          [
           "GNRC",
           0.6052770039633559
          ],
          [
           "GOOG",
           0.634534509322715
          ],
          [
           "GOOGL",
           0.6345299569923801
          ],
          [
           "GPC",
           -0.7522833542139895
          ],
          [
           "GPN",
           0.15607067368077487
          ],
          [
           "GRMN",
           0.7354872788169597
          ],
          [
           "GS",
           0.011800442470732975
          ],
          [
           "GWW",
           -0.9147686594435323
          ],
          [
           "HAL",
           -0.8484515296116935
          ],
          [
           "HAS",
           -0.019868076540108248
          ],
          [
           "HBAN",
           -0.6588406774977962
          ],
          [
           "HD",
           -0.8370119336502668
          ],
          [
           "HES",
           1.6924453496734326
          ],
          [
           "HIG",
           0.9119068013299314
          ],
          [
           "HOLX",
           -0.72936692240132
          ],
          [
           "HON",
           1.144471481793441
          ],
          [
           "HPQ",
           0.7866838731585224
          ],
          [
           "HRL",
           -2.1574502276471286
          ],
          [
           "HSIC",
           -0.584209900513033
          ],
          [
           "HST",
           1.5267295038368323
          ],
          [
           "HSY",
           0.01943145032810012
          ],
          [
           "HUBB",
           -0.403759334768794
          ],
          [
           "HUM",
           -0.9898802779566895
          ],
          [
           "IBM",
           -0.9193481321012831
          ],
          [
           "ICE",
           -0.7909532040251466
          ],
          [
           "IDXX",
           -0.20033067786144887
          ],
          [
           "IEX",
           -0.7524751875633617
          ],
          [
           "IFF",
           -0.2504783247231135
          ],
          [
           "ILMN",
           2.2359877410391027
          ],
          [
           "INCY",
           -1.6073321763039772
          ],
          [
           "INTC",
           -1.5126082348351
          ],
          [
           "INTU",
           -1.6355812015904525
          ],
          [
           "IP",
           0.7033032007844442
          ],
          [
           "IPG",
           0.9129270210859408
          ],
          [
           "IRM",
           0.5814355920276126
          ],
          [
           "ISRG",
           0.1906160016874825
          ],
          [
           "IT",
           0.8899931973960884
          ],
          [
           "ITW",
           -0.02027331138012567
          ],
          [
           "IVZ",
           -0.6016587943954099
          ],
          [
           "J",
           -1.7143527707125905
          ],
          [
           "JBHT",
           -0.3985236545178905
          ],
          [
           "JBL",
           1.691810624863166
          ],
          [
           "JCI",
           -0.42613692788895374
          ],
          [
           "JKHY",
           0.16285266462914283
          ],
          [
           "JNJ",
           -0.5828812482894241
          ],
          [
           "JNPR",
           1.4178320765032337
          ],
          [
           "JPM",
           0.7030864657798119
          ],
          [
           "K",
           -0.948636193067709
          ],
          [
           "KDP",
           1.5929438047869615
          ],
          [
           "KEY",
           0.14991883758297408
          ],
          [
           "KIM",
           0.9255114333778902
          ],
          [
           "KLAC",
           -2.027038094565714
          ],
          [
           "KMB",
           -0.1858693199843442
          ],
          [
           "KMX",
           2.185555952682283
          ],
          [
           "KO",
           -1.1146707859575833
          ],
          [
           "KR",
           0.17157676989967285
          ],
          [
           "L",
           0.294574138570769
          ],
          [
           "LDOS",
           0.1068626678515594
          ],
          [
           "LEN",
           2.058107213024951
          ],
          [
           "LH",
           -0.209040693399265
          ],
          [
           "LHX",
           0.3825488779183983
          ],
          [
           "LIN",
           -0.5937424957730975
          ],
          [
           "LKQ",
           -0.17459675329272173
          ],
          [
           "LLY",
           -1.2333971990038273
          ],
          [
           "LMT",
           1.7701249376427475
          ],
          [
           "LNT",
           -0.6537605599509999
          ],
          [
           "LOW",
           -0.03113384744164449
          ],
          [
           "LRCX",
           -4.871102628542278
          ],
          [
           "LULU",
           1.3999157927938155
          ],
          [
           "LUV",
           -0.5947897464123386
          ],
          [
           "LVS",
           0.10880221322397965
          ],
          [
           "LYB",
           -0.5771219433390318
          ],
          [
           "LYV",
           1.3223771455036504
          ],
          [
           "MA",
           2.4261484258754296
          ],
          [
           "MAA",
           -0.5036267315698062
          ],
          [
           "MAR",
           0.4763816338354099
          ],
          [
           "MAS",
           2.3373463457168953
          ],
          [
           "MCD",
           -0.04873401738254568
          ],
          [
           "MCHP",
           -0.2317336624425348
          ],
          [
           "MCK",
           0.19036820739382065
          ],
          [
           "MCO",
           2.032838372221457
          ],
          [
           "MDLZ",
           -0.7412299955123491
          ],
          [
           "MDT",
           -1.563790714074631
          ],
          [
           "MET",
           0.7675971356038591
          ],
          [
           "MGM",
           0.32774339312533485
          ],
          [
           "MHK",
           0.022889292485039903
          ],
          [
           "MKC",
           -1.3226673928654398
          ],
          [
           "MKTX",
           -0.21640633613644322
          ],
          [
           "MLM",
           -3.1065414787228796
          ],
          [
           "MMC",
           -0.6278558923720201
          ],
          [
           "MMM",
           -0.5197285139178387
          ],
          [
           "MNST",
           -1.1508278164169772
          ],
          [
           "MO",
           -0.15072780336939928
          ],
          [
           "MOH",
           -1.6090572518846935
          ],
          [
           "MOS",
           2.3202327615690743
          ],
          [
           "MPWR",
           0.11437912553564633
          ],
          [
           "MRK",
           0.058026030111224536
          ],
          [
           "MRO",
           -0.6267000266373834
          ],
          [
           "MS",
           0.7447568819517025
          ],
          [
           "MSCI",
           0.8204861637419514
          ],
          [
           "MSFT",
           -0.8401279191597277
          ],
          [
           "MSI",
           -0.3688315919867291
          ],
          [
           "MTB",
           0.6642065134305097
          ],
          [
           "MTCH",
           0.32973454779179345
          ],
          [
           "MTD",
           -1.1267476375422247
          ],
          [
           "MU",
           0.6651056365418295
          ],
          [
           "NDAQ",
           -1.648480022699661
          ],
          [
           "NDSN",
           -0.11245595366269345
          ],
          [
           "NEE",
           -1.2969508494423465
          ],
          [
           "NEM",
           -2.076924929092294
          ],
          [
           "NFLX",
           -1.4239560553844566
          ],
          [
           "NI",
           -0.12776453868239557
          ],
          [
           "NKE",
           0.13526768233538267
          ],
          [
           "NOC",
           0.00044748386265336393
          ],
          [
           "NRG",
           -1.5277898624636355
          ],
          [
           "NSC",
           0.0008414202658846293
          ],
          [
           "NTAP",
           0.3342314054253226
          ],
          [
           "NTRS",
           0.46240910789960843
          ],
          [
           "NUE",
           0.5981710087471059
          ],
          [
           "NVDA",
           7.153071103677222
          ],
          [
           "NVR",
           0.6560700985986045
          ],
          [
           "NXPI",
           5.7046849101825
          ],
          [
           "O",
           -0.6081868863049955
          ],
          [
           "ODFL",
           -0.6736323997330484
          ],
          [
           "OKE",
           -0.9512407559925551
          ],
          [
           "OMC",
           0.7116682476218772
          ],
          [
           "ON",
           0.06678587808166547
          ],
          [
           "ORCL",
           -1.9174420811216675
          ],
          [
           "ORLY",
           -0.2443889067391014
          ],
          [
           "OXY",
           -0.1473083694382149
          ],
          [
           "PARA",
           -1.6525676160619729
          ],
          [
           "PAYX",
           2.049399568162502
          ],
          [
           "PCAR",
           0.3554744761187445
          ],
          [
           "PCG",
           -2.074346282248418
          ],
          [
           "PEAK",
           -0.33150650937789905
          ],
          [
           "PEG",
           -1.343025831886424
          ],
          [
           "PEP",
           1.2843220588915072
          ],
          [
           "PFE",
           0.14732870111116014
          ],
          [
           "PFG",
           -0.36830259546538624
          ],
          [
           "PG",
           -0.7506997900198487
          ],
          [
           "PGR",
           -0.12074985116954373
          ],
          [
           "PH",
           -0.3710526969441741
          ],
          [
           "PHM",
           3.251379278262889
          ],
          [
           "PKG",
           2.7983344127110676
          ],
          [
           "PLD",
           1.1856935920889322
          ],
          [
           "PM",
           -0.8094180866873191
          ],
          [
           "PNC",
           1.4099943091257172
          ],
          [
           "PNR",
           -0.46484722448969507
          ],
          [
           "PNW",
           -1.191775731502387
          ],
          [
           "PODD",
           1.4472731449671539
          ],
          [
           "POOL",
           0.7499933707062256
          ],
          [
           "PPG",
           0.04363546679191366
          ],
          [
           "PPL",
           -0.8170901082847792
          ],
          [
           "PRU",
           -0.568898296717335
          ],
          [
           "PSA",
           0.47047495392258387
          ],
          [
           "PTC",
           1.5571660425696354
          ],
          [
           "PWR",
           -0.7592123681038565
          ],
          [
           "PXD",
           0.2000949479798786
          ],
          [
           "QCOM",
           1.5599316956423692
          ],
          [
           "RCL",
           0.5548695859612707
          ],
          [
           "REG",
           0.00496902114675013
          ],
          [
           "REGN",
           -0.4295222736646176
          ],
          [
           "RF",
           2.0407110402677064
          ],
          [
           "RHI",
           3.2241192676449426
          ],
          [
           "RJF",
           -0.303874040165808
          ],
          [
           "RL",
           -0.5751124894758042
          ],
          [
           "RMD",
           -2.5321818156375797
          ],
          [
           "ROK",
           -0.24819136716676127
          ],
          [
           "ROL",
           1.2936755871897354
          ],
          [
           "ROP",
           0.03414504061176604
          ],
          [
           "ROST",
           0.20370613861944165
          ],
          [
           "RSG",
           -1.5561467854524613
          ],
          [
           "RTX",
           -0.3806740632545935
          ],
          [
           "RVTY",
           -1.2619041200460313
          ],
          [
           "SBAC",
           -1.1779778304831012
          ],
          [
           "SBUX",
           -0.919990361785572
          ],
          [
           "SCHW",
           4.474450841962274
          ],
          [
           "SHW",
           -1.8575320956963015
          ],
          [
           "SJM",
           -0.5829450301881534
          ],
          [
           "SLB",
           0.6563058132302624
          ],
          [
           "SNA",
           -1.54851442925672
          ],
          [
           "SNPS",
           -0.7432734677229047
          ],
          [
           "SO",
           -1.5586716493959596
          ],
          [
           "SPG",
           -0.20323923178930947
          ],
          [
           "SPGI",
           1.271800361316422
          ],
          [
           "SRE",
           -1.6060568066352587
          ],
          [
           "STE",
           0.02791343058978768
          ],
          [
           "STLD",
           0.7839361317963922
          ],
          [
           "STT",
           0.7655939978426396
          ],
          [
           "STX",
           -1.0610637893917474
          ],
          [
           "STZ",
           -0.007420743030372989
          ],
          [
           "SWK",
           -1.3308094891579247
          ],
          [
           "SWKS",
           1.4039820542253612
          ],
          [
           "SYK",
           0.03214765460906044
          ],
          [
           "SYY",
           0.39866249568956125
          ],
          [
           "T",
           -0.18503482310012753
          ],
          [
           "TAP",
           -1.215871321427331
          ],
          [
           "TDG",
           1.2285285656079559
          ],
          [
           "TDY",
           0.8544562545861556
          ],
          [
           "TECH",
           0.8356886043066503
          ],
          [
           "TEL",
           -1.3929625617013053
          ],
          [
           "TER",
           -2.1973524145882495
          ],
          [
           "TFC",
           2.402725260957883
          ],
          [
           "TFX",
           0.05564591481967973
          ],
          [
           "TGT",
           -2.2700131075254038
          ],
          [
           "TJX",
           -1.850614589604016
          ],
          [
           "TMO",
           -0.872350300374447
          ],
          [
           "TMUS",
           1.9227971073708439
          ],
          [
           "TPR",
           -0.022418513242850047
          ],
          [
           "TRGP",
           0.14298432090451563
          ],
          [
           "TRMB",
           0.10511530134782454
          ],
          [
           "TROW",
           0.8492834285133144
          ],
          [
           "TRV",
           -1.1135922005287568
          ],
          [
           "TSCO",
           0.45195331791842985
          ],
          [
           "TSLA",
           0.08021335646786198
          ],
          [
           "TSN",
           0.7110068523908497
          ],
          [
           "TT",
           0.0760869829335542
          ],
          [
           "TTWO",
           -0.27740434030012473
          ],
          [
           "TXN",
           -0.12178887183900144
          ],
          [
           "TXT",
           1.7539802203994093
          ],
          [
           "TYL",
           -0.6174731439760883
          ],
          [
           "UAL",
           -1.2247825692823455
          ],
          [
           "UDR",
           -1.3848165014883285
          ],
          [
           "UHS",
           -0.8594182632120306
          ],
          [
           "ULTA",
           0.18039527562889734
          ],
          [
           "UNH",
           -0.19945490519168718
          ],
          [
           "UNP",
           -0.6486798888925449
          ],
          [
           "UPS",
           -0.36863747808730807
          ],
          [
           "URI",
           2.8149991543440223
          ],
          [
           "USB",
           -0.29551072479025997
          ],
          [
           "V",
           1.5907903093296483
          ],
          [
           "VFC",
           -0.42565621707768564
          ],
          [
           "VLO",
           1.9382302314745914
          ],
          [
           "VMC",
           -2.607992075877552
          ],
          [
           "VRSK",
           -0.3738374902692687
          ],
          [
           "VRSN",
           0.35376889080689367
          ],
          [
           "VRTX",
           3.284155425992452
          ],
          [
           "VTR",
           -1.3279948900661087
          ],
          [
           "VTRS",
           0.1299231091868025
          ],
          [
           "VZ",
           0.8526493201146845
          ],
          [
           "WAB",
           0.8019217946413804
          ],
          [
           "WAT",
           -0.31361790233679354
          ],
          [
           "WBA",
           0.8674309458131857
          ],
          [
           "WBD",
           -2.643789036871602
          ],
          [
           "WDC",
           -1.1259551544016144
          ],
          [
           "WEC",
           -1.070903253954436
          ],
          [
           "WELL",
           -0.33125352866174573
          ],
          [
           "WFC",
           1.755160267361866
          ],
          [
           "WHR",
           0.15313978347211155
          ],
          [
           "WM",
           -0.5743710832114557
          ],
          [
           "WMB",
           -0.3567340327201185
          ],
          [
           "WMT",
           -1.177018373187666
          ],
          [
           "WRB",
           -0.9560715213740023
          ],
          [
           "WST",
           -0.08179641529739712
          ],
          [
           "WTW",
           0.8687200946532414
          ],
          [
           "WY",
           2.6004924992649503
          ],
          [
           "WYNN",
           0.7704411295301972
          ],
          [
           "XEL",
           -1.1114469564666218
          ],
          [
           "XOM",
           -0.7867690226609936
          ],
          [
           "XRAY",
           0.430958346475796
          ],
          [
           "YUM",
           -0.043924219655244734
          ],
          [
           "ZBH",
           -0.4460340252448569
          ],
          [
           "ZBRA",
           -0.6254391782044233
          ],
          [
           "ZION",
           0.04568153337587422
          ]
         ],
         "hovertemplate": "\"Ticker: %{customdata[0]}\"<br>\"return: %{customdata[1]}\"",
         "legendgroup": "",
         "marker": {
          "color": [
           -0.7366818589894408,
           4.000051632380774,
           0.29828598982328813,
           -0.5197285139178387,
           -0.37189163478978937,
           -0.4990103097512133,
           1.733527552930747,
           -0.3065038262078712,
           -0.05889382460078085,
           1.0800827222374743,
           6.513759638243921,
           -0.7305323403173358,
           -2.0261543978041807,
           0.8295081780166802,
           -0.7144672890601278,
           6.824370660811208,
           -0.12782607283507996,
           -0.4510039722385173,
           3.1077621662117583,
           -0.8449365000493092,
           1.1725787871388338,
           -0.6763945164896978,
           -2.022944770526358,
           1.076615640483003,
           0.06878405167134449,
           -0.5549760510901169,
           1.0920701295741297,
           -1.8992124238855324,
           0.7829099180912236,
           1.1233754368738857,
           -0.49753388612847615,
           1.7684655332356858,
           1.9831388027990338,
           -0.9569323951468145,
           -1.3219961129611102,
           0.24396511096191897,
           -0.17061269515197264,
           -0.242167453600306,
           -0.5554251365740726,
           -1.188138044846887,
           -1.0650887653905539,
           1.7863539589176858,
           2.38180178747065,
           -1.7428236457047386,
           0.28696418727696127,
           1.3061774869973952,
           0.22688103189139053,
           0.6781450714205661,
           -1.6560971325717988,
           1.3347898255650748,
           -0.4957735422907117,
           -2.160375343927301,
           1.6505296349176302,
           -0.09804361502856462,
           0.2400012098981108,
           2.940943073814317,
           5.396535331854557,
           -0.3766321806128792,
           -0.5197285139178387,
           0.5116308989368212,
           -0.9400387289818735,
           -0.3838399983808083,
           0.5694566995498196,
           0.14872323216994499,
           0.4042642947759356,
           -0.5865465523915092,
           0.15081274931978417,
           0.9088312750036298,
           -0.29886937374066225,
           0.2578909714930244,
           0.3446162697971822,
           -0.8573155478212691,
           -0.8136039847149723,
           0.4102789810379148,
           -1.557776791411336,
           0.4571296902849964,
           -0.5197285139178387,
           -0.495757339943359,
           0.97673567269978,
           -0.18696641804347713,
           -1.2283142570748473,
           -0.5954830100107444,
           -0.19957189952959364,
           -0.23891248211804772,
           -1.1472324055162741,
           0.08123603268324064,
           -0.9348663354004749,
           0.8171835927672344,
           -2.295848571290837,
           -1.1358166315910578,
           0.7257672796354253,
           -0.7857318472694108,
           -1.0532627779025971,
           -0.8987124192739504,
           3.692741180739212,
           -1.104952495497935,
           -1.0058759567462494,
           1.0123789517916704,
           -2.3723842985599375,
           -0.20053443011900374,
           -0.4129169926563314,
           0.05754995963143106,
           0.7233674901025555,
           4.277967992607823,
           0.6985736030097112,
           -0.0076047374716115,
           0.21407912124775663,
           0.6729291850832597,
           -0.573015359361051,
           2.2175925099932936,
           0.5368113937674446,
           -0.6944267003284543,
           -0.774730277160196,
           3.071620072875225,
           -0.6924174211879963,
           0.9497852408381302,
           2.4340654114125115,
           -1.9604534485281544,
           1.128680076226285,
           2.7275760892093714,
           -0.6262912944881904,
           1.968062606958143,
           -0.0489760295775854,
           -5.379063124531269,
           -1.5062797761784208,
           2.634236327391082,
           -1.6760903340000688,
           -0.4979043438007258,
           -1.5225203155030953,
           -1.7427100470290502,
           0.1196661736258875,
           2.333125263463076,
           -1.1302314770582078,
           0.39351195646613046,
           -0.3187554166102391,
           -1.1836848282806067,
           0.48503625771296743,
           -1.4479855616049142,
           -1.7790260912390332,
           0.5569885767731098,
           -0.2625906729503358,
           0.21716567579541657,
           0.7192270236543674,
           -0.3135073270149835,
           0.07525515199688915,
           -0.5783485321736892,
           0.3017774340663637,
           -1.8049879026804772,
           0.17412347019043484,
           0.18750157802387424,
           -1.313019435306917,
           -0.9912641580049231,
           -2.3261257570707183,
           0.045382079408118337,
           -0.9034950829863053,
           3.6162479535053027,
           -0.2372810962427918,
           2.414668798978048,
           -0.08506836580703947,
           -0.856588800319158,
           -0.3058457236450707,
           0.2856904925913506,
           -0.17656287257377112,
           3.432710096234959,
           0.31874118146446584,
           -0.47634410168884145,
           1.2333931609587179,
           1.0417500171050698,
           0.8812057179264476,
           -1.5252971363136747,
           -1.5530072990765253,
           -0.1536432453063563,
           3.8554535640408893,
           -0.06447450029227753,
           -0.3585529516086483,
           2.16093330847813,
           0.9401150198226071,
           2.086012298497142,
           0.6257594916869946,
           -0.9916846219373165,
           -0.07119758360885076,
           0.6052770039633559,
           0.634534509322715,
           0.6345299569923801,
           -0.7522833542139895,
           0.15607067368077487,
           0.7354872788169597,
           0.011800442470732975,
           -0.9147686594435323,
           -0.8484515296116935,
           -0.019868076540108248,
           -0.6588406774977962,
           -0.8370119336502668,
           1.6924453496734326,
           0.9119068013299314,
           -0.72936692240132,
           1.144471481793441,
           0.7866838731585224,
           -2.1574502276471286,
           -0.584209900513033,
           1.5267295038368323,
           0.01943145032810012,
           -0.403759334768794,
           -0.9898802779566895,
           -0.9193481321012831,
           -0.7909532040251466,
           -0.20033067786144887,
           -0.7524751875633617,
           -0.2504783247231135,
           2.2359877410391027,
           -1.6073321763039772,
           -1.5126082348351,
           -1.6355812015904525,
           0.7033032007844442,
           0.9129270210859408,
           0.5814355920276126,
           0.1906160016874825,
           0.8899931973960884,
           -0.02027331138012567,
           -0.6016587943954099,
           -1.7143527707125905,
           -0.3985236545178905,
           1.691810624863166,
           -0.42613692788895374,
           0.16285266462914283,
           -0.5828812482894241,
           1.4178320765032337,
           0.7030864657798119,
           -0.948636193067709,
           1.5929438047869615,
           0.14991883758297408,
           0.9255114333778902,
           -2.027038094565714,
           -0.1858693199843442,
           2.185555952682283,
           -1.1146707859575833,
           0.17157676989967285,
           0.294574138570769,
           0.1068626678515594,
           2.058107213024951,
           -0.209040693399265,
           0.3825488779183983,
           -0.5937424957730975,
           -0.17459675329272173,
           -1.2333971990038273,
           1.7701249376427475,
           -0.6537605599509999,
           -0.03113384744164449,
           -4.871102628542278,
           1.3999157927938155,
           -0.5947897464123386,
           0.10880221322397965,
           -0.5771219433390318,
           1.3223771455036504,
           2.4261484258754296,
           -0.5036267315698062,
           0.4763816338354099,
           2.3373463457168953,
           -0.04873401738254568,
           -0.2317336624425348,
           0.19036820739382065,
           2.032838372221457,
           -0.7412299955123491,
           -1.563790714074631,
           0.7675971356038591,
           0.32774339312533485,
           0.022889292485039903,
           -1.3226673928654398,
           -0.21640633613644322,
           -3.1065414787228796,
           -0.6278558923720201,
           -0.5197285139178387,
           -1.1508278164169772,
           -0.15072780336939928,
           -1.6090572518846935,
           2.3202327615690743,
           0.11437912553564633,
           0.058026030111224536,
           -0.6267000266373834,
           0.7447568819517025,
           0.8204861637419514,
           -0.8401279191597277,
           -0.3688315919867291,
           0.6642065134305097,
           0.32973454779179345,
           -1.1267476375422247,
           0.6651056365418295,
           -1.648480022699661,
           -0.11245595366269345,
           -1.2969508494423465,
           -2.076924929092294,
           -1.4239560553844566,
           -0.12776453868239557,
           0.13526768233538267,
           0.00044748386265336393,
           -1.5277898624636355,
           0.0008414202658846293,
           0.3342314054253226,
           0.46240910789960843,
           0.5981710087471059,
           7.153071103677222,
           0.6560700985986045,
           5.7046849101825,
           -0.6081868863049955,
           -0.6736323997330484,
           -0.9512407559925551,
           0.7116682476218772,
           0.06678587808166547,
           -1.9174420811216675,
           -0.2443889067391014,
           -0.1473083694382149,
           -1.6525676160619729,
           2.049399568162502,
           0.3554744761187445,
           -2.074346282248418,
           -0.33150650937789905,
           -1.343025831886424,
           1.2843220588915072,
           0.14732870111116014,
           -0.36830259546538624,
           -0.7506997900198487,
           -0.12074985116954373,
           -0.3710526969441741,
           3.251379278262889,
           2.7983344127110676,
           1.1856935920889322,
           -0.8094180866873191,
           1.4099943091257172,
           -0.46484722448969507,
           -1.191775731502387,
           1.4472731449671539,
           0.7499933707062256,
           0.04363546679191366,
           -0.8170901082847792,
           -0.568898296717335,
           0.47047495392258387,
           1.5571660425696354,
           -0.7592123681038565,
           0.2000949479798786,
           1.5599316956423692,
           0.5548695859612707,
           0.00496902114675013,
           -0.4295222736646176,
           2.0407110402677064,
           3.2241192676449426,
           -0.303874040165808,
           -0.5751124894758042,
           -2.5321818156375797,
           -0.24819136716676127,
           1.2936755871897354,
           0.03414504061176604,
           0.20370613861944165,
           -1.5561467854524613,
           -0.3806740632545935,
           -1.2619041200460313,
           -1.1779778304831012,
           -0.919990361785572,
           4.474450841962274,
           -1.8575320956963015,
           -0.5829450301881534,
           0.6563058132302624,
           -1.54851442925672,
           -0.7432734677229047,
           -1.5586716493959596,
           -0.20323923178930947,
           1.271800361316422,
           -1.6060568066352587,
           0.02791343058978768,
           0.7839361317963922,
           0.7655939978426396,
           -1.0610637893917474,
           -0.007420743030372989,
           -1.3308094891579247,
           1.4039820542253612,
           0.03214765460906044,
           0.39866249568956125,
           -0.18503482310012753,
           -1.215871321427331,
           1.2285285656079559,
           0.8544562545861556,
           0.8356886043066503,
           -1.3929625617013053,
           -2.1973524145882495,
           2.402725260957883,
           0.05564591481967973,
           -2.2700131075254038,
           -1.850614589604016,
           -0.872350300374447,
           1.9227971073708439,
           -0.022418513242850047,
           0.14298432090451563,
           0.10511530134782454,
           0.8492834285133144,
           -1.1135922005287568,
           0.45195331791842985,
           0.08021335646786198,
           0.7110068523908497,
           0.0760869829335542,
           -0.27740434030012473,
           -0.12178887183900144,
           1.7539802203994093,
           -0.6174731439760883,
           -1.2247825692823455,
           -1.3848165014883285,
           -0.8594182632120306,
           0.18039527562889734,
           -0.19945490519168718,
           -0.6486798888925449,
           -0.36863747808730807,
           2.8149991543440223,
           -0.29551072479025997,
           1.5907903093296483,
           -0.42565621707768564,
           1.9382302314745914,
           -2.607992075877552,
           -0.3738374902692687,
           0.35376889080689367,
           3.284155425992452,
           -1.3279948900661087,
           0.1299231091868025,
           0.8526493201146845,
           0.8019217946413804,
           -0.31361790233679354,
           0.8674309458131857,
           -2.643789036871602,
           -1.1259551544016144,
           -1.070903253954436,
           -0.33125352866174573,
           1.755160267361866,
           0.15313978347211155,
           -0.5743710832114557,
           -0.3567340327201185,
           -1.177018373187666,
           -0.9560715213740023,
           -0.08179641529739712,
           0.8687200946532414,
           2.6004924992649503,
           0.7704411295301972,
           -1.1114469564666218,
           -0.7867690226609936,
           0.430958346475796,
           -0.043924219655244734,
           -0.4460340252448569,
           -0.6254391782044233,
           0.04568153337587422
          ],
          "coloraxis": "coloraxis",
          "size": 5,
          "symbol": "circle"
         },
         "mode": "markers",
         "name": "",
         "scene": "scene",
         "showlegend": false,
         "type": "scatter3d",
         "x": [
          0.2616633560851237,
          0.5673378475518964,
          -0.0003519618041031662,
          0.07780555099125952,
          -0.12359896702930981,
          -0.11794506560920413,
          0.006599629155665589,
          -0.08713023829960645,
          -0.02480984386584729,
          -0.00980925355210814,
          0.4215006384180727,
          -0.10860426459820191,
          -0.022514968542720278,
          -0.1961371522843772,
          0.17875483636239928,
          0.2514940484920262,
          0.07218743178801472,
          -0.1862401458466416,
          0.13126939148605746,
          0.1831083699000983,
          0.1817808869103543,
          -0.15324650066436876,
          -0.054722817123779716,
          0.5608792701656363,
          -0.10366009539018319,
          0.1197149019747245,
          0.13167509748756004,
          -0.2418795669964992,
          0.15467297322335063,
          -0.17017431888072446,
          -0.22337096963879238,
          -0.11757141162336711,
          0.25662963436221903,
          -0.09551185050135799,
          0.22159246929951065,
          -0.18270309682736063,
          -0.18350936282922553,
          -0.05882232227768782,
          0.3481923249469881,
          0.028699650180424488,
          0.019578331900655832,
          0.5806998283756799,
          -0.12183847656704025,
          -0.23114945473836576,
          -0.1930988200137746,
          0.3214850202733647,
          -0.03054724445687881,
          -0.13535289239913573,
          -0.2468435224164593,
          0.19077910316426974,
          -0.13925682935280934,
          0.005406058744834637,
          -0.09611715924706664,
          0.3302399283086065,
          -0.15076958150133604,
          -0.005581076358169472,
          -0.06577366799266894,
          0.05171685443356282,
          0.712789000344446,
          -0.06292235725053204,
          -0.10135553311693858,
          -0.28081391541361306,
          -0.18102127603615062,
          -0.09699450273440291,
          0.14129802009508877,
          0.2825119793207735,
          -0.1939782451739052,
          0.26620288322453894,
          -0.14875788219643254,
          -0.15945822513537602,
          -0.13787990838230388,
          -0.02947672012510779,
          -0.15745694253594628,
          0.13966005473874385,
          -0.17937564105535636,
          0.08391953204937123,
          -0.1957240209668017,
          0.5054468639183551,
          0.39324355711608655,
          -0.19425332982379173,
          -0.1838393871828378,
          -0.12078776159062575,
          -0.0018852028724956683,
          -0.23298222480424025,
          -0.1751151151979434,
          -0.1435737880243362,
          -0.0428615504231775,
          -0.1811306117921528,
          -0.05311360328818356,
          -0.11129069881241696,
          0.13747288413666395,
          -0.056618675214536555,
          0.3232528123474883,
          -0.04949290582416612,
          -0.032881575951411,
          -0.12380743392168274,
          -0.11505094395535427,
          -0.15913538132864882,
          -0.26795570417377573,
          -0.19293265561348902,
          -0.21494738070061087,
          -0.12851063182877462,
          0.08250326185446055,
          0.27716738770432225,
          -0.28399781283343783,
          -0.13479806908976544,
          -0.08900113863171798,
          -0.1256874973816458,
          0.3420653252918199,
          -0.2196413860185414,
          -0.232829102259974,
          -0.20221219984087674,
          -0.12757674160370563,
          0.4528515122086559,
          0.1538910815276049,
          -0.19669626048038247,
          -0.04750465093787607,
          -0.033140383654333895,
          -0.21169444393197473,
          0.28523058003426566,
          -0.20098650864208376,
          -0.2049492600897348,
          -0.18772434058865797,
          -0.017587406684092092,
          -0.10256904370815607,
          -0.10962321124425296,
          -0.1480748475841333,
          -0.07162126477936581,
          -0.11182067868848562,
          -0.19190339588048186,
          0.21043064915541934,
          0.46203756015745717,
          0.3141374499857139,
          -0.03858076404656177,
          -0.25378742904011914,
          -0.06066395895452366,
          -0.18369531836118114,
          -0.23955166731367877,
          -0.06780235157427128,
          -0.2545750634737648,
          0.021980511121992556,
          0.09268875734460022,
          -0.11124048017561154,
          0.07960425016981772,
          -0.1201124980853516,
          -0.06235797371250281,
          0.049854557675926676,
          -0.10145438221432035,
          -0.13244088023999062,
          0.03164234174148199,
          -0.055387709299141774,
          -0.12204255768865654,
          0.0521810097195405,
          -0.08373087051758661,
          -0.12375569742218837,
          -0.1166349489537322,
          -0.2403181885448372,
          -0.12736508933081064,
          -0.3091570377591567,
          0.66348397613786,
          -0.24130387011490517,
          -0.13629853900251093,
          -0.0231008811382817,
          0.1601737694412715,
          -0.15188240745642229,
          -0.18871183365791389,
          -0.1715355095767356,
          -0.001663519672692409,
          -0.24905522986483666,
          -0.071963230058015,
          -0.16398201165522933,
          0.7427099824157419,
          0.18494964705153785,
          -0.2290676326378802,
          -0.13826282721015679,
          -0.21104827054144645,
          0.10047551820671777,
          -0.19900264826143418,
          -0.20948865190343552,
          -0.1031107880337511,
          -0.08821039716578377,
          0.3246178971314474,
          -0.11514064475806086,
          0.05464047097858984,
          -0.2250365977789064,
          -0.26122142224064154,
          -0.18137974792598552,
          -0.029916760978763765,
          -0.21704717591394918,
          0.08863986736718665,
          -0.2889120337819537,
          0.0628700082929381,
          -0.17400002640565035,
          0.08946789453680129,
          0.11663958751040115,
          -0.11343428929950311,
          -0.07693616528032364,
          -0.002061086274474226,
          -0.22478843313360905,
          -0.15151247611658794,
          -0.09582098181787033,
          -0.2810135798971405,
          -0.17035403710664584,
          0.2545926889408527,
          -0.2395380684660462,
          -0.15286918429851465,
          -0.154592731057196,
          -0.10731169716353547,
          -0.14961114206667428,
          0.47204684236435707,
          0.7006678186708667,
          -0.17797873267070746,
          -0.20204921024807135,
          0.06318066951322247,
          -0.12166336588771183,
          -0.20978890922443233,
          -0.13260375186241877,
          -0.27771596239756563,
          -0.09317157061394797,
          0.18794501688795182,
          -0.025107743356887098,
          -0.23379782707819355,
          0.09263414188419093,
          -0.13442964265748,
          -0.24349165749922075,
          -0.19538578226377684,
          0.03441443322966356,
          0.10878030173108677,
          -0.1918453774723562,
          -0.1769356366143708,
          0.08395394814639054,
          -0.16004855297781795,
          0.021898792984771986,
          -0.21773616296943366,
          -0.1361236118592703,
          -0.21324195747336178,
          -0.24748412064201322,
          -0.21263984921073198,
          -0.21881457931161086,
          0.4826806750334243,
          -0.23413063690667205,
          -0.2065794271829005,
          -0.13845021986939535,
          -0.10155087781615771,
          -0.06383332129580296,
          -0.20611442941450844,
          -0.0891283095510899,
          -0.1843283266631399,
          0.059235044950155344,
          0.3359644136537671,
          0.1407672814675222,
          0.24440048813797488,
          0.25898589150395135,
          -0.06172454903242366,
          -0.14144783388504523,
          -0.11934287628704708,
          -0.1285030365882489,
          0.26278314120088436,
          -0.2082390617006665,
          -0.10172094542759229,
          -0.06167538182195902,
          -0.17071015774163262,
          -0.20020210241446182,
          -0.1679429943337,
          0.07688331410986349,
          0.3659661339722804,
          0.04832661896040312,
          -0.22238893455792857,
          0.110971606591877,
          -0.015297643866703067,
          -0.194034320705597,
          -0.16070219585478,
          -0.07211756805383306,
          -0.20811482747383037,
          0.44371381064483045,
          0.09687343679777663,
          0.03413782429625433,
          -0.1956508007804984,
          0.2581843320006896,
          0.4273678285610868,
          -0.203742433116711,
          -0.25957985898287483,
          -0.2557011141951038,
          -0.15391124830386294,
          -0.16718832534253442,
          -0.10969520685261981,
          0.6284092718481338,
          -0.21910465346627217,
          -0.08367291212757953,
          -0.121090188735166,
          0.38087947505594066,
          0.6069863044137219,
          -0.16111682737944455,
          -0.23707475190360217,
          -0.2137356346019282,
          0.35489198122253207,
          0.006926914742439311,
          -0.1396862028047979,
          -0.09988391519316336,
          -0.10378113099534582,
          0.15829588239694456,
          -0.1395953826701455,
          0.6355450146729122,
          -0.2285054510269315,
          -0.11078670666407543,
          0.19380463770597262,
          -0.2489727744054614,
          0.31946929080507325,
          -0.21145846896759257,
          -0.21201143051795823,
          -0.10753999490225755,
          -0.05707569513703319,
          -0.23195063085848172,
          -0.08115078296661214,
          -0.08248820874089567,
          -0.2093817893093364,
          -0.1053492936051482,
          -0.2316263207690497,
          -0.1872667438986314,
          0.07621599310460236,
          -0.20405070880212006,
          -0.2474136943009209,
          -0.020375256937870238,
          0.7943548736332994,
          -0.0539903169670275,
          -0.15663137010800265,
          -0.23408508550655785,
          -0.027648538446881456,
          -0.09529853364405917,
          -0.0822999059876295,
          0.2854515395001466,
          -0.2467517621180443,
          -0.15076820942959032,
          -0.10852117874772468,
          0.11842484585961974,
          -0.18425045295648143,
          -0.060544337161960074,
          -0.056912048953204106,
          0.2594996347196085,
          -0.22060901054201523,
          0.24097321128671986,
          -0.14366551589468238,
          0.527040325694922,
          0.27367968449780333,
          -0.08062360699394855,
          0.005481787274699302,
          -0.25376832144907646,
          -0.2558617340509603,
          0.02477974111427406,
          -0.25065011060574843,
          -0.1761030315094466,
          -0.2067873592391925,
          -0.24986945927629228,
          -0.15948236808519275,
          -0.13215089642518496,
          -0.26615986028585664,
          -0.19151881350423994,
          0.06815044291812411,
          -0.21943749035009244,
          -0.2719097441219082,
          -0.08723308359930944,
          -0.11422173176270202,
          -0.24342758246712137,
          -0.06425349231368534,
          -0.19867319156502344,
          -0.17618646521030917,
          -0.15761075292569005,
          -0.22559482770524636,
          0.0994548957014685,
          -0.021289795033922455,
          0.26929651860361586,
          -0.2713398437276614,
          -0.12358023359124586,
          0.4614926518545464,
          -0.1885755322948393,
          -0.2531502968822729,
          -0.24723418381718787,
          -0.18349160289625596,
          -0.21486020928909053,
          -0.21283157679759468,
          -0.19254261856790073,
          -0.14681506831826213,
          0.14645758170122092,
          -0.02934635012832318,
          -0.16976826345607224,
          -0.2554511054653732,
          -0.23016240986275055,
          -0.11551065982367113,
          0.17807998985165302,
          -0.16534467932314156,
          0.40603069818142506,
          -0.0756049281909286,
          -0.09041245613262777,
          -0.22388081166581872,
          -0.16385810022481656,
          0.40455264738054836,
          -0.22067014441478988,
          -0.023595431417240888,
          0.00927870982832734,
          -0.034035876846701174,
          0.013879258629897027,
          -0.166090699020734,
          0.5406139530257351,
          -0.12892325423917217,
          -0.029403281949142095,
          -0.05517927425753903,
          0.02413824804083906,
          -0.050085087534817815,
          -0.2074097288107644,
          0.7426951799250251,
          -0.11351580840063939,
          -0.2247430708241418,
          -0.22854245737120896,
          0.0756621056991641,
          0.16605861221471788,
          -0.25159822480055416,
          -0.26079484594289054,
          0.6354252629881584,
          -0.15523213862929555,
          0.007295305960988752,
          -0.25565926370255704,
          -0.05627038682079844,
          -0.16726539785681577,
          -0.14453494200241754,
          -0.16454426577768957,
          0.09073773516143584,
          -0.0389209267912425,
          -0.1630355146850273,
          -0.06704336199897548,
          0.04003451820789158,
          -0.24959992779668835,
          0.25222936864002204,
          -0.22227288376735596,
          -0.21956789990891395,
          -0.20473720966472225,
          -0.2266948330438791,
          -0.1709388554863275,
          0.44229071493950367,
          -0.05123727561872931,
          -0.20162347530938785,
          -0.20095732147644021,
          -0.10688168988192821,
          -0.18048199409736534,
          -0.052487910011597125,
          0.07898091131546443
         ],
         "y": [
          -0.1933816941884787,
          0.31286319683429853,
          0.1900397419607075,
          0.382682876361477,
          0.1815457912584805,
          0.028683540441866807,
          0.1148621074326867,
          -0.11147233416095405,
          0.08555074803494468,
          0.22477807371322528,
          -0.23660783823715834,
          0.29703112255258113,
          0.41174298311829366,
          0.06887432791013207,
          -0.15666928566841964,
          -0.4506078181889254,
          0.050570050419508364,
          0.0585502939586956,
          -0.018960656468506698,
          -0.2841614007228403,
          -0.10019548891717996,
          0.006305957413961185,
          -0.26070483975065234,
          0.2185176905171779,
          -0.2913708153146767,
          0.21317646974879814,
          -0.4039609595638819,
          0.24087740705174543,
          0.2709588023737456,
          -0.04270659185341195,
          0.04017664000519857,
          -0.3470514176512619,
          0.09620523958808355,
          -0.18009912666698497,
          0.10524900943033547,
          0.09886015201055232,
          0.1345427545545131,
          0.21245621358361289,
          0.008139549859740657,
          -0.23381854591571838,
          0.3700895676812129,
          0.13457203875016982,
          -0.17872183368986916,
          0.3349480788949261,
          -0.07202361818334305,
          -0.3660901513475015,
          -0.1101708963913529,
          -0.028932099766499356,
          -0.10698258011709073,
          0.04272515627164896,
          0.049429041449682395,
          -0.39602430704944197,
          0.03137856164431573,
          0.22629430550383198,
          0.049545195849106154,
          -0.38982728888620344,
          -0.041540132223267814,
          -0.06997427851405047,
          0.025724154522395785,
          -0.251157959857466,
          0.26957667772028426,
          0.09318423072890725,
          -0.05719619051831855,
          0.0377937341045683,
          -0.41088617306751196,
          -0.4664565991306732,
          0.07996479606660382,
          -0.46658349110168923,
          0.16642235981974918,
          -0.05585695452919053,
          -0.2848925916050896,
          0.14935012086968627,
          0.17233608268018466,
          -0.41297213938382954,
          0.36708128175390276,
          0.3377677207113424,
          -0.10355824879642828,
          -0.4118629708305651,
          -0.11050716509396777,
          0.2868548760319216,
          -0.0014480999080983632,
          0.17812073726587016,
          -0.14878523114925413,
          -0.06263128546331101,
          0.35274164566411614,
          0.2802380930704953,
          -0.43512390629967596,
          -0.056621197551184346,
          0.1893988761998256,
          0.0658848680030315,
          -0.4729138653107382,
          0.38822462561446613,
          -0.018899164858212605,
          0.14619312421313851,
          -0.3908806301126552,
          -0.03663135078751589,
          -0.0014125128710234956,
          0.13505141370513785,
          0.2567808923178908,
          0.2958690288098309,
          0.06937493063291816,
          0.18244911969854313,
          -0.13068502660408088,
          0.11392565200457369,
          0.05280515760710613,
          -0.19107145077072515,
          -0.2581140244594688,
          -0.000565174815090441,
          0.14395696036174663,
          -0.14457267221103268,
          0.16042082981084982,
          0.05970859333299406,
          0.4292538342795368,
          0.18353082633073137,
          -0.3570915666993376,
          -0.1523961496017097,
          -0.26781222194910437,
          0.44247735133833926,
          0.16406932170272193,
          -0.06133567292250391,
          -0.10509791390233823,
          0.09193129179742673,
          0.20768891201493977,
          0.433030277256516,
          -0.3313593255138539,
          0.10930656692880027,
          0.22236131544462534,
          0.4113089276865295,
          0.38479314433099104,
          0.026503076070458355,
          -0.011482904414221477,
          0.10506991655331911,
          0.3481819984860905,
          0.15575120879761392,
          -0.031146798863907636,
          0.5690431145358671,
          -0.08829534359161974,
          0.17569636722789328,
          0.40766109611897833,
          -0.005477357212498936,
          0.0907006597632623,
          -0.33738718157465886,
          -0.2999951931413786,
          -0.13560048871318245,
          0.10916992041878018,
          0.20670875149303294,
          -0.08368865494860007,
          0.3823978939190189,
          0.14271605733202622,
          -0.422993498781764,
          0.41219044062943083,
          0.36049300381764465,
          0.12440903891484102,
          0.35403925804382463,
          -0.1731347899282009,
          0.08142508001593907,
          0.10705127188804421,
          -0.4333550903409774,
          -0.1515270387216036,
          0.26534047300371894,
          0.03848739320955472,
          -0.2441706781926822,
          0.26371190857659177,
          0.034967663934261956,
          0.0339428732342223,
          -0.25842569724016107,
          -0.06349180640474539,
          -0.3492173348108837,
          -0.011269432713098675,
          -0.26095319969864705,
          0.2387361021577173,
          0.17476671412971473,
          0.0685567591874122,
          -0.018027237413779786,
          -0.17221864945380574,
          -0.11146507753171013,
          0.21411010820951526,
          0.382279679950722,
          -0.08034100575003501,
          -0.2624506267571505,
          -0.3562369625177307,
          -0.12100668381377014,
          0.15768510493641183,
          0.17196955914960593,
          -0.05185475926331753,
          0.0774328261908611,
          0.04384629744555362,
          -0.3007091879434197,
          -0.13214454589803468,
          -0.07381359352397207,
          0.224557953283841,
          -0.3978854605876521,
          0.12636824868121804,
          -0.031468383369768614,
          -0.3773539637423265,
          -0.1831070680982566,
          -0.2517514683857274,
          -0.1607089307525866,
          0.21224458352062145,
          0.025313127141377026,
          -0.20803892162027687,
          0.33487908571565816,
          -0.3079612451212556,
          0.2297266872085022,
          0.014772112663865716,
          0.015778222146699685,
          0.08943604576979979,
          -0.3736711051868387,
          0.020025313142548816,
          0.14180057077404112,
          0.09594004318945491,
          -0.022391311922377356,
          0.09433009009218815,
          -0.32154151671335035,
          -0.19965788622198608,
          0.029358954763597254,
          0.02177989678994583,
          -0.016916212018055158,
          -0.26085920526871154,
          -0.5270457240929552,
          -0.4351597977095624,
          -0.11685626303070192,
          -0.35483490329863754,
          -0.19526801710838862,
          -0.05025865683219413,
          0.19558567849543143,
          -0.0374305782874628,
          -0.3919426199004523,
          0.40044922100425906,
          0.37995922697363527,
          -0.3737945196357922,
          -0.030442343598889175,
          -0.12789640842712727,
          0.33213065906137085,
          -0.10912439425604004,
          0.2530398332368103,
          0.3918341164597638,
          -0.07151870282220091,
          -0.07955057635807113,
          0.03633880578767183,
          0.1531621865582127,
          -0.23737313229742982,
          -0.06199803743433458,
          -0.13380036482288082,
          0.149488539346813,
          0.06568420874493876,
          0.40900732623990443,
          0.025807845738226975,
          -0.22283083173794863,
          0.29555646869047664,
          0.13046061481113924,
          -0.09786911744842566,
          -0.21839383708396223,
          -0.1735757015559774,
          -0.06662658401277997,
          0.21687961196172834,
          -0.10815161550128638,
          -0.0038615904249359855,
          0.3279449253963762,
          -0.1582331661809912,
          -0.0008770155053206714,
          -0.12047147314210022,
          0.31920007330472217,
          0.05014189448888684,
          -0.5545458716009967,
          -0.17882630591184345,
          -0.1449773213633746,
          0.18400746675238203,
          0.14551111707621486,
          0.07671641921125069,
          -0.020299299853355372,
          -0.1425661701748934,
          0.21509405938211493,
          0.3714037297340668,
          -0.024259758719812567,
          -0.1829100444825428,
          -0.29541836701608015,
          0.20647268751298717,
          -0.007980984331969984,
          -0.3309446954449748,
          -0.11539522730287272,
          0.13860095511291212,
          0.05699029480045887,
          -0.07392379299119035,
          -0.0251797117123692,
          -0.20826064355364773,
          0.026262823357357256,
          -0.07737040413690006,
          -0.41096128700710155,
          0.41814444731998324,
          0.29052302417702786,
          0.30564393220738295,
          0.3223600392107085,
          0.1186717811491303,
          0.011876717920207613,
          0.20631979662242428,
          -0.20380386770613387,
          -0.14204849738597544,
          -0.20023490236481506,
          -0.30754295021118255,
          -0.20620493625987554,
          0.13142619260838023,
          0.017169664460442508,
          0.3063873919750285,
          -0.3863540017324218,
          0.20789951149274083,
          -0.06503491681200504,
          -0.0819300986645673,
          -0.10373399568758589,
          0.218404844519013,
          -0.13683730833798316,
          -0.26878277905755765,
          0.08363575341436001,
          -0.3769788198320193,
          0.43235540040272924,
          0.18282620106151182,
          0.35431219655184676,
          0.3106690933045375,
          0.14811512113547048,
          -0.42096081900809995,
          0.3252989084123119,
          0.009467662325693026,
          -0.46114620094161635,
          -0.08158708737441735,
          -0.25732669549558507,
          -0.06728232151574126,
          0.20245174519169348,
          -0.3065479180839516,
          -0.3417028951462722,
          0.41978724720087307,
          0.2156227760184566,
          -0.07508850302437169,
          -0.25714943473297014,
          0.439988500117494,
          -0.4118214474018554,
          0.17693710123647313,
          -0.2128454919712577,
          -0.35769691758582817,
          0.024102935677140436,
          0.08346739721889311,
          0.1282601044191528,
          0.05536105647841518,
          0.1436374765284884,
          -0.4655353217545932,
          -0.4026101380817371,
          -0.38550277391550203,
          -0.058703336398546746,
          -0.014934757518584163,
          -0.44445373949415673,
          -0.11426955017092875,
          -0.22746106674548305,
          0.24734349406253095,
          0.1494919664677839,
          -0.19874941867197032,
          -0.18807283255786159,
          0.254757871453183,
          0.12411179190623944,
          -0.28367945085132384,
          0.06519670529297218,
          0.20193268388620536,
          -0.13155708541741576,
          -0.2990724491502217,
          0.020432153257639474,
          0.4808652897570521,
          0.16181344978636877,
          -0.10770332952032045,
          0.27364956003701146,
          -0.09382001013837002,
          -0.14988693558415508,
          -0.38339240125325663,
          -0.0767340758817103,
          0.05929679131677376,
          -0.2975300344560432,
          -0.05964511483148432,
          -0.05398351245476218,
          0.2955138058754562,
          0.24613371786107205,
          0.1841716503145544,
          -0.14132930265748944,
          -0.299435814886407,
          0.00933745899785877,
          -0.3571568843984488,
          -0.42072440342829576,
          -0.3119822613766981,
          -0.026247344486655458,
          0.29749930094805044,
          0.21662527192860606,
          -0.15396001653294622,
          0.03893657377769429,
          0.019461089352502327,
          0.3115656111420132,
          -0.3510845481128469,
          -0.35732079983918175,
          0.0842642131041278,
          0.06870087297020445,
          0.18585433845817523,
          0.055894142379704415,
          -0.48175831284231774,
          0.16313302801543433,
          -0.17299896692307754,
          -0.41325513642955897,
          0.05311110080245452,
          0.136799181939867,
          0.17550869156542567,
          -0.18578643547373233,
          0.0960117647814237,
          0.008934481165275763,
          -0.18846062560654792,
          0.02624945504903001,
          -0.16776254123258055,
          -0.22256176101235586,
          -0.0427063677779615,
          -0.010538662895515723,
          -0.06021543631172481,
          -0.0813386097267976,
          0.1295157947264998,
          -0.021021231838137075,
          0.07234121229364199,
          0.20158291512622406,
          0.017919592012458654,
          0.22736502889615412,
          -0.42004906085177807,
          -0.15690382323000152,
          0.2623910826910824,
          -0.11224995363892602,
          -0.21707222702858217,
          0.4220605607947864,
          0.2867760967514145,
          -0.30119270044093116,
          -0.06361610798307143,
          0.14750455848857347,
          0.07063936448874411,
          0.2653660619326448,
          0.12992123875099887,
          -0.010797044727409848,
          0.09171213660002844,
          -0.20821374636370432,
          0.20059096083007383,
          0.42359311084430373,
          0.04275563221348905,
          -0.1320058457626645,
          -0.01954171677277795,
          -0.07676723935463002,
          -0.109039387841092,
          -0.4689523163634511
         ],
         "z": [
          -0.04250357082487922,
          -0.07223236797234206,
          -0.09554732200057617,
          -0.12940872197518488,
          0.10220606396832133,
          -0.08316136718847167,
          -0.3095990316240144,
          0.03602963165140714,
          0.04626292455196606,
          -0.15159267844201163,
          -0.0659927580984861,
          0.17063833688258115,
          0.20027892011477622,
          0.03452746311269902,
          -0.18617613797453886,
          -0.08591605272583293,
          -0.1612687013606989,
          -0.09551330244257647,
          -0.13490516588763382,
          0.2635897537570366,
          -0.15362128140951092,
          -0.022841183238426523,
          0.02445050928884645,
          0.00603887324412644,
          0.059255971416542486,
          0.04750190623956411,
          -0.14753102180319108,
          0.08009910227423861,
          -0.357750344689121,
          -0.2639587072947714,
          -0.10277649821015956,
          -0.07541530582760518,
          0.09626040239961604,
          0.15438993513432206,
          -0.4234086700731391,
          0.054744796771695185,
          0.24282691772997292,
          0.04432962933134099,
          0.09509895028941391,
          0.03330657755015269,
          0.12540746877133505,
          -0.07268710314803574,
          0.05270511463721705,
          -0.048505448098784196,
          0.08859569395854412,
          -0.15492406320053864,
          0.2295046826706232,
          0.14393807800867722,
          0.02538155248533532,
          -0.10362196797713458,
          0.11857415565328927,
          0.027209235690502452,
          0.014104862359191657,
          0.10840194353898548,
          -0.1192606009399131,
          -0.05494314999411624,
          -0.21811321695527228,
          0.12395838854711842,
          -0.03758027567811918,
          -0.17456753613637166,
          -0.0020144492170260995,
          -0.09693156703727501,
          0.011856403339917535,
          -0.26675907140094396,
          0.260117317453658,
          0.2760965806481906,
          0.087491928366576,
          0.006205274497581795,
          0.17685971052618069,
          0.23384061019873378,
          0.14622400321603768,
          -0.11491151030939004,
          -0.11928825310289538,
          0.008044661659204233,
          -0.07200299173826945,
          -0.26885296598323966,
          -0.1811960801615415,
          0.20733528403422766,
          0.29835235001256516,
          -0.06261906221660939,
          0.139814835558335,
          -0.07175171532968096,
          0.11557237362126997,
          -0.002099132263443648,
          -0.03952905034055529,
          0.036249888738616384,
          0.06649772283236025,
          0.059169458372322285,
          -0.37854538743384153,
          0.04985576394075038,
          -0.0013995313306943505,
          0.14806331973789064,
          -0.03988818088418961,
          0.3023010821438667,
          0.14085229950938122,
          0.038711225756355425,
          0.22059784934977594,
          0.16856264459684944,
          0.03956382816088092,
          0.013223558349450255,
          -0.24110270909279452,
          0.08689881778042371,
          0.07439727703923213,
          -0.432256819269879,
          -0.11334794507152393,
          -0.1058233176868623,
          0.259233034337401,
          -0.09716572027375098,
          0.033792798384102124,
          -0.1635598430411955,
          -0.018378115329081932,
          0.07293903051225063,
          0.1164920725654077,
          -0.22790416495796578,
          0.2796179540637422,
          0.027122895726847746,
          -0.01994845992876154,
          -0.1235982963167082,
          0.05807443640122978,
          -0.22403449514631318,
          -0.08564457091203634,
          -0.10888129346090201,
          -0.005961164695788023,
          -0.1116866664891601,
          0.1976857278426107,
          -0.11854147316988223,
          -0.2069717818243089,
          0.1912758201341103,
          0.21022398925339808,
          0.07951090047764305,
          0.2280231049818568,
          -0.0910764859531084,
          -0.5714271128586462,
          -0.41562260564423265,
          0.10263403585185954,
          0.12317887618099817,
          0.014917874692062849,
          0.058021145017408744,
          0.22902167713448213,
          -0.06587657741348191,
          0.01989529841165761,
          0.09376916341937175,
          0.20503240411333645,
          -0.006997431168340079,
          -0.23689024764100372,
          0.12699853135577688,
          0.12923241317207365,
          0.11154858299782344,
          0.14417674939798192,
          0.2274517048067178,
          0.2343559101337661,
          0.14705823054710224,
          0.045334600038298756,
          0.3054013252694914,
          -0.014068207913599693,
          -0.22152305293384705,
          0.08940554110017106,
          0.08977782988071943,
          0.10819161171820575,
          0.38643273824395513,
          -0.26560679272675863,
          0.04073356232838015,
          0.27025863573520637,
          -0.4095820450913576,
          -0.10176101619941133,
          -0.163417707514758,
          -0.11917342650762858,
          -0.027651800721253107,
          -0.18904692809046328,
          0.16616413317917517,
          0.0978595356414495,
          -0.19108218527959245,
          -0.02989910481891238,
          0.08631266129540492,
          0.14655764370554594,
          0.014465658862433386,
          -0.24388957356307323,
          0.0028609021692541812,
          -0.05886652746578759,
          0.21653425492649875,
          0.07719845460129325,
          0.30422546842091674,
          -0.1471152244753787,
          -0.10571597490826792,
          -0.017479423488230155,
          -0.07558953940532247,
          -0.009708706824065768,
          -0.15103286327951176,
          0.09687968133485106,
          -0.07110858317259164,
          -0.14440865865303384,
          -0.0945518294278682,
          -0.08061376807879471,
          -0.0086778707931598,
          -0.27528828945624095,
          0.03277066589658966,
          0.08342616406204627,
          0.2973616587540532,
          -0.0021040945985448005,
          0.00777073718694233,
          0.06514046153512094,
          0.053226595759558806,
          0.13462455486953984,
          0.06926381414157451,
          0.03174094306980323,
          -0.3063087776737088,
          -0.028696620565029606,
          0.03483109567927285,
          -0.042516119480936615,
          -0.11214620249788142,
          0.038450084333876866,
          -0.12220940721274612,
          -0.17056491250049766,
          0.025365806174587252,
          -0.2338892664597591,
          0.13065098319097582,
          -0.10477942588163816,
          -0.2374779068478286,
          0.09874556698958788,
          0.011482598222167874,
          0.082894924756001,
          0.06322437753463578,
          -0.2715635421833751,
          0.060753560750078296,
          -0.07632450427611803,
          0.14094018726540025,
          -0.1890181677228203,
          0.0026248601124274,
          0.03296452240506412,
          -0.11970348694825343,
          -0.010364464170543422,
          0.1247394515878808,
          0.03152437070326071,
          0.0964637935625713,
          -0.20036872801751848,
          0.06491590818008126,
          -0.12603602971235686,
          0.015496863333735175,
          0.02656900703395193,
          -0.25447863223434525,
          -0.002151022034240507,
          -0.006212757671998261,
          0.20146475780251533,
          -0.30000977620855457,
          0.2967317584428906,
          0.16233754979526538,
          0.14574214365488486,
          -0.05537065179038635,
          -0.0964434506418796,
          -0.19167110454884842,
          -0.11085167339438173,
          0.14793901479888663,
          0.005166883026354431,
          -0.2386092145425553,
          -0.2277388038298257,
          0.08160063328988246,
          0.044461149733512444,
          -0.5580707427847039,
          0.05728191461481257,
          -0.07844902234982025,
          0.24839921726041983,
          -0.3018125382784776,
          -0.06781798790104313,
          -0.02494913296111011,
          -0.024999773177941494,
          0.049562720227590056,
          -0.3608657903171231,
          0.07975610201736018,
          -0.38732540568376456,
          -0.3284067182359893,
          0.04851899156733031,
          0.13139728698194095,
          -0.22247931142404012,
          0.023238972638239763,
          0.112094512252216,
          0.3489971527954167,
          -0.17677637556326858,
          0.1066189407228646,
          0.19647870074388352,
          -0.18656584795984124,
          -0.2600258211129308,
          -0.12664804894486442,
          -0.0848725145530444,
          -0.14573914405563004,
          0.11294018742063357,
          -0.2860333337686367,
          -0.17834110581488744,
          -0.27765339000826156,
          0.06621101228886814,
          0.1168525139195427,
          0.1445261722541155,
          0.13487084322495227,
          0.05351187593261467,
          -0.11522172683525062,
          0.08500633798566323,
          0.478568762952313,
          0.3937314078734102,
          -0.007550980744863843,
          -0.18034637377362592,
          0.1834348421600131,
          -0.05941602459492385,
          -0.11289093750117299,
          -0.23083994685462011,
          0.0135487541286301,
          0.11514639234902097,
          0.43326941071136377,
          -0.0230310081010986,
          -0.0913412740416945,
          -0.15978634625464777,
          -0.13568102235978363,
          0.0416704874820707,
          0.011629041603521214,
          -0.028016015331226763,
          0.06939543766895749,
          0.08568798195129827,
          0.11943629914654302,
          0.19040018760808738,
          0.06235558264905822,
          0.11499031600403332,
          -0.017713248151481877,
          0.08398842128156742,
          0.021747069951607554,
          0.14269468129251545,
          -0.1482586419751564,
          0.20787912369261083,
          0.01127351697870068,
          0.09576280293339125,
          -0.008313833350440015,
          0.11860146398510427,
          0.11881785732073005,
          -0.21494389838390932,
          -0.2617982633645075,
          0.05886397792730631,
          0.2532916412713848,
          -0.17827371722037,
          0.11217517650858103,
          -0.3146425840207695,
          0.19027213503706975,
          -0.1889194887560496,
          -0.08022826680631355,
          -0.22836305482415667,
          0.07570894876493026,
          -0.04120499823319795,
          -0.00040681217246096683,
          0.07292767454141652,
          -0.26663028110833276,
          0.0918132498268185,
          -0.03381541693483475,
          0.12676493894195276,
          0.027148244255145185,
          0.10937718088510329,
          -0.11838252843679346,
          0.04750362218386083,
          0.16954293191945674,
          -0.06856461193961563,
          -0.007805495501153804,
          -0.24681207121124593,
          -0.34811549746646303,
          -0.06702390129925549,
          0.022866601866884675,
          -0.0005974619306131566,
          0.0043389609417156935,
          -0.08383052378456182,
          0.20812085959995835,
          0.07110312561481757,
          0.19943403145185518,
          0.21871282928665386,
          -0.15993554516720304,
          -0.05996080139759726,
          -0.0604328147407616,
          0.1592773359743055,
          -0.03688028195829374,
          -0.04519041139882598,
          -0.1933955124084856,
          0.051082796889588895,
          0.07124621308652423,
          0.02627426426038935,
          0.1671841409830056,
          0.11048799639401839,
          -0.040180300062771124,
          -0.06024275787916911,
          0.04863544265759387,
          0.05080215877974999,
          0.08611967375152123,
          0.05541757680973934,
          -0.018508201809317497,
          -0.17958609416033566,
          -0.0673933133557671,
          -0.15614745486269438,
          -0.10220441622730715,
          0.3562667059659348,
          -0.12362577363641918,
          -0.05082331677657764,
          -0.03139375031890816,
          -0.24700346530134076,
          -0.20161448354472825,
          -0.06486179448068953,
          0.15777929731810578,
          -0.43742168600616677,
          -0.02671502312608242,
          -0.11440995146129132,
          -0.32541254923121704,
          -0.10901940004264951,
          0.06520553152044146,
          0.16898234564998116,
          -0.21511125420963742,
          0.09573589591662827,
          0.27225482883218943,
          0.10599754325083598,
          0.18147910480861648,
          0.04940336162247203,
          -0.03945344776541861,
          0.05826591231893468,
          -0.0887522282867537,
          -0.27182511962449235,
          0.09938196209852164,
          -0.006587772232639969,
          -0.015286785598537106,
          0.19966234988038828,
          0.19917929754650032,
          0.10805490185907166,
          0.24332677360283925,
          -0.10366709845092867,
          -0.07465878133204132,
          0.12247778253652532,
          0.20359064719133135,
          0.18187437619917615,
          0.14438564358618425,
          0.028719950845949478,
          -0.3216291912845919,
          0.0945118700110761,
          0.37288237812579983,
          0.1449470321797804,
          -0.014575100425189357,
          -0.052385610237277766,
          0.13573690824934043,
          -0.017910445467211274,
          0.19768922869145894,
          0.20710802648994683,
          0.08328025683925426,
          -0.027075453522176975,
          0.3052214374329777,
          0.07843021213102552,
          0.12599045557964883,
          -0.004431324000218272
         ]
        },
        {
         "customdata": [
          [
           "MSFT",
           -0.8401279191597277
          ]
         ],
         "hovertemplate": "\"Ticker: %{customdata[0]}\"<br>\"return: %{customdata[1]}\"",
         "legendgroup": "",
         "marker": {
          "color": "red",
          "size": [
           7
          ],
          "sizemode": "area",
          "sizeref": 0.0175,
          "symbol": "diamond"
         },
         "mode": "markers",
         "name": "",
         "scene": "scene",
         "showlegend": false,
         "type": "scatter3d",
         "x": [
          -0.25957985898287483
         ],
         "y": [
          0.13860095511291212
         ],
         "z": [
          -0.12664804894486442
         ]
        }
       ],
       "layout": {
        "template": {
         "data": {
          "bar": [
           {
            "error_x": {
             "color": "#2a3f5f"
            },
            "error_y": {
             "color": "#2a3f5f"
            },
            "marker": {
             "line": {
              "color": "#E5ECF6",
              "width": 0.5
             },
             "pattern": {
              "fillmode": "overlay",
              "size": 10,
              "solidity": 0.2
             }
            },
            "type": "bar"
           }
          ],
          "barpolar": [
           {
            "marker": {
             "line": {
              "color": "#E5ECF6",
              "width": 0.5
             },
             "pattern": {
              "fillmode": "overlay",
              "size": 10,
              "solidity": 0.2
             }
            },
            "type": "barpolar"
           }
          ],
          "carpet": [
           {
            "aaxis": {
             "endlinecolor": "#2a3f5f",
             "gridcolor": "white",
             "linecolor": "white",
             "minorgridcolor": "white",
             "startlinecolor": "#2a3f5f"
            },
            "baxis": {
             "endlinecolor": "#2a3f5f",
             "gridcolor": "white",
             "linecolor": "white",
             "minorgridcolor": "white",
             "startlinecolor": "#2a3f5f"
            },
            "type": "carpet"
           }
          ],
          "choropleth": [
           {
            "colorbar": {
             "outlinewidth": 0,
             "ticks": ""
            },
            "type": "choropleth"
           }
          ],
          "contour": [
           {
            "colorbar": {
             "outlinewidth": 0,
             "ticks": ""
            },
            "colorscale": [
             [
              0,
              "#0d0887"
             ],
             [
              0.1111111111111111,
              "#46039f"
             ],
             [
              0.2222222222222222,
              "#7201a8"
             ],
             [
              0.3333333333333333,
              "#9c179e"
             ],
             [
              0.4444444444444444,
              "#bd3786"
             ],
             [
              0.5555555555555556,
              "#d8576b"
             ],
             [
              0.6666666666666666,
              "#ed7953"
             ],
             [
              0.7777777777777778,
              "#fb9f3a"
             ],
             [
              0.8888888888888888,
              "#fdca26"
             ],
             [
              1,
              "#f0f921"
             ]
            ],
            "type": "contour"
           }
          ],
          "contourcarpet": [
           {
            "colorbar": {
             "outlinewidth": 0,
             "ticks": ""
            },
            "type": "contourcarpet"
           }
          ],
          "heatmap": [
           {
            "colorbar": {
             "outlinewidth": 0,
             "ticks": ""
            },
            "colorscale": [
             [
              0,
              "#0d0887"
             ],
             [
              0.1111111111111111,
              "#46039f"
             ],
             [
              0.2222222222222222,
              "#7201a8"
             ],
             [
              0.3333333333333333,
              "#9c179e"
             ],
             [
              0.4444444444444444,
              "#bd3786"
             ],
             [
              0.5555555555555556,
              "#d8576b"
             ],
             [
              0.6666666666666666,
              "#ed7953"
             ],
             [
              0.7777777777777778,
              "#fb9f3a"
             ],
             [
              0.8888888888888888,
              "#fdca26"
             ],
             [
              1,
              "#f0f921"
             ]
            ],
            "type": "heatmap"
           }
          ],
          "heatmapgl": [
           {
            "colorbar": {
             "outlinewidth": 0,
             "ticks": ""
            },
            "colorscale": [
             [
              0,
              "#0d0887"
             ],
             [
              0.1111111111111111,
              "#46039f"
             ],
             [
              0.2222222222222222,
              "#7201a8"
             ],
             [
              0.3333333333333333,
              "#9c179e"
             ],
             [
              0.4444444444444444,
              "#bd3786"
             ],
             [
              0.5555555555555556,
              "#d8576b"
             ],
             [
              0.6666666666666666,
              "#ed7953"
             ],
             [
              0.7777777777777778,
              "#fb9f3a"
             ],
             [
              0.8888888888888888,
              "#fdca26"
             ],
             [
              1,
              "#f0f921"
             ]
            ],
            "type": "heatmapgl"
           }
          ],
          "histogram": [
           {
            "marker": {
             "pattern": {
              "fillmode": "overlay",
              "size": 10,
              "solidity": 0.2
             }
            },
            "type": "histogram"
           }
          ],
          "histogram2d": [
           {
            "colorbar": {
             "outlinewidth": 0,
             "ticks": ""
            },
            "colorscale": [
             [
              0,
              "#0d0887"
             ],
             [
              0.1111111111111111,
              "#46039f"
             ],
             [
              0.2222222222222222,
              "#7201a8"
             ],
             [
              0.3333333333333333,
              "#9c179e"
             ],
             [
              0.4444444444444444,
              "#bd3786"
             ],
             [
              0.5555555555555556,
              "#d8576b"
             ],
             [
              0.6666666666666666,
              "#ed7953"
             ],
             [
              0.7777777777777778,
              "#fb9f3a"
             ],
             [
              0.8888888888888888,
              "#fdca26"
             ],
             [
              1,
              "#f0f921"
             ]
            ],
            "type": "histogram2d"
           }
          ],
          "histogram2dcontour": [
           {
            "colorbar": {
             "outlinewidth": 0,
             "ticks": ""
            },
            "colorscale": [
             [
              0,
              "#0d0887"
             ],
             [
              0.1111111111111111,
              "#46039f"
             ],
             [
              0.2222222222222222,
              "#7201a8"
             ],
             [
              0.3333333333333333,
              "#9c179e"
             ],
             [
              0.4444444444444444,
              "#bd3786"
             ],
             [
              0.5555555555555556,
              "#d8576b"
             ],
             [
              0.6666666666666666,
              "#ed7953"
             ],
             [
              0.7777777777777778,
              "#fb9f3a"
             ],
             [
              0.8888888888888888,
              "#fdca26"
             ],
             [
              1,
              "#f0f921"
             ]
            ],
            "type": "histogram2dcontour"
           }
          ],
          "mesh3d": [
           {
            "colorbar": {
             "outlinewidth": 0,
             "ticks": ""
            },
            "type": "mesh3d"
           }
          ],
          "parcoords": [
           {
            "line": {
             "colorbar": {
              "outlinewidth": 0,
              "ticks": ""
             }
            },
            "type": "parcoords"
           }
          ],
          "pie": [
           {
            "automargin": true,
            "type": "pie"
           }
          ],
          "scatter": [
           {
            "fillpattern": {
             "fillmode": "overlay",
             "size": 10,
             "solidity": 0.2
            },
            "type": "scatter"
           }
          ],
          "scatter3d": [
           {
            "line": {
             "colorbar": {
              "outlinewidth": 0,
              "ticks": ""
             }
            },
            "marker": {
             "colorbar": {
              "outlinewidth": 0,
              "ticks": ""
             }
            },
            "type": "scatter3d"
           }
          ],
          "scattercarpet": [
           {
            "marker": {
             "colorbar": {
              "outlinewidth": 0,
              "ticks": ""
             }
            },
            "type": "scattercarpet"
           }
          ],
          "scattergeo": [
           {
            "marker": {
             "colorbar": {
              "outlinewidth": 0,
              "ticks": ""
             }
            },
            "type": "scattergeo"
           }
          ],
          "scattergl": [
           {
            "marker": {
             "colorbar": {
              "outlinewidth": 0,
              "ticks": ""
             }
            },
            "type": "scattergl"
           }
          ],
          "scattermapbox": [
           {
            "marker": {
             "colorbar": {
              "outlinewidth": 0,
              "ticks": ""
             }
            },
            "type": "scattermapbox"
           }
          ],
          "scatterpolar": [
           {
            "marker": {
             "colorbar": {
              "outlinewidth": 0,
              "ticks": ""
             }
            },
            "type": "scatterpolar"
           }
          ],
          "scatterpolargl": [
           {
            "marker": {
             "colorbar": {
              "outlinewidth": 0,
              "ticks": ""
             }
            },
            "type": "scatterpolargl"
           }
          ],
          "scatterternary": [
           {
            "marker": {
             "colorbar": {
              "outlinewidth": 0,
              "ticks": ""
             }
            },
            "type": "scatterternary"
           }
          ],
          "surface": [
           {
            "colorbar": {
             "outlinewidth": 0,
             "ticks": ""
            },
            "colorscale": [
             [
              0,
              "#0d0887"
             ],
             [
              0.1111111111111111,
              "#46039f"
             ],
             [
              0.2222222222222222,
              "#7201a8"
             ],
             [
              0.3333333333333333,
              "#9c179e"
             ],
             [
              0.4444444444444444,
              "#bd3786"
             ],
             [
              0.5555555555555556,
              "#d8576b"
             ],
             [
              0.6666666666666666,
              "#ed7953"
             ],
             [
              0.7777777777777778,
              "#fb9f3a"
             ],
             [
              0.8888888888888888,
              "#fdca26"
             ],
             [
              1,
              "#f0f921"
             ]
            ],
            "type": "surface"
           }
          ],
          "table": [
           {
            "cells": {
             "fill": {
              "color": "#EBF0F8"
             },
             "line": {
              "color": "white"
             }
            },
            "header": {
             "fill": {
              "color": "#C8D4E3"
             },
             "line": {
              "color": "white"
             }
            },
            "type": "table"
           }
          ]
         },
         "layout": {
          "annotationdefaults": {
           "arrowcolor": "#2a3f5f",
           "arrowhead": 0,
           "arrowwidth": 1
          },
          "autotypenumbers": "strict",
          "coloraxis": {
           "colorbar": {
            "outlinewidth": 0,
            "ticks": ""
           }
          },
          "colorscale": {
           "diverging": [
            [
             0,
             "#8e0152"
            ],
            [
             0.1,
             "#c51b7d"
            ],
            [
             0.2,
             "#de77ae"
            ],
            [
             0.3,
             "#f1b6da"
            ],
            [
             0.4,
             "#fde0ef"
            ],
            [
             0.5,
             "#f7f7f7"
            ],
            [
             0.6,
             "#e6f5d0"
            ],
            [
             0.7,
             "#b8e186"
            ],
            [
             0.8,
             "#7fbc41"
            ],
            [
             0.9,
             "#4d9221"
            ],
            [
             1,
             "#276419"
            ]
           ],
           "sequential": [
            [
             0,
             "#0d0887"
            ],
            [
             0.1111111111111111,
             "#46039f"
            ],
            [
             0.2222222222222222,
             "#7201a8"
            ],
            [
             0.3333333333333333,
             "#9c179e"
            ],
            [
             0.4444444444444444,
             "#bd3786"
            ],
            [
             0.5555555555555556,
             "#d8576b"
            ],
            [
             0.6666666666666666,
             "#ed7953"
            ],
            [
             0.7777777777777778,
             "#fb9f3a"
            ],
            [
             0.8888888888888888,
             "#fdca26"
            ],
            [
             1,
             "#f0f921"
            ]
           ],
           "sequentialminus": [
            [
             0,
             "#0d0887"
            ],
            [
             0.1111111111111111,
             "#46039f"
            ],
            [
             0.2222222222222222,
             "#7201a8"
            ],
            [
             0.3333333333333333,
             "#9c179e"
            ],
            [
             0.4444444444444444,
             "#bd3786"
            ],
            [
             0.5555555555555556,
             "#d8576b"
            ],
            [
             0.6666666666666666,
             "#ed7953"
            ],
            [
             0.7777777777777778,
             "#fb9f3a"
            ],
            [
             0.8888888888888888,
             "#fdca26"
            ],
            [
             1,
             "#f0f921"
            ]
           ]
          },
          "colorway": [
           "#636efa",
           "#EF553B",
           "#00cc96",
           "#ab63fa",
           "#FFA15A",
           "#19d3f3",
           "#FF6692",
           "#B6E880",
           "#FF97FF",
           "#FECB52"
          ],
          "font": {
           "color": "#2a3f5f"
          },
          "geo": {
           "bgcolor": "white",
           "lakecolor": "white",
           "landcolor": "#E5ECF6",
           "showlakes": true,
           "showland": true,
           "subunitcolor": "white"
          },
          "hoverlabel": {
           "align": "left"
          },
          "hovermode": "closest",
          "mapbox": {
           "style": "light"
          },
          "paper_bgcolor": "white",
          "plot_bgcolor": "#E5ECF6",
          "polar": {
           "angularaxis": {
            "gridcolor": "white",
            "linecolor": "white",
            "ticks": ""
           },
           "bgcolor": "#E5ECF6",
           "radialaxis": {
            "gridcolor": "white",
            "linecolor": "white",
            "ticks": ""
           }
          },
          "scene": {
           "xaxis": {
            "backgroundcolor": "#E5ECF6",
            "gridcolor": "white",
            "gridwidth": 2,
            "linecolor": "white",
            "showbackground": true,
            "ticks": "",
            "zerolinecolor": "white"
           },
           "yaxis": {
            "backgroundcolor": "#E5ECF6",
            "gridcolor": "white",
            "gridwidth": 2,
            "linecolor": "white",
            "showbackground": true,
            "ticks": "",
            "zerolinecolor": "white"
           },
           "zaxis": {
            "backgroundcolor": "#E5ECF6",
            "gridcolor": "white",
            "gridwidth": 2,
            "linecolor": "white",
            "showbackground": true,
            "ticks": "",
            "zerolinecolor": "white"
           }
          },
          "shapedefaults": {
           "line": {
            "color": "#2a3f5f"
           }
          },
          "ternary": {
           "aaxis": {
            "gridcolor": "white",
            "linecolor": "white",
            "ticks": ""
           },
           "baxis": {
            "gridcolor": "white",
            "linecolor": "white",
            "ticks": ""
           },
           "bgcolor": "#E5ECF6",
           "caxis": {
            "gridcolor": "white",
            "linecolor": "white",
            "ticks": ""
           }
          },
          "title": {
           "x": 0.05
          },
          "xaxis": {
           "automargin": true,
           "gridcolor": "white",
           "linecolor": "white",
           "ticks": "",
           "title": {
            "standoff": 15
           },
           "zerolinecolor": "white",
           "zerolinewidth": 2
          },
          "yaxis": {
           "automargin": true,
           "gridcolor": "white",
           "linecolor": "white",
           "ticks": "",
           "title": {
            "standoff": 15
           },
           "zerolinecolor": "white",
           "zerolinewidth": 2
          }
         }
        }
       }
      },
      "text/html": [
       "<div>                            <div id=\"baab632d-8004-42c6-93d9-e77d273ef633\" class=\"plotly-graph-div\" style=\"height:525px; width:100%;\"></div>            <script type=\"text/javascript\">                require([\"plotly\"], function(Plotly) {                    window.PLOTLYENV=window.PLOTLYENV || {};                                    if (document.getElementById(\"baab632d-8004-42c6-93d9-e77d273ef633\")) {                    Plotly.newPlot(                        \"baab632d-8004-42c6-93d9-e77d273ef633\",                        [{\"customdata\":[[\"A\",-0.7366818589894408],[\"AAL\",4.000051632380774],[\"AAPL\",0.29828598982328813],[\"ABT\",-0.5197285139178387],[\"ACGL\",-0.37189163478978937],[\"ACN\",-0.4990103097512133],[\"ADBE\",1.733527552930747],[\"ADI\",-0.3065038262078712],[\"ADM\",-0.05889382460078085],[\"ADP\",1.0800827222374743],[\"ADSK\",6.513759638243921],[\"AEE\",-0.7305323403173358],[\"AEP\",-2.0261543978041807],[\"AES\",0.8295081780166802],[\"AFL\",-0.7144672890601278],[\"AIG\",6.824370660811208],[\"AIZ\",-0.12782607283507996],[\"AJG\",-0.4510039722385173],[\"AKAM\",3.1077621662117583],[\"ALB\",-0.8449365000493092],[\"ALGN\",1.1725787871388338],[\"ALL\",-0.6763945164896978],[\"AMAT\",-2.022944770526358],[\"AMD\",1.076615640483003],[\"AME\",0.06878405167134449],[\"AMGN\",-0.5549760510901169],[\"AMP\",1.0920701295741297],[\"AMT\",-1.8992124238855324],[\"AMZN\",0.7829099180912236],[\"ANSS\",1.1233754368738857],[\"AON\",-0.49753388612847615],[\"AOS\",1.7684655332356858],[\"APA\",1.9831388027990338],[\"APD\",-0.9569323951468145],[\"APH\",-1.3219961129611102],[\"ARE\",0.24396511096191897],[\"ATO\",-0.17061269515197264],[\"AVB\",-0.242167453600306],[\"AVGO\",-0.5554251365740726],[\"AVY\",-1.188138044846887],[\"AWK\",-1.0650887653905539],[\"AXON\",1.7863539589176858],[\"AXP\",2.38180178747065],[\"AZO\",-1.7428236457047386],[\"BA\",0.28696418727696127],[\"BAC\",1.3061774869973952],[\"BALL\",0.22688103189139053],[\"BAX\",0.6781450714205661],[\"BBWI\",-1.6560971325717988],[\"BBY\",1.3347898255650748],[\"BDX\",-0.4957735422907117],[\"BEN\",-2.160375343927301],[\"BG\",1.6505296349176302],[\"BIIB\",-0.09804361502856462],[\"BIO\",0.2400012098981108],[\"BK\",2.940943073814317],[\"BKNG\",5.396535331854557],[\"BKR\",-0.3766321806128792],[\"BLDR\",-0.5197285139178387],[\"BLK\",0.5116308989368212],[\"BMY\",-0.9400387289818735],[\"BR\",-0.3838399983808083],[\"BRO\",0.5694566995498196],[\"BSX\",0.14872323216994499],[\"BWA\",0.4042642947759356],[\"BX\",-0.5865465523915092],[\"BXP\",0.15081274931978417],[\"C\",0.9088312750036298],[\"CAG\",-0.29886937374066225],[\"CAH\",0.2578909714930244],[\"CAT\",0.3446162697971822],[\"CB\",-0.8573155478212691],[\"CBOE\",-0.8136039847149723],[\"CBRE\",0.4102789810379148],[\"CCI\",-1.557776791411336],[\"CCL\",0.4571296902849964],[\"CDNS\",-0.5197285139178387],[\"CE\",-0.495757339943359],[\"CF\",0.97673567269978],[\"CHD\",-0.18696641804347713],[\"CHRW\",-1.2283142570748473],[\"CHTR\",-0.5954830100107444],[\"CI\",-0.19957189952959364],[\"CINF\",-0.23891248211804772],[\"CL\",-1.1472324055162741],[\"CLX\",0.08123603268324064],[\"CMA\",-0.9348663354004749],[\"CMCSA\",0.8171835927672344],[\"CME\",-2.295848571290837],[\"CMG\",-1.1358166315910578],[\"CMI\",0.7257672796354253],[\"CMS\",-0.7857318472694108],[\"CNC\",-1.0532627779025971],[\"CNP\",-0.8987124192739504],[\"COF\",3.692741180739212],[\"COO\",-1.104952495497935],[\"COP\",-1.0058759567462494],[\"COR\",1.0123789517916704],[\"COST\",-2.3723842985599375],[\"CPB\",-0.20053443011900374],[\"CPRT\",-0.4129169926563314],[\"CPT\",0.05754995963143106],[\"CRL\",0.7233674901025555],[\"CRM\",4.277967992607823],[\"CSCO\",0.6985736030097112],[\"CSGP\",-0.0076047374716115],[\"CSX\",0.21407912124775663],[\"CTAS\",0.6729291850832597],[\"CTRA\",-0.573015359361051],[\"CTSH\",2.2175925099932936],[\"CVS\",0.5368113937674446],[\"CVX\",-0.6944267003284543],[\"D\",-0.774730277160196],[\"DAL\",3.071620072875225],[\"DD\",-0.6924174211879963],[\"DE\",0.9497852408381302],[\"DFS\",2.4340654114125115],[\"DG\",-1.9604534485281544],[\"DGX\",1.128680076226285],[\"DHI\",2.7275760892093714],[\"DHR\",-0.6262912944881904],[\"DIS\",1.968062606958143],[\"DLR\",-0.0489760295775854],[\"DLTR\",-5.379063124531269],[\"DOV\",-1.5062797761784208],[\"DPZ\",2.634236327391082],[\"DRI\",-1.6760903340000688],[\"DTE\",-0.4979043438007258],[\"DUK\",-1.5225203155030953],[\"DVA\",-1.7427100470290502],[\"DVN\",0.1196661736258875],[\"DXCM\",2.333125263463076],[\"EA\",-1.1302314770582078],[\"EBAY\",0.39351195646613046],[\"ECL\",-0.3187554166102391],[\"ED\",-1.1836848282806067],[\"EFX\",0.48503625771296743],[\"EG\",-1.4479855616049142],[\"EIX\",-1.7790260912390332],[\"EL\",0.5569885767731098],[\"ELV\",-0.2625906729503358],[\"EMN\",0.21716567579541657],[\"EMR\",0.7192270236543674],[\"EOG\",-0.3135073270149835],[\"EQIX\",0.07525515199688915],[\"EQR\",-0.5783485321736892],[\"EQT\",0.3017774340663637],[\"ES\",-1.8049879026804772],[\"ESS\",0.17412347019043484],[\"ETN\",0.18750157802387424],[\"ETR\",-1.313019435306917],[\"EVRG\",-0.9912641580049231],[\"EW\",-2.3261257570707183],[\"EXC\",0.045382079408118337],[\"EXPD\",-0.9034950829863053],[\"EXPE\",3.6162479535053027],[\"EXR\",-0.2372810962427918],[\"F\",2.414668798978048],[\"FAST\",-0.08506836580703947],[\"FCX\",-0.856588800319158],[\"FDS\",-0.3058457236450707],[\"FDX\",0.2856904925913506],[\"FE\",-0.17656287257377112],[\"FFIV\",3.432710096234959],[\"FI\",0.31874118146446584],[\"FICO\",-0.47634410168884145],[\"FIS\",1.2333931609587179],[\"FITB\",1.0417500171050698],[\"FLT\",0.8812057179264476],[\"FMC\",-1.5252971363136747],[\"FRT\",-1.5530072990765253],[\"FSLR\",-0.1536432453063563],[\"FTNT\",3.8554535640408893],[\"GD\",-0.06447450029227753],[\"GE\",-0.3585529516086483],[\"GEN\",2.16093330847813],[\"GILD\",0.9401150198226071],[\"GIS\",2.086012298497142],[\"GL\",0.6257594916869946],[\"GLW\",-0.9916846219373165],[\"GM\",-0.07119758360885076],[\"GNRC\",0.6052770039633559],[\"GOOG\",0.634534509322715],[\"GOOGL\",0.6345299569923801],[\"GPC\",-0.7522833542139895],[\"GPN\",0.15607067368077487],[\"GRMN\",0.7354872788169597],[\"GS\",0.011800442470732975],[\"GWW\",-0.9147686594435323],[\"HAL\",-0.8484515296116935],[\"HAS\",-0.019868076540108248],[\"HBAN\",-0.6588406774977962],[\"HD\",-0.8370119336502668],[\"HES\",1.6924453496734326],[\"HIG\",0.9119068013299314],[\"HOLX\",-0.72936692240132],[\"HON\",1.144471481793441],[\"HPQ\",0.7866838731585224],[\"HRL\",-2.1574502276471286],[\"HSIC\",-0.584209900513033],[\"HST\",1.5267295038368323],[\"HSY\",0.01943145032810012],[\"HUBB\",-0.403759334768794],[\"HUM\",-0.9898802779566895],[\"IBM\",-0.9193481321012831],[\"ICE\",-0.7909532040251466],[\"IDXX\",-0.20033067786144887],[\"IEX\",-0.7524751875633617],[\"IFF\",-0.2504783247231135],[\"ILMN\",2.2359877410391027],[\"INCY\",-1.6073321763039772],[\"INTC\",-1.5126082348351],[\"INTU\",-1.6355812015904525],[\"IP\",0.7033032007844442],[\"IPG\",0.9129270210859408],[\"IRM\",0.5814355920276126],[\"ISRG\",0.1906160016874825],[\"IT\",0.8899931973960884],[\"ITW\",-0.02027331138012567],[\"IVZ\",-0.6016587943954099],[\"J\",-1.7143527707125905],[\"JBHT\",-0.3985236545178905],[\"JBL\",1.691810624863166],[\"JCI\",-0.42613692788895374],[\"JKHY\",0.16285266462914283],[\"JNJ\",-0.5828812482894241],[\"JNPR\",1.4178320765032337],[\"JPM\",0.7030864657798119],[\"K\",-0.948636193067709],[\"KDP\",1.5929438047869615],[\"KEY\",0.14991883758297408],[\"KIM\",0.9255114333778902],[\"KLAC\",-2.027038094565714],[\"KMB\",-0.1858693199843442],[\"KMX\",2.185555952682283],[\"KO\",-1.1146707859575833],[\"KR\",0.17157676989967285],[\"L\",0.294574138570769],[\"LDOS\",0.1068626678515594],[\"LEN\",2.058107213024951],[\"LH\",-0.209040693399265],[\"LHX\",0.3825488779183983],[\"LIN\",-0.5937424957730975],[\"LKQ\",-0.17459675329272173],[\"LLY\",-1.2333971990038273],[\"LMT\",1.7701249376427475],[\"LNT\",-0.6537605599509999],[\"LOW\",-0.03113384744164449],[\"LRCX\",-4.871102628542278],[\"LULU\",1.3999157927938155],[\"LUV\",-0.5947897464123386],[\"LVS\",0.10880221322397965],[\"LYB\",-0.5771219433390318],[\"LYV\",1.3223771455036504],[\"MA\",2.4261484258754296],[\"MAA\",-0.5036267315698062],[\"MAR\",0.4763816338354099],[\"MAS\",2.3373463457168953],[\"MCD\",-0.04873401738254568],[\"MCHP\",-0.2317336624425348],[\"MCK\",0.19036820739382065],[\"MCO\",2.032838372221457],[\"MDLZ\",-0.7412299955123491],[\"MDT\",-1.563790714074631],[\"MET\",0.7675971356038591],[\"MGM\",0.32774339312533485],[\"MHK\",0.022889292485039903],[\"MKC\",-1.3226673928654398],[\"MKTX\",-0.21640633613644322],[\"MLM\",-3.1065414787228796],[\"MMC\",-0.6278558923720201],[\"MMM\",-0.5197285139178387],[\"MNST\",-1.1508278164169772],[\"MO\",-0.15072780336939928],[\"MOH\",-1.6090572518846935],[\"MOS\",2.3202327615690743],[\"MPWR\",0.11437912553564633],[\"MRK\",0.058026030111224536],[\"MRO\",-0.6267000266373834],[\"MS\",0.7447568819517025],[\"MSCI\",0.8204861637419514],[\"MSFT\",-0.8401279191597277],[\"MSI\",-0.3688315919867291],[\"MTB\",0.6642065134305097],[\"MTCH\",0.32973454779179345],[\"MTD\",-1.1267476375422247],[\"MU\",0.6651056365418295],[\"NDAQ\",-1.648480022699661],[\"NDSN\",-0.11245595366269345],[\"NEE\",-1.2969508494423465],[\"NEM\",-2.076924929092294],[\"NFLX\",-1.4239560553844566],[\"NI\",-0.12776453868239557],[\"NKE\",0.13526768233538267],[\"NOC\",0.00044748386265336393],[\"NRG\",-1.5277898624636355],[\"NSC\",0.0008414202658846293],[\"NTAP\",0.3342314054253226],[\"NTRS\",0.46240910789960843],[\"NUE\",0.5981710087471059],[\"NVDA\",7.153071103677222],[\"NVR\",0.6560700985986045],[\"NXPI\",5.7046849101825],[\"O\",-0.6081868863049955],[\"ODFL\",-0.6736323997330484],[\"OKE\",-0.9512407559925551],[\"OMC\",0.7116682476218772],[\"ON\",0.06678587808166547],[\"ORCL\",-1.9174420811216675],[\"ORLY\",-0.2443889067391014],[\"OXY\",-0.1473083694382149],[\"PARA\",-1.6525676160619729],[\"PAYX\",2.049399568162502],[\"PCAR\",0.3554744761187445],[\"PCG\",-2.074346282248418],[\"PEAK\",-0.33150650937789905],[\"PEG\",-1.343025831886424],[\"PEP\",1.2843220588915072],[\"PFE\",0.14732870111116014],[\"PFG\",-0.36830259546538624],[\"PG\",-0.7506997900198487],[\"PGR\",-0.12074985116954373],[\"PH\",-0.3710526969441741],[\"PHM\",3.251379278262889],[\"PKG\",2.7983344127110676],[\"PLD\",1.1856935920889322],[\"PM\",-0.8094180866873191],[\"PNC\",1.4099943091257172],[\"PNR\",-0.46484722448969507],[\"PNW\",-1.191775731502387],[\"PODD\",1.4472731449671539],[\"POOL\",0.7499933707062256],[\"PPG\",0.04363546679191366],[\"PPL\",-0.8170901082847792],[\"PRU\",-0.568898296717335],[\"PSA\",0.47047495392258387],[\"PTC\",1.5571660425696354],[\"PWR\",-0.7592123681038565],[\"PXD\",0.2000949479798786],[\"QCOM\",1.5599316956423692],[\"RCL\",0.5548695859612707],[\"REG\",0.00496902114675013],[\"REGN\",-0.4295222736646176],[\"RF\",2.0407110402677064],[\"RHI\",3.2241192676449426],[\"RJF\",-0.303874040165808],[\"RL\",-0.5751124894758042],[\"RMD\",-2.5321818156375797],[\"ROK\",-0.24819136716676127],[\"ROL\",1.2936755871897354],[\"ROP\",0.03414504061176604],[\"ROST\",0.20370613861944165],[\"RSG\",-1.5561467854524613],[\"RTX\",-0.3806740632545935],[\"RVTY\",-1.2619041200460313],[\"SBAC\",-1.1779778304831012],[\"SBUX\",-0.919990361785572],[\"SCHW\",4.474450841962274],[\"SHW\",-1.8575320956963015],[\"SJM\",-0.5829450301881534],[\"SLB\",0.6563058132302624],[\"SNA\",-1.54851442925672],[\"SNPS\",-0.7432734677229047],[\"SO\",-1.5586716493959596],[\"SPG\",-0.20323923178930947],[\"SPGI\",1.271800361316422],[\"SRE\",-1.6060568066352587],[\"STE\",0.02791343058978768],[\"STLD\",0.7839361317963922],[\"STT\",0.7655939978426396],[\"STX\",-1.0610637893917474],[\"STZ\",-0.007420743030372989],[\"SWK\",-1.3308094891579247],[\"SWKS\",1.4039820542253612],[\"SYK\",0.03214765460906044],[\"SYY\",0.39866249568956125],[\"T\",-0.18503482310012753],[\"TAP\",-1.215871321427331],[\"TDG\",1.2285285656079559],[\"TDY\",0.8544562545861556],[\"TECH\",0.8356886043066503],[\"TEL\",-1.3929625617013053],[\"TER\",-2.1973524145882495],[\"TFC\",2.402725260957883],[\"TFX\",0.05564591481967973],[\"TGT\",-2.2700131075254038],[\"TJX\",-1.850614589604016],[\"TMO\",-0.872350300374447],[\"TMUS\",1.9227971073708439],[\"TPR\",-0.022418513242850047],[\"TRGP\",0.14298432090451563],[\"TRMB\",0.10511530134782454],[\"TROW\",0.8492834285133144],[\"TRV\",-1.1135922005287568],[\"TSCO\",0.45195331791842985],[\"TSLA\",0.08021335646786198],[\"TSN\",0.7110068523908497],[\"TT\",0.0760869829335542],[\"TTWO\",-0.27740434030012473],[\"TXN\",-0.12178887183900144],[\"TXT\",1.7539802203994093],[\"TYL\",-0.6174731439760883],[\"UAL\",-1.2247825692823455],[\"UDR\",-1.3848165014883285],[\"UHS\",-0.8594182632120306],[\"ULTA\",0.18039527562889734],[\"UNH\",-0.19945490519168718],[\"UNP\",-0.6486798888925449],[\"UPS\",-0.36863747808730807],[\"URI\",2.8149991543440223],[\"USB\",-0.29551072479025997],[\"V\",1.5907903093296483],[\"VFC\",-0.42565621707768564],[\"VLO\",1.9382302314745914],[\"VMC\",-2.607992075877552],[\"VRSK\",-0.3738374902692687],[\"VRSN\",0.35376889080689367],[\"VRTX\",3.284155425992452],[\"VTR\",-1.3279948900661087],[\"VTRS\",0.1299231091868025],[\"VZ\",0.8526493201146845],[\"WAB\",0.8019217946413804],[\"WAT\",-0.31361790233679354],[\"WBA\",0.8674309458131857],[\"WBD\",-2.643789036871602],[\"WDC\",-1.1259551544016144],[\"WEC\",-1.070903253954436],[\"WELL\",-0.33125352866174573],[\"WFC\",1.755160267361866],[\"WHR\",0.15313978347211155],[\"WM\",-0.5743710832114557],[\"WMB\",-0.3567340327201185],[\"WMT\",-1.177018373187666],[\"WRB\",-0.9560715213740023],[\"WST\",-0.08179641529739712],[\"WTW\",0.8687200946532414],[\"WY\",2.6004924992649503],[\"WYNN\",0.7704411295301972],[\"XEL\",-1.1114469564666218],[\"XOM\",-0.7867690226609936],[\"XRAY\",0.430958346475796],[\"YUM\",-0.043924219655244734],[\"ZBH\",-0.4460340252448569],[\"ZBRA\",-0.6254391782044233],[\"ZION\",0.04568153337587422]],\"hovertemplate\":\"\\\"Ticker: %{customdata[0]}\\\"\\u003cbr\\u003e\\\"return: %{customdata[1]}\\\"\",\"legendgroup\":\"\",\"marker\":{\"color\":[-0.7366818589894408,4.000051632380774,0.29828598982328813,-0.5197285139178387,-0.37189163478978937,-0.4990103097512133,1.733527552930747,-0.3065038262078712,-0.05889382460078085,1.0800827222374743,6.513759638243921,-0.7305323403173358,-2.0261543978041807,0.8295081780166802,-0.7144672890601278,6.824370660811208,-0.12782607283507996,-0.4510039722385173,3.1077621662117583,-0.8449365000493092,1.1725787871388338,-0.6763945164896978,-2.022944770526358,1.076615640483003,0.06878405167134449,-0.5549760510901169,1.0920701295741297,-1.8992124238855324,0.7829099180912236,1.1233754368738857,-0.49753388612847615,1.7684655332356858,1.9831388027990338,-0.9569323951468145,-1.3219961129611102,0.24396511096191897,-0.17061269515197264,-0.242167453600306,-0.5554251365740726,-1.188138044846887,-1.0650887653905539,1.7863539589176858,2.38180178747065,-1.7428236457047386,0.28696418727696127,1.3061774869973952,0.22688103189139053,0.6781450714205661,-1.6560971325717988,1.3347898255650748,-0.4957735422907117,-2.160375343927301,1.6505296349176302,-0.09804361502856462,0.2400012098981108,2.940943073814317,5.396535331854557,-0.3766321806128792,-0.5197285139178387,0.5116308989368212,-0.9400387289818735,-0.3838399983808083,0.5694566995498196,0.14872323216994499,0.4042642947759356,-0.5865465523915092,0.15081274931978417,0.9088312750036298,-0.29886937374066225,0.2578909714930244,0.3446162697971822,-0.8573155478212691,-0.8136039847149723,0.4102789810379148,-1.557776791411336,0.4571296902849964,-0.5197285139178387,-0.495757339943359,0.97673567269978,-0.18696641804347713,-1.2283142570748473,-0.5954830100107444,-0.19957189952959364,-0.23891248211804772,-1.1472324055162741,0.08123603268324064,-0.9348663354004749,0.8171835927672344,-2.295848571290837,-1.1358166315910578,0.7257672796354253,-0.7857318472694108,-1.0532627779025971,-0.8987124192739504,3.692741180739212,-1.104952495497935,-1.0058759567462494,1.0123789517916704,-2.3723842985599375,-0.20053443011900374,-0.4129169926563314,0.05754995963143106,0.7233674901025555,4.277967992607823,0.6985736030097112,-0.0076047374716115,0.21407912124775663,0.6729291850832597,-0.573015359361051,2.2175925099932936,0.5368113937674446,-0.6944267003284543,-0.774730277160196,3.071620072875225,-0.6924174211879963,0.9497852408381302,2.4340654114125115,-1.9604534485281544,1.128680076226285,2.7275760892093714,-0.6262912944881904,1.968062606958143,-0.0489760295775854,-5.379063124531269,-1.5062797761784208,2.634236327391082,-1.6760903340000688,-0.4979043438007258,-1.5225203155030953,-1.7427100470290502,0.1196661736258875,2.333125263463076,-1.1302314770582078,0.39351195646613046,-0.3187554166102391,-1.1836848282806067,0.48503625771296743,-1.4479855616049142,-1.7790260912390332,0.5569885767731098,-0.2625906729503358,0.21716567579541657,0.7192270236543674,-0.3135073270149835,0.07525515199688915,-0.5783485321736892,0.3017774340663637,-1.8049879026804772,0.17412347019043484,0.18750157802387424,-1.313019435306917,-0.9912641580049231,-2.3261257570707183,0.045382079408118337,-0.9034950829863053,3.6162479535053027,-0.2372810962427918,2.414668798978048,-0.08506836580703947,-0.856588800319158,-0.3058457236450707,0.2856904925913506,-0.17656287257377112,3.432710096234959,0.31874118146446584,-0.47634410168884145,1.2333931609587179,1.0417500171050698,0.8812057179264476,-1.5252971363136747,-1.5530072990765253,-0.1536432453063563,3.8554535640408893,-0.06447450029227753,-0.3585529516086483,2.16093330847813,0.9401150198226071,2.086012298497142,0.6257594916869946,-0.9916846219373165,-0.07119758360885076,0.6052770039633559,0.634534509322715,0.6345299569923801,-0.7522833542139895,0.15607067368077487,0.7354872788169597,0.011800442470732975,-0.9147686594435323,-0.8484515296116935,-0.019868076540108248,-0.6588406774977962,-0.8370119336502668,1.6924453496734326,0.9119068013299314,-0.72936692240132,1.144471481793441,0.7866838731585224,-2.1574502276471286,-0.584209900513033,1.5267295038368323,0.01943145032810012,-0.403759334768794,-0.9898802779566895,-0.9193481321012831,-0.7909532040251466,-0.20033067786144887,-0.7524751875633617,-0.2504783247231135,2.2359877410391027,-1.6073321763039772,-1.5126082348351,-1.6355812015904525,0.7033032007844442,0.9129270210859408,0.5814355920276126,0.1906160016874825,0.8899931973960884,-0.02027331138012567,-0.6016587943954099,-1.7143527707125905,-0.3985236545178905,1.691810624863166,-0.42613692788895374,0.16285266462914283,-0.5828812482894241,1.4178320765032337,0.7030864657798119,-0.948636193067709,1.5929438047869615,0.14991883758297408,0.9255114333778902,-2.027038094565714,-0.1858693199843442,2.185555952682283,-1.1146707859575833,0.17157676989967285,0.294574138570769,0.1068626678515594,2.058107213024951,-0.209040693399265,0.3825488779183983,-0.5937424957730975,-0.17459675329272173,-1.2333971990038273,1.7701249376427475,-0.6537605599509999,-0.03113384744164449,-4.871102628542278,1.3999157927938155,-0.5947897464123386,0.10880221322397965,-0.5771219433390318,1.3223771455036504,2.4261484258754296,-0.5036267315698062,0.4763816338354099,2.3373463457168953,-0.04873401738254568,-0.2317336624425348,0.19036820739382065,2.032838372221457,-0.7412299955123491,-1.563790714074631,0.7675971356038591,0.32774339312533485,0.022889292485039903,-1.3226673928654398,-0.21640633613644322,-3.1065414787228796,-0.6278558923720201,-0.5197285139178387,-1.1508278164169772,-0.15072780336939928,-1.6090572518846935,2.3202327615690743,0.11437912553564633,0.058026030111224536,-0.6267000266373834,0.7447568819517025,0.8204861637419514,-0.8401279191597277,-0.3688315919867291,0.6642065134305097,0.32973454779179345,-1.1267476375422247,0.6651056365418295,-1.648480022699661,-0.11245595366269345,-1.2969508494423465,-2.076924929092294,-1.4239560553844566,-0.12776453868239557,0.13526768233538267,0.00044748386265336393,-1.5277898624636355,0.0008414202658846293,0.3342314054253226,0.46240910789960843,0.5981710087471059,7.153071103677222,0.6560700985986045,5.7046849101825,-0.6081868863049955,-0.6736323997330484,-0.9512407559925551,0.7116682476218772,0.06678587808166547,-1.9174420811216675,-0.2443889067391014,-0.1473083694382149,-1.6525676160619729,2.049399568162502,0.3554744761187445,-2.074346282248418,-0.33150650937789905,-1.343025831886424,1.2843220588915072,0.14732870111116014,-0.36830259546538624,-0.7506997900198487,-0.12074985116954373,-0.3710526969441741,3.251379278262889,2.7983344127110676,1.1856935920889322,-0.8094180866873191,1.4099943091257172,-0.46484722448969507,-1.191775731502387,1.4472731449671539,0.7499933707062256,0.04363546679191366,-0.8170901082847792,-0.568898296717335,0.47047495392258387,1.5571660425696354,-0.7592123681038565,0.2000949479798786,1.5599316956423692,0.5548695859612707,0.00496902114675013,-0.4295222736646176,2.0407110402677064,3.2241192676449426,-0.303874040165808,-0.5751124894758042,-2.5321818156375797,-0.24819136716676127,1.2936755871897354,0.03414504061176604,0.20370613861944165,-1.5561467854524613,-0.3806740632545935,-1.2619041200460313,-1.1779778304831012,-0.919990361785572,4.474450841962274,-1.8575320956963015,-0.5829450301881534,0.6563058132302624,-1.54851442925672,-0.7432734677229047,-1.5586716493959596,-0.20323923178930947,1.271800361316422,-1.6060568066352587,0.02791343058978768,0.7839361317963922,0.7655939978426396,-1.0610637893917474,-0.007420743030372989,-1.3308094891579247,1.4039820542253612,0.03214765460906044,0.39866249568956125,-0.18503482310012753,-1.215871321427331,1.2285285656079559,0.8544562545861556,0.8356886043066503,-1.3929625617013053,-2.1973524145882495,2.402725260957883,0.05564591481967973,-2.2700131075254038,-1.850614589604016,-0.872350300374447,1.9227971073708439,-0.022418513242850047,0.14298432090451563,0.10511530134782454,0.8492834285133144,-1.1135922005287568,0.45195331791842985,0.08021335646786198,0.7110068523908497,0.0760869829335542,-0.27740434030012473,-0.12178887183900144,1.7539802203994093,-0.6174731439760883,-1.2247825692823455,-1.3848165014883285,-0.8594182632120306,0.18039527562889734,-0.19945490519168718,-0.6486798888925449,-0.36863747808730807,2.8149991543440223,-0.29551072479025997,1.5907903093296483,-0.42565621707768564,1.9382302314745914,-2.607992075877552,-0.3738374902692687,0.35376889080689367,3.284155425992452,-1.3279948900661087,0.1299231091868025,0.8526493201146845,0.8019217946413804,-0.31361790233679354,0.8674309458131857,-2.643789036871602,-1.1259551544016144,-1.070903253954436,-0.33125352866174573,1.755160267361866,0.15313978347211155,-0.5743710832114557,-0.3567340327201185,-1.177018373187666,-0.9560715213740023,-0.08179641529739712,0.8687200946532414,2.6004924992649503,0.7704411295301972,-1.1114469564666218,-0.7867690226609936,0.430958346475796,-0.043924219655244734,-0.4460340252448569,-0.6254391782044233,0.04568153337587422],\"coloraxis\":\"coloraxis\",\"size\":5,\"symbol\":\"circle\"},\"mode\":\"markers\",\"name\":\"\",\"scene\":\"scene\",\"showlegend\":false,\"x\":[0.2616633560851237,0.5673378475518964,-0.0003519618041031662,0.07780555099125952,-0.12359896702930981,-0.11794506560920413,0.006599629155665589,-0.08713023829960645,-0.02480984386584729,-0.00980925355210814,0.4215006384180727,-0.10860426459820191,-0.022514968542720278,-0.1961371522843772,0.17875483636239928,0.2514940484920262,0.07218743178801472,-0.1862401458466416,0.13126939148605746,0.1831083699000983,0.1817808869103543,-0.15324650066436876,-0.054722817123779716,0.5608792701656363,-0.10366009539018319,0.1197149019747245,0.13167509748756004,-0.2418795669964992,0.15467297322335063,-0.17017431888072446,-0.22337096963879238,-0.11757141162336711,0.25662963436221903,-0.09551185050135799,0.22159246929951065,-0.18270309682736063,-0.18350936282922553,-0.05882232227768782,0.3481923249469881,0.028699650180424488,0.019578331900655832,0.5806998283756799,-0.12183847656704025,-0.23114945473836576,-0.1930988200137746,0.3214850202733647,-0.03054724445687881,-0.13535289239913573,-0.2468435224164593,0.19077910316426974,-0.13925682935280934,0.005406058744834637,-0.09611715924706664,0.3302399283086065,-0.15076958150133604,-0.005581076358169472,-0.06577366799266894,0.05171685443356282,0.712789000344446,-0.06292235725053204,-0.10135553311693858,-0.28081391541361306,-0.18102127603615062,-0.09699450273440291,0.14129802009508877,0.2825119793207735,-0.1939782451739052,0.26620288322453894,-0.14875788219643254,-0.15945822513537602,-0.13787990838230388,-0.02947672012510779,-0.15745694253594628,0.13966005473874385,-0.17937564105535636,0.08391953204937123,-0.1957240209668017,0.5054468639183551,0.39324355711608655,-0.19425332982379173,-0.1838393871828378,-0.12078776159062575,-0.0018852028724956683,-0.23298222480424025,-0.1751151151979434,-0.1435737880243362,-0.0428615504231775,-0.1811306117921528,-0.05311360328818356,-0.11129069881241696,0.13747288413666395,-0.056618675214536555,0.3232528123474883,-0.04949290582416612,-0.032881575951411,-0.12380743392168274,-0.11505094395535427,-0.15913538132864882,-0.26795570417377573,-0.19293265561348902,-0.21494738070061087,-0.12851063182877462,0.08250326185446055,0.27716738770432225,-0.28399781283343783,-0.13479806908976544,-0.08900113863171798,-0.1256874973816458,0.3420653252918199,-0.2196413860185414,-0.232829102259974,-0.20221219984087674,-0.12757674160370563,0.4528515122086559,0.1538910815276049,-0.19669626048038247,-0.04750465093787607,-0.033140383654333895,-0.21169444393197473,0.28523058003426566,-0.20098650864208376,-0.2049492600897348,-0.18772434058865797,-0.017587406684092092,-0.10256904370815607,-0.10962321124425296,-0.1480748475841333,-0.07162126477936581,-0.11182067868848562,-0.19190339588048186,0.21043064915541934,0.46203756015745717,0.3141374499857139,-0.03858076404656177,-0.25378742904011914,-0.06066395895452366,-0.18369531836118114,-0.23955166731367877,-0.06780235157427128,-0.2545750634737648,0.021980511121992556,0.09268875734460022,-0.11124048017561154,0.07960425016981772,-0.1201124980853516,-0.06235797371250281,0.049854557675926676,-0.10145438221432035,-0.13244088023999062,0.03164234174148199,-0.055387709299141774,-0.12204255768865654,0.0521810097195405,-0.08373087051758661,-0.12375569742218837,-0.1166349489537322,-0.2403181885448372,-0.12736508933081064,-0.3091570377591567,0.66348397613786,-0.24130387011490517,-0.13629853900251093,-0.0231008811382817,0.1601737694412715,-0.15188240745642229,-0.18871183365791389,-0.1715355095767356,-0.001663519672692409,-0.24905522986483666,-0.071963230058015,-0.16398201165522933,0.7427099824157419,0.18494964705153785,-0.2290676326378802,-0.13826282721015679,-0.21104827054144645,0.10047551820671777,-0.19900264826143418,-0.20948865190343552,-0.1031107880337511,-0.08821039716578377,0.3246178971314474,-0.11514064475806086,0.05464047097858984,-0.2250365977789064,-0.26122142224064154,-0.18137974792598552,-0.029916760978763765,-0.21704717591394918,0.08863986736718665,-0.2889120337819537,0.0628700082929381,-0.17400002640565035,0.08946789453680129,0.11663958751040115,-0.11343428929950311,-0.07693616528032364,-0.002061086274474226,-0.22478843313360905,-0.15151247611658794,-0.09582098181787033,-0.2810135798971405,-0.17035403710664584,0.2545926889408527,-0.2395380684660462,-0.15286918429851465,-0.154592731057196,-0.10731169716353547,-0.14961114206667428,0.47204684236435707,0.7006678186708667,-0.17797873267070746,-0.20204921024807135,0.06318066951322247,-0.12166336588771183,-0.20978890922443233,-0.13260375186241877,-0.27771596239756563,-0.09317157061394797,0.18794501688795182,-0.025107743356887098,-0.23379782707819355,0.09263414188419093,-0.13442964265748,-0.24349165749922075,-0.19538578226377684,0.03441443322966356,0.10878030173108677,-0.1918453774723562,-0.1769356366143708,0.08395394814639054,-0.16004855297781795,0.021898792984771986,-0.21773616296943366,-0.1361236118592703,-0.21324195747336178,-0.24748412064201322,-0.21263984921073198,-0.21881457931161086,0.4826806750334243,-0.23413063690667205,-0.2065794271829005,-0.13845021986939535,-0.10155087781615771,-0.06383332129580296,-0.20611442941450844,-0.0891283095510899,-0.1843283266631399,0.059235044950155344,0.3359644136537671,0.1407672814675222,0.24440048813797488,0.25898589150395135,-0.06172454903242366,-0.14144783388504523,-0.11934287628704708,-0.1285030365882489,0.26278314120088436,-0.2082390617006665,-0.10172094542759229,-0.06167538182195902,-0.17071015774163262,-0.20020210241446182,-0.1679429943337,0.07688331410986349,0.3659661339722804,0.04832661896040312,-0.22238893455792857,0.110971606591877,-0.015297643866703067,-0.194034320705597,-0.16070219585478,-0.07211756805383306,-0.20811482747383037,0.44371381064483045,0.09687343679777663,0.03413782429625433,-0.1956508007804984,0.2581843320006896,0.4273678285610868,-0.203742433116711,-0.25957985898287483,-0.2557011141951038,-0.15391124830386294,-0.16718832534253442,-0.10969520685261981,0.6284092718481338,-0.21910465346627217,-0.08367291212757953,-0.121090188735166,0.38087947505594066,0.6069863044137219,-0.16111682737944455,-0.23707475190360217,-0.2137356346019282,0.35489198122253207,0.006926914742439311,-0.1396862028047979,-0.09988391519316336,-0.10378113099534582,0.15829588239694456,-0.1395953826701455,0.6355450146729122,-0.2285054510269315,-0.11078670666407543,0.19380463770597262,-0.2489727744054614,0.31946929080507325,-0.21145846896759257,-0.21201143051795823,-0.10753999490225755,-0.05707569513703319,-0.23195063085848172,-0.08115078296661214,-0.08248820874089567,-0.2093817893093364,-0.1053492936051482,-0.2316263207690497,-0.1872667438986314,0.07621599310460236,-0.20405070880212006,-0.2474136943009209,-0.020375256937870238,0.7943548736332994,-0.0539903169670275,-0.15663137010800265,-0.23408508550655785,-0.027648538446881456,-0.09529853364405917,-0.0822999059876295,0.2854515395001466,-0.2467517621180443,-0.15076820942959032,-0.10852117874772468,0.11842484585961974,-0.18425045295648143,-0.060544337161960074,-0.056912048953204106,0.2594996347196085,-0.22060901054201523,0.24097321128671986,-0.14366551589468238,0.527040325694922,0.27367968449780333,-0.08062360699394855,0.005481787274699302,-0.25376832144907646,-0.2558617340509603,0.02477974111427406,-0.25065011060574843,-0.1761030315094466,-0.2067873592391925,-0.24986945927629228,-0.15948236808519275,-0.13215089642518496,-0.26615986028585664,-0.19151881350423994,0.06815044291812411,-0.21943749035009244,-0.2719097441219082,-0.08723308359930944,-0.11422173176270202,-0.24342758246712137,-0.06425349231368534,-0.19867319156502344,-0.17618646521030917,-0.15761075292569005,-0.22559482770524636,0.0994548957014685,-0.021289795033922455,0.26929651860361586,-0.2713398437276614,-0.12358023359124586,0.4614926518545464,-0.1885755322948393,-0.2531502968822729,-0.24723418381718787,-0.18349160289625596,-0.21486020928909053,-0.21283157679759468,-0.19254261856790073,-0.14681506831826213,0.14645758170122092,-0.02934635012832318,-0.16976826345607224,-0.2554511054653732,-0.23016240986275055,-0.11551065982367113,0.17807998985165302,-0.16534467932314156,0.40603069818142506,-0.0756049281909286,-0.09041245613262777,-0.22388081166581872,-0.16385810022481656,0.40455264738054836,-0.22067014441478988,-0.023595431417240888,0.00927870982832734,-0.034035876846701174,0.013879258629897027,-0.166090699020734,0.5406139530257351,-0.12892325423917217,-0.029403281949142095,-0.05517927425753903,0.02413824804083906,-0.050085087534817815,-0.2074097288107644,0.7426951799250251,-0.11351580840063939,-0.2247430708241418,-0.22854245737120896,0.0756621056991641,0.16605861221471788,-0.25159822480055416,-0.26079484594289054,0.6354252629881584,-0.15523213862929555,0.007295305960988752,-0.25565926370255704,-0.05627038682079844,-0.16726539785681577,-0.14453494200241754,-0.16454426577768957,0.09073773516143584,-0.0389209267912425,-0.1630355146850273,-0.06704336199897548,0.04003451820789158,-0.24959992779668835,0.25222936864002204,-0.22227288376735596,-0.21956789990891395,-0.20473720966472225,-0.2266948330438791,-0.1709388554863275,0.44229071493950367,-0.05123727561872931,-0.20162347530938785,-0.20095732147644021,-0.10688168988192821,-0.18048199409736534,-0.052487910011597125,0.07898091131546443],\"y\":[-0.1933816941884787,0.31286319683429853,0.1900397419607075,0.382682876361477,0.1815457912584805,0.028683540441866807,0.1148621074326867,-0.11147233416095405,0.08555074803494468,0.22477807371322528,-0.23660783823715834,0.29703112255258113,0.41174298311829366,0.06887432791013207,-0.15666928566841964,-0.4506078181889254,0.050570050419508364,0.0585502939586956,-0.018960656468506698,-0.2841614007228403,-0.10019548891717996,0.006305957413961185,-0.26070483975065234,0.2185176905171779,-0.2913708153146767,0.21317646974879814,-0.4039609595638819,0.24087740705174543,0.2709588023737456,-0.04270659185341195,0.04017664000519857,-0.3470514176512619,0.09620523958808355,-0.18009912666698497,0.10524900943033547,0.09886015201055232,0.1345427545545131,0.21245621358361289,0.008139549859740657,-0.23381854591571838,0.3700895676812129,0.13457203875016982,-0.17872183368986916,0.3349480788949261,-0.07202361818334305,-0.3660901513475015,-0.1101708963913529,-0.028932099766499356,-0.10698258011709073,0.04272515627164896,0.049429041449682395,-0.39602430704944197,0.03137856164431573,0.22629430550383198,0.049545195849106154,-0.38982728888620344,-0.041540132223267814,-0.06997427851405047,0.025724154522395785,-0.251157959857466,0.26957667772028426,0.09318423072890725,-0.05719619051831855,0.0377937341045683,-0.41088617306751196,-0.4664565991306732,0.07996479606660382,-0.46658349110168923,0.16642235981974918,-0.05585695452919053,-0.2848925916050896,0.14935012086968627,0.17233608268018466,-0.41297213938382954,0.36708128175390276,0.3377677207113424,-0.10355824879642828,-0.4118629708305651,-0.11050716509396777,0.2868548760319216,-0.0014480999080983632,0.17812073726587016,-0.14878523114925413,-0.06263128546331101,0.35274164566411614,0.2802380930704953,-0.43512390629967596,-0.056621197551184346,0.1893988761998256,0.0658848680030315,-0.4729138653107382,0.38822462561446613,-0.018899164858212605,0.14619312421313851,-0.3908806301126552,-0.03663135078751589,-0.0014125128710234956,0.13505141370513785,0.2567808923178908,0.2958690288098309,0.06937493063291816,0.18244911969854313,-0.13068502660408088,0.11392565200457369,0.05280515760710613,-0.19107145077072515,-0.2581140244594688,-0.000565174815090441,0.14395696036174663,-0.14457267221103268,0.16042082981084982,0.05970859333299406,0.4292538342795368,0.18353082633073137,-0.3570915666993376,-0.1523961496017097,-0.26781222194910437,0.44247735133833926,0.16406932170272193,-0.06133567292250391,-0.10509791390233823,0.09193129179742673,0.20768891201493977,0.433030277256516,-0.3313593255138539,0.10930656692880027,0.22236131544462534,0.4113089276865295,0.38479314433099104,0.026503076070458355,-0.011482904414221477,0.10506991655331911,0.3481819984860905,0.15575120879761392,-0.031146798863907636,0.5690431145358671,-0.08829534359161974,0.17569636722789328,0.40766109611897833,-0.005477357212498936,0.0907006597632623,-0.33738718157465886,-0.2999951931413786,-0.13560048871318245,0.10916992041878018,0.20670875149303294,-0.08368865494860007,0.3823978939190189,0.14271605733202622,-0.422993498781764,0.41219044062943083,0.36049300381764465,0.12440903891484102,0.35403925804382463,-0.1731347899282009,0.08142508001593907,0.10705127188804421,-0.4333550903409774,-0.1515270387216036,0.26534047300371894,0.03848739320955472,-0.2441706781926822,0.26371190857659177,0.034967663934261956,0.0339428732342223,-0.25842569724016107,-0.06349180640474539,-0.3492173348108837,-0.011269432713098675,-0.26095319969864705,0.2387361021577173,0.17476671412971473,0.0685567591874122,-0.018027237413779786,-0.17221864945380574,-0.11146507753171013,0.21411010820951526,0.382279679950722,-0.08034100575003501,-0.2624506267571505,-0.3562369625177307,-0.12100668381377014,0.15768510493641183,0.17196955914960593,-0.05185475926331753,0.0774328261908611,0.04384629744555362,-0.3007091879434197,-0.13214454589803468,-0.07381359352397207,0.224557953283841,-0.3978854605876521,0.12636824868121804,-0.031468383369768614,-0.3773539637423265,-0.1831070680982566,-0.2517514683857274,-0.1607089307525866,0.21224458352062145,0.025313127141377026,-0.20803892162027687,0.33487908571565816,-0.3079612451212556,0.2297266872085022,0.014772112663865716,0.015778222146699685,0.08943604576979979,-0.3736711051868387,0.020025313142548816,0.14180057077404112,0.09594004318945491,-0.022391311922377356,0.09433009009218815,-0.32154151671335035,-0.19965788622198608,0.029358954763597254,0.02177989678994583,-0.016916212018055158,-0.26085920526871154,-0.5270457240929552,-0.4351597977095624,-0.11685626303070192,-0.35483490329863754,-0.19526801710838862,-0.05025865683219413,0.19558567849543143,-0.0374305782874628,-0.3919426199004523,0.40044922100425906,0.37995922697363527,-0.3737945196357922,-0.030442343598889175,-0.12789640842712727,0.33213065906137085,-0.10912439425604004,0.2530398332368103,0.3918341164597638,-0.07151870282220091,-0.07955057635807113,0.03633880578767183,0.1531621865582127,-0.23737313229742982,-0.06199803743433458,-0.13380036482288082,0.149488539346813,0.06568420874493876,0.40900732623990443,0.025807845738226975,-0.22283083173794863,0.29555646869047664,0.13046061481113924,-0.09786911744842566,-0.21839383708396223,-0.1735757015559774,-0.06662658401277997,0.21687961196172834,-0.10815161550128638,-0.0038615904249359855,0.3279449253963762,-0.1582331661809912,-0.0008770155053206714,-0.12047147314210022,0.31920007330472217,0.05014189448888684,-0.5545458716009967,-0.17882630591184345,-0.1449773213633746,0.18400746675238203,0.14551111707621486,0.07671641921125069,-0.020299299853355372,-0.1425661701748934,0.21509405938211493,0.3714037297340668,-0.024259758719812567,-0.1829100444825428,-0.29541836701608015,0.20647268751298717,-0.007980984331969984,-0.3309446954449748,-0.11539522730287272,0.13860095511291212,0.05699029480045887,-0.07392379299119035,-0.0251797117123692,-0.20826064355364773,0.026262823357357256,-0.07737040413690006,-0.41096128700710155,0.41814444731998324,0.29052302417702786,0.30564393220738295,0.3223600392107085,0.1186717811491303,0.011876717920207613,0.20631979662242428,-0.20380386770613387,-0.14204849738597544,-0.20023490236481506,-0.30754295021118255,-0.20620493625987554,0.13142619260838023,0.017169664460442508,0.3063873919750285,-0.3863540017324218,0.20789951149274083,-0.06503491681200504,-0.0819300986645673,-0.10373399568758589,0.218404844519013,-0.13683730833798316,-0.26878277905755765,0.08363575341436001,-0.3769788198320193,0.43235540040272924,0.18282620106151182,0.35431219655184676,0.3106690933045375,0.14811512113547048,-0.42096081900809995,0.3252989084123119,0.009467662325693026,-0.46114620094161635,-0.08158708737441735,-0.25732669549558507,-0.06728232151574126,0.20245174519169348,-0.3065479180839516,-0.3417028951462722,0.41978724720087307,0.2156227760184566,-0.07508850302437169,-0.25714943473297014,0.439988500117494,-0.4118214474018554,0.17693710123647313,-0.2128454919712577,-0.35769691758582817,0.024102935677140436,0.08346739721889311,0.1282601044191528,0.05536105647841518,0.1436374765284884,-0.4655353217545932,-0.4026101380817371,-0.38550277391550203,-0.058703336398546746,-0.014934757518584163,-0.44445373949415673,-0.11426955017092875,-0.22746106674548305,0.24734349406253095,0.1494919664677839,-0.19874941867197032,-0.18807283255786159,0.254757871453183,0.12411179190623944,-0.28367945085132384,0.06519670529297218,0.20193268388620536,-0.13155708541741576,-0.2990724491502217,0.020432153257639474,0.4808652897570521,0.16181344978636877,-0.10770332952032045,0.27364956003701146,-0.09382001013837002,-0.14988693558415508,-0.38339240125325663,-0.0767340758817103,0.05929679131677376,-0.2975300344560432,-0.05964511483148432,-0.05398351245476218,0.2955138058754562,0.24613371786107205,0.1841716503145544,-0.14132930265748944,-0.299435814886407,0.00933745899785877,-0.3571568843984488,-0.42072440342829576,-0.3119822613766981,-0.026247344486655458,0.29749930094805044,0.21662527192860606,-0.15396001653294622,0.03893657377769429,0.019461089352502327,0.3115656111420132,-0.3510845481128469,-0.35732079983918175,0.0842642131041278,0.06870087297020445,0.18585433845817523,0.055894142379704415,-0.48175831284231774,0.16313302801543433,-0.17299896692307754,-0.41325513642955897,0.05311110080245452,0.136799181939867,0.17550869156542567,-0.18578643547373233,0.0960117647814237,0.008934481165275763,-0.18846062560654792,0.02624945504903001,-0.16776254123258055,-0.22256176101235586,-0.0427063677779615,-0.010538662895515723,-0.06021543631172481,-0.0813386097267976,0.1295157947264998,-0.021021231838137075,0.07234121229364199,0.20158291512622406,0.017919592012458654,0.22736502889615412,-0.42004906085177807,-0.15690382323000152,0.2623910826910824,-0.11224995363892602,-0.21707222702858217,0.4220605607947864,0.2867760967514145,-0.30119270044093116,-0.06361610798307143,0.14750455848857347,0.07063936448874411,0.2653660619326448,0.12992123875099887,-0.010797044727409848,0.09171213660002844,-0.20821374636370432,0.20059096083007383,0.42359311084430373,0.04275563221348905,-0.1320058457626645,-0.01954171677277795,-0.07676723935463002,-0.109039387841092,-0.4689523163634511],\"z\":[-0.04250357082487922,-0.07223236797234206,-0.09554732200057617,-0.12940872197518488,0.10220606396832133,-0.08316136718847167,-0.3095990316240144,0.03602963165140714,0.04626292455196606,-0.15159267844201163,-0.0659927580984861,0.17063833688258115,0.20027892011477622,0.03452746311269902,-0.18617613797453886,-0.08591605272583293,-0.1612687013606989,-0.09551330244257647,-0.13490516588763382,0.2635897537570366,-0.15362128140951092,-0.022841183238426523,0.02445050928884645,0.00603887324412644,0.059255971416542486,0.04750190623956411,-0.14753102180319108,0.08009910227423861,-0.357750344689121,-0.2639587072947714,-0.10277649821015956,-0.07541530582760518,0.09626040239961604,0.15438993513432206,-0.4234086700731391,0.054744796771695185,0.24282691772997292,0.04432962933134099,0.09509895028941391,0.03330657755015269,0.12540746877133505,-0.07268710314803574,0.05270511463721705,-0.048505448098784196,0.08859569395854412,-0.15492406320053864,0.2295046826706232,0.14393807800867722,0.02538155248533532,-0.10362196797713458,0.11857415565328927,0.027209235690502452,0.014104862359191657,0.10840194353898548,-0.1192606009399131,-0.05494314999411624,-0.21811321695527228,0.12395838854711842,-0.03758027567811918,-0.17456753613637166,-0.0020144492170260995,-0.09693156703727501,0.011856403339917535,-0.26675907140094396,0.260117317453658,0.2760965806481906,0.087491928366576,0.006205274497581795,0.17685971052618069,0.23384061019873378,0.14622400321603768,-0.11491151030939004,-0.11928825310289538,0.008044661659204233,-0.07200299173826945,-0.26885296598323966,-0.1811960801615415,0.20733528403422766,0.29835235001256516,-0.06261906221660939,0.139814835558335,-0.07175171532968096,0.11557237362126997,-0.002099132263443648,-0.03952905034055529,0.036249888738616384,0.06649772283236025,0.059169458372322285,-0.37854538743384153,0.04985576394075038,-0.0013995313306943505,0.14806331973789064,-0.03988818088418961,0.3023010821438667,0.14085229950938122,0.038711225756355425,0.22059784934977594,0.16856264459684944,0.03956382816088092,0.013223558349450255,-0.24110270909279452,0.08689881778042371,0.07439727703923213,-0.432256819269879,-0.11334794507152393,-0.1058233176868623,0.259233034337401,-0.09716572027375098,0.033792798384102124,-0.1635598430411955,-0.018378115329081932,0.07293903051225063,0.1164920725654077,-0.22790416495796578,0.2796179540637422,0.027122895726847746,-0.01994845992876154,-0.1235982963167082,0.05807443640122978,-0.22403449514631318,-0.08564457091203634,-0.10888129346090201,-0.005961164695788023,-0.1116866664891601,0.1976857278426107,-0.11854147316988223,-0.2069717818243089,0.1912758201341103,0.21022398925339808,0.07951090047764305,0.2280231049818568,-0.0910764859531084,-0.5714271128586462,-0.41562260564423265,0.10263403585185954,0.12317887618099817,0.014917874692062849,0.058021145017408744,0.22902167713448213,-0.06587657741348191,0.01989529841165761,0.09376916341937175,0.20503240411333645,-0.006997431168340079,-0.23689024764100372,0.12699853135577688,0.12923241317207365,0.11154858299782344,0.14417674939798192,0.2274517048067178,0.2343559101337661,0.14705823054710224,0.045334600038298756,0.3054013252694914,-0.014068207913599693,-0.22152305293384705,0.08940554110017106,0.08977782988071943,0.10819161171820575,0.38643273824395513,-0.26560679272675863,0.04073356232838015,0.27025863573520637,-0.4095820450913576,-0.10176101619941133,-0.163417707514758,-0.11917342650762858,-0.027651800721253107,-0.18904692809046328,0.16616413317917517,0.0978595356414495,-0.19108218527959245,-0.02989910481891238,0.08631266129540492,0.14655764370554594,0.014465658862433386,-0.24388957356307323,0.0028609021692541812,-0.05886652746578759,0.21653425492649875,0.07719845460129325,0.30422546842091674,-0.1471152244753787,-0.10571597490826792,-0.017479423488230155,-0.07558953940532247,-0.009708706824065768,-0.15103286327951176,0.09687968133485106,-0.07110858317259164,-0.14440865865303384,-0.0945518294278682,-0.08061376807879471,-0.0086778707931598,-0.27528828945624095,0.03277066589658966,0.08342616406204627,0.2973616587540532,-0.0021040945985448005,0.00777073718694233,0.06514046153512094,0.053226595759558806,0.13462455486953984,0.06926381414157451,0.03174094306980323,-0.3063087776737088,-0.028696620565029606,0.03483109567927285,-0.042516119480936615,-0.11214620249788142,0.038450084333876866,-0.12220940721274612,-0.17056491250049766,0.025365806174587252,-0.2338892664597591,0.13065098319097582,-0.10477942588163816,-0.2374779068478286,0.09874556698958788,0.011482598222167874,0.082894924756001,0.06322437753463578,-0.2715635421833751,0.060753560750078296,-0.07632450427611803,0.14094018726540025,-0.1890181677228203,0.0026248601124274,0.03296452240506412,-0.11970348694825343,-0.010364464170543422,0.1247394515878808,0.03152437070326071,0.0964637935625713,-0.20036872801751848,0.06491590818008126,-0.12603602971235686,0.015496863333735175,0.02656900703395193,-0.25447863223434525,-0.002151022034240507,-0.006212757671998261,0.20146475780251533,-0.30000977620855457,0.2967317584428906,0.16233754979526538,0.14574214365488486,-0.05537065179038635,-0.0964434506418796,-0.19167110454884842,-0.11085167339438173,0.14793901479888663,0.005166883026354431,-0.2386092145425553,-0.2277388038298257,0.08160063328988246,0.044461149733512444,-0.5580707427847039,0.05728191461481257,-0.07844902234982025,0.24839921726041983,-0.3018125382784776,-0.06781798790104313,-0.02494913296111011,-0.024999773177941494,0.049562720227590056,-0.3608657903171231,0.07975610201736018,-0.38732540568376456,-0.3284067182359893,0.04851899156733031,0.13139728698194095,-0.22247931142404012,0.023238972638239763,0.112094512252216,0.3489971527954167,-0.17677637556326858,0.1066189407228646,0.19647870074388352,-0.18656584795984124,-0.2600258211129308,-0.12664804894486442,-0.0848725145530444,-0.14573914405563004,0.11294018742063357,-0.2860333337686367,-0.17834110581488744,-0.27765339000826156,0.06621101228886814,0.1168525139195427,0.1445261722541155,0.13487084322495227,0.05351187593261467,-0.11522172683525062,0.08500633798566323,0.478568762952313,0.3937314078734102,-0.007550980744863843,-0.18034637377362592,0.1834348421600131,-0.05941602459492385,-0.11289093750117299,-0.23083994685462011,0.0135487541286301,0.11514639234902097,0.43326941071136377,-0.0230310081010986,-0.0913412740416945,-0.15978634625464777,-0.13568102235978363,0.0416704874820707,0.011629041603521214,-0.028016015331226763,0.06939543766895749,0.08568798195129827,0.11943629914654302,0.19040018760808738,0.06235558264905822,0.11499031600403332,-0.017713248151481877,0.08398842128156742,0.021747069951607554,0.14269468129251545,-0.1482586419751564,0.20787912369261083,0.01127351697870068,0.09576280293339125,-0.008313833350440015,0.11860146398510427,0.11881785732073005,-0.21494389838390932,-0.2617982633645075,0.05886397792730631,0.2532916412713848,-0.17827371722037,0.11217517650858103,-0.3146425840207695,0.19027213503706975,-0.1889194887560496,-0.08022826680631355,-0.22836305482415667,0.07570894876493026,-0.04120499823319795,-0.00040681217246096683,0.07292767454141652,-0.26663028110833276,0.0918132498268185,-0.03381541693483475,0.12676493894195276,0.027148244255145185,0.10937718088510329,-0.11838252843679346,0.04750362218386083,0.16954293191945674,-0.06856461193961563,-0.007805495501153804,-0.24681207121124593,-0.34811549746646303,-0.06702390129925549,0.022866601866884675,-0.0005974619306131566,0.0043389609417156935,-0.08383052378456182,0.20812085959995835,0.07110312561481757,0.19943403145185518,0.21871282928665386,-0.15993554516720304,-0.05996080139759726,-0.0604328147407616,0.1592773359743055,-0.03688028195829374,-0.04519041139882598,-0.1933955124084856,0.051082796889588895,0.07124621308652423,0.02627426426038935,0.1671841409830056,0.11048799639401839,-0.040180300062771124,-0.06024275787916911,0.04863544265759387,0.05080215877974999,0.08611967375152123,0.05541757680973934,-0.018508201809317497,-0.17958609416033566,-0.0673933133557671,-0.15614745486269438,-0.10220441622730715,0.3562667059659348,-0.12362577363641918,-0.05082331677657764,-0.03139375031890816,-0.24700346530134076,-0.20161448354472825,-0.06486179448068953,0.15777929731810578,-0.43742168600616677,-0.02671502312608242,-0.11440995146129132,-0.32541254923121704,-0.10901940004264951,0.06520553152044146,0.16898234564998116,-0.21511125420963742,0.09573589591662827,0.27225482883218943,0.10599754325083598,0.18147910480861648,0.04940336162247203,-0.03945344776541861,0.05826591231893468,-0.0887522282867537,-0.27182511962449235,0.09938196209852164,-0.006587772232639969,-0.015286785598537106,0.19966234988038828,0.19917929754650032,0.10805490185907166,0.24332677360283925,-0.10366709845092867,-0.07465878133204132,0.12247778253652532,0.20359064719133135,0.18187437619917615,0.14438564358618425,0.028719950845949478,-0.3216291912845919,0.0945118700110761,0.37288237812579983,0.1449470321797804,-0.014575100425189357,-0.052385610237277766,0.13573690824934043,-0.017910445467211274,0.19768922869145894,0.20710802648994683,0.08328025683925426,-0.027075453522176975,0.3052214374329777,0.07843021213102552,0.12599045557964883,-0.004431324000218272],\"type\":\"scatter3d\"},{\"customdata\":[[\"MSFT\",-0.8401279191597277]],\"hovertemplate\":\"\\\"Ticker: %{customdata[0]}\\\"\\u003cbr\\u003e\\\"return: %{customdata[1]}\\\"\",\"legendgroup\":\"\",\"marker\":{\"color\":\"red\",\"size\":[7],\"sizemode\":\"area\",\"sizeref\":0.0175,\"symbol\":\"diamond\"},\"mode\":\"markers\",\"name\":\"\",\"scene\":\"scene\",\"showlegend\":false,\"x\":[-0.25957985898287483],\"y\":[0.13860095511291212],\"z\":[-0.12664804894486442],\"type\":\"scatter3d\"}],                        {\"template\":{\"data\":{\"histogram2dcontour\":[{\"type\":\"histogram2dcontour\",\"colorbar\":{\"outlinewidth\":0,\"ticks\":\"\"},\"colorscale\":[[0.0,\"#0d0887\"],[0.1111111111111111,\"#46039f\"],[0.2222222222222222,\"#7201a8\"],[0.3333333333333333,\"#9c179e\"],[0.4444444444444444,\"#bd3786\"],[0.5555555555555556,\"#d8576b\"],[0.6666666666666666,\"#ed7953\"],[0.7777777777777778,\"#fb9f3a\"],[0.8888888888888888,\"#fdca26\"],[1.0,\"#f0f921\"]]}],\"choropleth\":[{\"type\":\"choropleth\",\"colorbar\":{\"outlinewidth\":0,\"ticks\":\"\"}}],\"histogram2d\":[{\"type\":\"histogram2d\",\"colorbar\":{\"outlinewidth\":0,\"ticks\":\"\"},\"colorscale\":[[0.0,\"#0d0887\"],[0.1111111111111111,\"#46039f\"],[0.2222222222222222,\"#7201a8\"],[0.3333333333333333,\"#9c179e\"],[0.4444444444444444,\"#bd3786\"],[0.5555555555555556,\"#d8576b\"],[0.6666666666666666,\"#ed7953\"],[0.7777777777777778,\"#fb9f3a\"],[0.8888888888888888,\"#fdca26\"],[1.0,\"#f0f921\"]]}],\"heatmap\":[{\"type\":\"heatmap\",\"colorbar\":{\"outlinewidth\":0,\"ticks\":\"\"},\"colorscale\":[[0.0,\"#0d0887\"],[0.1111111111111111,\"#46039f\"],[0.2222222222222222,\"#7201a8\"],[0.3333333333333333,\"#9c179e\"],[0.4444444444444444,\"#bd3786\"],[0.5555555555555556,\"#d8576b\"],[0.6666666666666666,\"#ed7953\"],[0.7777777777777778,\"#fb9f3a\"],[0.8888888888888888,\"#fdca26\"],[1.0,\"#f0f921\"]]}],\"heatmapgl\":[{\"type\":\"heatmapgl\",\"colorbar\":{\"outlinewidth\":0,\"ticks\":\"\"},\"colorscale\":[[0.0,\"#0d0887\"],[0.1111111111111111,\"#46039f\"],[0.2222222222222222,\"#7201a8\"],[0.3333333333333333,\"#9c179e\"],[0.4444444444444444,\"#bd3786\"],[0.5555555555555556,\"#d8576b\"],[0.6666666666666666,\"#ed7953\"],[0.7777777777777778,\"#fb9f3a\"],[0.8888888888888888,\"#fdca26\"],[1.0,\"#f0f921\"]]}],\"contourcarpet\":[{\"type\":\"contourcarpet\",\"colorbar\":{\"outlinewidth\":0,\"ticks\":\"\"}}],\"contour\":[{\"type\":\"contour\",\"colorbar\":{\"outlinewidth\":0,\"ticks\":\"\"},\"colorscale\":[[0.0,\"#0d0887\"],[0.1111111111111111,\"#46039f\"],[0.2222222222222222,\"#7201a8\"],[0.3333333333333333,\"#9c179e\"],[0.4444444444444444,\"#bd3786\"],[0.5555555555555556,\"#d8576b\"],[0.6666666666666666,\"#ed7953\"],[0.7777777777777778,\"#fb9f3a\"],[0.8888888888888888,\"#fdca26\"],[1.0,\"#f0f921\"]]}],\"surface\":[{\"type\":\"surface\",\"colorbar\":{\"outlinewidth\":0,\"ticks\":\"\"},\"colorscale\":[[0.0,\"#0d0887\"],[0.1111111111111111,\"#46039f\"],[0.2222222222222222,\"#7201a8\"],[0.3333333333333333,\"#9c179e\"],[0.4444444444444444,\"#bd3786\"],[0.5555555555555556,\"#d8576b\"],[0.6666666666666666,\"#ed7953\"],[0.7777777777777778,\"#fb9f3a\"],[0.8888888888888888,\"#fdca26\"],[1.0,\"#f0f921\"]]}],\"mesh3d\":[{\"type\":\"mesh3d\",\"colorbar\":{\"outlinewidth\":0,\"ticks\":\"\"}}],\"scatter\":[{\"fillpattern\":{\"fillmode\":\"overlay\",\"size\":10,\"solidity\":0.2},\"type\":\"scatter\"}],\"parcoords\":[{\"type\":\"parcoords\",\"line\":{\"colorbar\":{\"outlinewidth\":0,\"ticks\":\"\"}}}],\"scatterpolargl\":[{\"type\":\"scatterpolargl\",\"marker\":{\"colorbar\":{\"outlinewidth\":0,\"ticks\":\"\"}}}],\"bar\":[{\"error_x\":{\"color\":\"#2a3f5f\"},\"error_y\":{\"color\":\"#2a3f5f\"},\"marker\":{\"line\":{\"color\":\"#E5ECF6\",\"width\":0.5},\"pattern\":{\"fillmode\":\"overlay\",\"size\":10,\"solidity\":0.2}},\"type\":\"bar\"}],\"scattergeo\":[{\"type\":\"scattergeo\",\"marker\":{\"colorbar\":{\"outlinewidth\":0,\"ticks\":\"\"}}}],\"scatterpolar\":[{\"type\":\"scatterpolar\",\"marker\":{\"colorbar\":{\"outlinewidth\":0,\"ticks\":\"\"}}}],\"histogram\":[{\"marker\":{\"pattern\":{\"fillmode\":\"overlay\",\"size\":10,\"solidity\":0.2}},\"type\":\"histogram\"}],\"scattergl\":[{\"type\":\"scattergl\",\"marker\":{\"colorbar\":{\"outlinewidth\":0,\"ticks\":\"\"}}}],\"scatter3d\":[{\"type\":\"scatter3d\",\"line\":{\"colorbar\":{\"outlinewidth\":0,\"ticks\":\"\"}},\"marker\":{\"colorbar\":{\"outlinewidth\":0,\"ticks\":\"\"}}}],\"scattermapbox\":[{\"type\":\"scattermapbox\",\"marker\":{\"colorbar\":{\"outlinewidth\":0,\"ticks\":\"\"}}}],\"scatterternary\":[{\"type\":\"scatterternary\",\"marker\":{\"colorbar\":{\"outlinewidth\":0,\"ticks\":\"\"}}}],\"scattercarpet\":[{\"type\":\"scattercarpet\",\"marker\":{\"colorbar\":{\"outlinewidth\":0,\"ticks\":\"\"}}}],\"carpet\":[{\"aaxis\":{\"endlinecolor\":\"#2a3f5f\",\"gridcolor\":\"white\",\"linecolor\":\"white\",\"minorgridcolor\":\"white\",\"startlinecolor\":\"#2a3f5f\"},\"baxis\":{\"endlinecolor\":\"#2a3f5f\",\"gridcolor\":\"white\",\"linecolor\":\"white\",\"minorgridcolor\":\"white\",\"startlinecolor\":\"#2a3f5f\"},\"type\":\"carpet\"}],\"table\":[{\"cells\":{\"fill\":{\"color\":\"#EBF0F8\"},\"line\":{\"color\":\"white\"}},\"header\":{\"fill\":{\"color\":\"#C8D4E3\"},\"line\":{\"color\":\"white\"}},\"type\":\"table\"}],\"barpolar\":[{\"marker\":{\"line\":{\"color\":\"#E5ECF6\",\"width\":0.5},\"pattern\":{\"fillmode\":\"overlay\",\"size\":10,\"solidity\":0.2}},\"type\":\"barpolar\"}],\"pie\":[{\"automargin\":true,\"type\":\"pie\"}]},\"layout\":{\"autotypenumbers\":\"strict\",\"colorway\":[\"#636efa\",\"#EF553B\",\"#00cc96\",\"#ab63fa\",\"#FFA15A\",\"#19d3f3\",\"#FF6692\",\"#B6E880\",\"#FF97FF\",\"#FECB52\"],\"font\":{\"color\":\"#2a3f5f\"},\"hovermode\":\"closest\",\"hoverlabel\":{\"align\":\"left\"},\"paper_bgcolor\":\"white\",\"plot_bgcolor\":\"#E5ECF6\",\"polar\":{\"bgcolor\":\"#E5ECF6\",\"angularaxis\":{\"gridcolor\":\"white\",\"linecolor\":\"white\",\"ticks\":\"\"},\"radialaxis\":{\"gridcolor\":\"white\",\"linecolor\":\"white\",\"ticks\":\"\"}},\"ternary\":{\"bgcolor\":\"#E5ECF6\",\"aaxis\":{\"gridcolor\":\"white\",\"linecolor\":\"white\",\"ticks\":\"\"},\"baxis\":{\"gridcolor\":\"white\",\"linecolor\":\"white\",\"ticks\":\"\"},\"caxis\":{\"gridcolor\":\"white\",\"linecolor\":\"white\",\"ticks\":\"\"}},\"coloraxis\":{\"colorbar\":{\"outlinewidth\":0,\"ticks\":\"\"}},\"colorscale\":{\"sequential\":[[0.0,\"#0d0887\"],[0.1111111111111111,\"#46039f\"],[0.2222222222222222,\"#7201a8\"],[0.3333333333333333,\"#9c179e\"],[0.4444444444444444,\"#bd3786\"],[0.5555555555555556,\"#d8576b\"],[0.6666666666666666,\"#ed7953\"],[0.7777777777777778,\"#fb9f3a\"],[0.8888888888888888,\"#fdca26\"],[1.0,\"#f0f921\"]],\"sequentialminus\":[[0.0,\"#0d0887\"],[0.1111111111111111,\"#46039f\"],[0.2222222222222222,\"#7201a8\"],[0.3333333333333333,\"#9c179e\"],[0.4444444444444444,\"#bd3786\"],[0.5555555555555556,\"#d8576b\"],[0.6666666666666666,\"#ed7953\"],[0.7777777777777778,\"#fb9f3a\"],[0.8888888888888888,\"#fdca26\"],[1.0,\"#f0f921\"]],\"diverging\":[[0,\"#8e0152\"],[0.1,\"#c51b7d\"],[0.2,\"#de77ae\"],[0.3,\"#f1b6da\"],[0.4,\"#fde0ef\"],[0.5,\"#f7f7f7\"],[0.6,\"#e6f5d0\"],[0.7,\"#b8e186\"],[0.8,\"#7fbc41\"],[0.9,\"#4d9221\"],[1,\"#276419\"]]},\"xaxis\":{\"gridcolor\":\"white\",\"linecolor\":\"white\",\"ticks\":\"\",\"title\":{\"standoff\":15},\"zerolinecolor\":\"white\",\"automargin\":true,\"zerolinewidth\":2},\"yaxis\":{\"gridcolor\":\"white\",\"linecolor\":\"white\",\"ticks\":\"\",\"title\":{\"standoff\":15},\"zerolinecolor\":\"white\",\"automargin\":true,\"zerolinewidth\":2},\"scene\":{\"xaxis\":{\"backgroundcolor\":\"#E5ECF6\",\"gridcolor\":\"white\",\"linecolor\":\"white\",\"showbackground\":true,\"ticks\":\"\",\"zerolinecolor\":\"white\",\"gridwidth\":2},\"yaxis\":{\"backgroundcolor\":\"#E5ECF6\",\"gridcolor\":\"white\",\"linecolor\":\"white\",\"showbackground\":true,\"ticks\":\"\",\"zerolinecolor\":\"white\",\"gridwidth\":2},\"zaxis\":{\"backgroundcolor\":\"#E5ECF6\",\"gridcolor\":\"white\",\"linecolor\":\"white\",\"showbackground\":true,\"ticks\":\"\",\"zerolinecolor\":\"white\",\"gridwidth\":2}},\"shapedefaults\":{\"line\":{\"color\":\"#2a3f5f\"}},\"annotationdefaults\":{\"arrowcolor\":\"#2a3f5f\",\"arrowhead\":0,\"arrowwidth\":1},\"geo\":{\"bgcolor\":\"white\",\"landcolor\":\"#E5ECF6\",\"subunitcolor\":\"white\",\"showland\":true,\"showlakes\":true,\"lakecolor\":\"white\"},\"title\":{\"x\":0.05},\"mapbox\":{\"style\":\"light\"}}}},                        {\"responsive\": true}                    ).then(function(){\n",
       "                            \n",
       "var gd = document.getElementById('baab632d-8004-42c6-93d9-e77d273ef633');\n",
       "var x = new MutationObserver(function (mutations, observer) {{\n",
       "        var display = window.getComputedStyle(gd).display;\n",
       "        if (!display || display === 'none') {{\n",
       "            console.log([gd, 'removed!']);\n",
       "            Plotly.purge(gd);\n",
       "            observer.disconnect();\n",
       "        }}\n",
       "}});\n",
       "\n",
       "// Listen for the removal of the full notebook cells\n",
       "var notebookContainer = gd.closest('#notebook-container');\n",
       "if (notebookContainer) {{\n",
       "    x.observe(notebookContainer, {childList: true});\n",
       "}}\n",
       "\n",
       "// Listen for the clearing of the current output cell\n",
       "var outputEl = gd.closest('.output');\n",
       "if (outputEl) {{\n",
       "    x.observe(outputEl, {childList: true});\n",
       "}}\n",
       "\n",
       "                        })                };                });            </script>        </div>"
      ]
     },
     "metadata": {},
     "output_type": "display_data"
    }
   ],
   "source": [
    "plot_3D(result, embedding_values,'MSFT','return')"
   ]
  },
  {
   "cell_type": "code",
   "execution_count": 73,
   "id": "d7b8a9e4",
   "metadata": {},
   "outputs": [
    {
     "name": "stdout",
     "output_type": "stream",
     "text": [
      "(479, 38)\n",
      "(445, 38)\n",
      "Index(['PC1', 'PC2', 'PC3', 'STOCK2VEC_0', 'STOCK2VEC_1', 'STOCK2VEC_2',\n",
      "       'STOCK2VEC_3', 'STOCK2VEC_4', 'STOCK2VEC_5', 'STOCK2VEC_6',\n",
      "       'STOCK2VEC_7', 'STOCK2VEC_8', 'STOCK2VEC_9', 'STOCK2VEC_10',\n",
      "       'STOCK2VEC_11', 'STOCK2VEC_12', 'STOCK2VEC_13', 'STOCK2VEC_14',\n",
      "       'STOCK2VEC_15', 'STOCK2VEC_16', 'STOCK2VEC_17', 'STOCK2VEC_18',\n",
      "       'STOCK2VEC_19', 'STOCK2VEC_20', 'STOCK2VEC_21', 'STOCK2VEC_22',\n",
      "       'STOCK2VEC_23', 'STOCK2VEC_24', 'STOCK2VEC_25', 'STOCK2VEC_26',\n",
      "       'STOCK2VEC_27', 'STOCK2VEC_28', 'STOCK2VEC_29', 'STOCK2VEC_30',\n",
      "       'STOCK2VEC_31', 'Ticker', 'GICS Sector', 'return'],\n",
      "      dtype='object')\n"
     ]
    },
    {
     "data": {
      "application/vnd.plotly.v1+json": {
       "config": {
        "plotlyServerURL": "https://plot.ly"
       },
       "data": [
        {
         "customdata": [
          [
           "A",
           -0.7366818589894408
          ],
          [
           "ABT",
           -0.5197285139178387
          ],
          [
           "ALGN",
           1.1725787871388338
          ],
          [
           "AMGN",
           -0.5549760510901169
          ],
          [
           "BAX",
           0.6781450714205661
          ],
          [
           "BDX",
           -0.4957735422907117
          ],
          [
           "BIIB",
           -0.09804361502856462
          ],
          [
           "BIO",
           0.2400012098981108
          ],
          [
           "BMY",
           -0.9400387289818735
          ],
          [
           "BSX",
           0.14872323216994499
          ],
          [
           "CAH",
           0.2578909714930244
          ],
          [
           "CI",
           -0.19957189952959364
          ],
          [
           "CNC",
           -1.0532627779025971
          ],
          [
           "COO",
           -1.104952495497935
          ],
          [
           "COR",
           1.0123789517916704
          ],
          [
           "CRL",
           0.7233674901025555
          ],
          [
           "CVS",
           0.5368113937674446
          ],
          [
           "DGX",
           1.128680076226285
          ],
          [
           "DHR",
           -0.6262912944881904
          ],
          [
           "DVA",
           -1.7427100470290502
          ],
          [
           "DXCM",
           2.333125263463076
          ],
          [
           "ELV",
           -0.2625906729503358
          ],
          [
           "EW",
           -2.3261257570707183
          ],
          [
           "GILD",
           0.9401150198226071
          ],
          [
           "HOLX",
           -0.72936692240132
          ],
          [
           "HSIC",
           -0.584209900513033
          ],
          [
           "HUM",
           -0.9898802779566895
          ],
          [
           "IDXX",
           -0.20033067786144887
          ],
          [
           "ILMN",
           2.2359877410391027
          ],
          [
           "INCY",
           -1.6073321763039772
          ],
          [
           "ISRG",
           0.1906160016874825
          ],
          [
           "JNJ",
           -0.5828812482894241
          ],
          [
           "LH",
           -0.209040693399265
          ],
          [
           "LLY",
           -1.2333971990038273
          ],
          [
           "MCK",
           0.19036820739382065
          ],
          [
           "MDT",
           -1.563790714074631
          ],
          [
           "MOH",
           -1.6090572518846935
          ],
          [
           "MRK",
           0.058026030111224536
          ],
          [
           "MTD",
           -1.1267476375422247
          ],
          [
           "PFE",
           0.14732870111116014
          ],
          [
           "PODD",
           1.4472731449671539
          ],
          [
           "REGN",
           -0.4295222736646176
          ],
          [
           "RMD",
           -2.5321818156375797
          ],
          [
           "RVTY",
           -1.2619041200460313
          ],
          [
           "STE",
           0.02791343058978768
          ],
          [
           "SYK",
           0.03214765460906044
          ],
          [
           "TECH",
           0.8356886043066503
          ],
          [
           "TFX",
           0.05564591481967973
          ],
          [
           "TMO",
           -0.872350300374447
          ],
          [
           "UHS",
           -0.8594182632120306
          ],
          [
           "UNH",
           -0.19945490519168718
          ],
          [
           "VRTX",
           3.284155425992452
          ],
          [
           "VTRS",
           0.1299231091868025
          ],
          [
           "WAT",
           -0.31361790233679354
          ],
          [
           "WST",
           -0.08179641529739712
          ],
          [
           "XRAY",
           0.430958346475796
          ],
          [
           "ZBH",
           -0.4460340252448569
          ]
         ],
         "hovertemplate": "\"Ticker: %{customdata[0]}\"<br>\"return: %{customdata[1]}\"",
         "legendgroup": "Health Care",
         "marker": {
          "color": "#636efa",
          "size": 5,
          "symbol": "circle"
         },
         "mode": "markers",
         "name": "Health Care",
         "scene": "scene",
         "showlegend": true,
         "type": "scatter3d",
         "x": [
          0.2616633560851237,
          0.07780555099125952,
          0.1817808869103543,
          0.1197149019747245,
          -0.13535289239913573,
          -0.13925682935280934,
          0.3302399283086065,
          -0.15076958150133604,
          -0.10135553311693858,
          -0.09699450273440291,
          -0.15945822513537602,
          -0.0018852028724956683,
          0.3232528123474883,
          -0.12380743392168274,
          -0.15913538132864882,
          0.08250326185446055,
          -0.232829102259974,
          -0.21169444393197473,
          -0.20098650864208376,
          -0.19190339588048186,
          0.46203756015745717,
          0.021980511121992556,
          0.0521810097195405,
          0.10047551820671777,
          -0.11343428929950311,
          -0.15151247611658794,
          0.2545926889408527,
          -0.154592731057196,
          0.47204684236435707,
          0.7006678186708667,
          -0.13260375186241877,
          -0.19538578226377684,
          -0.23413063690667205,
          -0.06383332129580296,
          -0.06167538182195902,
          -0.1679429943337,
          0.44371381064483045,
          -0.1956508007804984,
          -0.10969520685261981,
          -0.1872667438986314,
          0.2854515395001466,
          0.527040325694922,
          -0.2558617340509603,
          -0.13215089642518496,
          -0.22559482770524636,
          -0.1885755322948393,
          -0.19254261856790073,
          -0.16976826345607224,
          -0.11551065982367113,
          -0.029403281949142095,
          0.02413824804083906,
          0.6354252629881584,
          0.007295305960988752,
          -0.16726539785681577,
          -0.20473720966472225,
          -0.20095732147644021,
          -0.18048199409736534
         ],
         "y": [
          -0.1933816941884787,
          0.382682876361477,
          -0.10019548891717996,
          0.21317646974879814,
          -0.028932099766499356,
          0.049429041449682395,
          0.22629430550383198,
          0.049545195849106154,
          0.26957667772028426,
          0.0377937341045683,
          -0.05585695452919053,
          -0.14878523114925413,
          -0.018899164858212605,
          -0.03663135078751589,
          0.13505141370513785,
          -0.13068502660408088,
          0.16042082981084982,
          0.16406932170272193,
          -0.10509791390233823,
          0.026503076070458355,
          0.10506991655331911,
          0.0907006597632623,
          0.12440903891484102,
          0.21411010820951526,
          -0.1831070680982566,
          0.025313127141377026,
          0.2297266872085022,
          0.08943604576979979,
          0.14180057077404112,
          0.09594004318945491,
          0.02177989678994583,
          0.19558567849543143,
          0.1531621865582127,
          0.149488539346813,
          -0.0008770155053206714,
          0.05014189448888684,
          -0.024259758719812567,
          0.20647268751298717,
          -0.20826064355364773,
          0.14811512113547048,
          0.2156227760184566,
          0.1436374765284884,
          -0.014934757518584163,
          -0.18807283255786159,
          -0.09382001013837002,
          -0.05398351245476218,
          0.00933745899785877,
          -0.026247344486655458,
          -0.15396001653294622,
          -0.18578643547373233,
          0.008934481165275763,
          0.07234121229364199,
          0.017919592012458654,
          -0.15690382323000152,
          -0.010797044727409848,
          -0.1320058457626645,
          -0.07676723935463002
         ],
         "z": [
          -0.04250357082487922,
          -0.12940872197518488,
          -0.15362128140951092,
          0.04750190623956411,
          0.14393807800867722,
          0.11857415565328927,
          0.10840194353898548,
          -0.1192606009399131,
          -0.0020144492170260995,
          -0.26675907140094396,
          0.23384061019873378,
          0.11557237362126997,
          -0.03988818088418961,
          0.038711225756355425,
          0.16856264459684944,
          0.07439727703923213,
          -0.018378115329081932,
          0.05807443640122978,
          -0.08564457091203634,
          0.07951090047764305,
          -0.0910764859531084,
          0.01989529841165761,
          0.045334600038298756,
          -0.24388957356307323,
          0.03277066589658966,
          0.00777073718694233,
          0.06926381414157451,
          -0.028696620565029606,
          -0.11214620249788142,
          0.038450084333876866,
          -0.10477942588163816,
          0.14094018726540025,
          -0.002151022034240507,
          0.2967317584428906,
          0.24839921726041983,
          -0.02494913296111011,
          0.112094512252216,
          0.1066189407228646,
          -0.2860333337686367,
          0.11499031600403332,
          -0.21494389838390932,
          -0.04120499823319795,
          -0.03381541693483475,
          -0.06856461193961563,
          -0.15993554516720304,
          0.051082796889588895,
          -0.06024275787916911,
          0.05541757680973934,
          -0.0673933133557671,
          0.16898234564998116,
          0.09573589591662827,
          -0.015286785598537106,
          0.19917929754650032,
          -0.10366709845092867,
          -0.052385610237277766,
          -0.027075453522176975,
          0.07843021213102552
         ]
        },
        {
         "customdata": [
          [
           "AAL",
           4.000051632380774
          ],
          [
           "ADP",
           1.0800827222374743
          ],
          [
           "AME",
           0.06878405167134449
          ],
          [
           "AOS",
           1.7684655332356858
          ],
          [
           "AXON",
           1.7863539589176858
          ],
          [
           "BA",
           0.28696418727696127
          ],
          [
           "BLDR",
           -0.5197285139178387
          ],
          [
           "BR",
           -0.3838399983808083
          ],
          [
           "CAT",
           0.3446162697971822
          ],
          [
           "CHRW",
           -1.2283142570748473
          ],
          [
           "CMI",
           0.7257672796354253
          ],
          [
           "CPRT",
           -0.4129169926563314
          ],
          [
           "CSX",
           0.21407912124775663
          ],
          [
           "CTAS",
           0.6729291850832597
          ],
          [
           "DAL",
           3.071620072875225
          ],
          [
           "DE",
           0.9497852408381302
          ],
          [
           "DOV",
           -1.5062797761784208
          ],
          [
           "EFX",
           0.48503625771296743
          ],
          [
           "EMR",
           0.7192270236543674
          ],
          [
           "ETN",
           0.18750157802387424
          ],
          [
           "EXPD",
           -0.9034950829863053
          ],
          [
           "FAST",
           -0.08506836580703947
          ],
          [
           "FDX",
           0.2856904925913506
          ],
          [
           "GD",
           -0.06447450029227753
          ],
          [
           "GE",
           -0.3585529516086483
          ],
          [
           "GNRC",
           0.6052770039633559
          ],
          [
           "GWW",
           -0.9147686594435323
          ],
          [
           "HON",
           1.144471481793441
          ],
          [
           "HUBB",
           -0.403759334768794
          ],
          [
           "IEX",
           -0.7524751875633617
          ],
          [
           "ITW",
           -0.02027331138012567
          ],
          [
           "J",
           -1.7143527707125905
          ],
          [
           "JBHT",
           -0.3985236545178905
          ],
          [
           "JCI",
           -0.42613692788895374
          ],
          [
           "LDOS",
           0.1068626678515594
          ],
          [
           "LHX",
           0.3825488779183983
          ],
          [
           "LMT",
           1.7701249376427475
          ],
          [
           "LUV",
           -0.5947897464123386
          ],
          [
           "MAS",
           2.3373463457168953
          ],
          [
           "MMM",
           -0.5197285139178387
          ],
          [
           "NDSN",
           -0.11245595366269345
          ],
          [
           "NOC",
           0.00044748386265336393
          ],
          [
           "NSC",
           0.0008414202658846293
          ],
          [
           "ODFL",
           -0.6736323997330484
          ],
          [
           "PAYX",
           2.049399568162502
          ],
          [
           "PCAR",
           0.3554744761187445
          ],
          [
           "PH",
           -0.3710526969441741
          ],
          [
           "PNR",
           -0.46484722448969507
          ],
          [
           "PWR",
           -0.7592123681038565
          ],
          [
           "RHI",
           3.2241192676449426
          ],
          [
           "ROK",
           -0.24819136716676127
          ],
          [
           "ROL",
           1.2936755871897354
          ],
          [
           "RSG",
           -1.5561467854524613
          ],
          [
           "RTX",
           -0.3806740632545935
          ],
          [
           "SNA",
           -1.54851442925672
          ],
          [
           "SWK",
           -1.3308094891579247
          ],
          [
           "TDG",
           1.2285285656079559
          ],
          [
           "TT",
           0.0760869829335542
          ],
          [
           "TXT",
           1.7539802203994093
          ],
          [
           "UAL",
           -1.2247825692823455
          ],
          [
           "UNP",
           -0.6486798888925449
          ],
          [
           "UPS",
           -0.36863747808730807
          ],
          [
           "URI",
           2.8149991543440223
          ],
          [
           "VRSK",
           -0.3738374902692687
          ],
          [
           "WAB",
           0.8019217946413804
          ],
          [
           "WM",
           -0.5743710832114557
          ]
         ],
         "hovertemplate": "\"Ticker: %{customdata[0]}\"<br>\"return: %{customdata[1]}\"",
         "legendgroup": "Industrials",
         "marker": {
          "color": "#EF553B",
          "size": 5,
          "symbol": "circle"
         },
         "mode": "markers",
         "name": "Industrials",
         "scene": "scene",
         "showlegend": true,
         "type": "scatter3d",
         "x": [
          0.5673378475518964,
          -0.00980925355210814,
          -0.10366009539018319,
          -0.11757141162336711,
          0.5806998283756799,
          -0.1930988200137746,
          0.712789000344446,
          -0.28081391541361306,
          -0.13787990838230388,
          -0.1838393871828378,
          0.13747288413666395,
          -0.21494738070061087,
          -0.08900113863171798,
          -0.1256874973816458,
          0.4528515122086559,
          -0.19669626048038247,
          -0.10256904370815607,
          -0.18369531836118114,
          -0.11124048017561154,
          0.03164234174148199,
          -0.12375569742218837,
          -0.3091570377591567,
          -0.13629853900251093,
          -0.2290676326378802,
          -0.13826282721015679,
          0.3246178971314474,
          -0.21704717591394918,
          -0.07693616528032364,
          -0.17035403710664584,
          -0.10731169716353547,
          -0.09317157061394797,
          -0.025107743356887098,
          -0.23379782707819355,
          -0.13442964265748,
          -0.21881457931161086,
          -0.2065794271829005,
          -0.20611442941450844,
          0.1407672814675222,
          0.26278314120088436,
          -0.16070219585478,
          -0.08367291212757953,
          -0.2137356346019282,
          0.006926914742439311,
          -0.11078670666407543,
          -0.23195063085848172,
          -0.08115078296661214,
          -0.020375256937870238,
          -0.09529853364405917,
          -0.056912048953204106,
          -0.08062360699394855,
          0.02477974111427406,
          -0.25065011060574843,
          -0.24986945927629228,
          -0.15948236808519275,
          -0.11422173176270202,
          -0.12358023359124586,
          -0.21486020928909053,
          -0.023595431417240888,
          0.013879258629897027,
          0.5406139530257351,
          -0.050085087534817815,
          -0.2074097288107644,
          0.7426951799250251,
          -0.25159822480055416,
          -0.05627038682079844,
          -0.24959992779668835
         ],
         "y": [
          0.31286319683429853,
          0.22477807371322528,
          -0.2913708153146767,
          -0.3470514176512619,
          0.13457203875016982,
          -0.07202361818334305,
          0.025724154522395785,
          0.09318423072890725,
          -0.2848925916050896,
          -0.0014480999080983632,
          -0.4729138653107382,
          0.06937493063291816,
          -0.2581140244594688,
          -0.000565174815090441,
          0.18353082633073137,
          -0.1523961496017097,
          -0.3313593255138539,
          -0.08829534359161974,
          -0.2999951931413786,
          -0.422993498781764,
          -0.1731347899282009,
          -0.1515270387216036,
          -0.2441706781926822,
          -0.018027237413779786,
          -0.17221864945380574,
          -0.12100668381377014,
          -0.13214454589803468,
          -0.2517514683857274,
          -0.3079612451212556,
          -0.3736711051868387,
          -0.26085920526871154,
          -0.4351597977095624,
          -0.11685626303070192,
          -0.19526801710838862,
          -0.07955057635807113,
          -0.23737313229742982,
          0.06568420874493876,
          0.13046061481113924,
          -0.0038615904249359855,
          -0.1425661701748934,
          -0.41096128700710155,
          0.011876717920207613,
          -0.20380386770613387,
          -0.3863540017324218,
          0.08363575341436001,
          -0.3769788198320193,
          -0.46114620094161635,
          -0.3417028951462722,
          -0.35769691758582817,
          -0.4026101380817371,
          -0.44445373949415673,
          -0.11426955017092875,
          0.1494919664677839,
          -0.19874941867197032,
          -0.2990724491502217,
          -0.2975300344560432,
          -0.14132930265748944,
          -0.48175831284231774,
          -0.41325513642955897,
          0.136799181939867,
          -0.18846062560654792,
          0.02624945504903001,
          -0.16776254123258055,
          0.1295157947264998,
          -0.42004906085177807,
          0.14750455848857347
         ],
         "z": [
          -0.07223236797234206,
          -0.15159267844201163,
          0.059255971416542486,
          -0.07541530582760518,
          -0.07268710314803574,
          0.08859569395854412,
          -0.03758027567811918,
          -0.09693156703727501,
          0.14622400321603768,
          0.139814835558335,
          -0.0013995313306943505,
          -0.24110270909279452,
          0.259233034337401,
          -0.09716572027375098,
          -0.22790416495796578,
          0.027122895726847746,
          0.1976857278426107,
          0.014917874692062849,
          0.20503240411333645,
          0.2274517048067178,
          -0.014068207913599693,
          0.10819161171820575,
          0.04073356232838015,
          0.08631266129540492,
          0.14655764370554594,
          0.30422546842091674,
          0.09687968133485106,
          0.08342616406204627,
          0.13462455486953984,
          0.03483109567927285,
          0.09874556698958788,
          0.082894924756001,
          0.06322437753463578,
          0.060753560750078296,
          0.02656900703395193,
          -0.006212757671998261,
          0.16233754979526538,
          -0.11085167339438173,
          -0.5580707427847039,
          0.13139728698194095,
          0.06621101228886814,
          0.08500633798566323,
          0.3937314078734102,
          0.11514639234902097,
          -0.028016015331226763,
          0.06939543766895749,
          0.14269468129251545,
          0.11860146398510427,
          0.19027213503706975,
          0.07292767454141652,
          0.12676493894195276,
          0.027148244255145185,
          0.04750362218386083,
          0.16954293191945674,
          0.0043389609417156935,
          -0.04519041139882598,
          0.11048799639401839,
          0.15777929731810578,
          -0.11440995146129132,
          -0.10901940004264951,
          0.27225482883218943,
          0.10599754325083598,
          0.18147910480861648,
          0.09938196209852164,
          0.24332677360283925,
          0.0945118700110761
         ]
        },
        {
         "customdata": [
          [
           "AAPL",
           0.29828598982328813
          ],
          [
           "ACN",
           -0.4990103097512133
          ],
          [
           "ADBE",
           1.733527552930747
          ],
          [
           "ADI",
           -0.3065038262078712
          ],
          [
           "ADSK",
           6.513759638243921
          ],
          [
           "AKAM",
           3.1077621662117583
          ],
          [
           "AMAT",
           -2.022944770526358
          ],
          [
           "AMD",
           1.076615640483003
          ],
          [
           "ANSS",
           1.1233754368738857
          ],
          [
           "APH",
           -1.3219961129611102
          ],
          [
           "AVGO",
           -0.5554251365740726
          ],
          [
           "CDNS",
           -0.5197285139178387
          ],
          [
           "CRM",
           4.277967992607823
          ],
          [
           "CSCO",
           0.6985736030097112
          ],
          [
           "CTSH",
           2.2175925099932936
          ],
          [
           "FFIV",
           3.432710096234959
          ],
          [
           "FICO",
           -0.47634410168884145
          ],
          [
           "FSLR",
           -0.1536432453063563
          ],
          [
           "FTNT",
           3.8554535640408893
          ],
          [
           "GEN",
           2.16093330847813
          ],
          [
           "GLW",
           -0.9916846219373165
          ],
          [
           "HPQ",
           0.7866838731585224
          ],
          [
           "IBM",
           -0.9193481321012831
          ],
          [
           "INTC",
           -1.5126082348351
          ],
          [
           "INTU",
           -1.6355812015904525
          ],
          [
           "IT",
           0.8899931973960884
          ],
          [
           "JBL",
           1.691810624863166
          ],
          [
           "JNPR",
           1.4178320765032337
          ],
          [
           "KLAC",
           -2.027038094565714
          ],
          [
           "LRCX",
           -4.871102628542278
          ],
          [
           "MCHP",
           -0.2317336624425348
          ],
          [
           "MPWR",
           0.11437912553564633
          ],
          [
           "MSFT",
           -0.8401279191597277
          ],
          [
           "MSI",
           -0.3688315919867291
          ],
          [
           "MU",
           0.6651056365418295
          ],
          [
           "NTAP",
           0.3342314054253226
          ],
          [
           "NVDA",
           7.153071103677222
          ],
          [
           "NXPI",
           5.7046849101825
          ],
          [
           "ON",
           0.06678587808166547
          ],
          [
           "ORCL",
           -1.9174420811216675
          ],
          [
           "PTC",
           1.5571660425696354
          ],
          [
           "QCOM",
           1.5599316956423692
          ],
          [
           "ROP",
           0.03414504061176604
          ],
          [
           "SNPS",
           -0.7432734677229047
          ],
          [
           "STX",
           -1.0610637893917474
          ],
          [
           "SWKS",
           1.4039820542253612
          ],
          [
           "TDY",
           0.8544562545861556
          ],
          [
           "TEL",
           -1.3929625617013053
          ],
          [
           "TER",
           -2.1973524145882495
          ],
          [
           "TRMB",
           0.10511530134782454
          ],
          [
           "TXN",
           -0.12178887183900144
          ],
          [
           "TYL",
           -0.6174731439760883
          ],
          [
           "VRSN",
           0.35376889080689367
          ],
          [
           "WDC",
           -1.1259551544016144
          ],
          [
           "ZBRA",
           -0.6254391782044233
          ]
         ],
         "hovertemplate": "\"Ticker: %{customdata[0]}\"<br>\"return: %{customdata[1]}\"",
         "legendgroup": "Information Technology",
         "marker": {
          "color": "#00cc96",
          "size": 5,
          "symbol": "circle"
         },
         "mode": "markers",
         "name": "Information Technology",
         "scene": "scene",
         "showlegend": true,
         "type": "scatter3d",
         "x": [
          -0.0003519618041031662,
          -0.11794506560920413,
          0.006599629155665589,
          -0.08713023829960645,
          0.4215006384180727,
          0.13126939148605746,
          -0.054722817123779716,
          0.5608792701656363,
          -0.17017431888072446,
          0.22159246929951065,
          0.3481923249469881,
          -0.1957240209668017,
          0.27716738770432225,
          -0.28399781283343783,
          -0.2196413860185414,
          0.1601737694412715,
          -0.18871183365791389,
          0.7427099824157419,
          0.18494964705153785,
          -0.21104827054144645,
          -0.1031107880337511,
          -0.002061086274474226,
          -0.2395380684660462,
          -0.17797873267070746,
          -0.20204921024807135,
          -0.27771596239756563,
          0.09263414188419093,
          0.03441443322966356,
          0.021898792984771986,
          0.059235044950155344,
          -0.10172094542759229,
          0.03413782429625433,
          -0.25957985898287483,
          -0.2557011141951038,
          0.6284092718481338,
          -0.1396862028047979,
          0.15829588239694456,
          0.6355450146729122,
          0.31946929080507325,
          -0.21145846896759257,
          -0.060544337161960074,
          -0.22060901054201523,
          -0.1761030315094466,
          -0.24342758246712137,
          0.26929651860361586,
          0.4614926518545464,
          -0.21283157679759468,
          -0.14681506831826213,
          0.14645758170122092,
          -0.0756049281909286,
          -0.034035876846701174,
          -0.166090699020734,
          -0.26079484594289054,
          0.09073773516143584,
          -0.052487910011597125
         ],
         "y": [
          0.1900397419607075,
          0.028683540441866807,
          0.1148621074326867,
          -0.11147233416095405,
          -0.23660783823715834,
          -0.018960656468506698,
          -0.26070483975065234,
          0.2185176905171779,
          -0.04270659185341195,
          0.10524900943033547,
          0.008139549859740657,
          -0.10355824879642828,
          0.11392565200457369,
          0.05280515760710613,
          -0.14457267221103268,
          0.034967663934261956,
          -0.25842569724016107,
          0.17476671412971473,
          0.0685567591874122,
          -0.11146507753171013,
          -0.2624506267571505,
          -0.1607089307525866,
          0.014772112663865716,
          -0.022391311922377356,
          0.09433009009218815,
          -0.016916212018055158,
          -0.35483490329863754,
          -0.0374305782874628,
          -0.12789640842712727,
          -0.22283083173794863,
          -0.1582331661809912,
          -0.29541836701608015,
          0.13860095511291212,
          0.05699029480045887,
          0.026262823357357256,
          -0.14204849738597544,
          -0.20620493625987554,
          0.017169664460442508,
          -0.0819300986645673,
          -0.10373399568758589,
          -0.2128454919712577,
          0.08346739721889311,
          -0.22746106674548305,
          0.020432153257639474,
          -0.0767340758817103,
          -0.05964511483148432,
          -0.299435814886407,
          -0.3571568843984488,
          -0.42072440342829576,
          -0.3510845481128469,
          -0.17299896692307754,
          0.05311110080245452,
          -0.021021231838137075,
          -0.21707222702858217,
          -0.109039387841092
         ],
         "z": [
          -0.09554732200057617,
          -0.08316136718847167,
          -0.3095990316240144,
          0.03602963165140714,
          -0.0659927580984861,
          -0.13490516588763382,
          0.02445050928884645,
          0.00603887324412644,
          -0.2639587072947714,
          -0.4234086700731391,
          0.09509895028941391,
          -0.1811960801615415,
          -0.432256819269879,
          -0.11334794507152393,
          -0.1635598430411955,
          -0.4095820450913576,
          -0.163417707514758,
          -0.19108218527959245,
          -0.02989910481891238,
          0.014465658862433386,
          0.21653425492649875,
          0.2973616587540532,
          0.03174094306980323,
          -0.12220940721274612,
          -0.17056491250049766,
          -0.2374779068478286,
          -0.2715635421833751,
          -0.1890181677228203,
          0.03152437070326071,
          -0.0964434506418796,
          -0.07844902234982025,
          -0.17677637556326858,
          -0.12664804894486442,
          -0.0848725145530444,
          -0.17834110581488744,
          -0.007550980744863843,
          -0.05941602459492385,
          -0.23083994685462011,
          -0.0913412740416945,
          -0.15978634625464777,
          -0.3146425840207695,
          -0.08022826680631355,
          0.10937718088510329,
          -0.08383052378456182,
          0.1592773359743055,
          -0.1933955124084856,
          -0.040180300062771124,
          0.04863544265759387,
          0.05080215877974999,
          -0.12362577363641918,
          -0.02671502312608242,
          -0.32541254923121704,
          -0.006587772232639969,
          0.20359064719133135,
          0.12599045557964883
         ]
        },
        {
         "customdata": [
          [
           "ACGL",
           -0.37189163478978937
          ],
          [
           "AFL",
           -0.7144672890601278
          ],
          [
           "AIG",
           6.824370660811208
          ],
          [
           "AIZ",
           -0.12782607283507996
          ],
          [
           "AJG",
           -0.4510039722385173
          ],
          [
           "ALL",
           -0.6763945164896978
          ],
          [
           "AMP",
           1.0920701295741297
          ],
          [
           "AON",
           -0.49753388612847615
          ],
          [
           "AXP",
           2.38180178747065
          ],
          [
           "BAC",
           1.3061774869973952
          ],
          [
           "BEN",
           -2.160375343927301
          ],
          [
           "BK",
           2.940943073814317
          ],
          [
           "BLK",
           0.5116308989368212
          ],
          [
           "BRO",
           0.5694566995498196
          ],
          [
           "BX",
           -0.5865465523915092
          ],
          [
           "C",
           0.9088312750036298
          ],
          [
           "CB",
           -0.8573155478212691
          ],
          [
           "CBOE",
           -0.8136039847149723
          ],
          [
           "CINF",
           -0.23891248211804772
          ],
          [
           "CMA",
           -0.9348663354004749
          ],
          [
           "CME",
           -2.295848571290837
          ],
          [
           "COF",
           3.692741180739212
          ],
          [
           "DFS",
           2.4340654114125115
          ],
          [
           "EG",
           -1.4479855616049142
          ],
          [
           "FDS",
           -0.3058457236450707
          ],
          [
           "FI",
           0.31874118146446584
          ],
          [
           "FIS",
           1.2333931609587179
          ],
          [
           "FITB",
           1.0417500171050698
          ],
          [
           "FLT",
           0.8812057179264476
          ],
          [
           "GL",
           0.6257594916869946
          ],
          [
           "GPN",
           0.15607067368077487
          ],
          [
           "GS",
           0.011800442470732975
          ],
          [
           "HBAN",
           -0.6588406774977962
          ],
          [
           "HIG",
           0.9119068013299314
          ],
          [
           "ICE",
           -0.7909532040251466
          ],
          [
           "IVZ",
           -0.6016587943954099
          ],
          [
           "JKHY",
           0.16285266462914283
          ],
          [
           "JPM",
           0.7030864657798119
          ],
          [
           "KEY",
           0.14991883758297408
          ],
          [
           "L",
           0.294574138570769
          ],
          [
           "MA",
           2.4261484258754296
          ],
          [
           "MCO",
           2.032838372221457
          ],
          [
           "MET",
           0.7675971356038591
          ],
          [
           "MKTX",
           -0.21640633613644322
          ],
          [
           "MMC",
           -0.6278558923720201
          ],
          [
           "MS",
           0.7447568819517025
          ],
          [
           "MSCI",
           0.8204861637419514
          ],
          [
           "MTB",
           0.6642065134305097
          ],
          [
           "NDAQ",
           -1.648480022699661
          ],
          [
           "NTRS",
           0.46240910789960843
          ],
          [
           "PFG",
           -0.36830259546538624
          ],
          [
           "PGR",
           -0.12074985116954373
          ],
          [
           "PNC",
           1.4099943091257172
          ],
          [
           "PRU",
           -0.568898296717335
          ],
          [
           "RF",
           2.0407110402677064
          ],
          [
           "RJF",
           -0.303874040165808
          ],
          [
           "SCHW",
           4.474450841962274
          ],
          [
           "SPGI",
           1.271800361316422
          ],
          [
           "STT",
           0.7655939978426396
          ],
          [
           "TFC",
           2.402725260957883
          ],
          [
           "TROW",
           0.8492834285133144
          ],
          [
           "TRV",
           -1.1135922005287568
          ],
          [
           "USB",
           -0.29551072479025997
          ],
          [
           "V",
           1.5907903093296483
          ],
          [
           "WFC",
           1.755160267361866
          ],
          [
           "WRB",
           -0.9560715213740023
          ],
          [
           "WTW",
           0.8687200946532414
          ],
          [
           "ZION",
           0.04568153337587422
          ]
         ],
         "hovertemplate": "\"Ticker: %{customdata[0]}\"<br>\"return: %{customdata[1]}\"",
         "legendgroup": "Financials",
         "marker": {
          "color": "#ab63fa",
          "size": 5,
          "symbol": "circle"
         },
         "mode": "markers",
         "name": "Financials",
         "scene": "scene",
         "showlegend": true,
         "type": "scatter3d",
         "x": [
          -0.12359896702930981,
          0.17875483636239928,
          0.2514940484920262,
          0.07218743178801472,
          -0.1862401458466416,
          -0.15324650066436876,
          0.13167509748756004,
          -0.22337096963879238,
          -0.12183847656704025,
          0.3214850202733647,
          0.005406058744834637,
          -0.005581076358169472,
          -0.06292235725053204,
          -0.18102127603615062,
          0.2825119793207735,
          0.26620288322453894,
          -0.02947672012510779,
          -0.15745694253594628,
          -0.23298222480424025,
          -0.0428615504231775,
          -0.05311360328818356,
          -0.032881575951411,
          -0.04750465093787607,
          -0.23955166731367877,
          -0.24130387011490517,
          -0.15188240745642229,
          -0.1715355095767356,
          -0.001663519672692409,
          -0.24905522986483666,
          -0.20948865190343552,
          -0.26122142224064154,
          -0.029916760978763765,
          0.0628700082929381,
          0.11663958751040115,
          -0.15286918429851465,
          0.18794501688795182,
          -0.24349165749922075,
          0.10878030173108677,
          0.08395394814639054,
          -0.21263984921073198,
          -0.14144783388504523,
          -0.17071015774163262,
          0.07688331410986349,
          0.110971606591877,
          -0.194034320705597,
          0.4273678285610868,
          -0.203742433116711,
          -0.15391124830386294,
          -0.21910465346627217,
          -0.09988391519316336,
          0.07621599310460236,
          -0.2474136943009209,
          -0.027648538446881456,
          0.11842484585961974,
          0.27367968449780333,
          0.005481787274699302,
          0.06815044291812411,
          -0.17618646521030917,
          -0.021289795033922455,
          -0.02934635012832318,
          -0.09041245613262777,
          -0.22388081166581872,
          -0.11351580840063939,
          -0.2247430708241418,
          -0.06704336199897548,
          -0.21956789990891395,
          -0.2266948330438791,
          0.07898091131546443
         ],
         "y": [
          0.1815457912584805,
          -0.15666928566841964,
          -0.4506078181889254,
          0.050570050419508364,
          0.0585502939586956,
          0.006305957413961185,
          -0.4039609595638819,
          0.04017664000519857,
          -0.17872183368986916,
          -0.3660901513475015,
          -0.39602430704944197,
          -0.38982728888620344,
          -0.251157959857466,
          -0.05719619051831855,
          -0.4664565991306732,
          -0.46658349110168923,
          0.14935012086968627,
          0.17233608268018466,
          -0.06263128546331101,
          -0.43512390629967596,
          0.1893988761998256,
          -0.3908806301126552,
          -0.26781222194910437,
          0.17569636722789328,
          0.03848739320955472,
          0.0339428732342223,
          -0.06349180640474539,
          -0.3492173348108837,
          -0.011269432713098675,
          -0.08034100575003501,
          0.0774328261908611,
          -0.3007091879434197,
          -0.3978854605876521,
          -0.3773539637423265,
          0.015778222146699685,
          -0.5270457240929552,
          -0.05025865683219413,
          -0.3919426199004523,
          -0.3737945196357922,
          -0.07151870282220091,
          -0.06662658401277997,
          -0.12047147314210022,
          -0.5545458716009967,
          0.14551111707621486,
          -0.020299299853355372,
          -0.3309446954449748,
          -0.11539522730287272,
          -0.07392379299119035,
          -0.07737040413690006,
          -0.20023490236481506,
          -0.42096081900809995,
          0.009467662325693026,
          -0.3065479180839516,
          -0.4118214474018554,
          -0.4655353217545932,
          -0.38550277391550203,
          -0.28367945085132384,
          -0.10770332952032045,
          -0.38339240125325663,
          -0.3119822613766981,
          -0.35732079983918175,
          0.0842642131041278,
          -0.22256176101235586,
          -0.0427063677779615,
          -0.30119270044093116,
          0.12992123875099887,
          0.09171213660002844,
          -0.4689523163634511
         ],
         "z": [
          0.10220606396832133,
          -0.18617613797453886,
          -0.08591605272583293,
          -0.1612687013606989,
          -0.09551330244257647,
          -0.022841183238426523,
          -0.14753102180319108,
          -0.10277649821015956,
          0.05270511463721705,
          -0.15492406320053864,
          0.027209235690502452,
          -0.05494314999411624,
          -0.17456753613637166,
          0.011856403339917535,
          0.2760965806481906,
          0.006205274497581795,
          -0.11491151030939004,
          -0.11928825310289538,
          -0.002099132263443648,
          0.06649772283236025,
          -0.37854538743384153,
          0.14085229950938122,
          -0.01994845992876154,
          0.058021145017408744,
          -0.26560679272675863,
          -0.10176101619941133,
          -0.11917342650762858,
          -0.027651800721253107,
          -0.18904692809046328,
          -0.05886652746578759,
          -0.07558953940532247,
          -0.15103286327951176,
          -0.0945518294278682,
          -0.27528828945624095,
          -0.3063087776737088,
          0.011482598222167874,
          -0.07632450427611803,
          0.0026248601124274,
          -0.010364464170543422,
          0.015496863333735175,
          -0.2277388038298257,
          -0.3018125382784776,
          -0.024999773177941494,
          -0.38732540568376456,
          0.04851899156733031,
          -0.18656584795984124,
          -0.2600258211129308,
          -0.14573914405563004,
          -0.27765339000826156,
          -0.18034637377362592,
          -0.017713248151481877,
          0.021747069951607554,
          -0.008313833350440015,
          -0.17827371722037,
          -0.00040681217246096683,
          -0.26663028110833276,
          -0.34811549746646303,
          0.19943403145185518,
          -0.0604328147407616,
          0.08611967375152123,
          -0.05082331677657764,
          -0.03139375031890816,
          0.04940336162247203,
          -0.03945344776541861,
          0.028719950845949478,
          -0.014575100425189357,
          0.13573690824934043,
          -0.004431324000218272
         ]
        },
        {
         "customdata": [
          [
           "ADM",
           -0.05889382460078085
          ],
          [
           "BG",
           1.6505296349176302
          ],
          [
           "CAG",
           -0.29886937374066225
          ],
          [
           "CHD",
           -0.18696641804347713
          ],
          [
           "CL",
           -1.1472324055162741
          ],
          [
           "CLX",
           0.08123603268324064
          ],
          [
           "COST",
           -2.3723842985599375
          ],
          [
           "CPB",
           -0.20053443011900374
          ],
          [
           "DG",
           -1.9604534485281544
          ],
          [
           "DLTR",
           -5.379063124531269
          ],
          [
           "EL",
           0.5569885767731098
          ],
          [
           "GIS",
           2.086012298497142
          ],
          [
           "HRL",
           -2.1574502276471286
          ],
          [
           "HSY",
           0.01943145032810012
          ],
          [
           "K",
           -0.948636193067709
          ],
          [
           "KDP",
           1.5929438047869615
          ],
          [
           "KMB",
           -0.1858693199843442
          ],
          [
           "KO",
           -1.1146707859575833
          ],
          [
           "KR",
           0.17157676989967285
          ],
          [
           "MDLZ",
           -0.7412299955123491
          ],
          [
           "MKC",
           -1.3226673928654398
          ],
          [
           "MNST",
           -1.1508278164169772
          ],
          [
           "MO",
           -0.15072780336939928
          ],
          [
           "PEP",
           1.2843220588915072
          ],
          [
           "PG",
           -0.7506997900198487
          ],
          [
           "PM",
           -0.8094180866873191
          ],
          [
           "SJM",
           -0.5829450301881534
          ],
          [
           "STZ",
           -0.007420743030372989
          ],
          [
           "SYY",
           0.39866249568956125
          ],
          [
           "TAP",
           -1.215871321427331
          ],
          [
           "TGT",
           -2.2700131075254038
          ],
          [
           "TSN",
           0.7110068523908497
          ],
          [
           "WBA",
           0.8674309458131857
          ],
          [
           "WMT",
           -1.177018373187666
          ]
         ],
         "hovertemplate": "\"Ticker: %{customdata[0]}\"<br>\"return: %{customdata[1]}\"",
         "legendgroup": "Consumer Staples",
         "marker": {
          "color": "#FFA15A",
          "size": 5,
          "symbol": "circle"
         },
         "mode": "markers",
         "name": "Consumer Staples",
         "scene": "scene",
         "showlegend": true,
         "type": "scatter3d",
         "x": [
          -0.02480984386584729,
          -0.09611715924706664,
          -0.14875788219643254,
          -0.19425332982379173,
          -0.1751151151979434,
          -0.1435737880243362,
          -0.26795570417377573,
          -0.19293265561348902,
          -0.033140383654333895,
          -0.017587406684092092,
          -0.2545750634737648,
          -0.19900264826143418,
          -0.22478843313360905,
          -0.2810135798971405,
          -0.1918453774723562,
          -0.1769356366143708,
          -0.21773616296943366,
          -0.21324195747336178,
          -0.24748412064201322,
          -0.20020210241446182,
          -0.22238893455792857,
          -0.07211756805383306,
          -0.20811482747383037,
          -0.2316263207690497,
          -0.20405070880212006,
          -0.23408508550655785,
          -0.2719097441219082,
          -0.2713398437276614,
          -0.2531502968822729,
          -0.18349160289625596,
          -0.2554511054653732,
          -0.22067014441478988,
          -0.14453494200241754,
          -0.22227288376735596
         ],
         "y": [
          0.08555074803494468,
          0.03137856164431573,
          0.16642235981974918,
          0.2868548760319216,
          0.35274164566411614,
          0.2802380930704953,
          0.2567808923178908,
          0.2958690288098309,
          0.44247735133833926,
          0.433030277256516,
          -0.005477357212498936,
          0.382279679950722,
          0.21224458352062145,
          0.33487908571565816,
          0.40044922100425906,
          0.37995922697363527,
          0.33213065906137085,
          0.2530398332368103,
          0.3918341164597638,
          0.31920007330472217,
          0.18400746675238203,
          0.21509405938211493,
          0.3714037297340668,
          0.3106690933045375,
          0.3252989084123119,
          0.20245174519169348,
          0.20193268388620536,
          0.05929679131677376,
          0.2955138058754562,
          0.1841716503145544,
          0.29749930094805044,
          0.055894142379704415,
          0.2623910826910824,
          0.2653660619326448
         ],
         "z": [
          0.04626292455196606,
          0.014104862359191657,
          0.17685971052618069,
          -0.06261906221660939,
          -0.03952905034055529,
          0.036249888738616384,
          0.03956382816088092,
          0.013223558349450255,
          -0.1235982963167082,
          -0.1116866664891601,
          -0.06587657741348191,
          0.0028609021692541812,
          -0.0021040945985448005,
          0.053226595759558806,
          0.03296452240506412,
          -0.11970348694825343,
          0.0964637935625713,
          0.06491590818008126,
          -0.12603602971235686,
          -0.06781798790104313,
          0.07975610201736018,
          -0.22247931142404012,
          0.023238972638239763,
          0.06235558264905822,
          0.08398842128156742,
          0.09576280293339125,
          0.022866601866884675,
          -0.03688028195829374,
          0.07124621308652423,
          0.1671841409830056,
          -0.018508201809317497,
          -0.06486179448068953,
          -0.07465878133204132,
          0.1449470321797804
         ]
        },
        {
         "customdata": [
          [
           "AEE",
           -0.7305323403173358
          ],
          [
           "AEP",
           -2.0261543978041807
          ],
          [
           "AES",
           0.8295081780166802
          ],
          [
           "ATO",
           -0.17061269515197264
          ],
          [
           "AWK",
           -1.0650887653905539
          ],
          [
           "CMS",
           -0.7857318472694108
          ],
          [
           "CNP",
           -0.8987124192739504
          ],
          [
           "D",
           -0.774730277160196
          ],
          [
           "DTE",
           -0.4979043438007258
          ],
          [
           "DUK",
           -1.5225203155030953
          ],
          [
           "ED",
           -1.1836848282806067
          ],
          [
           "EIX",
           -1.7790260912390332
          ],
          [
           "ES",
           -1.8049879026804772
          ],
          [
           "ETR",
           -1.313019435306917
          ],
          [
           "EVRG",
           -0.9912641580049231
          ],
          [
           "EXC",
           0.045382079408118337
          ],
          [
           "FE",
           -0.17656287257377112
          ],
          [
           "LNT",
           -0.6537605599509999
          ],
          [
           "NEE",
           -1.2969508494423465
          ],
          [
           "NI",
           -0.12776453868239557
          ],
          [
           "NRG",
           -1.5277898624636355
          ],
          [
           "PCG",
           -2.074346282248418
          ],
          [
           "PEG",
           -1.343025831886424
          ],
          [
           "PNW",
           -1.191775731502387
          ],
          [
           "PPL",
           -0.8170901082847792
          ],
          [
           "SO",
           -1.5586716493959596
          ],
          [
           "SRE",
           -1.6060568066352587
          ],
          [
           "WEC",
           -1.070903253954436
          ],
          [
           "XEL",
           -1.1114469564666218
          ]
         ],
         "hovertemplate": "\"Ticker: %{customdata[0]}\"<br>\"return: %{customdata[1]}\"",
         "legendgroup": "Utilities",
         "marker": {
          "color": "#19d3f3",
          "size": 5,
          "symbol": "circle"
         },
         "mode": "markers",
         "name": "Utilities",
         "scene": "scene",
         "showlegend": true,
         "type": "scatter3d",
         "x": [
          -0.10860426459820191,
          -0.022514968542720278,
          -0.1961371522843772,
          -0.18350936282922553,
          0.019578331900655832,
          -0.056618675214536555,
          -0.04949290582416612,
          -0.12757674160370563,
          -0.07162126477936581,
          -0.11182067868848562,
          -0.06066395895452366,
          -0.06780235157427128,
          -0.10145438221432035,
          -0.055387709299141774,
          -0.12204255768865654,
          -0.08373087051758661,
          -0.0231008811382817,
          -0.0891283095510899,
          -0.121090188735166,
          -0.16111682737944455,
          0.35489198122253207,
          -0.08248820874089567,
          -0.1053492936051482,
          -0.0822999059876295,
          -0.10852117874772468,
          -0.06425349231368534,
          -0.15761075292569005,
          -0.0389209267912425,
          -0.05123727561872931
         ],
         "y": [
          0.29703112255258113,
          0.41174298311829366,
          0.06887432791013207,
          0.1345427545545131,
          0.3700895676812129,
          0.38822462561446613,
          0.14619312421313851,
          0.4292538342795368,
          0.4113089276865295,
          0.38479314433099104,
          0.5690431145358671,
          0.40766109611897833,
          0.3823978939190189,
          0.41219044062943083,
          0.36049300381764465,
          0.35403925804382463,
          0.26371190857659177,
          0.40900732623990443,
          0.41814444731998324,
          0.3223600392107085,
          0.20631979662242428,
          0.43235540040272924,
          0.35431219655184676,
          0.41978724720087307,
          0.439988500117494,
          0.4808652897570521,
          0.27364956003701146,
          0.4220605607947864,
          0.42359311084430373
         ],
         "z": [
          0.17063833688258115,
          0.20027892011477622,
          0.03452746311269902,
          0.24282691772997292,
          0.12540746877133505,
          0.14806331973789064,
          0.3023010821438667,
          0.1164920725654077,
          0.1912758201341103,
          0.21022398925339808,
          0.12317887618099817,
          0.22902167713448213,
          0.11154858299782344,
          0.2343559101337661,
          0.14705823054710224,
          0.3054013252694914,
          0.27025863573520637,
          0.14574214365488486,
          0.1168525139195427,
          0.05351187593261467,
          0.478568762952313,
          0.08568798195129827,
          0.19040018760808738,
          0.11881785732073005,
          0.2532916412713848,
          0.20812085959995835,
          0.21871282928665386,
          0.18187437619917615,
          0.20710802648994683
         ]
        },
        {
         "customdata": [
          [
           "ALB",
           -0.8449365000493092
          ],
          [
           "APD",
           -0.9569323951468145
          ],
          [
           "AVY",
           -1.188138044846887
          ],
          [
           "BALL",
           0.22688103189139053
          ],
          [
           "CE",
           -0.495757339943359
          ],
          [
           "CF",
           0.97673567269978
          ],
          [
           "DD",
           -0.6924174211879963
          ],
          [
           "ECL",
           -0.3187554166102391
          ],
          [
           "EMN",
           0.21716567579541657
          ],
          [
           "FCX",
           -0.856588800319158
          ],
          [
           "FMC",
           -1.5252971363136747
          ],
          [
           "IFF",
           -0.2504783247231135
          ],
          [
           "IP",
           0.7033032007844442
          ],
          [
           "LIN",
           -0.5937424957730975
          ],
          [
           "LYB",
           -0.5771219433390318
          ],
          [
           "MLM",
           -3.1065414787228796
          ],
          [
           "MOS",
           2.3202327615690743
          ],
          [
           "NEM",
           -2.076924929092294
          ],
          [
           "NUE",
           0.5981710087471059
          ],
          [
           "PKG",
           2.7983344127110676
          ],
          [
           "PPG",
           0.04363546679191366
          ],
          [
           "SHW",
           -1.8575320956963015
          ],
          [
           "STLD",
           0.7839361317963922
          ],
          [
           "VMC",
           -2.607992075877552
          ]
         ],
         "hovertemplate": "\"Ticker: %{customdata[0]}\"<br>\"return: %{customdata[1]}\"",
         "legendgroup": "Materials",
         "marker": {
          "color": "#FF6692",
          "size": 5,
          "symbol": "circle"
         },
         "mode": "markers",
         "name": "Materials",
         "scene": "scene",
         "showlegend": true,
         "type": "scatter3d",
         "x": [
          0.1831083699000983,
          -0.09551185050135799,
          0.028699650180424488,
          -0.03054724445687881,
          0.5054468639183551,
          0.39324355711608655,
          0.1538910815276049,
          -0.25378742904011914,
          0.09268875734460022,
          0.66348397613786,
          -0.071963230058015,
          -0.14961114206667428,
          0.06318066951322247,
          -0.13845021986939535,
          0.25898589150395135,
          -0.015297643866703067,
          0.09687343679777663,
          0.38087947505594066,
          -0.10378113099534582,
          -0.0539903169670275,
          -0.15076820942959032,
          -0.21943749035009244,
          0.0994548957014685,
          0.16605861221471788
         ],
         "y": [
          -0.2841614007228403,
          -0.18009912666698497,
          -0.23381854591571838,
          -0.1101708963913529,
          -0.4118629708305651,
          -0.11050716509396777,
          -0.3570915666993376,
          -0.031146798863907636,
          -0.33738718157465886,
          0.26534047300371894,
          -0.26095319969864705,
          0.020025313142548816,
          -0.32154151671335035,
          -0.06199803743433458,
          -0.21839383708396223,
          0.07671641921125069,
          -0.1829100444825428,
          0.29052302417702786,
          -0.30754295021118255,
          -0.25732669549558507,
          -0.25714943473297014,
          0.06519670529297218,
          -0.14988693558415508,
          -0.0813386097267976
         ],
         "z": [
          0.2635897537570366,
          0.15438993513432206,
          0.03330657755015269,
          0.2295046826706232,
          0.20733528403422766,
          0.29835235001256516,
          0.2796179540637422,
          0.10263403585185954,
          0.09376916341937175,
          0.38643273824395513,
          0.16616413317917517,
          -0.042516119480936615,
          0.025365806174587252,
          0.20146475780251533,
          0.005166883026354431,
          -0.3284067182359893,
          0.3489971527954167,
          0.1445261722541155,
          0.1834348421600131,
          0.20787912369261083,
          0.05886397792730631,
          -0.06702390129925549,
          -0.05996080139759726,
          -0.27182511962449235
         ]
        },
        {
         "customdata": [
          [
           "AMT",
           -1.8992124238855324
          ],
          [
           "ARE",
           0.24396511096191897
          ],
          [
           "AVB",
           -0.242167453600306
          ],
          [
           "BXP",
           0.15081274931978417
          ],
          [
           "CBRE",
           0.4102789810379148
          ],
          [
           "CCI",
           -1.557776791411336
          ],
          [
           "CPT",
           0.05754995963143106
          ],
          [
           "CSGP",
           -0.0076047374716115
          ],
          [
           "DLR",
           -0.0489760295775854
          ],
          [
           "EQIX",
           0.07525515199688915
          ],
          [
           "EQR",
           -0.5783485321736892
          ],
          [
           "ESS",
           0.17412347019043484
          ],
          [
           "EXR",
           -0.2372810962427918
          ],
          [
           "FRT",
           -1.5530072990765253
          ],
          [
           "HST",
           1.5267295038368323
          ],
          [
           "IRM",
           0.5814355920276126
          ],
          [
           "KIM",
           0.9255114333778902
          ],
          [
           "MAA",
           -0.5036267315698062
          ],
          [
           "O",
           -0.6081868863049955
          ],
          [
           "PEAK",
           -0.33150650937789905
          ],
          [
           "PLD",
           1.1856935920889322
          ],
          [
           "PSA",
           0.47047495392258387
          ],
          [
           "REG",
           0.00496902114675013
          ],
          [
           "SBAC",
           -1.1779778304831012
          ],
          [
           "SPG",
           -0.20323923178930947
          ],
          [
           "UDR",
           -1.3848165014883285
          ],
          [
           "VTR",
           -1.3279948900661087
          ],
          [
           "WELL",
           -0.33125352866174573
          ],
          [
           "WY",
           2.6004924992649503
          ]
         ],
         "hovertemplate": "\"Ticker: %{customdata[0]}\"<br>\"return: %{customdata[1]}\"",
         "legendgroup": "Real Estate",
         "marker": {
          "color": "#B6E880",
          "size": 5,
          "symbol": "circle"
         },
         "mode": "markers",
         "name": "Real Estate",
         "scene": "scene",
         "showlegend": true,
         "type": "scatter3d",
         "x": [
          -0.2418795669964992,
          -0.18270309682736063,
          -0.05882232227768782,
          -0.1939782451739052,
          0.13966005473874385,
          -0.17937564105535636,
          -0.12851063182877462,
          -0.13479806908976544,
          -0.18772434058865797,
          -0.1201124980853516,
          -0.06235797371250281,
          -0.13244088023999062,
          -0.2403181885448372,
          -0.16398201165522933,
          -0.09582098181787033,
          -0.20978890922443233,
          -0.16004855297781795,
          -0.11934287628704708,
          -0.2285054510269315,
          -0.2093817893093364,
          -0.15663137010800265,
          -0.18425045295648143,
          -0.14366551589468238,
          -0.26615986028585664,
          -0.19867319156502344,
          -0.12892325423917217,
          -0.15523213862929555,
          -0.1630355146850273,
          -0.1709388554863275
         ],
         "y": [
          0.24087740705174543,
          0.09886015201055232,
          0.21245621358361289,
          0.07996479606660382,
          -0.41297213938382954,
          0.36708128175390276,
          0.18244911969854313,
          -0.19107145077072515,
          0.20768891201493977,
          0.10916992041878018,
          0.20670875149303294,
          0.14271605733202622,
          0.10705127188804421,
          0.2387361021577173,
          -0.20803892162027687,
          0.029358954763597254,
          -0.030442343598889175,
          0.21687961196172834,
          0.3063873919750285,
          0.18282620106151182,
          -0.06728232151574126,
          0.17693710123647313,
          0.05536105647841518,
          0.254757871453183,
          0.16181344978636877,
          0.17550869156542567,
          0.20158291512622406,
          0.2867760967514145,
          -0.20821374636370432
         ],
         "z": [
          0.08009910227423861,
          0.054744796771695185,
          0.04432962933134099,
          0.087491928366576,
          0.008044661659204233,
          -0.07200299173826945,
          0.08689881778042371,
          -0.1058233176868623,
          -0.005961164695788023,
          -0.23689024764100372,
          0.12699853135577688,
          0.14417674939798192,
          0.08940554110017106,
          0.0978595356414495,
          0.06514046153512094,
          0.13065098319097582,
          0.1247394515878808,
          0.08160063328988246,
          0.0135487541286301,
          0.11943629914654302,
          0.01127351697870068,
          0.11217517650858103,
          0.07570894876493026,
          -0.007805495501153804,
          0.07110312561481757,
          0.06520553152044146,
          0.19966234988038828,
          0.14438564358618425,
          -0.017910445467211274
         ]
        },
        {
         "customdata": [
          [
           "AMZN",
           0.7829099180912236
          ],
          [
           "AZO",
           -1.7428236457047386
          ],
          [
           "BBWI",
           -1.6560971325717988
          ],
          [
           "BBY",
           1.3347898255650748
          ],
          [
           "BKNG",
           5.396535331854557
          ],
          [
           "BWA",
           0.4042642947759356
          ],
          [
           "CCL",
           0.4571296902849964
          ],
          [
           "CMG",
           -1.1358166315910578
          ],
          [
           "DHI",
           2.7275760892093714
          ],
          [
           "DPZ",
           2.634236327391082
          ],
          [
           "DRI",
           -1.6760903340000688
          ],
          [
           "EBAY",
           0.39351195646613046
          ],
          [
           "EXPE",
           3.6162479535053027
          ],
          [
           "F",
           2.414668798978048
          ],
          [
           "GM",
           -0.07119758360885076
          ],
          [
           "GPC",
           -0.7522833542139895
          ],
          [
           "GRMN",
           0.7354872788169597
          ],
          [
           "HAS",
           -0.019868076540108248
          ],
          [
           "HD",
           -0.8370119336502668
          ],
          [
           "KMX",
           2.185555952682283
          ],
          [
           "LEN",
           2.058107213024951
          ],
          [
           "LKQ",
           -0.17459675329272173
          ],
          [
           "LOW",
           -0.03113384744164449
          ],
          [
           "LULU",
           1.3999157927938155
          ],
          [
           "LVS",
           0.10880221322397965
          ],
          [
           "MAR",
           0.4763816338354099
          ],
          [
           "MCD",
           -0.04873401738254568
          ],
          [
           "MGM",
           0.32774339312533485
          ],
          [
           "MHK",
           0.022889292485039903
          ],
          [
           "NKE",
           0.13526768233538267
          ],
          [
           "NVR",
           0.6560700985986045
          ],
          [
           "ORLY",
           -0.2443889067391014
          ],
          [
           "PHM",
           3.251379278262889
          ],
          [
           "POOL",
           0.7499933707062256
          ],
          [
           "RCL",
           0.5548695859612707
          ],
          [
           "RL",
           -0.5751124894758042
          ],
          [
           "ROST",
           0.20370613861944165
          ],
          [
           "SBUX",
           -0.919990361785572
          ],
          [
           "TJX",
           -1.850614589604016
          ],
          [
           "TPR",
           -0.022418513242850047
          ],
          [
           "TSCO",
           0.45195331791842985
          ],
          [
           "TSLA",
           0.08021335646786198
          ],
          [
           "ULTA",
           0.18039527562889734
          ],
          [
           "VFC",
           -0.42565621707768564
          ],
          [
           "WHR",
           0.15313978347211155
          ],
          [
           "WYNN",
           0.7704411295301972
          ],
          [
           "YUM",
           -0.043924219655244734
          ]
         ],
         "hovertemplate": "\"Ticker: %{customdata[0]}\"<br>\"return: %{customdata[1]}\"",
         "legendgroup": "Consumer Discretionary",
         "marker": {
          "color": "#FF97FF",
          "size": 5,
          "symbol": "circle"
         },
         "mode": "markers",
         "name": "Consumer Discretionary",
         "scene": "scene",
         "showlegend": true,
         "type": "scatter3d",
         "x": [
          0.15467297322335063,
          -0.23114945473836576,
          -0.2468435224164593,
          0.19077910316426974,
          -0.06577366799266894,
          0.14129802009508877,
          0.08391953204937123,
          -0.11129069881241696,
          0.28523058003426566,
          -0.10962321124425296,
          -0.1480748475841333,
          -0.03858076404656177,
          -0.1166349489537322,
          -0.12736508933081064,
          -0.08821039716578377,
          -0.2250365977789064,
          -0.18137974792598552,
          -0.2889120337819537,
          -0.17400002640565035,
          -0.1361236118592703,
          0.4826806750334243,
          -0.10155087781615771,
          -0.1843283266631399,
          0.3359644136537671,
          0.24440048813797488,
          -0.1285030365882489,
          -0.2082390617006665,
          0.3659661339722804,
          0.04832661896040312,
          -0.23707475190360217,
          -0.1395953826701455,
          -0.21201143051795823,
          0.7943548736332994,
          -0.2467517621180443,
          0.24097321128671986,
          -0.25376832144907646,
          -0.2067873592391925,
          -0.19151881350423994,
          -0.23016240986275055,
          -0.16534467932314156,
          -0.16385810022481656,
          0.40455264738054836,
          -0.05517927425753903,
          -0.22854245737120896,
          0.04003451820789158,
          0.44229071493950367,
          -0.10688168988192821
         ],
         "y": [
          0.2709588023737456,
          0.3349480788949261,
          -0.10698258011709073,
          0.04272515627164896,
          -0.041540132223267814,
          -0.41088617306751196,
          0.3377677207113424,
          0.0658848680030315,
          -0.06133567292250391,
          0.10930656692880027,
          0.22236131544462534,
          0.15575120879761392,
          0.08142508001593907,
          -0.4333550903409774,
          -0.3562369625177307,
          -0.05185475926331753,
          0.04384629744555362,
          0.224557953283841,
          0.12636824868121804,
          -0.10912439425604004,
          0.03633880578767183,
          -0.13380036482288082,
          0.025807845738226975,
          0.29555646869047664,
          -0.09786911744842566,
          -0.10815161550128638,
          0.3279449253963762,
          -0.17882630591184345,
          -0.1449773213633746,
          0.1186717811491303,
          0.13142619260838023,
          0.218404844519013,
          -0.08158708737441735,
          -0.07508850302437169,
          0.1282601044191528,
          -0.058703336398546746,
          0.24734349406253095,
          0.12411179190623944,
          0.21662527192860606,
          0.019461089352502327,
          0.06870087297020445,
          0.18585433845817523,
          0.0960117647814237,
          -0.010538662895515723,
          -0.06361610798307143,
          0.20059096083007383,
          -0.01954171677277795
         ],
         "z": [
          -0.357750344689121,
          -0.048505448098784196,
          0.02538155248533532,
          -0.10362196797713458,
          -0.21811321695527228,
          0.260117317453658,
          -0.26885296598323966,
          0.04985576394075038,
          -0.22403449514631318,
          -0.11854147316988223,
          -0.2069717818243089,
          -0.41562260564423265,
          -0.22152305293384705,
          0.08977782988071943,
          0.07719845460129325,
          -0.017479423488230155,
          -0.009708706824065768,
          -0.14440865865303384,
          -0.08061376807879471,
          -0.20036872801751848,
          -0.25447863223434525,
          -0.30000977620855457,
          -0.05537065179038635,
          -0.19167110454884842,
          0.14793901479888663,
          0.044461149733512444,
          0.05728191461481257,
          0.049562720227590056,
          -0.3608657903171231,
          -0.11522172683525062,
          -0.11289093750117299,
          -0.13568102235978363,
          -0.1482586419751564,
          -0.2617982633645075,
          -0.22836305482415667,
          0.0918132498268185,
          -0.11838252843679346,
          -0.24681207121124593,
          -0.17958609416033566,
          -0.10220441622730715,
          -0.24700346530134076,
          -0.20161448354472825,
          -0.21511125420963742,
          0.05826591231893468,
          -0.3216291912845919,
          0.19768922869145894,
          0.3052214374329777
         ]
        },
        {
         "customdata": [
          [
           "APA",
           1.9831388027990338
          ],
          [
           "BKR",
           -0.3766321806128792
          ],
          [
           "COP",
           -1.0058759567462494
          ],
          [
           "CTRA",
           -0.573015359361051
          ],
          [
           "CVX",
           -0.6944267003284543
          ],
          [
           "DVN",
           0.1196661736258875
          ],
          [
           "EOG",
           -0.3135073270149835
          ],
          [
           "EQT",
           0.3017774340663637
          ],
          [
           "HAL",
           -0.8484515296116935
          ],
          [
           "HES",
           1.6924453496734326
          ],
          [
           "MRO",
           -0.6267000266373834
          ],
          [
           "OKE",
           -0.9512407559925551
          ],
          [
           "OXY",
           -0.1473083694382149
          ],
          [
           "PXD",
           0.2000949479798786
          ],
          [
           "SLB",
           0.6563058132302624
          ],
          [
           "TRGP",
           0.14298432090451563
          ],
          [
           "VLO",
           1.9382302314745914
          ],
          [
           "WMB",
           -0.3567340327201185
          ],
          [
           "XOM",
           -0.7867690226609936
          ]
         ],
         "hovertemplate": "\"Ticker: %{customdata[0]}\"<br>\"return: %{customdata[1]}\"",
         "legendgroup": "Energy",
         "marker": {
          "color": "#FECB52",
          "size": 5,
          "symbol": "circle"
         },
         "mode": "markers",
         "name": "Energy",
         "scene": "scene",
         "showlegend": true,
         "type": "scatter3d",
         "x": [
          0.25662963436221903,
          0.05171685443356282,
          -0.11505094395535427,
          0.3420653252918199,
          -0.20221219984087674,
          0.21043064915541934,
          0.07960425016981772,
          0.049854557675926676,
          0.08863986736718665,
          0.08946789453680129,
          0.2581843320006896,
          0.19380463770597262,
          -0.10753999490225755,
          0.2594996347196085,
          -0.08723308359930944,
          0.40603069818142506,
          0.0756621056991641,
          0.25222936864002204,
          -0.20162347530938785
         ],
         "y": [
          0.09620523958808355,
          -0.06997427851405047,
          -0.0014125128710234956,
          0.14395696036174663,
          0.05970859333299406,
          -0.011482904414221477,
          -0.13560048871318245,
          -0.08368865494860007,
          -0.07381359352397207,
          -0.031468383369768614,
          -0.007980984331969984,
          0.20789951149274083,
          -0.13683730833798316,
          0.024102935677140436,
          -0.13155708541741576,
          0.3115656111420132,
          -0.06021543631172481,
          0.07063936448874411,
          0.04275563221348905
         ],
         "z": [
          0.09626040239961604,
          0.12395838854711842,
          0.22059784934977594,
          0.033792798384102124,
          0.07293903051225063,
          0.2280231049818568,
          -0.006997431168340079,
          0.12923241317207365,
          -0.07110858317259164,
          -0.0086778707931598,
          0.19647870074388352,
          0.43326941071136377,
          0.0416704874820707,
          -0.1889194887560496,
          -0.0005974619306131566,
          0.3562667059659348,
          -0.0887522282867537,
          0.37288237812579983,
          0.08328025683925426
         ]
        },
        {
         "customdata": [
          [
           "CHTR",
           -0.5954830100107444
          ],
          [
           "CMCSA",
           0.8171835927672344
          ],
          [
           "DIS",
           1.968062606958143
          ],
          [
           "EA",
           -1.1302314770582078
          ],
          [
           "GOOG",
           0.634534509322715
          ],
          [
           "GOOGL",
           0.6345299569923801
          ],
          [
           "IPG",
           0.9129270210859408
          ],
          [
           "LYV",
           1.3223771455036504
          ],
          [
           "MTCH",
           0.32973454779179345
          ],
          [
           "NFLX",
           -1.4239560553844566
          ],
          [
           "OMC",
           0.7116682476218772
          ],
          [
           "PARA",
           -1.6525676160619729
          ],
          [
           "T",
           -0.18503482310012753
          ],
          [
           "TMUS",
           1.9227971073708439
          ],
          [
           "TTWO",
           -0.27740434030012473
          ],
          [
           "VZ",
           0.8526493201146845
          ],
          [
           "WBD",
           -2.643789036871602
          ]
         ],
         "hovertemplate": "\"Ticker: %{customdata[0]}\"<br>\"return: %{customdata[1]}\"",
         "legendgroup": "Communication Services",
         "marker": {
          "color": "#636efa",
          "size": 5,
          "symbol": "circle"
         },
         "mode": "markers",
         "name": "Communication Services",
         "scene": "scene",
         "showlegend": true,
         "type": "scatter3d",
         "x": [
          -0.12078776159062575,
          -0.1811306117921528,
          -0.2049492600897348,
          0.3141374499857139,
          -0.11514064475806086,
          0.05464047097858984,
          -0.12166336588771183,
          -0.06172454903242366,
          -0.16718832534253442,
          0.6069863044137219,
          -0.2489727744054614,
          -0.05707569513703319,
          -0.24723418381718787,
          0.17807998985165302,
          0.00927870982832734,
          -0.25565926370255704,
          -0.16454426577768957
         ],
         "y": [
          0.17812073726587016,
          -0.056621197551184346,
          0.09193129179742673,
          0.3481819984860905,
          0.15768510493641183,
          0.17196955914960593,
          -0.19965788622198608,
          -0.1735757015559774,
          -0.0251797117123692,
          0.30564393220738295,
          -0.06503491681200504,
          -0.26878277905755765,
          0.24613371786107205,
          0.03893657377769429,
          0.16313302801543433,
          0.22736502889615412,
          -0.11224995363892602
         ],
         "z": [
          -0.07175171532968096,
          0.059169458372322285,
          -0.10888129346090201,
          -0.5714271128586462,
          -0.1471152244753787,
          -0.10571597490826792,
          -0.2338892664597591,
          -0.2386092145425553,
          0.11294018742063357,
          0.13487084322495227,
          -0.0230310081010986,
          0.011629041603521214,
          0.02627426426038935,
          -0.15614745486269438,
          -0.43742168600616677,
          0.10805490185907166,
          0.12247778253652532
         ]
        },
        {
         "customdata": [
          [
           "MSFT",
           -0.8401279191597277
          ]
         ],
         "hovertemplate": "\"Ticker: %{customdata[0]}\"<br>\"return: %{customdata[1]}\"",
         "legendgroup": "",
         "marker": {
          "color": "red",
          "size": [
           7
          ],
          "sizemode": "area",
          "sizeref": 0.0175,
          "symbol": "diamond"
         },
         "mode": "markers",
         "name": "",
         "scene": "scene",
         "showlegend": false,
         "type": "scatter3d",
         "x": [
          -0.25957985898287483
         ],
         "y": [
          0.13860095511291212
         ],
         "z": [
          -0.12664804894486442
         ]
        }
       ],
       "layout": {
        "template": {
         "data": {
          "bar": [
           {
            "error_x": {
             "color": "#2a3f5f"
            },
            "error_y": {
             "color": "#2a3f5f"
            },
            "marker": {
             "line": {
              "color": "#E5ECF6",
              "width": 0.5
             },
             "pattern": {
              "fillmode": "overlay",
              "size": 10,
              "solidity": 0.2
             }
            },
            "type": "bar"
           }
          ],
          "barpolar": [
           {
            "marker": {
             "line": {
              "color": "#E5ECF6",
              "width": 0.5
             },
             "pattern": {
              "fillmode": "overlay",
              "size": 10,
              "solidity": 0.2
             }
            },
            "type": "barpolar"
           }
          ],
          "carpet": [
           {
            "aaxis": {
             "endlinecolor": "#2a3f5f",
             "gridcolor": "white",
             "linecolor": "white",
             "minorgridcolor": "white",
             "startlinecolor": "#2a3f5f"
            },
            "baxis": {
             "endlinecolor": "#2a3f5f",
             "gridcolor": "white",
             "linecolor": "white",
             "minorgridcolor": "white",
             "startlinecolor": "#2a3f5f"
            },
            "type": "carpet"
           }
          ],
          "choropleth": [
           {
            "colorbar": {
             "outlinewidth": 0,
             "ticks": ""
            },
            "type": "choropleth"
           }
          ],
          "contour": [
           {
            "colorbar": {
             "outlinewidth": 0,
             "ticks": ""
            },
            "colorscale": [
             [
              0,
              "#0d0887"
             ],
             [
              0.1111111111111111,
              "#46039f"
             ],
             [
              0.2222222222222222,
              "#7201a8"
             ],
             [
              0.3333333333333333,
              "#9c179e"
             ],
             [
              0.4444444444444444,
              "#bd3786"
             ],
             [
              0.5555555555555556,
              "#d8576b"
             ],
             [
              0.6666666666666666,
              "#ed7953"
             ],
             [
              0.7777777777777778,
              "#fb9f3a"
             ],
             [
              0.8888888888888888,
              "#fdca26"
             ],
             [
              1,
              "#f0f921"
             ]
            ],
            "type": "contour"
           }
          ],
          "contourcarpet": [
           {
            "colorbar": {
             "outlinewidth": 0,
             "ticks": ""
            },
            "type": "contourcarpet"
           }
          ],
          "heatmap": [
           {
            "colorbar": {
             "outlinewidth": 0,
             "ticks": ""
            },
            "colorscale": [
             [
              0,
              "#0d0887"
             ],
             [
              0.1111111111111111,
              "#46039f"
             ],
             [
              0.2222222222222222,
              "#7201a8"
             ],
             [
              0.3333333333333333,
              "#9c179e"
             ],
             [
              0.4444444444444444,
              "#bd3786"
             ],
             [
              0.5555555555555556,
              "#d8576b"
             ],
             [
              0.6666666666666666,
              "#ed7953"
             ],
             [
              0.7777777777777778,
              "#fb9f3a"
             ],
             [
              0.8888888888888888,
              "#fdca26"
             ],
             [
              1,
              "#f0f921"
             ]
            ],
            "type": "heatmap"
           }
          ],
          "heatmapgl": [
           {
            "colorbar": {
             "outlinewidth": 0,
             "ticks": ""
            },
            "colorscale": [
             [
              0,
              "#0d0887"
             ],
             [
              0.1111111111111111,
              "#46039f"
             ],
             [
              0.2222222222222222,
              "#7201a8"
             ],
             [
              0.3333333333333333,
              "#9c179e"
             ],
             [
              0.4444444444444444,
              "#bd3786"
             ],
             [
              0.5555555555555556,
              "#d8576b"
             ],
             [
              0.6666666666666666,
              "#ed7953"
             ],
             [
              0.7777777777777778,
              "#fb9f3a"
             ],
             [
              0.8888888888888888,
              "#fdca26"
             ],
             [
              1,
              "#f0f921"
             ]
            ],
            "type": "heatmapgl"
           }
          ],
          "histogram": [
           {
            "marker": {
             "pattern": {
              "fillmode": "overlay",
              "size": 10,
              "solidity": 0.2
             }
            },
            "type": "histogram"
           }
          ],
          "histogram2d": [
           {
            "colorbar": {
             "outlinewidth": 0,
             "ticks": ""
            },
            "colorscale": [
             [
              0,
              "#0d0887"
             ],
             [
              0.1111111111111111,
              "#46039f"
             ],
             [
              0.2222222222222222,
              "#7201a8"
             ],
             [
              0.3333333333333333,
              "#9c179e"
             ],
             [
              0.4444444444444444,
              "#bd3786"
             ],
             [
              0.5555555555555556,
              "#d8576b"
             ],
             [
              0.6666666666666666,
              "#ed7953"
             ],
             [
              0.7777777777777778,
              "#fb9f3a"
             ],
             [
              0.8888888888888888,
              "#fdca26"
             ],
             [
              1,
              "#f0f921"
             ]
            ],
            "type": "histogram2d"
           }
          ],
          "histogram2dcontour": [
           {
            "colorbar": {
             "outlinewidth": 0,
             "ticks": ""
            },
            "colorscale": [
             [
              0,
              "#0d0887"
             ],
             [
              0.1111111111111111,
              "#46039f"
             ],
             [
              0.2222222222222222,
              "#7201a8"
             ],
             [
              0.3333333333333333,
              "#9c179e"
             ],
             [
              0.4444444444444444,
              "#bd3786"
             ],
             [
              0.5555555555555556,
              "#d8576b"
             ],
             [
              0.6666666666666666,
              "#ed7953"
             ],
             [
              0.7777777777777778,
              "#fb9f3a"
             ],
             [
              0.8888888888888888,
              "#fdca26"
             ],
             [
              1,
              "#f0f921"
             ]
            ],
            "type": "histogram2dcontour"
           }
          ],
          "mesh3d": [
           {
            "colorbar": {
             "outlinewidth": 0,
             "ticks": ""
            },
            "type": "mesh3d"
           }
          ],
          "parcoords": [
           {
            "line": {
             "colorbar": {
              "outlinewidth": 0,
              "ticks": ""
             }
            },
            "type": "parcoords"
           }
          ],
          "pie": [
           {
            "automargin": true,
            "type": "pie"
           }
          ],
          "scatter": [
           {
            "fillpattern": {
             "fillmode": "overlay",
             "size": 10,
             "solidity": 0.2
            },
            "type": "scatter"
           }
          ],
          "scatter3d": [
           {
            "line": {
             "colorbar": {
              "outlinewidth": 0,
              "ticks": ""
             }
            },
            "marker": {
             "colorbar": {
              "outlinewidth": 0,
              "ticks": ""
             }
            },
            "type": "scatter3d"
           }
          ],
          "scattercarpet": [
           {
            "marker": {
             "colorbar": {
              "outlinewidth": 0,
              "ticks": ""
             }
            },
            "type": "scattercarpet"
           }
          ],
          "scattergeo": [
           {
            "marker": {
             "colorbar": {
              "outlinewidth": 0,
              "ticks": ""
             }
            },
            "type": "scattergeo"
           }
          ],
          "scattergl": [
           {
            "marker": {
             "colorbar": {
              "outlinewidth": 0,
              "ticks": ""
             }
            },
            "type": "scattergl"
           }
          ],
          "scattermapbox": [
           {
            "marker": {
             "colorbar": {
              "outlinewidth": 0,
              "ticks": ""
             }
            },
            "type": "scattermapbox"
           }
          ],
          "scatterpolar": [
           {
            "marker": {
             "colorbar": {
              "outlinewidth": 0,
              "ticks": ""
             }
            },
            "type": "scatterpolar"
           }
          ],
          "scatterpolargl": [
           {
            "marker": {
             "colorbar": {
              "outlinewidth": 0,
              "ticks": ""
             }
            },
            "type": "scatterpolargl"
           }
          ],
          "scatterternary": [
           {
            "marker": {
             "colorbar": {
              "outlinewidth": 0,
              "ticks": ""
             }
            },
            "type": "scatterternary"
           }
          ],
          "surface": [
           {
            "colorbar": {
             "outlinewidth": 0,
             "ticks": ""
            },
            "colorscale": [
             [
              0,
              "#0d0887"
             ],
             [
              0.1111111111111111,
              "#46039f"
             ],
             [
              0.2222222222222222,
              "#7201a8"
             ],
             [
              0.3333333333333333,
              "#9c179e"
             ],
             [
              0.4444444444444444,
              "#bd3786"
             ],
             [
              0.5555555555555556,
              "#d8576b"
             ],
             [
              0.6666666666666666,
              "#ed7953"
             ],
             [
              0.7777777777777778,
              "#fb9f3a"
             ],
             [
              0.8888888888888888,
              "#fdca26"
             ],
             [
              1,
              "#f0f921"
             ]
            ],
            "type": "surface"
           }
          ],
          "table": [
           {
            "cells": {
             "fill": {
              "color": "#EBF0F8"
             },
             "line": {
              "color": "white"
             }
            },
            "header": {
             "fill": {
              "color": "#C8D4E3"
             },
             "line": {
              "color": "white"
             }
            },
            "type": "table"
           }
          ]
         },
         "layout": {
          "annotationdefaults": {
           "arrowcolor": "#2a3f5f",
           "arrowhead": 0,
           "arrowwidth": 1
          },
          "autotypenumbers": "strict",
          "coloraxis": {
           "colorbar": {
            "outlinewidth": 0,
            "ticks": ""
           }
          },
          "colorscale": {
           "diverging": [
            [
             0,
             "#8e0152"
            ],
            [
             0.1,
             "#c51b7d"
            ],
            [
             0.2,
             "#de77ae"
            ],
            [
             0.3,
             "#f1b6da"
            ],
            [
             0.4,
             "#fde0ef"
            ],
            [
             0.5,
             "#f7f7f7"
            ],
            [
             0.6,
             "#e6f5d0"
            ],
            [
             0.7,
             "#b8e186"
            ],
            [
             0.8,
             "#7fbc41"
            ],
            [
             0.9,
             "#4d9221"
            ],
            [
             1,
             "#276419"
            ]
           ],
           "sequential": [
            [
             0,
             "#0d0887"
            ],
            [
             0.1111111111111111,
             "#46039f"
            ],
            [
             0.2222222222222222,
             "#7201a8"
            ],
            [
             0.3333333333333333,
             "#9c179e"
            ],
            [
             0.4444444444444444,
             "#bd3786"
            ],
            [
             0.5555555555555556,
             "#d8576b"
            ],
            [
             0.6666666666666666,
             "#ed7953"
            ],
            [
             0.7777777777777778,
             "#fb9f3a"
            ],
            [
             0.8888888888888888,
             "#fdca26"
            ],
            [
             1,
             "#f0f921"
            ]
           ],
           "sequentialminus": [
            [
             0,
             "#0d0887"
            ],
            [
             0.1111111111111111,
             "#46039f"
            ],
            [
             0.2222222222222222,
             "#7201a8"
            ],
            [
             0.3333333333333333,
             "#9c179e"
            ],
            [
             0.4444444444444444,
             "#bd3786"
            ],
            [
             0.5555555555555556,
             "#d8576b"
            ],
            [
             0.6666666666666666,
             "#ed7953"
            ],
            [
             0.7777777777777778,
             "#fb9f3a"
            ],
            [
             0.8888888888888888,
             "#fdca26"
            ],
            [
             1,
             "#f0f921"
            ]
           ]
          },
          "colorway": [
           "#636efa",
           "#EF553B",
           "#00cc96",
           "#ab63fa",
           "#FFA15A",
           "#19d3f3",
           "#FF6692",
           "#B6E880",
           "#FF97FF",
           "#FECB52"
          ],
          "font": {
           "color": "#2a3f5f"
          },
          "geo": {
           "bgcolor": "white",
           "lakecolor": "white",
           "landcolor": "#E5ECF6",
           "showlakes": true,
           "showland": true,
           "subunitcolor": "white"
          },
          "hoverlabel": {
           "align": "left"
          },
          "hovermode": "closest",
          "mapbox": {
           "style": "light"
          },
          "paper_bgcolor": "white",
          "plot_bgcolor": "#E5ECF6",
          "polar": {
           "angularaxis": {
            "gridcolor": "white",
            "linecolor": "white",
            "ticks": ""
           },
           "bgcolor": "#E5ECF6",
           "radialaxis": {
            "gridcolor": "white",
            "linecolor": "white",
            "ticks": ""
           }
          },
          "scene": {
           "xaxis": {
            "backgroundcolor": "#E5ECF6",
            "gridcolor": "white",
            "gridwidth": 2,
            "linecolor": "white",
            "showbackground": true,
            "ticks": "",
            "zerolinecolor": "white"
           },
           "yaxis": {
            "backgroundcolor": "#E5ECF6",
            "gridcolor": "white",
            "gridwidth": 2,
            "linecolor": "white",
            "showbackground": true,
            "ticks": "",
            "zerolinecolor": "white"
           },
           "zaxis": {
            "backgroundcolor": "#E5ECF6",
            "gridcolor": "white",
            "gridwidth": 2,
            "linecolor": "white",
            "showbackground": true,
            "ticks": "",
            "zerolinecolor": "white"
           }
          },
          "shapedefaults": {
           "line": {
            "color": "#2a3f5f"
           }
          },
          "ternary": {
           "aaxis": {
            "gridcolor": "white",
            "linecolor": "white",
            "ticks": ""
           },
           "baxis": {
            "gridcolor": "white",
            "linecolor": "white",
            "ticks": ""
           },
           "bgcolor": "#E5ECF6",
           "caxis": {
            "gridcolor": "white",
            "linecolor": "white",
            "ticks": ""
           }
          },
          "title": {
           "x": 0.05
          },
          "xaxis": {
           "automargin": true,
           "gridcolor": "white",
           "linecolor": "white",
           "ticks": "",
           "title": {
            "standoff": 15
           },
           "zerolinecolor": "white",
           "zerolinewidth": 2
          },
          "yaxis": {
           "automargin": true,
           "gridcolor": "white",
           "linecolor": "white",
           "ticks": "",
           "title": {
            "standoff": 15
           },
           "zerolinecolor": "white",
           "zerolinewidth": 2
          }
         }
        }
       }
      },
      "text/html": [
       "<div>                            <div id=\"6533c319-6279-4cdd-a7ca-cfb104ea3fe3\" class=\"plotly-graph-div\" style=\"height:525px; width:100%;\"></div>            <script type=\"text/javascript\">                require([\"plotly\"], function(Plotly) {                    window.PLOTLYENV=window.PLOTLYENV || {};                                    if (document.getElementById(\"6533c319-6279-4cdd-a7ca-cfb104ea3fe3\")) {                    Plotly.newPlot(                        \"6533c319-6279-4cdd-a7ca-cfb104ea3fe3\",                        [{\"customdata\":[[\"A\",-0.7366818589894408],[\"ABT\",-0.5197285139178387],[\"ALGN\",1.1725787871388338],[\"AMGN\",-0.5549760510901169],[\"BAX\",0.6781450714205661],[\"BDX\",-0.4957735422907117],[\"BIIB\",-0.09804361502856462],[\"BIO\",0.2400012098981108],[\"BMY\",-0.9400387289818735],[\"BSX\",0.14872323216994499],[\"CAH\",0.2578909714930244],[\"CI\",-0.19957189952959364],[\"CNC\",-1.0532627779025971],[\"COO\",-1.104952495497935],[\"COR\",1.0123789517916704],[\"CRL\",0.7233674901025555],[\"CVS\",0.5368113937674446],[\"DGX\",1.128680076226285],[\"DHR\",-0.6262912944881904],[\"DVA\",-1.7427100470290502],[\"DXCM\",2.333125263463076],[\"ELV\",-0.2625906729503358],[\"EW\",-2.3261257570707183],[\"GILD\",0.9401150198226071],[\"HOLX\",-0.72936692240132],[\"HSIC\",-0.584209900513033],[\"HUM\",-0.9898802779566895],[\"IDXX\",-0.20033067786144887],[\"ILMN\",2.2359877410391027],[\"INCY\",-1.6073321763039772],[\"ISRG\",0.1906160016874825],[\"JNJ\",-0.5828812482894241],[\"LH\",-0.209040693399265],[\"LLY\",-1.2333971990038273],[\"MCK\",0.19036820739382065],[\"MDT\",-1.563790714074631],[\"MOH\",-1.6090572518846935],[\"MRK\",0.058026030111224536],[\"MTD\",-1.1267476375422247],[\"PFE\",0.14732870111116014],[\"PODD\",1.4472731449671539],[\"REGN\",-0.4295222736646176],[\"RMD\",-2.5321818156375797],[\"RVTY\",-1.2619041200460313],[\"STE\",0.02791343058978768],[\"SYK\",0.03214765460906044],[\"TECH\",0.8356886043066503],[\"TFX\",0.05564591481967973],[\"TMO\",-0.872350300374447],[\"UHS\",-0.8594182632120306],[\"UNH\",-0.19945490519168718],[\"VRTX\",3.284155425992452],[\"VTRS\",0.1299231091868025],[\"WAT\",-0.31361790233679354],[\"WST\",-0.08179641529739712],[\"XRAY\",0.430958346475796],[\"ZBH\",-0.4460340252448569]],\"hovertemplate\":\"\\\"Ticker: %{customdata[0]}\\\"\\u003cbr\\u003e\\\"return: %{customdata[1]}\\\"\",\"legendgroup\":\"Health Care\",\"marker\":{\"color\":\"#636efa\",\"size\":5,\"symbol\":\"circle\"},\"mode\":\"markers\",\"name\":\"Health Care\",\"scene\":\"scene\",\"showlegend\":true,\"x\":[0.2616633560851237,0.07780555099125952,0.1817808869103543,0.1197149019747245,-0.13535289239913573,-0.13925682935280934,0.3302399283086065,-0.15076958150133604,-0.10135553311693858,-0.09699450273440291,-0.15945822513537602,-0.0018852028724956683,0.3232528123474883,-0.12380743392168274,-0.15913538132864882,0.08250326185446055,-0.232829102259974,-0.21169444393197473,-0.20098650864208376,-0.19190339588048186,0.46203756015745717,0.021980511121992556,0.0521810097195405,0.10047551820671777,-0.11343428929950311,-0.15151247611658794,0.2545926889408527,-0.154592731057196,0.47204684236435707,0.7006678186708667,-0.13260375186241877,-0.19538578226377684,-0.23413063690667205,-0.06383332129580296,-0.06167538182195902,-0.1679429943337,0.44371381064483045,-0.1956508007804984,-0.10969520685261981,-0.1872667438986314,0.2854515395001466,0.527040325694922,-0.2558617340509603,-0.13215089642518496,-0.22559482770524636,-0.1885755322948393,-0.19254261856790073,-0.16976826345607224,-0.11551065982367113,-0.029403281949142095,0.02413824804083906,0.6354252629881584,0.007295305960988752,-0.16726539785681577,-0.20473720966472225,-0.20095732147644021,-0.18048199409736534],\"y\":[-0.1933816941884787,0.382682876361477,-0.10019548891717996,0.21317646974879814,-0.028932099766499356,0.049429041449682395,0.22629430550383198,0.049545195849106154,0.26957667772028426,0.0377937341045683,-0.05585695452919053,-0.14878523114925413,-0.018899164858212605,-0.03663135078751589,0.13505141370513785,-0.13068502660408088,0.16042082981084982,0.16406932170272193,-0.10509791390233823,0.026503076070458355,0.10506991655331911,0.0907006597632623,0.12440903891484102,0.21411010820951526,-0.1831070680982566,0.025313127141377026,0.2297266872085022,0.08943604576979979,0.14180057077404112,0.09594004318945491,0.02177989678994583,0.19558567849543143,0.1531621865582127,0.149488539346813,-0.0008770155053206714,0.05014189448888684,-0.024259758719812567,0.20647268751298717,-0.20826064355364773,0.14811512113547048,0.2156227760184566,0.1436374765284884,-0.014934757518584163,-0.18807283255786159,-0.09382001013837002,-0.05398351245476218,0.00933745899785877,-0.026247344486655458,-0.15396001653294622,-0.18578643547373233,0.008934481165275763,0.07234121229364199,0.017919592012458654,-0.15690382323000152,-0.010797044727409848,-0.1320058457626645,-0.07676723935463002],\"z\":[-0.04250357082487922,-0.12940872197518488,-0.15362128140951092,0.04750190623956411,0.14393807800867722,0.11857415565328927,0.10840194353898548,-0.1192606009399131,-0.0020144492170260995,-0.26675907140094396,0.23384061019873378,0.11557237362126997,-0.03988818088418961,0.038711225756355425,0.16856264459684944,0.07439727703923213,-0.018378115329081932,0.05807443640122978,-0.08564457091203634,0.07951090047764305,-0.0910764859531084,0.01989529841165761,0.045334600038298756,-0.24388957356307323,0.03277066589658966,0.00777073718694233,0.06926381414157451,-0.028696620565029606,-0.11214620249788142,0.038450084333876866,-0.10477942588163816,0.14094018726540025,-0.002151022034240507,0.2967317584428906,0.24839921726041983,-0.02494913296111011,0.112094512252216,0.1066189407228646,-0.2860333337686367,0.11499031600403332,-0.21494389838390932,-0.04120499823319795,-0.03381541693483475,-0.06856461193961563,-0.15993554516720304,0.051082796889588895,-0.06024275787916911,0.05541757680973934,-0.0673933133557671,0.16898234564998116,0.09573589591662827,-0.015286785598537106,0.19917929754650032,-0.10366709845092867,-0.052385610237277766,-0.027075453522176975,0.07843021213102552],\"type\":\"scatter3d\"},{\"customdata\":[[\"AAL\",4.000051632380774],[\"ADP\",1.0800827222374743],[\"AME\",0.06878405167134449],[\"AOS\",1.7684655332356858],[\"AXON\",1.7863539589176858],[\"BA\",0.28696418727696127],[\"BLDR\",-0.5197285139178387],[\"BR\",-0.3838399983808083],[\"CAT\",0.3446162697971822],[\"CHRW\",-1.2283142570748473],[\"CMI\",0.7257672796354253],[\"CPRT\",-0.4129169926563314],[\"CSX\",0.21407912124775663],[\"CTAS\",0.6729291850832597],[\"DAL\",3.071620072875225],[\"DE\",0.9497852408381302],[\"DOV\",-1.5062797761784208],[\"EFX\",0.48503625771296743],[\"EMR\",0.7192270236543674],[\"ETN\",0.18750157802387424],[\"EXPD\",-0.9034950829863053],[\"FAST\",-0.08506836580703947],[\"FDX\",0.2856904925913506],[\"GD\",-0.06447450029227753],[\"GE\",-0.3585529516086483],[\"GNRC\",0.6052770039633559],[\"GWW\",-0.9147686594435323],[\"HON\",1.144471481793441],[\"HUBB\",-0.403759334768794],[\"IEX\",-0.7524751875633617],[\"ITW\",-0.02027331138012567],[\"J\",-1.7143527707125905],[\"JBHT\",-0.3985236545178905],[\"JCI\",-0.42613692788895374],[\"LDOS\",0.1068626678515594],[\"LHX\",0.3825488779183983],[\"LMT\",1.7701249376427475],[\"LUV\",-0.5947897464123386],[\"MAS\",2.3373463457168953],[\"MMM\",-0.5197285139178387],[\"NDSN\",-0.11245595366269345],[\"NOC\",0.00044748386265336393],[\"NSC\",0.0008414202658846293],[\"ODFL\",-0.6736323997330484],[\"PAYX\",2.049399568162502],[\"PCAR\",0.3554744761187445],[\"PH\",-0.3710526969441741],[\"PNR\",-0.46484722448969507],[\"PWR\",-0.7592123681038565],[\"RHI\",3.2241192676449426],[\"ROK\",-0.24819136716676127],[\"ROL\",1.2936755871897354],[\"RSG\",-1.5561467854524613],[\"RTX\",-0.3806740632545935],[\"SNA\",-1.54851442925672],[\"SWK\",-1.3308094891579247],[\"TDG\",1.2285285656079559],[\"TT\",0.0760869829335542],[\"TXT\",1.7539802203994093],[\"UAL\",-1.2247825692823455],[\"UNP\",-0.6486798888925449],[\"UPS\",-0.36863747808730807],[\"URI\",2.8149991543440223],[\"VRSK\",-0.3738374902692687],[\"WAB\",0.8019217946413804],[\"WM\",-0.5743710832114557]],\"hovertemplate\":\"\\\"Ticker: %{customdata[0]}\\\"\\u003cbr\\u003e\\\"return: %{customdata[1]}\\\"\",\"legendgroup\":\"Industrials\",\"marker\":{\"color\":\"#EF553B\",\"size\":5,\"symbol\":\"circle\"},\"mode\":\"markers\",\"name\":\"Industrials\",\"scene\":\"scene\",\"showlegend\":true,\"x\":[0.5673378475518964,-0.00980925355210814,-0.10366009539018319,-0.11757141162336711,0.5806998283756799,-0.1930988200137746,0.712789000344446,-0.28081391541361306,-0.13787990838230388,-0.1838393871828378,0.13747288413666395,-0.21494738070061087,-0.08900113863171798,-0.1256874973816458,0.4528515122086559,-0.19669626048038247,-0.10256904370815607,-0.18369531836118114,-0.11124048017561154,0.03164234174148199,-0.12375569742218837,-0.3091570377591567,-0.13629853900251093,-0.2290676326378802,-0.13826282721015679,0.3246178971314474,-0.21704717591394918,-0.07693616528032364,-0.17035403710664584,-0.10731169716353547,-0.09317157061394797,-0.025107743356887098,-0.23379782707819355,-0.13442964265748,-0.21881457931161086,-0.2065794271829005,-0.20611442941450844,0.1407672814675222,0.26278314120088436,-0.16070219585478,-0.08367291212757953,-0.2137356346019282,0.006926914742439311,-0.11078670666407543,-0.23195063085848172,-0.08115078296661214,-0.020375256937870238,-0.09529853364405917,-0.056912048953204106,-0.08062360699394855,0.02477974111427406,-0.25065011060574843,-0.24986945927629228,-0.15948236808519275,-0.11422173176270202,-0.12358023359124586,-0.21486020928909053,-0.023595431417240888,0.013879258629897027,0.5406139530257351,-0.050085087534817815,-0.2074097288107644,0.7426951799250251,-0.25159822480055416,-0.05627038682079844,-0.24959992779668835],\"y\":[0.31286319683429853,0.22477807371322528,-0.2913708153146767,-0.3470514176512619,0.13457203875016982,-0.07202361818334305,0.025724154522395785,0.09318423072890725,-0.2848925916050896,-0.0014480999080983632,-0.4729138653107382,0.06937493063291816,-0.2581140244594688,-0.000565174815090441,0.18353082633073137,-0.1523961496017097,-0.3313593255138539,-0.08829534359161974,-0.2999951931413786,-0.422993498781764,-0.1731347899282009,-0.1515270387216036,-0.2441706781926822,-0.018027237413779786,-0.17221864945380574,-0.12100668381377014,-0.13214454589803468,-0.2517514683857274,-0.3079612451212556,-0.3736711051868387,-0.26085920526871154,-0.4351597977095624,-0.11685626303070192,-0.19526801710838862,-0.07955057635807113,-0.23737313229742982,0.06568420874493876,0.13046061481113924,-0.0038615904249359855,-0.1425661701748934,-0.41096128700710155,0.011876717920207613,-0.20380386770613387,-0.3863540017324218,0.08363575341436001,-0.3769788198320193,-0.46114620094161635,-0.3417028951462722,-0.35769691758582817,-0.4026101380817371,-0.44445373949415673,-0.11426955017092875,0.1494919664677839,-0.19874941867197032,-0.2990724491502217,-0.2975300344560432,-0.14132930265748944,-0.48175831284231774,-0.41325513642955897,0.136799181939867,-0.18846062560654792,0.02624945504903001,-0.16776254123258055,0.1295157947264998,-0.42004906085177807,0.14750455848857347],\"z\":[-0.07223236797234206,-0.15159267844201163,0.059255971416542486,-0.07541530582760518,-0.07268710314803574,0.08859569395854412,-0.03758027567811918,-0.09693156703727501,0.14622400321603768,0.139814835558335,-0.0013995313306943505,-0.24110270909279452,0.259233034337401,-0.09716572027375098,-0.22790416495796578,0.027122895726847746,0.1976857278426107,0.014917874692062849,0.20503240411333645,0.2274517048067178,-0.014068207913599693,0.10819161171820575,0.04073356232838015,0.08631266129540492,0.14655764370554594,0.30422546842091674,0.09687968133485106,0.08342616406204627,0.13462455486953984,0.03483109567927285,0.09874556698958788,0.082894924756001,0.06322437753463578,0.060753560750078296,0.02656900703395193,-0.006212757671998261,0.16233754979526538,-0.11085167339438173,-0.5580707427847039,0.13139728698194095,0.06621101228886814,0.08500633798566323,0.3937314078734102,0.11514639234902097,-0.028016015331226763,0.06939543766895749,0.14269468129251545,0.11860146398510427,0.19027213503706975,0.07292767454141652,0.12676493894195276,0.027148244255145185,0.04750362218386083,0.16954293191945674,0.0043389609417156935,-0.04519041139882598,0.11048799639401839,0.15777929731810578,-0.11440995146129132,-0.10901940004264951,0.27225482883218943,0.10599754325083598,0.18147910480861648,0.09938196209852164,0.24332677360283925,0.0945118700110761],\"type\":\"scatter3d\"},{\"customdata\":[[\"AAPL\",0.29828598982328813],[\"ACN\",-0.4990103097512133],[\"ADBE\",1.733527552930747],[\"ADI\",-0.3065038262078712],[\"ADSK\",6.513759638243921],[\"AKAM\",3.1077621662117583],[\"AMAT\",-2.022944770526358],[\"AMD\",1.076615640483003],[\"ANSS\",1.1233754368738857],[\"APH\",-1.3219961129611102],[\"AVGO\",-0.5554251365740726],[\"CDNS\",-0.5197285139178387],[\"CRM\",4.277967992607823],[\"CSCO\",0.6985736030097112],[\"CTSH\",2.2175925099932936],[\"FFIV\",3.432710096234959],[\"FICO\",-0.47634410168884145],[\"FSLR\",-0.1536432453063563],[\"FTNT\",3.8554535640408893],[\"GEN\",2.16093330847813],[\"GLW\",-0.9916846219373165],[\"HPQ\",0.7866838731585224],[\"IBM\",-0.9193481321012831],[\"INTC\",-1.5126082348351],[\"INTU\",-1.6355812015904525],[\"IT\",0.8899931973960884],[\"JBL\",1.691810624863166],[\"JNPR\",1.4178320765032337],[\"KLAC\",-2.027038094565714],[\"LRCX\",-4.871102628542278],[\"MCHP\",-0.2317336624425348],[\"MPWR\",0.11437912553564633],[\"MSFT\",-0.8401279191597277],[\"MSI\",-0.3688315919867291],[\"MU\",0.6651056365418295],[\"NTAP\",0.3342314054253226],[\"NVDA\",7.153071103677222],[\"NXPI\",5.7046849101825],[\"ON\",0.06678587808166547],[\"ORCL\",-1.9174420811216675],[\"PTC\",1.5571660425696354],[\"QCOM\",1.5599316956423692],[\"ROP\",0.03414504061176604],[\"SNPS\",-0.7432734677229047],[\"STX\",-1.0610637893917474],[\"SWKS\",1.4039820542253612],[\"TDY\",0.8544562545861556],[\"TEL\",-1.3929625617013053],[\"TER\",-2.1973524145882495],[\"TRMB\",0.10511530134782454],[\"TXN\",-0.12178887183900144],[\"TYL\",-0.6174731439760883],[\"VRSN\",0.35376889080689367],[\"WDC\",-1.1259551544016144],[\"ZBRA\",-0.6254391782044233]],\"hovertemplate\":\"\\\"Ticker: %{customdata[0]}\\\"\\u003cbr\\u003e\\\"return: %{customdata[1]}\\\"\",\"legendgroup\":\"Information Technology\",\"marker\":{\"color\":\"#00cc96\",\"size\":5,\"symbol\":\"circle\"},\"mode\":\"markers\",\"name\":\"Information Technology\",\"scene\":\"scene\",\"showlegend\":true,\"x\":[-0.0003519618041031662,-0.11794506560920413,0.006599629155665589,-0.08713023829960645,0.4215006384180727,0.13126939148605746,-0.054722817123779716,0.5608792701656363,-0.17017431888072446,0.22159246929951065,0.3481923249469881,-0.1957240209668017,0.27716738770432225,-0.28399781283343783,-0.2196413860185414,0.1601737694412715,-0.18871183365791389,0.7427099824157419,0.18494964705153785,-0.21104827054144645,-0.1031107880337511,-0.002061086274474226,-0.2395380684660462,-0.17797873267070746,-0.20204921024807135,-0.27771596239756563,0.09263414188419093,0.03441443322966356,0.021898792984771986,0.059235044950155344,-0.10172094542759229,0.03413782429625433,-0.25957985898287483,-0.2557011141951038,0.6284092718481338,-0.1396862028047979,0.15829588239694456,0.6355450146729122,0.31946929080507325,-0.21145846896759257,-0.060544337161960074,-0.22060901054201523,-0.1761030315094466,-0.24342758246712137,0.26929651860361586,0.4614926518545464,-0.21283157679759468,-0.14681506831826213,0.14645758170122092,-0.0756049281909286,-0.034035876846701174,-0.166090699020734,-0.26079484594289054,0.09073773516143584,-0.052487910011597125],\"y\":[0.1900397419607075,0.028683540441866807,0.1148621074326867,-0.11147233416095405,-0.23660783823715834,-0.018960656468506698,-0.26070483975065234,0.2185176905171779,-0.04270659185341195,0.10524900943033547,0.008139549859740657,-0.10355824879642828,0.11392565200457369,0.05280515760710613,-0.14457267221103268,0.034967663934261956,-0.25842569724016107,0.17476671412971473,0.0685567591874122,-0.11146507753171013,-0.2624506267571505,-0.1607089307525866,0.014772112663865716,-0.022391311922377356,0.09433009009218815,-0.016916212018055158,-0.35483490329863754,-0.0374305782874628,-0.12789640842712727,-0.22283083173794863,-0.1582331661809912,-0.29541836701608015,0.13860095511291212,0.05699029480045887,0.026262823357357256,-0.14204849738597544,-0.20620493625987554,0.017169664460442508,-0.0819300986645673,-0.10373399568758589,-0.2128454919712577,0.08346739721889311,-0.22746106674548305,0.020432153257639474,-0.0767340758817103,-0.05964511483148432,-0.299435814886407,-0.3571568843984488,-0.42072440342829576,-0.3510845481128469,-0.17299896692307754,0.05311110080245452,-0.021021231838137075,-0.21707222702858217,-0.109039387841092],\"z\":[-0.09554732200057617,-0.08316136718847167,-0.3095990316240144,0.03602963165140714,-0.0659927580984861,-0.13490516588763382,0.02445050928884645,0.00603887324412644,-0.2639587072947714,-0.4234086700731391,0.09509895028941391,-0.1811960801615415,-0.432256819269879,-0.11334794507152393,-0.1635598430411955,-0.4095820450913576,-0.163417707514758,-0.19108218527959245,-0.02989910481891238,0.014465658862433386,0.21653425492649875,0.2973616587540532,0.03174094306980323,-0.12220940721274612,-0.17056491250049766,-0.2374779068478286,-0.2715635421833751,-0.1890181677228203,0.03152437070326071,-0.0964434506418796,-0.07844902234982025,-0.17677637556326858,-0.12664804894486442,-0.0848725145530444,-0.17834110581488744,-0.007550980744863843,-0.05941602459492385,-0.23083994685462011,-0.0913412740416945,-0.15978634625464777,-0.3146425840207695,-0.08022826680631355,0.10937718088510329,-0.08383052378456182,0.1592773359743055,-0.1933955124084856,-0.040180300062771124,0.04863544265759387,0.05080215877974999,-0.12362577363641918,-0.02671502312608242,-0.32541254923121704,-0.006587772232639969,0.20359064719133135,0.12599045557964883],\"type\":\"scatter3d\"},{\"customdata\":[[\"ACGL\",-0.37189163478978937],[\"AFL\",-0.7144672890601278],[\"AIG\",6.824370660811208],[\"AIZ\",-0.12782607283507996],[\"AJG\",-0.4510039722385173],[\"ALL\",-0.6763945164896978],[\"AMP\",1.0920701295741297],[\"AON\",-0.49753388612847615],[\"AXP\",2.38180178747065],[\"BAC\",1.3061774869973952],[\"BEN\",-2.160375343927301],[\"BK\",2.940943073814317],[\"BLK\",0.5116308989368212],[\"BRO\",0.5694566995498196],[\"BX\",-0.5865465523915092],[\"C\",0.9088312750036298],[\"CB\",-0.8573155478212691],[\"CBOE\",-0.8136039847149723],[\"CINF\",-0.23891248211804772],[\"CMA\",-0.9348663354004749],[\"CME\",-2.295848571290837],[\"COF\",3.692741180739212],[\"DFS\",2.4340654114125115],[\"EG\",-1.4479855616049142],[\"FDS\",-0.3058457236450707],[\"FI\",0.31874118146446584],[\"FIS\",1.2333931609587179],[\"FITB\",1.0417500171050698],[\"FLT\",0.8812057179264476],[\"GL\",0.6257594916869946],[\"GPN\",0.15607067368077487],[\"GS\",0.011800442470732975],[\"HBAN\",-0.6588406774977962],[\"HIG\",0.9119068013299314],[\"ICE\",-0.7909532040251466],[\"IVZ\",-0.6016587943954099],[\"JKHY\",0.16285266462914283],[\"JPM\",0.7030864657798119],[\"KEY\",0.14991883758297408],[\"L\",0.294574138570769],[\"MA\",2.4261484258754296],[\"MCO\",2.032838372221457],[\"MET\",0.7675971356038591],[\"MKTX\",-0.21640633613644322],[\"MMC\",-0.6278558923720201],[\"MS\",0.7447568819517025],[\"MSCI\",0.8204861637419514],[\"MTB\",0.6642065134305097],[\"NDAQ\",-1.648480022699661],[\"NTRS\",0.46240910789960843],[\"PFG\",-0.36830259546538624],[\"PGR\",-0.12074985116954373],[\"PNC\",1.4099943091257172],[\"PRU\",-0.568898296717335],[\"RF\",2.0407110402677064],[\"RJF\",-0.303874040165808],[\"SCHW\",4.474450841962274],[\"SPGI\",1.271800361316422],[\"STT\",0.7655939978426396],[\"TFC\",2.402725260957883],[\"TROW\",0.8492834285133144],[\"TRV\",-1.1135922005287568],[\"USB\",-0.29551072479025997],[\"V\",1.5907903093296483],[\"WFC\",1.755160267361866],[\"WRB\",-0.9560715213740023],[\"WTW\",0.8687200946532414],[\"ZION\",0.04568153337587422]],\"hovertemplate\":\"\\\"Ticker: %{customdata[0]}\\\"\\u003cbr\\u003e\\\"return: %{customdata[1]}\\\"\",\"legendgroup\":\"Financials\",\"marker\":{\"color\":\"#ab63fa\",\"size\":5,\"symbol\":\"circle\"},\"mode\":\"markers\",\"name\":\"Financials\",\"scene\":\"scene\",\"showlegend\":true,\"x\":[-0.12359896702930981,0.17875483636239928,0.2514940484920262,0.07218743178801472,-0.1862401458466416,-0.15324650066436876,0.13167509748756004,-0.22337096963879238,-0.12183847656704025,0.3214850202733647,0.005406058744834637,-0.005581076358169472,-0.06292235725053204,-0.18102127603615062,0.2825119793207735,0.26620288322453894,-0.02947672012510779,-0.15745694253594628,-0.23298222480424025,-0.0428615504231775,-0.05311360328818356,-0.032881575951411,-0.04750465093787607,-0.23955166731367877,-0.24130387011490517,-0.15188240745642229,-0.1715355095767356,-0.001663519672692409,-0.24905522986483666,-0.20948865190343552,-0.26122142224064154,-0.029916760978763765,0.0628700082929381,0.11663958751040115,-0.15286918429851465,0.18794501688795182,-0.24349165749922075,0.10878030173108677,0.08395394814639054,-0.21263984921073198,-0.14144783388504523,-0.17071015774163262,0.07688331410986349,0.110971606591877,-0.194034320705597,0.4273678285610868,-0.203742433116711,-0.15391124830386294,-0.21910465346627217,-0.09988391519316336,0.07621599310460236,-0.2474136943009209,-0.027648538446881456,0.11842484585961974,0.27367968449780333,0.005481787274699302,0.06815044291812411,-0.17618646521030917,-0.021289795033922455,-0.02934635012832318,-0.09041245613262777,-0.22388081166581872,-0.11351580840063939,-0.2247430708241418,-0.06704336199897548,-0.21956789990891395,-0.2266948330438791,0.07898091131546443],\"y\":[0.1815457912584805,-0.15666928566841964,-0.4506078181889254,0.050570050419508364,0.0585502939586956,0.006305957413961185,-0.4039609595638819,0.04017664000519857,-0.17872183368986916,-0.3660901513475015,-0.39602430704944197,-0.38982728888620344,-0.251157959857466,-0.05719619051831855,-0.4664565991306732,-0.46658349110168923,0.14935012086968627,0.17233608268018466,-0.06263128546331101,-0.43512390629967596,0.1893988761998256,-0.3908806301126552,-0.26781222194910437,0.17569636722789328,0.03848739320955472,0.0339428732342223,-0.06349180640474539,-0.3492173348108837,-0.011269432713098675,-0.08034100575003501,0.0774328261908611,-0.3007091879434197,-0.3978854605876521,-0.3773539637423265,0.015778222146699685,-0.5270457240929552,-0.05025865683219413,-0.3919426199004523,-0.3737945196357922,-0.07151870282220091,-0.06662658401277997,-0.12047147314210022,-0.5545458716009967,0.14551111707621486,-0.020299299853355372,-0.3309446954449748,-0.11539522730287272,-0.07392379299119035,-0.07737040413690006,-0.20023490236481506,-0.42096081900809995,0.009467662325693026,-0.3065479180839516,-0.4118214474018554,-0.4655353217545932,-0.38550277391550203,-0.28367945085132384,-0.10770332952032045,-0.38339240125325663,-0.3119822613766981,-0.35732079983918175,0.0842642131041278,-0.22256176101235586,-0.0427063677779615,-0.30119270044093116,0.12992123875099887,0.09171213660002844,-0.4689523163634511],\"z\":[0.10220606396832133,-0.18617613797453886,-0.08591605272583293,-0.1612687013606989,-0.09551330244257647,-0.022841183238426523,-0.14753102180319108,-0.10277649821015956,0.05270511463721705,-0.15492406320053864,0.027209235690502452,-0.05494314999411624,-0.17456753613637166,0.011856403339917535,0.2760965806481906,0.006205274497581795,-0.11491151030939004,-0.11928825310289538,-0.002099132263443648,0.06649772283236025,-0.37854538743384153,0.14085229950938122,-0.01994845992876154,0.058021145017408744,-0.26560679272675863,-0.10176101619941133,-0.11917342650762858,-0.027651800721253107,-0.18904692809046328,-0.05886652746578759,-0.07558953940532247,-0.15103286327951176,-0.0945518294278682,-0.27528828945624095,-0.3063087776737088,0.011482598222167874,-0.07632450427611803,0.0026248601124274,-0.010364464170543422,0.015496863333735175,-0.2277388038298257,-0.3018125382784776,-0.024999773177941494,-0.38732540568376456,0.04851899156733031,-0.18656584795984124,-0.2600258211129308,-0.14573914405563004,-0.27765339000826156,-0.18034637377362592,-0.017713248151481877,0.021747069951607554,-0.008313833350440015,-0.17827371722037,-0.00040681217246096683,-0.26663028110833276,-0.34811549746646303,0.19943403145185518,-0.0604328147407616,0.08611967375152123,-0.05082331677657764,-0.03139375031890816,0.04940336162247203,-0.03945344776541861,0.028719950845949478,-0.014575100425189357,0.13573690824934043,-0.004431324000218272],\"type\":\"scatter3d\"},{\"customdata\":[[\"ADM\",-0.05889382460078085],[\"BG\",1.6505296349176302],[\"CAG\",-0.29886937374066225],[\"CHD\",-0.18696641804347713],[\"CL\",-1.1472324055162741],[\"CLX\",0.08123603268324064],[\"COST\",-2.3723842985599375],[\"CPB\",-0.20053443011900374],[\"DG\",-1.9604534485281544],[\"DLTR\",-5.379063124531269],[\"EL\",0.5569885767731098],[\"GIS\",2.086012298497142],[\"HRL\",-2.1574502276471286],[\"HSY\",0.01943145032810012],[\"K\",-0.948636193067709],[\"KDP\",1.5929438047869615],[\"KMB\",-0.1858693199843442],[\"KO\",-1.1146707859575833],[\"KR\",0.17157676989967285],[\"MDLZ\",-0.7412299955123491],[\"MKC\",-1.3226673928654398],[\"MNST\",-1.1508278164169772],[\"MO\",-0.15072780336939928],[\"PEP\",1.2843220588915072],[\"PG\",-0.7506997900198487],[\"PM\",-0.8094180866873191],[\"SJM\",-0.5829450301881534],[\"STZ\",-0.007420743030372989],[\"SYY\",0.39866249568956125],[\"TAP\",-1.215871321427331],[\"TGT\",-2.2700131075254038],[\"TSN\",0.7110068523908497],[\"WBA\",0.8674309458131857],[\"WMT\",-1.177018373187666]],\"hovertemplate\":\"\\\"Ticker: %{customdata[0]}\\\"\\u003cbr\\u003e\\\"return: %{customdata[1]}\\\"\",\"legendgroup\":\"Consumer Staples\",\"marker\":{\"color\":\"#FFA15A\",\"size\":5,\"symbol\":\"circle\"},\"mode\":\"markers\",\"name\":\"Consumer Staples\",\"scene\":\"scene\",\"showlegend\":true,\"x\":[-0.02480984386584729,-0.09611715924706664,-0.14875788219643254,-0.19425332982379173,-0.1751151151979434,-0.1435737880243362,-0.26795570417377573,-0.19293265561348902,-0.033140383654333895,-0.017587406684092092,-0.2545750634737648,-0.19900264826143418,-0.22478843313360905,-0.2810135798971405,-0.1918453774723562,-0.1769356366143708,-0.21773616296943366,-0.21324195747336178,-0.24748412064201322,-0.20020210241446182,-0.22238893455792857,-0.07211756805383306,-0.20811482747383037,-0.2316263207690497,-0.20405070880212006,-0.23408508550655785,-0.2719097441219082,-0.2713398437276614,-0.2531502968822729,-0.18349160289625596,-0.2554511054653732,-0.22067014441478988,-0.14453494200241754,-0.22227288376735596],\"y\":[0.08555074803494468,0.03137856164431573,0.16642235981974918,0.2868548760319216,0.35274164566411614,0.2802380930704953,0.2567808923178908,0.2958690288098309,0.44247735133833926,0.433030277256516,-0.005477357212498936,0.382279679950722,0.21224458352062145,0.33487908571565816,0.40044922100425906,0.37995922697363527,0.33213065906137085,0.2530398332368103,0.3918341164597638,0.31920007330472217,0.18400746675238203,0.21509405938211493,0.3714037297340668,0.3106690933045375,0.3252989084123119,0.20245174519169348,0.20193268388620536,0.05929679131677376,0.2955138058754562,0.1841716503145544,0.29749930094805044,0.055894142379704415,0.2623910826910824,0.2653660619326448],\"z\":[0.04626292455196606,0.014104862359191657,0.17685971052618069,-0.06261906221660939,-0.03952905034055529,0.036249888738616384,0.03956382816088092,0.013223558349450255,-0.1235982963167082,-0.1116866664891601,-0.06587657741348191,0.0028609021692541812,-0.0021040945985448005,0.053226595759558806,0.03296452240506412,-0.11970348694825343,0.0964637935625713,0.06491590818008126,-0.12603602971235686,-0.06781798790104313,0.07975610201736018,-0.22247931142404012,0.023238972638239763,0.06235558264905822,0.08398842128156742,0.09576280293339125,0.022866601866884675,-0.03688028195829374,0.07124621308652423,0.1671841409830056,-0.018508201809317497,-0.06486179448068953,-0.07465878133204132,0.1449470321797804],\"type\":\"scatter3d\"},{\"customdata\":[[\"AEE\",-0.7305323403173358],[\"AEP\",-2.0261543978041807],[\"AES\",0.8295081780166802],[\"ATO\",-0.17061269515197264],[\"AWK\",-1.0650887653905539],[\"CMS\",-0.7857318472694108],[\"CNP\",-0.8987124192739504],[\"D\",-0.774730277160196],[\"DTE\",-0.4979043438007258],[\"DUK\",-1.5225203155030953],[\"ED\",-1.1836848282806067],[\"EIX\",-1.7790260912390332],[\"ES\",-1.8049879026804772],[\"ETR\",-1.313019435306917],[\"EVRG\",-0.9912641580049231],[\"EXC\",0.045382079408118337],[\"FE\",-0.17656287257377112],[\"LNT\",-0.6537605599509999],[\"NEE\",-1.2969508494423465],[\"NI\",-0.12776453868239557],[\"NRG\",-1.5277898624636355],[\"PCG\",-2.074346282248418],[\"PEG\",-1.343025831886424],[\"PNW\",-1.191775731502387],[\"PPL\",-0.8170901082847792],[\"SO\",-1.5586716493959596],[\"SRE\",-1.6060568066352587],[\"WEC\",-1.070903253954436],[\"XEL\",-1.1114469564666218]],\"hovertemplate\":\"\\\"Ticker: %{customdata[0]}\\\"\\u003cbr\\u003e\\\"return: %{customdata[1]}\\\"\",\"legendgroup\":\"Utilities\",\"marker\":{\"color\":\"#19d3f3\",\"size\":5,\"symbol\":\"circle\"},\"mode\":\"markers\",\"name\":\"Utilities\",\"scene\":\"scene\",\"showlegend\":true,\"x\":[-0.10860426459820191,-0.022514968542720278,-0.1961371522843772,-0.18350936282922553,0.019578331900655832,-0.056618675214536555,-0.04949290582416612,-0.12757674160370563,-0.07162126477936581,-0.11182067868848562,-0.06066395895452366,-0.06780235157427128,-0.10145438221432035,-0.055387709299141774,-0.12204255768865654,-0.08373087051758661,-0.0231008811382817,-0.0891283095510899,-0.121090188735166,-0.16111682737944455,0.35489198122253207,-0.08248820874089567,-0.1053492936051482,-0.0822999059876295,-0.10852117874772468,-0.06425349231368534,-0.15761075292569005,-0.0389209267912425,-0.05123727561872931],\"y\":[0.29703112255258113,0.41174298311829366,0.06887432791013207,0.1345427545545131,0.3700895676812129,0.38822462561446613,0.14619312421313851,0.4292538342795368,0.4113089276865295,0.38479314433099104,0.5690431145358671,0.40766109611897833,0.3823978939190189,0.41219044062943083,0.36049300381764465,0.35403925804382463,0.26371190857659177,0.40900732623990443,0.41814444731998324,0.3223600392107085,0.20631979662242428,0.43235540040272924,0.35431219655184676,0.41978724720087307,0.439988500117494,0.4808652897570521,0.27364956003701146,0.4220605607947864,0.42359311084430373],\"z\":[0.17063833688258115,0.20027892011477622,0.03452746311269902,0.24282691772997292,0.12540746877133505,0.14806331973789064,0.3023010821438667,0.1164920725654077,0.1912758201341103,0.21022398925339808,0.12317887618099817,0.22902167713448213,0.11154858299782344,0.2343559101337661,0.14705823054710224,0.3054013252694914,0.27025863573520637,0.14574214365488486,0.1168525139195427,0.05351187593261467,0.478568762952313,0.08568798195129827,0.19040018760808738,0.11881785732073005,0.2532916412713848,0.20812085959995835,0.21871282928665386,0.18187437619917615,0.20710802648994683],\"type\":\"scatter3d\"},{\"customdata\":[[\"ALB\",-0.8449365000493092],[\"APD\",-0.9569323951468145],[\"AVY\",-1.188138044846887],[\"BALL\",0.22688103189139053],[\"CE\",-0.495757339943359],[\"CF\",0.97673567269978],[\"DD\",-0.6924174211879963],[\"ECL\",-0.3187554166102391],[\"EMN\",0.21716567579541657],[\"FCX\",-0.856588800319158],[\"FMC\",-1.5252971363136747],[\"IFF\",-0.2504783247231135],[\"IP\",0.7033032007844442],[\"LIN\",-0.5937424957730975],[\"LYB\",-0.5771219433390318],[\"MLM\",-3.1065414787228796],[\"MOS\",2.3202327615690743],[\"NEM\",-2.076924929092294],[\"NUE\",0.5981710087471059],[\"PKG\",2.7983344127110676],[\"PPG\",0.04363546679191366],[\"SHW\",-1.8575320956963015],[\"STLD\",0.7839361317963922],[\"VMC\",-2.607992075877552]],\"hovertemplate\":\"\\\"Ticker: %{customdata[0]}\\\"\\u003cbr\\u003e\\\"return: %{customdata[1]}\\\"\",\"legendgroup\":\"Materials\",\"marker\":{\"color\":\"#FF6692\",\"size\":5,\"symbol\":\"circle\"},\"mode\":\"markers\",\"name\":\"Materials\",\"scene\":\"scene\",\"showlegend\":true,\"x\":[0.1831083699000983,-0.09551185050135799,0.028699650180424488,-0.03054724445687881,0.5054468639183551,0.39324355711608655,0.1538910815276049,-0.25378742904011914,0.09268875734460022,0.66348397613786,-0.071963230058015,-0.14961114206667428,0.06318066951322247,-0.13845021986939535,0.25898589150395135,-0.015297643866703067,0.09687343679777663,0.38087947505594066,-0.10378113099534582,-0.0539903169670275,-0.15076820942959032,-0.21943749035009244,0.0994548957014685,0.16605861221471788],\"y\":[-0.2841614007228403,-0.18009912666698497,-0.23381854591571838,-0.1101708963913529,-0.4118629708305651,-0.11050716509396777,-0.3570915666993376,-0.031146798863907636,-0.33738718157465886,0.26534047300371894,-0.26095319969864705,0.020025313142548816,-0.32154151671335035,-0.06199803743433458,-0.21839383708396223,0.07671641921125069,-0.1829100444825428,0.29052302417702786,-0.30754295021118255,-0.25732669549558507,-0.25714943473297014,0.06519670529297218,-0.14988693558415508,-0.0813386097267976],\"z\":[0.2635897537570366,0.15438993513432206,0.03330657755015269,0.2295046826706232,0.20733528403422766,0.29835235001256516,0.2796179540637422,0.10263403585185954,0.09376916341937175,0.38643273824395513,0.16616413317917517,-0.042516119480936615,0.025365806174587252,0.20146475780251533,0.005166883026354431,-0.3284067182359893,0.3489971527954167,0.1445261722541155,0.1834348421600131,0.20787912369261083,0.05886397792730631,-0.06702390129925549,-0.05996080139759726,-0.27182511962449235],\"type\":\"scatter3d\"},{\"customdata\":[[\"AMT\",-1.8992124238855324],[\"ARE\",0.24396511096191897],[\"AVB\",-0.242167453600306],[\"BXP\",0.15081274931978417],[\"CBRE\",0.4102789810379148],[\"CCI\",-1.557776791411336],[\"CPT\",0.05754995963143106],[\"CSGP\",-0.0076047374716115],[\"DLR\",-0.0489760295775854],[\"EQIX\",0.07525515199688915],[\"EQR\",-0.5783485321736892],[\"ESS\",0.17412347019043484],[\"EXR\",-0.2372810962427918],[\"FRT\",-1.5530072990765253],[\"HST\",1.5267295038368323],[\"IRM\",0.5814355920276126],[\"KIM\",0.9255114333778902],[\"MAA\",-0.5036267315698062],[\"O\",-0.6081868863049955],[\"PEAK\",-0.33150650937789905],[\"PLD\",1.1856935920889322],[\"PSA\",0.47047495392258387],[\"REG\",0.00496902114675013],[\"SBAC\",-1.1779778304831012],[\"SPG\",-0.20323923178930947],[\"UDR\",-1.3848165014883285],[\"VTR\",-1.3279948900661087],[\"WELL\",-0.33125352866174573],[\"WY\",2.6004924992649503]],\"hovertemplate\":\"\\\"Ticker: %{customdata[0]}\\\"\\u003cbr\\u003e\\\"return: %{customdata[1]}\\\"\",\"legendgroup\":\"Real Estate\",\"marker\":{\"color\":\"#B6E880\",\"size\":5,\"symbol\":\"circle\"},\"mode\":\"markers\",\"name\":\"Real Estate\",\"scene\":\"scene\",\"showlegend\":true,\"x\":[-0.2418795669964992,-0.18270309682736063,-0.05882232227768782,-0.1939782451739052,0.13966005473874385,-0.17937564105535636,-0.12851063182877462,-0.13479806908976544,-0.18772434058865797,-0.1201124980853516,-0.06235797371250281,-0.13244088023999062,-0.2403181885448372,-0.16398201165522933,-0.09582098181787033,-0.20978890922443233,-0.16004855297781795,-0.11934287628704708,-0.2285054510269315,-0.2093817893093364,-0.15663137010800265,-0.18425045295648143,-0.14366551589468238,-0.26615986028585664,-0.19867319156502344,-0.12892325423917217,-0.15523213862929555,-0.1630355146850273,-0.1709388554863275],\"y\":[0.24087740705174543,0.09886015201055232,0.21245621358361289,0.07996479606660382,-0.41297213938382954,0.36708128175390276,0.18244911969854313,-0.19107145077072515,0.20768891201493977,0.10916992041878018,0.20670875149303294,0.14271605733202622,0.10705127188804421,0.2387361021577173,-0.20803892162027687,0.029358954763597254,-0.030442343598889175,0.21687961196172834,0.3063873919750285,0.18282620106151182,-0.06728232151574126,0.17693710123647313,0.05536105647841518,0.254757871453183,0.16181344978636877,0.17550869156542567,0.20158291512622406,0.2867760967514145,-0.20821374636370432],\"z\":[0.08009910227423861,0.054744796771695185,0.04432962933134099,0.087491928366576,0.008044661659204233,-0.07200299173826945,0.08689881778042371,-0.1058233176868623,-0.005961164695788023,-0.23689024764100372,0.12699853135577688,0.14417674939798192,0.08940554110017106,0.0978595356414495,0.06514046153512094,0.13065098319097582,0.1247394515878808,0.08160063328988246,0.0135487541286301,0.11943629914654302,0.01127351697870068,0.11217517650858103,0.07570894876493026,-0.007805495501153804,0.07110312561481757,0.06520553152044146,0.19966234988038828,0.14438564358618425,-0.017910445467211274],\"type\":\"scatter3d\"},{\"customdata\":[[\"AMZN\",0.7829099180912236],[\"AZO\",-1.7428236457047386],[\"BBWI\",-1.6560971325717988],[\"BBY\",1.3347898255650748],[\"BKNG\",5.396535331854557],[\"BWA\",0.4042642947759356],[\"CCL\",0.4571296902849964],[\"CMG\",-1.1358166315910578],[\"DHI\",2.7275760892093714],[\"DPZ\",2.634236327391082],[\"DRI\",-1.6760903340000688],[\"EBAY\",0.39351195646613046],[\"EXPE\",3.6162479535053027],[\"F\",2.414668798978048],[\"GM\",-0.07119758360885076],[\"GPC\",-0.7522833542139895],[\"GRMN\",0.7354872788169597],[\"HAS\",-0.019868076540108248],[\"HD\",-0.8370119336502668],[\"KMX\",2.185555952682283],[\"LEN\",2.058107213024951],[\"LKQ\",-0.17459675329272173],[\"LOW\",-0.03113384744164449],[\"LULU\",1.3999157927938155],[\"LVS\",0.10880221322397965],[\"MAR\",0.4763816338354099],[\"MCD\",-0.04873401738254568],[\"MGM\",0.32774339312533485],[\"MHK\",0.022889292485039903],[\"NKE\",0.13526768233538267],[\"NVR\",0.6560700985986045],[\"ORLY\",-0.2443889067391014],[\"PHM\",3.251379278262889],[\"POOL\",0.7499933707062256],[\"RCL\",0.5548695859612707],[\"RL\",-0.5751124894758042],[\"ROST\",0.20370613861944165],[\"SBUX\",-0.919990361785572],[\"TJX\",-1.850614589604016],[\"TPR\",-0.022418513242850047],[\"TSCO\",0.45195331791842985],[\"TSLA\",0.08021335646786198],[\"ULTA\",0.18039527562889734],[\"VFC\",-0.42565621707768564],[\"WHR\",0.15313978347211155],[\"WYNN\",0.7704411295301972],[\"YUM\",-0.043924219655244734]],\"hovertemplate\":\"\\\"Ticker: %{customdata[0]}\\\"\\u003cbr\\u003e\\\"return: %{customdata[1]}\\\"\",\"legendgroup\":\"Consumer Discretionary\",\"marker\":{\"color\":\"#FF97FF\",\"size\":5,\"symbol\":\"circle\"},\"mode\":\"markers\",\"name\":\"Consumer Discretionary\",\"scene\":\"scene\",\"showlegend\":true,\"x\":[0.15467297322335063,-0.23114945473836576,-0.2468435224164593,0.19077910316426974,-0.06577366799266894,0.14129802009508877,0.08391953204937123,-0.11129069881241696,0.28523058003426566,-0.10962321124425296,-0.1480748475841333,-0.03858076404656177,-0.1166349489537322,-0.12736508933081064,-0.08821039716578377,-0.2250365977789064,-0.18137974792598552,-0.2889120337819537,-0.17400002640565035,-0.1361236118592703,0.4826806750334243,-0.10155087781615771,-0.1843283266631399,0.3359644136537671,0.24440048813797488,-0.1285030365882489,-0.2082390617006665,0.3659661339722804,0.04832661896040312,-0.23707475190360217,-0.1395953826701455,-0.21201143051795823,0.7943548736332994,-0.2467517621180443,0.24097321128671986,-0.25376832144907646,-0.2067873592391925,-0.19151881350423994,-0.23016240986275055,-0.16534467932314156,-0.16385810022481656,0.40455264738054836,-0.05517927425753903,-0.22854245737120896,0.04003451820789158,0.44229071493950367,-0.10688168988192821],\"y\":[0.2709588023737456,0.3349480788949261,-0.10698258011709073,0.04272515627164896,-0.041540132223267814,-0.41088617306751196,0.3377677207113424,0.0658848680030315,-0.06133567292250391,0.10930656692880027,0.22236131544462534,0.15575120879761392,0.08142508001593907,-0.4333550903409774,-0.3562369625177307,-0.05185475926331753,0.04384629744555362,0.224557953283841,0.12636824868121804,-0.10912439425604004,0.03633880578767183,-0.13380036482288082,0.025807845738226975,0.29555646869047664,-0.09786911744842566,-0.10815161550128638,0.3279449253963762,-0.17882630591184345,-0.1449773213633746,0.1186717811491303,0.13142619260838023,0.218404844519013,-0.08158708737441735,-0.07508850302437169,0.1282601044191528,-0.058703336398546746,0.24734349406253095,0.12411179190623944,0.21662527192860606,0.019461089352502327,0.06870087297020445,0.18585433845817523,0.0960117647814237,-0.010538662895515723,-0.06361610798307143,0.20059096083007383,-0.01954171677277795],\"z\":[-0.357750344689121,-0.048505448098784196,0.02538155248533532,-0.10362196797713458,-0.21811321695527228,0.260117317453658,-0.26885296598323966,0.04985576394075038,-0.22403449514631318,-0.11854147316988223,-0.2069717818243089,-0.41562260564423265,-0.22152305293384705,0.08977782988071943,0.07719845460129325,-0.017479423488230155,-0.009708706824065768,-0.14440865865303384,-0.08061376807879471,-0.20036872801751848,-0.25447863223434525,-0.30000977620855457,-0.05537065179038635,-0.19167110454884842,0.14793901479888663,0.044461149733512444,0.05728191461481257,0.049562720227590056,-0.3608657903171231,-0.11522172683525062,-0.11289093750117299,-0.13568102235978363,-0.1482586419751564,-0.2617982633645075,-0.22836305482415667,0.0918132498268185,-0.11838252843679346,-0.24681207121124593,-0.17958609416033566,-0.10220441622730715,-0.24700346530134076,-0.20161448354472825,-0.21511125420963742,0.05826591231893468,-0.3216291912845919,0.19768922869145894,0.3052214374329777],\"type\":\"scatter3d\"},{\"customdata\":[[\"APA\",1.9831388027990338],[\"BKR\",-0.3766321806128792],[\"COP\",-1.0058759567462494],[\"CTRA\",-0.573015359361051],[\"CVX\",-0.6944267003284543],[\"DVN\",0.1196661736258875],[\"EOG\",-0.3135073270149835],[\"EQT\",0.3017774340663637],[\"HAL\",-0.8484515296116935],[\"HES\",1.6924453496734326],[\"MRO\",-0.6267000266373834],[\"OKE\",-0.9512407559925551],[\"OXY\",-0.1473083694382149],[\"PXD\",0.2000949479798786],[\"SLB\",0.6563058132302624],[\"TRGP\",0.14298432090451563],[\"VLO\",1.9382302314745914],[\"WMB\",-0.3567340327201185],[\"XOM\",-0.7867690226609936]],\"hovertemplate\":\"\\\"Ticker: %{customdata[0]}\\\"\\u003cbr\\u003e\\\"return: %{customdata[1]}\\\"\",\"legendgroup\":\"Energy\",\"marker\":{\"color\":\"#FECB52\",\"size\":5,\"symbol\":\"circle\"},\"mode\":\"markers\",\"name\":\"Energy\",\"scene\":\"scene\",\"showlegend\":true,\"x\":[0.25662963436221903,0.05171685443356282,-0.11505094395535427,0.3420653252918199,-0.20221219984087674,0.21043064915541934,0.07960425016981772,0.049854557675926676,0.08863986736718665,0.08946789453680129,0.2581843320006896,0.19380463770597262,-0.10753999490225755,0.2594996347196085,-0.08723308359930944,0.40603069818142506,0.0756621056991641,0.25222936864002204,-0.20162347530938785],\"y\":[0.09620523958808355,-0.06997427851405047,-0.0014125128710234956,0.14395696036174663,0.05970859333299406,-0.011482904414221477,-0.13560048871318245,-0.08368865494860007,-0.07381359352397207,-0.031468383369768614,-0.007980984331969984,0.20789951149274083,-0.13683730833798316,0.024102935677140436,-0.13155708541741576,0.3115656111420132,-0.06021543631172481,0.07063936448874411,0.04275563221348905],\"z\":[0.09626040239961604,0.12395838854711842,0.22059784934977594,0.033792798384102124,0.07293903051225063,0.2280231049818568,-0.006997431168340079,0.12923241317207365,-0.07110858317259164,-0.0086778707931598,0.19647870074388352,0.43326941071136377,0.0416704874820707,-0.1889194887560496,-0.0005974619306131566,0.3562667059659348,-0.0887522282867537,0.37288237812579983,0.08328025683925426],\"type\":\"scatter3d\"},{\"customdata\":[[\"CHTR\",-0.5954830100107444],[\"CMCSA\",0.8171835927672344],[\"DIS\",1.968062606958143],[\"EA\",-1.1302314770582078],[\"GOOG\",0.634534509322715],[\"GOOGL\",0.6345299569923801],[\"IPG\",0.9129270210859408],[\"LYV\",1.3223771455036504],[\"MTCH\",0.32973454779179345],[\"NFLX\",-1.4239560553844566],[\"OMC\",0.7116682476218772],[\"PARA\",-1.6525676160619729],[\"T\",-0.18503482310012753],[\"TMUS\",1.9227971073708439],[\"TTWO\",-0.27740434030012473],[\"VZ\",0.8526493201146845],[\"WBD\",-2.643789036871602]],\"hovertemplate\":\"\\\"Ticker: %{customdata[0]}\\\"\\u003cbr\\u003e\\\"return: %{customdata[1]}\\\"\",\"legendgroup\":\"Communication Services\",\"marker\":{\"color\":\"#636efa\",\"size\":5,\"symbol\":\"circle\"},\"mode\":\"markers\",\"name\":\"Communication Services\",\"scene\":\"scene\",\"showlegend\":true,\"x\":[-0.12078776159062575,-0.1811306117921528,-0.2049492600897348,0.3141374499857139,-0.11514064475806086,0.05464047097858984,-0.12166336588771183,-0.06172454903242366,-0.16718832534253442,0.6069863044137219,-0.2489727744054614,-0.05707569513703319,-0.24723418381718787,0.17807998985165302,0.00927870982832734,-0.25565926370255704,-0.16454426577768957],\"y\":[0.17812073726587016,-0.056621197551184346,0.09193129179742673,0.3481819984860905,0.15768510493641183,0.17196955914960593,-0.19965788622198608,-0.1735757015559774,-0.0251797117123692,0.30564393220738295,-0.06503491681200504,-0.26878277905755765,0.24613371786107205,0.03893657377769429,0.16313302801543433,0.22736502889615412,-0.11224995363892602],\"z\":[-0.07175171532968096,0.059169458372322285,-0.10888129346090201,-0.5714271128586462,-0.1471152244753787,-0.10571597490826792,-0.2338892664597591,-0.2386092145425553,0.11294018742063357,0.13487084322495227,-0.0230310081010986,0.011629041603521214,0.02627426426038935,-0.15614745486269438,-0.43742168600616677,0.10805490185907166,0.12247778253652532],\"type\":\"scatter3d\"},{\"customdata\":[[\"MSFT\",-0.8401279191597277]],\"hovertemplate\":\"\\\"Ticker: %{customdata[0]}\\\"\\u003cbr\\u003e\\\"return: %{customdata[1]}\\\"\",\"legendgroup\":\"\",\"marker\":{\"color\":\"red\",\"size\":[7],\"sizemode\":\"area\",\"sizeref\":0.0175,\"symbol\":\"diamond\"},\"mode\":\"markers\",\"name\":\"\",\"scene\":\"scene\",\"showlegend\":false,\"x\":[-0.25957985898287483],\"y\":[0.13860095511291212],\"z\":[-0.12664804894486442],\"type\":\"scatter3d\"}],                        {\"template\":{\"data\":{\"histogram2dcontour\":[{\"type\":\"histogram2dcontour\",\"colorbar\":{\"outlinewidth\":0,\"ticks\":\"\"},\"colorscale\":[[0.0,\"#0d0887\"],[0.1111111111111111,\"#46039f\"],[0.2222222222222222,\"#7201a8\"],[0.3333333333333333,\"#9c179e\"],[0.4444444444444444,\"#bd3786\"],[0.5555555555555556,\"#d8576b\"],[0.6666666666666666,\"#ed7953\"],[0.7777777777777778,\"#fb9f3a\"],[0.8888888888888888,\"#fdca26\"],[1.0,\"#f0f921\"]]}],\"choropleth\":[{\"type\":\"choropleth\",\"colorbar\":{\"outlinewidth\":0,\"ticks\":\"\"}}],\"histogram2d\":[{\"type\":\"histogram2d\",\"colorbar\":{\"outlinewidth\":0,\"ticks\":\"\"},\"colorscale\":[[0.0,\"#0d0887\"],[0.1111111111111111,\"#46039f\"],[0.2222222222222222,\"#7201a8\"],[0.3333333333333333,\"#9c179e\"],[0.4444444444444444,\"#bd3786\"],[0.5555555555555556,\"#d8576b\"],[0.6666666666666666,\"#ed7953\"],[0.7777777777777778,\"#fb9f3a\"],[0.8888888888888888,\"#fdca26\"],[1.0,\"#f0f921\"]]}],\"heatmap\":[{\"type\":\"heatmap\",\"colorbar\":{\"outlinewidth\":0,\"ticks\":\"\"},\"colorscale\":[[0.0,\"#0d0887\"],[0.1111111111111111,\"#46039f\"],[0.2222222222222222,\"#7201a8\"],[0.3333333333333333,\"#9c179e\"],[0.4444444444444444,\"#bd3786\"],[0.5555555555555556,\"#d8576b\"],[0.6666666666666666,\"#ed7953\"],[0.7777777777777778,\"#fb9f3a\"],[0.8888888888888888,\"#fdca26\"],[1.0,\"#f0f921\"]]}],\"heatmapgl\":[{\"type\":\"heatmapgl\",\"colorbar\":{\"outlinewidth\":0,\"ticks\":\"\"},\"colorscale\":[[0.0,\"#0d0887\"],[0.1111111111111111,\"#46039f\"],[0.2222222222222222,\"#7201a8\"],[0.3333333333333333,\"#9c179e\"],[0.4444444444444444,\"#bd3786\"],[0.5555555555555556,\"#d8576b\"],[0.6666666666666666,\"#ed7953\"],[0.7777777777777778,\"#fb9f3a\"],[0.8888888888888888,\"#fdca26\"],[1.0,\"#f0f921\"]]}],\"contourcarpet\":[{\"type\":\"contourcarpet\",\"colorbar\":{\"outlinewidth\":0,\"ticks\":\"\"}}],\"contour\":[{\"type\":\"contour\",\"colorbar\":{\"outlinewidth\":0,\"ticks\":\"\"},\"colorscale\":[[0.0,\"#0d0887\"],[0.1111111111111111,\"#46039f\"],[0.2222222222222222,\"#7201a8\"],[0.3333333333333333,\"#9c179e\"],[0.4444444444444444,\"#bd3786\"],[0.5555555555555556,\"#d8576b\"],[0.6666666666666666,\"#ed7953\"],[0.7777777777777778,\"#fb9f3a\"],[0.8888888888888888,\"#fdca26\"],[1.0,\"#f0f921\"]]}],\"surface\":[{\"type\":\"surface\",\"colorbar\":{\"outlinewidth\":0,\"ticks\":\"\"},\"colorscale\":[[0.0,\"#0d0887\"],[0.1111111111111111,\"#46039f\"],[0.2222222222222222,\"#7201a8\"],[0.3333333333333333,\"#9c179e\"],[0.4444444444444444,\"#bd3786\"],[0.5555555555555556,\"#d8576b\"],[0.6666666666666666,\"#ed7953\"],[0.7777777777777778,\"#fb9f3a\"],[0.8888888888888888,\"#fdca26\"],[1.0,\"#f0f921\"]]}],\"mesh3d\":[{\"type\":\"mesh3d\",\"colorbar\":{\"outlinewidth\":0,\"ticks\":\"\"}}],\"scatter\":[{\"fillpattern\":{\"fillmode\":\"overlay\",\"size\":10,\"solidity\":0.2},\"type\":\"scatter\"}],\"parcoords\":[{\"type\":\"parcoords\",\"line\":{\"colorbar\":{\"outlinewidth\":0,\"ticks\":\"\"}}}],\"scatterpolargl\":[{\"type\":\"scatterpolargl\",\"marker\":{\"colorbar\":{\"outlinewidth\":0,\"ticks\":\"\"}}}],\"bar\":[{\"error_x\":{\"color\":\"#2a3f5f\"},\"error_y\":{\"color\":\"#2a3f5f\"},\"marker\":{\"line\":{\"color\":\"#E5ECF6\",\"width\":0.5},\"pattern\":{\"fillmode\":\"overlay\",\"size\":10,\"solidity\":0.2}},\"type\":\"bar\"}],\"scattergeo\":[{\"type\":\"scattergeo\",\"marker\":{\"colorbar\":{\"outlinewidth\":0,\"ticks\":\"\"}}}],\"scatterpolar\":[{\"type\":\"scatterpolar\",\"marker\":{\"colorbar\":{\"outlinewidth\":0,\"ticks\":\"\"}}}],\"histogram\":[{\"marker\":{\"pattern\":{\"fillmode\":\"overlay\",\"size\":10,\"solidity\":0.2}},\"type\":\"histogram\"}],\"scattergl\":[{\"type\":\"scattergl\",\"marker\":{\"colorbar\":{\"outlinewidth\":0,\"ticks\":\"\"}}}],\"scatter3d\":[{\"type\":\"scatter3d\",\"line\":{\"colorbar\":{\"outlinewidth\":0,\"ticks\":\"\"}},\"marker\":{\"colorbar\":{\"outlinewidth\":0,\"ticks\":\"\"}}}],\"scattermapbox\":[{\"type\":\"scattermapbox\",\"marker\":{\"colorbar\":{\"outlinewidth\":0,\"ticks\":\"\"}}}],\"scatterternary\":[{\"type\":\"scatterternary\",\"marker\":{\"colorbar\":{\"outlinewidth\":0,\"ticks\":\"\"}}}],\"scattercarpet\":[{\"type\":\"scattercarpet\",\"marker\":{\"colorbar\":{\"outlinewidth\":0,\"ticks\":\"\"}}}],\"carpet\":[{\"aaxis\":{\"endlinecolor\":\"#2a3f5f\",\"gridcolor\":\"white\",\"linecolor\":\"white\",\"minorgridcolor\":\"white\",\"startlinecolor\":\"#2a3f5f\"},\"baxis\":{\"endlinecolor\":\"#2a3f5f\",\"gridcolor\":\"white\",\"linecolor\":\"white\",\"minorgridcolor\":\"white\",\"startlinecolor\":\"#2a3f5f\"},\"type\":\"carpet\"}],\"table\":[{\"cells\":{\"fill\":{\"color\":\"#EBF0F8\"},\"line\":{\"color\":\"white\"}},\"header\":{\"fill\":{\"color\":\"#C8D4E3\"},\"line\":{\"color\":\"white\"}},\"type\":\"table\"}],\"barpolar\":[{\"marker\":{\"line\":{\"color\":\"#E5ECF6\",\"width\":0.5},\"pattern\":{\"fillmode\":\"overlay\",\"size\":10,\"solidity\":0.2}},\"type\":\"barpolar\"}],\"pie\":[{\"automargin\":true,\"type\":\"pie\"}]},\"layout\":{\"autotypenumbers\":\"strict\",\"colorway\":[\"#636efa\",\"#EF553B\",\"#00cc96\",\"#ab63fa\",\"#FFA15A\",\"#19d3f3\",\"#FF6692\",\"#B6E880\",\"#FF97FF\",\"#FECB52\"],\"font\":{\"color\":\"#2a3f5f\"},\"hovermode\":\"closest\",\"hoverlabel\":{\"align\":\"left\"},\"paper_bgcolor\":\"white\",\"plot_bgcolor\":\"#E5ECF6\",\"polar\":{\"bgcolor\":\"#E5ECF6\",\"angularaxis\":{\"gridcolor\":\"white\",\"linecolor\":\"white\",\"ticks\":\"\"},\"radialaxis\":{\"gridcolor\":\"white\",\"linecolor\":\"white\",\"ticks\":\"\"}},\"ternary\":{\"bgcolor\":\"#E5ECF6\",\"aaxis\":{\"gridcolor\":\"white\",\"linecolor\":\"white\",\"ticks\":\"\"},\"baxis\":{\"gridcolor\":\"white\",\"linecolor\":\"white\",\"ticks\":\"\"},\"caxis\":{\"gridcolor\":\"white\",\"linecolor\":\"white\",\"ticks\":\"\"}},\"coloraxis\":{\"colorbar\":{\"outlinewidth\":0,\"ticks\":\"\"}},\"colorscale\":{\"sequential\":[[0.0,\"#0d0887\"],[0.1111111111111111,\"#46039f\"],[0.2222222222222222,\"#7201a8\"],[0.3333333333333333,\"#9c179e\"],[0.4444444444444444,\"#bd3786\"],[0.5555555555555556,\"#d8576b\"],[0.6666666666666666,\"#ed7953\"],[0.7777777777777778,\"#fb9f3a\"],[0.8888888888888888,\"#fdca26\"],[1.0,\"#f0f921\"]],\"sequentialminus\":[[0.0,\"#0d0887\"],[0.1111111111111111,\"#46039f\"],[0.2222222222222222,\"#7201a8\"],[0.3333333333333333,\"#9c179e\"],[0.4444444444444444,\"#bd3786\"],[0.5555555555555556,\"#d8576b\"],[0.6666666666666666,\"#ed7953\"],[0.7777777777777778,\"#fb9f3a\"],[0.8888888888888888,\"#fdca26\"],[1.0,\"#f0f921\"]],\"diverging\":[[0,\"#8e0152\"],[0.1,\"#c51b7d\"],[0.2,\"#de77ae\"],[0.3,\"#f1b6da\"],[0.4,\"#fde0ef\"],[0.5,\"#f7f7f7\"],[0.6,\"#e6f5d0\"],[0.7,\"#b8e186\"],[0.8,\"#7fbc41\"],[0.9,\"#4d9221\"],[1,\"#276419\"]]},\"xaxis\":{\"gridcolor\":\"white\",\"linecolor\":\"white\",\"ticks\":\"\",\"title\":{\"standoff\":15},\"zerolinecolor\":\"white\",\"automargin\":true,\"zerolinewidth\":2},\"yaxis\":{\"gridcolor\":\"white\",\"linecolor\":\"white\",\"ticks\":\"\",\"title\":{\"standoff\":15},\"zerolinecolor\":\"white\",\"automargin\":true,\"zerolinewidth\":2},\"scene\":{\"xaxis\":{\"backgroundcolor\":\"#E5ECF6\",\"gridcolor\":\"white\",\"linecolor\":\"white\",\"showbackground\":true,\"ticks\":\"\",\"zerolinecolor\":\"white\",\"gridwidth\":2},\"yaxis\":{\"backgroundcolor\":\"#E5ECF6\",\"gridcolor\":\"white\",\"linecolor\":\"white\",\"showbackground\":true,\"ticks\":\"\",\"zerolinecolor\":\"white\",\"gridwidth\":2},\"zaxis\":{\"backgroundcolor\":\"#E5ECF6\",\"gridcolor\":\"white\",\"linecolor\":\"white\",\"showbackground\":true,\"ticks\":\"\",\"zerolinecolor\":\"white\",\"gridwidth\":2}},\"shapedefaults\":{\"line\":{\"color\":\"#2a3f5f\"}},\"annotationdefaults\":{\"arrowcolor\":\"#2a3f5f\",\"arrowhead\":0,\"arrowwidth\":1},\"geo\":{\"bgcolor\":\"white\",\"landcolor\":\"#E5ECF6\",\"subunitcolor\":\"white\",\"showland\":true,\"showlakes\":true,\"lakecolor\":\"white\"},\"title\":{\"x\":0.05},\"mapbox\":{\"style\":\"light\"}}}},                        {\"responsive\": true}                    ).then(function(){\n",
       "                            \n",
       "var gd = document.getElementById('6533c319-6279-4cdd-a7ca-cfb104ea3fe3');\n",
       "var x = new MutationObserver(function (mutations, observer) {{\n",
       "        var display = window.getComputedStyle(gd).display;\n",
       "        if (!display || display === 'none') {{\n",
       "            console.log([gd, 'removed!']);\n",
       "            Plotly.purge(gd);\n",
       "            observer.disconnect();\n",
       "        }}\n",
       "}});\n",
       "\n",
       "// Listen for the removal of the full notebook cells\n",
       "var notebookContainer = gd.closest('#notebook-container');\n",
       "if (notebookContainer) {{\n",
       "    x.observe(notebookContainer, {childList: true});\n",
       "}}\n",
       "\n",
       "// Listen for the clearing of the current output cell\n",
       "var outputEl = gd.closest('.output');\n",
       "if (outputEl) {{\n",
       "    x.observe(outputEl, {childList: true});\n",
       "}}\n",
       "\n",
       "                        })                };                });            </script>        </div>"
      ]
     },
     "metadata": {},
     "output_type": "display_data"
    }
   ],
   "source": [
    "plot_3D(result, embedding_values,'MSFT','GICS Sector')"
   ]
  },
  {
   "cell_type": "markdown",
   "id": "45015c10",
   "metadata": {},
   "source": [
    "# Adhoc Check"
   ]
  },
  {
   "cell_type": "code",
   "execution_count": 61,
   "id": "cb879ece",
   "metadata": {},
   "outputs": [
    {
     "data": {
      "text/plain": [
       "array([[0.99178224]])"
      ]
     },
     "execution_count": 61,
     "metadata": {},
     "output_type": "execute_result"
    }
   ],
   "source": [
    "p1 = embedding_values[embedding_values.Ticker=='KO'][['STOCK2VEC_'+str(i) for i in range(EMBEDDING_DIM)]]\n",
    "p2 = embedding_values[embedding_values.Ticker=='PEP'][['STOCK2VEC_'+str(i) for i in range(EMBEDDING_DIM)]]\n",
    "\n",
    "cosine_similarity(p1,p2)"
   ]
  },
  {
   "cell_type": "code",
   "execution_count": 62,
   "id": "de288784",
   "metadata": {},
   "outputs": [
    {
     "data": {
      "text/plain": [
       "array([[0.71193358]])"
      ]
     },
     "execution_count": 62,
     "metadata": {},
     "output_type": "execute_result"
    }
   ],
   "source": [
    "p1 = embedding_values[embedding_values.Ticker=='KO'][['STOCK2VEC_'+str(i) for i in range(EMBEDDING_DIM)]]\n",
    "p2 = embedding_values[embedding_values.Ticker=='TSLA'][['STOCK2VEC_'+str(i) for i in range(EMBEDDING_DIM)]]\n",
    "\n",
    "cosine_similarity(p1,p2)"
   ]
  },
  {
   "cell_type": "code",
   "execution_count": 63,
   "id": "d8b66d67",
   "metadata": {},
   "outputs": [
    {
     "data": {
      "text/plain": [
       "array([[0.98484866]])"
      ]
     },
     "execution_count": 63,
     "metadata": {},
     "output_type": "execute_result"
    }
   ],
   "source": [
    "p1 = embedding_values[embedding_values.Ticker=='XOM'][['STOCK2VEC_'+str(i) for i in range(EMBEDDING_DIM)]]\n",
    "p2 = embedding_values[embedding_values.Ticker=='CVX'][['STOCK2VEC_'+str(i) for i in range(EMBEDDING_DIM)]]\n",
    "\n",
    "cosine_similarity(p1,p2)"
   ]
  },
  {
   "cell_type": "code",
   "execution_count": 64,
   "id": "f15e3d98",
   "metadata": {},
   "outputs": [
    {
     "data": {
      "text/plain": [
       "array([[0.98293675]])"
      ]
     },
     "execution_count": 64,
     "metadata": {},
     "output_type": "execute_result"
    }
   ],
   "source": [
    "p1 = embedding_values[embedding_values.Ticker=='HD'][['STOCK2VEC_'+str(i) for i in range(EMBEDDING_DIM)]]\n",
    "p2 = embedding_values[embedding_values.Ticker=='LOW'][['STOCK2VEC_'+str(i) for i in range(EMBEDDING_DIM)]]\n",
    "\n",
    "cosine_similarity(p1,p2)"
   ]
  },
  {
   "cell_type": "code",
   "execution_count": 65,
   "id": "96728b69",
   "metadata": {},
   "outputs": [
    {
     "data": {
      "text/plain": [
       "array([[0.70446886]])"
      ]
     },
     "execution_count": 65,
     "metadata": {},
     "output_type": "execute_result"
    }
   ],
   "source": [
    "p1 = embedding_values[embedding_values.Ticker=='LOW'][['STOCK2VEC_'+str(i) for i in range(EMBEDDING_DIM)]]\n",
    "p2 = embedding_values[embedding_values.Ticker=='META'][['STOCK2VEC_'+str(i) for i in range(EMBEDDING_DIM)]]\n",
    "\n",
    "cosine_similarity(p1,p2)"
   ]
  },
  {
   "cell_type": "code",
   "execution_count": 66,
   "id": "cca2311b",
   "metadata": {},
   "outputs": [
    {
     "data": {
      "text/plain": [
       "array([[0.96806006]])"
      ]
     },
     "execution_count": 66,
     "metadata": {},
     "output_type": "execute_result"
    }
   ],
   "source": [
    "p1 = embedding_values[embedding_values.Ticker=='GM'][['STOCK2VEC_'+str(i) for i in range(EMBEDDING_DIM)]]\n",
    "p2 = embedding_values[embedding_values.Ticker=='F'][['STOCK2VEC_'+str(i) for i in range(EMBEDDING_DIM)]]\n",
    "\n",
    "cosine_similarity(p1,p2)"
   ]
  },
  {
   "cell_type": "code",
   "execution_count": 67,
   "id": "e389eafd",
   "metadata": {},
   "outputs": [
    {
     "data": {
      "text/plain": [
       "array([[0.59700976]])"
      ]
     },
     "execution_count": 67,
     "metadata": {},
     "output_type": "execute_result"
    }
   ],
   "source": [
    "p1 = embedding_values[embedding_values.Ticker=='ABBV'][['STOCK2VEC_'+str(i) for i in range(EMBEDDING_DIM)]]\n",
    "p2 = embedding_values[embedding_values.Ticker=='JNJ'][['STOCK2VEC_'+str(i) for i in range(EMBEDDING_DIM)]]\n",
    "\n",
    "cosine_similarity(p1,p2)"
   ]
  },
  {
   "cell_type": "markdown",
   "id": "72c4f5ff",
   "metadata": {},
   "source": [
    "# Top 10 Similar stocks for the prompted stock is"
   ]
  },
  {
   "cell_type": "code",
   "execution_count": 77,
   "id": "e76f8ec5",
   "metadata": {},
   "outputs": [
    {
     "name": "stdout",
     "output_type": "stream",
     "text": [
      "[[0.90299606 0.88975096 0.8810214  0.8807285  0.875248   0.8746159\n",
      "  0.8518589  0.8492214  0.84733075 0.8316542 ]]\n",
      "[[230 477  98 209  10  14 218 293 224   0]]\n",
      "['IRM', 'QRVO', 'RMD', 'KR', 'WY', 'WMT', 'JPM', 'EW', 'JBHT', '']\n"
     ]
    }
   ],
   "source": [
    "stock_to_check = 'ABBV'\n",
    "left = np.ascontiguousarray(embedding_values[embedding_values.Ticker==stock_to_check][['STOCK2VEC_'+str(i) for i in range(EMBEDDING_DIM)]],np.float32)\n",
    "\n",
    "right = np.ascontiguousarray(embedding_values[embedding_values.Ticker!=stock_to_check][['STOCK2VEC_'+str(i) for i in range(EMBEDDING_DIM)]],np.float32)\n",
    "\n",
    "index = faiss.IndexFlatIP(EMBEDDING_DIM)\n",
    "faiss.normalize_L2(right)\n",
    "index.add(right)\n",
    "\n",
    "faiss.normalize_L2(left)\n",
    "\n",
    "distances, neighbors = index.search(left, k = 10)\n",
    "print(distances)\n",
    "print(neighbors)\n",
    "print([inverse_vocab[c] for c in neighbors[0]])"
   ]
  },
  {
   "cell_type": "code",
   "execution_count": null,
   "id": "507ccbeb",
   "metadata": {},
   "outputs": [],
   "source": []
  }
 ],
 "metadata": {
  "kernelspec": {
   "display_name": "Python 3 (ipykernel)",
   "language": "python",
   "name": "python3"
  },
  "language_info": {
   "codemirror_mode": {
    "name": "ipython",
    "version": 3
   },
   "file_extension": ".py",
   "mimetype": "text/x-python",
   "name": "python",
   "nbconvert_exporter": "python",
   "pygments_lexer": "ipython3",
   "version": "3.10.12"
  },
  "toc": {
   "base_numbering": 1,
   "nav_menu": {},
   "number_sections": true,
   "sideBar": true,
   "skip_h1_title": false,
   "title_cell": "Table of Contents",
   "title_sidebar": "Contents",
   "toc_cell": false,
   "toc_position": {
    "height": "calc(100% - 180px)",
    "left": "10px",
    "top": "150px",
    "width": "296px"
   },
   "toc_section_display": true,
   "toc_window_display": true
  },
  "varInspector": {
   "cols": {
    "lenName": 16,
    "lenType": 16,
    "lenVar": 40
   },
   "kernels_config": {
    "python": {
     "delete_cmd_postfix": "",
     "delete_cmd_prefix": "del ",
     "library": "var_list.py",
     "varRefreshCmd": "print(var_dic_list())"
    },
    "r": {
     "delete_cmd_postfix": ") ",
     "delete_cmd_prefix": "rm(",
     "library": "var_list.r",
     "varRefreshCmd": "cat(var_dic_list()) "
    }
   },
   "types_to_exclude": [
    "module",
    "function",
    "builtin_function_or_method",
    "instance",
    "_Feature"
   ],
   "window_display": false
  }
 },
 "nbformat": 4,
 "nbformat_minor": 5
}
