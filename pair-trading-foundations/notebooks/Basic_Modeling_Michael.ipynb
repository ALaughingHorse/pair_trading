{
 "cells": [
  {
   "cell_type": "markdown",
   "id": "be2bb294",
   "metadata": {},
   "source": [
    "# Imports"
   ]
  },
  {
   "cell_type": "code",
   "execution_count": 1,
   "id": "499fa2a3",
   "metadata": {},
   "outputs": [
    {
     "name": "stderr",
     "output_type": "stream",
     "text": [
      "/tmp/ipykernel_439/384002432.py:1: DeprecationWarning: \n",
      "Pyarrow will become a required dependency of pandas in the next major release of pandas (pandas 3.0),\n",
      "(to allow more performant data types, such as the Arrow string type, and better interoperability with other libraries)\n",
      "but was not found to be installed on your system.\n",
      "If this would cause problems for you,\n",
      "please provide us feedback at https://github.com/pandas-dev/pandas/issues/54466\n",
      "        \n",
      "  import pandas as pd\n"
     ]
    }
   ],
   "source": [
    "import pandas as pd\n",
    "import numpy as np\n",
    "import lightgbm as lgb\n",
    "from sklearn.model_selection import train_test_split\n",
    "from sklearn.preprocessing import StandardScaler\n",
    "from sklearn.linear_model import LinearRegression, LogisticRegression\n",
    "from sklearn.metrics import confusion_matrix, ConfusionMatrixDisplay\n",
    "from sklearn.inspection import permutation_importance\n",
    "import ta\n",
    "\n",
    "from tqdm.notebook import tqdm\n",
    "tqdm.pandas()\n",
    "\n",
    "import matplotlib.pyplot as plt\n",
    "import plotly.express as px\n",
    "\n",
    "from sklearn.metrics import f1_score\n",
    "from imblearn.under_sampling import RandomUnderSampler\n",
    "pd.set_option('display.float_format', lambda x: '%.3f' % x)\n",
    "np.set_printoptions(suppress=True)\n",
    "from pprint import pprint\n",
    "\n",
    "import gc\n",
    "import optuna\n",
    "from sklearn.feature_selection import RFE\n"
   ]
  },
  {
   "cell_type": "code",
   "execution_count": 2,
   "id": "333c3d37",
   "metadata": {},
   "outputs": [
    {
     "data": {
      "text/html": [
       "<div>\n",
       "<style scoped>\n",
       "    .dataframe tbody tr th:only-of-type {\n",
       "        vertical-align: middle;\n",
       "    }\n",
       "\n",
       "    .dataframe tbody tr th {\n",
       "        vertical-align: top;\n",
       "    }\n",
       "\n",
       "    .dataframe thead th {\n",
       "        text-align: right;\n",
       "    }\n",
       "</style>\n",
       "<table border=\"1\" class=\"dataframe\">\n",
       "  <thead>\n",
       "    <tr style=\"text-align: right;\">\n",
       "      <th></th>\n",
       "      <th>Date</th>\n",
       "      <th>Ticker_P1</th>\n",
       "      <th>Close_P1</th>\n",
       "      <th>Ticker_P2</th>\n",
       "      <th>Close_P2</th>\n",
       "      <th>High_P1</th>\n",
       "      <th>High_P2</th>\n",
       "      <th>Low_P1</th>\n",
       "      <th>Low_P2</th>\n",
       "      <th>Volume_P1</th>\n",
       "      <th>...</th>\n",
       "      <th>abs_spread_normed_max</th>\n",
       "      <th>abs_spread_normed_90th</th>\n",
       "      <th>abs_spread_normed_75th</th>\n",
       "      <th>abs_spread_normed_median</th>\n",
       "      <th>abs_spread_normed_l7_avg</th>\n",
       "      <th>abs_spread_normed_l14_avg</th>\n",
       "      <th>cos_sim</th>\n",
       "      <th>corr_coef</th>\n",
       "      <th>pnls</th>\n",
       "      <th>num_entries</th>\n",
       "    </tr>\n",
       "  </thead>\n",
       "  <tbody>\n",
       "    <tr>\n",
       "      <th>0</th>\n",
       "      <td>2015-01-02</td>\n",
       "      <td>CAG</td>\n",
       "      <td>21.161</td>\n",
       "      <td>NOC</td>\n",
       "      <td>126.094</td>\n",
       "      <td>28.241</td>\n",
       "      <td>149.160</td>\n",
       "      <td>27.868</td>\n",
       "      <td>144.540</td>\n",
       "      <td>5126379.000</td>\n",
       "      <td>...</td>\n",
       "      <td>NaN</td>\n",
       "      <td>NaN</td>\n",
       "      <td>NaN</td>\n",
       "      <td>NaN</td>\n",
       "      <td>NaN</td>\n",
       "      <td>NaN</td>\n",
       "      <td>NaN</td>\n",
       "      <td>NaN</td>\n",
       "      <td>NaN</td>\n",
       "      <td>NaN</td>\n",
       "    </tr>\n",
       "    <tr>\n",
       "      <th>1</th>\n",
       "      <td>2015-01-05</td>\n",
       "      <td>CAG</td>\n",
       "      <td>20.931</td>\n",
       "      <td>NOC</td>\n",
       "      <td>123.433</td>\n",
       "      <td>28.023</td>\n",
       "      <td>146.470</td>\n",
       "      <td>27.564</td>\n",
       "      <td>142.450</td>\n",
       "      <td>5400213.000</td>\n",
       "      <td>...</td>\n",
       "      <td>NaN</td>\n",
       "      <td>NaN</td>\n",
       "      <td>NaN</td>\n",
       "      <td>NaN</td>\n",
       "      <td>NaN</td>\n",
       "      <td>NaN</td>\n",
       "      <td>NaN</td>\n",
       "      <td>NaN</td>\n",
       "      <td>NaN</td>\n",
       "      <td>NaN</td>\n",
       "    </tr>\n",
       "    <tr>\n",
       "      <th>2</th>\n",
       "      <td>2015-01-06</td>\n",
       "      <td>CAG</td>\n",
       "      <td>20.724</td>\n",
       "      <td>NOC</td>\n",
       "      <td>124.114</td>\n",
       "      <td>27.743</td>\n",
       "      <td>146.000</td>\n",
       "      <td>27.167</td>\n",
       "      <td>141.580</td>\n",
       "      <td>5229051.000</td>\n",
       "      <td>...</td>\n",
       "      <td>NaN</td>\n",
       "      <td>NaN</td>\n",
       "      <td>NaN</td>\n",
       "      <td>NaN</td>\n",
       "      <td>NaN</td>\n",
       "      <td>NaN</td>\n",
       "      <td>NaN</td>\n",
       "      <td>NaN</td>\n",
       "      <td>NaN</td>\n",
       "      <td>NaN</td>\n",
       "    </tr>\n",
       "    <tr>\n",
       "      <th>3</th>\n",
       "      <td>2015-01-07</td>\n",
       "      <td>CAG</td>\n",
       "      <td>21.214</td>\n",
       "      <td>NOC</td>\n",
       "      <td>128.040</td>\n",
       "      <td>27.977</td>\n",
       "      <td>148.830</td>\n",
       "      <td>27.432</td>\n",
       "      <td>144.880</td>\n",
       "      <td>3124092.000</td>\n",
       "      <td>...</td>\n",
       "      <td>NaN</td>\n",
       "      <td>NaN</td>\n",
       "      <td>NaN</td>\n",
       "      <td>NaN</td>\n",
       "      <td>NaN</td>\n",
       "      <td>NaN</td>\n",
       "      <td>NaN</td>\n",
       "      <td>NaN</td>\n",
       "      <td>NaN</td>\n",
       "      <td>NaN</td>\n",
       "    </tr>\n",
       "    <tr>\n",
       "      <th>4</th>\n",
       "      <td>2015-01-08</td>\n",
       "      <td>CAG</td>\n",
       "      <td>21.675</td>\n",
       "      <td>NOC</td>\n",
       "      <td>131.010</td>\n",
       "      <td>28.560</td>\n",
       "      <td>153.140</td>\n",
       "      <td>28.054</td>\n",
       "      <td>149.810</td>\n",
       "      <td>4154019.000</td>\n",
       "      <td>...</td>\n",
       "      <td>NaN</td>\n",
       "      <td>NaN</td>\n",
       "      <td>NaN</td>\n",
       "      <td>NaN</td>\n",
       "      <td>NaN</td>\n",
       "      <td>NaN</td>\n",
       "      <td>NaN</td>\n",
       "      <td>NaN</td>\n",
       "      <td>NaN</td>\n",
       "      <td>NaN</td>\n",
       "    </tr>\n",
       "  </tbody>\n",
       "</table>\n",
       "<p>5 rows × 27 columns</p>\n",
       "</div>"
      ],
      "text/plain": [
       "         Date Ticker_P1  Close_P1 Ticker_P2  Close_P2  High_P1  High_P2  \\\n",
       "0  2015-01-02       CAG    21.161       NOC   126.094   28.241  149.160   \n",
       "1  2015-01-05       CAG    20.931       NOC   123.433   28.023  146.470   \n",
       "2  2015-01-06       CAG    20.724       NOC   124.114   27.743  146.000   \n",
       "3  2015-01-07       CAG    21.214       NOC   128.040   27.977  148.830   \n",
       "4  2015-01-08       CAG    21.675       NOC   131.010   28.560  153.140   \n",
       "\n",
       "   Low_P1  Low_P2   Volume_P1  ...  abs_spread_normed_max  \\\n",
       "0  27.868 144.540 5126379.000  ...                    NaN   \n",
       "1  27.564 142.450 5400213.000  ...                    NaN   \n",
       "2  27.167 141.580 5229051.000  ...                    NaN   \n",
       "3  27.432 144.880 3124092.000  ...                    NaN   \n",
       "4  28.054 149.810 4154019.000  ...                    NaN   \n",
       "\n",
       "   abs_spread_normed_90th  abs_spread_normed_75th  abs_spread_normed_median  \\\n",
       "0                     NaN                     NaN                       NaN   \n",
       "1                     NaN                     NaN                       NaN   \n",
       "2                     NaN                     NaN                       NaN   \n",
       "3                     NaN                     NaN                       NaN   \n",
       "4                     NaN                     NaN                       NaN   \n",
       "\n",
       "   abs_spread_normed_l7_avg  abs_spread_normed_l14_avg  cos_sim  corr_coef  \\\n",
       "0                       NaN                        NaN      NaN        NaN   \n",
       "1                       NaN                        NaN      NaN        NaN   \n",
       "2                       NaN                        NaN      NaN        NaN   \n",
       "3                       NaN                        NaN      NaN        NaN   \n",
       "4                       NaN                        NaN      NaN        NaN   \n",
       "\n",
       "   pnls  num_entries  \n",
       "0   NaN          NaN  \n",
       "1   NaN          NaN  \n",
       "2   NaN          NaN  \n",
       "3   NaN          NaN  \n",
       "4   NaN          NaN  \n",
       "\n",
       "[5 rows x 27 columns]"
      ]
     },
     "execution_count": 2,
     "metadata": {},
     "output_type": "execute_result"
    }
   ],
   "source": [
    "df = pd.read_csv('Data/pair_features1_300_60.csv')\n",
    "df.head()"
   ]
  },
  {
   "cell_type": "code",
   "execution_count": 3,
   "id": "a23a2a17",
   "metadata": {},
   "outputs": [],
   "source": [
    "df['pnls'] = df['pnls']*100.0"
   ]
  },
  {
   "cell_type": "code",
   "execution_count": 4,
   "id": "e4d22c2f",
   "metadata": {},
   "outputs": [
    {
     "data": {
      "text/plain": [
       "1257"
      ]
     },
     "execution_count": 4,
     "metadata": {},
     "output_type": "execute_result"
    }
   ],
   "source": [
    "total_days = df.Date.nunique()\n",
    "total_days"
   ]
  },
  {
   "cell_type": "code",
   "execution_count": 5,
   "id": "5ad854f5",
   "metadata": {},
   "outputs": [
    {
     "data": {
      "text/html": [
       "<div>\n",
       "<style scoped>\n",
       "    .dataframe tbody tr th:only-of-type {\n",
       "        vertical-align: middle;\n",
       "    }\n",
       "\n",
       "    .dataframe tbody tr th {\n",
       "        vertical-align: top;\n",
       "    }\n",
       "\n",
       "    .dataframe thead th {\n",
       "        text-align: right;\n",
       "    }\n",
       "</style>\n",
       "<table border=\"1\" class=\"dataframe\">\n",
       "  <thead>\n",
       "    <tr style=\"text-align: right;\">\n",
       "      <th></th>\n",
       "      <th>Date</th>\n",
       "      <th>Ticker_P1</th>\n",
       "      <th>Close_P1</th>\n",
       "      <th>Ticker_P2</th>\n",
       "      <th>Close_P2</th>\n",
       "      <th>High_P1</th>\n",
       "      <th>High_P2</th>\n",
       "      <th>Low_P1</th>\n",
       "      <th>Low_P2</th>\n",
       "      <th>Volume_P1</th>\n",
       "      <th>...</th>\n",
       "      <th>abs_spread_normed_max</th>\n",
       "      <th>abs_spread_normed_90th</th>\n",
       "      <th>abs_spread_normed_75th</th>\n",
       "      <th>abs_spread_normed_median</th>\n",
       "      <th>abs_spread_normed_l7_avg</th>\n",
       "      <th>abs_spread_normed_l14_avg</th>\n",
       "      <th>cos_sim</th>\n",
       "      <th>corr_coef</th>\n",
       "      <th>pnls</th>\n",
       "      <th>num_entries</th>\n",
       "    </tr>\n",
       "  </thead>\n",
       "  <tbody>\n",
       "    <tr>\n",
       "      <th>598</th>\n",
       "      <td>2017-05-18</td>\n",
       "      <td>CAG</td>\n",
       "      <td>30.320</td>\n",
       "      <td>NOC</td>\n",
       "      <td>220.839</td>\n",
       "      <td>37.910</td>\n",
       "      <td>248.990</td>\n",
       "      <td>37.550</td>\n",
       "      <td>243.390</td>\n",
       "      <td>1873300.000</td>\n",
       "      <td>...</td>\n",
       "      <td>2.976</td>\n",
       "      <td>2.271</td>\n",
       "      <td>1.896</td>\n",
       "      <td>1.527</td>\n",
       "      <td>1.576</td>\n",
       "      <td>1.587</td>\n",
       "      <td>0.999</td>\n",
       "      <td>0.807</td>\n",
       "      <td>8.484</td>\n",
       "      <td>1.000</td>\n",
       "    </tr>\n",
       "    <tr>\n",
       "      <th>599</th>\n",
       "      <td>2017-05-19</td>\n",
       "      <td>CAG</td>\n",
       "      <td>30.353</td>\n",
       "      <td>NOC</td>\n",
       "      <td>223.522</td>\n",
       "      <td>37.920</td>\n",
       "      <td>250.380</td>\n",
       "      <td>37.550</td>\n",
       "      <td>247.600</td>\n",
       "      <td>2315700.000</td>\n",
       "      <td>...</td>\n",
       "      <td>2.976</td>\n",
       "      <td>2.271</td>\n",
       "      <td>1.896</td>\n",
       "      <td>1.534</td>\n",
       "      <td>1.586</td>\n",
       "      <td>1.607</td>\n",
       "      <td>0.999</td>\n",
       "      <td>0.804</td>\n",
       "      <td>8.542</td>\n",
       "      <td>1.000</td>\n",
       "    </tr>\n",
       "    <tr>\n",
       "      <th>600</th>\n",
       "      <td>2017-05-22</td>\n",
       "      <td>CAG</td>\n",
       "      <td>30.626</td>\n",
       "      <td>NOC</td>\n",
       "      <td>223.137</td>\n",
       "      <td>38.140</td>\n",
       "      <td>254.000</td>\n",
       "      <td>37.650</td>\n",
       "      <td>249.410</td>\n",
       "      <td>2596500.000</td>\n",
       "      <td>...</td>\n",
       "      <td>2.976</td>\n",
       "      <td>2.271</td>\n",
       "      <td>1.896</td>\n",
       "      <td>1.541</td>\n",
       "      <td>1.594</td>\n",
       "      <td>1.618</td>\n",
       "      <td>0.999</td>\n",
       "      <td>0.802</td>\n",
       "      <td>-7.606</td>\n",
       "      <td>1.000</td>\n",
       "    </tr>\n",
       "    <tr>\n",
       "      <th>601</th>\n",
       "      <td>2017-05-23</td>\n",
       "      <td>CAG</td>\n",
       "      <td>30.884</td>\n",
       "      <td>NOC</td>\n",
       "      <td>224.211</td>\n",
       "      <td>38.600</td>\n",
       "      <td>251.450</td>\n",
       "      <td>38.030</td>\n",
       "      <td>248.580</td>\n",
       "      <td>2263200.000</td>\n",
       "      <td>...</td>\n",
       "      <td>2.976</td>\n",
       "      <td>2.271</td>\n",
       "      <td>1.896</td>\n",
       "      <td>1.541</td>\n",
       "      <td>1.611</td>\n",
       "      <td>1.632</td>\n",
       "      <td>0.999</td>\n",
       "      <td>0.800</td>\n",
       "      <td>-7.463</td>\n",
       "      <td>1.000</td>\n",
       "    </tr>\n",
       "    <tr>\n",
       "      <th>602</th>\n",
       "      <td>2017-05-24</td>\n",
       "      <td>CAG</td>\n",
       "      <td>31.012</td>\n",
       "      <td>NOC</td>\n",
       "      <td>226.653</td>\n",
       "      <td>38.720</td>\n",
       "      <td>253.580</td>\n",
       "      <td>38.500</td>\n",
       "      <td>251.000</td>\n",
       "      <td>1837100.000</td>\n",
       "      <td>...</td>\n",
       "      <td>2.976</td>\n",
       "      <td>2.271</td>\n",
       "      <td>1.896</td>\n",
       "      <td>1.541</td>\n",
       "      <td>1.648</td>\n",
       "      <td>1.657</td>\n",
       "      <td>0.999</td>\n",
       "      <td>0.797</td>\n",
       "      <td>7.843</td>\n",
       "      <td>1.000</td>\n",
       "    </tr>\n",
       "    <tr>\n",
       "      <th>...</th>\n",
       "      <td>...</td>\n",
       "      <td>...</td>\n",
       "      <td>...</td>\n",
       "      <td>...</td>\n",
       "      <td>...</td>\n",
       "      <td>...</td>\n",
       "      <td>...</td>\n",
       "      <td>...</td>\n",
       "      <td>...</td>\n",
       "      <td>...</td>\n",
       "      <td>...</td>\n",
       "      <td>...</td>\n",
       "      <td>...</td>\n",
       "      <td>...</td>\n",
       "      <td>...</td>\n",
       "      <td>...</td>\n",
       "      <td>...</td>\n",
       "      <td>...</td>\n",
       "      <td>...</td>\n",
       "      <td>...</td>\n",
       "      <td>...</td>\n",
       "    </tr>\n",
       "    <tr>\n",
       "      <th>1256935</th>\n",
       "      <td>2019-09-27</td>\n",
       "      <td>TEL</td>\n",
       "      <td>85.735</td>\n",
       "      <td>MAS</td>\n",
       "      <td>38.672</td>\n",
       "      <td>93.980</td>\n",
       "      <td>41.820</td>\n",
       "      <td>92.470</td>\n",
       "      <td>41.100</td>\n",
       "      <td>638600.000</td>\n",
       "      <td>...</td>\n",
       "      <td>2.163</td>\n",
       "      <td>1.720</td>\n",
       "      <td>1.386</td>\n",
       "      <td>0.863</td>\n",
       "      <td>0.768</td>\n",
       "      <td>0.938</td>\n",
       "      <td>0.999</td>\n",
       "      <td>0.879</td>\n",
       "      <td>0.000</td>\n",
       "      <td>0.000</td>\n",
       "    </tr>\n",
       "    <tr>\n",
       "      <th>1256936</th>\n",
       "      <td>2019-09-30</td>\n",
       "      <td>TEL</td>\n",
       "      <td>86.170</td>\n",
       "      <td>MAS</td>\n",
       "      <td>38.672</td>\n",
       "      <td>93.810</td>\n",
       "      <td>41.980</td>\n",
       "      <td>92.950</td>\n",
       "      <td>41.340</td>\n",
       "      <td>1156800.000</td>\n",
       "      <td>...</td>\n",
       "      <td>2.163</td>\n",
       "      <td>1.720</td>\n",
       "      <td>1.386</td>\n",
       "      <td>0.863</td>\n",
       "      <td>0.705</td>\n",
       "      <td>0.905</td>\n",
       "      <td>0.999</td>\n",
       "      <td>0.879</td>\n",
       "      <td>0.000</td>\n",
       "      <td>0.000</td>\n",
       "    </tr>\n",
       "    <tr>\n",
       "      <th>1256937</th>\n",
       "      <td>2019-10-01</td>\n",
       "      <td>TEL</td>\n",
       "      <td>84.644</td>\n",
       "      <td>MAS</td>\n",
       "      <td>38.988</td>\n",
       "      <td>94.280</td>\n",
       "      <td>43.160</td>\n",
       "      <td>91.500</td>\n",
       "      <td>42.010</td>\n",
       "      <td>1172600.000</td>\n",
       "      <td>...</td>\n",
       "      <td>2.163</td>\n",
       "      <td>1.720</td>\n",
       "      <td>1.386</td>\n",
       "      <td>0.863</td>\n",
       "      <td>0.601</td>\n",
       "      <td>0.846</td>\n",
       "      <td>0.999</td>\n",
       "      <td>0.879</td>\n",
       "      <td>0.000</td>\n",
       "      <td>0.000</td>\n",
       "    </tr>\n",
       "    <tr>\n",
       "      <th>1256938</th>\n",
       "      <td>2019-10-02</td>\n",
       "      <td>TEL</td>\n",
       "      <td>82.314</td>\n",
       "      <td>MAS</td>\n",
       "      <td>37.958</td>\n",
       "      <td>91.260</td>\n",
       "      <td>41.750</td>\n",
       "      <td>88.350</td>\n",
       "      <td>40.470</td>\n",
       "      <td>1380800.000</td>\n",
       "      <td>...</td>\n",
       "      <td>2.163</td>\n",
       "      <td>1.720</td>\n",
       "      <td>1.386</td>\n",
       "      <td>0.863</td>\n",
       "      <td>0.535</td>\n",
       "      <td>0.765</td>\n",
       "      <td>0.999</td>\n",
       "      <td>0.879</td>\n",
       "      <td>0.000</td>\n",
       "      <td>0.000</td>\n",
       "    </tr>\n",
       "    <tr>\n",
       "      <th>1256939</th>\n",
       "      <td>2019-10-03</td>\n",
       "      <td>TEL</td>\n",
       "      <td>82.637</td>\n",
       "      <td>MAS</td>\n",
       "      <td>38.487</td>\n",
       "      <td>89.600</td>\n",
       "      <td>41.580</td>\n",
       "      <td>88.010</td>\n",
       "      <td>40.070</td>\n",
       "      <td>1176100.000</td>\n",
       "      <td>...</td>\n",
       "      <td>2.163</td>\n",
       "      <td>1.720</td>\n",
       "      <td>1.386</td>\n",
       "      <td>0.863</td>\n",
       "      <td>0.472</td>\n",
       "      <td>0.693</td>\n",
       "      <td>0.999</td>\n",
       "      <td>0.880</td>\n",
       "      <td>0.000</td>\n",
       "      <td>0.000</td>\n",
       "    </tr>\n",
       "  </tbody>\n",
       "</table>\n",
       "<p>599000 rows × 27 columns</p>\n",
       "</div>"
      ],
      "text/plain": [
       "               Date Ticker_P1  Close_P1 Ticker_P2  Close_P2  High_P1  High_P2  \\\n",
       "598      2017-05-18       CAG    30.320       NOC   220.839   37.910  248.990   \n",
       "599      2017-05-19       CAG    30.353       NOC   223.522   37.920  250.380   \n",
       "600      2017-05-22       CAG    30.626       NOC   223.137   38.140  254.000   \n",
       "601      2017-05-23       CAG    30.884       NOC   224.211   38.600  251.450   \n",
       "602      2017-05-24       CAG    31.012       NOC   226.653   38.720  253.580   \n",
       "...             ...       ...       ...       ...       ...      ...      ...   \n",
       "1256935  2019-09-27       TEL    85.735       MAS    38.672   93.980   41.820   \n",
       "1256936  2019-09-30       TEL    86.170       MAS    38.672   93.810   41.980   \n",
       "1256937  2019-10-01       TEL    84.644       MAS    38.988   94.280   43.160   \n",
       "1256938  2019-10-02       TEL    82.314       MAS    37.958   91.260   41.750   \n",
       "1256939  2019-10-03       TEL    82.637       MAS    38.487   89.600   41.580   \n",
       "\n",
       "         Low_P1  Low_P2   Volume_P1  ...  abs_spread_normed_max  \\\n",
       "598      37.550 243.390 1873300.000  ...                  2.976   \n",
       "599      37.550 247.600 2315700.000  ...                  2.976   \n",
       "600      37.650 249.410 2596500.000  ...                  2.976   \n",
       "601      38.030 248.580 2263200.000  ...                  2.976   \n",
       "602      38.500 251.000 1837100.000  ...                  2.976   \n",
       "...         ...     ...         ...  ...                    ...   \n",
       "1256935  92.470  41.100  638600.000  ...                  2.163   \n",
       "1256936  92.950  41.340 1156800.000  ...                  2.163   \n",
       "1256937  91.500  42.010 1172600.000  ...                  2.163   \n",
       "1256938  88.350  40.470 1380800.000  ...                  2.163   \n",
       "1256939  88.010  40.070 1176100.000  ...                  2.163   \n",
       "\n",
       "         abs_spread_normed_90th  abs_spread_normed_75th  \\\n",
       "598                       2.271                   1.896   \n",
       "599                       2.271                   1.896   \n",
       "600                       2.271                   1.896   \n",
       "601                       2.271                   1.896   \n",
       "602                       2.271                   1.896   \n",
       "...                         ...                     ...   \n",
       "1256935                   1.720                   1.386   \n",
       "1256936                   1.720                   1.386   \n",
       "1256937                   1.720                   1.386   \n",
       "1256938                   1.720                   1.386   \n",
       "1256939                   1.720                   1.386   \n",
       "\n",
       "         abs_spread_normed_median  abs_spread_normed_l7_avg  \\\n",
       "598                         1.527                     1.576   \n",
       "599                         1.534                     1.586   \n",
       "600                         1.541                     1.594   \n",
       "601                         1.541                     1.611   \n",
       "602                         1.541                     1.648   \n",
       "...                           ...                       ...   \n",
       "1256935                     0.863                     0.768   \n",
       "1256936                     0.863                     0.705   \n",
       "1256937                     0.863                     0.601   \n",
       "1256938                     0.863                     0.535   \n",
       "1256939                     0.863                     0.472   \n",
       "\n",
       "         abs_spread_normed_l14_avg  cos_sim  corr_coef   pnls  num_entries  \n",
       "598                          1.587    0.999      0.807  8.484        1.000  \n",
       "599                          1.607    0.999      0.804  8.542        1.000  \n",
       "600                          1.618    0.999      0.802 -7.606        1.000  \n",
       "601                          1.632    0.999      0.800 -7.463        1.000  \n",
       "602                          1.657    0.999      0.797  7.843        1.000  \n",
       "...                            ...      ...        ...    ...          ...  \n",
       "1256935                      0.938    0.999      0.879  0.000        0.000  \n",
       "1256936                      0.905    0.999      0.879  0.000        0.000  \n",
       "1256937                      0.846    0.999      0.879  0.000        0.000  \n",
       "1256938                      0.765    0.999      0.879  0.000        0.000  \n",
       "1256939                      0.693    0.999      0.880  0.000        0.000  \n",
       "\n",
       "[599000 rows x 27 columns]"
      ]
     },
     "execution_count": 5,
     "metadata": {},
     "output_type": "execute_result"
    }
   ],
   "source": [
    "df.dropna()"
   ]
  },
  {
   "cell_type": "code",
   "execution_count": 6,
   "id": "4dd722ed",
   "metadata": {},
   "outputs": [],
   "source": [
    "df = df.sort_values('Date')"
   ]
  },
  {
   "cell_type": "code",
   "execution_count": 7,
   "id": "ef9190d7",
   "metadata": {},
   "outputs": [
    {
     "name": "stdout",
     "output_type": "stream",
     "text": [
      "2015-01-02 2019-12-30\n"
     ]
    }
   ],
   "source": [
    "print(df.Date.min(),df.Date.max())"
   ]
  },
  {
   "cell_type": "markdown",
   "id": "01f79c68",
   "metadata": {},
   "source": [
    "## Technical Indicators"
   ]
  },
  {
   "cell_type": "code",
   "execution_count": 8,
   "id": "57cd0e61",
   "metadata": {},
   "outputs": [],
   "source": [
    "class feature_engineering(object):\n",
    "    def __init__(self):\n",
    "        super(feature_engineering, self).__init__()\n",
    "\n",
    "    def generate_technical_indicator(self, data_df): \n",
    "        '''\n",
    "        Function to generate additional technical indicators for the stock\n",
    "\n",
    "        Uses the \"statsmodels.tsa.stattools\" (as \"ts\") package to apply \n",
    "        the equations specified in the \"Technical Indicators\" markdown section \n",
    "        to stock closing data.\n",
    "        \n",
    "        Input:\n",
    "        data_df-- Dataframe containing stock finacials data\n",
    "        \n",
    "        Output:\n",
    "        Stock finacials data with added Dataframe of feature obtained from feature engineering\n",
    "        ''' \n",
    "        # 1. Momentum Indicators\n",
    "        # Relative Strength Index\n",
    "        df = data_df\n",
    "#         df['rsi'] = ta.momentum.rsi(df['Close'], window=14)\n",
    "#         # Kaufman’s Adaptive Moving Average (KAMA)\n",
    "#         df['kama'] = ta.momentum.kama(df['Close'],window=14)\n",
    "\n",
    "#         # 2. Volume Indicators\n",
    "#         # Accumulation/Distribution Index (ADI)\n",
    "#         df['adi'] = ta.volume.acc_dist_index(df['High'], df['Low'], df['Close'], df['Volume'])\n",
    "\n",
    "#         # Volume-price trend (VPT)\n",
    "#         df['vpt'] = ta.volume.volume_price_trend(df['Close'], df['Volume'])\n",
    "\n",
    "#         # 3. Volatility Indicators\n",
    "#         # Average True Range (ATR)\n",
    "#         df['atr'] = ta.volatility.average_true_range(df['High'], df['Low'],df['Close'], window=14)\n",
    "\n",
    "#         # Bollinger Bands (BB) N-period simple moving average (MA)\n",
    "#         df['bb_ma'] = ta.volatility.bollinger_mavg(df['Close'], window=20)\n",
    "\n",
    "#         # 4. Trend Indicators\n",
    "#         # Average Directional Movement Index (ADX)\n",
    "#         df['adx'] = ta.trend.adx(df['High'], df['Low'], df['Close'], window=14)\n",
    "\n",
    "#         # Exponential Moving Average\n",
    "#         df['ema'] = ta.trend.ema_indicator(df['Close'], window=14)\n",
    "\n",
    "#         # Moving Average Convergence Divergence (MACD)\n",
    "#         df['macd'] = ta.trend.macd(df['Close'], window_fast=14, window_slow=30)\n",
    "\n",
    "#         # 5. Other Indicators\n",
    "#         # Daily Log Return (DLR)\n",
    "#         df['dlr'] = ta.others.daily_log_return(df['Close'])\n",
    "\n",
    "#         # Daily Returns\n",
    "#         df['daily_returns'] = df['Close'].pct_change()\n",
    "\n",
    "#         # Moving Averages\n",
    "#         averages = [50,200]\n",
    "#         for avg in averages:\n",
    "#             col_name = str(avg) +' Days Average'\n",
    "#             df[col_name] = df['Close'].rolling(window = avg, center = False).mean()\n",
    "\n",
    "        return df"
   ]
  },
  {
   "cell_type": "markdown",
   "id": "3872a90c",
   "metadata": {},
   "source": [
    "### Load SPY"
   ]
  },
  {
   "cell_type": "code",
   "execution_count": 9,
   "id": "d39ee0d7",
   "metadata": {},
   "outputs": [],
   "source": [
    "spy_df = pd.read_csv('Data/1999-12-01-2023-12-31_SPY.csv')\n",
    "spy_df = spy_df[['Date','Adj Close']]\n",
    "spy_df.columns = ['Date','SPY_Close']\n",
    "df = pd.merge(df,spy_df,on='Date',how='left')"
   ]
  },
  {
   "cell_type": "code",
   "execution_count": 10,
   "id": "81e58754",
   "metadata": {},
   "outputs": [],
   "source": [
    "# del spy_df\n",
    "# gc.collect()"
   ]
  },
  {
   "cell_type": "code",
   "execution_count": 11,
   "id": "6f1222b3",
   "metadata": {},
   "outputs": [
    {
     "data": {
      "text/html": [
       "<div>\n",
       "<style scoped>\n",
       "    .dataframe tbody tr th:only-of-type {\n",
       "        vertical-align: middle;\n",
       "    }\n",
       "\n",
       "    .dataframe tbody tr th {\n",
       "        vertical-align: top;\n",
       "    }\n",
       "\n",
       "    .dataframe thead th {\n",
       "        text-align: right;\n",
       "    }\n",
       "</style>\n",
       "<table border=\"1\" class=\"dataframe\">\n",
       "  <thead>\n",
       "    <tr style=\"text-align: right;\">\n",
       "      <th></th>\n",
       "      <th>Date</th>\n",
       "      <th>Ticker_P1</th>\n",
       "      <th>Close_P1</th>\n",
       "      <th>Ticker_P2</th>\n",
       "      <th>Close_P2</th>\n",
       "      <th>High_P1</th>\n",
       "      <th>High_P2</th>\n",
       "      <th>Low_P1</th>\n",
       "      <th>Low_P2</th>\n",
       "      <th>Volume_P1</th>\n",
       "      <th>...</th>\n",
       "      <th>abs_spread_normed_90th</th>\n",
       "      <th>abs_spread_normed_75th</th>\n",
       "      <th>abs_spread_normed_median</th>\n",
       "      <th>abs_spread_normed_l7_avg</th>\n",
       "      <th>abs_spread_normed_l14_avg</th>\n",
       "      <th>cos_sim</th>\n",
       "      <th>corr_coef</th>\n",
       "      <th>pnls</th>\n",
       "      <th>num_entries</th>\n",
       "      <th>SPY_Close</th>\n",
       "    </tr>\n",
       "  </thead>\n",
       "  <tbody>\n",
       "    <tr>\n",
       "      <th>598000</th>\n",
       "      <td>2017-05-18</td>\n",
       "      <td>NOC</td>\n",
       "      <td>220.839</td>\n",
       "      <td>VRTX</td>\n",
       "      <td>117.930</td>\n",
       "      <td>248.990</td>\n",
       "      <td>118.610</td>\n",
       "      <td>243.390</td>\n",
       "      <td>115.420</td>\n",
       "      <td>1033600.000</td>\n",
       "      <td>...</td>\n",
       "      <td>2.143</td>\n",
       "      <td>1.675</td>\n",
       "      <td>1.321</td>\n",
       "      <td>0.247</td>\n",
       "      <td>0.276</td>\n",
       "      <td>0.993</td>\n",
       "      <td>0.353</td>\n",
       "      <td>0.000</td>\n",
       "      <td>0.000</td>\n",
       "      <td>210.962</td>\n",
       "    </tr>\n",
       "    <tr>\n",
       "      <th>598001</th>\n",
       "      <td>2017-05-18</td>\n",
       "      <td>CAG</td>\n",
       "      <td>30.320</td>\n",
       "      <td>DLTR</td>\n",
       "      <td>79.000</td>\n",
       "      <td>37.910</td>\n",
       "      <td>79.450</td>\n",
       "      <td>37.550</td>\n",
       "      <td>77.830</td>\n",
       "      <td>1873300.000</td>\n",
       "      <td>...</td>\n",
       "      <td>2.011</td>\n",
       "      <td>1.633</td>\n",
       "      <td>0.867</td>\n",
       "      <td>0.377</td>\n",
       "      <td>0.289</td>\n",
       "      <td>0.993</td>\n",
       "      <td>-0.323</td>\n",
       "      <td>0.000</td>\n",
       "      <td>0.000</td>\n",
       "      <td>210.962</td>\n",
       "    </tr>\n",
       "    <tr>\n",
       "      <th>598002</th>\n",
       "      <td>2017-05-18</td>\n",
       "      <td>NOC</td>\n",
       "      <td>220.839</td>\n",
       "      <td>GIS</td>\n",
       "      <td>44.200</td>\n",
       "      <td>248.990</td>\n",
       "      <td>56.160</td>\n",
       "      <td>243.390</td>\n",
       "      <td>55.750</td>\n",
       "      <td>1033600.000</td>\n",
       "      <td>...</td>\n",
       "      <td>2.240</td>\n",
       "      <td>1.889</td>\n",
       "      <td>1.620</td>\n",
       "      <td>1.656</td>\n",
       "      <td>1.671</td>\n",
       "      <td>0.994</td>\n",
       "      <td>-0.351</td>\n",
       "      <td>3.545</td>\n",
       "      <td>1.000</td>\n",
       "      <td>210.962</td>\n",
       "    </tr>\n",
       "    <tr>\n",
       "      <th>598003</th>\n",
       "      <td>2017-05-18</td>\n",
       "      <td>NOC</td>\n",
       "      <td>220.839</td>\n",
       "      <td>UPS</td>\n",
       "      <td>82.969</td>\n",
       "      <td>248.990</td>\n",
       "      <td>103.640</td>\n",
       "      <td>243.390</td>\n",
       "      <td>102.120</td>\n",
       "      <td>1033600.000</td>\n",
       "      <td>...</td>\n",
       "      <td>2.252</td>\n",
       "      <td>1.912</td>\n",
       "      <td>1.597</td>\n",
       "      <td>1.795</td>\n",
       "      <td>1.758</td>\n",
       "      <td>0.998</td>\n",
       "      <td>0.565</td>\n",
       "      <td>-0.572</td>\n",
       "      <td>1.000</td>\n",
       "      <td>210.962</td>\n",
       "    </tr>\n",
       "    <tr>\n",
       "      <th>598004</th>\n",
       "      <td>2017-05-18</td>\n",
       "      <td>CAG</td>\n",
       "      <td>30.320</td>\n",
       "      <td>CB</td>\n",
       "      <td>121.314</td>\n",
       "      <td>37.910</td>\n",
       "      <td>139.900</td>\n",
       "      <td>37.550</td>\n",
       "      <td>137.570</td>\n",
       "      <td>1873300.000</td>\n",
       "      <td>...</td>\n",
       "      <td>1.985</td>\n",
       "      <td>1.797</td>\n",
       "      <td>1.425</td>\n",
       "      <td>2.025</td>\n",
       "      <td>2.043</td>\n",
       "      <td>1.000</td>\n",
       "      <td>0.884</td>\n",
       "      <td>-6.867</td>\n",
       "      <td>1.000</td>\n",
       "      <td>210.962</td>\n",
       "    </tr>\n",
       "    <tr>\n",
       "      <th>...</th>\n",
       "      <td>...</td>\n",
       "      <td>...</td>\n",
       "      <td>...</td>\n",
       "      <td>...</td>\n",
       "      <td>...</td>\n",
       "      <td>...</td>\n",
       "      <td>...</td>\n",
       "      <td>...</td>\n",
       "      <td>...</td>\n",
       "      <td>...</td>\n",
       "      <td>...</td>\n",
       "      <td>...</td>\n",
       "      <td>...</td>\n",
       "      <td>...</td>\n",
       "      <td>...</td>\n",
       "      <td>...</td>\n",
       "      <td>...</td>\n",
       "      <td>...</td>\n",
       "      <td>...</td>\n",
       "      <td>...</td>\n",
       "      <td>...</td>\n",
       "    </tr>\n",
       "    <tr>\n",
       "      <th>1196995</th>\n",
       "      <td>2019-10-03</td>\n",
       "      <td>CAG</td>\n",
       "      <td>23.895</td>\n",
       "      <td>PPG</td>\n",
       "      <td>105.900</td>\n",
       "      <td>28.350</td>\n",
       "      <td>114.610</td>\n",
       "      <td>27.530</td>\n",
       "      <td>112.020</td>\n",
       "      <td>5761300.000</td>\n",
       "      <td>...</td>\n",
       "      <td>1.946</td>\n",
       "      <td>1.630</td>\n",
       "      <td>1.126</td>\n",
       "      <td>0.988</td>\n",
       "      <td>1.114</td>\n",
       "      <td>0.987</td>\n",
       "      <td>0.069</td>\n",
       "      <td>7.625</td>\n",
       "      <td>1.000</td>\n",
       "      <td>271.375</td>\n",
       "    </tr>\n",
       "    <tr>\n",
       "      <th>1196996</th>\n",
       "      <td>2019-10-03</td>\n",
       "      <td>NOC</td>\n",
       "      <td>338.671</td>\n",
       "      <td>T</td>\n",
       "      <td>19.705</td>\n",
       "      <td>364.990</td>\n",
       "      <td>28.097</td>\n",
       "      <td>359.250</td>\n",
       "      <td>27.689</td>\n",
       "      <td>835600.000</td>\n",
       "      <td>...</td>\n",
       "      <td>2.397</td>\n",
       "      <td>1.925</td>\n",
       "      <td>1.009</td>\n",
       "      <td>2.044</td>\n",
       "      <td>2.135</td>\n",
       "      <td>0.999</td>\n",
       "      <td>0.931</td>\n",
       "      <td>-5.167</td>\n",
       "      <td>1.000</td>\n",
       "      <td>271.375</td>\n",
       "    </tr>\n",
       "    <tr>\n",
       "      <th>1196997</th>\n",
       "      <td>2019-10-03</td>\n",
       "      <td>CAG</td>\n",
       "      <td>23.895</td>\n",
       "      <td>GPN</td>\n",
       "      <td>154.164</td>\n",
       "      <td>28.350</td>\n",
       "      <td>158.780</td>\n",
       "      <td>27.530</td>\n",
       "      <td>153.780</td>\n",
       "      <td>5761300.000</td>\n",
       "      <td>...</td>\n",
       "      <td>2.627</td>\n",
       "      <td>2.394</td>\n",
       "      <td>1.877</td>\n",
       "      <td>1.108</td>\n",
       "      <td>1.230</td>\n",
       "      <td>0.974</td>\n",
       "      <td>-0.041</td>\n",
       "      <td>9.289</td>\n",
       "      <td>1.000</td>\n",
       "      <td>271.375</td>\n",
       "    </tr>\n",
       "    <tr>\n",
       "      <th>1196998</th>\n",
       "      <td>2019-10-03</td>\n",
       "      <td>NOC</td>\n",
       "      <td>338.671</td>\n",
       "      <td>APH</td>\n",
       "      <td>45.329</td>\n",
       "      <td>364.990</td>\n",
       "      <td>47.320</td>\n",
       "      <td>359.250</td>\n",
       "      <td>46.300</td>\n",
       "      <td>835600.000</td>\n",
       "      <td>...</td>\n",
       "      <td>2.456</td>\n",
       "      <td>1.917</td>\n",
       "      <td>1.058</td>\n",
       "      <td>2.042</td>\n",
       "      <td>2.141</td>\n",
       "      <td>0.993</td>\n",
       "      <td>0.262</td>\n",
       "      <td>9.285</td>\n",
       "      <td>1.000</td>\n",
       "      <td>271.375</td>\n",
       "    </tr>\n",
       "    <tr>\n",
       "      <th>1196999</th>\n",
       "      <td>2019-10-03</td>\n",
       "      <td>CAG</td>\n",
       "      <td>23.895</td>\n",
       "      <td>TYL</td>\n",
       "      <td>262.070</td>\n",
       "      <td>28.350</td>\n",
       "      <td>262.990</td>\n",
       "      <td>27.530</td>\n",
       "      <td>255.450</td>\n",
       "      <td>5761300.000</td>\n",
       "      <td>...</td>\n",
       "      <td>1.984</td>\n",
       "      <td>1.548</td>\n",
       "      <td>0.655</td>\n",
       "      <td>1.927</td>\n",
       "      <td>1.930</td>\n",
       "      <td>0.989</td>\n",
       "      <td>0.440</td>\n",
       "      <td>-2.552</td>\n",
       "      <td>1.000</td>\n",
       "      <td>271.375</td>\n",
       "    </tr>\n",
       "  </tbody>\n",
       "</table>\n",
       "<p>599000 rows × 28 columns</p>\n",
       "</div>"
      ],
      "text/plain": [
       "               Date Ticker_P1  Close_P1 Ticker_P2  Close_P2  High_P1  High_P2  \\\n",
       "598000   2017-05-18       NOC   220.839      VRTX   117.930  248.990  118.610   \n",
       "598001   2017-05-18       CAG    30.320      DLTR    79.000   37.910   79.450   \n",
       "598002   2017-05-18       NOC   220.839       GIS    44.200  248.990   56.160   \n",
       "598003   2017-05-18       NOC   220.839       UPS    82.969  248.990  103.640   \n",
       "598004   2017-05-18       CAG    30.320        CB   121.314   37.910  139.900   \n",
       "...             ...       ...       ...       ...       ...      ...      ...   \n",
       "1196995  2019-10-03       CAG    23.895       PPG   105.900   28.350  114.610   \n",
       "1196996  2019-10-03       NOC   338.671         T    19.705  364.990   28.097   \n",
       "1196997  2019-10-03       CAG    23.895       GPN   154.164   28.350  158.780   \n",
       "1196998  2019-10-03       NOC   338.671       APH    45.329  364.990   47.320   \n",
       "1196999  2019-10-03       CAG    23.895       TYL   262.070   28.350  262.990   \n",
       "\n",
       "         Low_P1  Low_P2   Volume_P1  ...  abs_spread_normed_90th  \\\n",
       "598000  243.390 115.420 1033600.000  ...                   2.143   \n",
       "598001   37.550  77.830 1873300.000  ...                   2.011   \n",
       "598002  243.390  55.750 1033600.000  ...                   2.240   \n",
       "598003  243.390 102.120 1033600.000  ...                   2.252   \n",
       "598004   37.550 137.570 1873300.000  ...                   1.985   \n",
       "...         ...     ...         ...  ...                     ...   \n",
       "1196995  27.530 112.020 5761300.000  ...                   1.946   \n",
       "1196996 359.250  27.689  835600.000  ...                   2.397   \n",
       "1196997  27.530 153.780 5761300.000  ...                   2.627   \n",
       "1196998 359.250  46.300  835600.000  ...                   2.456   \n",
       "1196999  27.530 255.450 5761300.000  ...                   1.984   \n",
       "\n",
       "         abs_spread_normed_75th  abs_spread_normed_median  \\\n",
       "598000                    1.675                     1.321   \n",
       "598001                    1.633                     0.867   \n",
       "598002                    1.889                     1.620   \n",
       "598003                    1.912                     1.597   \n",
       "598004                    1.797                     1.425   \n",
       "...                         ...                       ...   \n",
       "1196995                   1.630                     1.126   \n",
       "1196996                   1.925                     1.009   \n",
       "1196997                   2.394                     1.877   \n",
       "1196998                   1.917                     1.058   \n",
       "1196999                   1.548                     0.655   \n",
       "\n",
       "         abs_spread_normed_l7_avg  abs_spread_normed_l14_avg  cos_sim  \\\n",
       "598000                      0.247                      0.276    0.993   \n",
       "598001                      0.377                      0.289    0.993   \n",
       "598002                      1.656                      1.671    0.994   \n",
       "598003                      1.795                      1.758    0.998   \n",
       "598004                      2.025                      2.043    1.000   \n",
       "...                           ...                        ...      ...   \n",
       "1196995                     0.988                      1.114    0.987   \n",
       "1196996                     2.044                      2.135    0.999   \n",
       "1196997                     1.108                      1.230    0.974   \n",
       "1196998                     2.042                      2.141    0.993   \n",
       "1196999                     1.927                      1.930    0.989   \n",
       "\n",
       "         corr_coef   pnls  num_entries  SPY_Close  \n",
       "598000       0.353  0.000        0.000    210.962  \n",
       "598001      -0.323  0.000        0.000    210.962  \n",
       "598002      -0.351  3.545        1.000    210.962  \n",
       "598003       0.565 -0.572        1.000    210.962  \n",
       "598004       0.884 -6.867        1.000    210.962  \n",
       "...            ...    ...          ...        ...  \n",
       "1196995      0.069  7.625        1.000    271.375  \n",
       "1196996      0.931 -5.167        1.000    271.375  \n",
       "1196997     -0.041  9.289        1.000    271.375  \n",
       "1196998      0.262  9.285        1.000    271.375  \n",
       "1196999      0.440 -2.552        1.000    271.375  \n",
       "\n",
       "[599000 rows x 28 columns]"
      ]
     },
     "execution_count": 11,
     "metadata": {},
     "output_type": "execute_result"
    }
   ],
   "source": [
    "df = df.dropna()\n",
    "df"
   ]
  },
  {
   "cell_type": "markdown",
   "id": "b5717d7f",
   "metadata": {},
   "source": [
    "### Beta"
   ]
  },
  {
   "cell_type": "code",
   "execution_count": 12,
   "id": "a9c38c69",
   "metadata": {},
   "outputs": [],
   "source": [
    "def compute_beta(rs,df,ticker,market):\n",
    "    rows = df.loc[rs.index]\n",
    "    sec_returns = np.log( df[[ticker,market]] / df[[ticker,market]].shift(1) ) \n",
    "\n",
    "    cov = sec_returns.cov() * 250\n",
    "    cov_with_market = cov.iloc[0,1]\n",
    "    market_var = sec_returns[market].var() * 250\n",
    "    beta = cov_with_market / market_var\n",
    "    return beta"
   ]
  },
  {
   "cell_type": "code",
   "execution_count": 13,
   "id": "0d61d325",
   "metadata": {},
   "outputs": [
    {
     "data": {
      "text/plain": [
       "478"
      ]
     },
     "execution_count": 13,
     "metadata": {},
     "output_type": "execute_result"
    }
   ],
   "source": [
    "all_tickers = df['Ticker_P1'].unique().tolist()+df['Ticker_P2'].unique().tolist()\n",
    "len(all_tickers)"
   ]
  },
  {
   "cell_type": "code",
   "execution_count": 14,
   "id": "e78c7e55",
   "metadata": {},
   "outputs": [],
   "source": [
    "fe_obj = feature_engineering()"
   ]
  },
  {
   "cell_type": "markdown",
   "id": "5f2f8ee4",
   "metadata": {},
   "source": [
    "### Single Ticker Features"
   ]
  },
  {
   "cell_type": "code",
   "execution_count": 15,
   "id": "fc1b5a40",
   "metadata": {},
   "outputs": [
    {
     "data": {
      "text/plain": [
       "Index(['Date', 'Ticker_P1', 'Close_P1', 'Ticker_P2', 'Close_P2', 'High_P1',\n",
       "       'High_P2', 'Low_P1', 'Low_P2', 'Volume_P1', 'Volume_P2', 'abs_spread',\n",
       "       'abs_spread_mean', 'abs_spread_std', 'abs_spread_mean_l28',\n",
       "       'abs_spread_std_l28', 'spread_normed', 'abs_spread_normed_max',\n",
       "       'abs_spread_normed_90th', 'abs_spread_normed_75th',\n",
       "       'abs_spread_normed_median', 'abs_spread_normed_l7_avg',\n",
       "       'abs_spread_normed_l14_avg', 'cos_sim', 'corr_coef', 'pnls',\n",
       "       'num_entries', 'SPY_Close'],\n",
       "      dtype='object')"
      ]
     },
     "execution_count": 15,
     "metadata": {},
     "output_type": "execute_result"
    }
   ],
   "source": [
    "df.columns"
   ]
  },
  {
   "cell_type": "code",
   "execution_count": 16,
   "id": "5978ff8a",
   "metadata": {},
   "outputs": [
    {
     "data": {
      "text/html": [
       "<div>\n",
       "<style scoped>\n",
       "    .dataframe tbody tr th:only-of-type {\n",
       "        vertical-align: middle;\n",
       "    }\n",
       "\n",
       "    .dataframe tbody tr th {\n",
       "        vertical-align: top;\n",
       "    }\n",
       "\n",
       "    .dataframe thead th {\n",
       "        text-align: right;\n",
       "    }\n",
       "</style>\n",
       "<table border=\"1\" class=\"dataframe\">\n",
       "  <thead>\n",
       "    <tr style=\"text-align: right;\">\n",
       "      <th></th>\n",
       "      <th>Date</th>\n",
       "      <th>Ticker_P1</th>\n",
       "      <th>Close_P1</th>\n",
       "      <th>Ticker_P2</th>\n",
       "      <th>Close_P2</th>\n",
       "      <th>High_P1</th>\n",
       "      <th>High_P2</th>\n",
       "      <th>Low_P1</th>\n",
       "      <th>Low_P2</th>\n",
       "      <th>Volume_P1</th>\n",
       "      <th>...</th>\n",
       "      <th>abs_spread_normed_90th</th>\n",
       "      <th>abs_spread_normed_75th</th>\n",
       "      <th>abs_spread_normed_median</th>\n",
       "      <th>abs_spread_normed_l7_avg</th>\n",
       "      <th>abs_spread_normed_l14_avg</th>\n",
       "      <th>cos_sim</th>\n",
       "      <th>corr_coef</th>\n",
       "      <th>pnls</th>\n",
       "      <th>num_entries</th>\n",
       "      <th>SPY_Close</th>\n",
       "    </tr>\n",
       "  </thead>\n",
       "  <tbody>\n",
       "    <tr>\n",
       "      <th>598000</th>\n",
       "      <td>2017-05-18</td>\n",
       "      <td>NOC</td>\n",
       "      <td>220.839</td>\n",
       "      <td>VRTX</td>\n",
       "      <td>117.930</td>\n",
       "      <td>248.990</td>\n",
       "      <td>118.610</td>\n",
       "      <td>243.390</td>\n",
       "      <td>115.420</td>\n",
       "      <td>1033600.000</td>\n",
       "      <td>...</td>\n",
       "      <td>2.143</td>\n",
       "      <td>1.675</td>\n",
       "      <td>1.321</td>\n",
       "      <td>0.247</td>\n",
       "      <td>0.276</td>\n",
       "      <td>0.993</td>\n",
       "      <td>0.353</td>\n",
       "      <td>0.000</td>\n",
       "      <td>0.000</td>\n",
       "      <td>210.962</td>\n",
       "    </tr>\n",
       "    <tr>\n",
       "      <th>598658</th>\n",
       "      <td>2017-05-18</td>\n",
       "      <td>CAG</td>\n",
       "      <td>30.320</td>\n",
       "      <td>NEE</td>\n",
       "      <td>28.926</td>\n",
       "      <td>37.910</td>\n",
       "      <td>34.432</td>\n",
       "      <td>37.550</td>\n",
       "      <td>33.930</td>\n",
       "      <td>1873300.000</td>\n",
       "      <td>...</td>\n",
       "      <td>2.040</td>\n",
       "      <td>1.470</td>\n",
       "      <td>0.859</td>\n",
       "      <td>1.544</td>\n",
       "      <td>1.393</td>\n",
       "      <td>0.999</td>\n",
       "      <td>0.613</td>\n",
       "      <td>0.000</td>\n",
       "      <td>0.000</td>\n",
       "      <td>210.962</td>\n",
       "    </tr>\n",
       "    <tr>\n",
       "      <th>598659</th>\n",
       "      <td>2017-05-18</td>\n",
       "      <td>CAG</td>\n",
       "      <td>30.320</td>\n",
       "      <td>LUV</td>\n",
       "      <td>53.832</td>\n",
       "      <td>37.910</td>\n",
       "      <td>57.780</td>\n",
       "      <td>37.550</td>\n",
       "      <td>56.960</td>\n",
       "      <td>1873300.000</td>\n",
       "      <td>...</td>\n",
       "      <td>1.934</td>\n",
       "      <td>1.394</td>\n",
       "      <td>1.037</td>\n",
       "      <td>2.043</td>\n",
       "      <td>2.126</td>\n",
       "      <td>0.994</td>\n",
       "      <td>0.769</td>\n",
       "      <td>-0.406</td>\n",
       "      <td>1.000</td>\n",
       "      <td>210.962</td>\n",
       "    </tr>\n",
       "    <tr>\n",
       "      <th>598660</th>\n",
       "      <td>2017-05-18</td>\n",
       "      <td>CAG</td>\n",
       "      <td>30.320</td>\n",
       "      <td>EFX</td>\n",
       "      <td>126.358</td>\n",
       "      <td>37.910</td>\n",
       "      <td>136.250</td>\n",
       "      <td>37.550</td>\n",
       "      <td>133.490</td>\n",
       "      <td>1873300.000</td>\n",
       "      <td>...</td>\n",
       "      <td>2.464</td>\n",
       "      <td>1.966</td>\n",
       "      <td>1.350</td>\n",
       "      <td>1.241</td>\n",
       "      <td>1.327</td>\n",
       "      <td>0.998</td>\n",
       "      <td>0.413</td>\n",
       "      <td>-5.578</td>\n",
       "      <td>1.000</td>\n",
       "      <td>210.962</td>\n",
       "    </tr>\n",
       "    <tr>\n",
       "      <th>598661</th>\n",
       "      <td>2017-05-18</td>\n",
       "      <td>NOC</td>\n",
       "      <td>220.839</td>\n",
       "      <td>MO</td>\n",
       "      <td>44.004</td>\n",
       "      <td>248.990</td>\n",
       "      <td>70.850</td>\n",
       "      <td>243.390</td>\n",
       "      <td>70.270</td>\n",
       "      <td>1033600.000</td>\n",
       "      <td>...</td>\n",
       "      <td>2.411</td>\n",
       "      <td>1.956</td>\n",
       "      <td>1.486</td>\n",
       "      <td>1.465</td>\n",
       "      <td>1.475</td>\n",
       "      <td>0.999</td>\n",
       "      <td>0.741</td>\n",
       "      <td>9.241</td>\n",
       "      <td>1.000</td>\n",
       "      <td>210.962</td>\n",
       "    </tr>\n",
       "    <tr>\n",
       "      <th>...</th>\n",
       "      <td>...</td>\n",
       "      <td>...</td>\n",
       "      <td>...</td>\n",
       "      <td>...</td>\n",
       "      <td>...</td>\n",
       "      <td>...</td>\n",
       "      <td>...</td>\n",
       "      <td>...</td>\n",
       "      <td>...</td>\n",
       "      <td>...</td>\n",
       "      <td>...</td>\n",
       "      <td>...</td>\n",
       "      <td>...</td>\n",
       "      <td>...</td>\n",
       "      <td>...</td>\n",
       "      <td>...</td>\n",
       "      <td>...</td>\n",
       "      <td>...</td>\n",
       "      <td>...</td>\n",
       "      <td>...</td>\n",
       "      <td>...</td>\n",
       "    </tr>\n",
       "    <tr>\n",
       "      <th>1196338</th>\n",
       "      <td>2019-10-03</td>\n",
       "      <td>NOC</td>\n",
       "      <td>338.671</td>\n",
       "      <td>LUV</td>\n",
       "      <td>50.477</td>\n",
       "      <td>364.990</td>\n",
       "      <td>52.440</td>\n",
       "      <td>359.250</td>\n",
       "      <td>51.260</td>\n",
       "      <td>835600.000</td>\n",
       "      <td>...</td>\n",
       "      <td>2.389</td>\n",
       "      <td>1.800</td>\n",
       "      <td>0.972</td>\n",
       "      <td>2.085</td>\n",
       "      <td>2.153</td>\n",
       "      <td>0.991</td>\n",
       "      <td>0.154</td>\n",
       "      <td>-3.530</td>\n",
       "      <td>1.000</td>\n",
       "      <td>271.375</td>\n",
       "    </tr>\n",
       "    <tr>\n",
       "      <th>1196339</th>\n",
       "      <td>2019-10-03</td>\n",
       "      <td>CAG</td>\n",
       "      <td>23.895</td>\n",
       "      <td>OXY</td>\n",
       "      <td>40.120</td>\n",
       "      <td>28.350</td>\n",
       "      <td>43.400</td>\n",
       "      <td>27.530</td>\n",
       "      <td>42.260</td>\n",
       "      <td>5761300.000</td>\n",
       "      <td>...</td>\n",
       "      <td>2.331</td>\n",
       "      <td>1.825</td>\n",
       "      <td>1.060</td>\n",
       "      <td>1.737</td>\n",
       "      <td>1.713</td>\n",
       "      <td>0.984</td>\n",
       "      <td>0.390</td>\n",
       "      <td>0.000</td>\n",
       "      <td>0.000</td>\n",
       "      <td>271.375</td>\n",
       "    </tr>\n",
       "    <tr>\n",
       "      <th>1196340</th>\n",
       "      <td>2019-10-03</td>\n",
       "      <td>NOC</td>\n",
       "      <td>338.671</td>\n",
       "      <td>RMD</td>\n",
       "      <td>125.398</td>\n",
       "      <td>364.990</td>\n",
       "      <td>130.530</td>\n",
       "      <td>359.250</td>\n",
       "      <td>127.400</td>\n",
       "      <td>835600.000</td>\n",
       "      <td>...</td>\n",
       "      <td>2.301</td>\n",
       "      <td>1.862</td>\n",
       "      <td>0.999</td>\n",
       "      <td>1.945</td>\n",
       "      <td>2.008</td>\n",
       "      <td>0.998</td>\n",
       "      <td>0.829</td>\n",
       "      <td>-12.177</td>\n",
       "      <td>1.000</td>\n",
       "      <td>271.375</td>\n",
       "    </tr>\n",
       "    <tr>\n",
       "      <th>1196327</th>\n",
       "      <td>2019-10-03</td>\n",
       "      <td>CAG</td>\n",
       "      <td>23.895</td>\n",
       "      <td>INTC</td>\n",
       "      <td>44.347</td>\n",
       "      <td>28.350</td>\n",
       "      <td>50.070</td>\n",
       "      <td>27.530</td>\n",
       "      <td>48.530</td>\n",
       "      <td>5761300.000</td>\n",
       "      <td>...</td>\n",
       "      <td>2.527</td>\n",
       "      <td>1.602</td>\n",
       "      <td>0.539</td>\n",
       "      <td>0.320</td>\n",
       "      <td>0.378</td>\n",
       "      <td>0.982</td>\n",
       "      <td>-0.285</td>\n",
       "      <td>10.017</td>\n",
       "      <td>1.000</td>\n",
       "      <td>271.375</td>\n",
       "    </tr>\n",
       "    <tr>\n",
       "      <th>1196999</th>\n",
       "      <td>2019-10-03</td>\n",
       "      <td>CAG</td>\n",
       "      <td>23.895</td>\n",
       "      <td>TYL</td>\n",
       "      <td>262.070</td>\n",
       "      <td>28.350</td>\n",
       "      <td>262.990</td>\n",
       "      <td>27.530</td>\n",
       "      <td>255.450</td>\n",
       "      <td>5761300.000</td>\n",
       "      <td>...</td>\n",
       "      <td>1.984</td>\n",
       "      <td>1.548</td>\n",
       "      <td>0.655</td>\n",
       "      <td>1.927</td>\n",
       "      <td>1.930</td>\n",
       "      <td>0.989</td>\n",
       "      <td>0.440</td>\n",
       "      <td>-2.552</td>\n",
       "      <td>1.000</td>\n",
       "      <td>271.375</td>\n",
       "    </tr>\n",
       "  </tbody>\n",
       "</table>\n",
       "<p>599000 rows × 28 columns</p>\n",
       "</div>"
      ],
      "text/plain": [
       "               Date Ticker_P1  Close_P1 Ticker_P2  Close_P2  High_P1  High_P2  \\\n",
       "598000   2017-05-18       NOC   220.839      VRTX   117.930  248.990  118.610   \n",
       "598658   2017-05-18       CAG    30.320       NEE    28.926   37.910   34.432   \n",
       "598659   2017-05-18       CAG    30.320       LUV    53.832   37.910   57.780   \n",
       "598660   2017-05-18       CAG    30.320       EFX   126.358   37.910  136.250   \n",
       "598661   2017-05-18       NOC   220.839        MO    44.004  248.990   70.850   \n",
       "...             ...       ...       ...       ...       ...      ...      ...   \n",
       "1196338  2019-10-03       NOC   338.671       LUV    50.477  364.990   52.440   \n",
       "1196339  2019-10-03       CAG    23.895       OXY    40.120   28.350   43.400   \n",
       "1196340  2019-10-03       NOC   338.671       RMD   125.398  364.990  130.530   \n",
       "1196327  2019-10-03       CAG    23.895      INTC    44.347   28.350   50.070   \n",
       "1196999  2019-10-03       CAG    23.895       TYL   262.070   28.350  262.990   \n",
       "\n",
       "         Low_P1  Low_P2   Volume_P1  ...  abs_spread_normed_90th  \\\n",
       "598000  243.390 115.420 1033600.000  ...                   2.143   \n",
       "598658   37.550  33.930 1873300.000  ...                   2.040   \n",
       "598659   37.550  56.960 1873300.000  ...                   1.934   \n",
       "598660   37.550 133.490 1873300.000  ...                   2.464   \n",
       "598661  243.390  70.270 1033600.000  ...                   2.411   \n",
       "...         ...     ...         ...  ...                     ...   \n",
       "1196338 359.250  51.260  835600.000  ...                   2.389   \n",
       "1196339  27.530  42.260 5761300.000  ...                   2.331   \n",
       "1196340 359.250 127.400  835600.000  ...                   2.301   \n",
       "1196327  27.530  48.530 5761300.000  ...                   2.527   \n",
       "1196999  27.530 255.450 5761300.000  ...                   1.984   \n",
       "\n",
       "         abs_spread_normed_75th  abs_spread_normed_median  \\\n",
       "598000                    1.675                     1.321   \n",
       "598658                    1.470                     0.859   \n",
       "598659                    1.394                     1.037   \n",
       "598660                    1.966                     1.350   \n",
       "598661                    1.956                     1.486   \n",
       "...                         ...                       ...   \n",
       "1196338                   1.800                     0.972   \n",
       "1196339                   1.825                     1.060   \n",
       "1196340                   1.862                     0.999   \n",
       "1196327                   1.602                     0.539   \n",
       "1196999                   1.548                     0.655   \n",
       "\n",
       "         abs_spread_normed_l7_avg  abs_spread_normed_l14_avg  cos_sim  \\\n",
       "598000                      0.247                      0.276    0.993   \n",
       "598658                      1.544                      1.393    0.999   \n",
       "598659                      2.043                      2.126    0.994   \n",
       "598660                      1.241                      1.327    0.998   \n",
       "598661                      1.465                      1.475    0.999   \n",
       "...                           ...                        ...      ...   \n",
       "1196338                     2.085                      2.153    0.991   \n",
       "1196339                     1.737                      1.713    0.984   \n",
       "1196340                     1.945                      2.008    0.998   \n",
       "1196327                     0.320                      0.378    0.982   \n",
       "1196999                     1.927                      1.930    0.989   \n",
       "\n",
       "         corr_coef    pnls  num_entries  SPY_Close  \n",
       "598000       0.353   0.000        0.000    210.962  \n",
       "598658       0.613   0.000        0.000    210.962  \n",
       "598659       0.769  -0.406        1.000    210.962  \n",
       "598660       0.413  -5.578        1.000    210.962  \n",
       "598661       0.741   9.241        1.000    210.962  \n",
       "...            ...     ...          ...        ...  \n",
       "1196338      0.154  -3.530        1.000    271.375  \n",
       "1196339      0.390   0.000        0.000    271.375  \n",
       "1196340      0.829 -12.177        1.000    271.375  \n",
       "1196327     -0.285  10.017        1.000    271.375  \n",
       "1196999      0.440  -2.552        1.000    271.375  \n",
       "\n",
       "[599000 rows x 28 columns]"
      ]
     },
     "execution_count": 16,
     "metadata": {},
     "output_type": "execute_result"
    }
   ],
   "source": [
    "df.sort_values('Date')"
   ]
  },
  {
   "cell_type": "code",
   "execution_count": 17,
   "id": "cff2ae08",
   "metadata": {},
   "outputs": [
    {
     "data": {
      "application/vnd.jupyter.widget-view+json": {
       "model_id": "1f6f178673754a57b64632a17591429b",
       "version_major": 2,
       "version_minor": 0
      },
      "text/plain": [
       "  0%|          | 0/478 [00:00<?, ?it/s]"
      ]
     },
     "metadata": {},
     "output_type": "display_data"
    }
   ],
   "source": [
    "all_tickers_df_list = []\n",
    "for t in tqdm(all_tickers):\n",
    "    single_ticker_df = (df[df['Ticker_P1']==t] if t in df['Ticker_P1'].unique() else df[df['Ticker_P2']==t])\n",
    "    single_ticker_df = single_ticker_df.sort_values('Date')\n",
    "    single_ticker_df = single_ticker_df[['Date','Ticker_P1','Close_P1','High_P1','Low_P1','Volume_P1','SPY_Close']] if t in df['Ticker_P1'].unique() else\\\n",
    "                       single_ticker_df[['Date','Ticker_P2','Close_P2','High_P2','Low_P2','Volume_P2','SPY_Close']]\n",
    "    single_ticker_df.columns = ['Date','Ticker','Close','High','Low','Volume','SPY_Close']\n",
    "    single_ticker_df = single_ticker_df.drop_duplicates()\n",
    "    single_ticker_df = single_ticker_df.dropna()\n",
    "\n",
    "#     single_ticker_df['rolling_beta'] = single_ticker_df['Close'].rolling(300).progress_apply(compute_beta, \\\n",
    "#                                         args=(single_ticker_df,'Close','SPY_Close'))\n",
    "\n",
    "    single_ticker_df_with_technical_indicators = fe_obj.generate_technical_indicator(single_ticker_df)\n",
    "    \n",
    "\n",
    "\n",
    "\n",
    "    \n",
    "    all_tickers_df_list.append(single_ticker_df_with_technical_indicators)\n"
   ]
  },
  {
   "cell_type": "code",
   "execution_count": 18,
   "id": "3117adab",
   "metadata": {},
   "outputs": [
    {
     "data": {
      "text/plain": [
       "(286322, 7)"
      ]
     },
     "execution_count": 18,
     "metadata": {},
     "output_type": "execute_result"
    }
   ],
   "source": [
    "all_tickers_df = pd.concat(all_tickers_df_list,axis=0,ignore_index=True).reset_index(drop=True)\n",
    "all_tickers_df.shape"
   ]
  },
  {
   "cell_type": "code",
   "execution_count": 19,
   "id": "d0d9e8d6",
   "metadata": {},
   "outputs": [],
   "source": [
    "df = df.reset_index(drop=True)"
   ]
  },
  {
   "cell_type": "code",
   "execution_count": 20,
   "id": "bd9da8bf",
   "metadata": {},
   "outputs": [
    {
     "data": {
      "text/html": [
       "<div>\n",
       "<style scoped>\n",
       "    .dataframe tbody tr th:only-of-type {\n",
       "        vertical-align: middle;\n",
       "    }\n",
       "\n",
       "    .dataframe tbody tr th {\n",
       "        vertical-align: top;\n",
       "    }\n",
       "\n",
       "    .dataframe thead th {\n",
       "        text-align: right;\n",
       "    }\n",
       "</style>\n",
       "<table border=\"1\" class=\"dataframe\">\n",
       "  <thead>\n",
       "    <tr style=\"text-align: right;\">\n",
       "      <th></th>\n",
       "      <th>Date</th>\n",
       "      <th>Ticker_P1</th>\n",
       "      <th>Close_P1</th>\n",
       "      <th>Ticker_P2</th>\n",
       "      <th>Close_P2</th>\n",
       "      <th>High_P1</th>\n",
       "      <th>High_P2</th>\n",
       "      <th>Low_P1</th>\n",
       "      <th>Low_P2</th>\n",
       "      <th>Volume_P1</th>\n",
       "      <th>...</th>\n",
       "      <th>abs_spread_normed_90th</th>\n",
       "      <th>abs_spread_normed_75th</th>\n",
       "      <th>abs_spread_normed_median</th>\n",
       "      <th>abs_spread_normed_l7_avg</th>\n",
       "      <th>abs_spread_normed_l14_avg</th>\n",
       "      <th>cos_sim</th>\n",
       "      <th>corr_coef</th>\n",
       "      <th>pnls</th>\n",
       "      <th>num_entries</th>\n",
       "      <th>SPY_Close</th>\n",
       "    </tr>\n",
       "  </thead>\n",
       "  <tbody>\n",
       "    <tr>\n",
       "      <th>598998</th>\n",
       "      <td>2019-10-03</td>\n",
       "      <td>NOC</td>\n",
       "      <td>338.671</td>\n",
       "      <td>APH</td>\n",
       "      <td>45.329</td>\n",
       "      <td>364.990</td>\n",
       "      <td>47.320</td>\n",
       "      <td>359.250</td>\n",
       "      <td>46.300</td>\n",
       "      <td>835600.000</td>\n",
       "      <td>...</td>\n",
       "      <td>2.456</td>\n",
       "      <td>1.917</td>\n",
       "      <td>1.058</td>\n",
       "      <td>2.042</td>\n",
       "      <td>2.141</td>\n",
       "      <td>0.993</td>\n",
       "      <td>0.262</td>\n",
       "      <td>9.285</td>\n",
       "      <td>1.000</td>\n",
       "      <td>271.375</td>\n",
       "    </tr>\n",
       "    <tr>\n",
       "      <th>598999</th>\n",
       "      <td>2019-10-03</td>\n",
       "      <td>CAG</td>\n",
       "      <td>23.895</td>\n",
       "      <td>TYL</td>\n",
       "      <td>262.070</td>\n",
       "      <td>28.350</td>\n",
       "      <td>262.990</td>\n",
       "      <td>27.530</td>\n",
       "      <td>255.450</td>\n",
       "      <td>5761300.000</td>\n",
       "      <td>...</td>\n",
       "      <td>1.984</td>\n",
       "      <td>1.548</td>\n",
       "      <td>0.655</td>\n",
       "      <td>1.927</td>\n",
       "      <td>1.930</td>\n",
       "      <td>0.989</td>\n",
       "      <td>0.440</td>\n",
       "      <td>-2.552</td>\n",
       "      <td>1.000</td>\n",
       "      <td>271.375</td>\n",
       "    </tr>\n",
       "  </tbody>\n",
       "</table>\n",
       "<p>2 rows × 28 columns</p>\n",
       "</div>"
      ],
      "text/plain": [
       "              Date Ticker_P1  Close_P1 Ticker_P2  Close_P2  High_P1  High_P2  \\\n",
       "598998  2019-10-03       NOC   338.671       APH    45.329  364.990   47.320   \n",
       "598999  2019-10-03       CAG    23.895       TYL   262.070   28.350  262.990   \n",
       "\n",
       "        Low_P1  Low_P2   Volume_P1  ...  abs_spread_normed_90th  \\\n",
       "598998 359.250  46.300  835600.000  ...                   2.456   \n",
       "598999  27.530 255.450 5761300.000  ...                   1.984   \n",
       "\n",
       "        abs_spread_normed_75th  abs_spread_normed_median  \\\n",
       "598998                   1.917                     1.058   \n",
       "598999                   1.548                     0.655   \n",
       "\n",
       "        abs_spread_normed_l7_avg  abs_spread_normed_l14_avg  cos_sim  \\\n",
       "598998                     2.042                      2.141    0.993   \n",
       "598999                     1.927                      1.930    0.989   \n",
       "\n",
       "        corr_coef   pnls  num_entries  SPY_Close  \n",
       "598998      0.262  9.285        1.000    271.375  \n",
       "598999      0.440 -2.552        1.000    271.375  \n",
       "\n",
       "[2 rows x 28 columns]"
      ]
     },
     "execution_count": 20,
     "metadata": {},
     "output_type": "execute_result"
    }
   ],
   "source": [
    "df.tail(2)"
   ]
  },
  {
   "cell_type": "code",
   "execution_count": 21,
   "id": "903e1b36",
   "metadata": {},
   "outputs": [
    {
     "data": {
      "text/html": [
       "<div>\n",
       "<style scoped>\n",
       "    .dataframe tbody tr th:only-of-type {\n",
       "        vertical-align: middle;\n",
       "    }\n",
       "\n",
       "    .dataframe tbody tr th {\n",
       "        vertical-align: top;\n",
       "    }\n",
       "\n",
       "    .dataframe thead th {\n",
       "        text-align: right;\n",
       "    }\n",
       "</style>\n",
       "<table border=\"1\" class=\"dataframe\">\n",
       "  <thead>\n",
       "    <tr style=\"text-align: right;\">\n",
       "      <th></th>\n",
       "      <th>Date</th>\n",
       "      <th>Ticker</th>\n",
       "      <th>Close</th>\n",
       "      <th>High</th>\n",
       "      <th>Low</th>\n",
       "      <th>Volume</th>\n",
       "      <th>SPY_Close</th>\n",
       "    </tr>\n",
       "  </thead>\n",
       "  <tbody>\n",
       "    <tr>\n",
       "      <th>0</th>\n",
       "      <td>2017-05-18</td>\n",
       "      <td>NOC</td>\n",
       "      <td>220.839</td>\n",
       "      <td>248.990</td>\n",
       "      <td>243.390</td>\n",
       "      <td>1033600.000</td>\n",
       "      <td>210.962</td>\n",
       "    </tr>\n",
       "    <tr>\n",
       "      <th>1</th>\n",
       "      <td>2017-05-19</td>\n",
       "      <td>NOC</td>\n",
       "      <td>223.522</td>\n",
       "      <td>250.380</td>\n",
       "      <td>247.600</td>\n",
       "      <td>716900.000</td>\n",
       "      <td>212.334</td>\n",
       "    </tr>\n",
       "    <tr>\n",
       "      <th>2</th>\n",
       "      <td>2017-05-22</td>\n",
       "      <td>NOC</td>\n",
       "      <td>223.137</td>\n",
       "      <td>254.000</td>\n",
       "      <td>249.410</td>\n",
       "      <td>1062600.000</td>\n",
       "      <td>213.412</td>\n",
       "    </tr>\n",
       "    <tr>\n",
       "      <th>3</th>\n",
       "      <td>2017-05-23</td>\n",
       "      <td>NOC</td>\n",
       "      <td>224.211</td>\n",
       "      <td>251.450</td>\n",
       "      <td>248.580</td>\n",
       "      <td>801400.000</td>\n",
       "      <td>213.885</td>\n",
       "    </tr>\n",
       "    <tr>\n",
       "      <th>4</th>\n",
       "      <td>2017-05-24</td>\n",
       "      <td>NOC</td>\n",
       "      <td>226.653</td>\n",
       "      <td>253.580</td>\n",
       "      <td>251.000</td>\n",
       "      <td>775000.000</td>\n",
       "      <td>214.383</td>\n",
       "    </tr>\n",
       "    <tr>\n",
       "      <th>...</th>\n",
       "      <td>...</td>\n",
       "      <td>...</td>\n",
       "      <td>...</td>\n",
       "      <td>...</td>\n",
       "      <td>...</td>\n",
       "      <td>...</td>\n",
       "      <td>...</td>\n",
       "    </tr>\n",
       "    <tr>\n",
       "      <th>95</th>\n",
       "      <td>2017-10-03</td>\n",
       "      <td>NOC</td>\n",
       "      <td>262.354</td>\n",
       "      <td>292.320</td>\n",
       "      <td>289.020</td>\n",
       "      <td>576800.000</td>\n",
       "      <td>227.520</td>\n",
       "    </tr>\n",
       "    <tr>\n",
       "      <th>96</th>\n",
       "      <td>2017-10-04</td>\n",
       "      <td>NOC</td>\n",
       "      <td>263.345</td>\n",
       "      <td>292.610</td>\n",
       "      <td>290.210</td>\n",
       "      <td>572200.000</td>\n",
       "      <td>227.790</td>\n",
       "    </tr>\n",
       "    <tr>\n",
       "      <th>97</th>\n",
       "      <td>2017-10-05</td>\n",
       "      <td>NOC</td>\n",
       "      <td>263.796</td>\n",
       "      <td>293.220</td>\n",
       "      <td>290.960</td>\n",
       "      <td>540500.000</td>\n",
       "      <td>229.140</td>\n",
       "    </tr>\n",
       "    <tr>\n",
       "      <th>98</th>\n",
       "      <td>2017-10-06</td>\n",
       "      <td>NOC</td>\n",
       "      <td>264.382</td>\n",
       "      <td>293.380</td>\n",
       "      <td>291.850</td>\n",
       "      <td>382000.000</td>\n",
       "      <td>228.879</td>\n",
       "    </tr>\n",
       "    <tr>\n",
       "      <th>99</th>\n",
       "      <td>2017-10-09</td>\n",
       "      <td>NOC</td>\n",
       "      <td>264.859</td>\n",
       "      <td>294.980</td>\n",
       "      <td>292.150</td>\n",
       "      <td>727800.000</td>\n",
       "      <td>228.501</td>\n",
       "    </tr>\n",
       "  </tbody>\n",
       "</table>\n",
       "<p>100 rows × 7 columns</p>\n",
       "</div>"
      ],
      "text/plain": [
       "          Date Ticker   Close    High     Low      Volume  SPY_Close\n",
       "0   2017-05-18    NOC 220.839 248.990 243.390 1033600.000    210.962\n",
       "1   2017-05-19    NOC 223.522 250.380 247.600  716900.000    212.334\n",
       "2   2017-05-22    NOC 223.137 254.000 249.410 1062600.000    213.412\n",
       "3   2017-05-23    NOC 224.211 251.450 248.580  801400.000    213.885\n",
       "4   2017-05-24    NOC 226.653 253.580 251.000  775000.000    214.383\n",
       "..         ...    ...     ...     ...     ...         ...        ...\n",
       "95  2017-10-03    NOC 262.354 292.320 289.020  576800.000    227.520\n",
       "96  2017-10-04    NOC 263.345 292.610 290.210  572200.000    227.790\n",
       "97  2017-10-05    NOC 263.796 293.220 290.960  540500.000    229.140\n",
       "98  2017-10-06    NOC 264.382 293.380 291.850  382000.000    228.879\n",
       "99  2017-10-09    NOC 264.859 294.980 292.150  727800.000    228.501\n",
       "\n",
       "[100 rows x 7 columns]"
      ]
     },
     "execution_count": 21,
     "metadata": {},
     "output_type": "execute_result"
    }
   ],
   "source": [
    "all_tickers_df.head(100)"
   ]
  },
  {
   "cell_type": "code",
   "execution_count": 22,
   "id": "a07549c3",
   "metadata": {},
   "outputs": [],
   "source": [
    "# print(df.shape)\n",
    "# all_tickers_df_P1_suffix = all_tickers_df.copy()\n",
    "# all_tickers_df_P1_suffix.columns = ['Date','Ticker']+[c+'_P1' for c in all_tickers_df.columns if c not in ['Date','Ticker']]\n",
    "# all_tickers_df_P2_suffix = all_tickers_df.copy()\n",
    "# all_tickers_df_P2_suffix.columns = ['Date','Ticker']+[c+'_P2' for c in all_tickers_df.columns if c not in ['Date','Ticker']]\n",
    "\n",
    "# df = pd.merge(df,all_tickers_df_P1_suffix,left_on=['Date','Ticker_P1'],right_on=['Date','Ticker'],\\\n",
    "#               how='left',suffixes=['','_P1']).drop_duplicates()\n",
    "# print(df.shape)\n",
    "# df = pd.merge(df,all_tickers_df_P2_suffix,left_on=['Date','Ticker_P2'],right_on=['Date','Ticker'],\\\n",
    "#               how='left',suffixes=['','_P2']).drop_duplicates()\n",
    "# print(df.shape)\n",
    "# df = df.loc[:,~df.columns.duplicated()]\n",
    "# print(df.shape)\n"
   ]
  },
  {
   "cell_type": "code",
   "execution_count": 23,
   "id": "c90482bc",
   "metadata": {},
   "outputs": [],
   "source": [
    "# del all_tickers_df_P1_suffix, all_tickers_df_P2_suffix\n",
    "# gc.collect()"
   ]
  },
  {
   "cell_type": "code",
   "execution_count": 24,
   "id": "e4d118f3",
   "metadata": {},
   "outputs": [],
   "source": [
    "# df = df.drop('Ticker',axis=1)"
   ]
  },
  {
   "cell_type": "markdown",
   "id": "f38c71d4",
   "metadata": {},
   "source": [
    "## Add group based features"
   ]
  },
  {
   "cell_type": "markdown",
   "id": "98e6ddca",
   "metadata": {},
   "source": [
    "### Merge Sector"
   ]
  },
  {
   "cell_type": "code",
   "execution_count": 25,
   "id": "c15c6029",
   "metadata": {},
   "outputs": [],
   "source": [
    "# sector_df = pd.read_csv('Data/1999-12-01-2023-12-31.csv')\n",
    "# sector_df = sector_df.drop_duplicates(subset=['Ticker','GICS Sector'])[['Ticker','GICS Sector']]\n",
    "# sector_df"
   ]
  },
  {
   "cell_type": "code",
   "execution_count": 26,
   "id": "d4060b42",
   "metadata": {},
   "outputs": [],
   "source": [
    "# industry_df = pd.read_csv('Data/1999-12-01-2023-12-31.csv')\n",
    "# industry_df = industry_df.drop_duplicates(subset=['Ticker','GICS Sub-Industry'])[['Ticker','GICS Sub-Industry']]\n",
    "# industry_df"
   ]
  },
  {
   "cell_type": "code",
   "execution_count": 27,
   "id": "0381c1f6",
   "metadata": {},
   "outputs": [],
   "source": [
    "# df = pd.merge(df,sector_df.rename(columns={'GICS Sector':'Sector_P1'}),how='left',left_on='Ticker_P1',right_on='Ticker').drop('Ticker',axis=1)\n",
    "# df = pd.merge(df,sector_df.rename(columns={'GICS Sector':'Sector_P2'}),how='left',left_on='Ticker_P2',right_on='Ticker').drop('Ticker',axis=1)\n",
    "# df = pd.merge(df,industry_df.rename(columns={'GICS Sub-Industry':'Industry_P1'}),how='left',left_on='Ticker_P1',right_on='Ticker').drop('Ticker',axis=1)\n",
    "# df = pd.merge(df,industry_df.rename(columns={'GICS Sub-Industry':'Industry_P2'}),how='left',left_on='Ticker_P2',right_on='Ticker').drop('Ticker',axis=1)"
   ]
  },
  {
   "cell_type": "code",
   "execution_count": 28,
   "id": "e0aa0351",
   "metadata": {},
   "outputs": [],
   "source": [
    "# del sector_df\n",
    "# del industry_df\n",
    "# gc.collect()"
   ]
  },
  {
   "cell_type": "markdown",
   "id": "67972229",
   "metadata": {},
   "source": [
    "### Prev Values"
   ]
  },
  {
   "cell_type": "code",
   "execution_count": 29,
   "id": "f499a055",
   "metadata": {},
   "outputs": [],
   "source": [
    "# df = df.sort_values('Date')"
   ]
  },
  {
   "cell_type": "code",
   "execution_count": 30,
   "id": "bc028956",
   "metadata": {},
   "outputs": [],
   "source": [
    "# df['PREV_num_entries'] = df.groupby(['Ticker_P1','Ticker_P2']).num_entries.shift(61)\n",
    "# df['PREV_pnls'] = df.groupby(['Ticker_P1','Ticker_P2']).pnls.shift(61)"
   ]
  },
  {
   "cell_type": "markdown",
   "id": "d0b40577",
   "metadata": {},
   "source": [
    "# Trim head and tail days"
   ]
  },
  {
   "cell_type": "code",
   "execution_count": 31,
   "id": "d012b0d5",
   "metadata": {},
   "outputs": [],
   "source": [
    "# print(df.shape)\n",
    "# df = df.drop(df.groupby(['Ticker_P1','Ticker_P2']).head(301).index,axis=0)\n",
    "# print(df.shape)\n",
    "# df = df.drop(df.groupby(['Ticker_P1','Ticker_P2']).tail(61).index,axis=0)\n",
    "# print(df.shape)\n"
   ]
  },
  {
   "cell_type": "markdown",
   "id": "0d18a972",
   "metadata": {},
   "source": [
    "### Sector"
   ]
  },
  {
   "cell_type": "code",
   "execution_count": 32,
   "id": "da41a92a",
   "metadata": {},
   "outputs": [],
   "source": [
    "# all_sectors = df['Sector_P1'].unique().tolist()+df['Sector_P2'].unique().tolist()\n",
    "# len(all_sectors)"
   ]
  },
  {
   "cell_type": "code",
   "execution_count": 33,
   "id": "b9c396ea",
   "metadata": {},
   "outputs": [],
   "source": [
    "# all_sectors_df_list = []\n",
    "# for s in tqdm(all_sectors):\n",
    "#     single_sector_df = (df[df['Sector_P1']==s] if s in df['Sector_P1'].unique() else df[df['Sector_P2']==s])\n",
    "#     single_sector_df = single_sector_df.sort_values('Date')\n",
    "\n",
    "#     single_sector_df = single_sector_df[['Date','Sector_P1','daily_returns_P1','rolling_beta_P1']] if s in df['Sector_P1'].unique() else\\\n",
    "#                        single_sector_df[['Date','Sector_P2','daily_returns_P2','rolling_beta_P2']]\n",
    "#     single_sector_df.columns = ['Date','Sector','daily_returns','rolling_beta']\n",
    "#     single_sector_df = single_sector_df.drop_duplicates()\n",
    "\n",
    "#     single_sector_df['sector_rolling_beta_mean'] = single_sector_df.groupby('Date').rolling_beta.transform(np.nanmean)\n",
    "#     single_sector_df['sector_rolling_beta_std'] = single_sector_df.groupby('Date').rolling_beta.transform(np.nanstd)\n",
    "#     single_sector_df['sector_daily_return_mean'] = single_sector_df.groupby('Date').daily_returns.transform(np.nanmean)\n",
    "#     single_sector_df['sector_daily_return_std'] = single_sector_df.groupby('Date').daily_returns.transform(np.nanstd)\n",
    "\n",
    "#     all_sectors_df_list.append(single_sector_df)\n"
   ]
  },
  {
   "cell_type": "code",
   "execution_count": 34,
   "id": "41b87f7c",
   "metadata": {},
   "outputs": [],
   "source": [
    "# all_sectors_df = pd.concat(all_sectors_df_list,axis=0,ignore_index=True).reset_index(drop=True)\n",
    "# all_sectors_df.tail(2)"
   ]
  },
  {
   "cell_type": "code",
   "execution_count": 35,
   "id": "3b3bebdf",
   "metadata": {},
   "outputs": [],
   "source": [
    "# stop"
   ]
  },
  {
   "cell_type": "code",
   "execution_count": 36,
   "id": "4a285c04",
   "metadata": {},
   "outputs": [],
   "source": [
    "# print(df.shape)\n",
    "# all_sectors_df = all_sectors_df.drop(['daily_returns','rolling_beta'],axis=1).drop_duplicates()\n",
    "# all_sectors_df_P1_suffix = all_sectors_df.copy()\n",
    "# all_sectors_df_P1_suffix.columns = ['Date','Sector']+[c+'_P1' for c in all_sectors_df.columns if c not in ['Date','Sector']]\n",
    "# all_sectors_df_P2_suffix = all_sectors_df.copy()\n",
    "# all_sectors_df_P2_suffix.columns = ['Date','Sector']+[c+'_P2' for c in all_sectors_df.columns if c not in ['Date','Sector']]\n",
    "\n",
    "# df = pd.merge(df,all_sectors_df_P1_suffix,left_on=['Date','Sector_P1'],right_on=['Date','Sector'],\\\n",
    "#               how='left',suffixes=['','_P1']).drop_duplicates()\n",
    "# print(df.shape)\n",
    "# df = pd.merge(df,all_sectors_df_P2_suffix,left_on=['Date','Sector_P2'],right_on=['Date','Sector'],\\\n",
    "#               how='left',suffixes=['','_P2']).drop_duplicates()\n",
    "# print(df.shape)\n",
    "# df = df.loc[:,~df.columns.duplicated()]\n",
    "# print(df.shape)"
   ]
  },
  {
   "cell_type": "code",
   "execution_count": 37,
   "id": "336ab0ef",
   "metadata": {},
   "outputs": [],
   "source": [
    "# del all_sectors_df_P1_suffix, all_sectors_df_P2_suffix\n",
    "# gc.collect()"
   ]
  },
  {
   "cell_type": "markdown",
   "id": "57d5a459",
   "metadata": {},
   "source": [
    "### Diff Values"
   ]
  },
  {
   "cell_type": "code",
   "execution_count": 38,
   "id": "368fbfef",
   "metadata": {},
   "outputs": [],
   "source": [
    "# for c in ['Close', 'High', 'Low', 'Volume', 'rolling_beta', 'rsi', 'kama',\n",
    "#        'adi', 'vpt', 'atr', 'bb_ma', 'adx', 'ema', 'macd', 'dlr',\n",
    "#        'daily_returns', '50 Days Average', '200 Days Average']:\n",
    "# # ,\n",
    "# #        'sector_rolling_beta_mean', 'sector_rolling_beta_std',\n",
    "# #        'sector_daily_return_mean', 'sector_daily_return_std']:\n",
    "#     df['DIFF_'+c] = df[c+'_P1'] - df[c+'_P2']"
   ]
  },
  {
   "cell_type": "code",
   "execution_count": 39,
   "id": "94416b24",
   "metadata": {},
   "outputs": [],
   "source": [
    "# df['DIFF_abs_spread_mean_l28_500'] = df['abs_spread_mean_l28'] - df['abs_spread_mean']"
   ]
  },
  {
   "cell_type": "code",
   "execution_count": 40,
   "id": "181fb341",
   "metadata": {},
   "outputs": [],
   "source": [
    "# df.isna().sum().sort_values(ascending=False).head(20)"
   ]
  },
  {
   "cell_type": "code",
   "execution_count": 41,
   "id": "761ef82b",
   "metadata": {},
   "outputs": [],
   "source": [
    "# stop"
   ]
  },
  {
   "cell_type": "markdown",
   "id": "22c180c4",
   "metadata": {},
   "source": [
    "# Classification to predict PNL_IS_0"
   ]
  },
  {
   "cell_type": "code",
   "execution_count": 42,
   "id": "9fcb9335",
   "metadata": {},
   "outputs": [],
   "source": [
    "# categorical_features = ['Sector_P1','Sector_P2','Industry_P1','Industry_P2']\n",
    "categorical_features = []"
   ]
  },
  {
   "cell_type": "code",
   "execution_count": 43,
   "id": "d07cc622",
   "metadata": {},
   "outputs": [],
   "source": [
    "# for c in categorical_features:\n",
    "#     df[c] = df[c].astype('category')"
   ]
  },
  {
   "cell_type": "code",
   "execution_count": 44,
   "id": "aa96468e",
   "metadata": {},
   "outputs": [],
   "source": [
    "# df.head()"
   ]
  },
  {
   "cell_type": "markdown",
   "id": "6e192053",
   "metadata": {},
   "source": [
    "## X,y split"
   ]
  },
  {
   "cell_type": "code",
   "execution_count": 45,
   "id": "efbfc6f9",
   "metadata": {},
   "outputs": [],
   "source": [
    "# df['PNL_IS_0'] = np.where(df.pnls==0,1,0)"
   ]
  },
  {
   "cell_type": "code",
   "execution_count": 46,
   "id": "0bf5d2ad",
   "metadata": {},
   "outputs": [],
   "source": [
    "# df.columns"
   ]
  },
  {
   "cell_type": "code",
   "execution_count": 47,
   "id": "af81008a",
   "metadata": {},
   "outputs": [],
   "source": [
    "# features = df.drop(categorical_features+['PNL_IS_0']+\\\n",
    "#                    ['abs_spread_normed_max','abs_spread_normed_median',\\\n",
    "#                     'abs_spread_normed_75th','abs_spread_normed_90th',\\\n",
    "#                     'Date','Ticker_P1','Ticker_P2','SPY_Close_P1','SPY_Close_P2',\\\n",
    "#                     'num_entries','pnls']+[c for c in df.columns if '_P1_P1' in c or '_P2_P2' in c],axis=1).columns.tolist()+categorical_features\n",
    "# label = 'PNL_IS_0'\n",
    "\n",
    "features = df.columns\n",
    "\n",
    "label = 'pnls'"
   ]
  },
  {
   "cell_type": "code",
   "execution_count": 48,
   "id": "017a4402",
   "metadata": {},
   "outputs": [
    {
     "name": "stdout",
     "output_type": "stream",
     "text": [
      "(599000, 28)\n",
      "(599000, 28)\n"
     ]
    }
   ],
   "source": [
    "print(df.shape)\n",
    "df.replace([np.inf, -np.inf], np.nan, inplace=True)\n",
    "df = df.dropna(subset=features)\n",
    "print(df.shape)\n"
   ]
  },
  {
   "cell_type": "code",
   "execution_count": 49,
   "id": "51d046eb",
   "metadata": {},
   "outputs": [
    {
     "name": "stdout",
     "output_type": "stream",
     "text": [
      "2017-05-18 2019-10-03\n"
     ]
    }
   ],
   "source": [
    "print(df.Date.min(),df.Date.max())"
   ]
  },
  {
   "cell_type": "code",
   "execution_count": 50,
   "id": "2a8b0e3c",
   "metadata": {},
   "outputs": [],
   "source": [
    "X = df[features]\n",
    "y = df[label]\n",
    "\n",
    "X = X.drop(['Date', 'Ticker_P1', 'Ticker_P2'],axis=1)"
   ]
  },
  {
   "cell_type": "code",
   "execution_count": 51,
   "id": "0d8c2946",
   "metadata": {},
   "outputs": [
    {
     "data": {
      "text/html": [
       "<div>\n",
       "<style scoped>\n",
       "    .dataframe tbody tr th:only-of-type {\n",
       "        vertical-align: middle;\n",
       "    }\n",
       "\n",
       "    .dataframe tbody tr th {\n",
       "        vertical-align: top;\n",
       "    }\n",
       "\n",
       "    .dataframe thead th {\n",
       "        text-align: right;\n",
       "    }\n",
       "</style>\n",
       "<table border=\"1\" class=\"dataframe\">\n",
       "  <thead>\n",
       "    <tr style=\"text-align: right;\">\n",
       "      <th></th>\n",
       "      <th>Close_P1</th>\n",
       "      <th>Close_P2</th>\n",
       "      <th>High_P1</th>\n",
       "      <th>High_P2</th>\n",
       "      <th>Low_P1</th>\n",
       "      <th>Low_P2</th>\n",
       "      <th>Volume_P1</th>\n",
       "      <th>Volume_P2</th>\n",
       "      <th>abs_spread</th>\n",
       "      <th>abs_spread_mean</th>\n",
       "      <th>...</th>\n",
       "      <th>abs_spread_normed_90th</th>\n",
       "      <th>abs_spread_normed_75th</th>\n",
       "      <th>abs_spread_normed_median</th>\n",
       "      <th>abs_spread_normed_l7_avg</th>\n",
       "      <th>abs_spread_normed_l14_avg</th>\n",
       "      <th>cos_sim</th>\n",
       "      <th>corr_coef</th>\n",
       "      <th>pnls</th>\n",
       "      <th>num_entries</th>\n",
       "      <th>SPY_Close</th>\n",
       "    </tr>\n",
       "  </thead>\n",
       "  <tbody>\n",
       "    <tr>\n",
       "      <th>0</th>\n",
       "      <td>220.839</td>\n",
       "      <td>117.930</td>\n",
       "      <td>248.990</td>\n",
       "      <td>118.610</td>\n",
       "      <td>243.390</td>\n",
       "      <td>115.420</td>\n",
       "      <td>1033600.000</td>\n",
       "      <td>2154800.000</td>\n",
       "      <td>102.909</td>\n",
       "      <td>109.356</td>\n",
       "      <td>...</td>\n",
       "      <td>2.143</td>\n",
       "      <td>1.675</td>\n",
       "      <td>1.321</td>\n",
       "      <td>0.247</td>\n",
       "      <td>0.276</td>\n",
       "      <td>0.993</td>\n",
       "      <td>0.353</td>\n",
       "      <td>0.000</td>\n",
       "      <td>0.000</td>\n",
       "      <td>210.962</td>\n",
       "    </tr>\n",
       "    <tr>\n",
       "      <th>1</th>\n",
       "      <td>30.320</td>\n",
       "      <td>79.000</td>\n",
       "      <td>37.910</td>\n",
       "      <td>79.450</td>\n",
       "      <td>37.550</td>\n",
       "      <td>77.830</td>\n",
       "      <td>1873300.000</td>\n",
       "      <td>1856300.000</td>\n",
       "      <td>48.680</td>\n",
       "      <td>52.977</td>\n",
       "      <td>...</td>\n",
       "      <td>2.011</td>\n",
       "      <td>1.633</td>\n",
       "      <td>0.867</td>\n",
       "      <td>0.377</td>\n",
       "      <td>0.289</td>\n",
       "      <td>0.993</td>\n",
       "      <td>-0.323</td>\n",
       "      <td>0.000</td>\n",
       "      <td>0.000</td>\n",
       "      <td>210.962</td>\n",
       "    </tr>\n",
       "    <tr>\n",
       "      <th>2</th>\n",
       "      <td>220.839</td>\n",
       "      <td>44.200</td>\n",
       "      <td>248.990</td>\n",
       "      <td>56.160</td>\n",
       "      <td>243.390</td>\n",
       "      <td>55.750</td>\n",
       "      <td>1033600.000</td>\n",
       "      <td>3304400.000</td>\n",
       "      <td>176.639</td>\n",
       "      <td>150.718</td>\n",
       "      <td>...</td>\n",
       "      <td>2.240</td>\n",
       "      <td>1.889</td>\n",
       "      <td>1.620</td>\n",
       "      <td>1.656</td>\n",
       "      <td>1.671</td>\n",
       "      <td>0.994</td>\n",
       "      <td>-0.351</td>\n",
       "      <td>3.545</td>\n",
       "      <td>1.000</td>\n",
       "      <td>210.962</td>\n",
       "    </tr>\n",
       "    <tr>\n",
       "      <th>3</th>\n",
       "      <td>220.839</td>\n",
       "      <td>82.969</td>\n",
       "      <td>248.990</td>\n",
       "      <td>103.640</td>\n",
       "      <td>243.390</td>\n",
       "      <td>102.120</td>\n",
       "      <td>1033600.000</td>\n",
       "      <td>2890800.000</td>\n",
       "      <td>137.870</td>\n",
       "      <td>114.560</td>\n",
       "      <td>...</td>\n",
       "      <td>2.252</td>\n",
       "      <td>1.912</td>\n",
       "      <td>1.597</td>\n",
       "      <td>1.795</td>\n",
       "      <td>1.758</td>\n",
       "      <td>0.998</td>\n",
       "      <td>0.565</td>\n",
       "      <td>-0.572</td>\n",
       "      <td>1.000</td>\n",
       "      <td>210.962</td>\n",
       "    </tr>\n",
       "    <tr>\n",
       "      <th>4</th>\n",
       "      <td>30.320</td>\n",
       "      <td>121.314</td>\n",
       "      <td>37.910</td>\n",
       "      <td>139.900</td>\n",
       "      <td>37.550</td>\n",
       "      <td>137.570</td>\n",
       "      <td>1873300.000</td>\n",
       "      <td>1798200.000</td>\n",
       "      <td>90.993</td>\n",
       "      <td>81.733</td>\n",
       "      <td>...</td>\n",
       "      <td>1.985</td>\n",
       "      <td>1.797</td>\n",
       "      <td>1.425</td>\n",
       "      <td>2.025</td>\n",
       "      <td>2.043</td>\n",
       "      <td>1.000</td>\n",
       "      <td>0.884</td>\n",
       "      <td>-6.867</td>\n",
       "      <td>1.000</td>\n",
       "      <td>210.962</td>\n",
       "    </tr>\n",
       "    <tr>\n",
       "      <th>...</th>\n",
       "      <td>...</td>\n",
       "      <td>...</td>\n",
       "      <td>...</td>\n",
       "      <td>...</td>\n",
       "      <td>...</td>\n",
       "      <td>...</td>\n",
       "      <td>...</td>\n",
       "      <td>...</td>\n",
       "      <td>...</td>\n",
       "      <td>...</td>\n",
       "      <td>...</td>\n",
       "      <td>...</td>\n",
       "      <td>...</td>\n",
       "      <td>...</td>\n",
       "      <td>...</td>\n",
       "      <td>...</td>\n",
       "      <td>...</td>\n",
       "      <td>...</td>\n",
       "      <td>...</td>\n",
       "      <td>...</td>\n",
       "      <td>...</td>\n",
       "    </tr>\n",
       "    <tr>\n",
       "      <th>598995</th>\n",
       "      <td>23.895</td>\n",
       "      <td>105.900</td>\n",
       "      <td>28.350</td>\n",
       "      <td>114.610</td>\n",
       "      <td>27.530</td>\n",
       "      <td>112.020</td>\n",
       "      <td>5761300.000</td>\n",
       "      <td>674600.000</td>\n",
       "      <td>82.005</td>\n",
       "      <td>75.932</td>\n",
       "      <td>...</td>\n",
       "      <td>1.946</td>\n",
       "      <td>1.630</td>\n",
       "      <td>1.126</td>\n",
       "      <td>0.988</td>\n",
       "      <td>1.114</td>\n",
       "      <td>0.987</td>\n",
       "      <td>0.069</td>\n",
       "      <td>7.625</td>\n",
       "      <td>1.000</td>\n",
       "      <td>271.375</td>\n",
       "    </tr>\n",
       "    <tr>\n",
       "      <th>598996</th>\n",
       "      <td>338.671</td>\n",
       "      <td>19.705</td>\n",
       "      <td>364.990</td>\n",
       "      <td>28.097</td>\n",
       "      <td>359.250</td>\n",
       "      <td>27.689</td>\n",
       "      <td>835600.000</td>\n",
       "      <td>26973322.000</td>\n",
       "      <td>318.966</td>\n",
       "      <td>261.091</td>\n",
       "      <td>...</td>\n",
       "      <td>2.397</td>\n",
       "      <td>1.925</td>\n",
       "      <td>1.009</td>\n",
       "      <td>2.044</td>\n",
       "      <td>2.135</td>\n",
       "      <td>0.999</td>\n",
       "      <td>0.931</td>\n",
       "      <td>-5.167</td>\n",
       "      <td>1.000</td>\n",
       "      <td>271.375</td>\n",
       "    </tr>\n",
       "    <tr>\n",
       "      <th>598997</th>\n",
       "      <td>23.895</td>\n",
       "      <td>154.164</td>\n",
       "      <td>28.350</td>\n",
       "      <td>158.780</td>\n",
       "      <td>27.530</td>\n",
       "      <td>153.780</td>\n",
       "      <td>5761300.000</td>\n",
       "      <td>1904100.000</td>\n",
       "      <td>130.268</td>\n",
       "      <td>105.512</td>\n",
       "      <td>...</td>\n",
       "      <td>2.627</td>\n",
       "      <td>2.394</td>\n",
       "      <td>1.877</td>\n",
       "      <td>1.108</td>\n",
       "      <td>1.230</td>\n",
       "      <td>0.974</td>\n",
       "      <td>-0.041</td>\n",
       "      <td>9.289</td>\n",
       "      <td>1.000</td>\n",
       "      <td>271.375</td>\n",
       "    </tr>\n",
       "    <tr>\n",
       "      <th>598998</th>\n",
       "      <td>338.671</td>\n",
       "      <td>45.329</td>\n",
       "      <td>364.990</td>\n",
       "      <td>47.320</td>\n",
       "      <td>359.250</td>\n",
       "      <td>46.300</td>\n",
       "      <td>835600.000</td>\n",
       "      <td>1762800.000</td>\n",
       "      <td>293.342</td>\n",
       "      <td>233.943</td>\n",
       "      <td>...</td>\n",
       "      <td>2.456</td>\n",
       "      <td>1.917</td>\n",
       "      <td>1.058</td>\n",
       "      <td>2.042</td>\n",
       "      <td>2.141</td>\n",
       "      <td>0.993</td>\n",
       "      <td>0.262</td>\n",
       "      <td>9.285</td>\n",
       "      <td>1.000</td>\n",
       "      <td>271.375</td>\n",
       "    </tr>\n",
       "    <tr>\n",
       "      <th>598999</th>\n",
       "      <td>23.895</td>\n",
       "      <td>262.070</td>\n",
       "      <td>28.350</td>\n",
       "      <td>262.990</td>\n",
       "      <td>27.530</td>\n",
       "      <td>255.450</td>\n",
       "      <td>5761300.000</td>\n",
       "      <td>430000.000</td>\n",
       "      <td>238.175</td>\n",
       "      <td>193.989</td>\n",
       "      <td>...</td>\n",
       "      <td>1.984</td>\n",
       "      <td>1.548</td>\n",
       "      <td>0.655</td>\n",
       "      <td>1.927</td>\n",
       "      <td>1.930</td>\n",
       "      <td>0.989</td>\n",
       "      <td>0.440</td>\n",
       "      <td>-2.552</td>\n",
       "      <td>1.000</td>\n",
       "      <td>271.375</td>\n",
       "    </tr>\n",
       "  </tbody>\n",
       "</table>\n",
       "<p>599000 rows × 25 columns</p>\n",
       "</div>"
      ],
      "text/plain": [
       "        Close_P1  Close_P2  High_P1  High_P2  Low_P1  Low_P2   Volume_P1  \\\n",
       "0        220.839   117.930  248.990  118.610 243.390 115.420 1033600.000   \n",
       "1         30.320    79.000   37.910   79.450  37.550  77.830 1873300.000   \n",
       "2        220.839    44.200  248.990   56.160 243.390  55.750 1033600.000   \n",
       "3        220.839    82.969  248.990  103.640 243.390 102.120 1033600.000   \n",
       "4         30.320   121.314   37.910  139.900  37.550 137.570 1873300.000   \n",
       "...          ...       ...      ...      ...     ...     ...         ...   \n",
       "598995    23.895   105.900   28.350  114.610  27.530 112.020 5761300.000   \n",
       "598996   338.671    19.705  364.990   28.097 359.250  27.689  835600.000   \n",
       "598997    23.895   154.164   28.350  158.780  27.530 153.780 5761300.000   \n",
       "598998   338.671    45.329  364.990   47.320 359.250  46.300  835600.000   \n",
       "598999    23.895   262.070   28.350  262.990  27.530 255.450 5761300.000   \n",
       "\n",
       "          Volume_P2  abs_spread  abs_spread_mean  ...  abs_spread_normed_90th  \\\n",
       "0       2154800.000     102.909          109.356  ...                   2.143   \n",
       "1       1856300.000      48.680           52.977  ...                   2.011   \n",
       "2       3304400.000     176.639          150.718  ...                   2.240   \n",
       "3       2890800.000     137.870          114.560  ...                   2.252   \n",
       "4       1798200.000      90.993           81.733  ...                   1.985   \n",
       "...             ...         ...              ...  ...                     ...   \n",
       "598995   674600.000      82.005           75.932  ...                   1.946   \n",
       "598996 26973322.000     318.966          261.091  ...                   2.397   \n",
       "598997  1904100.000     130.268          105.512  ...                   2.627   \n",
       "598998  1762800.000     293.342          233.943  ...                   2.456   \n",
       "598999   430000.000     238.175          193.989  ...                   1.984   \n",
       "\n",
       "        abs_spread_normed_75th  abs_spread_normed_median  \\\n",
       "0                        1.675                     1.321   \n",
       "1                        1.633                     0.867   \n",
       "2                        1.889                     1.620   \n",
       "3                        1.912                     1.597   \n",
       "4                        1.797                     1.425   \n",
       "...                        ...                       ...   \n",
       "598995                   1.630                     1.126   \n",
       "598996                   1.925                     1.009   \n",
       "598997                   2.394                     1.877   \n",
       "598998                   1.917                     1.058   \n",
       "598999                   1.548                     0.655   \n",
       "\n",
       "        abs_spread_normed_l7_avg  abs_spread_normed_l14_avg  cos_sim  \\\n",
       "0                          0.247                      0.276    0.993   \n",
       "1                          0.377                      0.289    0.993   \n",
       "2                          1.656                      1.671    0.994   \n",
       "3                          1.795                      1.758    0.998   \n",
       "4                          2.025                      2.043    1.000   \n",
       "...                          ...                        ...      ...   \n",
       "598995                     0.988                      1.114    0.987   \n",
       "598996                     2.044                      2.135    0.999   \n",
       "598997                     1.108                      1.230    0.974   \n",
       "598998                     2.042                      2.141    0.993   \n",
       "598999                     1.927                      1.930    0.989   \n",
       "\n",
       "        corr_coef   pnls  num_entries  SPY_Close  \n",
       "0           0.353  0.000        0.000    210.962  \n",
       "1          -0.323  0.000        0.000    210.962  \n",
       "2          -0.351  3.545        1.000    210.962  \n",
       "3           0.565 -0.572        1.000    210.962  \n",
       "4           0.884 -6.867        1.000    210.962  \n",
       "...           ...    ...          ...        ...  \n",
       "598995      0.069  7.625        1.000    271.375  \n",
       "598996      0.931 -5.167        1.000    271.375  \n",
       "598997     -0.041  9.289        1.000    271.375  \n",
       "598998      0.262  9.285        1.000    271.375  \n",
       "598999      0.440 -2.552        1.000    271.375  \n",
       "\n",
       "[599000 rows x 25 columns]"
      ]
     },
     "execution_count": 51,
     "metadata": {},
     "output_type": "execute_result"
    }
   ],
   "source": [
    "X"
   ]
  },
  {
   "cell_type": "markdown",
   "id": "37edade9",
   "metadata": {},
   "source": [
    "## Train test split"
   ]
  },
  {
   "cell_type": "code",
   "execution_count": 52,
   "id": "4cde1143",
   "metadata": {},
   "outputs": [],
   "source": [
    "X_train, X_test, y_train, y_test = train_test_split(X, y, test_size=0.2, random_state=42,shuffle=False)\n",
    "X_val, X_test, y_val, y_test = train_test_split(X_test, y_test, test_size=0.5, random_state=42,shuffle=False)"
   ]
  },
  {
   "cell_type": "code",
   "execution_count": 53,
   "id": "bdfc0542",
   "metadata": {},
   "outputs": [
    {
     "name": "stdout",
     "output_type": "stream",
     "text": [
      "2019-04-15 2019-07-11\n"
     ]
    }
   ],
   "source": [
    "print(df.loc[X_val.index].Date.min(),df.loc[X_val.index].Date.max())"
   ]
  },
  {
   "cell_type": "code",
   "execution_count": 54,
   "id": "b10a6909",
   "metadata": {},
   "outputs": [],
   "source": [
    "# print(X_train.shape)\n",
    "# print(X_val.shape)\n",
    "# print(X_test.shape)"
   ]
  },
  {
   "cell_type": "code",
   "execution_count": 55,
   "id": "68ecc4e1",
   "metadata": {},
   "outputs": [],
   "source": [
    "# y_train.value_counts()"
   ]
  },
  {
   "cell_type": "code",
   "execution_count": 56,
   "id": "2b2bc491",
   "metadata": {},
   "outputs": [],
   "source": [
    "# y_val.value_counts()"
   ]
  },
  {
   "cell_type": "code",
   "execution_count": 57,
   "id": "98f9860e",
   "metadata": {},
   "outputs": [],
   "source": [
    "# y_test.value_counts()"
   ]
  },
  {
   "cell_type": "code",
   "execution_count": 58,
   "id": "ef8d5e69",
   "metadata": {},
   "outputs": [],
   "source": [
    "# undersample = RandomUnderSampler(sampling_strategy='majority')\n",
    "# X_train, y_train = undersample.fit_resample(X_train, y_train)"
   ]
  },
  {
   "cell_type": "markdown",
   "id": "b5888e61",
   "metadata": {},
   "source": [
    "## Logistic Regression"
   ]
  },
  {
   "cell_type": "code",
   "execution_count": 59,
   "id": "d7b12def",
   "metadata": {},
   "outputs": [],
   "source": [
    "# scaler = StandardScaler().fit(X_train.drop(categorical_features,axis=1))\n",
    "# scaled_X_train = scaler.transform(X_train.drop(categorical_features,axis=1))\n",
    "# scaled_X_val = scaler.transform(X_val.drop(categorical_features,axis=1))\n",
    "# scaled_X_test = scaler.transform(X_test.drop(categorical_features,axis=1))"
   ]
  },
  {
   "cell_type": "code",
   "execution_count": 60,
   "id": "e7cf5e93",
   "metadata": {},
   "outputs": [],
   "source": [
    "# y.value_counts()"
   ]
  },
  {
   "cell_type": "code",
   "execution_count": 61,
   "id": "1ef9aee2",
   "metadata": {},
   "outputs": [],
   "source": [
    "# clf = LogisticRegression()\n",
    "\n",
    "# # Train the model using the training sets\n",
    "# clf.fit(scaled_X_train, y_train)\n",
    "\n",
    "# # Make predictions using the testing set\n",
    "# lr_preds = clf.predict(scaled_X_test)"
   ]
  },
  {
   "cell_type": "code",
   "execution_count": 62,
   "id": "928723c3",
   "metadata": {},
   "outputs": [],
   "source": [
    "# print(f1_score(y_test, lr_preds, average='weighted'))\n",
    "# print(f1_score(y_test, lr_preds, average='micro'))\n",
    "# print(f1_score(y_test, lr_preds, average='macro'))"
   ]
  },
  {
   "cell_type": "markdown",
   "id": "53b1c14a",
   "metadata": {},
   "source": [
    "## Confusion Matrix"
   ]
  },
  {
   "cell_type": "code",
   "execution_count": 63,
   "id": "a6a91ce1",
   "metadata": {},
   "outputs": [],
   "source": [
    "# cm = confusion_matrix(y_test, lr_preds, labels=clf.classes_,normalize='true')"
   ]
  },
  {
   "cell_type": "code",
   "execution_count": 64,
   "id": "b06b8566",
   "metadata": {},
   "outputs": [],
   "source": [
    "# 26955/(26955+5781)"
   ]
  },
  {
   "cell_type": "code",
   "execution_count": 65,
   "id": "d01ee49a",
   "metadata": {},
   "outputs": [],
   "source": [
    "# 63650/(63650+8719)"
   ]
  },
  {
   "cell_type": "code",
   "execution_count": 66,
   "id": "4ac79104",
   "metadata": {},
   "outputs": [],
   "source": [
    "# disp = ConfusionMatrixDisplay(confusion_matrix=cm, display_labels=clf.classes_)\n",
    "# disp.plot()"
   ]
  },
  {
   "cell_type": "markdown",
   "id": "97fe1a97",
   "metadata": {},
   "source": [
    "## Feature Importance"
   ]
  },
  {
   "cell_type": "code",
   "execution_count": 67,
   "id": "1b4d16ee",
   "metadata": {},
   "outputs": [],
   "source": [
    "# pi = permutation_importance(clf,scaled_X_test,y_test)\n",
    "\n",
    "# coefs = pd.DataFrame(\n",
    "#     pi['importances_mean'], columns=[\"Coefficients\"], index=X_train.drop(categorical_features,axis=1).columns\n",
    "# )\n",
    "\n",
    "# coefs.plot(kind=\"barh\", figsize=(20, 7))\n",
    "# plt.title(\"Logistic Regression model\")\n",
    "# plt.axvline(x=0, color=\".5\")\n",
    "# plt.subplots_adjust(left=0.3)"
   ]
  },
  {
   "cell_type": "markdown",
   "id": "589358d0",
   "metadata": {},
   "source": [
    "## GBM"
   ]
  },
  {
   "cell_type": "markdown",
   "id": "a75c8f68",
   "metadata": {},
   "source": [
    "### Optuna"
   ]
  },
  {
   "cell_type": "code",
   "execution_count": 68,
   "id": "ea0ad31a",
   "metadata": {},
   "outputs": [],
   "source": [
    "# def objective(trial):\n",
    "#     params = {\n",
    "#         'boosting':'dart',\n",
    "#         \"objective\": \"binary\",\n",
    "# #         \"metric\": \"accuracy\",\n",
    "#         'class_weight':'balanced',\n",
    "#         \"n_estimators\": 300,\n",
    "#         \"verbosity\": -1,\n",
    "#         \"bagging_freq\": 1,\n",
    "#         'max_bin':trial.suggest_int('max_bin',64,1024),\n",
    "#         'max_depth':trial.suggest_int('max_depth',4,20),\n",
    "\n",
    "#         \"learning_rate\": trial.suggest_float(\"learning_rate\", 1e-4, 0.2, log=True),\n",
    "#         \"num_leaves\": trial.suggest_int(\"num_leaves\", 2, 3000),\n",
    "#         \"subsample\": trial.suggest_float(\"subsample\", 0.05, 1.0),\n",
    "#         \"colsample_bytree\": trial.suggest_float(\"colsample_bytree\", 0.05, 1.0),\n",
    "#         \"min_data_in_leaf\": trial.suggest_int(\"min_data_in_leaf\", 1, 1000),\n",
    "#     }\n",
    "\n",
    "#     model = lgb.LGBMClassifier(**params)\n",
    "#     model.fit(X_train.drop(categorical_features,axis=1),y_train)\n",
    "#     predictions = model.predict(X_val.drop(categorical_features,axis=1))\n",
    "#     f1 = f1_score(y_val, predictions, average='weighted')\n",
    "#     return -1*f1"
   ]
  },
  {
   "cell_type": "code",
   "execution_count": 69,
   "id": "94bcbfe6",
   "metadata": {},
   "outputs": [],
   "source": [
    "# study = optuna.create_study(direction='minimize')\n",
    "# study.optimize(objective, n_trials=30)"
   ]
  },
  {
   "cell_type": "code",
   "execution_count": 70,
   "id": "72252d00",
   "metadata": {},
   "outputs": [],
   "source": [
    "# print('Best hyperparameters:', study.best_params)\n",
    "# print('Best F1:', study.best_value*(-1))"
   ]
  },
  {
   "cell_type": "code",
   "execution_count": 71,
   "id": "f1974e05",
   "metadata": {},
   "outputs": [],
   "source": [
    "# hyper_params = study.best_params"
   ]
  },
  {
   "cell_type": "code",
   "execution_count": 72,
   "id": "b427a6a1",
   "metadata": {},
   "outputs": [],
   "source": [
    "# y_train.value_counts()/len(y_train)"
   ]
  },
  {
   "cell_type": "code",
   "execution_count": 73,
   "id": "b60a2c02",
   "metadata": {},
   "outputs": [],
   "source": [
    "# gbm = lgb.LGBMClassifier(**hyper_params)\n",
    "# callbacks = [\\\n",
    "# #             lgb.early_stopping(stopping_rounds=10, verbose=1,min_delta=0.001,first_metric_only=False), \n",
    "#              lgb.log_evaluation(period=1)]\n",
    "\n",
    "# gbm.fit(X_train.drop(categorical_features,axis=1),y_train, \n",
    "#         eval_set=[(X_val.drop(categorical_features,axis=1), y_val)],\n",
    "#         eval_metric='accuracy',\n",
    "#         callbacks=callbacks,\n",
    "#         feature_name = [f for f in features if f not in categorical_features],\n",
    "# #         categorical_feature=categorical_features\n",
    "#        )"
   ]
  },
  {
   "cell_type": "code",
   "execution_count": 74,
   "id": "639932dc",
   "metadata": {},
   "outputs": [],
   "source": [
    "# gbm_preds = gbm.predict(X_test.drop(categorical_features,axis=1))"
   ]
  },
  {
   "cell_type": "code",
   "execution_count": 75,
   "id": "d36a99ff",
   "metadata": {},
   "outputs": [],
   "source": [
    "# print(f1_score(y_test, gbm_preds, average='weighted'))\n",
    "# print(f1_score(y_test, gbm_preds, average='micro'))\n",
    "# print(f1_score(y_test, gbm_preds, average='macro'))"
   ]
  },
  {
   "cell_type": "code",
   "execution_count": 76,
   "id": "df5d82f5",
   "metadata": {},
   "outputs": [],
   "source": [
    "# cm = confusion_matrix(y_test, gbm_preds, labels=gbm.classes_,normalize='true')\n",
    "# disp = ConfusionMatrixDisplay(confusion_matrix=cm, display_labels=gbm.classes_)\n",
    "# disp.plot()"
   ]
  },
  {
   "cell_type": "code",
   "execution_count": 77,
   "id": "8d522602",
   "metadata": {},
   "outputs": [],
   "source": [
    "# importances = gbm.feature_importances_\n",
    "# importances = pd.Series(importances,index=X_train.drop(categorical_features,axis=1).columns).sort_values(ascending=True)"
   ]
  },
  {
   "cell_type": "code",
   "execution_count": 78,
   "id": "f68914d0",
   "metadata": {},
   "outputs": [],
   "source": [
    "# fig,ax=plt.subplots(figsize=[16,14])\n",
    "# importances.plot.barh(ax=ax)\n",
    "# ax.set_title(\"Feature Importance by Gain\")\n",
    "# fig.tight_layout()"
   ]
  },
  {
   "cell_type": "code",
   "execution_count": 79,
   "id": "c950e3ca",
   "metadata": {},
   "outputs": [],
   "source": [
    "# STOP"
   ]
  },
  {
   "cell_type": "markdown",
   "id": "a1ef8c12",
   "metadata": {},
   "source": [
    "# Regression"
   ]
  },
  {
   "cell_type": "markdown",
   "id": "8fec1708",
   "metadata": {},
   "source": [
    "## Remove 0s?"
   ]
  },
  {
   "cell_type": "code",
   "execution_count": 80,
   "id": "3de42f15",
   "metadata": {},
   "outputs": [],
   "source": [
    "# df[df.pnls==0].shape[0]*100.0/df.shape[0]"
   ]
  },
  {
   "cell_type": "code",
   "execution_count": 81,
   "id": "d7725fc9",
   "metadata": {},
   "outputs": [],
   "source": [
    "# df = df[df.pnls!=0]\n"
   ]
  },
  {
   "cell_type": "markdown",
   "id": "099dd587",
   "metadata": {},
   "source": [
    "## X,y split"
   ]
  },
  {
   "cell_type": "code",
   "execution_count": null,
   "id": "aa8a8cc3",
   "metadata": {},
   "outputs": [],
   "source": []
  },
  {
   "cell_type": "code",
   "execution_count": 82,
   "id": "a8f0be7b",
   "metadata": {
    "scrolled": true
   },
   "outputs": [],
   "source": [
    "# features = df.drop(categorical_features+['PNL_IS_0']+\\\n",
    "#                    ['abs_spread_normed_max','abs_spread_normed_median',\\\n",
    "#                     'abs_spread_normed_75th','abs_spread_normed_90th',\\\n",
    "#                     'Date','Ticker_P1','Ticker_P2','SPY_Close_P1','SPY_Close_P2',\\\n",
    "#                     'num_entries','pnls']+[c for c in df.columns if '_P1_P1' in c or '_P2_P2' in c],axis=1).columns.tolist()+categorical_features\n",
    "# label = 'pnls'\n"
   ]
  },
  {
   "cell_type": "code",
   "execution_count": 83,
   "id": "8c8dd691",
   "metadata": {},
   "outputs": [],
   "source": [
    "# X = df[features]\n",
    "# y = df[label]\n",
    "\n",
    "# X = X.drop(['Date', 'Ticker_P1', 'Ticker_P2', 'pnls'],axis=1)"
   ]
  },
  {
   "cell_type": "code",
   "execution_count": 84,
   "id": "d0283e3c",
   "metadata": {},
   "outputs": [],
   "source": [
    "# y = pd.Series(np.where(y.abs()<=3.5,0,np.where(y<0,-1,1)))"
   ]
  },
  {
   "cell_type": "code",
   "execution_count": 85,
   "id": "f9194e1f",
   "metadata": {},
   "outputs": [],
   "source": [
    "# y.value_counts()"
   ]
  },
  {
   "cell_type": "markdown",
   "id": "05d17a49",
   "metadata": {},
   "source": [
    "## Train test split"
   ]
  },
  {
   "cell_type": "code",
   "execution_count": 86,
   "id": "a4f17a64",
   "metadata": {},
   "outputs": [],
   "source": [
    "# y.abs().describe(np.arange(0,1,0.1))"
   ]
  },
  {
   "cell_type": "code",
   "execution_count": 87,
   "id": "090fd4ef",
   "metadata": {},
   "outputs": [],
   "source": [
    "# X_train, X_test, y_train, y_test = train_test_split(X, y, test_size=0.2, random_state=42,shuffle=False)\n",
    "# X_val, X_test, y_val, y_test = train_test_split(X_test, y_test, test_size=0.5, random_state=42,shuffle=False)"
   ]
  },
  {
   "cell_type": "markdown",
   "id": "fdec538a",
   "metadata": {},
   "source": [
    "### Filter Outliers?"
   ]
  },
  {
   "cell_type": "code",
   "execution_count": 88,
   "id": "8c1af05b",
   "metadata": {},
   "outputs": [],
   "source": [
    "u = np.mean(y_train)\n",
    "s = np.std(y_train)\n",
    "y_train = y_train[(y_train>(u-2*s)) & (y_train<(u+2*s))]\n",
    "X_train = X_train.loc[y_train.index]"
   ]
  },
  {
   "cell_type": "code",
   "execution_count": 89,
   "id": "19ed2515",
   "metadata": {},
   "outputs": [],
   "source": [
    "# undersample = RandomUnderSampler(sampling_strategy='not minority')\n",
    "# X_train, y_train = undersample.fit_resample(X_train, y_train)"
   ]
  },
  {
   "cell_type": "code",
   "execution_count": 90,
   "id": "cf79404f",
   "metadata": {},
   "outputs": [],
   "source": [
    "# y_train.value_counts()"
   ]
  },
  {
   "cell_type": "code",
   "execution_count": 91,
   "id": "dbce4838",
   "metadata": {},
   "outputs": [],
   "source": [
    "# y_val.value_counts()"
   ]
  },
  {
   "cell_type": "code",
   "execution_count": 92,
   "id": "27ed399b",
   "metadata": {},
   "outputs": [],
   "source": [
    "# y_test.value_counts()"
   ]
  },
  {
   "cell_type": "markdown",
   "id": "b268f6ea",
   "metadata": {},
   "source": [
    "## GBM"
   ]
  },
  {
   "cell_type": "code",
   "execution_count": 93,
   "id": "a2cd2f0a",
   "metadata": {},
   "outputs": [],
   "source": [
    "# def objective(trial):\n",
    "#     params = {\n",
    "#         'boosting':'dart',\n",
    "#         \"objective\": \"multiclass\",\n",
    "# #         'device':'gpu',\n",
    "# #         \"metric\": \"accuracy\",\n",
    "# #         'class_weight':'balanced',\n",
    "#         \"n_estimators\": 300,\n",
    "#         \"verbosity\": -1,\n",
    "#         \"bagging_freq\": 1,\n",
    "#         'max_bin':trial.suggest_int('max_bin',64,1024),\n",
    "#         'max_depth':trial.suggest_int('max_depth',4,20),\n",
    "\n",
    "#         \"learning_rate\": trial.suggest_float(\"learning_rate\", 1e-4, 0.2, log=True),\n",
    "#         \"num_leaves\": trial.suggest_int(\"num_leaves\", 2, 3000),\n",
    "#         \"subsample\": trial.suggest_float(\"subsample\", 0.05, 1.0),\n",
    "#         \"colsample_bytree\": trial.suggest_float(\"colsample_bytree\", 0.05, 1.0),\n",
    "#         \"min_data_in_leaf\": trial.suggest_int(\"min_data_in_leaf\", 1, 1000),\n",
    "#     }\n",
    "\n",
    "#     model = lgb.LGBMClassifier(**params)\n",
    "#     model.fit(X_train.drop(categorical_features,axis=1),y_train)\n",
    "#     predictions = model.predict(X_val.drop(categorical_features,axis=1))\n",
    "#     f1 = f1_score(y_val, predictions, average='weighted')\n",
    "#     return -1*f1"
   ]
  },
  {
   "cell_type": "code",
   "execution_count": 94,
   "id": "7218c89c",
   "metadata": {},
   "outputs": [],
   "source": [
    "# def objective(trial):\n",
    "#     params = {\n",
    "#         'boosting':'dart',\n",
    "#         \"objective\": \"mse\",\n",
    "# #         'device':'gpu',\n",
    "#         \"metric\": 'l1',\n",
    "# #         'class_weight':'balanced',\n",
    "#         \"n_estimators\": 300,\n",
    "#         \"verbosity\": -1,\n",
    "# #         \"bagging_freq\": 1,\n",
    "#         'max_bin':trial.suggest_int('max_bin',64,1024),\n",
    "#         'max_depth':trial.suggest_int('max_depth',4,20),\n",
    "\n",
    "#         \"learning_rate\": trial.suggest_float(\"learning_rate\", 1e-4, 0.2, log=True),\n",
    "#         \"num_leaves\": trial.suggest_int(\"num_leaves\", 2, 3000),\n",
    "#         \"subsample\": trial.suggest_float(\"subsample\", 0.05, 1.0),\n",
    "#         \"colsample_bytree\": trial.suggest_float(\"colsample_bytree\", 0.05, 1.0),\n",
    "#         \"min_data_in_leaf\": trial.suggest_int(\"min_data_in_leaf\", 1, 1000),\n",
    "#     }\n",
    "\n",
    "#     model = lgb.LGBMRegressor(**params)\n",
    "#     model.fit(X_train.drop(categorical_features,axis=1),y_train)\n",
    "#     predictions = model.predict(X_val.drop(categorical_features,axis=1))\n",
    "#     mae = np.mean(abs(predictions-y_val))\n",
    "#     return mae"
   ]
  },
  {
   "cell_type": "code",
   "execution_count": 95,
   "id": "eb8b4a64",
   "metadata": {},
   "outputs": [],
   "source": [
    "# study = optuna.create_study(direction='minimize')\n",
    "# study.optimize(objective, n_trials=2)"
   ]
  },
  {
   "cell_type": "code",
   "execution_count": 96,
   "id": "c4ee2869",
   "metadata": {},
   "outputs": [],
   "source": [
    "# df[[c for c in features if c not in categorical_features]+[label]].corr()['pnls'].abs().sort_values(ascending=False).head(10)"
   ]
  },
  {
   "cell_type": "code",
   "execution_count": 97,
   "id": "ff16ab62",
   "metadata": {},
   "outputs": [],
   "source": [
    "# print('Best hyperparameters:', study.best_params)\n",
    "# print('Best mae:', study.best_value)"
   ]
  },
  {
   "cell_type": "code",
   "execution_count": 98,
   "id": "27c3d165",
   "metadata": {},
   "outputs": [],
   "source": [
    "# hyper_params = study.best_params"
   ]
  },
  {
   "cell_type": "code",
   "execution_count": 99,
   "id": "7f5b323e",
   "metadata": {},
   "outputs": [],
   "source": [
    "# hyper_params = {\n",
    "# #     'task': 'train',\n",
    "#     'boosting_type': 'gbdt',\n",
    "#     'objective': 'mae',\n",
    "#     'metric': ['l1'],\n",
    "# #     'eval_metric': ['l1'],\n",
    "# #     'early_stopping_rounds':10,\n",
    "#     'learning_rate': 0.2,\n",
    "# #     'feature_fraction': 0.9,\n",
    "# #     'bagging_fraction': 0.7,\n",
    "# #     'bagging_freq': 10,\n",
    "#     'verbosity': 1,\n",
    "# #     \"max_depth\": 8,\n",
    "# #     \"num_leaves\": 128,  \n",
    "# #     \"max_bin\": 512,\n",
    "#     \"num_iterations\": 200,\n",
    "#     \"importance_type\":\"gain\"\n",
    "    \n",
    "# #     \"silent\":False\n",
    "# }"
   ]
  },
  {
   "cell_type": "code",
   "execution_count": 100,
   "id": "5c822aec",
   "metadata": {},
   "outputs": [],
   "source": [
    "# gbm = lgb.LGBMRegressor(**hyper_params)\n",
    "# # gbm = lgb.LGBMClassifier(**hyper_params)\n",
    "\n",
    "# callbacks = [\\\n",
    "# #             lgb.early_stopping(stopping_rounds=10, verbose=1,min_delta=0.001,first_metric_only=False), \n",
    "#              lgb.log_evaluation(period=1)]\n",
    "\n",
    "# gbm.fit(X_train.drop(categorical_features,axis=1),y_train, \n",
    "#         eval_set=[(X_val.drop(categorical_features,axis=1), y_val )],\n",
    "# #         eval_metric='l1',\n",
    "#         callbacks=callbacks,\n",
    "# #         feature_name = features,\n",
    "# #         categorical_feature=categorical_features\n",
    "#        )"
   ]
  },
  {
   "cell_type": "code",
   "execution_count": 101,
   "id": "d92b6f94",
   "metadata": {},
   "outputs": [],
   "source": [
    "# preds = gbm.predict(X_test.drop(categorical_features,axis=1))\n",
    "# cm = confusion_matrix(y_test, preds, labels=gbm.classes_,normalize='true')\n",
    "# cm"
   ]
  },
  {
   "cell_type": "code",
   "execution_count": 102,
   "id": "70dd121b",
   "metadata": {},
   "outputs": [],
   "source": [
    "# disp = ConfusionMatrixDisplay(confusion_matrix=cm, display_labels=gbm.classes_)\n",
    "# disp.plot()"
   ]
  },
  {
   "cell_type": "markdown",
   "id": "549a3994",
   "metadata": {},
   "source": [
    "### GBM feature importance"
   ]
  },
  {
   "cell_type": "code",
   "execution_count": 103,
   "id": "d473d0f7",
   "metadata": {},
   "outputs": [],
   "source": [
    "# importances = gbm.feature_importances_\n",
    "# importances = pd.Series(importances,index=X_train.drop(categorical_features,axis=1).columns).sort_values(ascending=True)"
   ]
  },
  {
   "cell_type": "code",
   "execution_count": 104,
   "id": "926489a6",
   "metadata": {},
   "outputs": [],
   "source": [
    "# fig,ax=plt.subplots(figsize=[16,14])\n",
    "# importances.plot.barh(ax=ax)\n",
    "# ax.set_title(\"Feature Importance by Gain\")\n",
    "# fig.tight_layout()"
   ]
  },
  {
   "cell_type": "code",
   "execution_count": 105,
   "id": "736769d6",
   "metadata": {},
   "outputs": [],
   "source": [
    "# pi = permutation_importance(gbm,X_test.drop(categorical_features,axis=1),y_test)\n",
    "\n",
    "# coefs = pd.DataFrame(\n",
    "#     pi['importances_mean'], columns=[\"Coefficients\"], index=X_train.drop(categorical_features,axis=1).columns\n",
    "# )\n",
    "# coefs.plot(kind=\"barh\", figsize=(9, 7))\n",
    "# plt.title(\"Logistic Regression model\")\n",
    "# plt.axvline(x=0, color=\".5\")\n",
    "# plt.subplots_adjust(left=0.3)"
   ]
  },
  {
   "cell_type": "markdown",
   "id": "315a5b3c",
   "metadata": {},
   "source": [
    "## Error Analysis"
   ]
  },
  {
   "cell_type": "code",
   "execution_count": 106,
   "id": "119a152f",
   "metadata": {},
   "outputs": [],
   "source": [
    "# preds = gbm.predict(X_test.drop(categorical_features,axis=1))"
   ]
  },
  {
   "cell_type": "code",
   "execution_count": 107,
   "id": "c2bb9119",
   "metadata": {},
   "outputs": [],
   "source": [
    "# results = pd.DataFrame({'preds':preds,'true':y_test})\n",
    "# results"
   ]
  },
  {
   "cell_type": "code",
   "execution_count": 108,
   "id": "1226314d",
   "metadata": {},
   "outputs": [],
   "source": [
    "# results.describe(np.arange(0,1,0.1))"
   ]
  },
  {
   "cell_type": "code",
   "execution_count": 109,
   "id": "48f706ff",
   "metadata": {},
   "outputs": [],
   "source": [
    "# mae = (preds-y_test).abs().mean()\n",
    "# mae"
   ]
  },
  {
   "cell_type": "code",
   "execution_count": 110,
   "id": "306eaa32",
   "metadata": {},
   "outputs": [],
   "source": [
    "# mean_abs_label = y_test.abs().mean()\n",
    "# mean_abs_label"
   ]
  },
  {
   "cell_type": "code",
   "execution_count": 111,
   "id": "83a7f8f8",
   "metadata": {},
   "outputs": [],
   "source": [
    "# mae/mean_abs_label"
   ]
  },
  {
   "cell_type": "code",
   "execution_count": 112,
   "id": "0a882213",
   "metadata": {},
   "outputs": [],
   "source": [
    "# mae_AR1 = (X_test.PREV_pnls - pnl_not_0.true).abs().mean()\n",
    "# mae_AR1"
   ]
  },
  {
   "cell_type": "code",
   "execution_count": 113,
   "id": "02952fdd",
   "metadata": {},
   "outputs": [],
   "source": [
    "# mae/mae_AR1"
   ]
  },
  {
   "cell_type": "markdown",
   "id": "d2d90ce9",
   "metadata": {},
   "source": [
    "## Linear Regression"
   ]
  },
  {
   "cell_type": "code",
   "execution_count": 114,
   "id": "afdc264e",
   "metadata": {},
   "outputs": [],
   "source": [
    "# features = df.drop(categorical_features+['PNL_IS_0']+\\\n",
    "#                    ['abs_spread_normed_max','abs_spread_normed_median',\\\n",
    "#                     'abs_spread_normed_75th','abs_spread_normed_90th',\\\n",
    "#                     'Date','Ticker_P1','Ticker_P2','SPY_Close_P1','SPY_Close_P2',\\\n",
    "#                     'num_entries','pnls']+[c for c in df.columns if '_P1_P1' in c or '_P2_P2' in c],axis=1).columns.tolist()+categorical_features\n",
    "# label = 'pnls'"
   ]
  },
  {
   "cell_type": "code",
   "execution_count": 115,
   "id": "235e31cf",
   "metadata": {},
   "outputs": [],
   "source": [
    "# X = df[features]\n",
    "# y = df[label]\n",
    "\n",
    "# X = X.drop(['Date', 'Ticker_P1', 'Ticker_P2', 'pnls'],axis=1)"
   ]
  },
  {
   "cell_type": "code",
   "execution_count": 116,
   "id": "e6061c38",
   "metadata": {},
   "outputs": [],
   "source": [
    "# X_train, X_test, y_train, y_test = train_test_split(X, y, test_size=0.2, random_state=42,shuffle=False)\n",
    "# X_val, X_test, y_val, y_test = train_test_split(X_test, y_test, test_size=0.5, random_state=42,shuffle=False)"
   ]
  },
  {
   "cell_type": "code",
   "execution_count": 117,
   "id": "269abc7f",
   "metadata": {},
   "outputs": [],
   "source": [
    "# categorical_features = []\n",
    "# scaler = StandardScaler().fit(X_train.drop(categorical_features,axis=1))\n",
    "# scaled_X_train = scaler.transform(X_train.drop(categorical_features,axis=1))\n",
    "# scaled_X_val = scaler.transform(X_val.drop(categorical_features,axis=1))\n",
    "# scaled_X_test = scaler.transform(X_test.drop(categorical_features,axis=1))\n",
    "\n",
    "scaled_X_train = X_train\n",
    "scaled_X_val = X_val\n",
    "scaled_X_test = X_test"
   ]
  },
  {
   "cell_type": "code",
   "execution_count": 118,
   "id": "f2980dcc",
   "metadata": {},
   "outputs": [
    {
     "name": "stderr",
     "output_type": "stream",
     "text": [
      "2024-03-06 05:59:40.701280: I tensorflow/core/platform/cpu_feature_guard.cc:182] This TensorFlow binary is optimized to use available CPU instructions in performance-critical operations.\n",
      "To enable the following instructions: AVX2 FMA, in other operations, rebuild TensorFlow with the appropriate compiler flags.\n",
      "2024-03-06 05:59:42.124031: W tensorflow/compiler/tf2tensorrt/utils/py_utils.cc:38] TF-TRT Warning: Could not find TensorRT\n"
     ]
    }
   ],
   "source": [
    "from keras.models import Sequential, Model\n",
    "from keras.layers import Dense, LSTM, Dropout\n",
    "#Creating the LSTM model\n",
    "class lstm(Model):\n",
    "    def __init__(self, in_shape, look_back):\n",
    "        super(lstm, self).__init__()\n",
    "        self.shape = in_shape\n",
    "        self.look_back = look_back\n",
    "        self.lstm_l1 = LSTM(256, input_shape=self.shape, return_sequences = True)\n",
    "#         self.lstm_l2 = LSTM(256)\n",
    "        self.dropout = Dropout(0.2)\n",
    "        self.dense = Dense(self.look_back)\n",
    "\n",
    "    def call(self, x):\n",
    "        x = self.lstm_l1(x)\n",
    "#         x = self.lstm_l2(x)\n",
    "        x = self.dropout(x)\n",
    "        x = self.dense(x)\n",
    "        return x"
   ]
  },
  {
   "cell_type": "code",
   "execution_count": 119,
   "id": "99ffd78b",
   "metadata": {},
   "outputs": [],
   "source": [
    "# Reshape X for model training\n",
    "trainX = np.reshape(X_train, (X_train.shape[0], 1, X_train.shape[1]))\n",
    "valX = np.reshape(X_val, (X_val.shape[0], 1, X_val.shape[1]))\n",
    "testX = np.reshape(X_test, (X_test.shape[0], 1, X_test.shape[1]))"
   ]
  },
  {
   "cell_type": "code",
   "execution_count": 120,
   "id": "021f9023",
   "metadata": {},
   "outputs": [
    {
     "name": "stdout",
     "output_type": "stream",
     "text": [
      "Epoch 1/20\n"
     ]
    },
    {
     "name": "stderr",
     "output_type": "stream",
     "text": [
      "2024-03-06 05:59:43.904574: E tensorflow/compiler/xla/stream_executor/cuda/cuda_driver.cc:268] failed call to cuInit: CUDA_ERROR_NO_DEVICE: no CUDA-capable device is detected\n"
     ]
    },
    {
     "name": "stdout",
     "output_type": "stream",
     "text": [
      "13900/13900 [==============================] - 60s 4ms/step - loss: 2.1931 - mae: 2.1931 - val_loss: 2.9890 - val_mae: 2.9890\n",
      "Epoch 2/20\n",
      "13900/13900 [==============================] - 58s 4ms/step - loss: 2.1906 - mae: 2.1906 - val_loss: 2.9907 - val_mae: 2.9907\n",
      "Epoch 3/20\n",
      "13900/13900 [==============================] - 58s 4ms/step - loss: 2.1904 - mae: 2.1904 - val_loss: 2.9873 - val_mae: 2.9873\n",
      "Epoch 4/20\n",
      "13900/13900 [==============================] - 59s 4ms/step - loss: 2.1906 - mae: 2.1906 - val_loss: 2.9889 - val_mae: 2.9889\n",
      "Epoch 5/20\n",
      "13900/13900 [==============================] - 59s 4ms/step - loss: 2.1906 - mae: 2.1906 - val_loss: 2.9892 - val_mae: 2.9892\n",
      "Epoch 6/20\n",
      "13894/13900 [============================>.] - ETA: 0s - loss: 2.1904 - mae: 2.1904Restoring model weights from the end of the best epoch: 3.\n",
      "13900/13900 [==============================] - 59s 4ms/step - loss: 2.1905 - mae: 2.1905 - val_loss: 2.9898 - val_mae: 2.9898\n",
      "Epoch 6: early stopping\n"
     ]
    }
   ],
   "source": [
    "#initializing the lstm model\n",
    "import tensorflow as tf\n",
    "callback = tf.keras.callbacks.EarlyStopping(monitor='val_mae', patience=3,\\\n",
    "                                            min_delta=0.001,restore_best_weights=True,verbose=1)\n",
    "\n",
    "lstm_model = lstm((trainX.shape[1], trainX.shape[2]), look_back = 1)\n",
    "lstm_model.compile(loss='mae', \n",
    "                   optimizer=tf.keras.optimizers.Adam(learning_rate=0.002), metrics=['mae'])\n",
    "#fitting the model\n",
    "history = lstm_model.fit(\n",
    "                    trainX, \n",
    "                    y_train, \n",
    "                    epochs=20, \n",
    "                    batch_size=32,\n",
    "                    validation_data=(valX, y_val), \n",
    "                    verbose=1, \n",
    "                    callbacks=callback,\n",
    "                    shuffle=True)"
   ]
  },
  {
   "cell_type": "code",
   "execution_count": 138,
   "id": "c01daa1f",
   "metadata": {},
   "outputs": [
    {
     "name": "stdout",
     "output_type": "stream",
     "text": [
      "Model: \"lstm\"\n",
      "_________________________________________________________________\n",
      " Layer (type)                Output Shape              Param #   \n",
      "=================================================================\n",
      " lstm_1 (LSTM)               multiple                  288768    \n",
      "                                                                 \n",
      " dropout (Dropout)           multiple                  0         \n",
      "                                                                 \n",
      " dense (Dense)               multiple                  257       \n",
      "                                                                 \n",
      "=================================================================\n",
      "Total params: 289025 (1.10 MB)\n",
      "Trainable params: 289025 (1.10 MB)\n",
      "Non-trainable params: 0 (0.00 Byte)\n",
      "_________________________________________________________________\n"
     ]
    }
   ],
   "source": [
    "lstm_model.summary()"
   ]
  },
  {
   "cell_type": "code",
   "execution_count": 139,
   "id": "dac9abd9",
   "metadata": {},
   "outputs": [
    {
     "data": {
      "image/png": "[encoded data removed]",
      "text/plain": [
       "<Figure size 800x600 with 1 Axes>"
      ]
     },
     "metadata": {},
     "output_type": "display_data"
    }
   ],
   "source": [
    "# Plot line graph to show amount loss according the the epoch\n",
    "plt.figure(figsize=(8,6))\n",
    "plt.plot(history.history['loss'], label='train')\n",
    "plt.plot(history.history['val_loss'], label='val')\n",
    "plt.title('Loss Plot -- LSTM', fontsize=14, color=\"black\", fontweight=\"bold\")\n",
    "plt.xlabel('Epoch')\n",
    "plt.ylabel('Loss')\n",
    "plt.legend()\n",
    "plt.show()"
   ]
  },
  {
   "cell_type": "code",
   "execution_count": 140,
   "id": "31acfe7a",
   "metadata": {},
   "outputs": [
    {
     "name": "stdout",
     "output_type": "stream",
     "text": [
      "1872/1872 [==============================] - 2s 1ms/step\n"
     ]
    },
    {
     "data": {
      "text/plain": [
       "3.9777209071247475"
      ]
     },
     "execution_count": 140,
     "metadata": {},
     "output_type": "execute_result"
    }
   ],
   "source": [
    "lstm_mae = (lstm_model.predict(testX).flatten() - y_test).abs().mean()\n",
    "lstm_mae"
   ]
  },
  {
   "cell_type": "code",
   "execution_count": 141,
   "id": "dcf58a05",
   "metadata": {},
   "outputs": [
    {
     "data": {
      "text/plain": [
       "1.000065586157352"
      ]
     },
     "execution_count": 141,
     "metadata": {},
     "output_type": "execute_result"
    }
   ],
   "source": [
    "mean_abs_label = y_test.abs().mean()\n",
    "mean_abs_label\n",
    "\n",
    "lstm_mae / mean_abs_label"
   ]
  },
  {
   "cell_type": "code",
   "execution_count": 125,
   "id": "d21acc73",
   "metadata": {},
   "outputs": [],
   "source": [
    "# regr = LinearRegression()\n",
    "\n",
    "# # Train the model using the training sets\n",
    "# regr.fit(scaled_X_train, y_train)\n",
    "\n",
    "# # Make predictions using the testing set\n",
    "# lr_preds = regr.predict(scaled_X_test)"
   ]
  },
  {
   "cell_type": "code",
   "execution_count": 126,
   "id": "9a424e6e",
   "metadata": {},
   "outputs": [],
   "source": [
    "# pi = permutation_importance(regr,scaled_X_test,y_test)\n",
    "\n",
    "# coefs = pd.DataFrame(\n",
    "#     pi['importances_mean'], columns=[\"Coefficients\"], index=X_train.drop(categorical_features,axis=1).columns\n",
    "# )\n",
    "\n",
    "\n",
    "# coefs.plot(kind=\"barh\", figsize=(9, 7))\n",
    "# plt.title(\"LR model\")\n",
    "# plt.axvline(x=0, color=\".5\")\n",
    "# plt.subplots_adjust(left=0.3)"
   ]
  },
  {
   "cell_type": "code",
   "execution_count": 127,
   "id": "f87b19f2",
   "metadata": {},
   "outputs": [],
   "source": [
    "# lr_results = pd.DataFrame({'preds':lr_preds,'true':y_test})\n",
    "# lr_results"
   ]
  },
  {
   "cell_type": "code",
   "execution_count": 128,
   "id": "62ae30c8",
   "metadata": {},
   "outputs": [],
   "source": [
    "# lr_pnl_is_0 = lr_results[lr_results.true==0]\n",
    "# lr_pnl_not_0 = lr_results[lr_results.true!=0]"
   ]
  },
  {
   "cell_type": "code",
   "execution_count": 129,
   "id": "27de9ffe",
   "metadata": {},
   "outputs": [],
   "source": [
    "# mae = (lr_pnl_not_0.preds-lr_pnl_not_0.true).abs().mean()"
   ]
  },
  {
   "cell_type": "code",
   "execution_count": 130,
   "id": "f74d4cab",
   "metadata": {},
   "outputs": [],
   "source": [
    "# mae/mean_abs_label"
   ]
  },
  {
   "cell_type": "code",
   "execution_count": 131,
   "id": "c6b74fc9",
   "metadata": {},
   "outputs": [],
   "source": [
    "# lr_results.loc[tmp_df.index]"
   ]
  },
  {
   "cell_type": "code",
   "execution_count": 132,
   "id": "24648615",
   "metadata": {},
   "outputs": [],
   "source": [
    "# from sklearn.ensemble import RandomForestRegressor"
   ]
  },
  {
   "cell_type": "code",
   "execution_count": 133,
   "id": "b76ae99b",
   "metadata": {},
   "outputs": [],
   "source": [
    "# rf = RandomForestRegressor(verbose=2,n_jobs=-1)"
   ]
  },
  {
   "cell_type": "code",
   "execution_count": 134,
   "id": "f1ffe583",
   "metadata": {},
   "outputs": [],
   "source": [
    "# rf.fit(X_train.drop(categorical_features,axis=1),y_train)"
   ]
  },
  {
   "cell_type": "code",
   "execution_count": 135,
   "id": "74a489a0",
   "metadata": {},
   "outputs": [],
   "source": [
    "# preds = rf.predict(X_test.drop(categorical_features,axis=1))"
   ]
  },
  {
   "cell_type": "code",
   "execution_count": 136,
   "id": "27cf3f80",
   "metadata": {},
   "outputs": [],
   "source": [
    "# mae = (preds-y_test).abs().mean()\n",
    "# mae"
   ]
  },
  {
   "cell_type": "code",
   "execution_count": 137,
   "id": "34dd6e76",
   "metadata": {},
   "outputs": [],
   "source": [
    "# mae/mean_abs_label"
   ]
  },
  {
   "cell_type": "code",
   "execution_count": null,
   "id": "3c8c89d9",
   "metadata": {},
   "outputs": [],
   "source": []
  }
 ],
 "metadata": {
  "kernelspec": {
   "display_name": "Python 3 (ipykernel)",
   "language": "python",
   "name": "python3"
  },
  "language_info": {
   "codemirror_mode": {
    "name": "ipython",
    "version": 3
   },
   "file_extension": ".py",
   "mimetype": "text/x-python",
   "name": "python",
   "nbconvert_exporter": "python",
   "pygments_lexer": "ipython3",
   "version": "3.10.12"
  },
  "toc": {
   "base_numbering": 1,
   "nav_menu": {},
   "number_sections": true,
   "sideBar": true,
   "skip_h1_title": false,
   "title_cell": "Table of Contents",
   "title_sidebar": "Contents",
   "toc_cell": false,
   "toc_position": {
    "height": "calc(100% - 180px)",
    "left": "10px",
    "top": "150px",
    "width": "256px"
   },
   "toc_section_display": true,
   "toc_window_display": true
  },
  "varInspector": {
   "cols": {
    "lenName": 16,
    "lenType": 16,
    "lenVar": 40
   },
   "kernels_config": {
    "python": {
     "delete_cmd_postfix": "",
     "delete_cmd_prefix": "del ",
     "library": "var_list.py",
     "varRefreshCmd": "print(var_dic_list())"
    },
    "r": {
     "delete_cmd_postfix": ") ",
     "delete_cmd_prefix": "rm(",
     "library": "var_list.r",
     "varRefreshCmd": "cat(var_dic_list()) "
    }
   },
   "types_to_exclude": [
    "module",
    "function",
    "builtin_function_or_method",
    "instance",
    "_Feature"
   ],
   "window_display": false
  }
 },
 "nbformat": 4,
 "nbformat_minor": 5
}
