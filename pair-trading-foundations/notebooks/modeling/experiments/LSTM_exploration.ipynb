{
 "cells": [
  {
   "cell_type": "code",
   "execution_count": 14,
   "id": "f0f6fe43-37ef-4bd9-b5a3-b1a28cb23f83",
   "metadata": {},
   "outputs": [],
   "source": [
    "import pandas as pd\n",
    "import numpy as np\n",
    "from sklearn.metrics import classification_report, accuracy_score\n",
    "import tensorflow as tf\n",
    "from tensorflow.keras.models import Sequential\n",
    "from tensorflow.keras.layers import LSTM, Dense, Input, Bidirectional, Conv1D, MaxPooling1D\n",
    "from tensorflow.keras.callbacks import EarlyStopping\n",
    "from matplotlib import pyplot as plt\n",
    "from sklearn.preprocessing import StandardScaler\n",
    "from sklearn.metrics import confusion_matrix, ConfusionMatrixDisplay, precision_score, recall_score, f1_score\n",
    "from sklearn.model_selection import train_test_split\n",
    "\n",
    "from tensorflow.keras.optimizers import Adam\n",
    "\n",
    "import plotly.express as px\n",
    "import gc\n",
    "\n",
    "# Define an early-stopping callback\n",
    "cb = [EarlyStopping(monitor='val_loss',patience = 2)]"
   ]
  },
  {
   "cell_type": "code",
   "execution_count": 2,
   "id": "2e64a421-6ed2-410f-bb70-1d9afee380ef",
   "metadata": {},
   "outputs": [
    {
     "data": {
      "text/html": [
       "<div>\n",
       "<style scoped>\n",
       "    .dataframe tbody tr th:only-of-type {\n",
       "        vertical-align: middle;\n",
       "    }\n",
       "\n",
       "    .dataframe tbody tr th {\n",
       "        vertical-align: top;\n",
       "    }\n",
       "\n",
       "    .dataframe thead th {\n",
       "        text-align: right;\n",
       "    }\n",
       "</style>\n",
       "<table border=\"1\" class=\"dataframe\">\n",
       "  <thead>\n",
       "    <tr style=\"text-align: right;\">\n",
       "      <th></th>\n",
       "      <th>Date</th>\n",
       "      <th>Ticker_P1</th>\n",
       "      <th>Close_P1</th>\n",
       "      <th>Ticker_P2</th>\n",
       "      <th>Close_P2</th>\n",
       "      <th>High_P1</th>\n",
       "      <th>High_P2</th>\n",
       "      <th>Low_P1</th>\n",
       "      <th>Low_P2</th>\n",
       "      <th>Volume_P1</th>\n",
       "      <th>...</th>\n",
       "      <th>abs_spread_normed_l7_avg</th>\n",
       "      <th>abs_spread_normed_l14_avg</th>\n",
       "      <th>cos_sim</th>\n",
       "      <th>corr_coef</th>\n",
       "      <th>pnls</th>\n",
       "      <th>num_entries</th>\n",
       "      <th>days_till_first_entry</th>\n",
       "      <th>both_legs_profited</th>\n",
       "      <th>SPY_return</th>\n",
       "      <th>successful_pair_trading</th>\n",
       "    </tr>\n",
       "  </thead>\n",
       "  <tbody>\n",
       "    <tr>\n",
       "      <th>0</th>\n",
       "      <td>2015-01-02</td>\n",
       "      <td>MMM</td>\n",
       "      <td>119.195663</td>\n",
       "      <td>AKAM</td>\n",
       "      <td>63.250000</td>\n",
       "      <td>165.080002</td>\n",
       "      <td>63.900002</td>\n",
       "      <td>162.729996</td>\n",
       "      <td>62.520000</td>\n",
       "      <td>2116400.0</td>\n",
       "      <td>...</td>\n",
       "      <td>NaN</td>\n",
       "      <td>NaN</td>\n",
       "      <td>NaN</td>\n",
       "      <td>NaN</td>\n",
       "      <td>NaN</td>\n",
       "      <td>NaN</td>\n",
       "      <td>NaN</td>\n",
       "      <td>NaN</td>\n",
       "      <td>-1.708604</td>\n",
       "      <td>False</td>\n",
       "    </tr>\n",
       "    <tr>\n",
       "      <th>1</th>\n",
       "      <td>2015-01-05</td>\n",
       "      <td>MMM</td>\n",
       "      <td>116.507500</td>\n",
       "      <td>AKAM</td>\n",
       "      <td>61.939999</td>\n",
       "      <td>163.639999</td>\n",
       "      <td>62.340000</td>\n",
       "      <td>160.080002</td>\n",
       "      <td>60.759998</td>\n",
       "      <td>3692900.0</td>\n",
       "      <td>...</td>\n",
       "      <td>NaN</td>\n",
       "      <td>NaN</td>\n",
       "      <td>NaN</td>\n",
       "      <td>NaN</td>\n",
       "      <td>NaN</td>\n",
       "      <td>NaN</td>\n",
       "      <td>NaN</td>\n",
       "      <td>NaN</td>\n",
       "      <td>1.546708</td>\n",
       "      <td>False</td>\n",
       "    </tr>\n",
       "    <tr>\n",
       "      <th>2</th>\n",
       "      <td>2015-01-06</td>\n",
       "      <td>MMM</td>\n",
       "      <td>115.265114</td>\n",
       "      <td>AKAM</td>\n",
       "      <td>60.669998</td>\n",
       "      <td>161.369995</td>\n",
       "      <td>62.189999</td>\n",
       "      <td>157.740005</td>\n",
       "      <td>60.099998</td>\n",
       "      <td>3532000.0</td>\n",
       "      <td>...</td>\n",
       "      <td>NaN</td>\n",
       "      <td>NaN</td>\n",
       "      <td>NaN</td>\n",
       "      <td>NaN</td>\n",
       "      <td>NaN</td>\n",
       "      <td>NaN</td>\n",
       "      <td>NaN</td>\n",
       "      <td>NaN</td>\n",
       "      <td>2.121924</td>\n",
       "      <td>False</td>\n",
       "    </tr>\n",
       "    <tr>\n",
       "      <th>3</th>\n",
       "      <td>2015-01-07</td>\n",
       "      <td>MMM</td>\n",
       "      <td>116.100647</td>\n",
       "      <td>AKAM</td>\n",
       "      <td>60.160000</td>\n",
       "      <td>160.279999</td>\n",
       "      <td>60.959999</td>\n",
       "      <td>158.940002</td>\n",
       "      <td>59.930000</td>\n",
       "      <td>3081300.0</td>\n",
       "      <td>...</td>\n",
       "      <td>NaN</td>\n",
       "      <td>NaN</td>\n",
       "      <td>NaN</td>\n",
       "      <td>NaN</td>\n",
       "      <td>NaN</td>\n",
       "      <td>NaN</td>\n",
       "      <td>NaN</td>\n",
       "      <td>NaN</td>\n",
       "      <td>1.883259</td>\n",
       "      <td>False</td>\n",
       "    </tr>\n",
       "    <tr>\n",
       "      <th>4</th>\n",
       "      <td>2015-01-08</td>\n",
       "      <td>MMM</td>\n",
       "      <td>118.883270</td>\n",
       "      <td>AKAM</td>\n",
       "      <td>61.570000</td>\n",
       "      <td>163.690002</td>\n",
       "      <td>61.860001</td>\n",
       "      <td>160.520004</td>\n",
       "      <td>60.599998</td>\n",
       "      <td>3142900.0</td>\n",
       "      <td>...</td>\n",
       "      <td>NaN</td>\n",
       "      <td>NaN</td>\n",
       "      <td>NaN</td>\n",
       "      <td>NaN</td>\n",
       "      <td>NaN</td>\n",
       "      <td>NaN</td>\n",
       "      <td>NaN</td>\n",
       "      <td>NaN</td>\n",
       "      <td>-0.169939</td>\n",
       "      <td>False</td>\n",
       "    </tr>\n",
       "  </tbody>\n",
       "</table>\n",
       "<p>5 rows × 33 columns</p>\n",
       "</div>"
      ],
      "text/plain": [
       "         Date Ticker_P1    Close_P1 Ticker_P2   Close_P2     High_P1  \\\n",
       "0  2015-01-02       MMM  119.195663      AKAM  63.250000  165.080002   \n",
       "1  2015-01-05       MMM  116.507500      AKAM  61.939999  163.639999   \n",
       "2  2015-01-06       MMM  115.265114      AKAM  60.669998  161.369995   \n",
       "3  2015-01-07       MMM  116.100647      AKAM  60.160000  160.279999   \n",
       "4  2015-01-08       MMM  118.883270      AKAM  61.570000  163.690002   \n",
       "\n",
       "     High_P2      Low_P1     Low_P2  Volume_P1  ...  abs_spread_normed_l7_avg  \\\n",
       "0  63.900002  162.729996  62.520000  2116400.0  ...                       NaN   \n",
       "1  62.340000  160.080002  60.759998  3692900.0  ...                       NaN   \n",
       "2  62.189999  157.740005  60.099998  3532000.0  ...                       NaN   \n",
       "3  60.959999  158.940002  59.930000  3081300.0  ...                       NaN   \n",
       "4  61.860001  160.520004  60.599998  3142900.0  ...                       NaN   \n",
       "\n",
       "   abs_spread_normed_l14_avg  cos_sim  corr_coef  pnls  num_entries  \\\n",
       "0                        NaN      NaN        NaN   NaN          NaN   \n",
       "1                        NaN      NaN        NaN   NaN          NaN   \n",
       "2                        NaN      NaN        NaN   NaN          NaN   \n",
       "3                        NaN      NaN        NaN   NaN          NaN   \n",
       "4                        NaN      NaN        NaN   NaN          NaN   \n",
       "\n",
       "   days_till_first_entry  both_legs_profited  SPY_return  \\\n",
       "0                    NaN                 NaN   -1.708604   \n",
       "1                    NaN                 NaN    1.546708   \n",
       "2                    NaN                 NaN    2.121924   \n",
       "3                    NaN                 NaN    1.883259   \n",
       "4                    NaN                 NaN   -0.169939   \n",
       "\n",
       "   successful_pair_trading  \n",
       "0                    False  \n",
       "1                    False  \n",
       "2                    False  \n",
       "3                    False  \n",
       "4                    False  \n",
       "\n",
       "[5 rows x 33 columns]"
      ]
     },
     "execution_count": 2,
     "metadata": {},
     "output_type": "execute_result"
    }
   ],
   "source": [
    "df = pd.read_csv('../../Data/Training/pair_features_updated_300_20.csv')\n",
    "# df['pnls'] = df['pnls']*100.0\n",
    "df.head()"
   ]
  },
  {
   "cell_type": "markdown",
   "id": "10687515-cce1-4a6d-a73a-5211778e063d",
   "metadata": {},
   "source": [
    "# Generate data for LSTM"
   ]
  },
  {
   "cell_type": "code",
   "execution_count": 3,
   "id": "80db131f-3170-4b15-ab1c-443bc891ec24",
   "metadata": {},
   "outputs": [],
   "source": [
    "ticker_pairs = df[['Ticker_P1','Ticker_P2']].drop_duplicates().reset_index(drop=True)"
   ]
  },
  {
   "cell_type": "code",
   "execution_count": 4,
   "id": "6fdf122e-68e5-44a5-8515-9fc258688933",
   "metadata": {},
   "outputs": [],
   "source": [
    "date = []\n",
    "tk1 = []\n",
    "tk2 = []\n",
    "pnls = []\n",
    "label = []\n",
    "abs_spread = []"
   ]
  },
  {
   "cell_type": "code",
   "execution_count": 5,
   "id": "75f8a4bd-d6d0-4c19-8fab-da4480ce8338",
   "metadata": {},
   "outputs": [],
   "source": [
    "for k in range(ticker_pairs.shape[0]):\n",
    "    ticker1=ticker_pairs.Ticker_P1[k]\n",
    "    ticker2=ticker_pairs.Ticker_P2[k]\n",
    "    \n",
    "    df_sub = df[\n",
    "        (df.Ticker_P1 == ticker1)&(df.Ticker_P2 == ticker2)\n",
    "    ][['Date',\n",
    "       'Close_P1', \n",
    "       'Close_P2', \n",
    "       'pnls', \n",
    "       'both_legs_profited',\n",
    "       'successful_pair_trading']].dropna().sort_values('Date', ascending=True).reset_index(drop=True)\n",
    "    \n",
    "    for i in range(300, df_sub.shape[0]):\n",
    "        temp = df_sub.loc[(i-300):i]\n",
    "        vec = abs(temp.Close_P1 - temp.Close_P2)\n",
    "        abs_spread.append(vec)\n",
    "        pnls.append(df_sub.pnls[i])\n",
    "        label.append(df_sub.both_legs_profited[i]=='True')\n",
    "        date.append(df_sub.Date[i])\n",
    "        tk1.append(ticker1)\n",
    "        tk2.append(ticker2)"
   ]
  },
  {
   "cell_type": "code",
   "execution_count": 6,
   "id": "48ade44a-093a-4d40-8092-9742685fc9c0",
   "metadata": {},
   "outputs": [],
   "source": [
    "# abs_spread = np.array(abs_spread)"
   ]
  },
  {
   "cell_type": "code",
   "execution_count": 7,
   "id": "ccd4c99b-20a9-4d4c-b0e6-ce9a1a1273e5",
   "metadata": {},
   "outputs": [],
   "source": [
    "train = pd.DataFrame()\n",
    "train['Date'] = date\n",
    "train['stock1'] = tk1\n",
    "train['stock2'] = tk2\n",
    "train['label'] = label\n",
    "train['abs_spread'] = abs_spread\n",
    "# Sort the df by date to ensure the train test split doesn't cause leak\n",
    "train = train.sort_values('Date', ascending=True).reset_index(drop=True)"
   ]
  },
  {
   "cell_type": "code",
   "execution_count": 8,
   "id": "02b878db-ca82-42f3-8a7d-f1c2643f3be1",
   "metadata": {},
   "outputs": [
    {
     "data": {
      "text/plain": [
       "0.13287540447890303"
      ]
     },
     "execution_count": 8,
     "metadata": {},
     "output_type": "execute_result"
    }
   ],
   "source": [
    "np.mean(train.label)"
   ]
  },
  {
   "cell_type": "code",
   "execution_count": 9,
   "id": "78abe2a2-4c70-4ae1-a444-eaea06fe9de0",
   "metadata": {},
   "outputs": [],
   "source": [
    "del df\n",
    "gc.collect()"
   ]
  },
  {
   "cell_type": "code",
   "execution_count": 10,
   "id": "edd665d8-366d-4bec-9b74-253cee08a89f",
   "metadata": {},
   "outputs": [],
   "source": [
    "X_train, X_test, y_train, y_test = train_test_split(train['abs_spread'], train['label'], test_size=0.2, shuffle=False)"
   ]
  },
  {
   "cell_type": "code",
   "execution_count": 11,
   "id": "2519b5de-b82f-4b13-9746-c55746311825",
   "metadata": {},
   "outputs": [],
   "source": [
    "X_train = np.array([x for x in X_train])\n",
    "X_test = np.array([x for x in X_test])"
   ]
  },
  {
   "cell_type": "code",
   "execution_count": 12,
   "id": "3782e41e-e9e3-4912-9cdd-3f21efe96b53",
   "metadata": {},
   "outputs": [],
   "source": [
    "scaler = StandardScaler().fit(X_train)\n",
    "scaled_X_train = scaler.transform(X_train)\n",
    "scaled_X_test = scaler.transform(X_test)"
   ]
  },
  {
   "cell_type": "code",
   "execution_count": 13,
   "id": "a2e85602-74c9-43c6-b31a-eb9c0e9374eb",
   "metadata": {},
   "outputs": [
    {
     "data": {
      "text/plain": [
       "(624260, 301)"
      ]
     },
     "execution_count": 13,
     "metadata": {},
     "output_type": "execute_result"
    }
   ],
   "source": [
    "X_train.shape"
   ]
  },
  {
   "cell_type": "code",
   "execution_count": 15,
   "id": "2dec6e04-018c-4ac5-bfb5-ad9e10585060",
   "metadata": {},
   "outputs": [
    {
     "data": {
      "text/plain": [
       "0"
      ]
     },
     "execution_count": 15,
     "metadata": {},
     "output_type": "execute_result"
    }
   ],
   "source": [
    "del train\n",
    "gc.collect()"
   ]
  },
  {
   "cell_type": "markdown",
   "id": "e7019e6b-2c9a-4f4e-a586-5a3cae7993e7",
   "metadata": {},
   "source": [
    "# Modeling"
   ]
  },
  {
   "cell_type": "code",
   "execution_count": 27,
   "id": "aae28c9b-9ab2-4eed-872f-94a7ebd5db91",
   "metadata": {},
   "outputs": [
    {
     "data": {
      "text/html": [
       "<pre style=\"white-space:pre;overflow-x:auto;line-height:normal;font-family:Menlo,'DejaVu Sans Mono',consolas,'Courier New',monospace\"><span style=\"font-weight: bold\">Model: \"sequential_4\"</span>\n",
       "</pre>\n"
      ],
      "text/plain": [
       "\u001b[1mModel: \"sequential_4\"\u001b[0m\n"
      ]
     },
     "metadata": {},
     "output_type": "display_data"
    },
    {
     "data": {
      "text/html": [
       "<pre style=\"white-space:pre;overflow-x:auto;line-height:normal;font-family:Menlo,'DejaVu Sans Mono',consolas,'Courier New',monospace\">┏━━━━━━━━━━━━━━━━━━━━━━━━━━━━━━━━━┳━━━━━━━━━━━━━━━━━━━━━━━━┳━━━━━━━━━━━━━━━┓\n",
       "┃<span style=\"font-weight: bold\"> Layer (type)                    </span>┃<span style=\"font-weight: bold\"> Output Shape           </span>┃<span style=\"font-weight: bold\">       Param # </span>┃\n",
       "┡━━━━━━━━━━━━━━━━━━━━━━━━━━━━━━━━━╇━━━━━━━━━━━━━━━━━━━━━━━━╇━━━━━━━━━━━━━━━┩\n",
       "│ conv1d_3 (<span style=\"color: #0087ff; text-decoration-color: #0087ff\">Conv1D</span>)               │ (<span style=\"color: #00d7ff; text-decoration-color: #00d7ff\">None</span>, <span style=\"color: #00af00; text-decoration-color: #00af00\">299</span>, <span style=\"color: #00af00; text-decoration-color: #00af00\">64</span>)        │           <span style=\"color: #00af00; text-decoration-color: #00af00\">256</span> │\n",
       "├─────────────────────────────────┼────────────────────────┼───────────────┤\n",
       "│ max_pooling1d_3 (<span style=\"color: #0087ff; text-decoration-color: #0087ff\">MaxPooling1D</span>)  │ (<span style=\"color: #00d7ff; text-decoration-color: #00d7ff\">None</span>, <span style=\"color: #00af00; text-decoration-color: #00af00\">149</span>, <span style=\"color: #00af00; text-decoration-color: #00af00\">64</span>)        │             <span style=\"color: #00af00; text-decoration-color: #00af00\">0</span> │\n",
       "├─────────────────────────────────┼────────────────────────┼───────────────┤\n",
       "│ bidirectional_4 (<span style=\"color: #0087ff; text-decoration-color: #0087ff\">Bidirectional</span>) │ (<span style=\"color: #00d7ff; text-decoration-color: #00d7ff\">None</span>, <span style=\"color: #00af00; text-decoration-color: #00af00\">200</span>)            │       <span style=\"color: #00af00; text-decoration-color: #00af00\">132,000</span> │\n",
       "├─────────────────────────────────┼────────────────────────┼───────────────┤\n",
       "│ dense_8 (<span style=\"color: #0087ff; text-decoration-color: #0087ff\">Dense</span>)                 │ (<span style=\"color: #00d7ff; text-decoration-color: #00d7ff\">None</span>, <span style=\"color: #00af00; text-decoration-color: #00af00\">50</span>)             │        <span style=\"color: #00af00; text-decoration-color: #00af00\">10,050</span> │\n",
       "├─────────────────────────────────┼────────────────────────┼───────────────┤\n",
       "│ dense_9 (<span style=\"color: #0087ff; text-decoration-color: #0087ff\">Dense</span>)                 │ (<span style=\"color: #00d7ff; text-decoration-color: #00d7ff\">None</span>, <span style=\"color: #00af00; text-decoration-color: #00af00\">1</span>)              │            <span style=\"color: #00af00; text-decoration-color: #00af00\">51</span> │\n",
       "└─────────────────────────────────┴────────────────────────┴───────────────┘\n",
       "</pre>\n"
      ],
      "text/plain": [
       "┏━━━━━━━━━━━━━━━━━━━━━━━━━━━━━━━━━┳━━━━━━━━━━━━━━━━━━━━━━━━┳━━━━━━━━━━━━━━━┓\n",
       "┃\u001b[1m \u001b[0m\u001b[1mLayer (type)                   \u001b[0m\u001b[1m \u001b[0m┃\u001b[1m \u001b[0m\u001b[1mOutput Shape          \u001b[0m\u001b[1m \u001b[0m┃\u001b[1m \u001b[0m\u001b[1m      Param #\u001b[0m\u001b[1m \u001b[0m┃\n",
       "┡━━━━━━━━━━━━━━━━━━━━━━━━━━━━━━━━━╇━━━━━━━━━━━━━━━━━━━━━━━━╇━━━━━━━━━━━━━━━┩\n",
       "│ conv1d_3 (\u001b[38;5;33mConv1D\u001b[0m)               │ (\u001b[38;5;45mNone\u001b[0m, \u001b[38;5;34m299\u001b[0m, \u001b[38;5;34m64\u001b[0m)        │           \u001b[38;5;34m256\u001b[0m │\n",
       "├─────────────────────────────────┼────────────────────────┼───────────────┤\n",
       "│ max_pooling1d_3 (\u001b[38;5;33mMaxPooling1D\u001b[0m)  │ (\u001b[38;5;45mNone\u001b[0m, \u001b[38;5;34m149\u001b[0m, \u001b[38;5;34m64\u001b[0m)        │             \u001b[38;5;34m0\u001b[0m │\n",
       "├─────────────────────────────────┼────────────────────────┼───────────────┤\n",
       "│ bidirectional_4 (\u001b[38;5;33mBidirectional\u001b[0m) │ (\u001b[38;5;45mNone\u001b[0m, \u001b[38;5;34m200\u001b[0m)            │       \u001b[38;5;34m132,000\u001b[0m │\n",
       "├─────────────────────────────────┼────────────────────────┼───────────────┤\n",
       "│ dense_8 (\u001b[38;5;33mDense\u001b[0m)                 │ (\u001b[38;5;45mNone\u001b[0m, \u001b[38;5;34m50\u001b[0m)             │        \u001b[38;5;34m10,050\u001b[0m │\n",
       "├─────────────────────────────────┼────────────────────────┼───────────────┤\n",
       "│ dense_9 (\u001b[38;5;33mDense\u001b[0m)                 │ (\u001b[38;5;45mNone\u001b[0m, \u001b[38;5;34m1\u001b[0m)              │            \u001b[38;5;34m51\u001b[0m │\n",
       "└─────────────────────────────────┴────────────────────────┴───────────────┘\n"
      ]
     },
     "metadata": {},
     "output_type": "display_data"
    },
    {
     "data": {
      "text/html": [
       "<pre style=\"white-space:pre;overflow-x:auto;line-height:normal;font-family:Menlo,'DejaVu Sans Mono',consolas,'Courier New',monospace\"><span style=\"font-weight: bold\"> Total params: </span><span style=\"color: #00af00; text-decoration-color: #00af00\">142,357</span> (556.08 KB)\n",
       "</pre>\n"
      ],
      "text/plain": [
       "\u001b[1m Total params: \u001b[0m\u001b[38;5;34m142,357\u001b[0m (556.08 KB)\n"
      ]
     },
     "metadata": {},
     "output_type": "display_data"
    },
    {
     "data": {
      "text/html": [
       "<pre style=\"white-space:pre;overflow-x:auto;line-height:normal;font-family:Menlo,'DejaVu Sans Mono',consolas,'Courier New',monospace\"><span style=\"font-weight: bold\"> Trainable params: </span><span style=\"color: #00af00; text-decoration-color: #00af00\">142,357</span> (556.08 KB)\n",
       "</pre>\n"
      ],
      "text/plain": [
       "\u001b[1m Trainable params: \u001b[0m\u001b[38;5;34m142,357\u001b[0m (556.08 KB)\n"
      ]
     },
     "metadata": {},
     "output_type": "display_data"
    },
    {
     "data": {
      "text/html": [
       "<pre style=\"white-space:pre;overflow-x:auto;line-height:normal;font-family:Menlo,'DejaVu Sans Mono',consolas,'Courier New',monospace\"><span style=\"font-weight: bold\"> Non-trainable params: </span><span style=\"color: #00af00; text-decoration-color: #00af00\">0</span> (0.00 B)\n",
       "</pre>\n"
      ],
      "text/plain": [
       "\u001b[1m Non-trainable params: \u001b[0m\u001b[38;5;34m0\u001b[0m (0.00 B)\n"
      ]
     },
     "metadata": {},
     "output_type": "display_data"
    }
   ],
   "source": [
    "# Define the input shape (61 time steps with 1 feature per step)\n",
    "input_shape = (301, 1)\n",
    "\n",
    "# Create the Sequential model\n",
    "model = Sequential()\n",
    "\n",
    "model.add(Conv1D(filters=64, kernel_size=3, activation='relu', input_shape=input_shape))\n",
    "model.add(MaxPooling1D(pool_size=2))\n",
    "\n",
    "# model.add(LSTM(100, input_shape=input_shape, return_sequences=True))\n",
    "# model.add(LSTM(100, input_shape=input_shape, return_sequences=True))\n",
    "model.add(Bidirectional(LSTM(100,return_sequences=False, dropout=0.2, recurrent_dropout=0.2)))\n",
    "\n",
    "# model.add(LSTM(100, return_sequences=False, dropout=0.2, recurrent_dropout=0.2))\n",
    "\n",
    "model.add(Dense(50, activation='relu'))\n",
    "\n",
    "# Add a Dense layer to output one value\n",
    "model.add(Dense(1))\n",
    "\n",
    "# Define the optimizer\n",
    "optimizer = Adam(learning_rate=0.001)\n",
    "\n",
    "# Compile the model\n",
    "model.compile(optimizer=optimizer, loss='binary_crossentropy')\n",
    "\n",
    "# Summary of the model\n",
    "model.summary()"
   ]
  },
  {
   "cell_type": "code",
   "execution_count": 28,
   "id": "2260883d-9455-43fd-b91e-b4ac10dad32f",
   "metadata": {},
   "outputs": [],
   "source": [
    "cb = [EarlyStopping(monitor='val_loss',patience = 2)]"
   ]
  },
  {
   "cell_type": "code",
   "execution_count": 32,
   "id": "1269c2a2-440b-4509-8934-7d7d34068239",
   "metadata": {},
   "outputs": [
    {
     "name": "stdout",
     "output_type": "stream",
     "text": [
      "Epoch 1/2\n",
      "\u001b[1m15607/15607\u001b[0m \u001b[32m━━━━━━━━━━━━━━━━━━━━\u001b[0m\u001b[37m\u001b[0m \u001b[1m1857s\u001b[0m 119ms/step - loss: 2.1043 - val_loss: 2.0545\n",
      "Epoch 2/2\n",
      "\u001b[1m15607/15607\u001b[0m \u001b[32m━━━━━━━━━━━━━━━━━━━━\u001b[0m\u001b[37m\u001b[0m \u001b[1m1933s\u001b[0m 124ms/step - loss: 2.0949 - val_loss: 2.0545\n"
     ]
    },
    {
     "data": {
      "text/plain": [
       "<keras.src.callbacks.history.History at 0x5f4a1f510>"
      ]
     },
     "execution_count": 32,
     "metadata": {},
     "output_type": "execute_result"
    }
   ],
   "source": [
    "model.fit(scaled_X_train, np.array(y_train), validation_split=0.2,epochs=3, batch_size=32, callbacks=cb)"
   ]
  },
  {
   "cell_type": "code",
   "execution_count": 33,
   "id": "25da49d5-e99b-45a1-85b4-ef8070a2cfa9",
   "metadata": {},
   "outputs": [
    {
     "data": {
      "text/plain": [
       "<matplotlib.legend.Legend at 0x5def203d0>"
      ]
     },
     "execution_count": 33,
     "metadata": {},
     "output_type": "execute_result"
    },
    {
     "data": {
      "image/png": "[encoded data removed]",
      "text/plain": [
       "<Figure size 640x480 with 1 Axes>"
      ]
     },
     "metadata": {},
     "output_type": "display_data"
    },
    {
     "data": {
      "image/png": "[encoded data removed]",
      "text/plain": [
       "<Figure size 640x480 with 1 Axes>"
      ]
     },
     "metadata": {},
     "output_type": "display_data"
    }
   ],
   "source": [
    "plt.figure(0)\n",
    "plt.plot(model.history.history['loss'])\n",
    "plt.plot(model.history.history['val_loss'])\n",
    "plt.title('model accuracy')\n",
    "plt.ylabel('accuracy')\n",
    "plt.xlabel('epoch')\n",
    "plt.legend(['train', 'test'], loc='upper left')\n",
    "# loss\n",
    "plt.figure(1)\n",
    "plt.plot(model.history.history['loss'])\n",
    "plt.plot(model.history.history['val_loss'])\n",
    "plt.title('model loss')\n",
    "plt.ylabel('loss')\n",
    "plt.xlabel('epoch')\n",
    "plt.legend(['train', 'test'], loc='upper left')"
   ]
  },
  {
   "cell_type": "markdown",
   "id": "658a84da-fffe-4451-9683-e797435c027f",
   "metadata": {},
   "source": [
    "# Scoring"
   ]
  },
  {
   "cell_type": "code",
   "execution_count": 34,
   "id": "17da78d2-8786-4a84-9460-159c7275b6f6",
   "metadata": {},
   "outputs": [
    {
     "name": "stdout",
     "output_type": "stream",
     "text": [
      "\u001b[1m4878/4878\u001b[0m \u001b[32m━━━━━━━━━━━━━━━━━━━━\u001b[0m\u001b[37m\u001b[0m \u001b[1m153s\u001b[0m 31ms/step\n"
     ]
    }
   ],
   "source": [
    "preds = model.predict(scaled_X_test)\n",
    "preds = [x[0] for x in preds]\n",
    "preds_bin = np.array(preds)>0.5"
   ]
  },
  {
   "cell_type": "code",
   "execution_count": 35,
   "id": "43f92d10-0e87-438b-8ad6-363a0f58404d",
   "metadata": {},
   "outputs": [
    {
     "data": {
      "text/plain": [
       "0.0"
      ]
     },
     "execution_count": 35,
     "metadata": {},
     "output_type": "execute_result"
    }
   ],
   "source": [
    "np.mean(preds_bin)"
   ]
  },
  {
   "cell_type": "code",
   "execution_count": 36,
   "id": "0eadcc72-c5b8-4b12-96a0-532f729808a4",
   "metadata": {},
   "outputs": [
    {
     "data": {
      "text/plain": [
       "0.14727197001249479"
      ]
     },
     "execution_count": 36,
     "metadata": {},
     "output_type": "execute_result"
    }
   ],
   "source": [
    "np.mean(y_test)"
   ]
  },
  {
   "cell_type": "code",
   "execution_count": 37,
   "id": "934b1882-0620-422a-98d3-b897a6a81a22",
   "metadata": {},
   "outputs": [
    {
     "name": "stdout",
     "output_type": "stream",
     "text": [
      "0.784945314538449\n",
      "0.8527280299875052\n",
      "0.4602553727182807\n",
      "0.0\n",
      "0.0\n"
     ]
    },
    {
     "name": "stderr",
     "output_type": "stream",
     "text": [
      "/Users/xiaoma/Library/Caches/pypoetry/virtualenvs/pair-trading-foundations-SdobHK0C-py3.11/lib/python3.11/site-packages/sklearn/metrics/_classification.py:1509: UndefinedMetricWarning: Precision is ill-defined and being set to 0.0 due to no predicted samples. Use `zero_division` parameter to control this behavior.\n",
      "  _warn_prf(average, modifier, f\"{metric.capitalize()} is\", len(result))\n"
     ]
    }
   ],
   "source": [
    "print(f1_score(y_test, preds_bin, average='weighted'))\n",
    "print(f1_score(y_test, preds_bin, average='micro'))\n",
    "print(f1_score(y_test, preds_bin, average='macro'))\n",
    "\n",
    "print(precision_score(y_test, preds_bin))\n",
    "print(recall_score(y_test, preds_bin))"
   ]
  },
  {
   "cell_type": "code",
   "execution_count": 38,
   "id": "225d1186-8047-4ee9-8627-9dddd991523d",
   "metadata": {},
   "outputs": [
    {
     "data": {
      "text/plain": [
       "<sklearn.metrics._plot.confusion_matrix.ConfusionMatrixDisplay at 0x5deb63110>"
      ]
     },
     "execution_count": 38,
     "metadata": {},
     "output_type": "execute_result"
    },
    {
     "data": {
      "image/png": "[encoded data removed]",
      "text/plain": [
       "<Figure size 640x480 with 2 Axes>"
      ]
     },
     "metadata": {},
     "output_type": "display_data"
    }
   ],
   "source": [
    "cm = confusion_matrix(y_test, preds_bin,normalize='true')\n",
    "disp = ConfusionMatrixDisplay(confusion_matrix=cm)\n",
    "disp.plot()"
   ]
  },
  {
   "cell_type": "markdown",
   "id": "e41574a3-aca8-4549-9443-987d78ea84c9",
   "metadata": {},
   "source": [
    "# Save the model"
   ]
  },
  {
   "cell_type": "code",
   "execution_count": null,
   "id": "4fb197bc-75e0-4439-8547-62c745e85050",
   "metadata": {},
   "outputs": [],
   "source": []
  }
 ],
 "metadata": {
  "kernelspec": {
   "display_name": "Python 3 (ipykernel)",
   "language": "python",
   "name": "python3"
  },
  "language_info": {
   "codemirror_mode": {
    "name": "ipython",
    "version": 3
   },
   "file_extension": ".py",
   "mimetype": "text/x-python",
   "name": "python",
   "nbconvert_exporter": "python",
   "pygments_lexer": "ipython3",
   "version": "3.10.12"
  }
 },
 "nbformat": 4,
 "nbformat_minor": 5
}
