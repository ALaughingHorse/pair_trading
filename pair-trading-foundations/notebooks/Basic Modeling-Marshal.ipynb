{
 "cells": [
  {
   "cell_type": "markdown",
   "id": "e019dcc1",
   "metadata": {
    "editable": true,
    "slideshow": {
     "slide_type": ""
    },
    "tags": []
   },
   "source": [
    "## Placeholder for Table of Contents Bug on AWS"
   ]
  },
  {
   "cell_type": "markdown",
   "id": "094bc293",
   "metadata": {},
   "source": [
    "## Placeholder for Table of Contents Bug on AWS"
   ]
  },
  {
   "cell_type": "markdown",
   "id": "a2ce0cef",
   "metadata": {},
   "source": [
    "## Placeholder for Table of Contents Bug on AWS"
   ]
  },
  {
   "cell_type": "markdown",
   "id": "17b6eba1",
   "metadata": {},
   "source": [
    "## Placeholder for Table of Contents Bug on AWS"
   ]
  },
  {
   "cell_type": "markdown",
   "id": "be2bb294",
   "metadata": {},
   "source": [
    "# Imports"
   ]
  },
  {
   "cell_type": "code",
   "execution_count": 1,
   "id": "499fa2a3",
   "metadata": {},
   "outputs": [],
   "source": [
    "import pandas as pd\n",
    "import numpy as np\n",
    "import lightgbm as lgb\n",
    "from sklearn.model_selection import train_test_split\n",
    "from sklearn.preprocessing import StandardScaler\n",
    "from sklearn.linear_model import LinearRegression, LogisticRegression\n",
    "from sklearn.metrics import confusion_matrix, ConfusionMatrixDisplay\n",
    "from sklearn.inspection import permutation_importance\n",
    "import ta\n",
    "\n",
    "from tqdm.notebook import tqdm\n",
    "tqdm.pandas()\n",
    "\n",
    "import matplotlib.pyplot as plt\n",
    "import plotly.express as px\n",
    "\n",
    "from sklearn.metrics import f1_score\n",
    "from imblearn.under_sampling import RandomUnderSampler\n",
    "pd.set_option('display.float_format', lambda x: '%.3f' % x)\n",
    "np.set_printoptions(suppress=True)\n",
    "from pprint import pprint\n",
    "\n",
    "import gc\n",
    "import optuna\n",
    "from sklearn.feature_selection import RFE"
   ]
  },
  {
   "cell_type": "code",
   "execution_count": 2,
   "id": "7bb6cf77",
   "metadata": {},
   "outputs": [
    {
     "data": {
      "text/html": [
       "<div>\n",
       "<style scoped>\n",
       "    .dataframe tbody tr th:only-of-type {\n",
       "        vertical-align: middle;\n",
       "    }\n",
       "\n",
       "    .dataframe tbody tr th {\n",
       "        vertical-align: top;\n",
       "    }\n",
       "\n",
       "    .dataframe thead th {\n",
       "        text-align: right;\n",
       "    }\n",
       "</style>\n",
       "<table border=\"1\" class=\"dataframe\">\n",
       "  <thead>\n",
       "    <tr style=\"text-align: right;\">\n",
       "      <th></th>\n",
       "      <th>Date</th>\n",
       "      <th>Ticker_P1</th>\n",
       "      <th>Close_P1</th>\n",
       "      <th>Ticker_P2</th>\n",
       "      <th>Close_P2</th>\n",
       "      <th>High_P1</th>\n",
       "      <th>High_P2</th>\n",
       "      <th>Low_P1</th>\n",
       "      <th>Low_P2</th>\n",
       "      <th>Volume_P1</th>\n",
       "      <th>...</th>\n",
       "      <th>abs_spread_normed_max</th>\n",
       "      <th>abs_spread_normed_90th</th>\n",
       "      <th>abs_spread_normed_75th</th>\n",
       "      <th>abs_spread_normed_median</th>\n",
       "      <th>abs_spread_normed_l7_avg</th>\n",
       "      <th>abs_spread_normed_l14_avg</th>\n",
       "      <th>cos_sim</th>\n",
       "      <th>corr_coef</th>\n",
       "      <th>pnls</th>\n",
       "      <th>num_entries</th>\n",
       "    </tr>\n",
       "  </thead>\n",
       "  <tbody>\n",
       "    <tr>\n",
       "      <th>0</th>\n",
       "      <td>2015-01-02</td>\n",
       "      <td>CAG</td>\n",
       "      <td>21.161</td>\n",
       "      <td>NOC</td>\n",
       "      <td>126.094</td>\n",
       "      <td>28.241</td>\n",
       "      <td>149.160</td>\n",
       "      <td>27.868</td>\n",
       "      <td>144.540</td>\n",
       "      <td>5126379.000</td>\n",
       "      <td>...</td>\n",
       "      <td>NaN</td>\n",
       "      <td>NaN</td>\n",
       "      <td>NaN</td>\n",
       "      <td>NaN</td>\n",
       "      <td>NaN</td>\n",
       "      <td>NaN</td>\n",
       "      <td>NaN</td>\n",
       "      <td>NaN</td>\n",
       "      <td>NaN</td>\n",
       "      <td>NaN</td>\n",
       "    </tr>\n",
       "    <tr>\n",
       "      <th>1</th>\n",
       "      <td>2015-01-05</td>\n",
       "      <td>CAG</td>\n",
       "      <td>20.931</td>\n",
       "      <td>NOC</td>\n",
       "      <td>123.433</td>\n",
       "      <td>28.023</td>\n",
       "      <td>146.470</td>\n",
       "      <td>27.564</td>\n",
       "      <td>142.450</td>\n",
       "      <td>5400213.000</td>\n",
       "      <td>...</td>\n",
       "      <td>NaN</td>\n",
       "      <td>NaN</td>\n",
       "      <td>NaN</td>\n",
       "      <td>NaN</td>\n",
       "      <td>NaN</td>\n",
       "      <td>NaN</td>\n",
       "      <td>NaN</td>\n",
       "      <td>NaN</td>\n",
       "      <td>NaN</td>\n",
       "      <td>NaN</td>\n",
       "    </tr>\n",
       "    <tr>\n",
       "      <th>2</th>\n",
       "      <td>2015-01-06</td>\n",
       "      <td>CAG</td>\n",
       "      <td>20.724</td>\n",
       "      <td>NOC</td>\n",
       "      <td>124.114</td>\n",
       "      <td>27.743</td>\n",
       "      <td>146.000</td>\n",
       "      <td>27.167</td>\n",
       "      <td>141.580</td>\n",
       "      <td>5229051.000</td>\n",
       "      <td>...</td>\n",
       "      <td>NaN</td>\n",
       "      <td>NaN</td>\n",
       "      <td>NaN</td>\n",
       "      <td>NaN</td>\n",
       "      <td>NaN</td>\n",
       "      <td>NaN</td>\n",
       "      <td>NaN</td>\n",
       "      <td>NaN</td>\n",
       "      <td>NaN</td>\n",
       "      <td>NaN</td>\n",
       "    </tr>\n",
       "    <tr>\n",
       "      <th>3</th>\n",
       "      <td>2015-01-07</td>\n",
       "      <td>CAG</td>\n",
       "      <td>21.214</td>\n",
       "      <td>NOC</td>\n",
       "      <td>128.040</td>\n",
       "      <td>27.977</td>\n",
       "      <td>148.830</td>\n",
       "      <td>27.432</td>\n",
       "      <td>144.880</td>\n",
       "      <td>3124092.000</td>\n",
       "      <td>...</td>\n",
       "      <td>NaN</td>\n",
       "      <td>NaN</td>\n",
       "      <td>NaN</td>\n",
       "      <td>NaN</td>\n",
       "      <td>NaN</td>\n",
       "      <td>NaN</td>\n",
       "      <td>NaN</td>\n",
       "      <td>NaN</td>\n",
       "      <td>NaN</td>\n",
       "      <td>NaN</td>\n",
       "    </tr>\n",
       "    <tr>\n",
       "      <th>4</th>\n",
       "      <td>2015-01-08</td>\n",
       "      <td>CAG</td>\n",
       "      <td>21.675</td>\n",
       "      <td>NOC</td>\n",
       "      <td>131.010</td>\n",
       "      <td>28.560</td>\n",
       "      <td>153.140</td>\n",
       "      <td>28.054</td>\n",
       "      <td>149.810</td>\n",
       "      <td>4154019.000</td>\n",
       "      <td>...</td>\n",
       "      <td>NaN</td>\n",
       "      <td>NaN</td>\n",
       "      <td>NaN</td>\n",
       "      <td>NaN</td>\n",
       "      <td>NaN</td>\n",
       "      <td>NaN</td>\n",
       "      <td>NaN</td>\n",
       "      <td>NaN</td>\n",
       "      <td>NaN</td>\n",
       "      <td>NaN</td>\n",
       "    </tr>\n",
       "  </tbody>\n",
       "</table>\n",
       "<p>5 rows × 27 columns</p>\n",
       "</div>"
      ],
      "text/plain": [
       "         Date Ticker_P1  Close_P1 Ticker_P2  Close_P2  High_P1  High_P2  \\\n",
       "0  2015-01-02       CAG    21.161       NOC   126.094   28.241  149.160   \n",
       "1  2015-01-05       CAG    20.931       NOC   123.433   28.023  146.470   \n",
       "2  2015-01-06       CAG    20.724       NOC   124.114   27.743  146.000   \n",
       "3  2015-01-07       CAG    21.214       NOC   128.040   27.977  148.830   \n",
       "4  2015-01-08       CAG    21.675       NOC   131.010   28.560  153.140   \n",
       "\n",
       "   Low_P1  Low_P2   Volume_P1  ...  abs_spread_normed_max  \\\n",
       "0  27.868 144.540 5126379.000  ...                    NaN   \n",
       "1  27.564 142.450 5400213.000  ...                    NaN   \n",
       "2  27.167 141.580 5229051.000  ...                    NaN   \n",
       "3  27.432 144.880 3124092.000  ...                    NaN   \n",
       "4  28.054 149.810 4154019.000  ...                    NaN   \n",
       "\n",
       "   abs_spread_normed_90th  abs_spread_normed_75th  abs_spread_normed_median  \\\n",
       "0                     NaN                     NaN                       NaN   \n",
       "1                     NaN                     NaN                       NaN   \n",
       "2                     NaN                     NaN                       NaN   \n",
       "3                     NaN                     NaN                       NaN   \n",
       "4                     NaN                     NaN                       NaN   \n",
       "\n",
       "   abs_spread_normed_l7_avg  abs_spread_normed_l14_avg  cos_sim  corr_coef  \\\n",
       "0                       NaN                        NaN      NaN        NaN   \n",
       "1                       NaN                        NaN      NaN        NaN   \n",
       "2                       NaN                        NaN      NaN        NaN   \n",
       "3                       NaN                        NaN      NaN        NaN   \n",
       "4                       NaN                        NaN      NaN        NaN   \n",
       "\n",
       "   pnls  num_entries  \n",
       "0   NaN          NaN  \n",
       "1   NaN          NaN  \n",
       "2   NaN          NaN  \n",
       "3   NaN          NaN  \n",
       "4   NaN          NaN  \n",
       "\n",
       "[5 rows x 27 columns]"
      ]
     },
     "execution_count": 2,
     "metadata": {},
     "output_type": "execute_result"
    }
   ],
   "source": [
    "df = pd.read_csv('Data/Training/pair_features1_300_60.csv')\n",
    "df.head()"
   ]
  },
  {
   "cell_type": "code",
   "execution_count": 3,
   "id": "a23a2a17",
   "metadata": {},
   "outputs": [],
   "source": [
    "df['pnls'] = df['pnls']*100.0"
   ]
  },
  {
   "cell_type": "code",
   "execution_count": 4,
   "id": "e4d22c2f",
   "metadata": {},
   "outputs": [
    {
     "data": {
      "text/plain": [
       "1257"
      ]
     },
     "execution_count": 4,
     "metadata": {},
     "output_type": "execute_result"
    }
   ],
   "source": [
    "total_days = df.Date.nunique()\n",
    "total_days"
   ]
  },
  {
   "cell_type": "code",
   "execution_count": 5,
   "id": "5ad854f5",
   "metadata": {},
   "outputs": [
    {
     "name": "stdout",
     "output_type": "stream",
     "text": [
      "(1257000, 27)\n"
     ]
    },
    {
     "data": {
      "text/plain": [
       "Date                              0\n",
       "Ticker_P1                         0\n",
       "Close_P1                          0\n",
       "Ticker_P2                         0\n",
       "Close_P2                          0\n",
       "High_P1                           0\n",
       "High_P2                           0\n",
       "Low_P1                            0\n",
       "Low_P2                            0\n",
       "Volume_P1                         0\n",
       "Volume_P2                         0\n",
       "abs_spread                        0\n",
       "abs_spread_mean              299000\n",
       "abs_spread_std               299000\n",
       "abs_spread_mean_l28           27000\n",
       "abs_spread_std_l28            27000\n",
       "spread_normed                299000\n",
       "abs_spread_normed_max        598000\n",
       "abs_spread_normed_90th       598000\n",
       "abs_spread_normed_75th       598000\n",
       "abs_spread_normed_median     598000\n",
       "abs_spread_normed_l7_avg     305000\n",
       "abs_spread_normed_l14_avg    312000\n",
       "cos_sim                      299000\n",
       "corr_coef                    299000\n",
       "pnls                         360000\n",
       "num_entries                  360000\n",
       "dtype: int64"
      ]
     },
     "execution_count": 5,
     "metadata": {},
     "output_type": "execute_result"
    }
   ],
   "source": [
    "print(df.shape)\n",
    "df.isna().sum()"
   ]
  },
  {
   "cell_type": "code",
   "execution_count": 6,
   "id": "8d594821",
   "metadata": {},
   "outputs": [
    {
     "data": {
      "text/plain": [
       "1257"
      ]
     },
     "execution_count": 6,
     "metadata": {},
     "output_type": "execute_result"
    }
   ],
   "source": [
    "df.Date.nunique()"
   ]
  },
  {
   "cell_type": "code",
   "execution_count": 7,
   "id": "6826a684",
   "metadata": {},
   "outputs": [
    {
     "data": {
      "text/plain": [
       "count   659000.000\n",
       "mean         3.137\n",
       "std          0.610\n",
       "min          1.280\n",
       "25%          2.786\n",
       "50%          3.052\n",
       "75%          3.363\n",
       "max          6.871\n",
       "Name: abs_spread_normed_max, dtype: float64"
      ]
     },
     "execution_count": 7,
     "metadata": {},
     "output_type": "execute_result"
    }
   ],
   "source": [
    "df.abs_spread_normed_max.dropna().describe()"
   ]
  },
  {
   "cell_type": "code",
   "execution_count": 8,
   "id": "4dd722ed",
   "metadata": {},
   "outputs": [],
   "source": [
    "df = df.sort_values('Date')"
   ]
  },
  {
   "cell_type": "code",
   "execution_count": 9,
   "id": "ef9190d7",
   "metadata": {},
   "outputs": [
    {
     "name": "stdout",
     "output_type": "stream",
     "text": [
      "2015-01-02 2019-12-30\n"
     ]
    }
   ],
   "source": [
    "print(df.Date.min(),df.Date.max())"
   ]
  },
  {
   "cell_type": "markdown",
   "id": "6deae486",
   "metadata": {},
   "source": [
    "# Feature Engineering"
   ]
  },
  {
   "cell_type": "code",
   "execution_count": 10,
   "id": "24398048",
   "metadata": {},
   "outputs": [],
   "source": [
    "# TODO:\n",
    "# 1. Add group based features\n",
    "# 2. Stock2Vec based features\n",
    "# 3. Add Technical Indicators\n",
    "# 4. target is a sum of 2 directions with magnitudes (how much it goes up/down per leg)\n",
    "# 5. rolling features\n",
    "# 6. probability of classification model\n",
    "# 7. historical pnl and num_entries, drop leaky num_entries\n",
    "# 8. differencing features."
   ]
  },
  {
   "cell_type": "code",
   "execution_count": 11,
   "id": "a8f16e7d",
   "metadata": {},
   "outputs": [],
   "source": [
    "# 3 dimensions from a product perspective: ticker1, ticker2, and pair\n",
    "# 2 dimensions from a time perspective: short term vs long term\n",
    "# 2 factors of PnL: Volatility, and Reversion to mean\n",
    "\n",
    "# short term ticker 1 volatility: rolling mean, sector rolling mean, rolling std, sector rolling std\n",
    "# short term ticker 2 volatility: rolling mean, sector rolling mean, rolling std, sector rolling std\n",
    "# short term pair level volatility: rolling mean, sector rolling mean, rolling std, sector rolling std, \n",
    "#                                   differences of ticker level features\n",
    "\n",
    "# long term ticker 1 volatility: beta,\n",
    "# long term ticker 2 volatility: beta,\n",
    "# long term pair level volatility: most recent PNL (which is from 120 days ago), average historical PNL\n",
    "#                                  most recent number of entries, historical average vnumber of entries, \n",
    "#                                  diff of beta\n",
    "\n",
    "# short term ticker 1 reversion to mean: technical indicators\n",
    "# short term ticker 2 reversion to mean: technical indicators\n",
    "# short term pair level reversion to mean: technical indicators\n",
    "\n",
    "# long term ticker 1 reversion to mean: technical indicators\n",
    "# long term ticker 2 reversion to mean: technical indicators\n",
    "# long term pair level reversion to mean: technical indicators"
   ]
  },
  {
   "cell_type": "markdown",
   "id": "01f79c68",
   "metadata": {},
   "source": [
    "## Technical Indicators"
   ]
  },
  {
   "cell_type": "code",
   "execution_count": 12,
   "id": "57cd0e61",
   "metadata": {},
   "outputs": [],
   "source": [
    "class feature_engineering(object):\n",
    "    def __init__(self):\n",
    "        super(feature_engineering, self).__init__()\n",
    "\n",
    "    def generate_technical_indicator(self, data_df): \n",
    "        '''\n",
    "        Function to generate additional technical indicators for the stock\n",
    "\n",
    "        Uses the \"statsmodels.tsa.stattools\" (as \"ts\") package to apply \n",
    "        the equations specified in the \"Technical Indicators\" markdown section \n",
    "        to stock closing data.\n",
    "        \n",
    "        Input:\n",
    "        data_df-- Dataframe containing stock finacials data\n",
    "        \n",
    "        Output:\n",
    "        Stock finacials data with added Dataframe of feature obtained from feature engineering\n",
    "        ''' \n",
    "        # 1. Momentum Indicators\n",
    "        # Relative Strength Index\n",
    "        df = data_df\n",
    "        df['rsi'] = ta.momentum.rsi(df['Close'], window=14)\n",
    "        # Kaufman’s Adaptive Moving Average (KAMA)\n",
    "        df['kama'] = ta.momentum.kama(df['Close'],window=14)\n",
    "\n",
    "        # 2. Volume Indicators\n",
    "        # Accumulation/Distribution Index (ADI)\n",
    "        df['adi'] = ta.volume.acc_dist_index(df['High'], df['Low'], df['Close'], df['Volume'])\n",
    "\n",
    "        # Volume-price trend (VPT)\n",
    "        df['vpt'] = ta.volume.volume_price_trend(df['Close'], df['Volume'])\n",
    "\n",
    "        # 3. Volatility Indicators\n",
    "        # Average True Range (ATR)\n",
    "        df['atr'] = ta.volatility.average_true_range(df['High'], df['Low'],df['Close'], window=14)\n",
    "\n",
    "        # Bollinger Bands (BB) N-period simple moving average (MA)\n",
    "        df['bb_ma'] = ta.volatility.bollinger_mavg(df['Close'], window=20)\n",
    "\n",
    "        # 4. Trend Indicators\n",
    "        # Average Directional Movement Index (ADX)\n",
    "        df['adx'] = ta.trend.adx(df['High'], df['Low'], df['Close'], window=14)\n",
    "\n",
    "        # Exponential Moving Average\n",
    "        df['ema'] = ta.trend.ema_indicator(df['Close'], window=14)\n",
    "\n",
    "        # Moving Average Convergence Divergence (MACD)\n",
    "        df['macd'] = ta.trend.macd(df['Close'], window_fast=14, window_slow=30)\n",
    "\n",
    "        # 5. Other Indicators\n",
    "        # Daily Log Return (DLR)\n",
    "        df['dlr'] = ta.others.daily_log_return(df['Close'])\n",
    "\n",
    "        # Daily Returns\n",
    "        df['daily_returns'] = df['Close'].pct_change()\n",
    "\n",
    "        # Moving Averages\n",
    "        averages = [50,200]\n",
    "        for avg in averages:\n",
    "            col_name = str(avg) +' Days Average'\n",
    "            df[col_name] = df['Close'].rolling(window = avg, center = False).mean()\n",
    "\n",
    "        return df"
   ]
  },
  {
   "cell_type": "markdown",
   "id": "3872a90c",
   "metadata": {},
   "source": [
    "### Load SPY"
   ]
  },
  {
   "cell_type": "code",
   "execution_count": null,
   "id": "d39ee0d7",
   "metadata": {},
   "outputs": [],
   "source": [
    "spy_df = pd.read_csv('Data/Training/1999-12-01-2023-12-31.csv')\n",
    "spy_df = spy_df[['Date','Adj Close']]\n",
    "spy_df.columns = ['Date','SPY_Close']\n",
    "df = pd.merge(df,spy_df,on='Date',how='left')"
   ]
  },
  {
   "cell_type": "code",
   "execution_count": null,
   "id": "81e58754",
   "metadata": {},
   "outputs": [],
   "source": [
    "del spy_df\n",
    "gc.collect()"
   ]
  },
  {
   "cell_type": "markdown",
   "id": "b5717d7f",
   "metadata": {},
   "source": [
    "### Beta"
   ]
  },
  {
   "cell_type": "code",
   "execution_count": null,
   "id": "a9c38c69",
   "metadata": {},
   "outputs": [],
   "source": [
    "def compute_beta(rs,df,ticker,market):\n",
    "    rows = df.loc[rs.index]\n",
    "    sec_returns = np.log( df[[ticker,market]] / df[[ticker,market]].shift(1) ) \n",
    "\n",
    "    cov = sec_returns.cov() * 250\n",
    "    cov_with_market = cov.iloc[0,1]\n",
    "    market_var = sec_returns[market].var() * 250\n",
    "    beta = cov_with_market / market_var\n",
    "    return beta"
   ]
  },
  {
   "cell_type": "code",
   "execution_count": null,
   "id": "0d61d325",
   "metadata": {},
   "outputs": [],
   "source": [
    "all_tickers = df['Ticker_P1'].unique().tolist()+df['Ticker_P2'].unique().tolist()\n",
    "len(all_tickers)"
   ]
  },
  {
   "cell_type": "code",
   "execution_count": null,
   "id": "e78c7e55",
   "metadata": {},
   "outputs": [],
   "source": [
    "fe_obj = feature_engineering()\n"
   ]
  },
  {
   "cell_type": "markdown",
   "id": "5f2f8ee4",
   "metadata": {},
   "source": [
    "### Single Ticker Features"
   ]
  },
  {
   "cell_type": "code",
   "execution_count": null,
   "id": "fc1b5a40",
   "metadata": {},
   "outputs": [],
   "source": [
    "df.columns"
   ]
  },
  {
   "cell_type": "code",
   "execution_count": null,
   "id": "cff2ae08",
   "metadata": {},
   "outputs": [],
   "source": [
    "all_tickers_df_list = []\n",
    "for t in tqdm(all_tickers):\n",
    "    single_ticker_df = (df[df['Ticker_P1']==t] if t in df['Ticker_P1'].unique() else df[df['Ticker_P2']==t])\n",
    "    single_ticker_df = single_ticker_df.sort_values('Date')\n",
    "    single_ticker_df = single_ticker_df[['Date','Ticker_P1','Close_P1','High_P1','Low_P1','Volume_P1','SPY_Close']] if t in df['Ticker_P1'].unique() else\\\n",
    "                       single_ticker_df[['Date','Ticker_P2','Close_P2','High_P2','Low_P2','Volume_P2','SPY_Close']]\n",
    "    single_ticker_df.columns = ['Date','Ticker','Close','High','Low','Volume','SPY_Close']\n",
    "    single_ticker_df = single_ticker_df.drop_duplicates()\n",
    "\n",
    "    single_ticker_df['rolling_beta'] = single_ticker_df['Close'].rolling(300).progress_apply(compute_beta, \\\n",
    "                                        args=(single_ticker_df,'Close','SPY_Close'))\n",
    "\n",
    "    single_ticker_df_with_technical_indicators = fe_obj.generate_technical_indicator(single_ticker_df)\n",
    "\n",
    "    all_tickers_df_list.append(single_ticker_df_with_technical_indicators)\n"
   ]
  },
  {
   "cell_type": "code",
   "execution_count": null,
   "id": "3117adab",
   "metadata": {},
   "outputs": [],
   "source": [
    "all_tickers_df = pd.concat(all_tickers_df_list,axis=0,ignore_index=True).reset_index(drop=True)\n",
    "all_tickers_df.shape"
   ]
  },
  {
   "cell_type": "code",
   "execution_count": null,
   "id": "d0d9e8d6",
   "metadata": {},
   "outputs": [],
   "source": [
    "df = df.reset_index(drop=True)"
   ]
  },
  {
   "cell_type": "code",
   "execution_count": null,
   "id": "bd9da8bf",
   "metadata": {},
   "outputs": [],
   "source": [
    "df.tail(2)"
   ]
  },
  {
   "cell_type": "code",
   "execution_count": null,
   "id": "903e1b36",
   "metadata": {},
   "outputs": [],
   "source": [
    "all_tickers_df.tail(2)"
   ]
  },
  {
   "cell_type": "code",
   "execution_count": null,
   "id": "a07549c3",
   "metadata": {},
   "outputs": [],
   "source": [
    "print(df.shape)\n",
    "all_tickers_df_P1_suffix = all_tickers_df.copy()\n",
    "all_tickers_df_P1_suffix.columns = ['Date','Ticker']+[c+'_P1' for c in all_tickers_df.columns if c not in ['Date','Ticker']]\n",
    "all_tickers_df_P2_suffix = all_tickers_df.copy()\n",
    "all_tickers_df_P2_suffix.columns = ['Date','Ticker']+[c+'_P2' for c in all_tickers_df.columns if c not in ['Date','Ticker']]\n",
    "\n",
    "df = pd.merge(df,all_tickers_df_P1_suffix,left_on=['Date','Ticker_P1'],right_on=['Date','Ticker'],\\\n",
    "              how='left',suffixes=['','_P1']).drop_duplicates()\n",
    "print(df.shape)\n",
    "df = pd.merge(df,all_tickers_df_P2_suffix,left_on=['Date','Ticker_P2'],right_on=['Date','Ticker'],\\\n",
    "              how='left',suffixes=['','_P2']).drop_duplicates()\n",
    "print(df.shape)\n",
    "df = df.loc[:,~df.columns.duplicated()]\n",
    "print(df.shape)\n"
   ]
  },
  {
   "cell_type": "code",
   "execution_count": null,
   "id": "c90482bc",
   "metadata": {},
   "outputs": [],
   "source": [
    "del all_tickers_df_P1_suffix, all_tickers_df_P2_suffix\n",
    "gc.collect()"
   ]
  },
  {
   "cell_type": "code",
   "execution_count": null,
   "id": "e4d118f3",
   "metadata": {},
   "outputs": [],
   "source": [
    "df = df.drop('Ticker',axis=1)"
   ]
  },
  {
   "cell_type": "markdown",
   "id": "f38c71d4",
   "metadata": {},
   "source": [
    "## Add group based features"
   ]
  },
  {
   "cell_type": "markdown",
   "id": "98e6ddca",
   "metadata": {},
   "source": [
    "### Merge Sector"
   ]
  },
  {
   "cell_type": "code",
   "execution_count": null,
   "id": "c15c6029",
   "metadata": {},
   "outputs": [],
   "source": [
    "sector_df = pd.read_csv('/home/ec2-user/Capstone/1999-12-01-2023-12-31.csv')\n",
    "sector_df = sector_df.drop_duplicates(subset=['Ticker','GICS Sector'])[['Ticker','GICS Sector']]\n",
    "sector_df"
   ]
  },
  {
   "cell_type": "code",
   "execution_count": null,
   "id": "d4060b42",
   "metadata": {},
   "outputs": [],
   "source": [
    "industry_df = pd.read_csv('/home/ec2-user/Capstone/1999-12-01-2023-12-31.csv')\n",
    "industry_df = industry_df.drop_duplicates(subset=['Ticker','GICS Sub-Industry'])[['Ticker','GICS Sub-Industry']]\n",
    "industry_df"
   ]
  },
  {
   "cell_type": "code",
   "execution_count": null,
   "id": "0381c1f6",
   "metadata": {},
   "outputs": [],
   "source": [
    "df = pd.merge(df,sector_df.rename(columns={'GICS Sector':'Sector_P1'}),how='left',left_on='Ticker_P1',right_on='Ticker').drop('Ticker',axis=1)\n",
    "df = pd.merge(df,sector_df.rename(columns={'GICS Sector':'Sector_P2'}),how='left',left_on='Ticker_P2',right_on='Ticker').drop('Ticker',axis=1)\n",
    "df = pd.merge(df,industry_df.rename(columns={'GICS Sub-Industry':'Industry_P1'}),how='left',left_on='Ticker_P1',right_on='Ticker').drop('Ticker',axis=1)\n",
    "df = pd.merge(df,industry_df.rename(columns={'GICS Sub-Industry':'Industry_P2'}),how='left',left_on='Ticker_P2',right_on='Ticker').drop('Ticker',axis=1)"
   ]
  },
  {
   "cell_type": "code",
   "execution_count": null,
   "id": "e0aa0351",
   "metadata": {},
   "outputs": [],
   "source": [
    "del sector_df\n",
    "del industry_df\n",
    "gc.collect()"
   ]
  },
  {
   "cell_type": "markdown",
   "id": "67972229",
   "metadata": {},
   "source": [
    "### Prev Values"
   ]
  },
  {
   "cell_type": "code",
   "execution_count": null,
   "id": "f499a055",
   "metadata": {},
   "outputs": [],
   "source": [
    "df = df.sort_values('Date')"
   ]
  },
  {
   "cell_type": "code",
   "execution_count": null,
   "id": "bc028956",
   "metadata": {},
   "outputs": [],
   "source": [
    "df['PREV_num_entries'] = df.groupby(['Ticker_P1','Ticker_P2']).num_entries.shift(61)\n",
    "df['PREV_pnls'] = df.groupby(['Ticker_P1','Ticker_P2']).pnls.shift(61)"
   ]
  },
  {
   "cell_type": "markdown",
   "id": "d0b40577",
   "metadata": {},
   "source": [
    "# Trim head and tail days"
   ]
  },
  {
   "cell_type": "code",
   "execution_count": null,
   "id": "d012b0d5",
   "metadata": {},
   "outputs": [],
   "source": [
    "print(df.shape)\n",
    "df = df.drop(df.groupby(['Ticker_P1','Ticker_P2']).head(301).index,axis=0)\n",
    "print(df.shape)\n",
    "df = df.drop(df.groupby(['Ticker_P1','Ticker_P2']).tail(61).index,axis=0)\n",
    "print(df.shape)\n"
   ]
  },
  {
   "cell_type": "markdown",
   "id": "0d18a972",
   "metadata": {},
   "source": [
    "### Sector"
   ]
  },
  {
   "cell_type": "code",
   "execution_count": null,
   "id": "da41a92a",
   "metadata": {},
   "outputs": [],
   "source": [
    "all_sectors = df['Sector_P1'].unique().tolist()+df['Sector_P2'].unique().tolist()\n",
    "len(all_sectors)"
   ]
  },
  {
   "cell_type": "code",
   "execution_count": null,
   "id": "b9c396ea",
   "metadata": {},
   "outputs": [
    {
     "name": "stderr",
     "output_type": "stream",
     "text": [
      "/tmp/ipykernel_15338/2923332618.py:11: FutureWarning: The provided callable <function nanmean at 0x7fa504732cb0> is currently using SeriesGroupBy.mean. In a future version of pandas, the provided callable will be used directly. To keep current behavior pass the string \"mean\" instead.\n",
      "  single_sector_df['sector_rolling_beta_mean'] = single_sector_df.groupby('Date').rolling_beta.transform(np.nanmean)\n",
      "/tmp/ipykernel_15338/2923332618.py:12: FutureWarning: The provided callable <function nanstd at 0x7fa504733880> is currently using SeriesGroupBy.std. In a future version of pandas, the provided callable will be used directly. To keep current behavior pass the string \"std\" instead.\n",
      "  single_sector_df['sector_rolling_beta_std'] = single_sector_df.groupby('Date').rolling_beta.transform(np.nanstd)\n",
      "/tmp/ipykernel_15338/2923332618.py:13: FutureWarning: The provided callable <function nanmean at 0x7fa504732cb0> is currently using SeriesGroupBy.mean. In a future version of pandas, the provided callable will be used directly. To keep current behavior pass the string \"mean\" instead.\n",
      "  single_sector_df['sector_daily_return_mean'] = single_sector_df.groupby('Date').daily_returns.transform(np.nanmean)\n",
      "/tmp/ipykernel_15338/2923332618.py:14: FutureWarning: The provided callable <function nanstd at 0x7fa504733880> is currently using SeriesGroupBy.std. In a future version of pandas, the provided callable will be used directly. To keep current behavior pass the string \"std\" instead.\n",
      "  single_sector_df['sector_daily_return_std'] = single_sector_df.groupby('Date').daily_returns.transform(np.nanstd)\n",
      "/tmp/ipykernel_15338/2923332618.py:11: FutureWarning: The provided callable <function nanmean at 0x7fa504732cb0> is currently using SeriesGroupBy.mean. In a future version of pandas, the provided callable will be used directly. To keep current behavior pass the string \"mean\" instead.\n",
      "  single_sector_df['sector_rolling_beta_mean'] = single_sector_df.groupby('Date').rolling_beta.transform(np.nanmean)\n",
      "/tmp/ipykernel_15338/2923332618.py:12: FutureWarning: The provided callable <function nanstd at 0x7fa504733880> is currently using SeriesGroupBy.std. In a future version of pandas, the provided callable will be used directly. To keep current behavior pass the string \"std\" instead.\n",
      "  single_sector_df['sector_rolling_beta_std'] = single_sector_df.groupby('Date').rolling_beta.transform(np.nanstd)\n",
      "/tmp/ipykernel_15338/2923332618.py:13: FutureWarning: The provided callable <function nanmean at 0x7fa504732cb0> is currently using SeriesGroupBy.mean. In a future version of pandas, the provided callable will be used directly. To keep current behavior pass the string \"mean\" instead.\n",
      "  single_sector_df['sector_daily_return_mean'] = single_sector_df.groupby('Date').daily_returns.transform(np.nanmean)\n",
      "/tmp/ipykernel_15338/2923332618.py:14: FutureWarning: The provided callable <function nanstd at 0x7fa504733880> is currently using SeriesGroupBy.std. In a future version of pandas, the provided callable will be used directly. To keep current behavior pass the string \"std\" instead.\n",
      "  single_sector_df['sector_daily_return_std'] = single_sector_df.groupby('Date').daily_returns.transform(np.nanstd)\n",
      "/tmp/ipykernel_15338/2923332618.py:11: FutureWarning: The provided callable <function nanmean at 0x7fa504732cb0> is currently using SeriesGroupBy.mean. In a future version of pandas, the provided callable will be used directly. To keep current behavior pass the string \"mean\" instead.\n",
      "  single_sector_df['sector_rolling_beta_mean'] = single_sector_df.groupby('Date').rolling_beta.transform(np.nanmean)\n",
      "/tmp/ipykernel_15338/2923332618.py:12: FutureWarning: The provided callable <function nanstd at 0x7fa504733880> is currently using SeriesGroupBy.std. In a future version of pandas, the provided callable will be used directly. To keep current behavior pass the string \"std\" instead.\n",
      "  single_sector_df['sector_rolling_beta_std'] = single_sector_df.groupby('Date').rolling_beta.transform(np.nanstd)\n",
      "/tmp/ipykernel_15338/2923332618.py:13: FutureWarning: The provided callable <function nanmean at 0x7fa504732cb0> is currently using SeriesGroupBy.mean. In a future version of pandas, the provided callable will be used directly. To keep current behavior pass the string \"mean\" instead.\n",
      "  single_sector_df['sector_daily_return_mean'] = single_sector_df.groupby('Date').daily_returns.transform(np.nanmean)\n",
      "/tmp/ipykernel_15338/2923332618.py:14: FutureWarning: The provided callable <function nanstd at 0x7fa504733880> is currently using SeriesGroupBy.std. In a future version of pandas, the provided callable will be used directly. To keep current behavior pass the string \"std\" instead.\n",
      "  single_sector_df['sector_daily_return_std'] = single_sector_df.groupby('Date').daily_returns.transform(np.nanstd)\n",
      "/tmp/ipykernel_15338/2923332618.py:11: FutureWarning: The provided callable <function nanmean at 0x7fa504732cb0> is currently using SeriesGroupBy.mean. In a future version of pandas, the provided callable will be used directly. To keep current behavior pass the string \"mean\" instead.\n",
      "  single_sector_df['sector_rolling_beta_mean'] = single_sector_df.groupby('Date').rolling_beta.transform(np.nanmean)\n",
      "/tmp/ipykernel_15338/2923332618.py:12: FutureWarning: The provided callable <function nanstd at 0x7fa504733880> is currently using SeriesGroupBy.std. In a future version of pandas, the provided callable will be used directly. To keep current behavior pass the string \"std\" instead.\n",
      "  single_sector_df['sector_rolling_beta_std'] = single_sector_df.groupby('Date').rolling_beta.transform(np.nanstd)\n",
      "/tmp/ipykernel_15338/2923332618.py:13: FutureWarning: The provided callable <function nanmean at 0x7fa504732cb0> is currently using SeriesGroupBy.mean. In a future version of pandas, the provided callable will be used directly. To keep current behavior pass the string \"mean\" instead.\n",
      "  single_sector_df['sector_daily_return_mean'] = single_sector_df.groupby('Date').daily_returns.transform(np.nanmean)\n",
      "/tmp/ipykernel_15338/2923332618.py:14: FutureWarning: The provided callable <function nanstd at 0x7fa504733880> is currently using SeriesGroupBy.std. In a future version of pandas, the provided callable will be used directly. To keep current behavior pass the string \"std\" instead.\n",
      "  single_sector_df['sector_daily_return_std'] = single_sector_df.groupby('Date').daily_returns.transform(np.nanstd)\n",
      "/tmp/ipykernel_15338/2923332618.py:11: FutureWarning: The provided callable <function nanmean at 0x7fa504732cb0> is currently using SeriesGroupBy.mean. In a future version of pandas, the provided callable will be used directly. To keep current behavior pass the string \"mean\" instead.\n",
      "  single_sector_df['sector_rolling_beta_mean'] = single_sector_df.groupby('Date').rolling_beta.transform(np.nanmean)\n",
      "/tmp/ipykernel_15338/2923332618.py:12: FutureWarning: The provided callable <function nanstd at 0x7fa504733880> is currently using SeriesGroupBy.std. In a future version of pandas, the provided callable will be used directly. To keep current behavior pass the string \"std\" instead.\n",
      "  single_sector_df['sector_rolling_beta_std'] = single_sector_df.groupby('Date').rolling_beta.transform(np.nanstd)\n",
      "/tmp/ipykernel_15338/2923332618.py:13: FutureWarning: The provided callable <function nanmean at 0x7fa504732cb0> is currently using SeriesGroupBy.mean. In a future version of pandas, the provided callable will be used directly. To keep current behavior pass the string \"mean\" instead.\n",
      "  single_sector_df['sector_daily_return_mean'] = single_sector_df.groupby('Date').daily_returns.transform(np.nanmean)\n",
      "/tmp/ipykernel_15338/2923332618.py:14: FutureWarning: The provided callable <function nanstd at 0x7fa504733880> is currently using SeriesGroupBy.std. In a future version of pandas, the provided callable will be used directly. To keep current behavior pass the string \"std\" instead.\n",
      "  single_sector_df['sector_daily_return_std'] = single_sector_df.groupby('Date').daily_returns.transform(np.nanstd)\n",
      "/tmp/ipykernel_15338/2923332618.py:11: FutureWarning: The provided callable <function nanmean at 0x7fa504732cb0> is currently using SeriesGroupBy.mean. In a future version of pandas, the provided callable will be used directly. To keep current behavior pass the string \"mean\" instead.\n",
      "  single_sector_df['sector_rolling_beta_mean'] = single_sector_df.groupby('Date').rolling_beta.transform(np.nanmean)\n",
      "/tmp/ipykernel_15338/2923332618.py:12: FutureWarning: The provided callable <function nanstd at 0x7fa504733880> is currently using SeriesGroupBy.std. In a future version of pandas, the provided callable will be used directly. To keep current behavior pass the string \"std\" instead.\n",
      "  single_sector_df['sector_rolling_beta_std'] = single_sector_df.groupby('Date').rolling_beta.transform(np.nanstd)\n",
      "/tmp/ipykernel_15338/2923332618.py:13: FutureWarning: The provided callable <function nanmean at 0x7fa504732cb0> is currently using SeriesGroupBy.mean. In a future version of pandas, the provided callable will be used directly. To keep current behavior pass the string \"mean\" instead.\n",
      "  single_sector_df['sector_daily_return_mean'] = single_sector_df.groupby('Date').daily_returns.transform(np.nanmean)\n",
      "/tmp/ipykernel_15338/2923332618.py:14: FutureWarning: The provided callable <function nanstd at 0x7fa504733880> is currently using SeriesGroupBy.std. In a future version of pandas, the provided callable will be used directly. To keep current behavior pass the string \"std\" instead.\n",
      "  single_sector_df['sector_daily_return_std'] = single_sector_df.groupby('Date').daily_returns.transform(np.nanstd)\n",
      "/tmp/ipykernel_15338/2923332618.py:11: FutureWarning: The provided callable <function nanmean at 0x7fa504732cb0> is currently using SeriesGroupBy.mean. In a future version of pandas, the provided callable will be used directly. To keep current behavior pass the string \"mean\" instead.\n",
      "  single_sector_df['sector_rolling_beta_mean'] = single_sector_df.groupby('Date').rolling_beta.transform(np.nanmean)\n",
      "/tmp/ipykernel_15338/2923332618.py:12: FutureWarning: The provided callable <function nanstd at 0x7fa504733880> is currently using SeriesGroupBy.std. In a future version of pandas, the provided callable will be used directly. To keep current behavior pass the string \"std\" instead.\n",
      "  single_sector_df['sector_rolling_beta_std'] = single_sector_df.groupby('Date').rolling_beta.transform(np.nanstd)\n",
      "/tmp/ipykernel_15338/2923332618.py:13: FutureWarning: The provided callable <function nanmean at 0x7fa504732cb0> is currently using SeriesGroupBy.mean. In a future version of pandas, the provided callable will be used directly. To keep current behavior pass the string \"mean\" instead.\n",
      "  single_sector_df['sector_daily_return_mean'] = single_sector_df.groupby('Date').daily_returns.transform(np.nanmean)\n",
      "/tmp/ipykernel_15338/2923332618.py:14: FutureWarning: The provided callable <function nanstd at 0x7fa504733880> is currently using SeriesGroupBy.std. In a future version of pandas, the provided callable will be used directly. To keep current behavior pass the string \"std\" instead.\n",
      "  single_sector_df['sector_daily_return_std'] = single_sector_df.groupby('Date').daily_returns.transform(np.nanstd)\n"
     ]
    },
    {
     "name": "stderr",
     "output_type": "stream",
     "text": [
      "/tmp/ipykernel_15338/2923332618.py:11: FutureWarning: The provided callable <function nanmean at 0x7fa504732cb0> is currently using SeriesGroupBy.mean. In a future version of pandas, the provided callable will be used directly. To keep current behavior pass the string \"mean\" instead.\n",
      "  single_sector_df['sector_rolling_beta_mean'] = single_sector_df.groupby('Date').rolling_beta.transform(np.nanmean)\n",
      "/tmp/ipykernel_15338/2923332618.py:12: FutureWarning: The provided callable <function nanstd at 0x7fa504733880> is currently using SeriesGroupBy.std. In a future version of pandas, the provided callable will be used directly. To keep current behavior pass the string \"std\" instead.\n",
      "  single_sector_df['sector_rolling_beta_std'] = single_sector_df.groupby('Date').rolling_beta.transform(np.nanstd)\n",
      "/tmp/ipykernel_15338/2923332618.py:13: FutureWarning: The provided callable <function nanmean at 0x7fa504732cb0> is currently using SeriesGroupBy.mean. In a future version of pandas, the provided callable will be used directly. To keep current behavior pass the string \"mean\" instead.\n",
      "  single_sector_df['sector_daily_return_mean'] = single_sector_df.groupby('Date').daily_returns.transform(np.nanmean)\n",
      "/tmp/ipykernel_15338/2923332618.py:14: FutureWarning: The provided callable <function nanstd at 0x7fa504733880> is currently using SeriesGroupBy.std. In a future version of pandas, the provided callable will be used directly. To keep current behavior pass the string \"std\" instead.\n",
      "  single_sector_df['sector_daily_return_std'] = single_sector_df.groupby('Date').daily_returns.transform(np.nanstd)\n"
     ]
    }
   ],
   "source": [
    "all_sectors_df_list = []\n",
    "for s in tqdm(all_sectors):\n",
    "    single_sector_df = (df[df['Sector_P1']==s] if s in df['Sector_P1'].unique() else df[df['Sector_P2']==s])\n",
    "    single_sector_df = single_sector_df.sort_values('Date')\n",
    "\n",
    "    single_sector_df = single_sector_df[['Date','Sector_P1','daily_returns_P1','rolling_beta_P1']] if s in df['Sector_P1'].unique() else\\\n",
    "                       single_sector_df[['Date','Sector_P2','daily_returns_P2','rolling_beta_P2']]\n",
    "    single_sector_df.columns = ['Date','Sector','daily_returns','rolling_beta']\n",
    "    single_sector_df = single_sector_df.drop_duplicates()\n",
    "\n",
    "    single_sector_df['sector_rolling_beta_mean'] = single_sector_df.groupby('Date').rolling_beta.transform(np.nanmean)\n",
    "    single_sector_df['sector_rolling_beta_std'] = single_sector_df.groupby('Date').rolling_beta.transform(np.nanstd)\n",
    "    single_sector_df['sector_daily_return_mean'] = single_sector_df.groupby('Date').daily_returns.transform(np.nanmean)\n",
    "    single_sector_df['sector_daily_return_std'] = single_sector_df.groupby('Date').daily_returns.transform(np.nanstd)\n",
    "\n",
    "    all_sectors_df_list.append(single_sector_df)\n"
   ]
  },
  {
   "cell_type": "code",
   "execution_count": null,
   "id": "41b87f7c",
   "metadata": {},
   "outputs": [],
   "source": [
    "all_sectors_df = pd.concat(all_sectors_df_list,axis=0,ignore_index=True).reset_index(drop=True)\n",
    "all_sectors_df.tail(2)"
   ]
  },
  {
   "cell_type": "code",
   "execution_count": null,
   "id": "3b3bebdf",
   "metadata": {},
   "outputs": [],
   "source": [
    "# stop"
   ]
  },
  {
   "cell_type": "code",
   "execution_count": null,
   "id": "4a285c04",
   "metadata": {},
   "outputs": [],
   "source": [
    "# print(df.shape)\n",
    "# all_sectors_df = all_sectors_df.drop(['daily_returns','rolling_beta'],axis=1).drop_duplicates()\n",
    "# all_sectors_df_P1_suffix = all_sectors_df.copy()\n",
    "# all_sectors_df_P1_suffix.columns = ['Date','Sector']+[c+'_P1' for c in all_sectors_df.columns if c not in ['Date','Sector']]\n",
    "# all_sectors_df_P2_suffix = all_sectors_df.copy()\n",
    "# all_sectors_df_P2_suffix.columns = ['Date','Sector']+[c+'_P2' for c in all_sectors_df.columns if c not in ['Date','Sector']]\n",
    "\n",
    "# df = pd.merge(df,all_sectors_df_P1_suffix,left_on=['Date','Sector_P1'],right_on=['Date','Sector'],\\\n",
    "#               how='left',suffixes=['','_P1']).drop_duplicates()\n",
    "# print(df.shape)\n",
    "# df = pd.merge(df,all_sectors_df_P2_suffix,left_on=['Date','Sector_P2'],right_on=['Date','Sector'],\\\n",
    "#               how='left',suffixes=['','_P2']).drop_duplicates()\n",
    "# print(df.shape)\n",
    "# df = df.loc[:,~df.columns.duplicated()]\n",
    "# print(df.shape)"
   ]
  },
  {
   "cell_type": "code",
   "execution_count": null,
   "id": "336ab0ef",
   "metadata": {},
   "outputs": [],
   "source": [
    "# del all_sectors_df_P1_suffix, all_sectors_df_P2_suffix\n",
    "# gc.collect()"
   ]
  },
  {
   "cell_type": "markdown",
   "id": "57d5a459",
   "metadata": {},
   "source": [
    "### Diff Values"
   ]
  },
  {
   "cell_type": "code",
   "execution_count": null,
   "id": "368fbfef",
   "metadata": {},
   "outputs": [],
   "source": [
    "for c in ['Close', 'High', 'Low', 'Volume', 'rolling_beta', 'rsi', 'kama',\n",
    "       'adi', 'vpt', 'atr', 'bb_ma', 'adx', 'ema', 'macd', 'dlr',\n",
    "       'daily_returns', '50 Days Average', '200 Days Average']:\n",
    "# ,\n",
    "#        'sector_rolling_beta_mean', 'sector_rolling_beta_std',\n",
    "#        'sector_daily_return_mean', 'sector_daily_return_std']:\n",
    "    df['DIFF_'+c] = df[c+'_P1'] - df[c+'_P2']"
   ]
  },
  {
   "cell_type": "code",
   "execution_count": null,
   "id": "94416b24",
   "metadata": {},
   "outputs": [],
   "source": [
    "df['DIFF_abs_spread_mean_l28_500'] = df['abs_spread_mean_l28'] - df['abs_spread_mean']"
   ]
  },
  {
   "cell_type": "code",
   "execution_count": null,
   "id": "181fb341",
   "metadata": {},
   "outputs": [],
   "source": [
    "df.isna().sum().sort_values(ascending=False).head(20)"
   ]
  },
  {
   "cell_type": "code",
   "execution_count": null,
   "id": "761ef82b",
   "metadata": {},
   "outputs": [],
   "source": [
    "# stop"
   ]
  },
  {
   "cell_type": "markdown",
   "id": "22c180c4",
   "metadata": {},
   "source": [
    "# Classification to predict PNL_IS_0"
   ]
  },
  {
   "cell_type": "code",
   "execution_count": null,
   "id": "9fcb9335",
   "metadata": {},
   "outputs": [],
   "source": [
    "categorical_features = ['Sector_P1','Sector_P2','Industry_P1','Industry_P2']"
   ]
  },
  {
   "cell_type": "code",
   "execution_count": null,
   "id": "d07cc622",
   "metadata": {},
   "outputs": [],
   "source": [
    "for c in categorical_features:\n",
    "    df[c] = df[c].astype('category')"
   ]
  },
  {
   "cell_type": "code",
   "execution_count": null,
   "id": "aa96468e",
   "metadata": {},
   "outputs": [],
   "source": [
    "df.head()"
   ]
  },
  {
   "cell_type": "markdown",
   "id": "6e192053",
   "metadata": {},
   "source": [
    "## X,y split"
   ]
  },
  {
   "cell_type": "code",
   "execution_count": null,
   "id": "efbfc6f9",
   "metadata": {},
   "outputs": [],
   "source": [
    "df['PNL_IS_0'] = np.where(df.pnls==0,1,0)"
   ]
  },
  {
   "cell_type": "code",
   "execution_count": null,
   "id": "0bf5d2ad",
   "metadata": {},
   "outputs": [],
   "source": [
    "df.columns"
   ]
  },
  {
   "cell_type": "code",
   "execution_count": null,
   "id": "af81008a",
   "metadata": {},
   "outputs": [],
   "source": [
    "features = df.drop(categorical_features+['PNL_IS_0']+\\\n",
    "                   ['abs_spread_normed_max','abs_spread_normed_median',\\\n",
    "                    'abs_spread_normed_75th','abs_spread_normed_90th',\\\n",
    "                    'Date','Ticker_P1','Ticker_P2','SPY_Close_P1','SPY_Close_P2',\\\n",
    "                    'num_entries','pnls']+[c for c in df.columns if '_P1_P1' in c or '_P2_P2' in c],axis=1).columns.tolist()+categorical_features\n",
    "label = 'PNL_IS_0'"
   ]
  },
  {
   "cell_type": "code",
   "execution_count": null,
   "id": "017a4402",
   "metadata": {},
   "outputs": [],
   "source": [
    "print(df.shape)\n",
    "df.replace([np.inf, -np.inf], np.nan, inplace=True)\n",
    "df = df.dropna(subset=features)\n",
    "print(df.shape)\n"
   ]
  },
  {
   "cell_type": "code",
   "execution_count": null,
   "id": "51d046eb",
   "metadata": {},
   "outputs": [],
   "source": [
    "print(df.Date.min(),df.Date.max())"
   ]
  },
  {
   "cell_type": "code",
   "execution_count": null,
   "id": "2a8b0e3c",
   "metadata": {},
   "outputs": [],
   "source": [
    "X = df[features]\n",
    "y = df[label]"
   ]
  },
  {
   "cell_type": "markdown",
   "id": "37edade9",
   "metadata": {},
   "source": [
    "## Train test split"
   ]
  },
  {
   "cell_type": "code",
   "execution_count": null,
   "id": "4cde1143",
   "metadata": {},
   "outputs": [],
   "source": [
    "X_train, X_test, y_train, y_test = train_test_split(X, y, test_size=0.2, random_state=42,shuffle=False)\n",
    "X_val, X_test, y_val, y_test = train_test_split(X_test, y_test, test_size=0.5, random_state=42,shuffle=False)"
   ]
  },
  {
   "cell_type": "code",
   "execution_count": null,
   "id": "bdfc0542",
   "metadata": {},
   "outputs": [],
   "source": [
    "print(df.loc[X_val.index].Date.min(),df.loc[X_val.index].Date.max())"
   ]
  },
  {
   "cell_type": "code",
   "execution_count": null,
   "id": "b10a6909",
   "metadata": {},
   "outputs": [],
   "source": [
    "print(X_train.shape)\n",
    "print(X_val.shape)\n",
    "print(X_test.shape)"
   ]
  },
  {
   "cell_type": "code",
   "execution_count": null,
   "id": "68ecc4e1",
   "metadata": {},
   "outputs": [],
   "source": [
    "y_train.value_counts()"
   ]
  },
  {
   "cell_type": "code",
   "execution_count": null,
   "id": "2b2bc491",
   "metadata": {},
   "outputs": [],
   "source": [
    "y_val.value_counts()"
   ]
  },
  {
   "cell_type": "code",
   "execution_count": null,
   "id": "98f9860e",
   "metadata": {},
   "outputs": [],
   "source": [
    "y_test.value_counts()"
   ]
  },
  {
   "cell_type": "code",
   "execution_count": null,
   "id": "ef8d5e69",
   "metadata": {},
   "outputs": [],
   "source": [
    "undersample = RandomUnderSampler(sampling_strategy='majority')\n",
    "X_train, y_train = undersample.fit_resample(X_train, y_train)"
   ]
  },
  {
   "cell_type": "markdown",
   "id": "b5888e61",
   "metadata": {},
   "source": [
    "## Logistic Regression"
   ]
  },
  {
   "cell_type": "code",
   "execution_count": null,
   "id": "d7b12def",
   "metadata": {},
   "outputs": [],
   "source": [
    "scaler = StandardScaler().fit(X_train.drop(categorical_features,axis=1))\n",
    "scaled_X_train = scaler.transform(X_train.drop(categorical_features,axis=1))\n",
    "scaled_X_val = scaler.transform(X_val.drop(categorical_features,axis=1))\n",
    "scaled_X_test = scaler.transform(X_test.drop(categorical_features,axis=1))"
   ]
  },
  {
   "cell_type": "code",
   "execution_count": null,
   "id": "e7cf5e93",
   "metadata": {},
   "outputs": [],
   "source": [
    "y.value_counts()"
   ]
  },
  {
   "cell_type": "code",
   "execution_count": null,
   "id": "1ef9aee2",
   "metadata": {},
   "outputs": [],
   "source": [
    "clf = LogisticRegression()\n",
    "\n",
    "# Train the model using the training sets\n",
    "clf.fit(scaled_X_train, y_train)\n",
    "\n",
    "# Make predictions using the testing set\n",
    "lr_preds = clf.predict(scaled_X_test)"
   ]
  },
  {
   "cell_type": "code",
   "execution_count": null,
   "id": "928723c3",
   "metadata": {},
   "outputs": [],
   "source": [
    "print(f1_score(y_test, lr_preds, average='weighted'))\n",
    "print(f1_score(y_test, lr_preds, average='micro'))\n",
    "print(f1_score(y_test, lr_preds, average='macro'))"
   ]
  },
  {
   "cell_type": "markdown",
   "id": "53b1c14a",
   "metadata": {},
   "source": [
    "## Confusion Matrix"
   ]
  },
  {
   "cell_type": "code",
   "execution_count": null,
   "id": "a6a91ce1",
   "metadata": {},
   "outputs": [],
   "source": [
    "cm = confusion_matrix(y_test, lr_preds, labels=clf.classes_,normalize='true')"
   ]
  },
  {
   "cell_type": "code",
   "execution_count": null,
   "id": "b06b8566",
   "metadata": {},
   "outputs": [],
   "source": [
    "26955/(26955+5781)"
   ]
  },
  {
   "cell_type": "code",
   "execution_count": null,
   "id": "d01ee49a",
   "metadata": {},
   "outputs": [],
   "source": [
    "63650/(63650+8719)"
   ]
  },
  {
   "cell_type": "code",
   "execution_count": null,
   "id": "4ac79104",
   "metadata": {},
   "outputs": [],
   "source": [
    "disp = ConfusionMatrixDisplay(confusion_matrix=cm, display_labels=clf.classes_)\n",
    "disp.plot()"
   ]
  },
  {
   "cell_type": "markdown",
   "id": "97fe1a97",
   "metadata": {},
   "source": [
    "## Feature Importance"
   ]
  },
  {
   "cell_type": "code",
   "execution_count": null,
   "id": "1b4d16ee",
   "metadata": {},
   "outputs": [],
   "source": [
    "pi = permutation_importance(clf,scaled_X_test,y_test)\n",
    "\n",
    "coefs = pd.DataFrame(\n",
    "    pi['importances_mean'], columns=[\"Coefficients\"], index=X_train.drop(categorical_features,axis=1).columns\n",
    ")\n",
    "\n",
    "coefs.plot(kind=\"barh\", figsize=(20, 7))\n",
    "plt.title(\"Logistic Regression model\")\n",
    "plt.axvline(x=0, color=\".5\")\n",
    "plt.subplots_adjust(left=0.3)"
   ]
  },
  {
   "cell_type": "markdown",
   "id": "589358d0",
   "metadata": {},
   "source": [
    "## GBM"
   ]
  },
  {
   "cell_type": "markdown",
   "id": "a75c8f68",
   "metadata": {},
   "source": [
    "### Optuna"
   ]
  },
  {
   "cell_type": "code",
   "execution_count": null,
   "id": "ea0ad31a",
   "metadata": {},
   "outputs": [],
   "source": [
    "def objective(trial):\n",
    "    params = {\n",
    "        'boosting':'dart',\n",
    "        \"objective\": \"binary\",\n",
    "#         \"metric\": \"accuracy\",\n",
    "        'class_weight':'balanced',\n",
    "        \"n_estimators\": 300,\n",
    "        \"verbosity\": -1,\n",
    "        \"bagging_freq\": 1,\n",
    "        'max_bin':trial.suggest_int('max_bin',64,1024),\n",
    "        'max_depth':trial.suggest_int('max_depth',4,20),\n",
    "\n",
    "        \"learning_rate\": trial.suggest_float(\"learning_rate\", 1e-4, 0.2, log=True),\n",
    "        \"num_leaves\": trial.suggest_int(\"num_leaves\", 2, 3000),\n",
    "        \"subsample\": trial.suggest_float(\"subsample\", 0.05, 1.0),\n",
    "        \"colsample_bytree\": trial.suggest_float(\"colsample_bytree\", 0.05, 1.0),\n",
    "        \"min_data_in_leaf\": trial.suggest_int(\"min_data_in_leaf\", 1, 1000),\n",
    "    }\n",
    "\n",
    "    model = lgb.LGBMClassifier(**params)\n",
    "    model.fit(X_train.drop(categorical_features,axis=1),y_train)\n",
    "    predictions = model.predict(X_val.drop(categorical_features,axis=1))\n",
    "    f1 = f1_score(y_val, predictions, average='weighted')\n",
    "    return -1*f1"
   ]
  },
  {
   "cell_type": "code",
   "execution_count": null,
   "id": "94bcbfe6",
   "metadata": {},
   "outputs": [
    {
     "name": "stderr",
     "output_type": "stream",
     "text": [
      "[I 2024-03-03 21:18:13,730] Trial 25 finished with value: -0.8195501350805173 and parameters: {'max_bin': 729, 'max_depth': 18, 'learning_rate': 0.021641617376577667, 'num_leaves': 283, 'subsample': 0.4460500130870911, 'colsample_bytree': 0.6736485871311326, 'min_data_in_leaf': 141}. Best is trial 11 with value: -0.8606576740229694.\n",
      "[I 2024-03-03 21:19:02,980] Trial 26 finished with value: -0.8284681713003985 and parameters: {'max_bin': 844, 'max_depth': 16, 'learning_rate': 0.0059915157457021894, 'num_leaves': 1048, 'subsample': 0.8147567932697589, 'colsample_bytree': 0.8327509237893491, 'min_data_in_leaf': 379}. Best is trial 11 with value: -0.8606576740229694.\n",
      "[I 2024-03-03 21:19:48,921] Trial 27 finished with value: -0.8342678902122821 and parameters: {'max_bin': 867, 'max_depth': 19, 'learning_rate': 0.002039293739211353, 'num_leaves': 556, 'subsample': 0.6975421047494481, 'colsample_bytree': 0.9120343022974968, 'min_data_in_leaf': 65}. Best is trial 11 with value: -0.8606576740229694.\n",
      "[I 2024-03-03 21:20:25,597] Trial 28 finished with value: -0.8426506542194571 and parameters: {'max_bin': 709, 'max_depth': 14, 'learning_rate': 0.015456112423703067, 'num_leaves': 261, 'subsample': 0.9359383032779854, 'colsample_bytree': 0.9972595001034346, 'min_data_in_leaf': 282}. Best is trial 11 with value: -0.8606576740229694.\n",
      "[I 2024-03-03 21:21:27,789] Trial 29 finished with value: -0.8064823002442449 and parameters: {'max_bin': 1012, 'max_depth': 17, 'learning_rate': 0.027261426946465828, 'num_leaves': 1777, 'subsample': 0.5382027555278116, 'colsample_bytree': 0.5428153024969516, 'min_data_in_leaf': 91}. Best is trial 11 with value: -0.8606576740229694.\n"
     ]
    }
   ],
   "source": [
    "study = optuna.create_study(direction='minimize')\n",
    "study.optimize(objective, n_trials=30)"
   ]
  },
  {
   "cell_type": "code",
   "execution_count": null,
   "id": "72252d00",
   "metadata": {},
   "outputs": [],
   "source": [
    "print('Best hyperparameters:', study.best_params)\n",
    "print('Best F1:', study.best_value*(-1))"
   ]
  },
  {
   "cell_type": "code",
   "execution_count": null,
   "id": "f1974e05",
   "metadata": {},
   "outputs": [],
   "source": [
    "hyper_params = study.best_params"
   ]
  },
  {
   "cell_type": "code",
   "execution_count": null,
   "id": "b427a6a1",
   "metadata": {},
   "outputs": [],
   "source": [
    "y_train.value_counts()/len(y_train)"
   ]
  },
  {
   "cell_type": "code",
   "execution_count": null,
   "id": "b60a2c02",
   "metadata": {},
   "outputs": [],
   "source": [
    "gbm = lgb.LGBMClassifier(**hyper_params)\n",
    "callbacks = [\\\n",
    "#             lgb.early_stopping(stopping_rounds=10, verbose=1,min_delta=0.001,first_metric_only=False), \n",
    "             lgb.log_evaluation(period=1)]\n",
    "\n",
    "gbm.fit(X_train.drop(categorical_features,axis=1),y_train, \n",
    "        eval_set=[(X_val.drop(categorical_features,axis=1), y_val)],\n",
    "        eval_metric='accuracy',\n",
    "        callbacks=callbacks,\n",
    "        feature_name = [f for f in features if f not in categorical_features],\n",
    "#         categorical_feature=categorical_features\n",
    "       )"
   ]
  },
  {
   "cell_type": "code",
   "execution_count": null,
   "id": "639932dc",
   "metadata": {},
   "outputs": [],
   "source": [
    "gbm_preds = gbm.predict(X_test.drop(categorical_features,axis=1))"
   ]
  },
  {
   "cell_type": "code",
   "execution_count": null,
   "id": "d36a99ff",
   "metadata": {},
   "outputs": [],
   "source": [
    "print(f1_score(y_test, gbm_preds, average='weighted'))\n",
    "print(f1_score(y_test, gbm_preds, average='micro'))\n",
    "print(f1_score(y_test, gbm_preds, average='macro'))"
   ]
  },
  {
   "cell_type": "code",
   "execution_count": null,
   "id": "df5d82f5",
   "metadata": {},
   "outputs": [],
   "source": [
    "cm = confusion_matrix(y_test, gbm_preds, labels=gbm.classes_,normalize='true')\n",
    "disp = ConfusionMatrixDisplay(confusion_matrix=cm, display_labels=gbm.classes_)\n",
    "disp.plot()"
   ]
  },
  {
   "cell_type": "code",
   "execution_count": null,
   "id": "8d522602",
   "metadata": {},
   "outputs": [],
   "source": [
    "importances = gbm.feature_importances_\n",
    "importances = pd.Series(importances,index=X_train.drop(categorical_features,axis=1).columns).sort_values(ascending=True)"
   ]
  },
  {
   "cell_type": "code",
   "execution_count": null,
   "id": "f68914d0",
   "metadata": {},
   "outputs": [],
   "source": [
    "fig,ax=plt.subplots(figsize=[16,14])\n",
    "importances.plot.barh(ax=ax)\n",
    "ax.set_title(\"Feature Importance by Gain\")\n",
    "fig.tight_layout()"
   ]
  },
  {
   "cell_type": "code",
   "execution_count": null,
   "id": "c950e3ca",
   "metadata": {},
   "outputs": [],
   "source": [
    "# STOP"
   ]
  },
  {
   "cell_type": "markdown",
   "id": "a1ef8c12",
   "metadata": {},
   "source": [
    "# Regression"
   ]
  },
  {
   "cell_type": "markdown",
   "id": "8fec1708",
   "metadata": {},
   "source": [
    "## Remove 0s?"
   ]
  },
  {
   "cell_type": "code",
   "execution_count": null,
   "id": "3de42f15",
   "metadata": {},
   "outputs": [],
   "source": [
    "df[df.pnls==0].shape[0]*100.0/df.shape[0]"
   ]
  },
  {
   "cell_type": "code",
   "execution_count": null,
   "id": "d7725fc9",
   "metadata": {},
   "outputs": [],
   "source": [
    "df = df[df.pnls!=0]\n"
   ]
  },
  {
   "cell_type": "markdown",
   "id": "099dd587",
   "metadata": {},
   "source": [
    "## X,y split"
   ]
  },
  {
   "cell_type": "code",
   "execution_count": null,
   "id": "aa8a8cc3",
   "metadata": {},
   "outputs": [],
   "source": []
  },
  {
   "cell_type": "code",
   "execution_count": null,
   "id": "a8f0be7b",
   "metadata": {
    "scrolled": true
   },
   "outputs": [],
   "source": [
    "features = df.drop(categorical_features+['PNL_IS_0']+\\\n",
    "                   ['abs_spread_normed_max','abs_spread_normed_median',\\\n",
    "                    'abs_spread_normed_75th','abs_spread_normed_90th',\\\n",
    "                    'Date','Ticker_P1','Ticker_P2','SPY_Close_P1','SPY_Close_P2',\\\n",
    "                    'num_entries','pnls']+[c for c in df.columns if '_P1_P1' in c or '_P2_P2' in c],axis=1).columns.tolist()+categorical_features\n",
    "label = 'pnls'\n",
    "\n"
   ]
  },
  {
   "cell_type": "code",
   "execution_count": null,
   "id": "8c8dd691",
   "metadata": {},
   "outputs": [],
   "source": [
    "X = df[features]\n",
    "y = df[label]"
   ]
  },
  {
   "cell_type": "code",
   "execution_count": null,
   "id": "d0283e3c",
   "metadata": {},
   "outputs": [],
   "source": [
    "# y = pd.Series(np.where(y.abs()<=3.5,0,np.where(y<0,-1,1)))"
   ]
  },
  {
   "cell_type": "code",
   "execution_count": null,
   "id": "f9194e1f",
   "metadata": {},
   "outputs": [],
   "source": [
    "# y.value_counts()"
   ]
  },
  {
   "cell_type": "markdown",
   "id": "05d17a49",
   "metadata": {},
   "source": [
    "## Train test split"
   ]
  },
  {
   "cell_type": "code",
   "execution_count": null,
   "id": "a4f17a64",
   "metadata": {},
   "outputs": [],
   "source": [
    "y.abs().describe(np.arange(0,1,0.1))"
   ]
  },
  {
   "cell_type": "code",
   "execution_count": null,
   "id": "090fd4ef",
   "metadata": {},
   "outputs": [],
   "source": [
    "X_train, X_test, y_train, y_test = train_test_split(X, y, test_size=0.2, random_state=42,shuffle=False)\n",
    "X_val, X_test, y_val, y_test = train_test_split(X_test, y_test, test_size=0.5, random_state=42,shuffle=False)"
   ]
  },
  {
   "cell_type": "markdown",
   "id": "fdec538a",
   "metadata": {},
   "source": [
    "### Filter Outliers?"
   ]
  },
  {
   "cell_type": "code",
   "execution_count": null,
   "id": "8c1af05b",
   "metadata": {},
   "outputs": [],
   "source": [
    "u = np.mean(y_train)\n",
    "s = np.std(y_train)\n",
    "y_train = y_train[(y_train>(u-2*s)) & (y_train<(u+2*s))]\n",
    "X_train = X_train.loc[y_train.index]"
   ]
  },
  {
   "cell_type": "code",
   "execution_count": null,
   "id": "19ed2515",
   "metadata": {},
   "outputs": [],
   "source": [
    "# undersample = RandomUnderSampler(sampling_strategy='not minority')\n",
    "# X_train, y_train = undersample.fit_resample(X_train, y_train)"
   ]
  },
  {
   "cell_type": "code",
   "execution_count": null,
   "id": "cf79404f",
   "metadata": {},
   "outputs": [],
   "source": [
    "y_train.value_counts()"
   ]
  },
  {
   "cell_type": "code",
   "execution_count": null,
   "id": "dbce4838",
   "metadata": {},
   "outputs": [],
   "source": [
    "y_val.value_counts()"
   ]
  },
  {
   "cell_type": "code",
   "execution_count": null,
   "id": "27ed399b",
   "metadata": {},
   "outputs": [],
   "source": [
    "y_test.value_counts()"
   ]
  },
  {
   "cell_type": "markdown",
   "id": "b268f6ea",
   "metadata": {},
   "source": [
    "## GBM"
   ]
  },
  {
   "cell_type": "code",
   "execution_count": null,
   "id": "a2cd2f0a",
   "metadata": {},
   "outputs": [],
   "source": [
    "# def objective(trial):\n",
    "#     params = {\n",
    "#         'boosting':'dart',\n",
    "#         \"objective\": \"multiclass\",\n",
    "# #         'device':'gpu',\n",
    "# #         \"metric\": \"accuracy\",\n",
    "# #         'class_weight':'balanced',\n",
    "#         \"n_estimators\": 300,\n",
    "#         \"verbosity\": -1,\n",
    "#         \"bagging_freq\": 1,\n",
    "#         'max_bin':trial.suggest_int('max_bin',64,1024),\n",
    "#         'max_depth':trial.suggest_int('max_depth',4,20),\n",
    "\n",
    "#         \"learning_rate\": trial.suggest_float(\"learning_rate\", 1e-4, 0.2, log=True),\n",
    "#         \"num_leaves\": trial.suggest_int(\"num_leaves\", 2, 3000),\n",
    "#         \"subsample\": trial.suggest_float(\"subsample\", 0.05, 1.0),\n",
    "#         \"colsample_bytree\": trial.suggest_float(\"colsample_bytree\", 0.05, 1.0),\n",
    "#         \"min_data_in_leaf\": trial.suggest_int(\"min_data_in_leaf\", 1, 1000),\n",
    "#     }\n",
    "\n",
    "#     model = lgb.LGBMClassifier(**params)\n",
    "#     model.fit(X_train.drop(categorical_features,axis=1),y_train)\n",
    "#     predictions = model.predict(X_val.drop(categorical_features,axis=1))\n",
    "#     f1 = f1_score(y_val, predictions, average='weighted')\n",
    "#     return -1*f1"
   ]
  },
  {
   "cell_type": "code",
   "execution_count": null,
   "id": "7218c89c",
   "metadata": {},
   "outputs": [],
   "source": [
    "def objective(trial):\n",
    "    params = {\n",
    "        'boosting':'dart',\n",
    "        \"objective\": \"mse\",\n",
    "#         'device':'gpu',\n",
    "        \"metric\": 'l1',\n",
    "#         'class_weight':'balanced',\n",
    "        \"n_estimators\": 300,\n",
    "        \"verbosity\": -1,\n",
    "#         \"bagging_freq\": 1,\n",
    "        'max_bin':trial.suggest_int('max_bin',64,1024),\n",
    "        'max_depth':trial.suggest_int('max_depth',4,20),\n",
    "\n",
    "        \"learning_rate\": trial.suggest_float(\"learning_rate\", 1e-4, 0.2, log=True),\n",
    "        \"num_leaves\": trial.suggest_int(\"num_leaves\", 2, 3000),\n",
    "        \"subsample\": trial.suggest_float(\"subsample\", 0.05, 1.0),\n",
    "        \"colsample_bytree\": trial.suggest_float(\"colsample_bytree\", 0.05, 1.0),\n",
    "        \"min_data_in_leaf\": trial.suggest_int(\"min_data_in_leaf\", 1, 1000),\n",
    "    }\n",
    "\n",
    "    model = lgb.LGBMRegressor(**params)\n",
    "    model.fit(X_train.drop(categorical_features,axis=1),y_train)\n",
    "    predictions = model.predict(X_val.drop(categorical_features,axis=1))\n",
    "    mae = np.mean(abs(predictions-y_val))\n",
    "    return mae"
   ]
  },
  {
   "cell_type": "code",
   "execution_count": null,
   "id": "eb8b4a64",
   "metadata": {},
   "outputs": [
    {
     "name": "stderr",
     "output_type": "stream",
     "text": [
      "[I 2024-03-03 22:10:17,316] Trial 25 finished with value: 6.254038706061309 and parameters: {'max_bin': 856, 'max_depth': 20, 'learning_rate': 0.0017983520771641898, 'num_leaves': 2515, 'subsample': 0.0963404654388285, 'colsample_bytree': 0.7315778511957854, 'min_data_in_leaf': 844}. Best is trial 22 with value: 6.235844617210744.\n",
      "[I 2024-03-03 22:10:44,187] Trial 26 finished with value: 6.247266226983216 and parameters: {'max_bin': 937, 'max_depth': 18, 'learning_rate': 0.002877907387860668, 'num_leaves': 2452, 'subsample': 0.19278348024397493, 'colsample_bytree': 0.8192817006894326, 'min_data_in_leaf': 754}. Best is trial 22 with value: 6.235844617210744.\n",
      "[I 2024-03-03 22:11:05,723] Trial 27 finished with value: 6.259893888777172 and parameters: {'max_bin': 821, 'max_depth': 14, 'learning_rate': 0.0004452406319608048, 'num_leaves': 2763, 'subsample': 0.33534766997813614, 'colsample_bytree': 0.9044552509903099, 'min_data_in_leaf': 897}. Best is trial 22 with value: 6.235844617210744.\n",
      "[I 2024-03-03 22:11:30,771] Trial 28 finished with value: 6.265278575584456 and parameters: {'max_bin': 736, 'max_depth': 17, 'learning_rate': 0.0010774912614967176, 'num_leaves': 2985, 'subsample': 0.16108295779120566, 'colsample_bytree': 0.8155544495457347, 'min_data_in_leaf': 767}. Best is trial 22 with value: 6.235844617210744.\n",
      "[I 2024-03-03 22:11:59,406] Trial 29 finished with value: 6.271840199282357 and parameters: {'max_bin': 613, 'max_depth': 19, 'learning_rate': 0.009892044552633223, 'num_leaves': 2425, 'subsample': 0.2395731184832468, 'colsample_bytree': 0.48793365987281084, 'min_data_in_leaf': 888}. Best is trial 22 with value: 6.235844617210744.\n"
     ]
    }
   ],
   "source": [
    "study = optuna.create_study(direction='minimize')\n",
    "study.optimize(objective, n_trials=30)"
   ]
  },
  {
   "cell_type": "code",
   "execution_count": null,
   "id": "c4ee2869",
   "metadata": {},
   "outputs": [],
   "source": [
    "df[[c for c in features if c not in categorical_features]+[label]].corr()['pnls'].abs().sort_values(ascending=False).head(10)"
   ]
  },
  {
   "cell_type": "code",
   "execution_count": null,
   "id": "ff16ab62",
   "metadata": {},
   "outputs": [],
   "source": [
    "print('Best hyperparameters:', study.best_params)\n",
    "print('Best mae:', study.best_value)"
   ]
  },
  {
   "cell_type": "code",
   "execution_count": null,
   "id": "27c3d165",
   "metadata": {},
   "outputs": [],
   "source": [
    "hyper_params = study.best_params"
   ]
  },
  {
   "cell_type": "code",
   "execution_count": null,
   "id": "7f5b323e",
   "metadata": {},
   "outputs": [],
   "source": [
    "# hyper_params = {\n",
    "# #     'task': 'train',\n",
    "#     'boosting_type': 'gbdt',\n",
    "#     'objective': 'mae',\n",
    "#     'metric': ['l1'],\n",
    "# #     'eval_metric': ['l1'],\n",
    "# #     'early_stopping_rounds':10,\n",
    "#     'learning_rate': 0.2,\n",
    "# #     'feature_fraction': 0.9,\n",
    "# #     'bagging_fraction': 0.7,\n",
    "# #     'bagging_freq': 10,\n",
    "#     'verbosity': 1,\n",
    "# #     \"max_depth\": 8,\n",
    "# #     \"num_leaves\": 128,  \n",
    "# #     \"max_bin\": 512,\n",
    "#     \"num_iterations\": 200,\n",
    "#     \"importance_type\":\"gain\"\n",
    "    \n",
    "# #     \"silent\":False\n",
    "# }"
   ]
  },
  {
   "cell_type": "code",
   "execution_count": null,
   "id": "5c822aec",
   "metadata": {},
   "outputs": [
    {
     "data": {
      "text/html": [
       "<style>#sk-container-id-4 {\n",
       "  /* Definition of color scheme common for light and dark mode */\n",
       "  --sklearn-color-text: black;\n",
       "  --sklearn-color-line: gray;\n",
       "  /* Definition of color scheme for unfitted estimators */\n",
       "  --sklearn-color-unfitted-level-0: #fff5e6;\n",
       "  --sklearn-color-unfitted-level-1: #f6e4d2;\n",
       "  --sklearn-color-unfitted-level-2: #ffe0b3;\n",
       "  --sklearn-color-unfitted-level-3: chocolate;\n",
       "  /* Definition of color scheme for fitted estimators */\n",
       "  --sklearn-color-fitted-level-0: #f0f8ff;\n",
       "  --sklearn-color-fitted-level-1: #d4ebff;\n",
       "  --sklearn-color-fitted-level-2: #b3dbfd;\n",
       "  --sklearn-color-fitted-level-3: cornflowerblue;\n",
       "\n",
       "  /* Specific color for light theme */\n",
       "  --sklearn-color-text-on-default-background: var(--sg-text-color, var(--theme-code-foreground, var(--jp-content-font-color1, black)));\n",
       "  --sklearn-color-background: var(--sg-background-color, var(--theme-background, var(--jp-layout-color0, white)));\n",
       "  --sklearn-color-border-box: var(--sg-text-color, var(--theme-code-foreground, var(--jp-content-font-color1, black)));\n",
       "  --sklearn-color-icon: #696969;\n",
       "\n",
       "  @media (prefers-color-scheme: dark) {\n",
       "    /* Redefinition of color scheme for dark theme */\n",
       "    --sklearn-color-text-on-default-background: var(--sg-text-color, var(--theme-code-foreground, var(--jp-content-font-color1, white)));\n",
       "    --sklearn-color-background: var(--sg-background-color, var(--theme-background, var(--jp-layout-color0, #111)));\n",
       "    --sklearn-color-border-box: var(--sg-text-color, var(--theme-code-foreground, var(--jp-content-font-color1, white)));\n",
       "    --sklearn-color-icon: #878787;\n",
       "  }\n",
       "}\n",
       "\n",
       "#sk-container-id-4 {\n",
       "  color: var(--sklearn-color-text);\n",
       "}\n",
       "\n",
       "#sk-container-id-4 pre {\n",
       "  padding: 0;\n",
       "}\n",
       "\n",
       "#sk-container-id-4 input.sk-hidden--visually {\n",
       "  border: 0;\n",
       "  clip: rect(1px 1px 1px 1px);\n",
       "  clip: rect(1px, 1px, 1px, 1px);\n",
       "  height: 1px;\n",
       "  margin: -1px;\n",
       "  overflow: hidden;\n",
       "  padding: 0;\n",
       "  position: absolute;\n",
       "  width: 1px;\n",
       "}\n",
       "\n",
       "#sk-container-id-4 div.sk-dashed-wrapped {\n",
       "  border: 1px dashed var(--sklearn-color-line);\n",
       "  margin: 0 0.4em 0.5em 0.4em;\n",
       "  box-sizing: border-box;\n",
       "  padding-bottom: 0.4em;\n",
       "  background-color: var(--sklearn-color-background);\n",
       "}\n",
       "\n",
       "#sk-container-id-4 div.sk-container {\n",
       "  /* jupyter's `normalize.less` sets `[hidden] { display: none; }`\n",
       "     but bootstrap.min.css set `[hidden] { display: none !important; }`\n",
       "     so we also need the `!important` here to be able to override the\n",
       "     default hidden behavior on the sphinx rendered scikit-learn.org.\n",
       "     See: https://github.com/scikit-learn/scikit-learn/issues/21755 */\n",
       "  display: inline-block !important;\n",
       "  position: relative;\n",
       "}\n",
       "\n",
       "#sk-container-id-4 div.sk-text-repr-fallback {\n",
       "  display: none;\n",
       "}\n",
       "\n",
       "div.sk-parallel-item,\n",
       "div.sk-serial,\n",
       "div.sk-item {\n",
       "  /* draw centered vertical line to link estimators */\n",
       "  background-image: linear-gradient(var(--sklearn-color-text-on-default-background), var(--sklearn-color-text-on-default-background));\n",
       "  background-size: 2px 100%;\n",
       "  background-repeat: no-repeat;\n",
       "  background-position: center center;\n",
       "}\n",
       "\n",
       "/* Parallel-specific style estimator block */\n",
       "\n",
       "#sk-container-id-4 div.sk-parallel-item::after {\n",
       "  content: \"\";\n",
       "  width: 100%;\n",
       "  border-bottom: 2px solid var(--sklearn-color-text-on-default-background);\n",
       "  flex-grow: 1;\n",
       "}\n",
       "\n",
       "#sk-container-id-4 div.sk-parallel {\n",
       "  display: flex;\n",
       "  align-items: stretch;\n",
       "  justify-content: center;\n",
       "  background-color: var(--sklearn-color-background);\n",
       "  position: relative;\n",
       "}\n",
       "\n",
       "#sk-container-id-4 div.sk-parallel-item {\n",
       "  display: flex;\n",
       "  flex-direction: column;\n",
       "}\n",
       "\n",
       "#sk-container-id-4 div.sk-parallel-item:first-child::after {\n",
       "  align-self: flex-end;\n",
       "  width: 50%;\n",
       "}\n",
       "\n",
       "#sk-container-id-4 div.sk-parallel-item:last-child::after {\n",
       "  align-self: flex-start;\n",
       "  width: 50%;\n",
       "}\n",
       "\n",
       "#sk-container-id-4 div.sk-parallel-item:only-child::after {\n",
       "  width: 0;\n",
       "}\n",
       "\n",
       "/* Serial-specific style estimator block */\n",
       "\n",
       "#sk-container-id-4 div.sk-serial {\n",
       "  display: flex;\n",
       "  flex-direction: column;\n",
       "  align-items: center;\n",
       "  background-color: var(--sklearn-color-background);\n",
       "  padding-right: 1em;\n",
       "  padding-left: 1em;\n",
       "}\n",
       "\n",
       "\n",
       "/* Toggleable style: style used for estimator/Pipeline/ColumnTransformer box that is\n",
       "clickable and can be expanded/collapsed.\n",
       "- Pipeline and ColumnTransformer use this feature and define the default style\n",
       "- Estimators will overwrite some part of the style using the `sk-estimator` class\n",
       "*/\n",
       "\n",
       "/* Pipeline and ColumnTransformer style (default) */\n",
       "\n",
       "#sk-container-id-4 div.sk-toggleable {\n",
       "  /* Default theme specific background. It is overwritten whether we have a\n",
       "  specific estimator or a Pipeline/ColumnTransformer */\n",
       "  background-color: var(--sklearn-color-background);\n",
       "}\n",
       "\n",
       "/* Toggleable label */\n",
       "#sk-container-id-4 label.sk-toggleable__label {\n",
       "  cursor: pointer;\n",
       "  display: block;\n",
       "  width: 100%;\n",
       "  margin-bottom: 0;\n",
       "  padding: 0.5em;\n",
       "  box-sizing: border-box;\n",
       "  text-align: center;\n",
       "}\n",
       "\n",
       "#sk-container-id-4 label.sk-toggleable__label-arrow:before {\n",
       "  /* Arrow on the left of the label */\n",
       "  content: \"▸\";\n",
       "  float: left;\n",
       "  margin-right: 0.25em;\n",
       "  color: var(--sklearn-color-icon);\n",
       "}\n",
       "\n",
       "#sk-container-id-4 label.sk-toggleable__label-arrow:hover:before {\n",
       "  color: var(--sklearn-color-text);\n",
       "}\n",
       "\n",
       "/* Toggleable content - dropdown */\n",
       "\n",
       "#sk-container-id-4 div.sk-toggleable__content {\n",
       "  max-height: 0;\n",
       "  max-width: 0;\n",
       "  overflow: hidden;\n",
       "  text-align: left;\n",
       "  /* unfitted */\n",
       "  background-color: var(--sklearn-color-unfitted-level-0);\n",
       "}\n",
       "\n",
       "#sk-container-id-4 div.sk-toggleable__content.fitted {\n",
       "  /* fitted */\n",
       "  background-color: var(--sklearn-color-fitted-level-0);\n",
       "}\n",
       "\n",
       "#sk-container-id-4 div.sk-toggleable__content pre {\n",
       "  margin: 0.2em;\n",
       "  border-radius: 0.25em;\n",
       "  color: var(--sklearn-color-text);\n",
       "  /* unfitted */\n",
       "  background-color: var(--sklearn-color-unfitted-level-0);\n",
       "}\n",
       "\n",
       "#sk-container-id-4 div.sk-toggleable__content.fitted pre {\n",
       "  /* unfitted */\n",
       "  background-color: var(--sklearn-color-fitted-level-0);\n",
       "}\n",
       "\n",
       "#sk-container-id-4 input.sk-toggleable__control:checked~div.sk-toggleable__content {\n",
       "  /* Expand drop-down */\n",
       "  max-height: 200px;\n",
       "  max-width: 100%;\n",
       "  overflow: auto;\n",
       "}\n",
       "\n",
       "#sk-container-id-4 input.sk-toggleable__control:checked~label.sk-toggleable__label-arrow:before {\n",
       "  content: \"▾\";\n",
       "}\n",
       "\n",
       "/* Pipeline/ColumnTransformer-specific style */\n",
       "\n",
       "#sk-container-id-4 div.sk-label input.sk-toggleable__control:checked~label.sk-toggleable__label {\n",
       "  color: var(--sklearn-color-text);\n",
       "  background-color: var(--sklearn-color-unfitted-level-2);\n",
       "}\n",
       "\n",
       "#sk-container-id-4 div.sk-label.fitted input.sk-toggleable__control:checked~label.sk-toggleable__label {\n",
       "  background-color: var(--sklearn-color-fitted-level-2);\n",
       "}\n",
       "\n",
       "/* Estimator-specific style */\n",
       "\n",
       "/* Colorize estimator box */\n",
       "#sk-container-id-4 div.sk-estimator input.sk-toggleable__control:checked~label.sk-toggleable__label {\n",
       "  /* unfitted */\n",
       "  background-color: var(--sklearn-color-unfitted-level-2);\n",
       "}\n",
       "\n",
       "#sk-container-id-4 div.sk-estimator.fitted input.sk-toggleable__control:checked~label.sk-toggleable__label {\n",
       "  /* fitted */\n",
       "  background-color: var(--sklearn-color-fitted-level-2);\n",
       "}\n",
       "\n",
       "#sk-container-id-4 div.sk-label label.sk-toggleable__label,\n",
       "#sk-container-id-4 div.sk-label label {\n",
       "  /* The background is the default theme color */\n",
       "  color: var(--sklearn-color-text-on-default-background);\n",
       "}\n",
       "\n",
       "/* On hover, darken the color of the background */\n",
       "#sk-container-id-4 div.sk-label:hover label.sk-toggleable__label {\n",
       "  color: var(--sklearn-color-text);\n",
       "  background-color: var(--sklearn-color-unfitted-level-2);\n",
       "}\n",
       "\n",
       "/* Label box, darken color on hover, fitted */\n",
       "#sk-container-id-4 div.sk-label.fitted:hover label.sk-toggleable__label.fitted {\n",
       "  color: var(--sklearn-color-text);\n",
       "  background-color: var(--sklearn-color-fitted-level-2);\n",
       "}\n",
       "\n",
       "/* Estimator label */\n",
       "\n",
       "#sk-container-id-4 div.sk-label label {\n",
       "  font-family: monospace;\n",
       "  font-weight: bold;\n",
       "  display: inline-block;\n",
       "  line-height: 1.2em;\n",
       "}\n",
       "\n",
       "#sk-container-id-4 div.sk-label-container {\n",
       "  text-align: center;\n",
       "}\n",
       "\n",
       "/* Estimator-specific */\n",
       "#sk-container-id-4 div.sk-estimator {\n",
       "  font-family: monospace;\n",
       "  border: 1px dotted var(--sklearn-color-border-box);\n",
       "  border-radius: 0.25em;\n",
       "  box-sizing: border-box;\n",
       "  margin-bottom: 0.5em;\n",
       "  /* unfitted */\n",
       "  background-color: var(--sklearn-color-unfitted-level-0);\n",
       "}\n",
       "\n",
       "#sk-container-id-4 div.sk-estimator.fitted {\n",
       "  /* fitted */\n",
       "  background-color: var(--sklearn-color-fitted-level-0);\n",
       "}\n",
       "\n",
       "/* on hover */\n",
       "#sk-container-id-4 div.sk-estimator:hover {\n",
       "  /* unfitted */\n",
       "  background-color: var(--sklearn-color-unfitted-level-2);\n",
       "}\n",
       "\n",
       "#sk-container-id-4 div.sk-estimator.fitted:hover {\n",
       "  /* fitted */\n",
       "  background-color: var(--sklearn-color-fitted-level-2);\n",
       "}\n",
       "\n",
       "/* Specification for estimator info (e.g. \"i\" and \"?\") */\n",
       "\n",
       "/* Common style for \"i\" and \"?\" */\n",
       "\n",
       ".sk-estimator-doc-link,\n",
       "a:link.sk-estimator-doc-link,\n",
       "a:visited.sk-estimator-doc-link {\n",
       "  float: right;\n",
       "  font-size: smaller;\n",
       "  line-height: 1em;\n",
       "  font-family: monospace;\n",
       "  background-color: var(--sklearn-color-background);\n",
       "  border-radius: 1em;\n",
       "  height: 1em;\n",
       "  width: 1em;\n",
       "  text-decoration: none !important;\n",
       "  margin-left: 1ex;\n",
       "  /* unfitted */\n",
       "  border: var(--sklearn-color-unfitted-level-1) 1pt solid;\n",
       "  color: var(--sklearn-color-unfitted-level-1);\n",
       "}\n",
       "\n",
       ".sk-estimator-doc-link.fitted,\n",
       "a:link.sk-estimator-doc-link.fitted,\n",
       "a:visited.sk-estimator-doc-link.fitted {\n",
       "  /* fitted */\n",
       "  border: var(--sklearn-color-fitted-level-1) 1pt solid;\n",
       "  color: var(--sklearn-color-fitted-level-1);\n",
       "}\n",
       "\n",
       "/* On hover */\n",
       "div.sk-estimator:hover .sk-estimator-doc-link:hover,\n",
       ".sk-estimator-doc-link:hover,\n",
       "div.sk-label-container:hover .sk-estimator-doc-link:hover,\n",
       ".sk-estimator-doc-link:hover {\n",
       "  /* unfitted */\n",
       "  background-color: var(--sklearn-color-unfitted-level-3);\n",
       "  color: var(--sklearn-color-background);\n",
       "  text-decoration: none;\n",
       "}\n",
       "\n",
       "div.sk-estimator.fitted:hover .sk-estimator-doc-link.fitted:hover,\n",
       ".sk-estimator-doc-link.fitted:hover,\n",
       "div.sk-label-container:hover .sk-estimator-doc-link.fitted:hover,\n",
       ".sk-estimator-doc-link.fitted:hover {\n",
       "  /* fitted */\n",
       "  background-color: var(--sklearn-color-fitted-level-3);\n",
       "  color: var(--sklearn-color-background);\n",
       "  text-decoration: none;\n",
       "}\n",
       "\n",
       "/* Span, style for the box shown on hovering the info icon */\n",
       ".sk-estimator-doc-link span {\n",
       "  display: none;\n",
       "  z-index: 9999;\n",
       "  position: relative;\n",
       "  font-weight: normal;\n",
       "  right: .2ex;\n",
       "  padding: .5ex;\n",
       "  margin: .5ex;\n",
       "  width: min-content;\n",
       "  min-width: 20ex;\n",
       "  max-width: 50ex;\n",
       "  color: var(--sklearn-color-text);\n",
       "  box-shadow: 2pt 2pt 4pt #999;\n",
       "  /* unfitted */\n",
       "  background: var(--sklearn-color-unfitted-level-0);\n",
       "  border: .5pt solid var(--sklearn-color-unfitted-level-3);\n",
       "}\n",
       "\n",
       ".sk-estimator-doc-link.fitted span {\n",
       "  /* fitted */\n",
       "  background: var(--sklearn-color-fitted-level-0);\n",
       "  border: var(--sklearn-color-fitted-level-3);\n",
       "}\n",
       "\n",
       ".sk-estimator-doc-link:hover span {\n",
       "  display: block;\n",
       "}\n",
       "\n",
       "/* \"?\"-specific style due to the `<a>` HTML tag */\n",
       "\n",
       "#sk-container-id-4 a.estimator_doc_link {\n",
       "  float: right;\n",
       "  font-size: 1rem;\n",
       "  line-height: 1em;\n",
       "  font-family: monospace;\n",
       "  background-color: var(--sklearn-color-background);\n",
       "  border-radius: 1rem;\n",
       "  height: 1rem;\n",
       "  width: 1rem;\n",
       "  text-decoration: none;\n",
       "  /* unfitted */\n",
       "  color: var(--sklearn-color-unfitted-level-1);\n",
       "  border: var(--sklearn-color-unfitted-level-1) 1pt solid;\n",
       "}\n",
       "\n",
       "#sk-container-id-4 a.estimator_doc_link.fitted {\n",
       "  /* fitted */\n",
       "  border: var(--sklearn-color-fitted-level-1) 1pt solid;\n",
       "  color: var(--sklearn-color-fitted-level-1);\n",
       "}\n",
       "\n",
       "/* On hover */\n",
       "#sk-container-id-4 a.estimator_doc_link:hover {\n",
       "  /* unfitted */\n",
       "  background-color: var(--sklearn-color-unfitted-level-3);\n",
       "  color: var(--sklearn-color-background);\n",
       "  text-decoration: none;\n",
       "}\n",
       "\n",
       "#sk-container-id-4 a.estimator_doc_link.fitted:hover {\n",
       "  /* fitted */\n",
       "  background-color: var(--sklearn-color-fitted-level-3);\n",
       "}\n",
       "</style><div id=\"sk-container-id-4\" class=\"sk-top-container\"><div class=\"sk-text-repr-fallback\"><pre>LGBMRegressor(colsample_bytree=0.8382900050884465,\n",
       "              learning_rate=0.004078824488390198, max_bin=832, max_depth=20,\n",
       "              min_data_in_leaf=779, num_leaves=2925,\n",
       "              subsample=0.26787073027608993)</pre><b>In a Jupyter environment, please rerun this cell to show the HTML representation or trust the notebook. <br />On GitHub, the HTML representation is unable to render, please try loading this page with nbviewer.org.</b></div><div class=\"sk-container\" hidden><div class=\"sk-item\"><div class=\"sk-estimator fitted sk-toggleable\"><input class=\"sk-toggleable__control sk-hidden--visually\" id=\"sk-estimator-id-4\" type=\"checkbox\" checked><label for=\"sk-estimator-id-4\" class=\"sk-toggleable__label fitted sk-toggleable__label-arrow fitted\">&nbsp;LGBMRegressor<span class=\"sk-estimator-doc-link fitted\">i<span>Fitted</span></span></label><div class=\"sk-toggleable__content fitted\"><pre>LGBMRegressor(colsample_bytree=0.8382900050884465,\n",
       "              learning_rate=0.004078824488390198, max_bin=832, max_depth=20,\n",
       "              min_data_in_leaf=779, num_leaves=2925,\n",
       "              subsample=0.26787073027608993)</pre></div> </div></div></div></div>"
      ],
      "text/plain": [
       "LGBMRegressor(colsample_bytree=0.8382900050884465,\n",
       "              learning_rate=0.004078824488390198, max_bin=832, max_depth=20,\n",
       "              min_data_in_leaf=779, num_leaves=2925,\n",
       "              subsample=0.26787073027608993)"
      ]
     },
     "execution_count": 177,
     "metadata": {},
     "output_type": "execute_result"
    }
   ],
   "source": [
    "gbm = lgb.LGBMRegressor(**hyper_params)\n",
    "# gbm = lgb.LGBMClassifier(**hyper_params)\n",
    "\n",
    "callbacks = [\\\n",
    "#             lgb.early_stopping(stopping_rounds=10, verbose=1,min_delta=0.001,first_metric_only=False), \n",
    "             lgb.log_evaluation(period=1)]\n",
    "\n",
    "gbm.fit(X_train.drop(categorical_features,axis=1),y_train, \n",
    "        eval_set=[(X_val.drop(categorical_features,axis=1), y_val )],\n",
    "#         eval_metric='l1',\n",
    "        callbacks=callbacks,\n",
    "#         feature_name = features,\n",
    "#         categorical_feature=categorical_features\n",
    "       )"
   ]
  },
  {
   "cell_type": "code",
   "execution_count": null,
   "id": "d92b6f94",
   "metadata": {},
   "outputs": [],
   "source": [
    "# preds = gbm.predict(X_test.drop(categorical_features,axis=1))\n",
    "# cm = confusion_matrix(y_test, preds, labels=gbm.classes_,normalize='true')\n",
    "# cm"
   ]
  },
  {
   "cell_type": "code",
   "execution_count": null,
   "id": "70dd121b",
   "metadata": {},
   "outputs": [],
   "source": [
    "# disp = ConfusionMatrixDisplay(confusion_matrix=cm, display_labels=gbm.classes_)\n",
    "# disp.plot()"
   ]
  },
  {
   "cell_type": "markdown",
   "id": "549a3994",
   "metadata": {},
   "source": [
    "### GBM feature importance"
   ]
  },
  {
   "cell_type": "code",
   "execution_count": null,
   "id": "d473d0f7",
   "metadata": {},
   "outputs": [],
   "source": [
    "importances = gbm.feature_importances_\n",
    "importances = pd.Series(importances,index=X_train.drop(categorical_features,axis=1).columns).sort_values(ascending=True)"
   ]
  },
  {
   "cell_type": "code",
   "execution_count": null,
   "id": "926489a6",
   "metadata": {},
   "outputs": [],
   "source": [
    "fig,ax=plt.subplots(figsize=[16,14])\n",
    "importances.plot.barh(ax=ax)\n",
    "ax.set_title(\"Feature Importance by Gain\")\n",
    "fig.tight_layout()"
   ]
  },
  {
   "cell_type": "code",
   "execution_count": null,
   "id": "736769d6",
   "metadata": {},
   "outputs": [
    {
     "name": "stdout",
     "output_type": "stream",
     "text": [
      "[LightGBM] [Warning] min_data_in_leaf is set=779, min_child_samples=20 will be ignored. Current value: min_data_in_leaf=779\n",
      "[LightGBM] [Warning] min_data_in_leaf is set=779, min_child_samples=20 will be ignored. Current value: min_data_in_leaf=779\n",
      "[LightGBM] [Warning] min_data_in_leaf is set=779, min_child_samples=20 will be ignored. Current value: min_data_in_leaf=779\n",
      "[LightGBM] [Warning] min_data_in_leaf is set=779, min_child_samples=20 will be ignored. Current value: min_data_in_leaf=779\n",
      "[LightGBM] [Warning] min_data_in_leaf is set=779, min_child_samples=20 will be ignored. Current value: min_data_in_leaf=779\n",
      "[LightGBM] [Warning] min_data_in_leaf is set=779, min_child_samples=20 will be ignored. Current value: min_data_in_leaf=779\n",
      "[LightGBM] [Warning] min_data_in_leaf is set=779, min_child_samples=20 will be ignored. Current value: min_data_in_leaf=779\n",
      "[LightGBM] [Warning] min_data_in_leaf is set=779, min_child_samples=20 will be ignored. Current value: min_data_in_leaf=779\n",
      "[LightGBM] [Warning] min_data_in_leaf is set=779, min_child_samples=20 will be ignored. Current value: min_data_in_leaf=779\n",
      "[LightGBM] [Warning] min_data_in_leaf is set=779, min_child_samples=20 will be ignored. Current value: min_data_in_leaf=779\n",
      "[LightGBM] [Warning] min_data_in_leaf is set=779, min_child_samples=20 will be ignored. Current value: min_data_in_leaf=779\n",
      "[LightGBM] [Warning] min_data_in_leaf is set=779, min_child_samples=20 will be ignored. Current value: min_data_in_leaf=779\n",
      "[LightGBM] [Warning] min_data_in_leaf is set=779, min_child_samples=20 will be ignored. Current value: min_data_in_leaf=779\n",
      "[LightGBM] [Warning] min_data_in_leaf is set=779, min_child_samples=20 will be ignored. Current value: min_data_in_leaf=779\n",
      "[LightGBM] [Warning] min_data_in_leaf is set=779, min_child_samples=20 will be ignored. Current value: min_data_in_leaf=779\n",
      "[LightGBM] [Warning] min_data_in_leaf is set=779, min_child_samples=20 will be ignored. Current value: min_data_in_leaf=779\n",
      "[LightGBM] [Warning] min_data_in_leaf is set=779, min_child_samples=20 will be ignored. Current value: min_data_in_leaf=779\n",
      "[LightGBM] [Warning] min_data_in_leaf is set=779, min_child_samples=20 will be ignored. Current value: min_data_in_leaf=779\n",
      "[LightGBM] [Warning] min_data_in_leaf is set=779, min_child_samples=20 will be ignored. Current value: min_data_in_leaf=779\n",
      "[LightGBM] [Warning] min_data_in_leaf is set=779, min_child_samples=20 will be ignored. Current value: min_data_in_leaf=779\n",
      "[LightGBM] [Warning] min_data_in_leaf is set=779, min_child_samples=20 will be ignored. Current value: min_data_in_leaf=779\n",
      "[LightGBM] [Warning] min_data_in_leaf is set=779, min_child_samples=20 will be ignored. Current value: min_data_in_leaf=779\n",
      "[LightGBM] [Warning] min_data_in_leaf is set=779, min_child_samples=20 will be ignored. Current value: min_data_in_leaf=779\n",
      "[LightGBM] [Warning] min_data_in_leaf is set=779, min_child_samples=20 will be ignored. Current value: min_data_in_leaf=779\n",
      "[LightGBM] [Warning] min_data_in_leaf is set=779, min_child_samples=20 will be ignored. Current value: min_data_in_leaf=779\n",
      "[LightGBM] [Warning] min_data_in_leaf is set=779, min_child_samples=20 will be ignored. Current value: min_data_in_leaf=779\n",
      "[LightGBM] [Warning] min_data_in_leaf is set=779, min_child_samples=20 will be ignored. Current value: min_data_in_leaf=779\n",
      "[LightGBM] [Warning] min_data_in_leaf is set=779, min_child_samples=20 will be ignored. Current value: min_data_in_leaf=779\n",
      "[LightGBM] [Warning] min_data_in_leaf is set=779, min_child_samples=20 will be ignored. Current value: min_data_in_leaf=779\n",
      "[LightGBM] [Warning] min_data_in_leaf is set=779, min_child_samples=20 will be ignored. Current value: min_data_in_leaf=779\n",
      "[LightGBM] [Warning] min_data_in_leaf is set=779, min_child_samples=20 will be ignored. Current value: min_data_in_leaf=779\n",
      "[LightGBM] [Warning] min_data_in_leaf is set=779, min_child_samples=20 will be ignored. Current value: min_data_in_leaf=779\n",
      "[LightGBM] [Warning] min_data_in_leaf is set=779, min_child_samples=20 will be ignored. Current value: min_data_in_leaf=779\n",
      "[LightGBM] [Warning] min_data_in_leaf is set=779, min_child_samples=20 will be ignored. Current value: min_data_in_leaf=779\n",
      "[LightGBM] [Warning] min_data_in_leaf is set=779, min_child_samples=20 will be ignored. Current value: min_data_in_leaf=779\n",
      "[LightGBM] [Warning] min_data_in_leaf is set=779, min_child_samples=20 will be ignored. Current value: min_data_in_leaf=779\n",
      "[LightGBM] [Warning] min_data_in_leaf is set=779, min_child_samples=20 will be ignored. Current value: min_data_in_leaf=779\n",
      "[LightGBM] [Warning] min_data_in_leaf is set=779, min_child_samples=20 will be ignored. Current value: min_data_in_leaf=779\n",
      "[LightGBM] [Warning] min_data_in_leaf is set=779, min_child_samples=20 will be ignored. Current value: min_data_in_leaf=779\n",
      "[LightGBM] [Warning] min_data_in_leaf is set=779, min_child_samples=20 will be ignored. Current value: min_data_in_leaf=779\n",
      "[LightGBM] [Warning] min_data_in_leaf is set=779, min_child_samples=20 will be ignored. Current value: min_data_in_leaf=779\n",
      "[LightGBM] [Warning] min_data_in_leaf is set=779, min_child_samples=20 will be ignored. Current value: min_data_in_leaf=779\n",
      "[LightGBM] [Warning] min_data_in_leaf is set=779, min_child_samples=20 will be ignored. Current value: min_data_in_leaf=779\n",
      "[LightGBM] [Warning] min_data_in_leaf is set=779, min_child_samples=20 will be ignored. Current value: min_data_in_leaf=779\n",
      "[LightGBM] [Warning] min_data_in_leaf is set=779, min_child_samples=20 will be ignored. Current value: min_data_in_leaf=779\n",
      "[LightGBM] [Warning] min_data_in_leaf is set=779, min_child_samples=20 will be ignored. Current value: min_data_in_leaf=779\n",
      "[LightGBM] [Warning] min_data_in_leaf is set=779, min_child_samples=20 will be ignored. Current value: min_data_in_leaf=779\n",
      "[LightGBM] [Warning] min_data_in_leaf is set=779, min_child_samples=20 will be ignored. Current value: min_data_in_leaf=779\n",
      "[LightGBM] [Warning] min_data_in_leaf is set=779, min_child_samples=20 will be ignored. Current value: min_data_in_leaf=779\n",
      "[LightGBM] [Warning] min_data_in_leaf is set=779, min_child_samples=20 will be ignored. Current value: min_data_in_leaf=779\n",
      "[LightGBM] [Warning] min_data_in_leaf is set=779, min_child_samples=20 will be ignored. Current value: min_data_in_leaf=779\n",
      "[LightGBM] [Warning] min_data_in_leaf is set=779, min_child_samples=20 will be ignored. Current value: min_data_in_leaf=779\n",
      "[LightGBM] [Warning] min_data_in_leaf is set=779, min_child_samples=20 will be ignored. Current value: min_data_in_leaf=779\n",
      "[LightGBM] [Warning] min_data_in_leaf is set=779, min_child_samples=20 will be ignored. Current value: min_data_in_leaf=779\n",
      "[LightGBM] [Warning] min_data_in_leaf is set=779, min_child_samples=20 will be ignored. Current value: min_data_in_leaf=779\n",
      "[LightGBM] [Warning] min_data_in_leaf is set=779, min_child_samples=20 will be ignored. Current value: min_data_in_leaf=779\n",
      "[LightGBM] [Warning] min_data_in_leaf is set=779, min_child_samples=20 will be ignored. Current value: min_data_in_leaf=779\n",
      "[LightGBM] [Warning] min_data_in_leaf is set=779, min_child_samples=20 will be ignored. Current value: min_data_in_leaf=779\n",
      "[LightGBM] [Warning] min_data_in_leaf is set=779, min_child_samples=20 will be ignored. Current value: min_data_in_leaf=779\n",
      "[LightGBM] [Warning] min_data_in_leaf is set=779, min_child_samples=20 will be ignored. Current value: min_data_in_leaf=779\n",
      "[LightGBM] [Warning] min_data_in_leaf is set=779, min_child_samples=20 will be ignored. Current value: min_data_in_leaf=779\n",
      "[LightGBM] [Warning] min_data_in_leaf is set=779, min_child_samples=20 will be ignored. Current value: min_data_in_leaf=779\n",
      "[LightGBM] [Warning] min_data_in_leaf is set=779, min_child_samples=20 will be ignored. Current value: min_data_in_leaf=779\n",
      "[LightGBM] [Warning] min_data_in_leaf is set=779, min_child_samples=20 will be ignored. Current value: min_data_in_leaf=779\n",
      "[LightGBM] [Warning] min_data_in_leaf is set=779, min_child_samples=20 will be ignored. Current value: min_data_in_leaf=779\n",
      "[LightGBM] [Warning] min_data_in_leaf is set=779, min_child_samples=20 will be ignored. Current value: min_data_in_leaf=779\n",
      "[LightGBM] [Warning] min_data_in_leaf is set=779, min_child_samples=20 will be ignored. Current value: min_data_in_leaf=779\n",
      "[LightGBM] [Warning] min_data_in_leaf is set=779, min_child_samples=20 will be ignored. Current value: min_data_in_leaf=779\n",
      "[LightGBM] [Warning] min_data_in_leaf is set=779, min_child_samples=20 will be ignored. Current value: min_data_in_leaf=779\n",
      "[LightGBM] [Warning] min_data_in_leaf is set=779, min_child_samples=20 will be ignored. Current value: min_data_in_leaf=779\n"
     ]
    },
    {
     "name": "stdout",
     "output_type": "stream",
     "text": [
      "[LightGBM] [Warning] min_data_in_leaf is set=779, min_child_samples=20 will be ignored. Current value: min_data_in_leaf=779\n",
      "[LightGBM] [Warning] min_data_in_leaf is set=779, min_child_samples=20 will be ignored. Current value: min_data_in_leaf=779\n",
      "[LightGBM] [Warning] min_data_in_leaf is set=779, min_child_samples=20 will be ignored. Current value: min_data_in_leaf=779\n",
      "[LightGBM] [Warning] min_data_in_leaf is set=779, min_child_samples=20 will be ignored. Current value: min_data_in_leaf=779\n",
      "[LightGBM] [Warning] min_data_in_leaf is set=779, min_child_samples=20 will be ignored. Current value: min_data_in_leaf=779\n",
      "[LightGBM] [Warning] min_data_in_leaf is set=779, min_child_samples=20 will be ignored. Current value: min_data_in_leaf=779\n",
      "[LightGBM] [Warning] min_data_in_leaf is set=779, min_child_samples=20 will be ignored. Current value: min_data_in_leaf=779\n",
      "[LightGBM] [Warning] min_data_in_leaf is set=779, min_child_samples=20 will be ignored. Current value: min_data_in_leaf=779\n",
      "[LightGBM] [Warning] min_data_in_leaf is set=779, min_child_samples=20 will be ignored. Current value: min_data_in_leaf=779\n",
      "[LightGBM] [Warning] min_data_in_leaf is set=779, min_child_samples=20 will be ignored. Current value: min_data_in_leaf=779\n",
      "[LightGBM] [Warning] min_data_in_leaf is set=779, min_child_samples=20 will be ignored. Current value: min_data_in_leaf=779\n",
      "[LightGBM] [Warning] min_data_in_leaf is set=779, min_child_samples=20 will be ignored. Current value: min_data_in_leaf=779\n",
      "[LightGBM] [Warning] min_data_in_leaf is set=779, min_child_samples=20 will be ignored. Current value: min_data_in_leaf=779\n",
      "[LightGBM] [Warning] min_data_in_leaf is set=779, min_child_samples=20 will be ignored. Current value: min_data_in_leaf=779\n",
      "[LightGBM] [Warning] min_data_in_leaf is set=779, min_child_samples=20 will be ignored. Current value: min_data_in_leaf=779\n",
      "[LightGBM] [Warning] min_data_in_leaf is set=779, min_child_samples=20 will be ignored. Current value: min_data_in_leaf=779\n",
      "[LightGBM] [Warning] min_data_in_leaf is set=779, min_child_samples=20 will be ignored. Current value: min_data_in_leaf=779\n",
      "[LightGBM] [Warning] min_data_in_leaf is set=779, min_child_samples=20 will be ignored. Current value: min_data_in_leaf=779\n",
      "[LightGBM] [Warning] min_data_in_leaf is set=779, min_child_samples=20 will be ignored. Current value: min_data_in_leaf=779\n",
      "[LightGBM] [Warning] min_data_in_leaf is set=779, min_child_samples=20 will be ignored. Current value: min_data_in_leaf=779\n",
      "[LightGBM] [Warning] min_data_in_leaf is set=779, min_child_samples=20 will be ignored. Current value: min_data_in_leaf=779\n",
      "[LightGBM] [Warning] min_data_in_leaf is set=779, min_child_samples=20 will be ignored. Current value: min_data_in_leaf=779\n",
      "[LightGBM] [Warning] min_data_in_leaf is set=779, min_child_samples=20 will be ignored. Current value: min_data_in_leaf=779\n",
      "[LightGBM] [Warning] min_data_in_leaf is set=779, min_child_samples=20 will be ignored. Current value: min_data_in_leaf=779\n",
      "[LightGBM] [Warning] min_data_in_leaf is set=779, min_child_samples=20 will be ignored. Current value: min_data_in_leaf=779\n",
      "[LightGBM] [Warning] min_data_in_leaf is set=779, min_child_samples=20 will be ignored. Current value: min_data_in_leaf=779\n",
      "[LightGBM] [Warning] min_data_in_leaf is set=779, min_child_samples=20 will be ignored. Current value: min_data_in_leaf=779\n",
      "[LightGBM] [Warning] min_data_in_leaf is set=779, min_child_samples=20 will be ignored. Current value: min_data_in_leaf=779\n",
      "[LightGBM] [Warning] min_data_in_leaf is set=779, min_child_samples=20 will be ignored. Current value: min_data_in_leaf=779\n",
      "[LightGBM] [Warning] min_data_in_leaf is set=779, min_child_samples=20 will be ignored. Current value: min_data_in_leaf=779\n",
      "[LightGBM] [Warning] min_data_in_leaf is set=779, min_child_samples=20 will be ignored. Current value: min_data_in_leaf=779\n",
      "[LightGBM] [Warning] min_data_in_leaf is set=779, min_child_samples=20 will be ignored. Current value: min_data_in_leaf=779\n",
      "[LightGBM] [Warning] min_data_in_leaf is set=779, min_child_samples=20 will be ignored. Current value: min_data_in_leaf=779\n",
      "[LightGBM] [Warning] min_data_in_leaf is set=779, min_child_samples=20 will be ignored. Current value: min_data_in_leaf=779\n",
      "[LightGBM] [Warning] min_data_in_leaf is set=779, min_child_samples=20 will be ignored. Current value: min_data_in_leaf=779\n",
      "[LightGBM] [Warning] min_data_in_leaf is set=779, min_child_samples=20 will be ignored. Current value: min_data_in_leaf=779\n",
      "[LightGBM] [Warning] min_data_in_leaf is set=779, min_child_samples=20 will be ignored. Current value: min_data_in_leaf=779\n",
      "[LightGBM] [Warning] min_data_in_leaf is set=779, min_child_samples=20 will be ignored. Current value: min_data_in_leaf=779\n",
      "[LightGBM] [Warning] min_data_in_leaf is set=779, min_child_samples=20 will be ignored. Current value: min_data_in_leaf=779\n",
      "[LightGBM] [Warning] min_data_in_leaf is set=779, min_child_samples=20 will be ignored. Current value: min_data_in_leaf=779\n",
      "[LightGBM] [Warning] min_data_in_leaf is set=779, min_child_samples=20 will be ignored. Current value: min_data_in_leaf=779\n",
      "[LightGBM] [Warning] min_data_in_leaf is set=779, min_child_samples=20 will be ignored. Current value: min_data_in_leaf=779\n",
      "[LightGBM] [Warning] min_data_in_leaf is set=779, min_child_samples=20 will be ignored. Current value: min_data_in_leaf=779\n",
      "[LightGBM] [Warning] min_data_in_leaf is set=779, min_child_samples=20 will be ignored. Current value: min_data_in_leaf=779\n",
      "[LightGBM] [Warning] min_data_in_leaf is set=779, min_child_samples=20 will be ignored. Current value: min_data_in_leaf=779\n",
      "[LightGBM] [Warning] min_data_in_leaf is set=779, min_child_samples=20 will be ignored. Current value: min_data_in_leaf=779\n",
      "[LightGBM] [Warning] min_data_in_leaf is set=779, min_child_samples=20 will be ignored. Current value: min_data_in_leaf=779\n",
      "[LightGBM] [Warning] min_data_in_leaf is set=779, min_child_samples=20 will be ignored. Current value: min_data_in_leaf=779\n",
      "[LightGBM] [Warning] min_data_in_leaf is set=779, min_child_samples=20 will be ignored. Current value: min_data_in_leaf=779\n",
      "[LightGBM] [Warning] min_data_in_leaf is set=779, min_child_samples=20 will be ignored. Current value: min_data_in_leaf=779\n",
      "[LightGBM] [Warning] min_data_in_leaf is set=779, min_child_samples=20 will be ignored. Current value: min_data_in_leaf=779\n",
      "[LightGBM] [Warning] min_data_in_leaf is set=779, min_child_samples=20 will be ignored. Current value: min_data_in_leaf=779\n",
      "[LightGBM] [Warning] min_data_in_leaf is set=779, min_child_samples=20 will be ignored. Current value: min_data_in_leaf=779\n",
      "[LightGBM] [Warning] min_data_in_leaf is set=779, min_child_samples=20 will be ignored. Current value: min_data_in_leaf=779\n",
      "[LightGBM] [Warning] min_data_in_leaf is set=779, min_child_samples=20 will be ignored. Current value: min_data_in_leaf=779\n",
      "[LightGBM] [Warning] min_data_in_leaf is set=779, min_child_samples=20 will be ignored. Current value: min_data_in_leaf=779\n",
      "[LightGBM] [Warning] min_data_in_leaf is set=779, min_child_samples=20 will be ignored. Current value: min_data_in_leaf=779\n",
      "[LightGBM] [Warning] min_data_in_leaf is set=779, min_child_samples=20 will be ignored. Current value: min_data_in_leaf=779\n",
      "[LightGBM] [Warning] min_data_in_leaf is set=779, min_child_samples=20 will be ignored. Current value: min_data_in_leaf=779\n",
      "[LightGBM] [Warning] min_data_in_leaf is set=779, min_child_samples=20 will be ignored. Current value: min_data_in_leaf=779\n",
      "[LightGBM] [Warning] min_data_in_leaf is set=779, min_child_samples=20 will be ignored. Current value: min_data_in_leaf=779\n",
      "[LightGBM] [Warning] min_data_in_leaf is set=779, min_child_samples=20 will be ignored. Current value: min_data_in_leaf=779\n",
      "[LightGBM] [Warning] min_data_in_leaf is set=779, min_child_samples=20 will be ignored. Current value: min_data_in_leaf=779\n",
      "[LightGBM] [Warning] min_data_in_leaf is set=779, min_child_samples=20 will be ignored. Current value: min_data_in_leaf=779\n",
      "[LightGBM] [Warning] min_data_in_leaf is set=779, min_child_samples=20 will be ignored. Current value: min_data_in_leaf=779\n",
      "[LightGBM] [Warning] min_data_in_leaf is set=779, min_child_samples=20 will be ignored. Current value: min_data_in_leaf=779\n",
      "[LightGBM] [Warning] min_data_in_leaf is set=779, min_child_samples=20 will be ignored. Current value: min_data_in_leaf=779\n",
      "[LightGBM] [Warning] min_data_in_leaf is set=779, min_child_samples=20 will be ignored. Current value: min_data_in_leaf=779\n"
     ]
    },
    {
     "name": "stdout",
     "output_type": "stream",
     "text": [
      "[LightGBM] [Warning] min_data_in_leaf is set=779, min_child_samples=20 will be ignored. Current value: min_data_in_leaf=779\n",
      "[LightGBM] [Warning] min_data_in_leaf is set=779, min_child_samples=20 will be ignored. Current value: min_data_in_leaf=779\n",
      "[LightGBM] [Warning] min_data_in_leaf is set=779, min_child_samples=20 will be ignored. Current value: min_data_in_leaf=779\n",
      "[LightGBM] [Warning] min_data_in_leaf is set=779, min_child_samples=20 will be ignored. Current value: min_data_in_leaf=779\n",
      "[LightGBM] [Warning] min_data_in_leaf is set=779, min_child_samples=20 will be ignored. Current value: min_data_in_leaf=779\n",
      "[LightGBM] [Warning] min_data_in_leaf is set=779, min_child_samples=20 will be ignored. Current value: min_data_in_leaf=779\n",
      "[LightGBM] [Warning] min_data_in_leaf is set=779, min_child_samples=20 will be ignored. Current value: min_data_in_leaf=779\n",
      "[LightGBM] [Warning] min_data_in_leaf is set=779, min_child_samples=20 will be ignored. Current value: min_data_in_leaf=779\n",
      "[LightGBM] [Warning] min_data_in_leaf is set=779, min_child_samples=20 will be ignored. Current value: min_data_in_leaf=779\n",
      "[LightGBM] [Warning] min_data_in_leaf is set=779, min_child_samples=20 will be ignored. Current value: min_data_in_leaf=779\n",
      "[LightGBM] [Warning] min_data_in_leaf is set=779, min_child_samples=20 will be ignored. Current value: min_data_in_leaf=779\n",
      "[LightGBM] [Warning] min_data_in_leaf is set=779, min_child_samples=20 will be ignored. Current value: min_data_in_leaf=779\n",
      "[LightGBM] [Warning] min_data_in_leaf is set=779, min_child_samples=20 will be ignored. Current value: min_data_in_leaf=779\n",
      "[LightGBM] [Warning] min_data_in_leaf is set=779, min_child_samples=20 will be ignored. Current value: min_data_in_leaf=779\n",
      "[LightGBM] [Warning] min_data_in_leaf is set=779, min_child_samples=20 will be ignored. Current value: min_data_in_leaf=779\n",
      "[LightGBM] [Warning] min_data_in_leaf is set=779, min_child_samples=20 will be ignored. Current value: min_data_in_leaf=779\n",
      "[LightGBM] [Warning] min_data_in_leaf is set=779, min_child_samples=20 will be ignored. Current value: min_data_in_leaf=779\n",
      "[LightGBM] [Warning] min_data_in_leaf is set=779, min_child_samples=20 will be ignored. Current value: min_data_in_leaf=779\n",
      "[LightGBM] [Warning] min_data_in_leaf is set=779, min_child_samples=20 will be ignored. Current value: min_data_in_leaf=779\n",
      "[LightGBM] [Warning] min_data_in_leaf is set=779, min_child_samples=20 will be ignored. Current value: min_data_in_leaf=779\n",
      "[LightGBM] [Warning] min_data_in_leaf is set=779, min_child_samples=20 will be ignored. Current value: min_data_in_leaf=779\n",
      "[LightGBM] [Warning] min_data_in_leaf is set=779, min_child_samples=20 will be ignored. Current value: min_data_in_leaf=779\n",
      "[LightGBM] [Warning] min_data_in_leaf is set=779, min_child_samples=20 will be ignored. Current value: min_data_in_leaf=779\n",
      "[LightGBM] [Warning] min_data_in_leaf is set=779, min_child_samples=20 will be ignored. Current value: min_data_in_leaf=779\n",
      "[LightGBM] [Warning] min_data_in_leaf is set=779, min_child_samples=20 will be ignored. Current value: min_data_in_leaf=779\n",
      "[LightGBM] [Warning] min_data_in_leaf is set=779, min_child_samples=20 will be ignored. Current value: min_data_in_leaf=779\n",
      "[LightGBM] [Warning] min_data_in_leaf is set=779, min_child_samples=20 will be ignored. Current value: min_data_in_leaf=779\n",
      "[LightGBM] [Warning] min_data_in_leaf is set=779, min_child_samples=20 will be ignored. Current value: min_data_in_leaf=779\n",
      "[LightGBM] [Warning] min_data_in_leaf is set=779, min_child_samples=20 will be ignored. Current value: min_data_in_leaf=779\n",
      "[LightGBM] [Warning] min_data_in_leaf is set=779, min_child_samples=20 will be ignored. Current value: min_data_in_leaf=779\n",
      "[LightGBM] [Warning] min_data_in_leaf is set=779, min_child_samples=20 will be ignored. Current value: min_data_in_leaf=779\n",
      "[LightGBM] [Warning] min_data_in_leaf is set=779, min_child_samples=20 will be ignored. Current value: min_data_in_leaf=779\n",
      "[LightGBM] [Warning] min_data_in_leaf is set=779, min_child_samples=20 will be ignored. Current value: min_data_in_leaf=779\n",
      "[LightGBM] [Warning] min_data_in_leaf is set=779, min_child_samples=20 will be ignored. Current value: min_data_in_leaf=779\n",
      "[LightGBM] [Warning] min_data_in_leaf is set=779, min_child_samples=20 will be ignored. Current value: min_data_in_leaf=779\n",
      "[LightGBM] [Warning] min_data_in_leaf is set=779, min_child_samples=20 will be ignored. Current value: min_data_in_leaf=779\n",
      "[LightGBM] [Warning] min_data_in_leaf is set=779, min_child_samples=20 will be ignored. Current value: min_data_in_leaf=779\n",
      "[LightGBM] [Warning] min_data_in_leaf is set=779, min_child_samples=20 will be ignored. Current value: min_data_in_leaf=779\n",
      "[LightGBM] [Warning] min_data_in_leaf is set=779, min_child_samples=20 will be ignored. Current value: min_data_in_leaf=779\n",
      "[LightGBM] [Warning] min_data_in_leaf is set=779, min_child_samples=20 will be ignored. Current value: min_data_in_leaf=779\n",
      "[LightGBM] [Warning] min_data_in_leaf is set=779, min_child_samples=20 will be ignored. Current value: min_data_in_leaf=779\n",
      "[LightGBM] [Warning] min_data_in_leaf is set=779, min_child_samples=20 will be ignored. Current value: min_data_in_leaf=779\n",
      "[LightGBM] [Warning] min_data_in_leaf is set=779, min_child_samples=20 will be ignored. Current value: min_data_in_leaf=779\n",
      "[LightGBM] [Warning] min_data_in_leaf is set=779, min_child_samples=20 will be ignored. Current value: min_data_in_leaf=779\n",
      "[LightGBM] [Warning] min_data_in_leaf is set=779, min_child_samples=20 will be ignored. Current value: min_data_in_leaf=779\n",
      "[LightGBM] [Warning] min_data_in_leaf is set=779, min_child_samples=20 will be ignored. Current value: min_data_in_leaf=779\n",
      "[LightGBM] [Warning] min_data_in_leaf is set=779, min_child_samples=20 will be ignored. Current value: min_data_in_leaf=779\n",
      "[LightGBM] [Warning] min_data_in_leaf is set=779, min_child_samples=20 will be ignored. Current value: min_data_in_leaf=779\n",
      "[LightGBM] [Warning] min_data_in_leaf is set=779, min_child_samples=20 will be ignored. Current value: min_data_in_leaf=779\n",
      "[LightGBM] [Warning] min_data_in_leaf is set=779, min_child_samples=20 will be ignored. Current value: min_data_in_leaf=779\n",
      "[LightGBM] [Warning] min_data_in_leaf is set=779, min_child_samples=20 will be ignored. Current value: min_data_in_leaf=779\n",
      "[LightGBM] [Warning] min_data_in_leaf is set=779, min_child_samples=20 will be ignored. Current value: min_data_in_leaf=779\n",
      "[LightGBM] [Warning] min_data_in_leaf is set=779, min_child_samples=20 will be ignored. Current value: min_data_in_leaf=779\n",
      "[LightGBM] [Warning] min_data_in_leaf is set=779, min_child_samples=20 will be ignored. Current value: min_data_in_leaf=779\n",
      "[LightGBM] [Warning] min_data_in_leaf is set=779, min_child_samples=20 will be ignored. Current value: min_data_in_leaf=779\n",
      "[LightGBM] [Warning] min_data_in_leaf is set=779, min_child_samples=20 will be ignored. Current value: min_data_in_leaf=779\n",
      "[LightGBM] [Warning] min_data_in_leaf is set=779, min_child_samples=20 will be ignored. Current value: min_data_in_leaf=779\n",
      "[LightGBM] [Warning] min_data_in_leaf is set=779, min_child_samples=20 will be ignored. Current value: min_data_in_leaf=779\n",
      "[LightGBM] [Warning] min_data_in_leaf is set=779, min_child_samples=20 will be ignored. Current value: min_data_in_leaf=779\n",
      "[LightGBM] [Warning] min_data_in_leaf is set=779, min_child_samples=20 will be ignored. Current value: min_data_in_leaf=779\n",
      "[LightGBM] [Warning] min_data_in_leaf is set=779, min_child_samples=20 will be ignored. Current value: min_data_in_leaf=779\n",
      "[LightGBM] [Warning] min_data_in_leaf is set=779, min_child_samples=20 will be ignored. Current value: min_data_in_leaf=779\n",
      "[LightGBM] [Warning] min_data_in_leaf is set=779, min_child_samples=20 will be ignored. Current value: min_data_in_leaf=779\n",
      "[LightGBM] [Warning] min_data_in_leaf is set=779, min_child_samples=20 will be ignored. Current value: min_data_in_leaf=779\n",
      "[LightGBM] [Warning] min_data_in_leaf is set=779, min_child_samples=20 will be ignored. Current value: min_data_in_leaf=779\n",
      "[LightGBM] [Warning] min_data_in_leaf is set=779, min_child_samples=20 will be ignored. Current value: min_data_in_leaf=779\n",
      "[LightGBM] [Warning] min_data_in_leaf is set=779, min_child_samples=20 will be ignored. Current value: min_data_in_leaf=779\n"
     ]
    },
    {
     "data": {
      "image/png": "[encoded data removed]",
      "text/plain": [
       "<Figure size 900x700 with 1 Axes>"
      ]
     },
     "metadata": {},
     "output_type": "display_data"
    }
   ],
   "source": [
    "pi = permutation_importance(gbm,X_test.drop(categorical_features,axis=1),y_test)\n",
    "\n",
    "coefs = pd.DataFrame(\n",
    "    pi['importances_mean'], columns=[\"Coefficients\"], index=X_train.drop(categorical_features,axis=1).columns\n",
    ")\n",
    "coefs.plot(kind=\"barh\", figsize=(9, 7))\n",
    "plt.title(\"Logistic Regression model\")\n",
    "plt.axvline(x=0, color=\".5\")\n",
    "plt.subplots_adjust(left=0.3)"
   ]
  },
  {
   "cell_type": "markdown",
   "id": "315a5b3c",
   "metadata": {},
   "source": [
    "## Error Analysis"
   ]
  },
  {
   "cell_type": "code",
   "execution_count": null,
   "id": "119a152f",
   "metadata": {},
   "outputs": [],
   "source": [
    "preds = gbm.predict(X_test.drop(categorical_features,axis=1))"
   ]
  },
  {
   "cell_type": "code",
   "execution_count": null,
   "id": "c2bb9119",
   "metadata": {},
   "outputs": [],
   "source": [
    "results = pd.DataFrame({'preds':preds,'true':y_test})\n",
    "results"
   ]
  },
  {
   "cell_type": "code",
   "execution_count": null,
   "id": "1226314d",
   "metadata": {},
   "outputs": [],
   "source": [
    "results.describe(np.arange(0,1,0.1))"
   ]
  },
  {
   "cell_type": "code",
   "execution_count": null,
   "id": "48f706ff",
   "metadata": {},
   "outputs": [],
   "source": [
    "mae = (preds-y_test).abs().mean()\n",
    "mae"
   ]
  },
  {
   "cell_type": "code",
   "execution_count": null,
   "id": "306eaa32",
   "metadata": {},
   "outputs": [],
   "source": [
    "mean_abs_label = y_test.abs().mean()\n",
    "mean_abs_label"
   ]
  },
  {
   "cell_type": "code",
   "execution_count": null,
   "id": "83a7f8f8",
   "metadata": {},
   "outputs": [],
   "source": [
    "mae/mean_abs_label"
   ]
  },
  {
   "cell_type": "code",
   "execution_count": null,
   "id": "0a882213",
   "metadata": {},
   "outputs": [],
   "source": [
    "mae_AR1 = (X_test.PREV_pnls - pnl_not_0.true).abs().mean()\n",
    "mae_AR1"
   ]
  },
  {
   "cell_type": "code",
   "execution_count": null,
   "id": "02952fdd",
   "metadata": {},
   "outputs": [],
   "source": [
    "mae/mae_AR1"
   ]
  },
  {
   "cell_type": "markdown",
   "id": "d2d90ce9",
   "metadata": {},
   "source": [
    "## Linear Regression"
   ]
  },
  {
   "cell_type": "code",
   "execution_count": null,
   "id": "269abc7f",
   "metadata": {},
   "outputs": [],
   "source": [
    "scaler = StandardScaler().fit(X_train.drop(categorical_features,axis=1))\n",
    "scaled_X_train = scaler.transform(X_train.drop(categorical_features,axis=1))\n",
    "scaled_X_val = scaler.transform(X_val.drop(categorical_features,axis=1))\n",
    "scaled_X_test = scaler.transform(X_test.drop(categorical_features,axis=1))"
   ]
  },
  {
   "cell_type": "code",
   "execution_count": null,
   "id": "d21acc73",
   "metadata": {},
   "outputs": [],
   "source": [
    "regr = LinearRegression()\n",
    "\n",
    "# Train the model using the training sets\n",
    "regr.fit(scaled_X_train, y_train)\n",
    "\n",
    "# Make predictions using the testing set\n",
    "lr_preds = regr.predict(scaled_X_test)"
   ]
  },
  {
   "cell_type": "code",
   "execution_count": null,
   "id": "9a424e6e",
   "metadata": {},
   "outputs": [],
   "source": [
    "pi = permutation_importance(regr,scaled_X_test,y_test)\n",
    "\n",
    "coefs = pd.DataFrame(\n",
    "    pi['importances_mean'], columns=[\"Coefficients\"], index=X_train.drop(categorical_features,axis=1).columns\n",
    ")\n",
    "\n",
    "\n",
    "coefs.plot(kind=\"barh\", figsize=(9, 7))\n",
    "plt.title(\"LR model\")\n",
    "plt.axvline(x=0, color=\".5\")\n",
    "plt.subplots_adjust(left=0.3)"
   ]
  },
  {
   "cell_type": "code",
   "execution_count": null,
   "id": "f87b19f2",
   "metadata": {},
   "outputs": [],
   "source": [
    "lr_results = pd.DataFrame({'preds':lr_preds,'true':y_test})\n",
    "lr_results"
   ]
  },
  {
   "cell_type": "code",
   "execution_count": null,
   "id": "62ae30c8",
   "metadata": {},
   "outputs": [],
   "source": [
    "lr_pnl_is_0 = lr_results[lr_results.true==0]\n",
    "lr_pnl_not_0 = lr_results[lr_results.true!=0]"
   ]
  },
  {
   "cell_type": "code",
   "execution_count": null,
   "id": "27de9ffe",
   "metadata": {},
   "outputs": [],
   "source": [
    "mae = (lr_pnl_not_0.preds-lr_pnl_not_0.true).abs().mean()"
   ]
  },
  {
   "cell_type": "code",
   "execution_count": null,
   "id": "f74d4cab",
   "metadata": {},
   "outputs": [],
   "source": [
    "mae/mean_abs_label"
   ]
  },
  {
   "cell_type": "code",
   "execution_count": null,
   "id": "c6b74fc9",
   "metadata": {},
   "outputs": [],
   "source": [
    "# lr_results.loc[tmp_df.index]"
   ]
  },
  {
   "cell_type": "code",
   "execution_count": null,
   "id": "24648615",
   "metadata": {},
   "outputs": [],
   "source": [
    "from sklearn.ensemble import RandomForestRegressor"
   ]
  },
  {
   "cell_type": "code",
   "execution_count": null,
   "id": "b76ae99b",
   "metadata": {},
   "outputs": [],
   "source": [
    "rf = RandomForestRegressor(verbose=2,n_jobs=-1)"
   ]
  },
  {
   "cell_type": "code",
   "execution_count": null,
   "id": "f1ffe583",
   "metadata": {},
   "outputs": [],
   "source": [
    "rf.fit(X_train.drop(categorical_features,axis=1),y_train)"
   ]
  },
  {
   "cell_type": "code",
   "execution_count": null,
   "id": "74a489a0",
   "metadata": {},
   "outputs": [],
   "source": [
    "preds = rf.predict(X_test.drop(categorical_features,axis=1))"
   ]
  },
  {
   "cell_type": "code",
   "execution_count": null,
   "id": "27cf3f80",
   "metadata": {},
   "outputs": [],
   "source": [
    "mae = (preds-y_test).abs().mean()\n",
    "mae"
   ]
  },
  {
   "cell_type": "code",
   "execution_count": null,
   "id": "34dd6e76",
   "metadata": {},
   "outputs": [],
   "source": [
    "mae/mean_abs_label"
   ]
  },
  {
   "cell_type": "code",
   "execution_count": null,
   "id": "3c8c89d9",
   "metadata": {},
   "outputs": [],
   "source": []
  }
 ],
 "metadata": {
  "kernelspec": {
   "display_name": "Python 3 (ipykernel)",
   "language": "python",
   "name": "python3"
  },
  "language_info": {
   "codemirror_mode": {
    "name": "ipython",
    "version": 3
   },
   "file_extension": ".py",
   "mimetype": "text/x-python",
   "name": "python",
   "nbconvert_exporter": "python",
   "pygments_lexer": "ipython3",
   "version": "3.11.6"
  },
  "toc": {
   "base_numbering": 1,
   "nav_menu": {},
   "number_sections": true,
   "sideBar": true,
   "skip_h1_title": false,
   "title_cell": "Table of Contents",
   "title_sidebar": "Contents",
   "toc_cell": false,
   "toc_position": {
    "height": "calc(100% - 180px)",
    "left": "10px",
    "top": "150px",
    "width": "256px"
   },
   "toc_section_display": true,
   "toc_window_display": true
  },
  "varInspector": {
   "cols": {
    "lenName": 16,
    "lenType": 16,
    "lenVar": 40
   },
   "kernels_config": {
    "python": {
     "delete_cmd_postfix": "",
     "delete_cmd_prefix": "del ",
     "library": "var_list.py",
     "varRefreshCmd": "print(var_dic_list())"
    },
    "r": {
     "delete_cmd_postfix": ") ",
     "delete_cmd_prefix": "rm(",
     "library": "var_list.r",
     "varRefreshCmd": "cat(var_dic_list()) "
    }
   },
   "types_to_exclude": [
    "module",
    "function",
    "builtin_function_or_method",
    "instance",
    "_Feature"
   ],
   "window_display": false
  }
 },
 "nbformat": 4,
 "nbformat_minor": 5
}
