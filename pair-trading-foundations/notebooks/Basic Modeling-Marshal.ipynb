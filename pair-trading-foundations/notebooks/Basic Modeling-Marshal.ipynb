{
 "cells": [
  {
   "cell_type": "markdown",
   "id": "be2bb294",
   "metadata": {},
   "source": [
    "# Imports"
   ]
  },
  {
   "cell_type": "code",
   "execution_count": 1,
   "id": "499fa2a3",
   "metadata": {},
   "outputs": [],
   "source": [
    "import pandas as pd\n",
    "import numpy as np\n",
    "import lightgbm as lgb\n",
    "from sklearn.model_selection import train_test_split\n",
    "from sklearn.preprocessing import StandardScaler\n",
    "from sklearn.linear_model import LinearRegression, LogisticRegression\n",
    "from sklearn.metrics import confusion_matrix, ConfusionMatrixDisplay, precision_score, recall_score, f1_score, classification_report, accuracy_score\n",
    "from sklearn.inspection import permutation_importance\n",
    "import ta\n",
    "from xgboost import XGBClassifier\n",
    "\n",
    "from tqdm.notebook import tqdm\n",
    "tqdm.pandas()\n",
    "\n",
    "import matplotlib.pyplot as plt\n",
    "import plotly.express as px\n",
    "\n",
    "from sklearn.metrics import f1_score\n",
    "from imblearn.under_sampling import RandomUnderSampler\n",
    "pd.set_option('display.float_format', lambda x: '%.3f' % x)\n",
    "np.set_printoptions(suppress=True)\n",
    "from pprint import pprint\n",
    "\n",
    "import gc\n",
    "import optuna\n",
    "from sklearn.feature_selection import RFE"
   ]
  },
  {
   "cell_type": "code",
   "execution_count": 2,
   "id": "7bb6cf77",
   "metadata": {},
   "outputs": [
    {
     "data": {
      "text/html": [
       "<div>\n",
       "<style scoped>\n",
       "    .dataframe tbody tr th:only-of-type {\n",
       "        vertical-align: middle;\n",
       "    }\n",
       "\n",
       "    .dataframe tbody tr th {\n",
       "        vertical-align: top;\n",
       "    }\n",
       "\n",
       "    .dataframe thead th {\n",
       "        text-align: right;\n",
       "    }\n",
       "</style>\n",
       "<table border=\"1\" class=\"dataframe\">\n",
       "  <thead>\n",
       "    <tr style=\"text-align: right;\">\n",
       "      <th></th>\n",
       "      <th>Date</th>\n",
       "      <th>Ticker_P1</th>\n",
       "      <th>Close_P1</th>\n",
       "      <th>Ticker_P2</th>\n",
       "      <th>Close_P2</th>\n",
       "      <th>High_P1</th>\n",
       "      <th>High_P2</th>\n",
       "      <th>Low_P1</th>\n",
       "      <th>Low_P2</th>\n",
       "      <th>Volume_P1</th>\n",
       "      <th>...</th>\n",
       "      <th>corr_coef_l15</th>\n",
       "      <th>corr_coef_l20</th>\n",
       "      <th>corr_coef_l40</th>\n",
       "      <th>corr_coef_l60</th>\n",
       "      <th>pnls</th>\n",
       "      <th>num_entries</th>\n",
       "      <th>days_till_first_entry</th>\n",
       "      <th>both_legs_profited</th>\n",
       "      <th>SPY_return</th>\n",
       "      <th>successful_pair_trading</th>\n",
       "    </tr>\n",
       "  </thead>\n",
       "  <tbody>\n",
       "    <tr>\n",
       "      <th>0</th>\n",
       "      <td>2015-01-02</td>\n",
       "      <td>ADBE</td>\n",
       "      <td>72.340</td>\n",
       "      <td>GOOG</td>\n",
       "      <td>26.169</td>\n",
       "      <td>73.200</td>\n",
       "      <td>26.491</td>\n",
       "      <td>71.890</td>\n",
       "      <td>26.133</td>\n",
       "      <td>2349200.000</td>\n",
       "      <td>...</td>\n",
       "      <td>NaN</td>\n",
       "      <td>NaN</td>\n",
       "      <td>NaN</td>\n",
       "      <td>NaN</td>\n",
       "      <td>NaN</td>\n",
       "      <td>NaN</td>\n",
       "      <td>NaN</td>\n",
       "      <td>NaN</td>\n",
       "      <td>-1.709</td>\n",
       "      <td>False</td>\n",
       "    </tr>\n",
       "    <tr>\n",
       "      <th>1</th>\n",
       "      <td>2015-01-05</td>\n",
       "      <td>ADBE</td>\n",
       "      <td>71.980</td>\n",
       "      <td>GOOG</td>\n",
       "      <td>25.623</td>\n",
       "      <td>72.430</td>\n",
       "      <td>26.145</td>\n",
       "      <td>71.570</td>\n",
       "      <td>25.583</td>\n",
       "      <td>2403300.000</td>\n",
       "      <td>...</td>\n",
       "      <td>NaN</td>\n",
       "      <td>NaN</td>\n",
       "      <td>NaN</td>\n",
       "      <td>NaN</td>\n",
       "      <td>NaN</td>\n",
       "      <td>NaN</td>\n",
       "      <td>NaN</td>\n",
       "      <td>NaN</td>\n",
       "      <td>1.547</td>\n",
       "      <td>False</td>\n",
       "    </tr>\n",
       "    <tr>\n",
       "      <th>2</th>\n",
       "      <td>2015-01-06</td>\n",
       "      <td>ADBE</td>\n",
       "      <td>70.530</td>\n",
       "      <td>GOOG</td>\n",
       "      <td>25.029</td>\n",
       "      <td>72.100</td>\n",
       "      <td>25.738</td>\n",
       "      <td>69.880</td>\n",
       "      <td>24.984</td>\n",
       "      <td>2895400.000</td>\n",
       "      <td>...</td>\n",
       "      <td>NaN</td>\n",
       "      <td>NaN</td>\n",
       "      <td>NaN</td>\n",
       "      <td>NaN</td>\n",
       "      <td>NaN</td>\n",
       "      <td>NaN</td>\n",
       "      <td>NaN</td>\n",
       "      <td>NaN</td>\n",
       "      <td>2.122</td>\n",
       "      <td>False</td>\n",
       "    </tr>\n",
       "    <tr>\n",
       "      <th>3</th>\n",
       "      <td>2015-01-07</td>\n",
       "      <td>ADBE</td>\n",
       "      <td>71.110</td>\n",
       "      <td>GOOG</td>\n",
       "      <td>24.986</td>\n",
       "      <td>71.290</td>\n",
       "      <td>25.293</td>\n",
       "      <td>70.420</td>\n",
       "      <td>24.914</td>\n",
       "      <td>2378300.000</td>\n",
       "      <td>...</td>\n",
       "      <td>NaN</td>\n",
       "      <td>NaN</td>\n",
       "      <td>NaN</td>\n",
       "      <td>NaN</td>\n",
       "      <td>NaN</td>\n",
       "      <td>NaN</td>\n",
       "      <td>NaN</td>\n",
       "      <td>NaN</td>\n",
       "      <td>1.883</td>\n",
       "      <td>False</td>\n",
       "    </tr>\n",
       "    <tr>\n",
       "      <th>4</th>\n",
       "      <td>2015-01-08</td>\n",
       "      <td>ADBE</td>\n",
       "      <td>72.920</td>\n",
       "      <td>GOOG</td>\n",
       "      <td>25.065</td>\n",
       "      <td>73.060</td>\n",
       "      <td>25.105</td>\n",
       "      <td>71.310</td>\n",
       "      <td>24.483</td>\n",
       "      <td>2624200.000</td>\n",
       "      <td>...</td>\n",
       "      <td>NaN</td>\n",
       "      <td>NaN</td>\n",
       "      <td>NaN</td>\n",
       "      <td>NaN</td>\n",
       "      <td>NaN</td>\n",
       "      <td>NaN</td>\n",
       "      <td>NaN</td>\n",
       "      <td>NaN</td>\n",
       "      <td>-0.170</td>\n",
       "      <td>False</td>\n",
       "    </tr>\n",
       "  </tbody>\n",
       "</table>\n",
       "<p>5 rows × 38 columns</p>\n",
       "</div>"
      ],
      "text/plain": [
       "         Date Ticker_P1  Close_P1 Ticker_P2  Close_P2  High_P1  High_P2  \\\n",
       "0  2015-01-02      ADBE    72.340      GOOG    26.169   73.200   26.491   \n",
       "1  2015-01-05      ADBE    71.980      GOOG    25.623   72.430   26.145   \n",
       "2  2015-01-06      ADBE    70.530      GOOG    25.029   72.100   25.738   \n",
       "3  2015-01-07      ADBE    71.110      GOOG    24.986   71.290   25.293   \n",
       "4  2015-01-08      ADBE    72.920      GOOG    25.065   73.060   25.105   \n",
       "\n",
       "   Low_P1  Low_P2   Volume_P1  ...  corr_coef_l15  corr_coef_l20  \\\n",
       "0  71.890  26.133 2349200.000  ...            NaN            NaN   \n",
       "1  71.570  25.583 2403300.000  ...            NaN            NaN   \n",
       "2  69.880  24.984 2895400.000  ...            NaN            NaN   \n",
       "3  70.420  24.914 2378300.000  ...            NaN            NaN   \n",
       "4  71.310  24.483 2624200.000  ...            NaN            NaN   \n",
       "\n",
       "   corr_coef_l40  corr_coef_l60  pnls  num_entries  days_till_first_entry  \\\n",
       "0            NaN            NaN   NaN          NaN                    NaN   \n",
       "1            NaN            NaN   NaN          NaN                    NaN   \n",
       "2            NaN            NaN   NaN          NaN                    NaN   \n",
       "3            NaN            NaN   NaN          NaN                    NaN   \n",
       "4            NaN            NaN   NaN          NaN                    NaN   \n",
       "\n",
       "   both_legs_profited  SPY_return  successful_pair_trading  \n",
       "0                 NaN      -1.709                    False  \n",
       "1                 NaN       1.547                    False  \n",
       "2                 NaN       2.122                    False  \n",
       "3                 NaN       1.883                    False  \n",
       "4                 NaN      -0.170                    False  \n",
       "\n",
       "[5 rows x 38 columns]"
      ]
     },
     "execution_count": 2,
     "metadata": {},
     "output_type": "execute_result"
    }
   ],
   "source": [
    "df = pd.read_csv('Data/Training/exploration_190pairs_300_20.csv')\n",
    "df.head()"
   ]
  },
  {
   "cell_type": "code",
   "execution_count": 3,
   "id": "e4d22c2f",
   "metadata": {},
   "outputs": [
    {
     "data": {
      "text/plain": [
       "1257"
      ]
     },
     "execution_count": 3,
     "metadata": {},
     "output_type": "execute_result"
    }
   ],
   "source": [
    "total_days = df.Date.nunique()\n",
    "total_days"
   ]
  },
  {
   "cell_type": "code",
   "execution_count": 4,
   "id": "5ad854f5",
   "metadata": {},
   "outputs": [
    {
     "name": "stdout",
     "output_type": "stream",
     "text": [
      "(238830, 38)\n"
     ]
    },
    {
     "data": {
      "text/plain": [
       "Date                              0\n",
       "Ticker_P1                         0\n",
       "Close_P1                          0\n",
       "Ticker_P2                         0\n",
       "Close_P2                          0\n",
       "High_P1                           0\n",
       "High_P2                           0\n",
       "Low_P1                            0\n",
       "Low_P2                            0\n",
       "Volume_P1                         0\n",
       "Volume_P2                         0\n",
       "abs_spread                        0\n",
       "same_sector_flag                  0\n",
       "same_sub_industry_flag            0\n",
       "abs_spread_mean               56810\n",
       "abs_spread_std                56810\n",
       "abs_spread_mean_l20            3610\n",
       "abs_spread_std_l20             3610\n",
       "spread_normed                 56810\n",
       "abs_spread_normed_max        113620\n",
       "abs_spread_normed_90th       113620\n",
       "abs_spread_normed_75th       113620\n",
       "abs_spread_normed_median     113620\n",
       "abs_spread_normed_l7_avg      57950\n",
       "abs_spread_normed_l14_avg     59280\n",
       "cos_sim                       56810\n",
       "corr_coef_l5                    760\n",
       "corr_coef_l10                  1710\n",
       "corr_coef_l15                  2660\n",
       "corr_coef_l20                  3610\n",
       "corr_coef_l40                  7410\n",
       "corr_coef_l60                 11210\n",
       "pnls                          60800\n",
       "num_entries                   60800\n",
       "days_till_first_entry        129891\n",
       "both_legs_profited            60800\n",
       "SPY_return                        0\n",
       "successful_pair_trading           0\n",
       "dtype: int64"
      ]
     },
     "execution_count": 4,
     "metadata": {},
     "output_type": "execute_result"
    }
   ],
   "source": [
    "print(df.shape)\n",
    "df.isna().sum()"
   ]
  },
  {
   "cell_type": "code",
   "execution_count": 5,
   "id": "8d594821",
   "metadata": {},
   "outputs": [
    {
     "data": {
      "text/plain": [
       "1257"
      ]
     },
     "execution_count": 5,
     "metadata": {},
     "output_type": "execute_result"
    }
   ],
   "source": [
    "df.Date.nunique()"
   ]
  },
  {
   "cell_type": "code",
   "execution_count": 6,
   "id": "6826a684",
   "metadata": {},
   "outputs": [
    {
     "data": {
      "text/plain": [
       "count   125210.000\n",
       "mean         3.171\n",
       "std          0.687\n",
       "min          1.364\n",
       "25%          2.710\n",
       "50%          3.082\n",
       "75%          3.562\n",
       "max          6.698\n",
       "Name: abs_spread_normed_max, dtype: float64"
      ]
     },
     "execution_count": 6,
     "metadata": {},
     "output_type": "execute_result"
    }
   ],
   "source": [
    "df.abs_spread_normed_max.dropna().describe()"
   ]
  },
  {
   "cell_type": "code",
   "execution_count": 7,
   "id": "4dd722ed",
   "metadata": {},
   "outputs": [],
   "source": [
    "df = df.sort_values('Date')"
   ]
  },
  {
   "cell_type": "code",
   "execution_count": 8,
   "id": "ef9190d7",
   "metadata": {},
   "outputs": [
    {
     "name": "stdout",
     "output_type": "stream",
     "text": [
      "2015-01-02 2019-12-30\n"
     ]
    }
   ],
   "source": [
    "print(df.Date.min(),df.Date.max())"
   ]
  },
  {
   "cell_type": "markdown",
   "id": "6deae486",
   "metadata": {},
   "source": [
    "# Feature Engineering"
   ]
  },
  {
   "cell_type": "code",
   "execution_count": 9,
   "id": "24398048",
   "metadata": {},
   "outputs": [],
   "source": [
    "# TODO:\n",
    "# 1. Add group based features\n",
    "# 2. Stock2Vec based features\n",
    "# 3. Add Technical Indicators\n",
    "# 4. target is a sum of 2 directions with magnitudes (how much it goes up/down per leg)\n",
    "# 5. rolling features\n",
    "# 6. probability of classification model\n",
    "# 7. historical pnl and num_entries, drop leaky num_entries\n",
    "# 8. differencing features."
   ]
  },
  {
   "cell_type": "code",
   "execution_count": 10,
   "id": "a8f16e7d",
   "metadata": {},
   "outputs": [],
   "source": [
    "# 3 dimensions from a product perspective: ticker1, ticker2, and pair\n",
    "# 2 dimensions from a time perspective: short term vs long term\n",
    "# 2 factors of PnL: Volatility, and Reversion to mean\n",
    "\n",
    "# short term ticker 1 volatility: rolling mean, sector rolling mean, rolling std, sector rolling std\n",
    "# short term ticker 2 volatility: rolling mean, sector rolling mean, rolling std, sector rolling std\n",
    "# short term pair level volatility: rolling mean, sector rolling mean, rolling std, sector rolling std, \n",
    "#                                   differences of ticker level features\n",
    "\n",
    "# long term ticker 1 volatility: beta,\n",
    "# long term ticker 2 volatility: beta,\n",
    "# long term pair level volatility: most recent PNL (which is from 120 days ago), average historical PNL\n",
    "#                                  most recent number of entries, historical average vnumber of entries, \n",
    "#                                  diff of beta\n",
    "\n",
    "# short term ticker 1 reversion to mean: technical indicators\n",
    "# short term ticker 2 reversion to mean: technical indicators\n",
    "# short term pair level reversion to mean: technical indicators\n",
    "\n",
    "# long term ticker 1 reversion to mean: technical indicators\n",
    "# long term ticker 2 reversion to mean: technical indicators\n",
    "# long term pair level reversion to mean: technical indicators"
   ]
  },
  {
   "cell_type": "markdown",
   "id": "01f79c68",
   "metadata": {},
   "source": [
    "## Technical Indicators"
   ]
  },
  {
   "cell_type": "code",
   "execution_count": 11,
   "id": "57cd0e61",
   "metadata": {},
   "outputs": [],
   "source": [
    "class feature_engineering(object):\n",
    "    def __init__(self):\n",
    "        super(feature_engineering, self).__init__()\n",
    "\n",
    "    def generate_technical_indicator(self, data_df): \n",
    "        '''\n",
    "        Function to generate additional technical indicators for the stock\n",
    "\n",
    "        Uses the \"statsmodels.tsa.stattools\" (as \"ts\") package to apply \n",
    "        the equations specified in the \"Technical Indicators\" markdown section \n",
    "        to stock closing data.\n",
    "        \n",
    "        Input:\n",
    "        data_df-- Dataframe containing stock finacials data\n",
    "        \n",
    "        Output:\n",
    "        Stock finacials data with added Dataframe of feature obtained from feature engineering\n",
    "        ''' \n",
    "        # 1. Momentum Indicators\n",
    "        # Relative Strength Index\n",
    "        df = data_df\n",
    "        df['rsi'] = ta.momentum.rsi(df['Close'], window=14)\n",
    "        # Kaufman’s Adaptive Moving Average (KAMA)\n",
    "        df['kama'] = ta.momentum.kama(df['Close'],window=14)\n",
    "\n",
    "        # 2. Volume Indicators\n",
    "        # Accumulation/Distribution Index (ADI)\n",
    "        df['adi'] = ta.volume.acc_dist_index(df['High'], df['Low'], df['Close'], df['Volume'])\n",
    "\n",
    "        # Volume-price trend (VPT)\n",
    "        df['vpt'] = ta.volume.volume_price_trend(df['Close'], df['Volume'])\n",
    "\n",
    "        # 3. Volatility Indicators\n",
    "        # Average True Range (ATR)\n",
    "        df['atr'] = ta.volatility.average_true_range(df['High'], df['Low'],df['Close'], window=14)\n",
    "\n",
    "        # Bollinger Bands (BB) N-period simple moving average (MA)\n",
    "        df['bb_ma'] = ta.volatility.bollinger_mavg(df['Close'], window=20)\n",
    "\n",
    "        # 4. Trend Indicators\n",
    "        # Average Directional Movement Index (ADX)\n",
    "        df['adx'] = ta.trend.adx(df['High'], df['Low'], df['Close'], window=14)\n",
    "\n",
    "        # Exponential Moving Average\n",
    "        df['ema'] = ta.trend.ema_indicator(df['Close'], window=14)\n",
    "\n",
    "        # Moving Average Convergence Divergence (MACD)\n",
    "        df['macd'] = ta.trend.macd(df['Close'], window_fast=14, window_slow=30)\n",
    "\n",
    "        # 5. Other Indicators\n",
    "        # Daily Log Return (DLR)\n",
    "        df['dlr'] = ta.others.daily_log_return(df['Close'])\n",
    "\n",
    "        # Daily Returns\n",
    "        df['daily_returns'] = df['Close'].pct_change()\n",
    "\n",
    "        # Moving Averages\n",
    "        averages = [50,200]\n",
    "        for avg in averages:\n",
    "            col_name = str(avg) +' Days Average'\n",
    "            df[col_name] = df['Close'].rolling(window = avg, center = False).mean()\n",
    "\n",
    "        return df"
   ]
  },
  {
   "cell_type": "markdown",
   "id": "3872a90c",
   "metadata": {},
   "source": [
    "### Load SPY"
   ]
  },
  {
   "cell_type": "code",
   "execution_count": 12,
   "id": "d39ee0d7",
   "metadata": {},
   "outputs": [],
   "source": [
    "spy_df = pd.read_csv('Data/Training/1999-12-01-2023-12-31_SPY.csv')\n",
    "spy_df = spy_df[['Date','Adj Close']]\n",
    "spy_df.columns = ['Date','SPY_Close']\n",
    "df = pd.merge(df,spy_df,on='Date',how='left')"
   ]
  },
  {
   "cell_type": "markdown",
   "id": "b5717d7f",
   "metadata": {},
   "source": [
    "### Beta"
   ]
  },
  {
   "cell_type": "code",
   "execution_count": 13,
   "id": "a9c38c69",
   "metadata": {},
   "outputs": [],
   "source": [
    "def compute_beta(rs,df,ticker,market):\n",
    "    rows = df.loc[rs.index]\n",
    "    sec_returns = np.log( df[[ticker,market]] / df[[ticker,market]].shift(1) ) \n",
    "\n",
    "    cov = sec_returns.cov() * 250\n",
    "    cov_with_market = cov.iloc[0,1]\n",
    "    market_var = sec_returns[market].var() * 250\n",
    "    beta = cov_with_market / market_var\n",
    "    return beta"
   ]
  },
  {
   "cell_type": "code",
   "execution_count": 14,
   "id": "0d61d325",
   "metadata": {},
   "outputs": [
    {
     "data": {
      "text/plain": [
       "38"
      ]
     },
     "execution_count": 14,
     "metadata": {},
     "output_type": "execute_result"
    }
   ],
   "source": [
    "all_tickers = df['Ticker_P1'].unique().tolist()+df['Ticker_P2'].unique().tolist()\n",
    "len(all_tickers)"
   ]
  },
  {
   "cell_type": "code",
   "execution_count": 15,
   "id": "e78c7e55",
   "metadata": {},
   "outputs": [],
   "source": [
    "fe_obj = feature_engineering()\n"
   ]
  },
  {
   "cell_type": "markdown",
   "id": "5f2f8ee4",
   "metadata": {},
   "source": [
    "### Single Ticker Features"
   ]
  },
  {
   "cell_type": "code",
   "execution_count": 16,
   "id": "fc1b5a40",
   "metadata": {},
   "outputs": [
    {
     "data": {
      "text/plain": [
       "Index(['Date', 'Ticker_P1', 'Close_P1', 'Ticker_P2', 'Close_P2', 'High_P1',\n",
       "       'High_P2', 'Low_P1', 'Low_P2', 'Volume_P1', 'Volume_P2', 'abs_spread',\n",
       "       'same_sector_flag', 'same_sub_industry_flag', 'abs_spread_mean',\n",
       "       'abs_spread_std', 'abs_spread_mean_l20', 'abs_spread_std_l20',\n",
       "       'spread_normed', 'abs_spread_normed_max', 'abs_spread_normed_90th',\n",
       "       'abs_spread_normed_75th', 'abs_spread_normed_median',\n",
       "       'abs_spread_normed_l7_avg', 'abs_spread_normed_l14_avg', 'cos_sim',\n",
       "       'corr_coef_l5', 'corr_coef_l10', 'corr_coef_l15', 'corr_coef_l20',\n",
       "       'corr_coef_l40', 'corr_coef_l60', 'pnls', 'num_entries',\n",
       "       'days_till_first_entry', 'both_legs_profited', 'SPY_return',\n",
       "       'successful_pair_trading', 'SPY_Close'],\n",
       "      dtype='object')"
      ]
     },
     "execution_count": 16,
     "metadata": {},
     "output_type": "execute_result"
    }
   ],
   "source": [
    "df.columns"
   ]
  },
  {
   "cell_type": "code",
   "execution_count": 17,
   "id": "cff2ae08",
   "metadata": {},
   "outputs": [
    {
     "data": {
      "application/vnd.jupyter.widget-view+json": {
       "model_id": "0f9b1c9e1dca437aa475abf82c6ccaba",
       "version_major": 2,
       "version_minor": 0
      },
      "text/plain": [
       "  0%|          | 0/38 [00:00<?, ?it/s]"
      ]
     },
     "metadata": {},
     "output_type": "display_data"
    },
    {
     "data": {
      "application/vnd.jupyter.widget-view+json": {
       "model_id": "aeb3bc566f564e44be072840d295dd95",
       "version_major": 2,
       "version_minor": 0
      },
      "text/plain": [
       "0it [00:00, ?it/s]"
      ]
     },
     "metadata": {},
     "output_type": "display_data"
    },
    {
     "data": {
      "application/vnd.jupyter.widget-view+json": {
       "model_id": "ae94d8d5bdf34ec0b9cbf35d2ae72ad4",
       "version_major": 2,
       "version_minor": 0
      },
      "text/plain": [
       "0it [00:00, ?it/s]"
      ]
     },
     "metadata": {},
     "output_type": "display_data"
    },
    {
     "data": {
      "application/vnd.jupyter.widget-view+json": {
       "model_id": "ab5765f2353141429c2bc690f530e0df",
       "version_major": 2,
       "version_minor": 0
      },
      "text/plain": [
       "0it [00:00, ?it/s]"
      ]
     },
     "metadata": {},
     "output_type": "display_data"
    },
    {
     "data": {
      "application/vnd.jupyter.widget-view+json": {
       "model_id": "8815805a92e7463cbb0977118405ea3c",
       "version_major": 2,
       "version_minor": 0
      },
      "text/plain": [
       "0it [00:00, ?it/s]"
      ]
     },
     "metadata": {},
     "output_type": "display_data"
    },
    {
     "data": {
      "application/vnd.jupyter.widget-view+json": {
       "model_id": "6543237e121d4463894a0458cd825032",
       "version_major": 2,
       "version_minor": 0
      },
      "text/plain": [
       "0it [00:00, ?it/s]"
      ]
     },
     "metadata": {},
     "output_type": "display_data"
    },
    {
     "data": {
      "application/vnd.jupyter.widget-view+json": {
       "model_id": "24dcb948beac4d78a2f71db36128eca4",
       "version_major": 2,
       "version_minor": 0
      },
      "text/plain": [
       "0it [00:00, ?it/s]"
      ]
     },
     "metadata": {},
     "output_type": "display_data"
    },
    {
     "data": {
      "application/vnd.jupyter.widget-view+json": {
       "model_id": "af6abaeedc054a16b219efb563b9286c",
       "version_major": 2,
       "version_minor": 0
      },
      "text/plain": [
       "0it [00:00, ?it/s]"
      ]
     },
     "metadata": {},
     "output_type": "display_data"
    },
    {
     "data": {
      "application/vnd.jupyter.widget-view+json": {
       "model_id": "2beb84a252a7446399bbb2b4ea36cd5a",
       "version_major": 2,
       "version_minor": 0
      },
      "text/plain": [
       "0it [00:00, ?it/s]"
      ]
     },
     "metadata": {},
     "output_type": "display_data"
    },
    {
     "data": {
      "application/vnd.jupyter.widget-view+json": {
       "model_id": "a5ff8ec9d970416480c76112d3298fb3",
       "version_major": 2,
       "version_minor": 0
      },
      "text/plain": [
       "0it [00:00, ?it/s]"
      ]
     },
     "metadata": {},
     "output_type": "display_data"
    },
    {
     "data": {
      "application/vnd.jupyter.widget-view+json": {
       "model_id": "59372eae4b784a2b8595faaaabd3d5ea",
       "version_major": 2,
       "version_minor": 0
      },
      "text/plain": [
       "0it [00:00, ?it/s]"
      ]
     },
     "metadata": {},
     "output_type": "display_data"
    },
    {
     "data": {
      "application/vnd.jupyter.widget-view+json": {
       "model_id": "4111d0fb0461415780d345a1aaeeb5ec",
       "version_major": 2,
       "version_minor": 0
      },
      "text/plain": [
       "0it [00:00, ?it/s]"
      ]
     },
     "metadata": {},
     "output_type": "display_data"
    },
    {
     "data": {
      "application/vnd.jupyter.widget-view+json": {
       "model_id": "c4462507bb70420ca5599a3ca009b5f1",
       "version_major": 2,
       "version_minor": 0
      },
      "text/plain": [
       "0it [00:00, ?it/s]"
      ]
     },
     "metadata": {},
     "output_type": "display_data"
    },
    {
     "data": {
      "application/vnd.jupyter.widget-view+json": {
       "model_id": "63fa48932e684cc89ee347847b0cc5c4",
       "version_major": 2,
       "version_minor": 0
      },
      "text/plain": [
       "0it [00:00, ?it/s]"
      ]
     },
     "metadata": {},
     "output_type": "display_data"
    },
    {
     "data": {
      "application/vnd.jupyter.widget-view+json": {
       "model_id": "6487b4bd8fd64892851f992ace3adc54",
       "version_major": 2,
       "version_minor": 0
      },
      "text/plain": [
       "0it [00:00, ?it/s]"
      ]
     },
     "metadata": {},
     "output_type": "display_data"
    },
    {
     "data": {
      "application/vnd.jupyter.widget-view+json": {
       "model_id": "822bcc0922694adcada46dae9ffbd3db",
       "version_major": 2,
       "version_minor": 0
      },
      "text/plain": [
       "0it [00:00, ?it/s]"
      ]
     },
     "metadata": {},
     "output_type": "display_data"
    },
    {
     "data": {
      "application/vnd.jupyter.widget-view+json": {
       "model_id": "484d72709e2a4fccb05c2556e120b777",
       "version_major": 2,
       "version_minor": 0
      },
      "text/plain": [
       "0it [00:00, ?it/s]"
      ]
     },
     "metadata": {},
     "output_type": "display_data"
    },
    {
     "data": {
      "application/vnd.jupyter.widget-view+json": {
       "model_id": "6b86144bca094bbb87d26ed3cdf07d1a",
       "version_major": 2,
       "version_minor": 0
      },
      "text/plain": [
       "0it [00:00, ?it/s]"
      ]
     },
     "metadata": {},
     "output_type": "display_data"
    },
    {
     "data": {
      "application/vnd.jupyter.widget-view+json": {
       "model_id": "97c8f0b7fbb54e86a605c0980bf5bf02",
       "version_major": 2,
       "version_minor": 0
      },
      "text/plain": [
       "0it [00:00, ?it/s]"
      ]
     },
     "metadata": {},
     "output_type": "display_data"
    },
    {
     "data": {
      "application/vnd.jupyter.widget-view+json": {
       "model_id": "1ae6afff9c9a4a9cb64b4231919a9389",
       "version_major": 2,
       "version_minor": 0
      },
      "text/plain": [
       "0it [00:00, ?it/s]"
      ]
     },
     "metadata": {},
     "output_type": "display_data"
    },
    {
     "data": {
      "application/vnd.jupyter.widget-view+json": {
       "model_id": "d829bb79b2a84cceb4bba7c48823b21e",
       "version_major": 2,
       "version_minor": 0
      },
      "text/plain": [
       "0it [00:00, ?it/s]"
      ]
     },
     "metadata": {},
     "output_type": "display_data"
    },
    {
     "data": {
      "application/vnd.jupyter.widget-view+json": {
       "model_id": "bfbea025ff0842428cc5c67294105dac",
       "version_major": 2,
       "version_minor": 0
      },
      "text/plain": [
       "0it [00:00, ?it/s]"
      ]
     },
     "metadata": {},
     "output_type": "display_data"
    },
    {
     "data": {
      "application/vnd.jupyter.widget-view+json": {
       "model_id": "9d400891ec144e969babbf1de8f3686a",
       "version_major": 2,
       "version_minor": 0
      },
      "text/plain": [
       "0it [00:00, ?it/s]"
      ]
     },
     "metadata": {},
     "output_type": "display_data"
    },
    {
     "data": {
      "application/vnd.jupyter.widget-view+json": {
       "model_id": "a2e1e886112a4c89921670911ef6cf7d",
       "version_major": 2,
       "version_minor": 0
      },
      "text/plain": [
       "0it [00:00, ?it/s]"
      ]
     },
     "metadata": {},
     "output_type": "display_data"
    },
    {
     "data": {
      "application/vnd.jupyter.widget-view+json": {
       "model_id": "c107c06b0ea74adea3379a22f191d464",
       "version_major": 2,
       "version_minor": 0
      },
      "text/plain": [
       "0it [00:00, ?it/s]"
      ]
     },
     "metadata": {},
     "output_type": "display_data"
    },
    {
     "data": {
      "application/vnd.jupyter.widget-view+json": {
       "model_id": "daf93310ca8c4385b5a6617934b02634",
       "version_major": 2,
       "version_minor": 0
      },
      "text/plain": [
       "0it [00:00, ?it/s]"
      ]
     },
     "metadata": {},
     "output_type": "display_data"
    },
    {
     "data": {
      "application/vnd.jupyter.widget-view+json": {
       "model_id": "86600be6d1d14b448b9d07e4c85c1de3",
       "version_major": 2,
       "version_minor": 0
      },
      "text/plain": [
       "0it [00:00, ?it/s]"
      ]
     },
     "metadata": {},
     "output_type": "display_data"
    },
    {
     "data": {
      "application/vnd.jupyter.widget-view+json": {
       "model_id": "1ba35ca0575c45eaa1104544a14f455e",
       "version_major": 2,
       "version_minor": 0
      },
      "text/plain": [
       "0it [00:00, ?it/s]"
      ]
     },
     "metadata": {},
     "output_type": "display_data"
    },
    {
     "data": {
      "application/vnd.jupyter.widget-view+json": {
       "model_id": "259d3945aa854ed889dc3d0d164ca96d",
       "version_major": 2,
       "version_minor": 0
      },
      "text/plain": [
       "0it [00:00, ?it/s]"
      ]
     },
     "metadata": {},
     "output_type": "display_data"
    },
    {
     "data": {
      "application/vnd.jupyter.widget-view+json": {
       "model_id": "a38c03585be742a7865e427551bbaadd",
       "version_major": 2,
       "version_minor": 0
      },
      "text/plain": [
       "0it [00:00, ?it/s]"
      ]
     },
     "metadata": {},
     "output_type": "display_data"
    },
    {
     "data": {
      "application/vnd.jupyter.widget-view+json": {
       "model_id": "d31388fc5a724ffead153879e159977c",
       "version_major": 2,
       "version_minor": 0
      },
      "text/plain": [
       "0it [00:00, ?it/s]"
      ]
     },
     "metadata": {},
     "output_type": "display_data"
    },
    {
     "data": {
      "application/vnd.jupyter.widget-view+json": {
       "model_id": "a96610e879ac47adb23551c4e6bc1648",
       "version_major": 2,
       "version_minor": 0
      },
      "text/plain": [
       "0it [00:00, ?it/s]"
      ]
     },
     "metadata": {},
     "output_type": "display_data"
    },
    {
     "data": {
      "application/vnd.jupyter.widget-view+json": {
       "model_id": "b82a58f3424c440ba2a1d7ee0d732b13",
       "version_major": 2,
       "version_minor": 0
      },
      "text/plain": [
       "0it [00:00, ?it/s]"
      ]
     },
     "metadata": {},
     "output_type": "display_data"
    },
    {
     "data": {
      "application/vnd.jupyter.widget-view+json": {
       "model_id": "50a1baeb8c3146868f12581e274a128b",
       "version_major": 2,
       "version_minor": 0
      },
      "text/plain": [
       "0it [00:00, ?it/s]"
      ]
     },
     "metadata": {},
     "output_type": "display_data"
    },
    {
     "data": {
      "application/vnd.jupyter.widget-view+json": {
       "model_id": "68189bb1c067487d89a51ec7537d8f19",
       "version_major": 2,
       "version_minor": 0
      },
      "text/plain": [
       "0it [00:00, ?it/s]"
      ]
     },
     "metadata": {},
     "output_type": "display_data"
    },
    {
     "data": {
      "application/vnd.jupyter.widget-view+json": {
       "model_id": "430d14743a504a4ca42c4141bcdd61f0",
       "version_major": 2,
       "version_minor": 0
      },
      "text/plain": [
       "0it [00:00, ?it/s]"
      ]
     },
     "metadata": {},
     "output_type": "display_data"
    },
    {
     "data": {
      "application/vnd.jupyter.widget-view+json": {
       "model_id": "15976b980b8e4a7484d04d925f97d8be",
       "version_major": 2,
       "version_minor": 0
      },
      "text/plain": [
       "0it [00:00, ?it/s]"
      ]
     },
     "metadata": {},
     "output_type": "display_data"
    },
    {
     "data": {
      "application/vnd.jupyter.widget-view+json": {
       "model_id": "94486b207f5d41b7ae1cf01a96479834",
       "version_major": 2,
       "version_minor": 0
      },
      "text/plain": [
       "0it [00:00, ?it/s]"
      ]
     },
     "metadata": {},
     "output_type": "display_data"
    },
    {
     "data": {
      "application/vnd.jupyter.widget-view+json": {
       "model_id": "895cfc6be3a5444b9a69888e4c0489fe",
       "version_major": 2,
       "version_minor": 0
      },
      "text/plain": [
       "0it [00:00, ?it/s]"
      ]
     },
     "metadata": {},
     "output_type": "display_data"
    }
   ],
   "source": [
    "all_tickers_df_list = []\n",
    "for t in tqdm(all_tickers):\n",
    "    single_ticker_df = (df[df['Ticker_P1']==t] if t in df['Ticker_P1'].unique() else df[df['Ticker_P2']==t])\n",
    "    single_ticker_df = single_ticker_df.sort_values('Date')\n",
    "    single_ticker_df = single_ticker_df[['Date','Ticker_P1','Close_P1','High_P1','Low_P1','Volume_P1','SPY_Close']] if t in df['Ticker_P1'].unique() else\\\n",
    "                       single_ticker_df[['Date','Ticker_P2','Close_P2','High_P2','Low_P2','Volume_P2','SPY_Close']]\n",
    "    single_ticker_df.columns = ['Date','Ticker','Close','High','Low','Volume','SPY_Close']\n",
    "    single_ticker_df = single_ticker_df.drop_duplicates()\n",
    "\n",
    "    single_ticker_df['rolling_beta'] = single_ticker_df['Close'].rolling(300).progress_apply(compute_beta, \\\n",
    "                                        args=(single_ticker_df,'Close','SPY_Close'))\n",
    "\n",
    "    single_ticker_df_with_technical_indicators = fe_obj.generate_technical_indicator(single_ticker_df)\n",
    "\n",
    "    all_tickers_df_list.append(single_ticker_df_with_technical_indicators)\n"
   ]
  },
  {
   "cell_type": "code",
   "execution_count": 18,
   "id": "3117adab",
   "metadata": {},
   "outputs": [
    {
     "data": {
      "text/plain": [
       "(47766, 21)"
      ]
     },
     "execution_count": 18,
     "metadata": {},
     "output_type": "execute_result"
    }
   ],
   "source": [
    "all_tickers_df = pd.concat(all_tickers_df_list,axis=0,ignore_index=True).reset_index(drop=True)\n",
    "all_tickers_df.shape"
   ]
  },
  {
   "cell_type": "code",
   "execution_count": 19,
   "id": "d0d9e8d6",
   "metadata": {},
   "outputs": [],
   "source": [
    "df = df.reset_index(drop=True)"
   ]
  },
  {
   "cell_type": "code",
   "execution_count": 20,
   "id": "bd9da8bf",
   "metadata": {},
   "outputs": [
    {
     "data": {
      "text/html": [
       "<div>\n",
       "<style scoped>\n",
       "    .dataframe tbody tr th:only-of-type {\n",
       "        vertical-align: middle;\n",
       "    }\n",
       "\n",
       "    .dataframe tbody tr th {\n",
       "        vertical-align: top;\n",
       "    }\n",
       "\n",
       "    .dataframe thead th {\n",
       "        text-align: right;\n",
       "    }\n",
       "</style>\n",
       "<table border=\"1\" class=\"dataframe\">\n",
       "  <thead>\n",
       "    <tr style=\"text-align: right;\">\n",
       "      <th></th>\n",
       "      <th>Date</th>\n",
       "      <th>Ticker_P1</th>\n",
       "      <th>Close_P1</th>\n",
       "      <th>Ticker_P2</th>\n",
       "      <th>Close_P2</th>\n",
       "      <th>High_P1</th>\n",
       "      <th>High_P2</th>\n",
       "      <th>Low_P1</th>\n",
       "      <th>Low_P2</th>\n",
       "      <th>Volume_P1</th>\n",
       "      <th>...</th>\n",
       "      <th>corr_coef_l20</th>\n",
       "      <th>corr_coef_l40</th>\n",
       "      <th>corr_coef_l60</th>\n",
       "      <th>pnls</th>\n",
       "      <th>num_entries</th>\n",
       "      <th>days_till_first_entry</th>\n",
       "      <th>both_legs_profited</th>\n",
       "      <th>SPY_return</th>\n",
       "      <th>successful_pair_trading</th>\n",
       "      <th>SPY_Close</th>\n",
       "    </tr>\n",
       "  </thead>\n",
       "  <tbody>\n",
       "    <tr>\n",
       "      <th>238828</th>\n",
       "      <td>2019-12-30</td>\n",
       "      <td>DTE</td>\n",
       "      <td>96.022</td>\n",
       "      <td>LYV</td>\n",
       "      <td>71.210</td>\n",
       "      <td>109.821</td>\n",
       "      <td>71.920</td>\n",
       "      <td>109.081</td>\n",
       "      <td>70.780</td>\n",
       "      <td>1603170.000</td>\n",
       "      <td>...</td>\n",
       "      <td>-0.017</td>\n",
       "      <td>0.413</td>\n",
       "      <td>0.389</td>\n",
       "      <td>NaN</td>\n",
       "      <td>NaN</td>\n",
       "      <td>NaN</td>\n",
       "      <td>NaN</td>\n",
       "      <td>1.725</td>\n",
       "      <td>False</td>\n",
       "      <td>301.500</td>\n",
       "    </tr>\n",
       "    <tr>\n",
       "      <th>238829</th>\n",
       "      <td>2019-12-30</td>\n",
       "      <td>WELL</td>\n",
       "      <td>69.997</td>\n",
       "      <td>ZBRA</td>\n",
       "      <td>254.110</td>\n",
       "      <td>81.040</td>\n",
       "      <td>256.710</td>\n",
       "      <td>80.290</td>\n",
       "      <td>253.730</td>\n",
       "      <td>2517700.000</td>\n",
       "      <td>...</td>\n",
       "      <td>-0.410</td>\n",
       "      <td>-0.594</td>\n",
       "      <td>-0.868</td>\n",
       "      <td>NaN</td>\n",
       "      <td>NaN</td>\n",
       "      <td>NaN</td>\n",
       "      <td>NaN</td>\n",
       "      <td>1.725</td>\n",
       "      <td>False</td>\n",
       "      <td>301.500</td>\n",
       "    </tr>\n",
       "  </tbody>\n",
       "</table>\n",
       "<p>2 rows × 39 columns</p>\n",
       "</div>"
      ],
      "text/plain": [
       "              Date Ticker_P1  Close_P1 Ticker_P2  Close_P2  High_P1  High_P2  \\\n",
       "238828  2019-12-30       DTE    96.022       LYV    71.210  109.821   71.920   \n",
       "238829  2019-12-30      WELL    69.997      ZBRA   254.110   81.040  256.710   \n",
       "\n",
       "        Low_P1  Low_P2   Volume_P1  ...  corr_coef_l20  corr_coef_l40  \\\n",
       "238828 109.081  70.780 1603170.000  ...         -0.017          0.413   \n",
       "238829  80.290 253.730 2517700.000  ...         -0.410         -0.594   \n",
       "\n",
       "        corr_coef_l60  pnls  num_entries  days_till_first_entry  \\\n",
       "238828          0.389   NaN          NaN                    NaN   \n",
       "238829         -0.868   NaN          NaN                    NaN   \n",
       "\n",
       "        both_legs_profited  SPY_return  successful_pair_trading  SPY_Close  \n",
       "238828                 NaN       1.725                    False    301.500  \n",
       "238829                 NaN       1.725                    False    301.500  \n",
       "\n",
       "[2 rows x 39 columns]"
      ]
     },
     "execution_count": 20,
     "metadata": {},
     "output_type": "execute_result"
    }
   ],
   "source": [
    "df.tail(2)"
   ]
  },
  {
   "cell_type": "code",
   "execution_count": 21,
   "id": "903e1b36",
   "metadata": {},
   "outputs": [
    {
     "data": {
      "text/html": [
       "<div>\n",
       "<style scoped>\n",
       "    .dataframe tbody tr th:only-of-type {\n",
       "        vertical-align: middle;\n",
       "    }\n",
       "\n",
       "    .dataframe tbody tr th {\n",
       "        vertical-align: top;\n",
       "    }\n",
       "\n",
       "    .dataframe thead th {\n",
       "        text-align: right;\n",
       "    }\n",
       "</style>\n",
       "<table border=\"1\" class=\"dataframe\">\n",
       "  <thead>\n",
       "    <tr style=\"text-align: right;\">\n",
       "      <th></th>\n",
       "      <th>Date</th>\n",
       "      <th>Ticker</th>\n",
       "      <th>Close</th>\n",
       "      <th>High</th>\n",
       "      <th>Low</th>\n",
       "      <th>Volume</th>\n",
       "      <th>SPY_Close</th>\n",
       "      <th>rolling_beta</th>\n",
       "      <th>rsi</th>\n",
       "      <th>kama</th>\n",
       "      <th>...</th>\n",
       "      <th>vpt</th>\n",
       "      <th>atr</th>\n",
       "      <th>bb_ma</th>\n",
       "      <th>adx</th>\n",
       "      <th>ema</th>\n",
       "      <th>macd</th>\n",
       "      <th>dlr</th>\n",
       "      <th>daily_returns</th>\n",
       "      <th>50 Days Average</th>\n",
       "      <th>200 Days Average</th>\n",
       "    </tr>\n",
       "  </thead>\n",
       "  <tbody>\n",
       "    <tr>\n",
       "      <th>47764</th>\n",
       "      <td>2019-12-27</td>\n",
       "      <td>STZ</td>\n",
       "      <td>177.927</td>\n",
       "      <td>190.570</td>\n",
       "      <td>188.870</td>\n",
       "      <td>568600.000</td>\n",
       "      <td>303.171</td>\n",
       "      <td>0.720</td>\n",
       "      <td>58.591</td>\n",
       "      <td>173.964</td>\n",
       "      <td>...</td>\n",
       "      <td>-1621571.095</td>\n",
       "      <td>12.684</td>\n",
       "      <td>173.521</td>\n",
       "      <td>20.210</td>\n",
       "      <td>174.909</td>\n",
       "      <td>0.133</td>\n",
       "      <td>-0.227</td>\n",
       "      <td>-0.002</td>\n",
       "      <td>175.804</td>\n",
       "      <td>181.012</td>\n",
       "    </tr>\n",
       "    <tr>\n",
       "      <th>47765</th>\n",
       "      <td>2019-12-30</td>\n",
       "      <td>STZ</td>\n",
       "      <td>177.119</td>\n",
       "      <td>189.370</td>\n",
       "      <td>187.800</td>\n",
       "      <td>901000.000</td>\n",
       "      <td>301.500</td>\n",
       "      <td>0.720</td>\n",
       "      <td>56.220</td>\n",
       "      <td>174.248</td>\n",
       "      <td>...</td>\n",
       "      <td>-1625665.705</td>\n",
       "      <td>12.595</td>\n",
       "      <td>173.629</td>\n",
       "      <td>19.440</td>\n",
       "      <td>175.203</td>\n",
       "      <td>0.277</td>\n",
       "      <td>-0.455</td>\n",
       "      <td>-0.005</td>\n",
       "      <td>175.651</td>\n",
       "      <td>181.105</td>\n",
       "    </tr>\n",
       "  </tbody>\n",
       "</table>\n",
       "<p>2 rows × 21 columns</p>\n",
       "</div>"
      ],
      "text/plain": [
       "             Date Ticker   Close    High     Low     Volume  SPY_Close  \\\n",
       "47764  2019-12-27    STZ 177.927 190.570 188.870 568600.000    303.171   \n",
       "47765  2019-12-30    STZ 177.119 189.370 187.800 901000.000    301.500   \n",
       "\n",
       "       rolling_beta    rsi    kama  ...          vpt    atr   bb_ma    adx  \\\n",
       "47764         0.720 58.591 173.964  ... -1621571.095 12.684 173.521 20.210   \n",
       "47765         0.720 56.220 174.248  ... -1625665.705 12.595 173.629 19.440   \n",
       "\n",
       "          ema  macd    dlr  daily_returns  50 Days Average  200 Days Average  \n",
       "47764 174.909 0.133 -0.227         -0.002          175.804           181.012  \n",
       "47765 175.203 0.277 -0.455         -0.005          175.651           181.105  \n",
       "\n",
       "[2 rows x 21 columns]"
      ]
     },
     "execution_count": 21,
     "metadata": {},
     "output_type": "execute_result"
    }
   ],
   "source": [
    "all_tickers_df.tail(2)"
   ]
  },
  {
   "cell_type": "code",
   "execution_count": 22,
   "id": "a07549c3",
   "metadata": {},
   "outputs": [
    {
     "name": "stdout",
     "output_type": "stream",
     "text": [
      "(238830, 39)\n",
      "(238830, 59)\n",
      "(238830, 79)\n",
      "(238830, 78)\n"
     ]
    }
   ],
   "source": [
    "print(df.shape)\n",
    "all_tickers_df_P1_suffix = all_tickers_df.copy()\n",
    "all_tickers_df_P1_suffix.columns = ['Date','Ticker']+[c+'_P1' for c in all_tickers_df.columns if c not in ['Date','Ticker']]\n",
    "all_tickers_df_P2_suffix = all_tickers_df.copy()\n",
    "all_tickers_df_P2_suffix.columns = ['Date','Ticker']+[c+'_P2' for c in all_tickers_df.columns if c not in ['Date','Ticker']]\n",
    "\n",
    "df = pd.merge(df,all_tickers_df_P1_suffix,left_on=['Date','Ticker_P1'],right_on=['Date','Ticker'],\\\n",
    "              how='left',suffixes=['','_P1']).drop_duplicates()\n",
    "print(df.shape)\n",
    "df = pd.merge(df,all_tickers_df_P2_suffix,left_on=['Date','Ticker_P2'],right_on=['Date','Ticker'],\\\n",
    "              how='left',suffixes=['','_P2']).drop_duplicates()\n",
    "print(df.shape)\n",
    "df = df.loc[:,~df.columns.duplicated()]\n",
    "print(df.shape)\n"
   ]
  },
  {
   "cell_type": "code",
   "execution_count": 23,
   "id": "c90482bc",
   "metadata": {},
   "outputs": [
    {
     "data": {
      "text/plain": [
       "204"
      ]
     },
     "execution_count": 23,
     "metadata": {},
     "output_type": "execute_result"
    }
   ],
   "source": [
    "del all_tickers_df_P1_suffix, all_tickers_df_P2_suffix\n",
    "gc.collect()"
   ]
  },
  {
   "cell_type": "code",
   "execution_count": 24,
   "id": "e4d118f3",
   "metadata": {},
   "outputs": [],
   "source": [
    "df = df.drop('Ticker',axis=1)"
   ]
  },
  {
   "cell_type": "markdown",
   "id": "67972229",
   "metadata": {},
   "source": [
    "### Prev Values"
   ]
  },
  {
   "cell_type": "code",
   "execution_count": 25,
   "id": "f499a055",
   "metadata": {},
   "outputs": [],
   "source": [
    "df = df.sort_values('Date')"
   ]
  },
  {
   "cell_type": "code",
   "execution_count": 26,
   "id": "bc028956",
   "metadata": {},
   "outputs": [],
   "source": [
    "df['PREV_num_entries'] = df.groupby(['Ticker_P1','Ticker_P2']).num_entries.shift(21)\n",
    "df['PREV_pnls'] = df.groupby(['Ticker_P1','Ticker_P2']).pnls.shift(21)"
   ]
  },
  {
   "cell_type": "markdown",
   "id": "d0b40577",
   "metadata": {},
   "source": [
    "# Trim head and tail days"
   ]
  },
  {
   "cell_type": "code",
   "execution_count": 27,
   "id": "d012b0d5",
   "metadata": {},
   "outputs": [
    {
     "name": "stdout",
     "output_type": "stream",
     "text": [
      "(238830, 79)\n",
      "(181640, 79)\n",
      "(177650, 79)\n"
     ]
    }
   ],
   "source": [
    "print(df.shape)\n",
    "df = df.drop(df.groupby(['Ticker_P1','Ticker_P2']).head(301).index,axis=0)\n",
    "print(df.shape)\n",
    "df = df.drop(df.groupby(['Ticker_P1','Ticker_P2']).tail(21).index,axis=0)\n",
    "print(df.shape)"
   ]
  },
  {
   "cell_type": "markdown",
   "id": "57d5a459",
   "metadata": {},
   "source": [
    "### Diff Values"
   ]
  },
  {
   "cell_type": "code",
   "execution_count": 28,
   "id": "368fbfef",
   "metadata": {},
   "outputs": [],
   "source": [
    "for c in ['Close', 'High', 'Low', 'Volume', 'rolling_beta', 'rsi', 'kama',\n",
    "       'adi', 'vpt', 'atr', 'bb_ma', 'adx', 'ema', 'macd', 'dlr',\n",
    "       'daily_returns', '50 Days Average', '200 Days Average']:\n",
    "# ,\n",
    "#        'sector_rolling_beta_mean', 'sector_rolling_beta_std',\n",
    "#        'sector_daily_return_mean', 'sector_daily_return_std']:\n",
    "    df['DIFF_'+c] = df[c+'_P1'] - df[c+'_P2']"
   ]
  },
  {
   "cell_type": "code",
   "execution_count": 29,
   "id": "94416b24",
   "metadata": {},
   "outputs": [],
   "source": [
    "df['DIFF_abs_spread_mean_l20_500'] = df['abs_spread_mean_l20'] - df['abs_spread_mean']"
   ]
  },
  {
   "cell_type": "code",
   "execution_count": 30,
   "id": "181fb341",
   "metadata": {},
   "outputs": [
    {
     "data": {
      "text/plain": [
       "days_till_first_entry        68952\n",
       "abs_spread_normed_median     56430\n",
       "abs_spread_normed_75th       56430\n",
       "abs_spread_normed_90th       56430\n",
       "abs_spread_normed_max        56430\n",
       "PREV_pnls                     3800\n",
       "PREV_num_entries              3800\n",
       "abs_spread_normed_l14_avg     2090\n",
       "abs_spread_normed_l7_avg       760\n",
       "atr_P2                           0\n",
       "macd_P2                          0\n",
       "ema_P2                           0\n",
       "adx_P2                           0\n",
       "bb_ma_P2                         0\n",
       "vpt_P2                           0\n",
       "daily_returns_P2                 0\n",
       "adi_P2                           0\n",
       "kama_P2                          0\n",
       "rsi_P2                           0\n",
       "rolling_beta_P2                  0\n",
       "dtype: int64"
      ]
     },
     "execution_count": 30,
     "metadata": {},
     "output_type": "execute_result"
    }
   ],
   "source": [
    "df.isna().sum().sort_values(ascending=False).head(20)"
   ]
  },
  {
   "cell_type": "code",
   "execution_count": 31,
   "id": "761ef82b",
   "metadata": {},
   "outputs": [],
   "source": [
    "# stop"
   ]
  },
  {
   "cell_type": "markdown",
   "id": "6e192053",
   "metadata": {},
   "source": [
    "## X,y split"
   ]
  },
  {
   "cell_type": "code",
   "execution_count": 32,
   "id": "c7ee0126-f28f-4208-96f5-b0498101086b",
   "metadata": {},
   "outputs": [],
   "source": [
    "df.columns\n",
    "df.both_legs_profited = df.both_legs_profited=='True'"
   ]
  },
  {
   "cell_type": "code",
   "execution_count": 33,
   "id": "af81008a",
   "metadata": {},
   "outputs": [],
   "source": [
    "# features_raw = df.drop(categorical_features+['PNL_IS_0']+\\\n",
    "#                    ['abs_spread_normed_max','abs_spread_normed_median',\\\n",
    "#                     'abs_spread_normed_75th','abs_spread_normed_90th',\\\n",
    "#                     'Date','Ticker_P1','Ticker_P2','SPY_Close_P1','SPY_Close_P2',\\\n",
    "#                     'num_entries','pnls']+[c for c in df.columns if '_P1_P1' in c or '_P2_P2' in c],axis=1).columns.tolist()+categorical_features\n",
    "\n",
    "# label = 'PNL_IS_0'\n",
    "label = ['both_legs_profited']"
   ]
  },
  {
   "cell_type": "code",
   "execution_count": 34,
   "id": "6c01c219-68ed-4682-b443-12cd6c015387",
   "metadata": {},
   "outputs": [
    {
     "data": {
      "text/plain": [
       "Index(['Date', 'Ticker_P1', 'Close_P1', 'Ticker_P2', 'Close_P2', 'High_P1',\n",
       "       'High_P2', 'Low_P1', 'Low_P2', 'Volume_P1', 'Volume_P2', 'abs_spread',\n",
       "       'same_sector_flag', 'same_sub_industry_flag', 'abs_spread_mean',\n",
       "       'abs_spread_std', 'abs_spread_mean_l20', 'abs_spread_std_l20',\n",
       "       'spread_normed', 'abs_spread_normed_max', 'abs_spread_normed_90th',\n",
       "       'abs_spread_normed_75th', 'abs_spread_normed_median',\n",
       "       'abs_spread_normed_l7_avg', 'abs_spread_normed_l14_avg', 'cos_sim',\n",
       "       'corr_coef_l5', 'corr_coef_l10', 'corr_coef_l15', 'corr_coef_l20',\n",
       "       'corr_coef_l40', 'corr_coef_l60', 'pnls', 'num_entries',\n",
       "       'days_till_first_entry', 'both_legs_profited', 'SPY_return',\n",
       "       'successful_pair_trading', 'SPY_Close', 'Close_P1_P1', 'High_P1_P1',\n",
       "       'Low_P1_P1', 'Volume_P1_P1', 'SPY_Close_P1', 'rolling_beta_P1',\n",
       "       'rsi_P1', 'kama_P1', 'adi_P1', 'vpt_P1', 'atr_P1', 'bb_ma_P1', 'adx_P1',\n",
       "       'ema_P1', 'macd_P1', 'dlr_P1', 'daily_returns_P1', '50 Days Average_P1',\n",
       "       '200 Days Average_P1', 'Close_P2_P2', 'High_P2_P2', 'Low_P2_P2',\n",
       "       'Volume_P2_P2', 'SPY_Close_P2', 'rolling_beta_P2', 'rsi_P2', 'kama_P2',\n",
       "       'adi_P2', 'vpt_P2', 'atr_P2', 'bb_ma_P2', 'adx_P2', 'ema_P2', 'macd_P2',\n",
       "       'dlr_P2', 'daily_returns_P2', '50 Days Average_P2',\n",
       "       '200 Days Average_P2', 'PREV_num_entries', 'PREV_pnls', 'DIFF_Close',\n",
       "       'DIFF_High', 'DIFF_Low', 'DIFF_Volume', 'DIFF_rolling_beta', 'DIFF_rsi',\n",
       "       'DIFF_kama', 'DIFF_adi', 'DIFF_vpt', 'DIFF_atr', 'DIFF_bb_ma',\n",
       "       'DIFF_adx', 'DIFF_ema', 'DIFF_macd', 'DIFF_dlr', 'DIFF_daily_returns',\n",
       "       'DIFF_50 Days Average', 'DIFF_200 Days Average',\n",
       "       'DIFF_abs_spread_mean_l20_500'],\n",
       "      dtype='object')"
      ]
     },
     "execution_count": 34,
     "metadata": {},
     "output_type": "execute_result"
    }
   ],
   "source": [
    "df.columns"
   ]
  },
  {
   "cell_type": "code",
   "execution_count": 73,
   "id": "caeebb4e-3e8d-4c45-a201-1a8f390ac801",
   "metadata": {},
   "outputs": [],
   "source": [
    "features = ['Close_P1', 'Close_P2', 'High_P1',\n",
    "       'High_P2', 'Low_P1', 'Low_P2', 'Volume_P1', 'Volume_P2', 'abs_spread',\n",
    "       'same_sector_flag', 'same_sub_industry_flag', 'abs_spread_mean',\n",
    "       'abs_spread_std', 'abs_spread_mean_l20', 'abs_spread_std_l20',\n",
    "       'spread_normed', 'abs_spread_normed_max', 'abs_spread_normed_90th',\n",
    "       'abs_spread_normed_75th', 'abs_spread_normed_median',\n",
    "       'abs_spread_normed_l7_avg', 'abs_spread_normed_l14_avg', 'cos_sim',\n",
    "       'corr_coef_l5', 'corr_coef_l10', 'corr_coef_l15', 'corr_coef_l20',\n",
    "       'corr_coef_l40', 'corr_coef_l60', \n",
    "       'rolling_beta_P1',\n",
    "       'rsi_P1', 'kama_P1', 'adi_P1', 'vpt_P1', 'atr_P1', 'bb_ma_P1', 'adx_P1',\n",
    "       'ema_P1', 'macd_P1', 'dlr_P1', 'daily_returns_P1', '50 Days Average_P1',\n",
    "       '200 Days Average_P1', 'rolling_beta_P2', 'rsi_P2', 'kama_P2',\n",
    "       'adi_P2', 'vpt_P2', 'atr_P2', 'bb_ma_P2', 'adx_P2', 'ema_P2', 'macd_P2',\n",
    "       'dlr_P2', 'daily_returns_P2', '50 Days Average_P2',\n",
    "       '200 Days Average_P2', 'PREV_num_entries', 'PREV_pnls', 'DIFF_Close',\n",
    "       'DIFF_High', 'DIFF_Low', 'DIFF_Volume', 'DIFF_rolling_beta', 'DIFF_rsi',\n",
    "       'DIFF_kama', 'DIFF_adi', 'DIFF_vpt', 'DIFF_atr', 'DIFF_bb_ma',\n",
    "       'DIFF_adx', 'DIFF_ema', 'DIFF_macd', 'DIFF_dlr', 'DIFF_daily_returns',\n",
    "       'DIFF_50 Days Average', 'DIFF_200 Days Average',\n",
    "       'DIFF_abs_spread_mean_l20_500']\n",
    "# features = [\n",
    "#        'same_sector_flag', 'same_sub_industry_flag',\n",
    "#        'spread_normed', 'abs_spread_normed_max', 'abs_spread_normed_90th',\n",
    "#        'abs_spread_normed_75th', 'abs_spread_normed_median',\n",
    "#        'abs_spread_normed_l7_avg', 'abs_spread_normed_l14_avg', 'cos_sim',\n",
    "#        'corr_coef_l5', 'corr_coef_l10', 'corr_coef_l15', 'corr_coef_l20',\n",
    "#        'corr_coef_l40', 'corr_coef_l60', \n",
    "#        'PREV_num_entries', 'PREV_pnls']"
   ]
  },
  {
   "cell_type": "code",
   "execution_count": 74,
   "id": "017a4402",
   "metadata": {},
   "outputs": [
    {
     "name": "stdout",
     "output_type": "stream",
     "text": [
      "(121220, 98)\n",
      "(121220, 98)\n"
     ]
    }
   ],
   "source": [
    "print(df.shape)\n",
    "df.replace([np.inf, -np.inf], np.nan, inplace=True)\n",
    "df = df.dropna(subset=features)\n",
    "print(df.shape)"
   ]
  },
  {
   "cell_type": "code",
   "execution_count": 75,
   "id": "51d046eb",
   "metadata": {},
   "outputs": [
    {
     "name": "stdout",
     "output_type": "stream",
     "text": [
      "2017-05-18 2019-11-27\n"
     ]
    }
   ],
   "source": [
    "print(df.Date.min(),df.Date.max())"
   ]
  },
  {
   "cell_type": "code",
   "execution_count": 76,
   "id": "2a8b0e3c",
   "metadata": {},
   "outputs": [],
   "source": [
    "X = df[features]\n",
    "y = df[label]"
   ]
  },
  {
   "cell_type": "markdown",
   "id": "37edade9",
   "metadata": {},
   "source": [
    "## Train test split"
   ]
  },
  {
   "cell_type": "code",
   "execution_count": 77,
   "id": "4cde1143",
   "metadata": {},
   "outputs": [],
   "source": [
    "X_train, X_test, y_train, y_test = train_test_split(X, y, test_size=0.2, random_state=42,shuffle=False)\n",
    "X_val, X_test, y_val, y_test = train_test_split(X_test, y_test, test_size=0.5, random_state=42,shuffle=False)"
   ]
  },
  {
   "cell_type": "code",
   "execution_count": 78,
   "id": "bdfc0542",
   "metadata": {},
   "outputs": [
    {
     "name": "stdout",
     "output_type": "stream",
     "text": [
      "2019-05-30 2019-08-29\n"
     ]
    }
   ],
   "source": [
    "print(df.loc[X_val.index].Date.min(),df.loc[X_val.index].Date.max())"
   ]
  },
  {
   "cell_type": "code",
   "execution_count": 79,
   "id": "f31a40a3-fb3e-4679-82a2-0debbe14cf26",
   "metadata": {},
   "outputs": [
    {
     "name": "stdout",
     "output_type": "stream",
     "text": [
      "2017-05-18 2019-05-30\n"
     ]
    }
   ],
   "source": [
    "print(df.loc[X_train.index].Date.min(),df.loc[X_train.index].Date.max())"
   ]
  },
  {
   "cell_type": "code",
   "execution_count": 80,
   "id": "b93bf3bf-a35a-4a56-9caf-ffca60ea6969",
   "metadata": {},
   "outputs": [
    {
     "name": "stdout",
     "output_type": "stream",
     "text": [
      "2019-08-29 2019-11-27\n"
     ]
    }
   ],
   "source": [
    "print(df.loc[X_test.index].Date.min(),df.loc[X_test.index].Date.max())"
   ]
  },
  {
   "cell_type": "code",
   "execution_count": 81,
   "id": "b10a6909",
   "metadata": {},
   "outputs": [
    {
     "name": "stdout",
     "output_type": "stream",
     "text": [
      "(96976, 78)\n",
      "(12122, 78)\n",
      "(12122, 78)\n"
     ]
    }
   ],
   "source": [
    "print(X_train.shape)\n",
    "print(X_val.shape)\n",
    "print(X_test.shape)"
   ]
  },
  {
   "cell_type": "code",
   "execution_count": 82,
   "id": "68ecc4e1",
   "metadata": {},
   "outputs": [
    {
     "data": {
      "text/plain": [
       "both_legs_profited\n",
       "False                 83043\n",
       "True                  13933\n",
       "Name: count, dtype: int64"
      ]
     },
     "execution_count": 82,
     "metadata": {},
     "output_type": "execute_result"
    }
   ],
   "source": [
    "y_train.value_counts()"
   ]
  },
  {
   "cell_type": "code",
   "execution_count": 83,
   "id": "2b2bc491",
   "metadata": {},
   "outputs": [
    {
     "data": {
      "text/plain": [
       "both_legs_profited\n",
       "False                 10249\n",
       "True                   1873\n",
       "Name: count, dtype: int64"
      ]
     },
     "execution_count": 83,
     "metadata": {},
     "output_type": "execute_result"
    }
   ],
   "source": [
    "y_val.value_counts()"
   ]
  },
  {
   "cell_type": "code",
   "execution_count": 84,
   "id": "98f9860e",
   "metadata": {},
   "outputs": [
    {
     "data": {
      "text/plain": [
       "both_legs_profited\n",
       "False                 10579\n",
       "True                   1543\n",
       "Name: count, dtype: int64"
      ]
     },
     "execution_count": 84,
     "metadata": {},
     "output_type": "execute_result"
    }
   ],
   "source": [
    "y_test.value_counts()"
   ]
  },
  {
   "cell_type": "code",
   "execution_count": 85,
   "id": "4780f13a-4dfd-4463-a239-1c0ffee4bf25",
   "metadata": {},
   "outputs": [
    {
     "data": {
      "text/plain": [
       "both_legs_profited   0.127\n",
       "dtype: float64"
      ]
     },
     "execution_count": 85,
     "metadata": {},
     "output_type": "execute_result"
    }
   ],
   "source": [
    "y_test.mean()"
   ]
  },
  {
   "cell_type": "code",
   "execution_count": 86,
   "id": "ef8d5e69",
   "metadata": {},
   "outputs": [],
   "source": [
    "undersample = RandomUnderSampler(sampling_strategy='majority')\n",
    "X_train, y_train = undersample.fit_resample(X_train, y_train)"
   ]
  },
  {
   "cell_type": "markdown",
   "id": "439ff5b1-a614-4301-b656-be3fe20879a0",
   "metadata": {},
   "source": [
    "## XGBoost"
   ]
  },
  {
   "cell_type": "code",
   "execution_count": 87,
   "id": "a853398b-133a-4ec3-a931-d7904a608730",
   "metadata": {},
   "outputs": [
    {
     "data": {
      "text/html": [
       "<style>#sk-container-id-3 {\n",
       "  /* Definition of color scheme common for light and dark mode */\n",
       "  --sklearn-color-text: black;\n",
       "  --sklearn-color-line: gray;\n",
       "  /* Definition of color scheme for unfitted estimators */\n",
       "  --sklearn-color-unfitted-level-0: #fff5e6;\n",
       "  --sklearn-color-unfitted-level-1: #f6e4d2;\n",
       "  --sklearn-color-unfitted-level-2: #ffe0b3;\n",
       "  --sklearn-color-unfitted-level-3: chocolate;\n",
       "  /* Definition of color scheme for fitted estimators */\n",
       "  --sklearn-color-fitted-level-0: #f0f8ff;\n",
       "  --sklearn-color-fitted-level-1: #d4ebff;\n",
       "  --sklearn-color-fitted-level-2: #b3dbfd;\n",
       "  --sklearn-color-fitted-level-3: cornflowerblue;\n",
       "\n",
       "  /* Specific color for light theme */\n",
       "  --sklearn-color-text-on-default-background: var(--sg-text-color, var(--theme-code-foreground, var(--jp-content-font-color1, black)));\n",
       "  --sklearn-color-background: var(--sg-background-color, var(--theme-background, var(--jp-layout-color0, white)));\n",
       "  --sklearn-color-border-box: var(--sg-text-color, var(--theme-code-foreground, var(--jp-content-font-color1, black)));\n",
       "  --sklearn-color-icon: #696969;\n",
       "\n",
       "  @media (prefers-color-scheme: dark) {\n",
       "    /* Redefinition of color scheme for dark theme */\n",
       "    --sklearn-color-text-on-default-background: var(--sg-text-color, var(--theme-code-foreground, var(--jp-content-font-color1, white)));\n",
       "    --sklearn-color-background: var(--sg-background-color, var(--theme-background, var(--jp-layout-color0, #111)));\n",
       "    --sklearn-color-border-box: var(--sg-text-color, var(--theme-code-foreground, var(--jp-content-font-color1, white)));\n",
       "    --sklearn-color-icon: #878787;\n",
       "  }\n",
       "}\n",
       "\n",
       "#sk-container-id-3 {\n",
       "  color: var(--sklearn-color-text);\n",
       "}\n",
       "\n",
       "#sk-container-id-3 pre {\n",
       "  padding: 0;\n",
       "}\n",
       "\n",
       "#sk-container-id-3 input.sk-hidden--visually {\n",
       "  border: 0;\n",
       "  clip: rect(1px 1px 1px 1px);\n",
       "  clip: rect(1px, 1px, 1px, 1px);\n",
       "  height: 1px;\n",
       "  margin: -1px;\n",
       "  overflow: hidden;\n",
       "  padding: 0;\n",
       "  position: absolute;\n",
       "  width: 1px;\n",
       "}\n",
       "\n",
       "#sk-container-id-3 div.sk-dashed-wrapped {\n",
       "  border: 1px dashed var(--sklearn-color-line);\n",
       "  margin: 0 0.4em 0.5em 0.4em;\n",
       "  box-sizing: border-box;\n",
       "  padding-bottom: 0.4em;\n",
       "  background-color: var(--sklearn-color-background);\n",
       "}\n",
       "\n",
       "#sk-container-id-3 div.sk-container {\n",
       "  /* jupyter's `normalize.less` sets `[hidden] { display: none; }`\n",
       "     but bootstrap.min.css set `[hidden] { display: none !important; }`\n",
       "     so we also need the `!important` here to be able to override the\n",
       "     default hidden behavior on the sphinx rendered scikit-learn.org.\n",
       "     See: https://github.com/scikit-learn/scikit-learn/issues/21755 */\n",
       "  display: inline-block !important;\n",
       "  position: relative;\n",
       "}\n",
       "\n",
       "#sk-container-id-3 div.sk-text-repr-fallback {\n",
       "  display: none;\n",
       "}\n",
       "\n",
       "div.sk-parallel-item,\n",
       "div.sk-serial,\n",
       "div.sk-item {\n",
       "  /* draw centered vertical line to link estimators */\n",
       "  background-image: linear-gradient(var(--sklearn-color-text-on-default-background), var(--sklearn-color-text-on-default-background));\n",
       "  background-size: 2px 100%;\n",
       "  background-repeat: no-repeat;\n",
       "  background-position: center center;\n",
       "}\n",
       "\n",
       "/* Parallel-specific style estimator block */\n",
       "\n",
       "#sk-container-id-3 div.sk-parallel-item::after {\n",
       "  content: \"\";\n",
       "  width: 100%;\n",
       "  border-bottom: 2px solid var(--sklearn-color-text-on-default-background);\n",
       "  flex-grow: 1;\n",
       "}\n",
       "\n",
       "#sk-container-id-3 div.sk-parallel {\n",
       "  display: flex;\n",
       "  align-items: stretch;\n",
       "  justify-content: center;\n",
       "  background-color: var(--sklearn-color-background);\n",
       "  position: relative;\n",
       "}\n",
       "\n",
       "#sk-container-id-3 div.sk-parallel-item {\n",
       "  display: flex;\n",
       "  flex-direction: column;\n",
       "}\n",
       "\n",
       "#sk-container-id-3 div.sk-parallel-item:first-child::after {\n",
       "  align-self: flex-end;\n",
       "  width: 50%;\n",
       "}\n",
       "\n",
       "#sk-container-id-3 div.sk-parallel-item:last-child::after {\n",
       "  align-self: flex-start;\n",
       "  width: 50%;\n",
       "}\n",
       "\n",
       "#sk-container-id-3 div.sk-parallel-item:only-child::after {\n",
       "  width: 0;\n",
       "}\n",
       "\n",
       "/* Serial-specific style estimator block */\n",
       "\n",
       "#sk-container-id-3 div.sk-serial {\n",
       "  display: flex;\n",
       "  flex-direction: column;\n",
       "  align-items: center;\n",
       "  background-color: var(--sklearn-color-background);\n",
       "  padding-right: 1em;\n",
       "  padding-left: 1em;\n",
       "}\n",
       "\n",
       "\n",
       "/* Toggleable style: style used for estimator/Pipeline/ColumnTransformer box that is\n",
       "clickable and can be expanded/collapsed.\n",
       "- Pipeline and ColumnTransformer use this feature and define the default style\n",
       "- Estimators will overwrite some part of the style using the `sk-estimator` class\n",
       "*/\n",
       "\n",
       "/* Pipeline and ColumnTransformer style (default) */\n",
       "\n",
       "#sk-container-id-3 div.sk-toggleable {\n",
       "  /* Default theme specific background. It is overwritten whether we have a\n",
       "  specific estimator or a Pipeline/ColumnTransformer */\n",
       "  background-color: var(--sklearn-color-background);\n",
       "}\n",
       "\n",
       "/* Toggleable label */\n",
       "#sk-container-id-3 label.sk-toggleable__label {\n",
       "  cursor: pointer;\n",
       "  display: block;\n",
       "  width: 100%;\n",
       "  margin-bottom: 0;\n",
       "  padding: 0.5em;\n",
       "  box-sizing: border-box;\n",
       "  text-align: center;\n",
       "}\n",
       "\n",
       "#sk-container-id-3 label.sk-toggleable__label-arrow:before {\n",
       "  /* Arrow on the left of the label */\n",
       "  content: \"▸\";\n",
       "  float: left;\n",
       "  margin-right: 0.25em;\n",
       "  color: var(--sklearn-color-icon);\n",
       "}\n",
       "\n",
       "#sk-container-id-3 label.sk-toggleable__label-arrow:hover:before {\n",
       "  color: var(--sklearn-color-text);\n",
       "}\n",
       "\n",
       "/* Toggleable content - dropdown */\n",
       "\n",
       "#sk-container-id-3 div.sk-toggleable__content {\n",
       "  max-height: 0;\n",
       "  max-width: 0;\n",
       "  overflow: hidden;\n",
       "  text-align: left;\n",
       "  /* unfitted */\n",
       "  background-color: var(--sklearn-color-unfitted-level-0);\n",
       "}\n",
       "\n",
       "#sk-container-id-3 div.sk-toggleable__content.fitted {\n",
       "  /* fitted */\n",
       "  background-color: var(--sklearn-color-fitted-level-0);\n",
       "}\n",
       "\n",
       "#sk-container-id-3 div.sk-toggleable__content pre {\n",
       "  margin: 0.2em;\n",
       "  border-radius: 0.25em;\n",
       "  color: var(--sklearn-color-text);\n",
       "  /* unfitted */\n",
       "  background-color: var(--sklearn-color-unfitted-level-0);\n",
       "}\n",
       "\n",
       "#sk-container-id-3 div.sk-toggleable__content.fitted pre {\n",
       "  /* unfitted */\n",
       "  background-color: var(--sklearn-color-fitted-level-0);\n",
       "}\n",
       "\n",
       "#sk-container-id-3 input.sk-toggleable__control:checked~div.sk-toggleable__content {\n",
       "  /* Expand drop-down */\n",
       "  max-height: 200px;\n",
       "  max-width: 100%;\n",
       "  overflow: auto;\n",
       "}\n",
       "\n",
       "#sk-container-id-3 input.sk-toggleable__control:checked~label.sk-toggleable__label-arrow:before {\n",
       "  content: \"▾\";\n",
       "}\n",
       "\n",
       "/* Pipeline/ColumnTransformer-specific style */\n",
       "\n",
       "#sk-container-id-3 div.sk-label input.sk-toggleable__control:checked~label.sk-toggleable__label {\n",
       "  color: var(--sklearn-color-text);\n",
       "  background-color: var(--sklearn-color-unfitted-level-2);\n",
       "}\n",
       "\n",
       "#sk-container-id-3 div.sk-label.fitted input.sk-toggleable__control:checked~label.sk-toggleable__label {\n",
       "  background-color: var(--sklearn-color-fitted-level-2);\n",
       "}\n",
       "\n",
       "/* Estimator-specific style */\n",
       "\n",
       "/* Colorize estimator box */\n",
       "#sk-container-id-3 div.sk-estimator input.sk-toggleable__control:checked~label.sk-toggleable__label {\n",
       "  /* unfitted */\n",
       "  background-color: var(--sklearn-color-unfitted-level-2);\n",
       "}\n",
       "\n",
       "#sk-container-id-3 div.sk-estimator.fitted input.sk-toggleable__control:checked~label.sk-toggleable__label {\n",
       "  /* fitted */\n",
       "  background-color: var(--sklearn-color-fitted-level-2);\n",
       "}\n",
       "\n",
       "#sk-container-id-3 div.sk-label label.sk-toggleable__label,\n",
       "#sk-container-id-3 div.sk-label label {\n",
       "  /* The background is the default theme color */\n",
       "  color: var(--sklearn-color-text-on-default-background);\n",
       "}\n",
       "\n",
       "/* On hover, darken the color of the background */\n",
       "#sk-container-id-3 div.sk-label:hover label.sk-toggleable__label {\n",
       "  color: var(--sklearn-color-text);\n",
       "  background-color: var(--sklearn-color-unfitted-level-2);\n",
       "}\n",
       "\n",
       "/* Label box, darken color on hover, fitted */\n",
       "#sk-container-id-3 div.sk-label.fitted:hover label.sk-toggleable__label.fitted {\n",
       "  color: var(--sklearn-color-text);\n",
       "  background-color: var(--sklearn-color-fitted-level-2);\n",
       "}\n",
       "\n",
       "/* Estimator label */\n",
       "\n",
       "#sk-container-id-3 div.sk-label label {\n",
       "  font-family: monospace;\n",
       "  font-weight: bold;\n",
       "  display: inline-block;\n",
       "  line-height: 1.2em;\n",
       "}\n",
       "\n",
       "#sk-container-id-3 div.sk-label-container {\n",
       "  text-align: center;\n",
       "}\n",
       "\n",
       "/* Estimator-specific */\n",
       "#sk-container-id-3 div.sk-estimator {\n",
       "  font-family: monospace;\n",
       "  border: 1px dotted var(--sklearn-color-border-box);\n",
       "  border-radius: 0.25em;\n",
       "  box-sizing: border-box;\n",
       "  margin-bottom: 0.5em;\n",
       "  /* unfitted */\n",
       "  background-color: var(--sklearn-color-unfitted-level-0);\n",
       "}\n",
       "\n",
       "#sk-container-id-3 div.sk-estimator.fitted {\n",
       "  /* fitted */\n",
       "  background-color: var(--sklearn-color-fitted-level-0);\n",
       "}\n",
       "\n",
       "/* on hover */\n",
       "#sk-container-id-3 div.sk-estimator:hover {\n",
       "  /* unfitted */\n",
       "  background-color: var(--sklearn-color-unfitted-level-2);\n",
       "}\n",
       "\n",
       "#sk-container-id-3 div.sk-estimator.fitted:hover {\n",
       "  /* fitted */\n",
       "  background-color: var(--sklearn-color-fitted-level-2);\n",
       "}\n",
       "\n",
       "/* Specification for estimator info (e.g. \"i\" and \"?\") */\n",
       "\n",
       "/* Common style for \"i\" and \"?\" */\n",
       "\n",
       ".sk-estimator-doc-link,\n",
       "a:link.sk-estimator-doc-link,\n",
       "a:visited.sk-estimator-doc-link {\n",
       "  float: right;\n",
       "  font-size: smaller;\n",
       "  line-height: 1em;\n",
       "  font-family: monospace;\n",
       "  background-color: var(--sklearn-color-background);\n",
       "  border-radius: 1em;\n",
       "  height: 1em;\n",
       "  width: 1em;\n",
       "  text-decoration: none !important;\n",
       "  margin-left: 1ex;\n",
       "  /* unfitted */\n",
       "  border: var(--sklearn-color-unfitted-level-1) 1pt solid;\n",
       "  color: var(--sklearn-color-unfitted-level-1);\n",
       "}\n",
       "\n",
       ".sk-estimator-doc-link.fitted,\n",
       "a:link.sk-estimator-doc-link.fitted,\n",
       "a:visited.sk-estimator-doc-link.fitted {\n",
       "  /* fitted */\n",
       "  border: var(--sklearn-color-fitted-level-1) 1pt solid;\n",
       "  color: var(--sklearn-color-fitted-level-1);\n",
       "}\n",
       "\n",
       "/* On hover */\n",
       "div.sk-estimator:hover .sk-estimator-doc-link:hover,\n",
       ".sk-estimator-doc-link:hover,\n",
       "div.sk-label-container:hover .sk-estimator-doc-link:hover,\n",
       ".sk-estimator-doc-link:hover {\n",
       "  /* unfitted */\n",
       "  background-color: var(--sklearn-color-unfitted-level-3);\n",
       "  color: var(--sklearn-color-background);\n",
       "  text-decoration: none;\n",
       "}\n",
       "\n",
       "div.sk-estimator.fitted:hover .sk-estimator-doc-link.fitted:hover,\n",
       ".sk-estimator-doc-link.fitted:hover,\n",
       "div.sk-label-container:hover .sk-estimator-doc-link.fitted:hover,\n",
       ".sk-estimator-doc-link.fitted:hover {\n",
       "  /* fitted */\n",
       "  background-color: var(--sklearn-color-fitted-level-3);\n",
       "  color: var(--sklearn-color-background);\n",
       "  text-decoration: none;\n",
       "}\n",
       "\n",
       "/* Span, style for the box shown on hovering the info icon */\n",
       ".sk-estimator-doc-link span {\n",
       "  display: none;\n",
       "  z-index: 9999;\n",
       "  position: relative;\n",
       "  font-weight: normal;\n",
       "  right: .2ex;\n",
       "  padding: .5ex;\n",
       "  margin: .5ex;\n",
       "  width: min-content;\n",
       "  min-width: 20ex;\n",
       "  max-width: 50ex;\n",
       "  color: var(--sklearn-color-text);\n",
       "  box-shadow: 2pt 2pt 4pt #999;\n",
       "  /* unfitted */\n",
       "  background: var(--sklearn-color-unfitted-level-0);\n",
       "  border: .5pt solid var(--sklearn-color-unfitted-level-3);\n",
       "}\n",
       "\n",
       ".sk-estimator-doc-link.fitted span {\n",
       "  /* fitted */\n",
       "  background: var(--sklearn-color-fitted-level-0);\n",
       "  border: var(--sklearn-color-fitted-level-3);\n",
       "}\n",
       "\n",
       ".sk-estimator-doc-link:hover span {\n",
       "  display: block;\n",
       "}\n",
       "\n",
       "/* \"?\"-specific style due to the `<a>` HTML tag */\n",
       "\n",
       "#sk-container-id-3 a.estimator_doc_link {\n",
       "  float: right;\n",
       "  font-size: 1rem;\n",
       "  line-height: 1em;\n",
       "  font-family: monospace;\n",
       "  background-color: var(--sklearn-color-background);\n",
       "  border-radius: 1rem;\n",
       "  height: 1rem;\n",
       "  width: 1rem;\n",
       "  text-decoration: none;\n",
       "  /* unfitted */\n",
       "  color: var(--sklearn-color-unfitted-level-1);\n",
       "  border: var(--sklearn-color-unfitted-level-1) 1pt solid;\n",
       "}\n",
       "\n",
       "#sk-container-id-3 a.estimator_doc_link.fitted {\n",
       "  /* fitted */\n",
       "  border: var(--sklearn-color-fitted-level-1) 1pt solid;\n",
       "  color: var(--sklearn-color-fitted-level-1);\n",
       "}\n",
       "\n",
       "/* On hover */\n",
       "#sk-container-id-3 a.estimator_doc_link:hover {\n",
       "  /* unfitted */\n",
       "  background-color: var(--sklearn-color-unfitted-level-3);\n",
       "  color: var(--sklearn-color-background);\n",
       "  text-decoration: none;\n",
       "}\n",
       "\n",
       "#sk-container-id-3 a.estimator_doc_link.fitted:hover {\n",
       "  /* fitted */\n",
       "  background-color: var(--sklearn-color-fitted-level-3);\n",
       "}\n",
       "</style><div id=\"sk-container-id-3\" class=\"sk-top-container\"><div class=\"sk-text-repr-fallback\"><pre>XGBClassifier(base_score=None, booster=None, callbacks=None,\n",
       "              colsample_bylevel=None, colsample_bynode=None,\n",
       "              colsample_bytree=None, device=None, early_stopping_rounds=None,\n",
       "              enable_categorical=False, eval_metric=None, feature_types=None,\n",
       "              gamma=None, grow_policy=None, importance_type=None,\n",
       "              interaction_constraints=None, learning_rate=0.3, max_bin=None,\n",
       "              max_cat_threshold=None, max_cat_to_onehot=None,\n",
       "              max_delta_step=None, max_depth=6, max_leaves=None,\n",
       "              min_child_weight=None, missing=nan, monotone_constraints=None,\n",
       "              multi_strategy=None, n_estimators=1000, n_jobs=None,\n",
       "              num_parallel_tree=None, random_state=None, ...)</pre><b>In a Jupyter environment, please rerun this cell to show the HTML representation or trust the notebook. <br />On GitHub, the HTML representation is unable to render, please try loading this page with nbviewer.org.</b></div><div class=\"sk-container\" hidden><div class=\"sk-item\"><div class=\"sk-estimator fitted sk-toggleable\"><input class=\"sk-toggleable__control sk-hidden--visually\" id=\"sk-estimator-id-3\" type=\"checkbox\" checked><label for=\"sk-estimator-id-3\" class=\"sk-toggleable__label fitted sk-toggleable__label-arrow fitted\">&nbsp;XGBClassifier<span class=\"sk-estimator-doc-link fitted\">i<span>Fitted</span></span></label><div class=\"sk-toggleable__content fitted\"><pre>XGBClassifier(base_score=None, booster=None, callbacks=None,\n",
       "              colsample_bylevel=None, colsample_bynode=None,\n",
       "              colsample_bytree=None, device=None, early_stopping_rounds=None,\n",
       "              enable_categorical=False, eval_metric=None, feature_types=None,\n",
       "              gamma=None, grow_policy=None, importance_type=None,\n",
       "              interaction_constraints=None, learning_rate=0.3, max_bin=None,\n",
       "              max_cat_threshold=None, max_cat_to_onehot=None,\n",
       "              max_delta_step=None, max_depth=6, max_leaves=None,\n",
       "              min_child_weight=None, missing=nan, monotone_constraints=None,\n",
       "              multi_strategy=None, n_estimators=1000, n_jobs=None,\n",
       "              num_parallel_tree=None, random_state=None, ...)</pre></div> </div></div></div></div>"
      ],
      "text/plain": [
       "XGBClassifier(base_score=None, booster=None, callbacks=None,\n",
       "              colsample_bylevel=None, colsample_bynode=None,\n",
       "              colsample_bytree=None, device=None, early_stopping_rounds=None,\n",
       "              enable_categorical=False, eval_metric=None, feature_types=None,\n",
       "              gamma=None, grow_policy=None, importance_type=None,\n",
       "              interaction_constraints=None, learning_rate=0.3, max_bin=None,\n",
       "              max_cat_threshold=None, max_cat_to_onehot=None,\n",
       "              max_delta_step=None, max_depth=6, max_leaves=None,\n",
       "              min_child_weight=None, missing=nan, monotone_constraints=None,\n",
       "              multi_strategy=None, n_estimators=1000, n_jobs=None,\n",
       "              num_parallel_tree=None, random_state=None, ...)"
      ]
     },
     "execution_count": 87,
     "metadata": {},
     "output_type": "execute_result"
    }
   ],
   "source": [
    "scaler = StandardScaler().fit(X_train)\n",
    "scaled_X_train = scaler.transform(X_train)\n",
    "scaled_X_test = scaler.transform(X_test)\n",
    "\n",
    "xgb = XGBClassifier(n_estimators=1000, max_depth=6, learning_rate=0.3, objective='binary:logistic')\n",
    "xgb.fit(scaled_X_train, y_train)"
   ]
  },
  {
   "cell_type": "code",
   "execution_count": 88,
   "id": "e54578d1-b135-430b-a968-5663669c0fed",
   "metadata": {},
   "outputs": [
    {
     "data": {
      "text/html": [
       "<div>\n",
       "<style scoped>\n",
       "    .dataframe tbody tr th:only-of-type {\n",
       "        vertical-align: middle;\n",
       "    }\n",
       "\n",
       "    .dataframe tbody tr th {\n",
       "        vertical-align: top;\n",
       "    }\n",
       "\n",
       "    .dataframe thead th {\n",
       "        text-align: right;\n",
       "    }\n",
       "</style>\n",
       "<table border=\"1\" class=\"dataframe\">\n",
       "  <thead>\n",
       "    <tr style=\"text-align: right;\">\n",
       "      <th></th>\n",
       "      <th>features</th>\n",
       "      <th>importances</th>\n",
       "    </tr>\n",
       "  </thead>\n",
       "  <tbody>\n",
       "    <tr>\n",
       "      <th>10</th>\n",
       "      <td>same_sub_industry_flag</td>\n",
       "      <td>0.040</td>\n",
       "    </tr>\n",
       "    <tr>\n",
       "      <th>75</th>\n",
       "      <td>DIFF_50 Days Average</td>\n",
       "      <td>0.030</td>\n",
       "    </tr>\n",
       "    <tr>\n",
       "      <th>9</th>\n",
       "      <td>same_sector_flag</td>\n",
       "      <td>0.024</td>\n",
       "    </tr>\n",
       "    <tr>\n",
       "      <th>42</th>\n",
       "      <td>200 Days Average_P1</td>\n",
       "      <td>0.022</td>\n",
       "    </tr>\n",
       "    <tr>\n",
       "      <th>15</th>\n",
       "      <td>spread_normed</td>\n",
       "      <td>0.020</td>\n",
       "    </tr>\n",
       "  </tbody>\n",
       "</table>\n",
       "</div>"
      ],
      "text/plain": [
       "                  features  importances\n",
       "10  same_sub_industry_flag        0.040\n",
       "75    DIFF_50 Days Average        0.030\n",
       "9         same_sector_flag        0.024\n",
       "42     200 Days Average_P1        0.022\n",
       "15           spread_normed        0.020"
      ]
     },
     "execution_count": 88,
     "metadata": {},
     "output_type": "execute_result"
    }
   ],
   "source": [
    "# Plot feature importances\n",
    "importances = xgb.feature_importances_\n",
    "feature_imp_tb_xgb = pd.DataFrame()\n",
    "feature_imp_tb_xgb['features'] = features\n",
    "feature_imp_tb_xgb['importances'] = importances\n",
    "feature_imp_tb_xgb.sort_values('importances', ascending=False).head(5)"
   ]
  },
  {
   "cell_type": "markdown",
   "id": "2a6872b1-7851-4bc8-9d45-6f412a209113",
   "metadata": {},
   "source": [
    "### Traditional Evaluation"
   ]
  },
  {
   "cell_type": "code",
   "execution_count": 89,
   "id": "53b98dd7-80d7-4f6a-b951-3ff8f8fc025b",
   "metadata": {},
   "outputs": [],
   "source": [
    "# Predict the labels for the test set\n",
    "y_pred = xgb.predict(scaled_X_test)\n",
    "y_pred_proba = [x[1] for x in xgb.predict_proba(scaled_X_test)]"
   ]
  },
  {
   "cell_type": "code",
   "execution_count": 90,
   "id": "79be32d8-2125-405f-96e1-46867f29517e",
   "metadata": {},
   "outputs": [
    {
     "name": "stdout",
     "output_type": "stream",
     "text": [
      "              precision    recall  f1-score   support\n",
      "\n",
      "       False       0.88      0.88      0.88     10579\n",
      "        True       0.20      0.21      0.21      1543\n",
      "\n",
      "    accuracy                           0.79     12122\n",
      "   macro avg       0.54      0.54      0.54     12122\n",
      "weighted avg       0.80      0.79      0.80     12122\n",
      "\n"
     ]
    },
    {
     "data": {
      "text/plain": [
       "<sklearn.metrics._plot.confusion_matrix.ConfusionMatrixDisplay at 0x16ccd10d0>"
      ]
     },
     "execution_count": 90,
     "metadata": {},
     "output_type": "execute_result"
    },
    {
     "data": {
      "image/png": "[encoded data removed]",
      "text/plain": [
       "<Figure size 640x480 with 2 Axes>"
      ]
     },
     "metadata": {},
     "output_type": "display_data"
    }
   ],
   "source": [
    "# Calculate precision, recall, and F1 scoreb\n",
    "report = classification_report(y_test, y_pred)\n",
    "print(report)\n",
    "\n",
    "cm = confusion_matrix(y_test, y_pred,normalize='true')\n",
    "disp = ConfusionMatrixDisplay(confusion_matrix=cm)\n",
    "disp.plot()"
   ]
  },
  {
   "cell_type": "markdown",
   "id": "faad759d-597a-4063-8c51-e29a49b3082e",
   "metadata": {},
   "source": [
    "### Evaluate based on precision at k"
   ]
  },
  {
   "cell_type": "code",
   "execution_count": null,
   "id": "086abebb-3f69-4aab-b1ec-2939e3c6a333",
   "metadata": {},
   "outputs": [],
   "source": []
  },
  {
   "cell_type": "code",
   "execution_count": 102,
   "id": "735eb714-46a1-4148-8403-f7319b829de3",
   "metadata": {},
   "outputs": [
    {
     "name": "stderr",
     "output_type": "stream",
     "text": [
      "/var/folders/f4/28wskrvx4yz7gqswwx15x1bh0000gn/T/ipykernel_55472/2561858097.py:3: DeprecationWarning: DataFrameGroupBy.apply operated on the grouping columns. This behavior is deprecated, and in a future version of pandas the grouping columns will be excluded from the operation. Either pass `include_groups=False` to exclude the groupings or explicitly select the grouping columns after groupby to silence this warning.\n",
      "  agg_y_test = y_test.groupby('Date').apply(lambda x: x.nlargest(5, 'predicted_proba')).reset_index(drop=True)\n"
     ]
    },
    {
     "data": {
      "text/plain": [
       "0.703125"
      ]
     },
     "execution_count": 102,
     "metadata": {},
     "output_type": "execute_result"
    }
   ],
   "source": [
    "y_test['predicted_proba'] = y_pred_proba\n",
    "y_test['Date'] = df.loc[y_test.index]['Date']\n",
    "agg_y_test = y_test.groupby('Date').apply(lambda x: x.nlargest(5, 'predicted_proba')).reset_index(drop=True)\n",
    "final_agg = agg_y_test.groupby('Date').max('both_legs_profited').reset_index(drop=True)\n",
    "final_agg.both_legs_profited.mean()"
   ]
  },
  {
   "cell_type": "markdown",
   "id": "b5888e61",
   "metadata": {},
   "source": [
    "## Logistic Regression"
   ]
  },
  {
   "cell_type": "code",
   "execution_count": null,
   "id": "d7b12def",
   "metadata": {},
   "outputs": [],
   "source": [
    "scaler = StandardScaler().fit(X_train.drop(categorical_features,axis=1))\n",
    "scaled_X_train = scaler.transform(X_train.drop(categorical_features,axis=1))\n",
    "scaled_X_val = scaler.transform(X_val.drop(categorical_features,axis=1))\n",
    "scaled_X_test = scaler.transform(X_test.drop(categorical_features,axis=1))"
   ]
  },
  {
   "cell_type": "code",
   "execution_count": null,
   "id": "e7cf5e93",
   "metadata": {},
   "outputs": [],
   "source": [
    "y.value_counts()"
   ]
  },
  {
   "cell_type": "code",
   "execution_count": null,
   "id": "1ef9aee2",
   "metadata": {},
   "outputs": [],
   "source": [
    "clf = LogisticRegression()\n",
    "\n",
    "# Train the model using the training sets\n",
    "clf.fit(scaled_X_train, y_train)\n",
    "\n",
    "# Make predictions using the testing set\n",
    "lr_preds = clf.predict(scaled_X_test)\n",
    "\n",
    "lr_pred_proba = clf.predict_proba(scaled_X_test)\n",
    "lr_pred_proba = np.array([x[1] for x in lr_pred_proba])"
   ]
  },
  {
   "cell_type": "code",
   "execution_count": null,
   "id": "928723c3",
   "metadata": {},
   "outputs": [],
   "source": [
    "print(f1_score(y_test, lr_preds, average='weighted'))\n",
    "print(f1_score(y_test, lr_preds, average='micro'))\n",
    "print(f1_score(y_test, lr_preds, average='macro'))\n",
    "\n",
    "print(precision_score(y_test, lr_preds))\n",
    "print(recall_score(y_test, lr_preds))"
   ]
  },
  {
   "cell_type": "code",
   "execution_count": null,
   "id": "92529ea9-daeb-4bb9-919e-5e7bf3c6660f",
   "metadata": {},
   "outputs": [],
   "source": [
    "np.mean(lr_preds)"
   ]
  },
  {
   "cell_type": "markdown",
   "id": "53b1c14a",
   "metadata": {},
   "source": [
    "## Confusion Matrix"
   ]
  },
  {
   "cell_type": "code",
   "execution_count": null,
   "id": "a6a91ce1",
   "metadata": {},
   "outputs": [],
   "source": [
    "cm = confusion_matrix(y_test, lr_preds, labels=clf.classes_,normalize='true')"
   ]
  },
  {
   "cell_type": "code",
   "execution_count": null,
   "id": "4ac79104",
   "metadata": {},
   "outputs": [],
   "source": [
    "disp = ConfusionMatrixDisplay(confusion_matrix=cm, display_labels=clf.classes_)\n",
    "disp.plot()"
   ]
  },
  {
   "cell_type": "markdown",
   "id": "97fe1a97",
   "metadata": {},
   "source": [
    "## Feature Importance"
   ]
  },
  {
   "cell_type": "code",
   "execution_count": null,
   "id": "1b4d16ee",
   "metadata": {},
   "outputs": [],
   "source": [
    "pi = permutation_importance(clf,scaled_X_test,y_test)\n",
    "\n",
    "coefs = pd.DataFrame(\n",
    "    pi['importances_mean'], columns=[\"Coefficients\"], index=X_train.drop(categorical_features,axis=1).columns\n",
    ")\n",
    "\n",
    "coefs.plot(kind=\"barh\", figsize=(20, 7))\n",
    "plt.title(\"Logistic Regression model\")\n",
    "plt.axvline(x=0, color=\".5\")\n",
    "plt.subplots_adjust(left=0.3)"
   ]
  },
  {
   "cell_type": "markdown",
   "id": "589358d0",
   "metadata": {},
   "source": [
    "## GBM"
   ]
  },
  {
   "cell_type": "markdown",
   "id": "a75c8f68",
   "metadata": {},
   "source": [
    "### Optuna"
   ]
  },
  {
   "cell_type": "code",
   "execution_count": null,
   "id": "ea0ad31a",
   "metadata": {},
   "outputs": [],
   "source": [
    "def objective(trial):\n",
    "    params = {\n",
    "        'boosting':'dart',\n",
    "        \"objective\": \"binary\",\n",
    "#         \"metric\": \"accuracy\",\n",
    "        'class_weight':'balanced',\n",
    "        \"n_estimators\": 300,\n",
    "        \"verbosity\": -1,\n",
    "        \"bagging_freq\": 1,\n",
    "        'max_bin':trial.suggest_int('max_bin',64,1024),\n",
    "        'max_depth':trial.suggest_int('max_depth',4,20),\n",
    "\n",
    "        \"learning_rate\": trial.suggest_float(\"learning_rate\", 1e-4, 0.2, log=True),\n",
    "        \"num_leaves\": trial.suggest_int(\"num_leaves\", 2, 3000),\n",
    "        \"subsample\": trial.suggest_float(\"subsample\", 0.05, 1.0),\n",
    "        \"colsample_bytree\": trial.suggest_float(\"colsample_bytree\", 0.05, 1.0),\n",
    "        \"min_data_in_leaf\": trial.suggest_int(\"min_data_in_leaf\", 1, 1000),\n",
    "    }\n",
    "\n",
    "    model = lgb.LGBMClassifier(**params)\n",
    "    model.fit(X_train.drop(categorical_features,axis=1),y_train)\n",
    "    predictions = model.predict(X_val.drop(categorical_features,axis=1))\n",
    "    f1 = f1_score(y_val, predictions, average='weighted')\n",
    "    return -1*f1"
   ]
  },
  {
   "cell_type": "code",
   "execution_count": null,
   "id": "94bcbfe6",
   "metadata": {},
   "outputs": [],
   "source": [
    "study = optuna.create_study(direction='minimize')\n",
    "study.optimize(objective, n_trials=30)"
   ]
  },
  {
   "cell_type": "code",
   "execution_count": null,
   "id": "72252d00",
   "metadata": {},
   "outputs": [],
   "source": [
    "print('Best hyperparameters:', study.best_params)\n",
    "print('Best F1:', study.best_value*(-1))"
   ]
  },
  {
   "cell_type": "code",
   "execution_count": null,
   "id": "f1974e05",
   "metadata": {},
   "outputs": [],
   "source": [
    "hyper_params = study.best_params"
   ]
  },
  {
   "cell_type": "code",
   "execution_count": null,
   "id": "b427a6a1",
   "metadata": {},
   "outputs": [],
   "source": [
    "y_train.value_counts()/len(y_train)"
   ]
  },
  {
   "cell_type": "code",
   "execution_count": null,
   "id": "b60a2c02",
   "metadata": {},
   "outputs": [],
   "source": [
    "gbm = lgb.LGBMClassifier(**hyper_params)\n",
    "callbacks = [\\\n",
    "#             lgb.early_stopping(stopping_rounds=10, verbose=1,min_delta=0.001,first_metric_only=False), \n",
    "             lgb.log_evaluation(period=1)]\n",
    "\n",
    "gbm.fit(X_train.drop(categorical_features,axis=1),y_train, \n",
    "        eval_set=[(X_val.drop(categorical_features,axis=1), y_val)],\n",
    "        eval_metric='accuracy',\n",
    "        callbacks=callbacks,\n",
    "        feature_name = [f for f in features if f not in categorical_features],\n",
    "#         categorical_feature=categorical_features\n",
    "       )"
   ]
  },
  {
   "cell_type": "code",
   "execution_count": null,
   "id": "639932dc",
   "metadata": {},
   "outputs": [],
   "source": [
    "gbm_preds = gbm.predict(X_test.drop(categorical_features,axis=1))"
   ]
  },
  {
   "cell_type": "code",
   "execution_count": null,
   "id": "d36a99ff",
   "metadata": {},
   "outputs": [],
   "source": [
    "print(f1_score(y_test, gbm_preds, average='weighted'))\n",
    "print(f1_score(y_test, gbm_preds, average='micro'))\n",
    "print(f1_score(y_test, gbm_preds, average='macro'))"
   ]
  },
  {
   "cell_type": "code",
   "execution_count": null,
   "id": "df5d82f5",
   "metadata": {},
   "outputs": [],
   "source": [
    "cm = confusion_matrix(y_test, gbm_preds, labels=gbm.classes_,normalize='true')\n",
    "disp = ConfusionMatrixDisplay(confusion_matrix=cm, display_labels=gbm.classes_)\n",
    "disp.plot()"
   ]
  },
  {
   "cell_type": "code",
   "execution_count": null,
   "id": "8d522602",
   "metadata": {},
   "outputs": [],
   "source": [
    "importances = gbm.feature_importances_\n",
    "importances = pd.Series(importances,index=X_train.drop(categorical_features,axis=1).columns).sort_values(ascending=True)"
   ]
  },
  {
   "cell_type": "code",
   "execution_count": null,
   "id": "f68914d0",
   "metadata": {},
   "outputs": [],
   "source": [
    "fig,ax=plt.subplots(figsize=[16,14])\n",
    "importances.plot.barh(ax=ax)\n",
    "ax.set_title(\"Feature Importance by Gain\")\n",
    "fig.tight_layout()"
   ]
  },
  {
   "cell_type": "code",
   "execution_count": null,
   "id": "c950e3ca",
   "metadata": {},
   "outputs": [],
   "source": [
    "# STOP"
   ]
  },
  {
   "cell_type": "markdown",
   "id": "a1ef8c12",
   "metadata": {},
   "source": [
    "# Regression"
   ]
  },
  {
   "cell_type": "markdown",
   "id": "8fec1708",
   "metadata": {},
   "source": [
    "## Remove 0s?"
   ]
  },
  {
   "cell_type": "code",
   "execution_count": null,
   "id": "3de42f15",
   "metadata": {},
   "outputs": [],
   "source": [
    "df[df.pnls==0].shape[0]*100.0/df.shape[0]"
   ]
  },
  {
   "cell_type": "code",
   "execution_count": null,
   "id": "d7725fc9",
   "metadata": {},
   "outputs": [],
   "source": [
    "df = df[df.pnls!=0]\n"
   ]
  },
  {
   "cell_type": "markdown",
   "id": "099dd587",
   "metadata": {},
   "source": [
    "## X,y split"
   ]
  },
  {
   "cell_type": "code",
   "execution_count": null,
   "id": "aa8a8cc3",
   "metadata": {},
   "outputs": [],
   "source": []
  },
  {
   "cell_type": "code",
   "execution_count": null,
   "id": "a8f0be7b",
   "metadata": {
    "scrolled": true
   },
   "outputs": [],
   "source": [
    "features = df.drop(categorical_features+['PNL_IS_0']+\\\n",
    "                   ['abs_spread_normed_max','abs_spread_normed_median',\\\n",
    "                    'abs_spread_normed_75th','abs_spread_normed_90th',\\\n",
    "                    'Date','Ticker_P1','Ticker_P2','SPY_Close_P1','SPY_Close_P2',\\\n",
    "                    'num_entries','pnls']+[c for c in df.columns if '_P1_P1' in c or '_P2_P2' in c],axis=1).columns.tolist()+categorical_features\n",
    "label = 'pnls'\n",
    "\n"
   ]
  },
  {
   "cell_type": "code",
   "execution_count": null,
   "id": "8c8dd691",
   "metadata": {},
   "outputs": [],
   "source": [
    "X = df[features]\n",
    "y = df[label]"
   ]
  },
  {
   "cell_type": "code",
   "execution_count": null,
   "id": "d0283e3c",
   "metadata": {},
   "outputs": [],
   "source": [
    "# y = pd.Series(np.where(y.abs()<=3.5,0,np.where(y<0,-1,1)))"
   ]
  },
  {
   "cell_type": "code",
   "execution_count": null,
   "id": "f9194e1f",
   "metadata": {},
   "outputs": [],
   "source": [
    "# y.value_counts()"
   ]
  },
  {
   "cell_type": "markdown",
   "id": "05d17a49",
   "metadata": {},
   "source": [
    "## Train test split"
   ]
  },
  {
   "cell_type": "code",
   "execution_count": null,
   "id": "a4f17a64",
   "metadata": {},
   "outputs": [],
   "source": [
    "y.abs().describe(np.arange(0,1,0.1))"
   ]
  },
  {
   "cell_type": "code",
   "execution_count": null,
   "id": "090fd4ef",
   "metadata": {},
   "outputs": [],
   "source": [
    "X_train, X_test, y_train, y_test = train_test_split(X, y, test_size=0.2, random_state=42,shuffle=False)\n",
    "X_val, X_test, y_val, y_test = train_test_split(X_test, y_test, test_size=0.5, random_state=42,shuffle=False)"
   ]
  },
  {
   "cell_type": "markdown",
   "id": "fdec538a",
   "metadata": {},
   "source": [
    "### Filter Outliers?"
   ]
  },
  {
   "cell_type": "code",
   "execution_count": null,
   "id": "8c1af05b",
   "metadata": {},
   "outputs": [],
   "source": [
    "u = np.mean(y_train)\n",
    "s = np.std(y_train)\n",
    "y_train = y_train[(y_train>(u-2*s)) & (y_train<(u+2*s))]\n",
    "X_train = X_train.loc[y_train.index]"
   ]
  },
  {
   "cell_type": "code",
   "execution_count": null,
   "id": "19ed2515",
   "metadata": {},
   "outputs": [],
   "source": [
    "# undersample = RandomUnderSampler(sampling_strategy='not minority')\n",
    "# X_train, y_train = undersample.fit_resample(X_train, y_train)"
   ]
  },
  {
   "cell_type": "code",
   "execution_count": null,
   "id": "cf79404f",
   "metadata": {},
   "outputs": [],
   "source": [
    "y_train.value_counts()"
   ]
  },
  {
   "cell_type": "code",
   "execution_count": null,
   "id": "dbce4838",
   "metadata": {},
   "outputs": [],
   "source": [
    "y_val.value_counts()"
   ]
  },
  {
   "cell_type": "code",
   "execution_count": null,
   "id": "27ed399b",
   "metadata": {},
   "outputs": [],
   "source": [
    "y_test.value_counts()"
   ]
  },
  {
   "cell_type": "markdown",
   "id": "b268f6ea",
   "metadata": {},
   "source": [
    "## GBM"
   ]
  },
  {
   "cell_type": "code",
   "execution_count": null,
   "id": "a2cd2f0a",
   "metadata": {},
   "outputs": [],
   "source": [
    "# def objective(trial):\n",
    "#     params = {\n",
    "#         'boosting':'dart',\n",
    "#         \"objective\": \"multiclass\",\n",
    "# #         'device':'gpu',\n",
    "# #         \"metric\": \"accuracy\",\n",
    "# #         'class_weight':'balanced',\n",
    "#         \"n_estimators\": 300,\n",
    "#         \"verbosity\": -1,\n",
    "#         \"bagging_freq\": 1,\n",
    "#         'max_bin':trial.suggest_int('max_bin',64,1024),\n",
    "#         'max_depth':trial.suggest_int('max_depth',4,20),\n",
    "\n",
    "#         \"learning_rate\": trial.suggest_float(\"learning_rate\", 1e-4, 0.2, log=True),\n",
    "#         \"num_leaves\": trial.suggest_int(\"num_leaves\", 2, 3000),\n",
    "#         \"subsample\": trial.suggest_float(\"subsample\", 0.05, 1.0),\n",
    "#         \"colsample_bytree\": trial.suggest_float(\"colsample_bytree\", 0.05, 1.0),\n",
    "#         \"min_data_in_leaf\": trial.suggest_int(\"min_data_in_leaf\", 1, 1000),\n",
    "#     }\n",
    "\n",
    "#     model = lgb.LGBMClassifier(**params)\n",
    "#     model.fit(X_train.drop(categorical_features,axis=1),y_train)\n",
    "#     predictions = model.predict(X_val.drop(categorical_features,axis=1))\n",
    "#     f1 = f1_score(y_val, predictions, average='weighted')\n",
    "#     return -1*f1"
   ]
  },
  {
   "cell_type": "code",
   "execution_count": null,
   "id": "7218c89c",
   "metadata": {},
   "outputs": [],
   "source": [
    "def objective(trial):\n",
    "    params = {\n",
    "        'boosting':'dart',\n",
    "        \"objective\": \"mse\",\n",
    "#         'device':'gpu',\n",
    "        \"metric\": 'l1',\n",
    "#         'class_weight':'balanced',\n",
    "        \"n_estimators\": 300,\n",
    "        \"verbosity\": -1,\n",
    "#         \"bagging_freq\": 1,\n",
    "        'max_bin':trial.suggest_int('max_bin',64,1024),\n",
    "        'max_depth':trial.suggest_int('max_depth',4,20),\n",
    "\n",
    "        \"learning_rate\": trial.suggest_float(\"learning_rate\", 1e-4, 0.2, log=True),\n",
    "        \"num_leaves\": trial.suggest_int(\"num_leaves\", 2, 3000),\n",
    "        \"subsample\": trial.suggest_float(\"subsample\", 0.05, 1.0),\n",
    "        \"colsample_bytree\": trial.suggest_float(\"colsample_bytree\", 0.05, 1.0),\n",
    "        \"min_data_in_leaf\": trial.suggest_int(\"min_data_in_leaf\", 1, 1000),\n",
    "    }\n",
    "\n",
    "    model = lgb.LGBMRegressor(**params)\n",
    "    model.fit(X_train.drop(categorical_features,axis=1),y_train)\n",
    "    predictions = model.predict(X_val.drop(categorical_features,axis=1))\n",
    "    mae = np.mean(abs(predictions-y_val))\n",
    "    return mae"
   ]
  },
  {
   "cell_type": "code",
   "execution_count": null,
   "id": "eb8b4a64",
   "metadata": {},
   "outputs": [],
   "source": [
    "study = optuna.create_study(direction='minimize')\n",
    "study.optimize(objective, n_trials=30)"
   ]
  },
  {
   "cell_type": "code",
   "execution_count": null,
   "id": "c4ee2869",
   "metadata": {},
   "outputs": [],
   "source": [
    "df[[c for c in features if c not in categorical_features]+[label]].corr()['pnls'].abs().sort_values(ascending=False).head(10)"
   ]
  },
  {
   "cell_type": "code",
   "execution_count": null,
   "id": "ff16ab62",
   "metadata": {},
   "outputs": [],
   "source": [
    "print('Best hyperparameters:', study.best_params)\n",
    "print('Best mae:', study.best_value)"
   ]
  },
  {
   "cell_type": "code",
   "execution_count": null,
   "id": "27c3d165",
   "metadata": {},
   "outputs": [],
   "source": [
    "hyper_params = study.best_params"
   ]
  },
  {
   "cell_type": "code",
   "execution_count": null,
   "id": "7f5b323e",
   "metadata": {},
   "outputs": [],
   "source": [
    "# hyper_params = {\n",
    "# #     'task': 'train',\n",
    "#     'boosting_type': 'gbdt',\n",
    "#     'objective': 'mae',\n",
    "#     'metric': ['l1'],\n",
    "# #     'eval_metric': ['l1'],\n",
    "# #     'early_stopping_rounds':10,\n",
    "#     'learning_rate': 0.2,\n",
    "# #     'feature_fraction': 0.9,\n",
    "# #     'bagging_fraction': 0.7,\n",
    "# #     'bagging_freq': 10,\n",
    "#     'verbosity': 1,\n",
    "# #     \"max_depth\": 8,\n",
    "# #     \"num_leaves\": 128,  \n",
    "# #     \"max_bin\": 512,\n",
    "#     \"num_iterations\": 200,\n",
    "#     \"importance_type\":\"gain\"\n",
    "    \n",
    "# #     \"silent\":False\n",
    "# }"
   ]
  },
  {
   "cell_type": "code",
   "execution_count": null,
   "id": "5c822aec",
   "metadata": {},
   "outputs": [],
   "source": [
    "gbm = lgb.LGBMRegressor(**hyper_params)\n",
    "# gbm = lgb.LGBMClassifier(**hyper_params)\n",
    "\n",
    "callbacks = [\\\n",
    "#             lgb.early_stopping(stopping_rounds=10, verbose=1,min_delta=0.001,first_metric_only=False), \n",
    "             lgb.log_evaluation(period=1)]\n",
    "\n",
    "gbm.fit(X_train.drop(categorical_features,axis=1),y_train, \n",
    "        eval_set=[(X_val.drop(categorical_features,axis=1), y_val )],\n",
    "#         eval_metric='l1',\n",
    "        callbacks=callbacks,\n",
    "#         feature_name = features,\n",
    "#         categorical_feature=categorical_features\n",
    "       )"
   ]
  },
  {
   "cell_type": "code",
   "execution_count": null,
   "id": "d92b6f94",
   "metadata": {},
   "outputs": [],
   "source": [
    "# preds = gbm.predict(X_test.drop(categorical_features,axis=1))\n",
    "# cm = confusion_matrix(y_test, preds, labels=gbm.classes_,normalize='true')\n",
    "# cm"
   ]
  },
  {
   "cell_type": "code",
   "execution_count": null,
   "id": "70dd121b",
   "metadata": {},
   "outputs": [],
   "source": [
    "# disp = ConfusionMatrixDisplay(confusion_matrix=cm, display_labels=gbm.classes_)\n",
    "# disp.plot()"
   ]
  },
  {
   "cell_type": "markdown",
   "id": "549a3994",
   "metadata": {},
   "source": [
    "### GBM feature importance"
   ]
  },
  {
   "cell_type": "code",
   "execution_count": null,
   "id": "d473d0f7",
   "metadata": {},
   "outputs": [],
   "source": [
    "importances = gbm.feature_importances_\n",
    "importances = pd.Series(importances,index=X_train.drop(categorical_features,axis=1).columns).sort_values(ascending=True)"
   ]
  },
  {
   "cell_type": "code",
   "execution_count": null,
   "id": "926489a6",
   "metadata": {},
   "outputs": [],
   "source": [
    "fig,ax=plt.subplots(figsize=[16,14])\n",
    "importances.plot.barh(ax=ax)\n",
    "ax.set_title(\"Feature Importance by Gain\")\n",
    "fig.tight_layout()"
   ]
  },
  {
   "cell_type": "code",
   "execution_count": null,
   "id": "736769d6",
   "metadata": {},
   "outputs": [],
   "source": [
    "pi = permutation_importance(gbm,X_test.drop(categorical_features,axis=1),y_test)\n",
    "\n",
    "coefs = pd.DataFrame(\n",
    "    pi['importances_mean'], columns=[\"Coefficients\"], index=X_train.drop(categorical_features,axis=1).columns\n",
    ")\n",
    "coefs.plot(kind=\"barh\", figsize=(9, 7))\n",
    "plt.title(\"Logistic Regression model\")\n",
    "plt.axvline(x=0, color=\".5\")\n",
    "plt.subplots_adjust(left=0.3)"
   ]
  },
  {
   "cell_type": "markdown",
   "id": "315a5b3c",
   "metadata": {},
   "source": [
    "## Error Analysis"
   ]
  },
  {
   "cell_type": "code",
   "execution_count": null,
   "id": "119a152f",
   "metadata": {},
   "outputs": [],
   "source": [
    "preds = gbm.predict(X_test.drop(categorical_features,axis=1))"
   ]
  },
  {
   "cell_type": "code",
   "execution_count": null,
   "id": "c2bb9119",
   "metadata": {},
   "outputs": [],
   "source": [
    "results = pd.DataFrame({'preds':preds,'true':y_test})\n",
    "results"
   ]
  },
  {
   "cell_type": "code",
   "execution_count": null,
   "id": "1226314d",
   "metadata": {},
   "outputs": [],
   "source": [
    "results.describe(np.arange(0,1,0.1))"
   ]
  },
  {
   "cell_type": "code",
   "execution_count": null,
   "id": "48f706ff",
   "metadata": {},
   "outputs": [],
   "source": [
    "mae = (preds-y_test).abs().mean()\n",
    "mae"
   ]
  },
  {
   "cell_type": "code",
   "execution_count": null,
   "id": "306eaa32",
   "metadata": {},
   "outputs": [],
   "source": [
    "mean_abs_label = y_test.abs().mean()\n",
    "mean_abs_label"
   ]
  },
  {
   "cell_type": "code",
   "execution_count": null,
   "id": "83a7f8f8",
   "metadata": {},
   "outputs": [],
   "source": [
    "mae/mean_abs_label"
   ]
  },
  {
   "cell_type": "code",
   "execution_count": null,
   "id": "0a882213",
   "metadata": {},
   "outputs": [],
   "source": [
    "mae_AR1 = (X_test.PREV_pnls - pnl_not_0.true).abs().mean()\n",
    "mae_AR1"
   ]
  },
  {
   "cell_type": "code",
   "execution_count": null,
   "id": "02952fdd",
   "metadata": {},
   "outputs": [],
   "source": [
    "mae/mae_AR1"
   ]
  },
  {
   "cell_type": "markdown",
   "id": "d2d90ce9",
   "metadata": {},
   "source": [
    "## Linear Regression"
   ]
  },
  {
   "cell_type": "code",
   "execution_count": null,
   "id": "269abc7f",
   "metadata": {},
   "outputs": [],
   "source": [
    "scaler = StandardScaler().fit(X_train.drop(categorical_features,axis=1))\n",
    "scaled_X_train = scaler.transform(X_train.drop(categorical_features,axis=1))\n",
    "scaled_X_val = scaler.transform(X_val.drop(categorical_features,axis=1))\n",
    "scaled_X_test = scaler.transform(X_test.drop(categorical_features,axis=1))"
   ]
  },
  {
   "cell_type": "code",
   "execution_count": null,
   "id": "d21acc73",
   "metadata": {},
   "outputs": [],
   "source": [
    "regr = LinearRegression()\n",
    "\n",
    "# Train the model using the training sets\n",
    "regr.fit(scaled_X_train, y_train)\n",
    "\n",
    "# Make predictions using the testing set\n",
    "lr_preds = regr.predict(scaled_X_test)"
   ]
  },
  {
   "cell_type": "code",
   "execution_count": null,
   "id": "9a424e6e",
   "metadata": {},
   "outputs": [],
   "source": [
    "pi = permutation_importance(regr,scaled_X_test,y_test)\n",
    "\n",
    "coefs = pd.DataFrame(\n",
    "    pi['importances_mean'], columns=[\"Coefficients\"], index=X_train.drop(categorical_features,axis=1).columns\n",
    ")\n",
    "\n",
    "\n",
    "coefs.plot(kind=\"barh\", figsize=(9, 7))\n",
    "plt.title(\"LR model\")\n",
    "plt.axvline(x=0, color=\".5\")\n",
    "plt.subplots_adjust(left=0.3)"
   ]
  },
  {
   "cell_type": "code",
   "execution_count": null,
   "id": "f87b19f2",
   "metadata": {},
   "outputs": [],
   "source": [
    "lr_results = pd.DataFrame({'preds':lr_preds,'true':y_test})\n",
    "lr_results"
   ]
  },
  {
   "cell_type": "code",
   "execution_count": null,
   "id": "62ae30c8",
   "metadata": {},
   "outputs": [],
   "source": [
    "lr_pnl_is_0 = lr_results[lr_results.true==0]\n",
    "lr_pnl_not_0 = lr_results[lr_results.true!=0]"
   ]
  },
  {
   "cell_type": "code",
   "execution_count": null,
   "id": "27de9ffe",
   "metadata": {},
   "outputs": [],
   "source": [
    "mae = (lr_pnl_not_0.preds-lr_pnl_not_0.true).abs().mean()"
   ]
  },
  {
   "cell_type": "code",
   "execution_count": null,
   "id": "f74d4cab",
   "metadata": {},
   "outputs": [],
   "source": [
    "mae/mean_abs_label"
   ]
  },
  {
   "cell_type": "code",
   "execution_count": null,
   "id": "c6b74fc9",
   "metadata": {},
   "outputs": [],
   "source": [
    "# lr_results.loc[tmp_df.index]"
   ]
  },
  {
   "cell_type": "code",
   "execution_count": null,
   "id": "24648615",
   "metadata": {},
   "outputs": [],
   "source": [
    "from sklearn.ensemble import RandomForestRegressor"
   ]
  },
  {
   "cell_type": "code",
   "execution_count": null,
   "id": "b76ae99b",
   "metadata": {},
   "outputs": [],
   "source": [
    "rf = RandomForestRegressor(verbose=2,n_jobs=-1)"
   ]
  },
  {
   "cell_type": "code",
   "execution_count": null,
   "id": "f1ffe583",
   "metadata": {},
   "outputs": [],
   "source": [
    "rf.fit(X_train.drop(categorical_features,axis=1),y_train)"
   ]
  },
  {
   "cell_type": "code",
   "execution_count": null,
   "id": "74a489a0",
   "metadata": {},
   "outputs": [],
   "source": [
    "preds = rf.predict(X_test.drop(categorical_features,axis=1))"
   ]
  },
  {
   "cell_type": "code",
   "execution_count": null,
   "id": "27cf3f80",
   "metadata": {},
   "outputs": [],
   "source": [
    "mae = (preds-y_test).abs().mean()\n",
    "mae"
   ]
  },
  {
   "cell_type": "code",
   "execution_count": null,
   "id": "34dd6e76",
   "metadata": {},
   "outputs": [],
   "source": [
    "mae/mean_abs_label"
   ]
  },
  {
   "cell_type": "code",
   "execution_count": null,
   "id": "3c8c89d9",
   "metadata": {},
   "outputs": [],
   "source": []
  }
 ],
 "metadata": {
  "kernelspec": {
   "display_name": "Python 3 (ipykernel)",
   "language": "python",
   "name": "python3"
  },
  "language_info": {
   "codemirror_mode": {
    "name": "ipython",
    "version": 3
   },
   "file_extension": ".py",
   "mimetype": "text/x-python",
   "name": "python",
   "nbconvert_exporter": "python",
   "pygments_lexer": "ipython3",
   "version": "3.11.6"
  },
  "toc": {
   "base_numbering": 1,
   "nav_menu": {},
   "number_sections": true,
   "sideBar": true,
   "skip_h1_title": false,
   "title_cell": "Table of Contents",
   "title_sidebar": "Contents",
   "toc_cell": false,
   "toc_position": {
    "height": "calc(100% - 180px)",
    "left": "10px",
    "top": "150px",
    "width": "256px"
   },
   "toc_section_display": true,
   "toc_window_display": true
  },
  "varInspector": {
   "cols": {
    "lenName": 16,
    "lenType": 16,
    "lenVar": 40
   },
   "kernels_config": {
    "python": {
     "delete_cmd_postfix": "",
     "delete_cmd_prefix": "del ",
     "library": "var_list.py",
     "varRefreshCmd": "print(var_dic_list())"
    },
    "r": {
     "delete_cmd_postfix": ") ",
     "delete_cmd_prefix": "rm(",
     "library": "var_list.r",
     "varRefreshCmd": "cat(var_dic_list()) "
    }
   },
   "types_to_exclude": [
    "module",
    "function",
    "builtin_function_or_method",
    "instance",
    "_Feature"
   ],
   "window_display": false
  }
 },
 "nbformat": 4,
 "nbformat_minor": 5
}
