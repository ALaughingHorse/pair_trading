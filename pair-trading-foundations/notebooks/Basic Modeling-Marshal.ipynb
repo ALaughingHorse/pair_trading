{
 "cells": [
  {
   "cell_type": "markdown",
   "id": "e019dcc1",
   "metadata": {
    "editable": true,
    "slideshow": {
     "slide_type": ""
    },
    "tags": []
   },
   "source": [
    "## Placeholder for Table of Contents Bug on AWS"
   ]
  },
  {
   "cell_type": "markdown",
   "id": "094bc293",
   "metadata": {},
   "source": [
    "## Placeholder for Table of Contents Bug on AWS"
   ]
  },
  {
   "cell_type": "markdown",
   "id": "a2ce0cef",
   "metadata": {},
   "source": [
    "## Placeholder for Table of Contents Bug on AWS"
   ]
  },
  {
   "cell_type": "markdown",
   "id": "17b6eba1",
   "metadata": {},
   "source": [
    "## Placeholder for Table of Contents Bug on AWS"
   ]
  },
  {
   "cell_type": "markdown",
   "id": "be2bb294",
   "metadata": {},
   "source": [
    "# Imports"
   ]
  },
  {
   "cell_type": "code",
   "execution_count": null,
   "id": "499fa2a3",
   "metadata": {},
   "outputs": [],
   "source": [
    "import pandas as pd\n",
    "import numpy as np\n",
    "import lightgbm as lgb\n",
    "from sklearn.model_selection import train_test_split\n",
    "from sklearn.preprocessing import StandardScaler\n",
    "from sklearn.linear_model import LinearRegression, LogisticRegression\n",
    "from sklearn.metrics import confusion_matrix, ConfusionMatrixDisplay, precision_score, recall_score, f1_score\n",
    "from sklearn.inspection import permutation_importance\n",
    "import ta\n",
    "\n",
    "from tqdm.notebook import tqdm\n",
    "tqdm.pandas()\n",
    "\n",
    "import matplotlib.pyplot as plt\n",
    "import plotly.express as px\n",
    "\n",
    "from sklearn.metrics import f1_score\n",
    "from imblearn.under_sampling import RandomUnderSampler\n",
    "pd.set_option('display.float_format', lambda x: '%.3f' % x)\n",
    "np.set_printoptions(suppress=True)\n",
    "from pprint import pprint\n",
    "\n",
    "import gc\n",
    "import optuna\n",
    "from sklearn.feature_selection import RFE"
   ]
  },
  {
   "cell_type": "code",
   "execution_count": null,
   "id": "7bb6cf77",
   "metadata": {},
   "outputs": [],
   "source": [
    "df = pd.read_csv('Data/Training/pair_features1_300_60.csv')\n",
    "df.head()"
   ]
  },
  {
   "cell_type": "code",
   "execution_count": null,
   "id": "a23a2a17",
   "metadata": {},
   "outputs": [],
   "source": [
    "df['pnls'] = df['pnls']*100.0"
   ]
  },
  {
   "cell_type": "code",
   "execution_count": null,
   "id": "e4d22c2f",
   "metadata": {},
   "outputs": [],
   "source": [
    "total_days = df.Date.nunique()\n",
    "total_days"
   ]
  },
  {
   "cell_type": "code",
   "execution_count": null,
   "id": "5ad854f5",
   "metadata": {},
   "outputs": [],
   "source": [
    "print(df.shape)\n",
    "df.isna().sum()"
   ]
  },
  {
   "cell_type": "code",
   "execution_count": null,
   "id": "8d594821",
   "metadata": {},
   "outputs": [],
   "source": [
    "df.Date.nunique()"
   ]
  },
  {
   "cell_type": "code",
   "execution_count": null,
   "id": "6826a684",
   "metadata": {},
   "outputs": [],
   "source": [
    "df.abs_spread_normed_max.dropna().describe()"
   ]
  },
  {
   "cell_type": "code",
   "execution_count": null,
   "id": "4dd722ed",
   "metadata": {},
   "outputs": [],
   "source": [
    "df = df.sort_values('Date')"
   ]
  },
  {
   "cell_type": "code",
   "execution_count": null,
   "id": "ef9190d7",
   "metadata": {},
   "outputs": [],
   "source": [
    "print(df.Date.min(),df.Date.max())"
   ]
  },
  {
   "cell_type": "markdown",
   "id": "6deae486",
   "metadata": {},
   "source": [
    "# Feature Engineering"
   ]
  },
  {
   "cell_type": "code",
   "execution_count": null,
   "id": "24398048",
   "metadata": {},
   "outputs": [],
   "source": [
    "# TODO:\n",
    "# 1. Add group based features\n",
    "# 2. Stock2Vec based features\n",
    "# 3. Add Technical Indicators\n",
    "# 4. target is a sum of 2 directions with magnitudes (how much it goes up/down per leg)\n",
    "# 5. rolling features\n",
    "# 6. probability of classification model\n",
    "# 7. historical pnl and num_entries, drop leaky num_entries\n",
    "# 8. differencing features."
   ]
  },
  {
   "cell_type": "code",
   "execution_count": null,
   "id": "a8f16e7d",
   "metadata": {},
   "outputs": [],
   "source": [
    "# 3 dimensions from a product perspective: ticker1, ticker2, and pair\n",
    "# 2 dimensions from a time perspective: short term vs long term\n",
    "# 2 factors of PnL: Volatility, and Reversion to mean\n",
    "\n",
    "# short term ticker 1 volatility: rolling mean, sector rolling mean, rolling std, sector rolling std\n",
    "# short term ticker 2 volatility: rolling mean, sector rolling mean, rolling std, sector rolling std\n",
    "# short term pair level volatility: rolling mean, sector rolling mean, rolling std, sector rolling std, \n",
    "#                                   differences of ticker level features\n",
    "\n",
    "# long term ticker 1 volatility: beta,\n",
    "# long term ticker 2 volatility: beta,\n",
    "# long term pair level volatility: most recent PNL (which is from 120 days ago), average historical PNL\n",
    "#                                  most recent number of entries, historical average vnumber of entries, \n",
    "#                                  diff of beta\n",
    "\n",
    "# short term ticker 1 reversion to mean: technical indicators\n",
    "# short term ticker 2 reversion to mean: technical indicators\n",
    "# short term pair level reversion to mean: technical indicators\n",
    "\n",
    "# long term ticker 1 reversion to mean: technical indicators\n",
    "# long term ticker 2 reversion to mean: technical indicators\n",
    "# long term pair level reversion to mean: technical indicators"
   ]
  },
  {
   "cell_type": "markdown",
   "id": "01f79c68",
   "metadata": {},
   "source": [
    "## Technical Indicators"
   ]
  },
  {
   "cell_type": "code",
   "execution_count": null,
   "id": "57cd0e61",
   "metadata": {},
   "outputs": [],
   "source": [
    "class feature_engineering(object):\n",
    "    def __init__(self):\n",
    "        super(feature_engineering, self).__init__()\n",
    "\n",
    "    def generate_technical_indicator(self, data_df): \n",
    "        '''\n",
    "        Function to generate additional technical indicators for the stock\n",
    "\n",
    "        Uses the \"statsmodels.tsa.stattools\" (as \"ts\") package to apply \n",
    "        the equations specified in the \"Technical Indicators\" markdown section \n",
    "        to stock closing data.\n",
    "        \n",
    "        Input:\n",
    "        data_df-- Dataframe containing stock finacials data\n",
    "        \n",
    "        Output:\n",
    "        Stock finacials data with added Dataframe of feature obtained from feature engineering\n",
    "        ''' \n",
    "        # 1. Momentum Indicators\n",
    "        # Relative Strength Index\n",
    "        df = data_df\n",
    "        df['rsi'] = ta.momentum.rsi(df['Close'], window=14)\n",
    "        # Kaufman’s Adaptive Moving Average (KAMA)\n",
    "        df['kama'] = ta.momentum.kama(df['Close'],window=14)\n",
    "\n",
    "        # 2. Volume Indicators\n",
    "        # Accumulation/Distribution Index (ADI)\n",
    "        df['adi'] = ta.volume.acc_dist_index(df['High'], df['Low'], df['Close'], df['Volume'])\n",
    "\n",
    "        # Volume-price trend (VPT)\n",
    "        df['vpt'] = ta.volume.volume_price_trend(df['Close'], df['Volume'])\n",
    "\n",
    "        # 3. Volatility Indicators\n",
    "        # Average True Range (ATR)\n",
    "        df['atr'] = ta.volatility.average_true_range(df['High'], df['Low'],df['Close'], window=14)\n",
    "\n",
    "        # Bollinger Bands (BB) N-period simple moving average (MA)\n",
    "        df['bb_ma'] = ta.volatility.bollinger_mavg(df['Close'], window=20)\n",
    "\n",
    "        # 4. Trend Indicators\n",
    "        # Average Directional Movement Index (ADX)\n",
    "        df['adx'] = ta.trend.adx(df['High'], df['Low'], df['Close'], window=14)\n",
    "\n",
    "        # Exponential Moving Average\n",
    "        df['ema'] = ta.trend.ema_indicator(df['Close'], window=14)\n",
    "\n",
    "        # Moving Average Convergence Divergence (MACD)\n",
    "        df['macd'] = ta.trend.macd(df['Close'], window_fast=14, window_slow=30)\n",
    "\n",
    "        # 5. Other Indicators\n",
    "        # Daily Log Return (DLR)\n",
    "        df['dlr'] = ta.others.daily_log_return(df['Close'])\n",
    "\n",
    "        # Daily Returns\n",
    "        df['daily_returns'] = df['Close'].pct_change()\n",
    "\n",
    "        # Moving Averages\n",
    "        averages = [50,200]\n",
    "        for avg in averages:\n",
    "            col_name = str(avg) +' Days Average'\n",
    "            df[col_name] = df['Close'].rolling(window = avg, center = False).mean()\n",
    "\n",
    "        return df"
   ]
  },
  {
   "cell_type": "markdown",
   "id": "3872a90c",
   "metadata": {},
   "source": [
    "### Load SPY"
   ]
  },
  {
   "cell_type": "code",
   "execution_count": null,
   "id": "d39ee0d7",
   "metadata": {},
   "outputs": [],
   "source": [
    "spy_df = pd.read_csv('Data/Training/1999-12-01-2023-12-31_SPY.csv')\n",
    "spy_df = spy_df[['Date','Adj Close']]\n",
    "spy_df.columns = ['Date','SPY_Close']\n",
    "df = pd.merge(df,spy_df,on='Date',how='left')\n",
    "\n",
    "look_forward_d = 60\n",
    "# Define a variable to calculate the return if we just buy SPY and sell in the next 60 days\n",
    "spy_60_return = []\n",
    "for i in range(spy_df.shape[0]):\n",
    "    if (i + look_forward_d) < spy_df.shape[0]:\n",
    "        spy_60_return.append(\n",
    "            100*(spy_df.loc[i+look_forward_d]['SPY_Close'] - spy_df.loc[i]['SPY_Close'])/spy_df.loc[i]['SPY_Close']\n",
    "        )\n",
    "    else:\n",
    "        spy_60_return.append(\n",
    "            np.nan\n",
    "        )\n",
    "spy_df['SPY_return_next_60'] = spy_60_return"
   ]
  },
  {
   "cell_type": "code",
   "execution_count": null,
   "id": "f095f253-3827-4766-bcfa-fe4c7349807e",
   "metadata": {},
   "outputs": [],
   "source": []
  },
  {
   "cell_type": "markdown",
   "id": "b5717d7f",
   "metadata": {},
   "source": [
    "### Beta"
   ]
  },
  {
   "cell_type": "code",
   "execution_count": null,
   "id": "a9c38c69",
   "metadata": {},
   "outputs": [],
   "source": [
    "def compute_beta(rs,df,ticker,market):\n",
    "    rows = df.loc[rs.index]\n",
    "    sec_returns = np.log( df[[ticker,market]] / df[[ticker,market]].shift(1) ) \n",
    "\n",
    "    cov = sec_returns.cov() * 250\n",
    "    cov_with_market = cov.iloc[0,1]\n",
    "    market_var = sec_returns[market].var() * 250\n",
    "    beta = cov_with_market / market_var\n",
    "    return beta"
   ]
  },
  {
   "cell_type": "code",
   "execution_count": null,
   "id": "0d61d325",
   "metadata": {},
   "outputs": [],
   "source": [
    "all_tickers = df['Ticker_P1'].unique().tolist()+df['Ticker_P2'].unique().tolist()\n",
    "len(all_tickers)"
   ]
  },
  {
   "cell_type": "code",
   "execution_count": null,
   "id": "e78c7e55",
   "metadata": {},
   "outputs": [],
   "source": [
    "fe_obj = feature_engineering()\n"
   ]
  },
  {
   "cell_type": "markdown",
   "id": "5f2f8ee4",
   "metadata": {},
   "source": [
    "### Single Ticker Features"
   ]
  },
  {
   "cell_type": "code",
   "execution_count": null,
   "id": "fc1b5a40",
   "metadata": {},
   "outputs": [],
   "source": [
    "df.columns"
   ]
  },
  {
   "cell_type": "code",
   "execution_count": null,
   "id": "cff2ae08",
   "metadata": {},
   "outputs": [],
   "source": [
    "all_tickers_df_list = []\n",
    "for t in tqdm(all_tickers):\n",
    "    single_ticker_df = (df[df['Ticker_P1']==t] if t in df['Ticker_P1'].unique() else df[df['Ticker_P2']==t])\n",
    "    single_ticker_df = single_ticker_df.sort_values('Date')\n",
    "    single_ticker_df = single_ticker_df[['Date','Ticker_P1','Close_P1','High_P1','Low_P1','Volume_P1','SPY_Close']] if t in df['Ticker_P1'].unique() else\\\n",
    "                       single_ticker_df[['Date','Ticker_P2','Close_P2','High_P2','Low_P2','Volume_P2','SPY_Close']]\n",
    "    single_ticker_df.columns = ['Date','Ticker','Close','High','Low','Volume','SPY_Close']\n",
    "    single_ticker_df = single_ticker_df.drop_duplicates()\n",
    "\n",
    "    single_ticker_df['rolling_beta'] = single_ticker_df['Close'].rolling(300).progress_apply(compute_beta, \\\n",
    "                                        args=(single_ticker_df,'Close','SPY_Close'))\n",
    "\n",
    "    single_ticker_df_with_technical_indicators = fe_obj.generate_technical_indicator(single_ticker_df)\n",
    "\n",
    "    all_tickers_df_list.append(single_ticker_df_with_technical_indicators)\n"
   ]
  },
  {
   "cell_type": "code",
   "execution_count": null,
   "id": "3117adab",
   "metadata": {},
   "outputs": [],
   "source": [
    "all_tickers_df = pd.concat(all_tickers_df_list,axis=0,ignore_index=True).reset_index(drop=True)\n",
    "all_tickers_df.shape"
   ]
  },
  {
   "cell_type": "code",
   "execution_count": null,
   "id": "d0d9e8d6",
   "metadata": {},
   "outputs": [],
   "source": [
    "df = df.reset_index(drop=True)"
   ]
  },
  {
   "cell_type": "code",
   "execution_count": null,
   "id": "bd9da8bf",
   "metadata": {},
   "outputs": [],
   "source": [
    "df.tail(2)"
   ]
  },
  {
   "cell_type": "code",
   "execution_count": null,
   "id": "903e1b36",
   "metadata": {},
   "outputs": [],
   "source": [
    "all_tickers_df.tail(2)"
   ]
  },
  {
   "cell_type": "code",
   "execution_count": null,
   "id": "a07549c3",
   "metadata": {},
   "outputs": [],
   "source": [
    "print(df.shape)\n",
    "all_tickers_df_P1_suffix = all_tickers_df.copy()\n",
    "all_tickers_df_P1_suffix.columns = ['Date','Ticker']+[c+'_P1' for c in all_tickers_df.columns if c not in ['Date','Ticker']]\n",
    "all_tickers_df_P2_suffix = all_tickers_df.copy()\n",
    "all_tickers_df_P2_suffix.columns = ['Date','Ticker']+[c+'_P2' for c in all_tickers_df.columns if c not in ['Date','Ticker']]\n",
    "\n",
    "df = pd.merge(df,all_tickers_df_P1_suffix,left_on=['Date','Ticker_P1'],right_on=['Date','Ticker'],\\\n",
    "              how='left',suffixes=['','_P1']).drop_duplicates()\n",
    "print(df.shape)\n",
    "df = pd.merge(df,all_tickers_df_P2_suffix,left_on=['Date','Ticker_P2'],right_on=['Date','Ticker'],\\\n",
    "              how='left',suffixes=['','_P2']).drop_duplicates()\n",
    "print(df.shape)\n",
    "df = df.loc[:,~df.columns.duplicated()]\n",
    "print(df.shape)\n"
   ]
  },
  {
   "cell_type": "code",
   "execution_count": null,
   "id": "c90482bc",
   "metadata": {},
   "outputs": [],
   "source": [
    "del all_tickers_df_P1_suffix, all_tickers_df_P2_suffix\n",
    "gc.collect()"
   ]
  },
  {
   "cell_type": "code",
   "execution_count": null,
   "id": "e4d118f3",
   "metadata": {},
   "outputs": [],
   "source": [
    "df = df.drop('Ticker',axis=1)"
   ]
  },
  {
   "cell_type": "markdown",
   "id": "f38c71d4",
   "metadata": {},
   "source": [
    "## Add group based features"
   ]
  },
  {
   "cell_type": "markdown",
   "id": "98e6ddca",
   "metadata": {},
   "source": [
    "### Merge Sector"
   ]
  },
  {
   "cell_type": "code",
   "execution_count": null,
   "id": "c15c6029",
   "metadata": {},
   "outputs": [],
   "source": [
    "sector_df = pd.read_csv('Data/Training/1999-12-01-2023-12-31.csv')\n",
    "sector_df = sector_df.drop_duplicates(subset=['Ticker','GICS Sector'])[['Ticker','GICS Sector']]\n",
    "sector_df.head()"
   ]
  },
  {
   "cell_type": "code",
   "execution_count": null,
   "id": "d4060b42",
   "metadata": {},
   "outputs": [],
   "source": [
    "industry_df = pd.read_csv('Data/Training/1999-12-01-2023-12-31.csv')\n",
    "industry_df = industry_df.drop_duplicates(subset=['Ticker','GICS Sub-Industry'])[['Ticker','GICS Sub-Industry']]\n",
    "industry_df.head()"
   ]
  },
  {
   "cell_type": "code",
   "execution_count": null,
   "id": "0381c1f6",
   "metadata": {},
   "outputs": [],
   "source": [
    "df = pd.merge(df,sector_df.rename(columns={'GICS Sector':'Sector_P1'}),how='left',left_on='Ticker_P1',right_on='Ticker').drop('Ticker',axis=1)\n",
    "df = pd.merge(df,sector_df.rename(columns={'GICS Sector':'Sector_P2'}),how='left',left_on='Ticker_P2',right_on='Ticker').drop('Ticker',axis=1)\n",
    "df = pd.merge(df,industry_df.rename(columns={'GICS Sub-Industry':'Industry_P1'}),how='left',left_on='Ticker_P1',right_on='Ticker').drop('Ticker',axis=1)\n",
    "df = pd.merge(df,industry_df.rename(columns={'GICS Sub-Industry':'Industry_P2'}),how='left',left_on='Ticker_P2',right_on='Ticker').drop('Ticker',axis=1)"
   ]
  },
  {
   "cell_type": "code",
   "execution_count": null,
   "id": "e0aa0351",
   "metadata": {},
   "outputs": [],
   "source": [
    "del sector_df\n",
    "del industry_df\n",
    "gc.collect()"
   ]
  },
  {
   "cell_type": "markdown",
   "id": "67972229",
   "metadata": {},
   "source": [
    "### Prev Values"
   ]
  },
  {
   "cell_type": "code",
   "execution_count": null,
   "id": "f499a055",
   "metadata": {},
   "outputs": [],
   "source": [
    "df = df.sort_values('Date')"
   ]
  },
  {
   "cell_type": "code",
   "execution_count": null,
   "id": "bc028956",
   "metadata": {},
   "outputs": [],
   "source": [
    "df['PREV_num_entries'] = df.groupby(['Ticker_P1','Ticker_P2']).num_entries.shift(61)\n",
    "df['PREV_pnls'] = df.groupby(['Ticker_P1','Ticker_P2']).pnls.shift(61)"
   ]
  },
  {
   "cell_type": "markdown",
   "id": "d0b40577",
   "metadata": {},
   "source": [
    "# Trim head and tail days"
   ]
  },
  {
   "cell_type": "code",
   "execution_count": null,
   "id": "d012b0d5",
   "metadata": {},
   "outputs": [],
   "source": [
    "print(df.shape)\n",
    "df = df.drop(df.groupby(['Ticker_P1','Ticker_P2']).head(301).index,axis=0)\n",
    "print(df.shape)\n",
    "df = df.drop(df.groupby(['Ticker_P1','Ticker_P2']).tail(61).index,axis=0)\n",
    "print(df.shape)\n"
   ]
  },
  {
   "cell_type": "markdown",
   "id": "0d18a972",
   "metadata": {},
   "source": [
    "### Sector"
   ]
  },
  {
   "cell_type": "code",
   "execution_count": null,
   "id": "da41a92a",
   "metadata": {},
   "outputs": [],
   "source": [
    "all_sectors = df['Sector_P1'].unique().tolist()+df['Sector_P2'].unique().tolist()\n",
    "len(all_sectors)"
   ]
  },
  {
   "cell_type": "code",
   "execution_count": null,
   "id": "b9c396ea",
   "metadata": {},
   "outputs": [],
   "source": [
    "all_sectors_df_list = []\n",
    "for s in tqdm(all_sectors):\n",
    "    single_sector_df = (df[df['Sector_P1']==s] if s in df['Sector_P1'].unique() else df[df['Sector_P2']==s])\n",
    "    single_sector_df = single_sector_df.sort_values('Date')\n",
    "\n",
    "    single_sector_df = single_sector_df[['Date','Sector_P1','daily_returns_P1','rolling_beta_P1']] if s in df['Sector_P1'].unique() else\\\n",
    "                       single_sector_df[['Date','Sector_P2','daily_returns_P2','rolling_beta_P2']]\n",
    "    single_sector_df.columns = ['Date','Sector','daily_returns','rolling_beta']\n",
    "    single_sector_df = single_sector_df.drop_duplicates()\n",
    "\n",
    "    single_sector_df['sector_rolling_beta_mean'] = single_sector_df.groupby('Date').rolling_beta.transform(np.nanmean)\n",
    "    single_sector_df['sector_rolling_beta_std'] = single_sector_df.groupby('Date').rolling_beta.transform(np.nanstd)\n",
    "    single_sector_df['sector_daily_return_mean'] = single_sector_df.groupby('Date').daily_returns.transform(np.nanmean)\n",
    "    single_sector_df['sector_daily_return_std'] = single_sector_df.groupby('Date').daily_returns.transform(np.nanstd)\n",
    "\n",
    "    all_sectors_df_list.append(single_sector_df)"
   ]
  },
  {
   "cell_type": "code",
   "execution_count": null,
   "id": "41b87f7c",
   "metadata": {},
   "outputs": [],
   "source": [
    "all_sectors_df = pd.concat(all_sectors_df_list,axis=0,ignore_index=True).reset_index(drop=True)\n",
    "all_sectors_df.tail(2)"
   ]
  },
  {
   "cell_type": "code",
   "execution_count": null,
   "id": "3b3bebdf",
   "metadata": {},
   "outputs": [],
   "source": [
    "# stop"
   ]
  },
  {
   "cell_type": "code",
   "execution_count": null,
   "id": "4a285c04",
   "metadata": {},
   "outputs": [],
   "source": [
    "# print(df.shape)\n",
    "# all_sectors_df = all_sectors_df.drop(['daily_returns','rolling_beta'],axis=1).drop_duplicates()\n",
    "# all_sectors_df_P1_suffix = all_sectors_df.copy()\n",
    "# all_sectors_df_P1_suffix.columns = ['Date','Sector']+[c+'_P1' for c in all_sectors_df.columns if c not in ['Date','Sector']]\n",
    "# all_sectors_df_P2_suffix = all_sectors_df.copy()\n",
    "# all_sectors_df_P2_suffix.columns = ['Date','Sector']+[c+'_P2' for c in all_sectors_df.columns if c not in ['Date','Sector']]\n",
    "\n",
    "# df = pd.merge(df,all_sectors_df_P1_suffix,left_on=['Date','Sector_P1'],right_on=['Date','Sector'],\\\n",
    "#               how='left',suffixes=['','_P1']).drop_duplicates()\n",
    "# print(df.shape)\n",
    "# df = pd.merge(df,all_sectors_df_P2_suffix,left_on=['Date','Sector_P2'],right_on=['Date','Sector'],\\\n",
    "#               how='left',suffixes=['','_P2']).drop_duplicates()\n",
    "# print(df.shape)\n",
    "# df = df.loc[:,~df.columns.duplicated()]\n",
    "# print(df.shape)"
   ]
  },
  {
   "cell_type": "code",
   "execution_count": null,
   "id": "336ab0ef",
   "metadata": {},
   "outputs": [],
   "source": [
    "# del all_sectors_df_P1_suffix, all_sectors_df_P2_suffix\n",
    "# gc.collect()"
   ]
  },
  {
   "cell_type": "markdown",
   "id": "57d5a459",
   "metadata": {},
   "source": [
    "### Diff Values"
   ]
  },
  {
   "cell_type": "code",
   "execution_count": null,
   "id": "368fbfef",
   "metadata": {},
   "outputs": [],
   "source": [
    "for c in ['Close', 'High', 'Low', 'Volume', 'rolling_beta', 'rsi', 'kama',\n",
    "       'adi', 'vpt', 'atr', 'bb_ma', 'adx', 'ema', 'macd', 'dlr',\n",
    "       'daily_returns', '50 Days Average', '200 Days Average']:\n",
    "# ,\n",
    "#        'sector_rolling_beta_mean', 'sector_rolling_beta_std',\n",
    "#        'sector_daily_return_mean', 'sector_daily_return_std']:\n",
    "    df['DIFF_'+c] = df[c+'_P1'] - df[c+'_P2']"
   ]
  },
  {
   "cell_type": "code",
   "execution_count": null,
   "id": "94416b24",
   "metadata": {},
   "outputs": [],
   "source": [
    "df['DIFF_abs_spread_mean_l28_500'] = df['abs_spread_mean_l28'] - df['abs_spread_mean']"
   ]
  },
  {
   "cell_type": "code",
   "execution_count": null,
   "id": "181fb341",
   "metadata": {},
   "outputs": [],
   "source": [
    "df.isna().sum().sort_values(ascending=False).head(20)"
   ]
  },
  {
   "cell_type": "code",
   "execution_count": null,
   "id": "761ef82b",
   "metadata": {},
   "outputs": [],
   "source": [
    "# stop"
   ]
  },
  {
   "cell_type": "markdown",
   "id": "22c180c4",
   "metadata": {},
   "source": [
    "# Classification"
   ]
  },
  {
   "cell_type": "code",
   "execution_count": null,
   "id": "9fcb9335",
   "metadata": {},
   "outputs": [],
   "source": [
    "categorical_features = ['Sector_P1','Sector_P2','Industry_P1','Industry_P2']"
   ]
  },
  {
   "cell_type": "code",
   "execution_count": null,
   "id": "d07cc622",
   "metadata": {},
   "outputs": [],
   "source": [
    "for c in categorical_features:\n",
    "    df[c] = df[c].astype('category')"
   ]
  },
  {
   "cell_type": "code",
   "execution_count": null,
   "id": "aa96468e",
   "metadata": {},
   "outputs": [],
   "source": [
    "df.groupby('recommended_trade').mean()"
   ]
  },
  {
   "cell_type": "markdown",
   "id": "6e192053",
   "metadata": {},
   "source": [
    "## X,y split"
   ]
  },
  {
   "cell_type": "code",
   "execution_count": null,
   "id": "efbfc6f9",
   "metadata": {},
   "outputs": [],
   "source": [
    "df['PNL_IS_0'] = np.where(df.pnls==0,1,0)"
   ]
  },
  {
   "cell_type": "code",
   "execution_count": null,
   "id": "f81a6ba4-f349-4f4c-af14-b2bc2ca5501b",
   "metadata": {},
   "outputs": [],
   "source": [
    "df = pd.merge(df, spy_df[['Date','SPY_return_next_60']], how='left', on='Date')\n",
    "df['better_than_spy'] = df.SPY_return_next_60 < df.pnls\n",
    "df['recommended_trade'] = (df.pnls >= 0) & (df.better_than_spy)"
   ]
  },
  {
   "cell_type": "code",
   "execution_count": null,
   "id": "0bf5d2ad",
   "metadata": {},
   "outputs": [],
   "source": [
    "np.mean(df.recommended_trade==1)"
   ]
  },
  {
   "cell_type": "code",
   "execution_count": null,
   "id": "18419285-830b-4356-8c57-1eb401b4487b",
   "metadata": {},
   "outputs": [],
   "source": [
    "df.pnls.describe()"
   ]
  },
  {
   "cell_type": "code",
   "execution_count": null,
   "id": "d62ddeeb-61b1-4a56-a5fc-f85743283843",
   "metadata": {},
   "outputs": [],
   "source": [
    "sum(df.pnls > 0)/len(df.pnls)"
   ]
  },
  {
   "cell_type": "code",
   "execution_count": null,
   "id": "295f2fae-3b8c-497b-b2f9-8f28e88e3a0d",
   "metadata": {},
   "outputs": [],
   "source": [
    "sum(df.pnls < 0)/len(df.pnls)"
   ]
  },
  {
   "cell_type": "code",
   "execution_count": null,
   "id": "e04bb13d-52d8-410d-8a72-12626c074d48",
   "metadata": {},
   "outputs": [],
   "source": [
    "sum(df.pnls== 0)/len(df.pnls)"
   ]
  },
  {
   "cell_type": "code",
   "execution_count": null,
   "id": "c7ee0126-f28f-4208-96f5-b0498101086b",
   "metadata": {},
   "outputs": [],
   "source": [
    "df.columns"
   ]
  },
  {
   "cell_type": "code",
   "execution_count": null,
   "id": "af81008a",
   "metadata": {},
   "outputs": [],
   "source": [
    "features_raw = df.drop(categorical_features+['PNL_IS_0']+\\\n",
    "                   ['abs_spread_normed_max','abs_spread_normed_median',\\\n",
    "                    'abs_spread_normed_75th','abs_spread_normed_90th',\\\n",
    "                    'Date','Ticker_P1','Ticker_P2','SPY_Close_P1','SPY_Close_P2',\\\n",
    "                    'num_entries','pnls']+[c for c in df.columns if '_P1_P1' in c or '_P2_P2' in c],axis=1).columns.tolist()+categorical_features\n",
    "\n",
    "# label = 'PNL_IS_0'\n",
    "label = ['recommended_trade']"
   ]
  },
  {
   "cell_type": "code",
   "execution_count": null,
   "id": "caeebb4e-3e8d-4c45-a201-1a8f390ac801",
   "metadata": {},
   "outputs": [],
   "source": [
    "features = [\n",
    "    'Close_P1', 'Close_P2', 'High_P1', 'High_P2', 'Low_P1', 'Low_P2', 'Volume_P1', 'Volume_P2', \n",
    "    'abs_spread', 'abs_spread_mean', 'abs_spread_std', 'abs_spread_mean_l28', 'abs_spread_std_l28', \n",
    "    'spread_normed', 'abs_spread_normed_l7_avg', 'abs_spread_normed_l14_avg', 'cos_sim', 'corr_coef',\n",
    "    'SPY_Close', 'rolling_beta_P1', 'rsi_P1', 'kama_P1', 'adi_P1', 'vpt_P1', 'atr_P1', 'bb_ma_P1',\n",
    "    'adx_P1', 'ema_P1', 'macd_P1', 'dlr_P1', 'daily_returns_P1', '50 Days Average_P1', '200 Days Average_P1', \n",
    "    'rolling_beta_P2', 'rsi_P2', 'kama_P2', 'adi_P2', 'vpt_P2', 'atr_P2', 'bb_ma_P2', 'adx_P2', 'ema_P2',\n",
    "    'macd_P2', 'dlr_P2', 'daily_returns_P2', '50 Days Average_P2', '200 Days Average_P2', 'PREV_num_entries', \n",
    "    'PREV_pnls', 'DIFF_Close', 'DIFF_High', 'DIFF_Low', 'DIFF_Volume', 'DIFF_rolling_beta', 'DIFF_rsi',\n",
    "    'DIFF_kama', 'DIFF_adi', 'DIFF_vpt', 'DIFF_atr', 'DIFF_bb_ma', 'DIFF_adx', 'DIFF_ema', 'DIFF_macd',\n",
    "    'DIFF_dlr', 'DIFF_daily_returns', 'DIFF_50 Days Average', 'DIFF_200 Days Average',\n",
    "    'DIFF_abs_spread_mean_l28_500', 'same_sector_flag','same_sub_industry_flag',\n",
    "    'Sector_P1', 'Sector_P2', 'Industry_P1', 'Industry_P2'\n",
    "]\n",
    "\n",
    "# features = [\n",
    "#     'Volume_P1', 'Volume_P2', \n",
    "#     'abs_spread', 'abs_spread_mean', 'abs_spread_std', 'abs_spread_mean_l28', 'abs_spread_std_l28', \n",
    "#     'spread_normed', 'abs_spread_normed_l7_avg', 'abs_spread_normed_l14_avg', 'cos_sim', 'corr_coef',\n",
    "#     'rolling_beta_P1', 'rsi_P1', 'kama_P1', 'adi_P1', 'vpt_P1', 'atr_P1', 'bb_ma_P1',\n",
    "#     'adx_P1', 'ema_P1', 'macd_P1', 'dlr_P1', 'daily_returns_P1', '50 Days Average_P1', '200 Days Average_P1', \n",
    "#     'rolling_beta_P2', 'rsi_P2', 'kama_P2', 'adi_P2', 'vpt_P2', 'atr_P2', 'bb_ma_P2', 'adx_P2', 'ema_P2',\n",
    "#     'macd_P2', 'dlr_P2', 'daily_returns_P2', '50 Days Average_P2', '200 Days Average_P2', 'PREV_num_entries', \n",
    "#     'PREV_pnls', 'Sector_P1', 'Sector_P2', 'Industry_P1', 'Industry_P2'\n",
    "# ]"
   ]
  },
  {
   "cell_type": "code",
   "execution_count": null,
   "id": "017a4402",
   "metadata": {},
   "outputs": [],
   "source": [
    "print(df.shape)\n",
    "df.replace([np.inf, -np.inf], np.nan, inplace=True)\n",
    "df = df.dropna(subset=features)\n",
    "print(df.shape)"
   ]
  },
  {
   "cell_type": "code",
   "execution_count": null,
   "id": "51d046eb",
   "metadata": {},
   "outputs": [],
   "source": [
    "print(df.Date.min(),df.Date.max())"
   ]
  },
  {
   "cell_type": "code",
   "execution_count": null,
   "id": "2a8b0e3c",
   "metadata": {},
   "outputs": [],
   "source": [
    "X = df[features]\n",
    "y = df[label]"
   ]
  },
  {
   "cell_type": "markdown",
   "id": "37edade9",
   "metadata": {},
   "source": [
    "## Train test split"
   ]
  },
  {
   "cell_type": "code",
   "execution_count": null,
   "id": "4cde1143",
   "metadata": {},
   "outputs": [],
   "source": [
    "X_train, X_test, y_train, y_test = train_test_split(X, y, test_size=0.2, random_state=42,shuffle=False)\n",
    "X_val, X_test, y_val, y_test = train_test_split(X_test, y_test, test_size=0.5, random_state=42,shuffle=False)"
   ]
  },
  {
   "cell_type": "code",
   "execution_count": null,
   "id": "bdfc0542",
   "metadata": {},
   "outputs": [],
   "source": [
    "print(df.loc[X_val.index].Date.min(),df.loc[X_val.index].Date.max())"
   ]
  },
  {
   "cell_type": "code",
   "execution_count": null,
   "id": "f31a40a3-fb3e-4679-82a2-0debbe14cf26",
   "metadata": {},
   "outputs": [],
   "source": [
    "print(df.loc[X_train.index].Date.min(),df.loc[X_train.index].Date.max())"
   ]
  },
  {
   "cell_type": "code",
   "execution_count": null,
   "id": "b93bf3bf-a35a-4a56-9caf-ffca60ea6969",
   "metadata": {},
   "outputs": [],
   "source": [
    "print(df.loc[X_test.index].Date.min(),df.loc[X_test.index].Date.max())"
   ]
  },
  {
   "cell_type": "code",
   "execution_count": null,
   "id": "b10a6909",
   "metadata": {},
   "outputs": [],
   "source": [
    "print(X_train.shape)\n",
    "print(X_val.shape)\n",
    "print(X_test.shape)"
   ]
  },
  {
   "cell_type": "code",
   "execution_count": null,
   "id": "68ecc4e1",
   "metadata": {},
   "outputs": [],
   "source": [
    "y_train.value_counts()"
   ]
  },
  {
   "cell_type": "code",
   "execution_count": null,
   "id": "2b2bc491",
   "metadata": {},
   "outputs": [],
   "source": [
    "y_val.value_counts()"
   ]
  },
  {
   "cell_type": "code",
   "execution_count": null,
   "id": "98f9860e",
   "metadata": {},
   "outputs": [],
   "source": [
    "y_test.value_counts()"
   ]
  },
  {
   "cell_type": "code",
   "execution_count": null,
   "id": "ef8d5e69",
   "metadata": {},
   "outputs": [],
   "source": [
    "undersample = RandomUnderSampler(sampling_strategy='majority')\n",
    "X_train, y_train = undersample.fit_resample(X_train, y_train)"
   ]
  },
  {
   "cell_type": "markdown",
   "id": "b5888e61",
   "metadata": {},
   "source": [
    "## Logistic Regression"
   ]
  },
  {
   "cell_type": "code",
   "execution_count": null,
   "id": "d7b12def",
   "metadata": {},
   "outputs": [],
   "source": [
    "scaler = StandardScaler().fit(X_train.drop(categorical_features,axis=1))\n",
    "scaled_X_train = scaler.transform(X_train.drop(categorical_features,axis=1))\n",
    "scaled_X_val = scaler.transform(X_val.drop(categorical_features,axis=1))\n",
    "scaled_X_test = scaler.transform(X_test.drop(categorical_features,axis=1))"
   ]
  },
  {
   "cell_type": "code",
   "execution_count": null,
   "id": "e7cf5e93",
   "metadata": {},
   "outputs": [],
   "source": [
    "y.value_counts()"
   ]
  },
  {
   "cell_type": "code",
   "execution_count": null,
   "id": "1ef9aee2",
   "metadata": {},
   "outputs": [],
   "source": [
    "clf = LogisticRegression()\n",
    "\n",
    "# Train the model using the training sets\n",
    "clf.fit(scaled_X_train, y_train)\n",
    "\n",
    "# Make predictions using the testing set\n",
    "lr_preds = clf.predict(scaled_X_test)\n",
    "\n",
    "lr_pred_proba = clf.predict_proba(scaled_X_test)\n",
    "lr_pred_proba = np.array([x[1] for x in lr_pred_proba])"
   ]
  },
  {
   "cell_type": "code",
   "execution_count": null,
   "id": "928723c3",
   "metadata": {},
   "outputs": [],
   "source": [
    "print(f1_score(y_test, lr_preds, average='weighted'))\n",
    "print(f1_score(y_test, lr_preds, average='micro'))\n",
    "print(f1_score(y_test, lr_preds, average='macro'))\n",
    "\n",
    "print(precision_score(y_test, lr_preds))\n",
    "print(recall_score(y_test, lr_preds))"
   ]
  },
  {
   "cell_type": "code",
   "execution_count": null,
   "id": "92529ea9-daeb-4bb9-919e-5e7bf3c6660f",
   "metadata": {},
   "outputs": [],
   "source": [
    "np.mean(lr_preds)"
   ]
  },
  {
   "cell_type": "markdown",
   "id": "53b1c14a",
   "metadata": {},
   "source": [
    "## Confusion Matrix"
   ]
  },
  {
   "cell_type": "code",
   "execution_count": null,
   "id": "a6a91ce1",
   "metadata": {},
   "outputs": [],
   "source": [
    "cm = confusion_matrix(y_test, lr_preds, labels=clf.classes_,normalize='true')"
   ]
  },
  {
   "cell_type": "code",
   "execution_count": null,
   "id": "4ac79104",
   "metadata": {},
   "outputs": [],
   "source": [
    "disp = ConfusionMatrixDisplay(confusion_matrix=cm, display_labels=clf.classes_)\n",
    "disp.plot()"
   ]
  },
  {
   "cell_type": "markdown",
   "id": "97fe1a97",
   "metadata": {},
   "source": [
    "## Feature Importance"
   ]
  },
  {
   "cell_type": "code",
   "execution_count": null,
   "id": "1b4d16ee",
   "metadata": {},
   "outputs": [],
   "source": [
    "pi = permutation_importance(clf,scaled_X_test,y_test)\n",
    "\n",
    "coefs = pd.DataFrame(\n",
    "    pi['importances_mean'], columns=[\"Coefficients\"], index=X_train.drop(categorical_features,axis=1).columns\n",
    ")\n",
    "\n",
    "coefs.plot(kind=\"barh\", figsize=(20, 7))\n",
    "plt.title(\"Logistic Regression model\")\n",
    "plt.axvline(x=0, color=\".5\")\n",
    "plt.subplots_adjust(left=0.3)"
   ]
  },
  {
   "cell_type": "markdown",
   "id": "589358d0",
   "metadata": {},
   "source": [
    "## GBM"
   ]
  },
  {
   "cell_type": "markdown",
   "id": "a75c8f68",
   "metadata": {},
   "source": [
    "### Optuna"
   ]
  },
  {
   "cell_type": "code",
   "execution_count": null,
   "id": "ea0ad31a",
   "metadata": {},
   "outputs": [],
   "source": [
    "def objective(trial):\n",
    "    params = {\n",
    "        'boosting':'dart',\n",
    "        \"objective\": \"binary\",\n",
    "#         \"metric\": \"accuracy\",\n",
    "        'class_weight':'balanced',\n",
    "        \"n_estimators\": 300,\n",
    "        \"verbosity\": -1,\n",
    "        \"bagging_freq\": 1,\n",
    "        'max_bin':trial.suggest_int('max_bin',64,1024),\n",
    "        'max_depth':trial.suggest_int('max_depth',4,20),\n",
    "\n",
    "        \"learning_rate\": trial.suggest_float(\"learning_rate\", 1e-4, 0.2, log=True),\n",
    "        \"num_leaves\": trial.suggest_int(\"num_leaves\", 2, 3000),\n",
    "        \"subsample\": trial.suggest_float(\"subsample\", 0.05, 1.0),\n",
    "        \"colsample_bytree\": trial.suggest_float(\"colsample_bytree\", 0.05, 1.0),\n",
    "        \"min_data_in_leaf\": trial.suggest_int(\"min_data_in_leaf\", 1, 1000),\n",
    "    }\n",
    "\n",
    "    model = lgb.LGBMClassifier(**params)\n",
    "    model.fit(X_train.drop(categorical_features,axis=1),y_train)\n",
    "    predictions = model.predict(X_val.drop(categorical_features,axis=1))\n",
    "    f1 = f1_score(y_val, predictions, average='weighted')\n",
    "    return -1*f1"
   ]
  },
  {
   "cell_type": "code",
   "execution_count": null,
   "id": "94bcbfe6",
   "metadata": {},
   "outputs": [],
   "source": [
    "study = optuna.create_study(direction='minimize')\n",
    "study.optimize(objective, n_trials=30)"
   ]
  },
  {
   "cell_type": "code",
   "execution_count": null,
   "id": "72252d00",
   "metadata": {},
   "outputs": [],
   "source": [
    "print('Best hyperparameters:', study.best_params)\n",
    "print('Best F1:', study.best_value*(-1))"
   ]
  },
  {
   "cell_type": "code",
   "execution_count": null,
   "id": "f1974e05",
   "metadata": {},
   "outputs": [],
   "source": [
    "hyper_params = study.best_params"
   ]
  },
  {
   "cell_type": "code",
   "execution_count": null,
   "id": "b427a6a1",
   "metadata": {},
   "outputs": [],
   "source": [
    "y_train.value_counts()/len(y_train)"
   ]
  },
  {
   "cell_type": "code",
   "execution_count": null,
   "id": "b60a2c02",
   "metadata": {},
   "outputs": [],
   "source": [
    "gbm = lgb.LGBMClassifier(**hyper_params)\n",
    "callbacks = [\\\n",
    "#             lgb.early_stopping(stopping_rounds=10, verbose=1,min_delta=0.001,first_metric_only=False), \n",
    "             lgb.log_evaluation(period=1)]\n",
    "\n",
    "gbm.fit(X_train.drop(categorical_features,axis=1),y_train, \n",
    "        eval_set=[(X_val.drop(categorical_features,axis=1), y_val)],\n",
    "        eval_metric='accuracy',\n",
    "        callbacks=callbacks,\n",
    "        feature_name = [f for f in features if f not in categorical_features],\n",
    "#         categorical_feature=categorical_features\n",
    "       )"
   ]
  },
  {
   "cell_type": "code",
   "execution_count": null,
   "id": "639932dc",
   "metadata": {},
   "outputs": [],
   "source": [
    "gbm_preds = gbm.predict(X_test.drop(categorical_features,axis=1))"
   ]
  },
  {
   "cell_type": "code",
   "execution_count": null,
   "id": "d36a99ff",
   "metadata": {},
   "outputs": [],
   "source": [
    "print(f1_score(y_test, gbm_preds, average='weighted'))\n",
    "print(f1_score(y_test, gbm_preds, average='micro'))\n",
    "print(f1_score(y_test, gbm_preds, average='macro'))"
   ]
  },
  {
   "cell_type": "code",
   "execution_count": null,
   "id": "df5d82f5",
   "metadata": {},
   "outputs": [],
   "source": [
    "cm = confusion_matrix(y_test, gbm_preds, labels=gbm.classes_,normalize='true')\n",
    "disp = ConfusionMatrixDisplay(confusion_matrix=cm, display_labels=gbm.classes_)\n",
    "disp.plot()"
   ]
  },
  {
   "cell_type": "code",
   "execution_count": null,
   "id": "8d522602",
   "metadata": {},
   "outputs": [],
   "source": [
    "importances = gbm.feature_importances_\n",
    "importances = pd.Series(importances,index=X_train.drop(categorical_features,axis=1).columns).sort_values(ascending=True)"
   ]
  },
  {
   "cell_type": "code",
   "execution_count": null,
   "id": "f68914d0",
   "metadata": {},
   "outputs": [],
   "source": [
    "fig,ax=plt.subplots(figsize=[16,14])\n",
    "importances.plot.barh(ax=ax)\n",
    "ax.set_title(\"Feature Importance by Gain\")\n",
    "fig.tight_layout()"
   ]
  },
  {
   "cell_type": "code",
   "execution_count": null,
   "id": "c950e3ca",
   "metadata": {},
   "outputs": [],
   "source": [
    "# STOP"
   ]
  },
  {
   "cell_type": "markdown",
   "id": "a1ef8c12",
   "metadata": {},
   "source": [
    "# Regression"
   ]
  },
  {
   "cell_type": "markdown",
   "id": "8fec1708",
   "metadata": {},
   "source": [
    "## Remove 0s?"
   ]
  },
  {
   "cell_type": "code",
   "execution_count": null,
   "id": "3de42f15",
   "metadata": {},
   "outputs": [],
   "source": [
    "df[df.pnls==0].shape[0]*100.0/df.shape[0]"
   ]
  },
  {
   "cell_type": "code",
   "execution_count": null,
   "id": "d7725fc9",
   "metadata": {},
   "outputs": [],
   "source": [
    "df = df[df.pnls!=0]\n"
   ]
  },
  {
   "cell_type": "markdown",
   "id": "099dd587",
   "metadata": {},
   "source": [
    "## X,y split"
   ]
  },
  {
   "cell_type": "code",
   "execution_count": null,
   "id": "aa8a8cc3",
   "metadata": {},
   "outputs": [],
   "source": []
  },
  {
   "cell_type": "code",
   "execution_count": null,
   "id": "a8f0be7b",
   "metadata": {
    "scrolled": true
   },
   "outputs": [],
   "source": [
    "features = df.drop(categorical_features+['PNL_IS_0']+\\\n",
    "                   ['abs_spread_normed_max','abs_spread_normed_median',\\\n",
    "                    'abs_spread_normed_75th','abs_spread_normed_90th',\\\n",
    "                    'Date','Ticker_P1','Ticker_P2','SPY_Close_P1','SPY_Close_P2',\\\n",
    "                    'num_entries','pnls']+[c for c in df.columns if '_P1_P1' in c or '_P2_P2' in c],axis=1).columns.tolist()+categorical_features\n",
    "label = 'pnls'\n",
    "\n"
   ]
  },
  {
   "cell_type": "code",
   "execution_count": null,
   "id": "8c8dd691",
   "metadata": {},
   "outputs": [],
   "source": [
    "X = df[features]\n",
    "y = df[label]"
   ]
  },
  {
   "cell_type": "code",
   "execution_count": null,
   "id": "d0283e3c",
   "metadata": {},
   "outputs": [],
   "source": [
    "# y = pd.Series(np.where(y.abs()<=3.5,0,np.where(y<0,-1,1)))"
   ]
  },
  {
   "cell_type": "code",
   "execution_count": null,
   "id": "f9194e1f",
   "metadata": {},
   "outputs": [],
   "source": [
    "# y.value_counts()"
   ]
  },
  {
   "cell_type": "markdown",
   "id": "05d17a49",
   "metadata": {},
   "source": [
    "## Train test split"
   ]
  },
  {
   "cell_type": "code",
   "execution_count": null,
   "id": "a4f17a64",
   "metadata": {},
   "outputs": [],
   "source": [
    "y.abs().describe(np.arange(0,1,0.1))"
   ]
  },
  {
   "cell_type": "code",
   "execution_count": null,
   "id": "090fd4ef",
   "metadata": {},
   "outputs": [],
   "source": [
    "X_train, X_test, y_train, y_test = train_test_split(X, y, test_size=0.2, random_state=42,shuffle=False)\n",
    "X_val, X_test, y_val, y_test = train_test_split(X_test, y_test, test_size=0.5, random_state=42,shuffle=False)"
   ]
  },
  {
   "cell_type": "markdown",
   "id": "fdec538a",
   "metadata": {},
   "source": [
    "### Filter Outliers?"
   ]
  },
  {
   "cell_type": "code",
   "execution_count": null,
   "id": "8c1af05b",
   "metadata": {},
   "outputs": [],
   "source": [
    "u = np.mean(y_train)\n",
    "s = np.std(y_train)\n",
    "y_train = y_train[(y_train>(u-2*s)) & (y_train<(u+2*s))]\n",
    "X_train = X_train.loc[y_train.index]"
   ]
  },
  {
   "cell_type": "code",
   "execution_count": null,
   "id": "19ed2515",
   "metadata": {},
   "outputs": [],
   "source": [
    "# undersample = RandomUnderSampler(sampling_strategy='not minority')\n",
    "# X_train, y_train = undersample.fit_resample(X_train, y_train)"
   ]
  },
  {
   "cell_type": "code",
   "execution_count": null,
   "id": "cf79404f",
   "metadata": {},
   "outputs": [],
   "source": [
    "y_train.value_counts()"
   ]
  },
  {
   "cell_type": "code",
   "execution_count": null,
   "id": "dbce4838",
   "metadata": {},
   "outputs": [],
   "source": [
    "y_val.value_counts()"
   ]
  },
  {
   "cell_type": "code",
   "execution_count": null,
   "id": "27ed399b",
   "metadata": {},
   "outputs": [],
   "source": [
    "y_test.value_counts()"
   ]
  },
  {
   "cell_type": "markdown",
   "id": "b268f6ea",
   "metadata": {},
   "source": [
    "## GBM"
   ]
  },
  {
   "cell_type": "code",
   "execution_count": null,
   "id": "a2cd2f0a",
   "metadata": {},
   "outputs": [],
   "source": [
    "# def objective(trial):\n",
    "#     params = {\n",
    "#         'boosting':'dart',\n",
    "#         \"objective\": \"multiclass\",\n",
    "# #         'device':'gpu',\n",
    "# #         \"metric\": \"accuracy\",\n",
    "# #         'class_weight':'balanced',\n",
    "#         \"n_estimators\": 300,\n",
    "#         \"verbosity\": -1,\n",
    "#         \"bagging_freq\": 1,\n",
    "#         'max_bin':trial.suggest_int('max_bin',64,1024),\n",
    "#         'max_depth':trial.suggest_int('max_depth',4,20),\n",
    "\n",
    "#         \"learning_rate\": trial.suggest_float(\"learning_rate\", 1e-4, 0.2, log=True),\n",
    "#         \"num_leaves\": trial.suggest_int(\"num_leaves\", 2, 3000),\n",
    "#         \"subsample\": trial.suggest_float(\"subsample\", 0.05, 1.0),\n",
    "#         \"colsample_bytree\": trial.suggest_float(\"colsample_bytree\", 0.05, 1.0),\n",
    "#         \"min_data_in_leaf\": trial.suggest_int(\"min_data_in_leaf\", 1, 1000),\n",
    "#     }\n",
    "\n",
    "#     model = lgb.LGBMClassifier(**params)\n",
    "#     model.fit(X_train.drop(categorical_features,axis=1),y_train)\n",
    "#     predictions = model.predict(X_val.drop(categorical_features,axis=1))\n",
    "#     f1 = f1_score(y_val, predictions, average='weighted')\n",
    "#     return -1*f1"
   ]
  },
  {
   "cell_type": "code",
   "execution_count": null,
   "id": "7218c89c",
   "metadata": {},
   "outputs": [],
   "source": [
    "def objective(trial):\n",
    "    params = {\n",
    "        'boosting':'dart',\n",
    "        \"objective\": \"mse\",\n",
    "#         'device':'gpu',\n",
    "        \"metric\": 'l1',\n",
    "#         'class_weight':'balanced',\n",
    "        \"n_estimators\": 300,\n",
    "        \"verbosity\": -1,\n",
    "#         \"bagging_freq\": 1,\n",
    "        'max_bin':trial.suggest_int('max_bin',64,1024),\n",
    "        'max_depth':trial.suggest_int('max_depth',4,20),\n",
    "\n",
    "        \"learning_rate\": trial.suggest_float(\"learning_rate\", 1e-4, 0.2, log=True),\n",
    "        \"num_leaves\": trial.suggest_int(\"num_leaves\", 2, 3000),\n",
    "        \"subsample\": trial.suggest_float(\"subsample\", 0.05, 1.0),\n",
    "        \"colsample_bytree\": trial.suggest_float(\"colsample_bytree\", 0.05, 1.0),\n",
    "        \"min_data_in_leaf\": trial.suggest_int(\"min_data_in_leaf\", 1, 1000),\n",
    "    }\n",
    "\n",
    "    model = lgb.LGBMRegressor(**params)\n",
    "    model.fit(X_train.drop(categorical_features,axis=1),y_train)\n",
    "    predictions = model.predict(X_val.drop(categorical_features,axis=1))\n",
    "    mae = np.mean(abs(predictions-y_val))\n",
    "    return mae"
   ]
  },
  {
   "cell_type": "code",
   "execution_count": null,
   "id": "eb8b4a64",
   "metadata": {},
   "outputs": [],
   "source": [
    "study = optuna.create_study(direction='minimize')\n",
    "study.optimize(objective, n_trials=30)"
   ]
  },
  {
   "cell_type": "code",
   "execution_count": null,
   "id": "c4ee2869",
   "metadata": {},
   "outputs": [],
   "source": [
    "df[[c for c in features if c not in categorical_features]+[label]].corr()['pnls'].abs().sort_values(ascending=False).head(10)"
   ]
  },
  {
   "cell_type": "code",
   "execution_count": null,
   "id": "ff16ab62",
   "metadata": {},
   "outputs": [],
   "source": [
    "print('Best hyperparameters:', study.best_params)\n",
    "print('Best mae:', study.best_value)"
   ]
  },
  {
   "cell_type": "code",
   "execution_count": null,
   "id": "27c3d165",
   "metadata": {},
   "outputs": [],
   "source": [
    "hyper_params = study.best_params"
   ]
  },
  {
   "cell_type": "code",
   "execution_count": null,
   "id": "7f5b323e",
   "metadata": {},
   "outputs": [],
   "source": [
    "# hyper_params = {\n",
    "# #     'task': 'train',\n",
    "#     'boosting_type': 'gbdt',\n",
    "#     'objective': 'mae',\n",
    "#     'metric': ['l1'],\n",
    "# #     'eval_metric': ['l1'],\n",
    "# #     'early_stopping_rounds':10,\n",
    "#     'learning_rate': 0.2,\n",
    "# #     'feature_fraction': 0.9,\n",
    "# #     'bagging_fraction': 0.7,\n",
    "# #     'bagging_freq': 10,\n",
    "#     'verbosity': 1,\n",
    "# #     \"max_depth\": 8,\n",
    "# #     \"num_leaves\": 128,  \n",
    "# #     \"max_bin\": 512,\n",
    "#     \"num_iterations\": 200,\n",
    "#     \"importance_type\":\"gain\"\n",
    "    \n",
    "# #     \"silent\":False\n",
    "# }"
   ]
  },
  {
   "cell_type": "code",
   "execution_count": null,
   "id": "5c822aec",
   "metadata": {},
   "outputs": [],
   "source": [
    "gbm = lgb.LGBMRegressor(**hyper_params)\n",
    "# gbm = lgb.LGBMClassifier(**hyper_params)\n",
    "\n",
    "callbacks = [\\\n",
    "#             lgb.early_stopping(stopping_rounds=10, verbose=1,min_delta=0.001,first_metric_only=False), \n",
    "             lgb.log_evaluation(period=1)]\n",
    "\n",
    "gbm.fit(X_train.drop(categorical_features,axis=1),y_train, \n",
    "        eval_set=[(X_val.drop(categorical_features,axis=1), y_val )],\n",
    "#         eval_metric='l1',\n",
    "        callbacks=callbacks,\n",
    "#         feature_name = features,\n",
    "#         categorical_feature=categorical_features\n",
    "       )"
   ]
  },
  {
   "cell_type": "code",
   "execution_count": null,
   "id": "d92b6f94",
   "metadata": {},
   "outputs": [],
   "source": [
    "# preds = gbm.predict(X_test.drop(categorical_features,axis=1))\n",
    "# cm = confusion_matrix(y_test, preds, labels=gbm.classes_,normalize='true')\n",
    "# cm"
   ]
  },
  {
   "cell_type": "code",
   "execution_count": null,
   "id": "70dd121b",
   "metadata": {},
   "outputs": [],
   "source": [
    "# disp = ConfusionMatrixDisplay(confusion_matrix=cm, display_labels=gbm.classes_)\n",
    "# disp.plot()"
   ]
  },
  {
   "cell_type": "markdown",
   "id": "549a3994",
   "metadata": {},
   "source": [
    "### GBM feature importance"
   ]
  },
  {
   "cell_type": "code",
   "execution_count": null,
   "id": "d473d0f7",
   "metadata": {},
   "outputs": [],
   "source": [
    "importances = gbm.feature_importances_\n",
    "importances = pd.Series(importances,index=X_train.drop(categorical_features,axis=1).columns).sort_values(ascending=True)"
   ]
  },
  {
   "cell_type": "code",
   "execution_count": null,
   "id": "926489a6",
   "metadata": {},
   "outputs": [],
   "source": [
    "fig,ax=plt.subplots(figsize=[16,14])\n",
    "importances.plot.barh(ax=ax)\n",
    "ax.set_title(\"Feature Importance by Gain\")\n",
    "fig.tight_layout()"
   ]
  },
  {
   "cell_type": "code",
   "execution_count": null,
   "id": "736769d6",
   "metadata": {},
   "outputs": [],
   "source": [
    "pi = permutation_importance(gbm,X_test.drop(categorical_features,axis=1),y_test)\n",
    "\n",
    "coefs = pd.DataFrame(\n",
    "    pi['importances_mean'], columns=[\"Coefficients\"], index=X_train.drop(categorical_features,axis=1).columns\n",
    ")\n",
    "coefs.plot(kind=\"barh\", figsize=(9, 7))\n",
    "plt.title(\"Logistic Regression model\")\n",
    "plt.axvline(x=0, color=\".5\")\n",
    "plt.subplots_adjust(left=0.3)"
   ]
  },
  {
   "cell_type": "markdown",
   "id": "315a5b3c",
   "metadata": {},
   "source": [
    "## Error Analysis"
   ]
  },
  {
   "cell_type": "code",
   "execution_count": null,
   "id": "119a152f",
   "metadata": {},
   "outputs": [],
   "source": [
    "preds = gbm.predict(X_test.drop(categorical_features,axis=1))"
   ]
  },
  {
   "cell_type": "code",
   "execution_count": null,
   "id": "c2bb9119",
   "metadata": {},
   "outputs": [],
   "source": [
    "results = pd.DataFrame({'preds':preds,'true':y_test})\n",
    "results"
   ]
  },
  {
   "cell_type": "code",
   "execution_count": null,
   "id": "1226314d",
   "metadata": {},
   "outputs": [],
   "source": [
    "results.describe(np.arange(0,1,0.1))"
   ]
  },
  {
   "cell_type": "code",
   "execution_count": null,
   "id": "48f706ff",
   "metadata": {},
   "outputs": [],
   "source": [
    "mae = (preds-y_test).abs().mean()\n",
    "mae"
   ]
  },
  {
   "cell_type": "code",
   "execution_count": null,
   "id": "306eaa32",
   "metadata": {},
   "outputs": [],
   "source": [
    "mean_abs_label = y_test.abs().mean()\n",
    "mean_abs_label"
   ]
  },
  {
   "cell_type": "code",
   "execution_count": null,
   "id": "83a7f8f8",
   "metadata": {},
   "outputs": [],
   "source": [
    "mae/mean_abs_label"
   ]
  },
  {
   "cell_type": "code",
   "execution_count": null,
   "id": "0a882213",
   "metadata": {},
   "outputs": [],
   "source": [
    "mae_AR1 = (X_test.PREV_pnls - pnl_not_0.true).abs().mean()\n",
    "mae_AR1"
   ]
  },
  {
   "cell_type": "code",
   "execution_count": null,
   "id": "02952fdd",
   "metadata": {},
   "outputs": [],
   "source": [
    "mae/mae_AR1"
   ]
  },
  {
   "cell_type": "markdown",
   "id": "d2d90ce9",
   "metadata": {},
   "source": [
    "## Linear Regression"
   ]
  },
  {
   "cell_type": "code",
   "execution_count": null,
   "id": "269abc7f",
   "metadata": {},
   "outputs": [],
   "source": [
    "scaler = StandardScaler().fit(X_train.drop(categorical_features,axis=1))\n",
    "scaled_X_train = scaler.transform(X_train.drop(categorical_features,axis=1))\n",
    "scaled_X_val = scaler.transform(X_val.drop(categorical_features,axis=1))\n",
    "scaled_X_test = scaler.transform(X_test.drop(categorical_features,axis=1))"
   ]
  },
  {
   "cell_type": "code",
   "execution_count": null,
   "id": "d21acc73",
   "metadata": {},
   "outputs": [],
   "source": [
    "regr = LinearRegression()\n",
    "\n",
    "# Train the model using the training sets\n",
    "regr.fit(scaled_X_train, y_train)\n",
    "\n",
    "# Make predictions using the testing set\n",
    "lr_preds = regr.predict(scaled_X_test)"
   ]
  },
  {
   "cell_type": "code",
   "execution_count": null,
   "id": "9a424e6e",
   "metadata": {},
   "outputs": [],
   "source": [
    "pi = permutation_importance(regr,scaled_X_test,y_test)\n",
    "\n",
    "coefs = pd.DataFrame(\n",
    "    pi['importances_mean'], columns=[\"Coefficients\"], index=X_train.drop(categorical_features,axis=1).columns\n",
    ")\n",
    "\n",
    "\n",
    "coefs.plot(kind=\"barh\", figsize=(9, 7))\n",
    "plt.title(\"LR model\")\n",
    "plt.axvline(x=0, color=\".5\")\n",
    "plt.subplots_adjust(left=0.3)"
   ]
  },
  {
   "cell_type": "code",
   "execution_count": null,
   "id": "f87b19f2",
   "metadata": {},
   "outputs": [],
   "source": [
    "lr_results = pd.DataFrame({'preds':lr_preds,'true':y_test})\n",
    "lr_results"
   ]
  },
  {
   "cell_type": "code",
   "execution_count": null,
   "id": "62ae30c8",
   "metadata": {},
   "outputs": [],
   "source": [
    "lr_pnl_is_0 = lr_results[lr_results.true==0]\n",
    "lr_pnl_not_0 = lr_results[lr_results.true!=0]"
   ]
  },
  {
   "cell_type": "code",
   "execution_count": null,
   "id": "27de9ffe",
   "metadata": {},
   "outputs": [],
   "source": [
    "mae = (lr_pnl_not_0.preds-lr_pnl_not_0.true).abs().mean()"
   ]
  },
  {
   "cell_type": "code",
   "execution_count": null,
   "id": "f74d4cab",
   "metadata": {},
   "outputs": [],
   "source": [
    "mae/mean_abs_label"
   ]
  },
  {
   "cell_type": "code",
   "execution_count": null,
   "id": "c6b74fc9",
   "metadata": {},
   "outputs": [],
   "source": [
    "# lr_results.loc[tmp_df.index]"
   ]
  },
  {
   "cell_type": "code",
   "execution_count": null,
   "id": "24648615",
   "metadata": {},
   "outputs": [],
   "source": [
    "from sklearn.ensemble import RandomForestRegressor"
   ]
  },
  {
   "cell_type": "code",
   "execution_count": null,
   "id": "b76ae99b",
   "metadata": {},
   "outputs": [],
   "source": [
    "rf = RandomForestRegressor(verbose=2,n_jobs=-1)"
   ]
  },
  {
   "cell_type": "code",
   "execution_count": null,
   "id": "f1ffe583",
   "metadata": {},
   "outputs": [],
   "source": [
    "rf.fit(X_train.drop(categorical_features,axis=1),y_train)"
   ]
  },
  {
   "cell_type": "code",
   "execution_count": null,
   "id": "74a489a0",
   "metadata": {},
   "outputs": [],
   "source": [
    "preds = rf.predict(X_test.drop(categorical_features,axis=1))"
   ]
  },
  {
   "cell_type": "code",
   "execution_count": null,
   "id": "27cf3f80",
   "metadata": {},
   "outputs": [],
   "source": [
    "mae = (preds-y_test).abs().mean()\n",
    "mae"
   ]
  },
  {
   "cell_type": "code",
   "execution_count": null,
   "id": "34dd6e76",
   "metadata": {},
   "outputs": [],
   "source": [
    "mae/mean_abs_label"
   ]
  },
  {
   "cell_type": "code",
   "execution_count": null,
   "id": "3c8c89d9",
   "metadata": {},
   "outputs": [],
   "source": []
  }
 ],
 "metadata": {
  "kernelspec": {
   "display_name": "Python 3 (ipykernel)",
   "language": "python",
   "name": "python3"
  },
  "language_info": {
   "codemirror_mode": {
    "name": "ipython",
    "version": 3
   },
   "file_extension": ".py",
   "mimetype": "text/x-python",
   "name": "python",
   "nbconvert_exporter": "python",
   "pygments_lexer": "ipython3",
   "version": "3.11.6"
  },
  "toc": {
   "base_numbering": 1,
   "nav_menu": {},
   "number_sections": true,
   "sideBar": true,
   "skip_h1_title": false,
   "title_cell": "Table of Contents",
   "title_sidebar": "Contents",
   "toc_cell": false,
   "toc_position": {
    "height": "calc(100% - 180px)",
    "left": "10px",
    "top": "150px",
    "width": "256px"
   },
   "toc_section_display": true,
   "toc_window_display": true
  },
  "varInspector": {
   "cols": {
    "lenName": 16,
    "lenType": 16,
    "lenVar": 40
   },
   "kernels_config": {
    "python": {
     "delete_cmd_postfix": "",
     "delete_cmd_prefix": "del ",
     "library": "var_list.py",
     "varRefreshCmd": "print(var_dic_list())"
    },
    "r": {
     "delete_cmd_postfix": ") ",
     "delete_cmd_prefix": "rm(",
     "library": "var_list.r",
     "varRefreshCmd": "cat(var_dic_list()) "
    }
   },
   "types_to_exclude": [
    "module",
    "function",
    "builtin_function_or_method",
    "instance",
    "_Feature"
   ],
   "window_display": false
  }
 },
 "nbformat": 4,
 "nbformat_minor": 5
}
