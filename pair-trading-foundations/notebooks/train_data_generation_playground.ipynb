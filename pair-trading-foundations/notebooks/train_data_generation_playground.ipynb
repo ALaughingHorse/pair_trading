{
 "cells": [
  {
   "cell_type": "code",
   "execution_count": 1,
   "id": "03f0becf-9052-4944-8f45-7722b27b605d",
   "metadata": {},
   "outputs": [
    {
     "name": "stderr",
     "output_type": "stream",
     "text": [
      "/var/folders/f4/28wskrvx4yz7gqswwx15x1bh0000gn/T/ipykernel_1721/3080375706.py:3: DeprecationWarning: \n",
      "Pyarrow will become a required dependency of pandas in the next major release of pandas (pandas 3.0),\n",
      "(to allow more performant data types, such as the Arrow string type, and better interoperability with other libraries)\n",
      "but was not found to be installed on your system.\n",
      "If this would cause problems for you,\n",
      "please provide us feedback at https://github.com/pandas-dev/pandas/issues/54466\n",
      "        \n",
      "  import pandas as pd\n"
     ]
    }
   ],
   "source": [
    "import numpy as np\n",
    "from numpy.linalg import norm\n",
    "import pandas as pd\n",
    "import itertools\n",
    "import random\n",
    "from matplotlib import pyplot as plt\n",
    "from pair_trading_foundations.data_generation import ExecutePairTrading, generate_training_data\n",
    "random.seed(23)\n",
    "import cProfile\n",
    "import pstats"
   ]
  },
  {
   "cell_type": "code",
   "execution_count": 2,
   "id": "b8127a75-658e-4745-be15-c0cd6f0ad5dd",
   "metadata": {},
   "outputs": [],
   "source": [
    "data = pd.read_csv('Data/sp500_full_20181231_to_20231229.csv')"
   ]
  },
  {
   "cell_type": "code",
   "execution_count": null,
   "id": "153406ca-a2e8-41fc-82f5-dab566c89868",
   "metadata": {},
   "outputs": [],
   "source": [
    "set(data['GICS Sector'])"
   ]
  },
  {
   "cell_type": "code",
   "execution_count": 11,
   "id": "76c5b024-fb63-4a42-b4cd-8b5a116c18dc",
   "metadata": {},
   "outputs": [
    {
     "data": {
      "text/plain": [
       "Ticker\n",
       "A       1259\n",
       "AAL     1259\n",
       "AAPL    1259\n",
       "ABBV    1259\n",
       "ABNB     768\n",
       "        ... \n",
       "YUM     1259\n",
       "ZBH     1259\n",
       "ZBRA    1259\n",
       "ZION    1259\n",
       "ZTS     1259\n",
       "Length: 501, dtype: int64"
      ]
     },
     "execution_count": 11,
     "metadata": {},
     "output_type": "execute_result"
    }
   ],
   "source": [
    "stock_with_\n",
    "data[['Ticker']].groupby('Ticker').size()"
   ]
  },
  {
   "cell_type": "markdown",
   "id": "5169bc14-8cac-4cfb-aaf1-4d9001292350",
   "metadata": {},
   "source": [
    "# Test the data generation scripts"
   ]
  },
  {
   "cell_type": "code",
   "execution_count": 3,
   "id": "ab366ed5-a557-40dc-9957-94d2525bde41",
   "metadata": {},
   "outputs": [
    {
     "name": "stdout",
     "output_type": "stream",
     "text": [
      "125250 stock pairs detected\n",
      "Getting the 1000th pair\n"
     ]
    },
    {
     "ename": "KeyboardInterrupt",
     "evalue": "",
     "output_type": "error",
     "traceback": [
      "\u001b[0;31m---------------------------------------------------------------------------\u001b[0m",
      "\u001b[0;31mKeyboardInterrupt\u001b[0m                         Traceback (most recent call last)",
      "Cell \u001b[0;32mIn[3], line 2\u001b[0m\n\u001b[1;32m      1\u001b[0m \u001b[38;5;28;01mwith\u001b[39;00m cProfile\u001b[38;5;241m.\u001b[39mProfile() \u001b[38;5;28;01mas\u001b[39;00m pr:\n\u001b[0;32m----> 2\u001b[0m     recorded_info_tb, features_tb, labels_tb \u001b[38;5;241m=\u001b[39m \u001b[43mgenerate_training_data\u001b[49m\u001b[43m(\u001b[49m\n\u001b[1;32m      3\u001b[0m \u001b[43m        \u001b[49m\u001b[38;5;66;43;03m# data=data[data['GICS Sector'].isin(['Information Technology'])],\u001b[39;49;00m\n\u001b[1;32m      4\u001b[0m \u001b[43m        \u001b[49m\u001b[43mdata\u001b[49m\u001b[38;5;241;43m=\u001b[39;49m\u001b[43mdata\u001b[49m\u001b[43m,\u001b[49m\n\u001b[1;32m      5\u001b[0m \u001b[43m        \u001b[49m\u001b[43mtraining_len\u001b[49m\u001b[38;5;241;43m=\u001b[39;49m\u001b[38;5;241;43m500\u001b[39;49m\u001b[43m,\u001b[49m\n\u001b[1;32m      6\u001b[0m \u001b[43m        \u001b[49m\u001b[43mtest_len\u001b[49m\u001b[38;5;241;43m=\u001b[39;49m\u001b[38;5;241;43m120\u001b[39;49m\u001b[43m,\u001b[49m\n\u001b[1;32m      7\u001b[0m \u001b[43m        \u001b[49m\u001b[43msample_size_per_pair\u001b[49m\u001b[38;5;241;43m=\u001b[39;49m\u001b[38;5;241;43m2\u001b[39;49m\n\u001b[1;32m      8\u001b[0m \u001b[43m    \u001b[49m\u001b[43m)\u001b[49m\n\u001b[1;32m     10\u001b[0m stats \u001b[38;5;241m=\u001b[39m pstats\u001b[38;5;241m.\u001b[39mStats(pr)\n\u001b[1;32m     11\u001b[0m stats\u001b[38;5;241m.\u001b[39msort_stats(pstats\u001b[38;5;241m.\u001b[39mSortKey\u001b[38;5;241m.\u001b[39mTIME)\n",
      "File \u001b[0;32m~/Desktop/current_desktop/mids/pair_trading/pair-trading-foundations/notebooks/pair_trading_foundations/data_generation.py:233\u001b[0m, in \u001b[0;36mgenerate_training_data\u001b[0;34m(data, training_len, test_len, sample_size_per_pair, verbose, execution_class)\u001b[0m\n\u001b[1;32m    230\u001b[0m same_sub_industry_flag \u001b[38;5;241m=\u001b[39m data[data\u001b[38;5;241m.\u001b[39mTicker\u001b[38;5;241m==\u001b[39mticker1][\u001b[38;5;124m'\u001b[39m\u001b[38;5;124mGICS Sub-Industry\u001b[39m\u001b[38;5;124m'\u001b[39m]\u001b[38;5;241m.\u001b[39mvalues[\u001b[38;5;241m0\u001b[39m] \u001b[38;5;241m==\u001b[39m data[data\u001b[38;5;241m.\u001b[39mTicker\u001b[38;5;241m==\u001b[39mticker2][\u001b[38;5;124m'\u001b[39m\u001b[38;5;124mGICS Sub-Industry\u001b[39m\u001b[38;5;124m'\u001b[39m]\u001b[38;5;241m.\u001b[39mvalues[\u001b[38;5;241m0\u001b[39m]\n\u001b[1;32m    232\u001b[0m \u001b[38;5;66;03m# The the full history of the data\u001b[39;00m\n\u001b[0;32m--> 233\u001b[0m vec1_full \u001b[38;5;241m=\u001b[39m data[\u001b[38;5;124m'\u001b[39m\u001b[38;5;124mClose\u001b[39m\u001b[38;5;124m'\u001b[39m][\u001b[43mdata\u001b[49m\u001b[38;5;241;43m.\u001b[39;49m\u001b[43mTicker\u001b[49m\u001b[38;5;241;43m==\u001b[39;49m\u001b[43mticker1\u001b[49m]\u001b[38;5;241m.\u001b[39mvalues\n\u001b[1;32m    234\u001b[0m vec2_full \u001b[38;5;241m=\u001b[39m data[\u001b[38;5;124m'\u001b[39m\u001b[38;5;124mClose\u001b[39m\u001b[38;5;124m'\u001b[39m][data\u001b[38;5;241m.\u001b[39mTicker\u001b[38;5;241m==\u001b[39mticker2]\u001b[38;5;241m.\u001b[39mvalues\n\u001b[1;32m    236\u001b[0m \u001b[38;5;66;03m# Check if a ticker has incomplete data\u001b[39;00m\n",
      "File \u001b[0;32m~/Library/Caches/pypoetry/virtualenvs/pair-trading-foundations-SdobHK0C-py3.11/lib/python3.11/site-packages/pandas/core/ops/common.py:76\u001b[0m, in \u001b[0;36m_unpack_zerodim_and_defer.<locals>.new_method\u001b[0;34m(self, other)\u001b[0m\n\u001b[1;32m     72\u001b[0m             \u001b[38;5;28;01mreturn\u001b[39;00m \u001b[38;5;28mNotImplemented\u001b[39m\n\u001b[1;32m     74\u001b[0m other \u001b[38;5;241m=\u001b[39m item_from_zerodim(other)\n\u001b[0;32m---> 76\u001b[0m \u001b[38;5;28;01mreturn\u001b[39;00m \u001b[43mmethod\u001b[49m\u001b[43m(\u001b[49m\u001b[38;5;28;43mself\u001b[39;49m\u001b[43m,\u001b[49m\u001b[43m \u001b[49m\u001b[43mother\u001b[49m\u001b[43m)\u001b[49m\n",
      "File \u001b[0;32m~/Library/Caches/pypoetry/virtualenvs/pair-trading-foundations-SdobHK0C-py3.11/lib/python3.11/site-packages/pandas/core/arraylike.py:40\u001b[0m, in \u001b[0;36mOpsMixin.__eq__\u001b[0;34m(self, other)\u001b[0m\n\u001b[1;32m     38\u001b[0m \u001b[38;5;129m@unpack_zerodim_and_defer\u001b[39m(\u001b[38;5;124m\"\u001b[39m\u001b[38;5;124m__eq__\u001b[39m\u001b[38;5;124m\"\u001b[39m)\n\u001b[1;32m     39\u001b[0m \u001b[38;5;28;01mdef\u001b[39;00m \u001b[38;5;21m__eq__\u001b[39m(\u001b[38;5;28mself\u001b[39m, other):\n\u001b[0;32m---> 40\u001b[0m     \u001b[38;5;28;01mreturn\u001b[39;00m \u001b[38;5;28;43mself\u001b[39;49m\u001b[38;5;241;43m.\u001b[39;49m\u001b[43m_cmp_method\u001b[49m\u001b[43m(\u001b[49m\u001b[43mother\u001b[49m\u001b[43m,\u001b[49m\u001b[43m \u001b[49m\u001b[43moperator\u001b[49m\u001b[38;5;241;43m.\u001b[39;49m\u001b[43meq\u001b[49m\u001b[43m)\u001b[49m\n",
      "File \u001b[0;32m~/Library/Caches/pypoetry/virtualenvs/pair-trading-foundations-SdobHK0C-py3.11/lib/python3.11/site-packages/pandas/core/series.py:6099\u001b[0m, in \u001b[0;36mSeries._cmp_method\u001b[0;34m(self, other, op)\u001b[0m\n\u001b[1;32m   6096\u001b[0m lvalues \u001b[38;5;241m=\u001b[39m \u001b[38;5;28mself\u001b[39m\u001b[38;5;241m.\u001b[39m_values\n\u001b[1;32m   6097\u001b[0m rvalues \u001b[38;5;241m=\u001b[39m extract_array(other, extract_numpy\u001b[38;5;241m=\u001b[39m\u001b[38;5;28;01mTrue\u001b[39;00m, extract_range\u001b[38;5;241m=\u001b[39m\u001b[38;5;28;01mTrue\u001b[39;00m)\n\u001b[0;32m-> 6099\u001b[0m res_values \u001b[38;5;241m=\u001b[39m \u001b[43mops\u001b[49m\u001b[38;5;241;43m.\u001b[39;49m\u001b[43mcomparison_op\u001b[49m\u001b[43m(\u001b[49m\u001b[43mlvalues\u001b[49m\u001b[43m,\u001b[49m\u001b[43m \u001b[49m\u001b[43mrvalues\u001b[49m\u001b[43m,\u001b[49m\u001b[43m \u001b[49m\u001b[43mop\u001b[49m\u001b[43m)\u001b[49m\n\u001b[1;32m   6101\u001b[0m \u001b[38;5;28;01mreturn\u001b[39;00m \u001b[38;5;28mself\u001b[39m\u001b[38;5;241m.\u001b[39m_construct_result(res_values, name\u001b[38;5;241m=\u001b[39mres_name)\n",
      "File \u001b[0;32m~/Library/Caches/pypoetry/virtualenvs/pair-trading-foundations-SdobHK0C-py3.11/lib/python3.11/site-packages/pandas/core/ops/array_ops.py:344\u001b[0m, in \u001b[0;36mcomparison_op\u001b[0;34m(left, right, op)\u001b[0m\n\u001b[1;32m    341\u001b[0m     \u001b[38;5;28;01mreturn\u001b[39;00m invalid_comparison(lvalues, rvalues, op)\n\u001b[1;32m    343\u001b[0m \u001b[38;5;28;01melif\u001b[39;00m lvalues\u001b[38;5;241m.\u001b[39mdtype \u001b[38;5;241m==\u001b[39m \u001b[38;5;28mobject\u001b[39m \u001b[38;5;129;01mor\u001b[39;00m \u001b[38;5;28misinstance\u001b[39m(rvalues, \u001b[38;5;28mstr\u001b[39m):\n\u001b[0;32m--> 344\u001b[0m     res_values \u001b[38;5;241m=\u001b[39m \u001b[43mcomp_method_OBJECT_ARRAY\u001b[49m\u001b[43m(\u001b[49m\u001b[43mop\u001b[49m\u001b[43m,\u001b[49m\u001b[43m \u001b[49m\u001b[43mlvalues\u001b[49m\u001b[43m,\u001b[49m\u001b[43m \u001b[49m\u001b[43mrvalues\u001b[49m\u001b[43m)\u001b[49m\n\u001b[1;32m    346\u001b[0m \u001b[38;5;28;01melse\u001b[39;00m:\n\u001b[1;32m    347\u001b[0m     res_values \u001b[38;5;241m=\u001b[39m _na_arithmetic_op(lvalues, rvalues, op, is_cmp\u001b[38;5;241m=\u001b[39m\u001b[38;5;28;01mTrue\u001b[39;00m)\n",
      "File \u001b[0;32m~/Library/Caches/pypoetry/virtualenvs/pair-trading-foundations-SdobHK0C-py3.11/lib/python3.11/site-packages/pandas/core/ops/array_ops.py:129\u001b[0m, in \u001b[0;36mcomp_method_OBJECT_ARRAY\u001b[0;34m(op, x, y)\u001b[0m\n\u001b[1;32m    127\u001b[0m     result \u001b[38;5;241m=\u001b[39m libops\u001b[38;5;241m.\u001b[39mvec_compare(x\u001b[38;5;241m.\u001b[39mravel(), y\u001b[38;5;241m.\u001b[39mravel(), op)\n\u001b[1;32m    128\u001b[0m \u001b[38;5;28;01melse\u001b[39;00m:\n\u001b[0;32m--> 129\u001b[0m     result \u001b[38;5;241m=\u001b[39m \u001b[43mlibops\u001b[49m\u001b[38;5;241;43m.\u001b[39;49m\u001b[43mscalar_compare\u001b[49m\u001b[43m(\u001b[49m\u001b[43mx\u001b[49m\u001b[38;5;241;43m.\u001b[39;49m\u001b[43mravel\u001b[49m\u001b[43m(\u001b[49m\u001b[43m)\u001b[49m\u001b[43m,\u001b[49m\u001b[43m \u001b[49m\u001b[43my\u001b[49m\u001b[43m,\u001b[49m\u001b[43m \u001b[49m\u001b[43mop\u001b[49m\u001b[43m)\u001b[49m\n\u001b[1;32m    130\u001b[0m \u001b[38;5;28;01mreturn\u001b[39;00m result\u001b[38;5;241m.\u001b[39mreshape(x\u001b[38;5;241m.\u001b[39mshape)\n",
      "\u001b[0;31mKeyboardInterrupt\u001b[0m: "
     ]
    }
   ],
   "source": [
    "with cProfile.Profile() as pr:\n",
    "    recorded_info_tb, features_tb, labels_tb = generate_training_data(\n",
    "        # data=data[data['GICS Sector'].isin(['Information Technology'])],\n",
    "        data=data,\n",
    "        training_len=500,\n",
    "        test_len=120,\n",
    "        sample_size_per_pair=2\n",
    "    )\n",
    "\n",
    "stats = pstats.Stats(pr)\n",
    "stats.sort_stats(pstats.SortKey.TIME)\n",
    "# Now you have two options, either print the data or save it as a file\n",
    "stats.print_stats() # Print The Stats\n",
    "stats.dump_stats(\"File/path.prof\") # Saves the data in a file, can me used to see the data visually"
   ]
  },
  {
   "cell_type": "code",
   "execution_count": null,
   "id": "1eb41b4e-8835-4409-8d02-e01f0409e27d",
   "metadata": {},
   "outputs": [],
   "source": [
    "features_tb"
   ]
  },
  {
   "cell_type": "code",
   "execution_count": null,
   "id": "a5f0de3c-24e4-43cd-b62c-45cc883866fb",
   "metadata": {},
   "outputs": [],
   "source": [
    "labels_tb"
   ]
  },
  {
   "cell_type": "code",
   "execution_count": null,
   "id": "fbe60b15-0a66-4f8f-bf3f-73f98c79b7ee",
   "metadata": {},
   "outputs": [],
   "source": [
    "recorded_info_tb.to_csv('Data/all_recorded_info_tb.csv', index=False)\n",
    "features_tb.to_csv('Data/all_features_tb.csv', index=False)\n",
    "labels_tb.to_csv('Data/all_labels_tb.csv', index=False)"
   ]
  },
  {
   "cell_type": "markdown",
   "id": "610cd7f1-ce3d-41e0-b987-d3470e0ab6ea",
   "metadata": {},
   "source": [
    "# Draft below"
   ]
  },
  {
   "cell_type": "markdown",
   "id": "6dfc2668-9437-4de9-ae8c-13510648f725",
   "metadata": {},
   "source": [
    "## Get Combinations"
   ]
  },
  {
   "cell_type": "code",
   "execution_count": null,
   "id": "76ea6641-c7b2-4b53-b8b3-9e22dd3d4105",
   "metadata": {},
   "outputs": [],
   "source": [
    "tickers = list(set(data.Ticker))\n",
    "combinations = list(itertools.combinations(tickers, 2))"
   ]
  },
  {
   "cell_type": "code",
   "execution_count": null,
   "id": "79512180-b88f-487d-be3b-d875a1a3498c",
   "metadata": {},
   "outputs": [],
   "source": [
    "len(combinations)"
   ]
  },
  {
   "cell_type": "markdown",
   "id": "8b134542-418c-46e7-a97b-e0ba222a1bab",
   "metadata": {},
   "source": [
    "# Initiate data tables to store the generated results"
   ]
  },
  {
   "cell_type": "code",
   "execution_count": null,
   "id": "e1a1de6e-6427-47d1-a175-d632711e60aa",
   "metadata": {},
   "outputs": [],
   "source": [
    "recorded_info_tb = pd.DataFrame(columns=[\n",
    "    'ticker1', \n",
    "    'ticker2',\n",
    "    'target_date',\n",
    "    'spread',\n",
    "    'spread_mean',\n",
    "    'spread_std',\n",
    "    'abs_spread_mean_l28',\n",
    "    'abs_spread_std_l28',\n",
    "    'spread_normed'\n",
    "])\n",
    "\n",
    "features_tb = pd.DataFrame(columns=[\n",
    "    'ticker1', \n",
    "    'ticker2',\n",
    "    'target_date',\n",
    "    'same_sector_flag',\n",
    "    'same_sub_industry_flag',\n",
    "    'cos_sim',\n",
    "    'corr_coef',\n",
    "    'abs_spread_normed_max',\n",
    "    'abs_spread_normed_90th',\n",
    "    'abs_spread_normed_75th',\n",
    "    'abs_spread_normed_median',\n",
    "    'abs_spread_normed_l7_avg',\n",
    "    'abs_spread_normed_l14_avg'\n",
    "])\n",
    "\n",
    "labels_tb = pd.DataFrame(columns=[\n",
    "    'total_pnl',\n",
    "    'total_pnl_l28_mean_std'\n",
    "])"
   ]
  },
  {
   "cell_type": "markdown",
   "id": "6e5001e9-265e-4fb9-b65a-d4a84e02276d",
   "metadata": {},
   "source": [
    "## Generate"
   ]
  },
  {
   "cell_type": "code",
   "execution_count": null,
   "id": "af73218e-f1d8-4876-8cb6-8f4161bb40ba",
   "metadata": {},
   "outputs": [],
   "source": [
    "data.head()"
   ]
  },
  {
   "cell_type": "code",
   "execution_count": 12,
   "id": "f5e34611-afd6-4a90-ab90-efdecd546579",
   "metadata": {},
   "outputs": [],
   "source": [
    "ticker1 = 'AMCR'\n",
    "ticker2 = 'BKNG'"
   ]
  },
  {
   "cell_type": "code",
   "execution_count": 13,
   "id": "21a36009-6b10-490a-beaa-abd0e58f6a1e",
   "metadata": {},
   "outputs": [],
   "source": [
    "# Get a list of unique dates for later use\n",
    "all_dates = data['Date'].unique()"
   ]
  },
  {
   "cell_type": "code",
   "execution_count": 14,
   "id": "092d90e4-ff5c-457a-ae80-e83437950c8c",
   "metadata": {},
   "outputs": [],
   "source": [
    "# Flag indicating whether the two tickers are from the same sector\n",
    "same_sector_flag = data[data.Ticker==ticker1]['GICS Sector'].values[0] == data[data.Ticker==ticker2]['GICS Sector'].values[0]\n",
    "same_sub_industry_flag = data[data.Ticker==ticker1]['GICS Sub-Industry'].values[0] == data[data.Ticker==ticker2]['GICS Sub-Industry'].values[0]"
   ]
  },
  {
   "cell_type": "code",
   "execution_count": 15,
   "id": "e83364eb-19f9-4c92-b1be-26500bf3c0d4",
   "metadata": {},
   "outputs": [],
   "source": [
    "vec1_full = data['Close'][data.Ticker==ticker1].values\n",
    "vec2_full = data['Close'][data.Ticker==ticker2].values"
   ]
  },
  {
   "cell_type": "code",
   "execution_count": null,
   "id": "e2134b13-e846-481d-a209-ce9197016eb6",
   "metadata": {},
   "outputs": [],
   "source": [
    "# Number of days in the data\n",
    "num_days_total = len(vec1_full)"
   ]
  },
  {
   "cell_type": "code",
   "execution_count": null,
   "id": "acd08382-8e9f-4ff3-b83d-e1f6d795f107",
   "metadata": {},
   "outputs": [],
   "source": [
    "# Keep 500 days for training and 120 days for label calculation\n",
    "possible_indices_to_sample = list(range(500, num_days_total-119))"
   ]
  },
  {
   "cell_type": "code",
   "execution_count": null,
   "id": "cbc6baad-df06-4e23-969c-aca622e6c017",
   "metadata": {},
   "outputs": [],
   "source": [
    "sampled_indices = random.choices(possible_indices_to_sample, k=100)"
   ]
  },
  {
   "cell_type": "markdown",
   "id": "b51d63c2-efe5-4e60-8944-00513f5f6684",
   "metadata": {},
   "source": [
    "# Data Set 1"
   ]
  },
  {
   "cell_type": "code",
   "execution_count": null,
   "id": "318d4bdb-9c64-424e-9579-ea22a1b856fb",
   "metadata": {},
   "outputs": [],
   "source": [
    "# for idx in sampled_indices\n",
    "idx = sampled_indices[0]\n",
    "print(f\"Sampled date is {all_dates[idx]}\")\n",
    "print(f\"Dataset1 starts from {all_dates[idx-500]} to {all_dates[idx]}(exclusive)\")\n",
    "print(f\"Dataset2 starts from {all_dates[idx]} (inclusive) to {all_dates[idx+120]}\")"
   ]
  },
  {
   "cell_type": "code",
   "execution_count": null,
   "id": "1a5dca78-6106-4cbb-96c4-a91e526e79aa",
   "metadata": {},
   "outputs": [],
   "source": [
    "# Previous 500 trading days\n",
    "vec1_sub1 = vec1_full[(idx - 500):idx]\n",
    "vec2_sub1 = vec2_full[(idx - 500):idx]\n",
    "\n",
    "# Next 120 trading days\n",
    "vec1_sub2 = vec1_full[idx:(idx+120)]\n",
    "vec2_sub2 = vec2_full[idx:(idx+120)]"
   ]
  },
  {
   "cell_type": "code",
   "execution_count": null,
   "id": "8d3b9f23-c81d-4cf4-8d1a-24a4becaa54c",
   "metadata": {},
   "outputs": [],
   "source": [
    "len(vec1_sub1)"
   ]
  },
  {
   "cell_type": "code",
   "execution_count": null,
   "id": "b4aae6ba-520c-4dc9-b287-a0ab77de06bb",
   "metadata": {},
   "outputs": [],
   "source": [
    "# Cosine sim\n",
    "cos_sim = np.dot(vec1_sub1, vec2_sub1) / (norm(vec1_sub1) * norm(vec2_sub1))\n",
    "\n",
    "# Correlation coef\n",
    "corr_coef = np.corrcoef(vec1_sub1, vec2_sub1)[0, 1]"
   ]
  },
  {
   "cell_type": "code",
   "execution_count": null,
   "id": "cbbcfd20-75eb-44ba-bef1-93ca7b56e6c3",
   "metadata": {},
   "outputs": [],
   "source": [
    "# Absolute value of the difference of the two stocks\n",
    "abs_spread = abs(vec1_sub1 - vec2_sub1)\n",
    "abs_spread_mean = np.mean(abs_spread)\n",
    "abs_spread_std = np.std(abs_spread)\n",
    "\n",
    "# Sometimes, historical data might be too strict to get a signal for trade in\n",
    "abs_spread_mean_l28 = np.mean(abs_spread[-28:])\n",
    "abs_spread_std_l28 = np.std(abs_spread[-28:])"
   ]
  },
  {
   "cell_type": "code",
   "execution_count": null,
   "id": "231f3ac2-dd67-4aeb-a9c0-6a5d54201bf7",
   "metadata": {},
   "outputs": [],
   "source": [
    "# normalize\n",
    "spread_normed = (abs_spread - abs_spread_mean)/abs_spread_std"
   ]
  },
  {
   "cell_type": "code",
   "execution_count": null,
   "id": "d411a66a-28ab-4f0b-8195-547a5cd02e93",
   "metadata": {},
   "outputs": [],
   "source": [
    "plt.plot(spread_normed)"
   ]
  },
  {
   "cell_type": "code",
   "execution_count": null,
   "id": "c4e0fd33-ae44-44b2-8786-152131c3ec01",
   "metadata": {},
   "outputs": [],
   "source": [
    "# distribution of abs std\n",
    "## This is to capture when we should expect the reverting to mean to happen for this stock\n",
    "abs_spread_normed_max = max(abs(spread_normed))\n",
    "abs_spread_normed_90th = np.percentile(abs(spread_normed),90)\n",
    "abs_spread_normed_75th = np.percentile(abs(spread_normed),75)\n",
    "abs_spread_normed_median = np.percentile(abs(spread_normed),50)\n",
    "\n",
    "# latest 7 day/14 day avg normalized spread\n",
    "## These could help predict whether a trading signal will appear\n",
    "abs_spread_normed_l7_avg = abs(np.mean(spread_normed[-7:]))\n",
    "abs_spread_normed_l14_avg = abs(np.mean(spread_normed[-14:]))"
   ]
  },
  {
   "cell_type": "code",
   "execution_count": null,
   "id": "4a16417f-77cc-4798-9c58-de91211c97e6",
   "metadata": {},
   "outputs": [],
   "source": [
    "# Other features to add"
   ]
  },
  {
   "cell_type": "code",
   "execution_count": null,
   "id": "03cd426c-fa3c-4133-ac57-c2a9290b8e69",
   "metadata": {},
   "outputs": [],
   "source": [
    "# return the desired feature array\n",
    "\n",
    "## These are information we record for each iteration for debugging an analysis\n",
    "recorded_info = [\n",
    "    ticker1, \n",
    "    ticker2,\n",
    "    all_dates[idx],\n",
    "    abs_spread,\n",
    "    abs_spread_mean,\n",
    "    abs_spread_std,\n",
    "    abs_spread_mean_l28,\n",
    "    abs_spread_std_l28,\n",
    "    spread_normed\n",
    "]\n",
    "\n",
    "## There are features that goes into the model (not ticker1, ticker2, the target date, which are used to join the tables)\n",
    "features = [\n",
    "    ticker1, \n",
    "    ticker2,\n",
    "    all_dates[idx],\n",
    "    same_sector_flag,\n",
    "    same_sub_industry_flag,\n",
    "    cos_sim,\n",
    "    corr_coef,\n",
    "    abs_spread_normed_max,\n",
    "    abs_spread_normed_90th,\n",
    "    abs_spread_normed_75th,\n",
    "    abs_spread_normed_median,\n",
    "    abs_spread_normed_l7_avg,\n",
    "    abs_spread_normed_l14_avg\n",
    "]"
   ]
  },
  {
   "cell_type": "code",
   "execution_count": null,
   "id": "f1cb6b07-494f-4e7f-8b70-89406e7dead5",
   "metadata": {},
   "outputs": [],
   "source": [
    "# Append the generated data as new rows to the tables\n",
    "recorded_info_tb.loc[len(recorded_info_tb)] = recorded_info\n",
    "features_tb.loc[len(features_tb)] = features"
   ]
  },
  {
   "cell_type": "code",
   "execution_count": null,
   "id": "6b108048-56b9-4d4c-8aba-29436e7d98c2",
   "metadata": {},
   "outputs": [],
   "source": [
    "features_tb"
   ]
  },
  {
   "cell_type": "code",
   "execution_count": null,
   "id": "a25c7170-9ad3-4f07-93f6-663ecde7548f",
   "metadata": {},
   "outputs": [],
   "source": [
    "class ExecutePairTrading:\n",
    "    def __init__(self, abs_spread_mean, abs_spread_std, entry_signal=1.5, stop_loss=0.2):\n",
    "        self.abs_spread_mean = abs_spread_mean\n",
    "        self.abs_spread_std = abs_spread_std\n",
    "        self.entry_signal=entry_signal\n",
    "        self.stop_loss=0.2\n",
    "        \n",
    "        self.stock1_position=None\n",
    "        self.stock2_position=None\n",
    "        self.stock1_long=None\n",
    "        self.stock1_pl=0\n",
    "        self.stock2_pl=0\n",
    "        self.final_pl=0\n",
    "\n",
    "    def execute(self, vec1, vec2, base_fund=100, split=0.5, verbose=False):\n",
    "        \n",
    "        abs_spread = abs(np.array(vec1) - np.array(vec2))\n",
    "\n",
    "        entry_signal=False\n",
    "        for i in range(len(abs_spread)):\n",
    "            # if currently not holding any position\n",
    "            if self.stock1_position is None:\n",
    "                \n",
    "                ## if an entry signal was not generated from the previous trading date\n",
    "                if not entry_signal:\n",
    "                    # Check if entry signal appears in the current date\n",
    "                    if abs_spread[i] >= self.abs_spread_mean + self.entry_signal*self.abs_spread_std:\n",
    "                        entry_signal=True\n",
    "                    \n",
    "                ## If an entry signal was generated from the previous trading date, execute the strategy\n",
    "                else:\n",
    "                    self.stock1_position=vec1[i]\n",
    "                    self.stock2_position=vec2[i]\n",
    "                    \n",
    "                    if vec1[i] > vec2[i]:\n",
    "                        self.stock1_long=False\n",
    "                        if verbose:\n",
    "                            print(f\"Entered long position at {vec1[i]} for stock1\")\n",
    "                            print(f\"Entered short position at {vec2[i]} for stock2\")\n",
    "                    else:\n",
    "                        self.stock1_long=True\n",
    "                        if verbose:\n",
    "                            print(f\"Entered short position at {vec1[i]} for stock1\")\n",
    "                            print(f\"Entered long position at {vec2[i]} for stock2\")\n",
    "\n",
    "            # if holding a position, check if need to exit and update pnl\n",
    "            else:\n",
    "                # calculate pnl\n",
    "                if self.stock1_long:\n",
    "                    # calculate pnl when we long stock 1 and short stock 2\n",
    "                    self.stock1_pl = base_fund * split * ((vec1[i] - self.stock1_position)/self.stock1_position)\n",
    "                    self.stock2_pl = base_fund * (1-split) * ((self.stock2_position - vec2[i])/self.stock2_position)\n",
    "                else:\n",
    "                    # calculate pnl when we long stock 2 and short stock 1\n",
    "                    self.stock1_pl = base_fund * (self.stock1_position - vec1[i])/self.stock1_position\n",
    "                    self.stock2_pl = base_fund * (vec2[i] - self.stock2_position)/self.stock2_position    \n",
    "\n",
    "                # when the absolute spread is less than 0.1 of the std, exit the positions\n",
    "                ## to-do in the future - this calculation is in-accurate as the exit should be executed the next\n",
    "                ## trading day, when the pnl would be differentt.\n",
    "                if abs_spread[i] <= self.abs_spread_mean + 0.1 * self.abs_spread_std:\n",
    "                    # reset the params\n",
    "                    entry_signal=False\n",
    "                    self.stock1_position=None\n",
    "                    self.stock2_position=None\n",
    "                    self.stock1_long=None\n",
    "\n",
    "                    if verbose:\n",
    "                        print(f\"Closed stock1 position at {vec1[i]}. Close stock2 position at {vec2[i]}\")\n",
    "                    # record the pnl from this trade\n",
    "                    self.final_pl += (self.stock1_pl + self.stock2_pl)\n",
    "                    self.final_pl_pct = self.final_pl/base_fund\n",
    "\n",
    "                    if verbose:\n",
    "                        print(f'Total PnL from this trade is {(self.stock1_pl + self.stock2_pl)}')\n",
    "                        print(f'cumulative PnL percentage is {self.final_pl/base_fund}')\n",
    "                    self.stock1_pl=0\n",
    "                    self.stock2_pl=0\n",
    "                     \n",
    "\n",
    "        return self"
   ]
  },
  {
   "cell_type": "code",
   "execution_count": null,
   "id": "973ada99-f53e-489b-8764-5639e1758e1f",
   "metadata": {},
   "outputs": [],
   "source": [
    "trade = execute_spread_trading(\n",
    "    abs_spread_mean_l28,\n",
    "    abs_spread_std_l28,\n",
    "    entry_signal=0.7\n",
    ")"
   ]
  },
  {
   "cell_type": "code",
   "execution_count": null,
   "id": "e8a13988-1c36-4df7-a93f-760d1409dc2e",
   "metadata": {},
   "outputs": [],
   "source": [
    "trade = trade.execute(\n",
    "    vec1=vec1_sub2,\n",
    "    vec2=vec2_sub2\n",
    ")\n",
    "\n",
    "trade.final_pl"
   ]
  },
  {
   "cell_type": "code",
   "execution_count": 16,
   "id": "5170c4d5-6199-4122-871c-9514a1103ab3",
   "metadata": {},
   "outputs": [
    {
     "ename": "NameError",
     "evalue": "name 'idx' is not defined",
     "output_type": "error",
     "traceback": [
      "\u001b[0;31m---------------------------------------------------------------------------\u001b[0m",
      "\u001b[0;31mNameError\u001b[0m                                 Traceback (most recent call last)",
      "Cell \u001b[0;32mIn[16], line 4\u001b[0m\n\u001b[1;32m      2\u001b[0m plt\u001b[38;5;241m.\u001b[39mplot(vec2_full, label\u001b[38;5;241m=\u001b[39m\u001b[38;5;124m'\u001b[39m\u001b[38;5;124mStock2\u001b[39m\u001b[38;5;124m'\u001b[39m)\n\u001b[1;32m      3\u001b[0m plt\u001b[38;5;241m.\u001b[39mplot(\u001b[38;5;28mabs\u001b[39m(vec1_full \u001b[38;5;241m-\u001b[39m vec2_full), label\u001b[38;5;241m=\u001b[39m\u001b[38;5;124m'\u001b[39m\u001b[38;5;124mAbsolute Spread\u001b[39m\u001b[38;5;124m'\u001b[39m)\n\u001b[0;32m----> 4\u001b[0m plt\u001b[38;5;241m.\u001b[39maxvline(x\u001b[38;5;241m=\u001b[39m\u001b[43midx\u001b[49m, color\u001b[38;5;241m=\u001b[39m\u001b[38;5;124m'\u001b[39m\u001b[38;5;124mred\u001b[39m\u001b[38;5;124m'\u001b[39m, linestyle\u001b[38;5;241m=\u001b[39m\u001b[38;5;124m'\u001b[39m\u001b[38;5;124m--\u001b[39m\u001b[38;5;124m'\u001b[39m, label\u001b[38;5;241m=\u001b[39m\u001b[38;5;124m'\u001b[39m\u001b[38;5;124mVertical Line\u001b[39m\u001b[38;5;124m'\u001b[39m)\n\u001b[1;32m      5\u001b[0m plt\u001b[38;5;241m.\u001b[39maxvline(x\u001b[38;5;241m=\u001b[39midx\u001b[38;5;241m-\u001b[39m\u001b[38;5;241m500\u001b[39m, color\u001b[38;5;241m=\u001b[39m\u001b[38;5;124m'\u001b[39m\u001b[38;5;124mred\u001b[39m\u001b[38;5;124m'\u001b[39m, linestyle\u001b[38;5;241m=\u001b[39m\u001b[38;5;124m'\u001b[39m\u001b[38;5;124m--\u001b[39m\u001b[38;5;124m'\u001b[39m, label\u001b[38;5;241m=\u001b[39m\u001b[38;5;124m'\u001b[39m\u001b[38;5;124mVertical Line\u001b[39m\u001b[38;5;124m'\u001b[39m)\n\u001b[1;32m      6\u001b[0m plt\u001b[38;5;241m.\u001b[39maxvline(x\u001b[38;5;241m=\u001b[39midx\u001b[38;5;241m+\u001b[39m\u001b[38;5;241m120\u001b[39m, color\u001b[38;5;241m=\u001b[39m\u001b[38;5;124m'\u001b[39m\u001b[38;5;124mred\u001b[39m\u001b[38;5;124m'\u001b[39m, linestyle\u001b[38;5;241m=\u001b[39m\u001b[38;5;124m'\u001b[39m\u001b[38;5;124m--\u001b[39m\u001b[38;5;124m'\u001b[39m, label\u001b[38;5;241m=\u001b[39m\u001b[38;5;124m'\u001b[39m\u001b[38;5;124mVertical Line\u001b[39m\u001b[38;5;124m'\u001b[39m)\n",
      "\u001b[0;31mNameError\u001b[0m: name 'idx' is not defined"
     ]
    },
    {
     "data": {
      "image/png": "[encoded data removed]",
      "text/plain": [
       "<Figure size 640x480 with 1 Axes>"
      ]
     },
     "metadata": {},
     "output_type": "display_data"
    }
   ],
   "source": [
    "plt.plot(vec1_full, label='Stock1')\n",
    "plt.plot(vec2_full, label='Stock2')\n",
    "plt.plot(abs(vec1_full - vec2_full), label='Absolute Spread')\n",
    "plt.axvline(x=idx, color='red', linestyle='--', label='Vertical Line')\n",
    "plt.axvline(x=idx-500, color='red', linestyle='--', label='Vertical Line')\n",
    "plt.axvline(x=idx+120, color='red', linestyle='--', label='Vertical Line')\n",
    "# plt.plot(abs(vec1_sub2 - vec2_sub2))"
   ]
  },
  {
   "cell_type": "code",
   "execution_count": null,
   "id": "8a36a9ba-6003-4e66-88ef-d5d3b15c564f",
   "metadata": {},
   "outputs": [],
   "source": []
  },
  {
   "cell_type": "markdown",
   "id": "b0a5f0eb-0a0a-4e55-bbc8-9bcdb5b607b6",
   "metadata": {},
   "source": [
    "# Trading scoring"
   ]
  },
  {
   "cell_type": "code",
   "execution_count": null,
   "id": "fe45b567-197e-483d-8ea3-12f99269d420",
   "metadata": {},
   "outputs": [],
   "source": [
    "abs_spread_mean_l28\n",
    "abs_spread_std_l28\n",
    "vec1 = vec1_sub2\n",
    "vec2 = vec2_sub2\n",
    "\n",
    "base_fund = 100\n",
    "split = 0.5\n",
    "\n",
    "entry_thresh = abs_spread_mean_l28 + 1.5*abs_spread_std_l28\n",
    "exit_thresh = abs_spread_mean_l28 + 0.1*abs_spread_std_l28"
   ]
  },
  {
   "cell_type": "code",
   "execution_count": null,
   "id": "2221dec6-be64-4fcb-84e8-a16595158404",
   "metadata": {},
   "outputs": [],
   "source": [
    "entry_thresh"
   ]
  },
  {
   "cell_type": "code",
   "execution_count": null,
   "id": "536cdaee-92b8-451e-94a4-13e756a686ce",
   "metadata": {},
   "outputs": [],
   "source": [
    "abs_spread = abs(np.array(vec1) - np.array(vec2))"
   ]
  },
  {
   "cell_type": "code",
   "execution_count": null,
   "id": "f1997c3d-1187-40b0-ab32-4c1103649558",
   "metadata": {},
   "outputs": [],
   "source": [
    "entry_signals = np.array([0, 1, 1, 1, 0, 0, 1, 1, 0, 0])\n",
    "exit_signals =  np.array([1, 0, 0, 0, 1, 0, 0, 0, 0, 1])\n",
    "# entry_signals = np.array([0]+[1 if abs_spread[i-1] >= entry_thresh else 0 for i in range(1, len(abs_spread))])\n",
    "# exit_signals = np.array([0]+[1 if abs_spread[i-1] <= exit_thresh else 0 for i in range(1, len(abs_spread))])"
   ]
  },
  {
   "cell_type": "code",
   "execution_count": null,
   "id": "fa0059f8-e319-4775-86d9-c617d7e5e00b",
   "metadata": {},
   "outputs": [],
   "source": [
    "entry_positions = np.where(entry_signals == 1)[0]\n",
    "exit_positions = np.where(exit_signals == 1)[0]\n",
    "pairs = []\n",
    "\n",
    "for entry_pos in entry_positions:\n",
    "    # Find the first exit position that is greater than the entry position\n",
    "    next_exit_pos = exit_positions[exit_positions > entry_pos]\n",
    "    if next_exit_pos.size > 0:\n",
    "        exit_pos = next_exit_pos[0]\n",
    "    else:\n",
    "        # Default exit position if no exit signal is found after the entry signal\n",
    "        exit_pos = len(entry_signals) - 1\n",
    "    pairs.append((entry_pos, exit_pos))"
   ]
  },
  {
   "cell_type": "code",
   "execution_count": null,
   "id": "3dc5e267-481a-47ba-8299-14da748b0acd",
   "metadata": {},
   "outputs": [],
   "source": [
    "temp_tb = pd.DataFrame(pairs)"
   ]
  },
  {
   "cell_type": "code",
   "execution_count": null,
   "id": "53b6548e-e6c5-453c-956b-23fa640c1e0b",
   "metadata": {},
   "outputs": [],
   "source": [
    "temp_tb.columns = ['entry_idx', 'exit_idx']\n",
    "temp_tb = temp_tb.groupby('exit_idx').min().reset_index()"
   ]
  },
  {
   "cell_type": "code",
   "execution_count": null,
   "id": "27058d55-5cd7-4f1f-9d52-cc01265e47aa",
   "metadata": {},
   "outputs": [],
   "source": [
    "# At each position, calculate each stocks relative pct delta compated to l7. Short the one with larger pct delta\n",
    "def long_stock1_flag(stock1, stock2, idx):\n",
    "    \"\"\"\n",
    "    This function is to determine which stock to long/short given an entry signal.\n",
    "    It:\n",
    "        1. Takes the prices of two stocks, and the position where the entry signal appears \n",
    "        2. Calculate the percentage deltas between the current price and the price 7 days ago (or the earliest record) for each stock\n",
    "\n",
    "    Then we will tell the ago to short the one with higher percentage delta and long the other.\n",
    "\n",
    "    The function returns a boolean on whether we should long the stock 1.\n",
    "    \"\"\"\n",
    "    stock1_current = stock1[idx]\n",
    "    stock1_ref = stock1[max(0, idx-7)]\n",
    "\n",
    "    stock2_current = stock2[idx]\n",
    "    stock2_ref = stock2[max(0, idx-7)]\n",
    "\n",
    "    pct_delta_1 = (stock1_current/stock1_ref) - 1\n",
    "    pct_delta_2 = (stock2_current/stock2_ref) - 1\n",
    "\n",
    "    if pct_delta_1 >= pct_delta_2:\n",
    "        return False\n",
    "    else:\n",
    "        return True"
   ]
  },
  {
   "cell_type": "code",
   "execution_count": null,
   "id": "6666efc0-15f1-419c-8c78-24de2b90d6ce",
   "metadata": {},
   "outputs": [],
   "source": [
    "temp_tb['stock1_price_entry'] = vec1[temp_tb['entry_idx']] \n",
    "temp_tb['stock1_price_exit'] = vec1[temp_tb['exit_idx']] \n",
    "temp_tb['stock2_price_entry'] = vec2[temp_tb['entry_idx']] \n",
    "temp_tb['stock2_price_exit'] = vec2[temp_tb['exit_idx']] \n",
    "temp_tb['long_stock_1'] = [long_stock1_flag(vec1, vec2, x) for x in temp_tb.entry_idx]\n",
    "\n",
    "\n",
    "pnls = []\n",
    "for row in range(temp_tb.shape[0]):\n",
    "    long_pnl=0\n",
    "    short_pnl=0\n",
    "    if temp_tb.long_stock_1[row]:\n",
    "        # calculate pnl when we long stock 1 and short stock 2\n",
    "        long_pnl = base_fund * split * ((temp_tb.stock1_price_exit.values - temp_tb.stock1_price_entry.values)/temp_tb.stock1_price_entry.values)\n",
    "        short_pnl = base_fund * (1-split) * ((temp_tb.stock2_price_entry.values - temp_tb.stock2_price_exit.values)/temp_tb.stock2_price_entry.values)\n",
    "    else:\n",
    "        # calculate pnl when we long stock 2 and short stock 1\n",
    "        long_pnl = base_fund * (1-split) * ((temp_tb.stock2_price_exit.values - temp_tb.stock2_price_entry.values)/temp_tb.stock1_price_entry.values)\n",
    "        short_pnl = base_fund * (split) * ((temp_tb.stock1_price_entry.values - temp_tb.stock1_price_exit.values)/temp_tb.stock2_price_entry.values)\n",
    "    pnls.append(long_pnl[0]+short_pnl[0])\n",
    "temp_tb['pnl'] = pnls"
   ]
  },
  {
   "cell_type": "code",
   "execution_count": null,
   "id": "d0d27eea-ef9e-42f2-bfbd-b3257032c5a3",
   "metadata": {},
   "outputs": [],
   "source": [
    "temp_tb"
   ]
  },
  {
   "cell_type": "code",
   "execution_count": null,
   "id": "f4e61e1d-6e01-48b3-ba83-cb4f40dd2482",
   "metadata": {},
   "outputs": [],
   "source": [
    "plt.plot(vec1, label='Stock1', color='red')\n",
    "plt.plot(vec2, label='Stock2', color='green')\n",
    "plt.plot(abs(vec1 - vec2), label='Absolute Spread')\n",
    "plt.axvline(x=48, color='red', linestyle='--', label='Vertical Line')\n",
    "plt.axvline(x=119, color='red', linestyle='--', label='Vertical Line')"
   ]
  },
  {
   "cell_type": "code",
   "execution_count": null,
   "id": "19b7a9bf-6b38-4bfe-a87b-ed0f0b9ac22c",
   "metadata": {},
   "outputs": [],
   "source": []
  }
 ],
 "metadata": {
  "kernelspec": {
   "display_name": "Python 3 (ipykernel)",
   "language": "python",
   "name": "python3"
  },
  "language_info": {
   "codemirror_mode": {
    "name": "ipython",
    "version": 3
   },
   "file_extension": ".py",
   "mimetype": "text/x-python",
   "name": "python",
   "nbconvert_exporter": "python",
   "pygments_lexer": "ipython3",
   "version": "3.11.6"
  }
 },
 "nbformat": 4,
 "nbformat_minor": 5
}
