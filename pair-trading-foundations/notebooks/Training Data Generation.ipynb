{
 "cells": [
  {
   "cell_type": "code",
   "execution_count": 1,
   "id": "45bfe8ae-1745-4eaf-9d12-fe6dab5e6ae1",
   "metadata": {},
   "outputs": [
    {
     "name": "stderr",
     "output_type": "stream",
     "text": [
      "/var/folders/f4/28wskrvx4yz7gqswwx15x1bh0000gn/T/ipykernel_4629/3080375706.py:3: DeprecationWarning: \n",
      "Pyarrow will become a required dependency of pandas in the next major release of pandas (pandas 3.0),\n",
      "(to allow more performant data types, such as the Arrow string type, and better interoperability with other libraries)\n",
      "but was not found to be installed on your system.\n",
      "If this would cause problems for you,\n",
      "please provide us feedback at https://github.com/pandas-dev/pandas/issues/54466\n",
      "        \n",
      "  import pandas as pd\n"
     ]
    }
   ],
   "source": [
    "import numpy as np\n",
    "from numpy.linalg import norm\n",
    "import pandas as pd\n",
    "import itertools\n",
    "import random\n",
    "from matplotlib import pyplot as plt\n",
    "from pair_trading_foundations.data_generation import ExecutePairTrading, generate_training_data\n",
    "random.seed(23)\n",
    "import cProfile\n",
    "import pstats"
   ]
  },
  {
   "cell_type": "code",
   "execution_count": 2,
   "id": "05f8ad47-14f9-4351-bf7d-15597793e5c4",
   "metadata": {},
   "outputs": [],
   "source": [
    "data = pd.read_csv('Data/sp500_full_20181231_to_20231229.csv')"
   ]
  },
  {
   "cell_type": "code",
   "execution_count": 3,
   "id": "b7e176ad-efe6-4f46-a66e-52072e5d1de4",
   "metadata": {},
   "outputs": [],
   "source": [
    "value_count_tb = data[['Ticker']].groupby('Ticker').size().reset_index()\n",
    "value_count_tb.columns = ['Ticker', 'Count']\n",
    "stock_to_keep = value_count_tb['Ticker'][value_count_tb.Count==value_count_tb.Count.max()]\n",
    "data = data[data.Ticker.isin(stock_to_keep)]\n",
    "data_tech = data[data['GICS Sector'].isin(['Information Technology'])]"
   ]
  },
  {
   "cell_type": "markdown",
   "id": "acee7e8d-6f3c-4789-b4d6-4f05ebdfb3ae",
   "metadata": {},
   "source": [
    "# Get the tech sector only"
   ]
  },
  {
   "cell_type": "code",
   "execution_count": 5,
   "id": "1ce89092-dc1f-4148-a062-61ee0809e5da",
   "metadata": {},
   "outputs": [
    {
     "name": "stdout",
     "output_type": "stream",
     "text": [
      "2016 stock pairs detected\n",
      "Took 0.03170514106750488 to initilize. Entering ticker pair loop\n",
      "Getting the 1000th pair\n",
      "Getting the 2000th pair\n",
      "Took 61.95725631713867 to finish\n"
     ]
    }
   ],
   "source": [
    "recorded_info_tb, features_tb, labels_tb = generate_training_data(\n",
    "        data=data_tech,\n",
    "        training_len=500,\n",
    "        test_len=120,\n",
    "        sample_size_per_pair=10\n",
    "    )"
   ]
  },
  {
   "cell_type": "code",
   "execution_count": 11,
   "id": "d393a841-72ba-4fed-a3d8-0d71c6fe21a4",
   "metadata": {},
   "outputs": [],
   "source": [
    "combined = pd.merge(recorded_info_tb, features_tb, how='inner', on= ['ticker1','ticker2', 'target_date'])\n",
    "combined = pd.merge(combined,labels_tb, how='inner', on= ['ticker1','ticker2', 'target_date'] )"
   ]
  },
  {
   "cell_type": "code",
   "execution_count": 15,
   "id": "8eaa8174-8ece-4332-8610-44f12e9309ca",
   "metadata": {},
   "outputs": [],
   "source": [
    "combined.to_csv('Data/tech_sector_pairs.csv', index=False)"
   ]
  },
  {
   "cell_type": "markdown",
   "id": "eb7ee454-a273-424c-a372-2059b7c03235",
   "metadata": {},
   "source": [
    "# Get all combs"
   ]
  },
  {
   "cell_type": "code",
   "execution_count": null,
   "id": "f17425b3-03fb-443f-836f-5feb48d04a16",
   "metadata": {},
   "outputs": [
    {
     "name": "stdout",
     "output_type": "stream",
     "text": [
      "119316 stock pairs detected\n",
      "Took 0.1244208812713623 to initilize. Entering ticker pair loop\n",
      "Getting the 1000th pair\n",
      "Getting the 2000th pair\n",
      "Getting the 3000th pair\n",
      "Getting the 4000th pair\n",
      "Getting the 5000th pair\n"
     ]
    }
   ],
   "source": [
    "recorded_info_tb, features_tb, labels_tb = generate_training_data(\n",
    "        data=data,\n",
    "        training_len=500,\n",
    "        test_len=120,\n",
    "        sample_size_per_pair=10\n",
    "    )"
   ]
  },
  {
   "cell_type": "code",
   "execution_count": null,
   "id": "da6e52d6-24a6-4d83-8895-eaec447e2ed0",
   "metadata": {},
   "outputs": [],
   "source": [
    "combined = pd.merge(recorded_info_tb, features_tb, how='inner', on= ['ticker1','ticker2', 'target_date'])\n",
    "combined = pd.merge(combined,labels_tb, how='inner', on= ['ticker1','ticker2', 'target_date'] )\n",
    "combined.to_csv('Data/all_sector_pairs.csv', index=False)"
   ]
  },
  {
   "cell_type": "code",
   "execution_count": null,
   "id": "0c58d8f1-e3f8-475e-b544-9fa9f15ff58c",
   "metadata": {},
   "outputs": [],
   "source": []
  }
 ],
 "metadata": {
  "kernelspec": {
   "display_name": "Python 3 (ipykernel)",
   "language": "python",
   "name": "python3"
  },
  "language_info": {
   "codemirror_mode": {
    "name": "ipython",
    "version": 3
   },
   "file_extension": ".py",
   "mimetype": "text/x-python",
   "name": "python",
   "nbconvert_exporter": "python",
   "pygments_lexer": "ipython3",
   "version": "3.11.6"
  }
 },
 "nbformat": 4,
 "nbformat_minor": 5
}
