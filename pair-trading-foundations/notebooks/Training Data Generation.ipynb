{
 "cells": [
  {
   "cell_type": "code",
   "execution_count": 1,
   "id": "45bfe8ae-1745-4eaf-9d12-fe6dab5e6ae1",
   "metadata": {},
   "outputs": [],
   "source": [
    "import numpy as np\n",
    "from numpy.linalg import norm\n",
    "import pandas as pd\n",
    "import itertools\n",
    "import random\n",
    "from matplotlib import pyplot as plt\n",
    "from pair_trading_foundations.data_generation import ExecutePairTrading, generate_training_data\n",
    "random.seed(23)\n",
    "import cProfile\n",
    "import pstats\n",
    "import pickle\n",
    "import plotly.express as px\n",
    "from time import time\n",
    "\n",
    "def chunker(seq, size):\n",
    "    # split a list into chunks\n",
    "    return (seq[pos:pos + size] for pos in range(0, len(seq), size))"
   ]
  },
  {
   "cell_type": "code",
   "execution_count": 2,
   "id": "05f8ad47-14f9-4351-bf7d-15597793e5c4",
   "metadata": {},
   "outputs": [],
   "source": [
    "data = pd.read_csv('Data/sp500_full_20181231_to_20231229.csv')"
   ]
  },
  {
   "cell_type": "code",
   "execution_count": 3,
   "id": "b7e176ad-efe6-4f46-a66e-52072e5d1de4",
   "metadata": {},
   "outputs": [],
   "source": [
    "value_count_tb = data[['Ticker']].groupby('Ticker').size().reset_index()\n",
    "value_count_tb.columns = ['Ticker', 'Count']\n",
    "stock_to_keep = value_count_tb['Ticker'][value_count_tb.Count==value_count_tb.Count.max()]\n",
    "data = data[data.Ticker.isin(stock_to_keep)]\n",
    "sampled_tickers = random.sample(list(stock_to_keep.values), 10)\n",
    "# data_tech = data[data['GICS Sector'].isin(['Information Technology'])]\n",
    "data_sampled = data[data['Ticker'].isin(sampled_tickers)]"
   ]
  },
  {
   "cell_type": "code",
   "execution_count": 4,
   "id": "dbaa0874-7dec-426a-a4dc-978a3d0fd855",
   "metadata": {},
   "outputs": [],
   "source": [
    "tickers = list(set(data.Ticker.values))\n",
    "combinations = list(itertools.combinations(tickers, 2))"
   ]
  },
  {
   "cell_type": "code",
   "execution_count": 5,
   "id": "e6b8d625-9356-49a8-8f43-55bd6557bf27",
   "metadata": {},
   "outputs": [
    {
     "data": {
      "text/plain": [
       "119316"
      ]
     },
     "execution_count": 5,
     "metadata": {},
     "output_type": "execute_result"
    }
   ],
   "source": [
    "len(combinations)"
   ]
  },
  {
   "cell_type": "code",
   "execution_count": 6,
   "id": "ffebc165-d731-4f53-80bd-eaafbc2097c0",
   "metadata": {},
   "outputs": [],
   "source": [
    "batches = list(chunker(combinations, 1000))"
   ]
  },
  {
   "cell_type": "code",
   "execution_count": null,
   "id": "eb50f906-37d7-4535-860a-b0ac13f5d3b4",
   "metadata": {},
   "outputs": [],
   "source": [
    "print(f\"Used around {15/45}s per pair for features of full history\")\n",
    "print(f\"Used around {30/45}s per pair for features and labels of full history\")"
   ]
  },
  {
   "cell_type": "markdown",
   "id": "dca6a1c0-f52c-40cb-85e2-44b7fefd1bfc",
   "metadata": {},
   "source": [
    "# Generate for all pairs"
   ]
  },
  {
   "cell_type": "code",
   "execution_count": null,
   "id": "cc64fa11-909b-413b-aadf-e01318df0ddc",
   "metadata": {
    "scrolled": true
   },
   "outputs": [],
   "source": [
    "i = 0\n",
    "for batch in batches:\n",
    "    start_ts=time()\n",
    "    print(f'Getting {i+1}th out of {len(batches)} batches')\n",
    "    features_tb, labels_tb, pnl_metadata_tb = generate_training_data(\n",
    "        data=data,\n",
    "        training_len=500,\n",
    "        test_len=120,\n",
    "        calculate_label=True,\n",
    "        verbose=False,\n",
    "        combinations=batch\n",
    "    )\n",
    "    combined = pd.merge(features_tb, labels_tb, how='left', on=['Date', 'Ticker_P1','Ticker_P2']).reset_index(drop=True)\n",
    "    # combined = pd.merge(combined, pnl_metadata_tb[['Date', 'Ticker_P1','Ticker_P2', 'trade_executions']], how='left', on=['Date', 'Ticker_P1','Ticker_P2'])\n",
    "    # combined = combined[combined.pnls.notnull()].reset_index(drop=True)\n",
    "    combined.to_csv(f'Data/Training/pair_features{i+1}.csv', index=False)\n",
    "    end_ts = time()\n",
    "    print(f\"Took {end_ts - start_ts} seconds\")\n",
    "    i+=1"
   ]
  },
  {
   "cell_type": "code",
   "execution_count": null,
   "id": "dc2b569b-1fd0-4e10-973b-237f68069fec",
   "metadata": {},
   "outputs": [],
   "source": []
  },
  {
   "cell_type": "markdown",
   "id": "e2001dcb-b0ec-495a-8522-75da6babdf11",
   "metadata": {},
   "source": [
    "# Generate data for pairs"
   ]
  },
  {
   "cell_type": "code",
   "execution_count": 7,
   "id": "1865eb17-41ec-44b3-a696-c7b4c8b14e82",
   "metadata": {},
   "outputs": [
    {
     "name": "stdout",
     "output_type": "stream",
     "text": [
      "45 stock pairs detected\n",
      "Took 0.014890909194946289 to initilize. Entering ticker pair loop\n"
     ]
    },
    {
     "name": "stderr",
     "output_type": "stream",
     "text": [
      "/Users/xiaoma/Desktop/current_desktop/mids/pair_trading/pair-trading-foundations/notebooks/pair_trading_foundations/data_generation.py:289: FutureWarning: The behavior of DataFrame concatenation with empty or all-NA entries is deprecated. In a future version, this will no longer exclude empty or all-NA columns when determining the result dtypes. To retain the old behavior, exclude the relevant entries before the concat operation.\n",
      "  features_tb = pd.concat(\n"
     ]
    },
    {
     "ename": "IndexError",
     "evalue": "index 121 is out of bounds for axis 0 with size 121",
     "output_type": "error",
     "traceback": [
      "\u001b[0;31m---------------------------------------------------------------------------\u001b[0m",
      "\u001b[0;31mIndexError\u001b[0m                                Traceback (most recent call last)",
      "Cell \u001b[0;32mIn[7], line 1\u001b[0m\n\u001b[0;32m----> 1\u001b[0m features_tb, labels_tb, pnl_metadata_tb \u001b[38;5;241m=\u001b[39m \u001b[43mgenerate_training_data\u001b[49m\u001b[43m(\u001b[49m\n\u001b[1;32m      2\u001b[0m \u001b[43m        \u001b[49m\u001b[43mdata\u001b[49m\u001b[38;5;241;43m=\u001b[39;49m\u001b[43mdata_sampled\u001b[49m\u001b[43m,\u001b[49m\n\u001b[1;32m      3\u001b[0m \u001b[43m        \u001b[49m\u001b[43mtraining_len\u001b[49m\u001b[38;5;241;43m=\u001b[39;49m\u001b[38;5;241;43m500\u001b[39;49m\u001b[43m,\u001b[49m\n\u001b[1;32m      4\u001b[0m \u001b[43m        \u001b[49m\u001b[43mtest_len\u001b[49m\u001b[38;5;241;43m=\u001b[39;49m\u001b[38;5;241;43m120\u001b[39;49m\u001b[43m,\u001b[49m\n\u001b[1;32m      5\u001b[0m \u001b[43m        \u001b[49m\u001b[43mcalculate_label\u001b[49m\u001b[38;5;241;43m=\u001b[39;49m\u001b[38;5;28;43;01mTrue\u001b[39;49;00m\u001b[43m,\u001b[49m\n\u001b[1;32m      6\u001b[0m \u001b[43m        \u001b[49m\u001b[43mverbose\u001b[49m\u001b[38;5;241;43m=\u001b[39;49m\u001b[38;5;28;43;01mFalse\u001b[39;49;00m\n\u001b[1;32m      7\u001b[0m \u001b[43m    \u001b[49m\u001b[43m)\u001b[49m\n",
      "File \u001b[0;32m~/Desktop/current_desktop/mids/pair_trading/pair-trading-foundations/notebooks/pair_trading_foundations/data_generation.py:313\u001b[0m, in \u001b[0;36mgenerate_training_data\u001b[0;34m(data, training_len, test_len, calculate_label, verbose, execution_class, combinations)\u001b[0m\n\u001b[1;32m    307\u001b[0m \u001b[38;5;28;01melse\u001b[39;00m:\n\u001b[1;32m    308\u001b[0m     current_row \u001b[38;5;241m=\u001b[39m df\u001b[38;5;241m.\u001b[39mloc[idx]\n\u001b[1;32m    309\u001b[0m     result\u001b[38;5;241m=\u001b[39m\u001b[43mexecution_class\u001b[49m\u001b[43m(\u001b[49m\n\u001b[1;32m    310\u001b[0m \u001b[43m                    \u001b[49m\u001b[43mcurrent_row\u001b[49m\u001b[38;5;241;43m.\u001b[39;49m\u001b[43mabs_spread_mean\u001b[49m\u001b[43m,\u001b[49m\n\u001b[1;32m    311\u001b[0m \u001b[43m                    \u001b[49m\u001b[43mcurrent_row\u001b[49m\u001b[38;5;241;43m.\u001b[39;49m\u001b[43mabs_spread_std\u001b[49m\u001b[43m,\u001b[49m\n\u001b[1;32m    312\u001b[0m \u001b[43m                    \u001b[49m\u001b[43mentry_signal\u001b[49m\u001b[38;5;241;43m=\u001b[39;49m\u001b[38;5;241;43m1.5\u001b[39;49m\n\u001b[0;32m--> 313\u001b[0m \u001b[43m                \u001b[49m\u001b[43m)\u001b[49m\u001b[38;5;241;43m.\u001b[39;49m\u001b[43mexecute\u001b[49m\u001b[43m(\u001b[49m\n\u001b[1;32m    314\u001b[0m \u001b[43m                    \u001b[49m\u001b[43mvec1\u001b[49m\u001b[38;5;241;43m=\u001b[39;49m\u001b[43mdf\u001b[49m\u001b[38;5;241;43m.\u001b[39;49m\u001b[43mloc\u001b[49m\u001b[43m[\u001b[49m\u001b[43m(\u001b[49m\u001b[43midx\u001b[49m\u001b[38;5;241;43m+\u001b[39;49m\u001b[38;5;241;43m1\u001b[39;49m\u001b[43m)\u001b[49m\u001b[43m:\u001b[49m\u001b[43m(\u001b[49m\u001b[43midx\u001b[49m\u001b[38;5;241;43m+\u001b[39;49m\u001b[38;5;241;43m121\u001b[39;49m\u001b[43m)\u001b[49m\u001b[43m]\u001b[49m\u001b[43m[\u001b[49m\u001b[38;5;124;43m'\u001b[39;49m\u001b[38;5;124;43mClose_P1\u001b[39;49m\u001b[38;5;124;43m'\u001b[39;49m\u001b[43m]\u001b[49m\u001b[38;5;241;43m.\u001b[39;49m\u001b[43mvalues\u001b[49m\u001b[43m,\u001b[49m\n\u001b[1;32m    315\u001b[0m \u001b[43m                    \u001b[49m\u001b[43mvec2\u001b[49m\u001b[38;5;241;43m=\u001b[39;49m\u001b[43mdf\u001b[49m\u001b[38;5;241;43m.\u001b[39;49m\u001b[43mloc\u001b[49m\u001b[43m[\u001b[49m\u001b[43m(\u001b[49m\u001b[43midx\u001b[49m\u001b[38;5;241;43m+\u001b[39;49m\u001b[38;5;241;43m1\u001b[39;49m\u001b[43m)\u001b[49m\u001b[43m:\u001b[49m\u001b[43m(\u001b[49m\u001b[43midx\u001b[49m\u001b[38;5;241;43m+\u001b[39;49m\u001b[38;5;241;43m121\u001b[39;49m\u001b[43m)\u001b[49m\u001b[43m]\u001b[49m\u001b[43m[\u001b[49m\u001b[38;5;124;43m'\u001b[39;49m\u001b[38;5;124;43mClose_P2\u001b[39;49m\u001b[38;5;124;43m'\u001b[39;49m\u001b[43m]\u001b[49m\u001b[38;5;241;43m.\u001b[39;49m\u001b[43mvalues\u001b[49m\u001b[43m,\u001b[49m\n\u001b[1;32m    316\u001b[0m \u001b[43m                    \u001b[49m\u001b[43mdates\u001b[49m\u001b[38;5;241;43m=\u001b[39;49m\u001b[43mdf\u001b[49m\u001b[38;5;241;43m.\u001b[39;49m\u001b[43mloc\u001b[49m\u001b[43m[\u001b[49m\u001b[43m(\u001b[49m\u001b[43midx\u001b[49m\u001b[38;5;241;43m+\u001b[39;49m\u001b[38;5;241;43m1\u001b[39;49m\u001b[43m)\u001b[49m\u001b[43m:\u001b[49m\u001b[43m(\u001b[49m\u001b[43midx\u001b[49m\u001b[38;5;241;43m+\u001b[39;49m\u001b[38;5;241;43m121\u001b[39;49m\u001b[43m)\u001b[49m\u001b[43m]\u001b[49m\u001b[43m[\u001b[49m\u001b[38;5;124;43m'\u001b[39;49m\u001b[38;5;124;43mDate\u001b[39;49m\u001b[38;5;124;43m'\u001b[39;49m\u001b[43m]\u001b[49m\u001b[38;5;241;43m.\u001b[39;49m\u001b[43mvalues\u001b[49m\n\u001b[1;32m    317\u001b[0m \u001b[43m                \u001b[49m\u001b[43m)\u001b[49m\n\u001b[1;32m    318\u001b[0m     pnls\u001b[38;5;241m.\u001b[39mappend(result\u001b[38;5;241m.\u001b[39mfinal_pl_pct)\n\u001b[1;32m    319\u001b[0m     \u001b[38;5;28;01mif\u001b[39;00m result\u001b[38;5;241m.\u001b[39mfinal_pl_pct \u001b[38;5;241m!=\u001b[39m \u001b[38;5;241m0\u001b[39m:\n",
      "File \u001b[0;32m~/Desktop/current_desktop/mids/pair_trading/pair-trading-foundations/notebooks/pair_trading_foundations/data_generation.py:75\u001b[0m, in \u001b[0;36mExecutePairTrading.execute\u001b[0;34m(self, vec1, vec2, dates, base_fund, split, verbose)\u001b[0m\n\u001b[1;32m     72\u001b[0m temp_tb\u001b[38;5;241m.\u001b[39mcolumns \u001b[38;5;241m=\u001b[39m [\u001b[38;5;124m'\u001b[39m\u001b[38;5;124mentry_idx\u001b[39m\u001b[38;5;124m'\u001b[39m, \u001b[38;5;124m'\u001b[39m\u001b[38;5;124mexit_idx\u001b[39m\u001b[38;5;124m'\u001b[39m]\n\u001b[1;32m     73\u001b[0m temp_tb \u001b[38;5;241m=\u001b[39m temp_tb\u001b[38;5;241m.\u001b[39mgroupby(\u001b[38;5;124m'\u001b[39m\u001b[38;5;124mexit_idx\u001b[39m\u001b[38;5;124m'\u001b[39m)\u001b[38;5;241m.\u001b[39mmin()\u001b[38;5;241m.\u001b[39mreset_index()\n\u001b[0;32m---> 75\u001b[0m temp_tb[\u001b[38;5;124m'\u001b[39m\u001b[38;5;124mstock1_price_entry\u001b[39m\u001b[38;5;124m'\u001b[39m] \u001b[38;5;241m=\u001b[39m \u001b[43mvec1\u001b[49m\u001b[43m[\u001b[49m\u001b[43mtemp_tb\u001b[49m\u001b[43m[\u001b[49m\u001b[38;5;124;43m'\u001b[39;49m\u001b[38;5;124;43mentry_idx\u001b[39;49m\u001b[38;5;124;43m'\u001b[39;49m\u001b[43m]\u001b[49m\u001b[43m]\u001b[49m \n\u001b[1;32m     76\u001b[0m temp_tb[\u001b[38;5;124m'\u001b[39m\u001b[38;5;124mstock1_price_exit\u001b[39m\u001b[38;5;124m'\u001b[39m] \u001b[38;5;241m=\u001b[39m vec1[temp_tb[\u001b[38;5;124m'\u001b[39m\u001b[38;5;124mexit_idx\u001b[39m\u001b[38;5;124m'\u001b[39m]] \n\u001b[1;32m     77\u001b[0m temp_tb[\u001b[38;5;124m'\u001b[39m\u001b[38;5;124mstock2_price_entry\u001b[39m\u001b[38;5;124m'\u001b[39m] \u001b[38;5;241m=\u001b[39m vec2[temp_tb[\u001b[38;5;124m'\u001b[39m\u001b[38;5;124mentry_idx\u001b[39m\u001b[38;5;124m'\u001b[39m]] \n",
      "\u001b[0;31mIndexError\u001b[0m: index 121 is out of bounds for axis 0 with size 121"
     ]
    }
   ],
   "source": [
    "features_tb, labels_tb, pnl_metadata_tb = generate_training_data(\n",
    "        data=data_sampled,\n",
    "        training_len=500,\n",
    "        test_len=120,\n",
    "        calculate_label=True,\n",
    "        verbose=False\n",
    "    )"
   ]
  },
  {
   "cell_type": "code",
   "execution_count": null,
   "id": "82e44077-ea59-47d3-8470-6fb15b6ec440",
   "metadata": {},
   "outputs": [],
   "source": [
    "combined = pd.merge(features_tb, labels_tb, how='left', on=['Date', 'Ticker_P1','Ticker_P2']).reset_index(drop=True)"
   ]
  },
  {
   "cell_type": "code",
   "execution_count": null,
   "id": "0106cda4-3bb2-4fd3-abf1-40122feb4cef",
   "metadata": {},
   "outputs": [],
   "source": [
    "combined = pd.merge(combined, pnl_metadata_tb[['Date', 'Ticker_P1','Ticker_P2', 'trade_executions']], how='left', on=['Date', 'Ticker_P1','Ticker_P2'])"
   ]
  },
  {
   "cell_type": "code",
   "execution_count": null,
   "id": "ffd20ab7-fc26-40b1-a739-1864714a874f",
   "metadata": {},
   "outputs": [],
   "source": [
    "with open('Data/spotcheckout_output.pkl','wb') as file:\n",
    "    pickle.dump(combined, file)"
   ]
  },
  {
   "cell_type": "code",
   "execution_count": null,
   "id": "3803eb8a-443b-464f-9e23-74cb498f179a",
   "metadata": {},
   "outputs": [],
   "source": []
  }
 ],
 "metadata": {
  "kernelspec": {
   "display_name": "Python 3 (ipykernel)",
   "language": "python",
   "name": "python3"
  },
  "language_info": {
   "codemirror_mode": {
    "name": "ipython",
    "version": 3
   },
   "file_extension": ".py",
   "mimetype": "text/x-python",
   "name": "python",
   "nbconvert_exporter": "python",
   "pygments_lexer": "ipython3",
   "version": "3.11.6"
  }
 },
 "nbformat": 4,
 "nbformat_minor": 5
}
