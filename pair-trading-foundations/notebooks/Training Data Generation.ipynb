{
 "cells": [
  {
   "cell_type": "code",
   "execution_count": 1,
   "id": "45bfe8ae-1745-4eaf-9d12-fe6dab5e6ae1",
   "metadata": {},
   "outputs": [
    {
     "name": "stderr",
     "output_type": "stream",
     "text": [
      "/var/folders/f4/28wskrvx4yz7gqswwx15x1bh0000gn/T/ipykernel_10518/3080375706.py:3: DeprecationWarning: \n",
      "Pyarrow will become a required dependency of pandas in the next major release of pandas (pandas 3.0),\n",
      "(to allow more performant data types, such as the Arrow string type, and better interoperability with other libraries)\n",
      "but was not found to be installed on your system.\n",
      "If this would cause problems for you,\n",
      "please provide us feedback at https://github.com/pandas-dev/pandas/issues/54466\n",
      "        \n",
      "  import pandas as pd\n"
     ]
    }
   ],
   "source": [
    "import numpy as np\n",
    "from numpy.linalg import norm\n",
    "import pandas as pd\n",
    "import itertools\n",
    "import random\n",
    "from matplotlib import pyplot as plt\n",
    "from pair_trading_foundations.data_generation import ExecutePairTrading, generate_training_data\n",
    "random.seed(23)\n",
    "import cProfile\n",
    "import pstats"
   ]
  },
  {
   "cell_type": "code",
   "execution_count": 2,
   "id": "05f8ad47-14f9-4351-bf7d-15597793e5c4",
   "metadata": {},
   "outputs": [],
   "source": [
    "data = pd.read_csv('Data/sp500_full_20181231_to_20231229.csv')"
   ]
  },
  {
   "cell_type": "code",
   "execution_count": null,
   "id": "b7e176ad-efe6-4f46-a66e-52072e5d1de4",
   "metadata": {},
   "outputs": [],
   "source": [
    "value_count_tb = data[['Ticker']].groupby('Ticker').size().reset_index()\n",
    "value_count_tb.columns = ['Ticker', 'Count']\n",
    "stock_to_keep = value_count_tb['Ticker'][value_count_tb.Count==value_count_tb.Count.max()]\n",
    "data = data[data.Ticker.isin(stock_to_keep)]\n",
    "\n",
    "sampled_tickers = random.sample(list(stock_to_keep.values), 200)\n",
    "\n",
    "data_tech = data[data['GICS Sector'].isin(['Information Technology'])]\n",
    "data_sampled = data[data['Ticker'].isin(sampled_tickers)]"
   ]
  },
  {
   "cell_type": "markdown",
   "id": "acee7e8d-6f3c-4789-b4d6-4f05ebdfb3ae",
   "metadata": {},
   "source": [
    "# Get the tech sector only"
   ]
  },
  {
   "cell_type": "code",
   "execution_count": null,
   "id": "1ce89092-dc1f-4148-a062-61ee0809e5da",
   "metadata": {},
   "outputs": [],
   "source": [
    "recorded_info_tb, features_tb, labels_tb = generate_training_data(\n",
    "        data=data_tech,\n",
    "        training_len=500,\n",
    "        test_len=120,\n",
    "        sample_size_per_pair=10\n",
    "    )"
   ]
  },
  {
   "cell_type": "code",
   "execution_count": null,
   "id": "d393a841-72ba-4fed-a3d8-0d71c6fe21a4",
   "metadata": {},
   "outputs": [],
   "source": [
    "combined = pd.merge(recorded_info_tb, features_tb, how='inner', on= ['ticker1','ticker2', 'target_date'])\n",
    "combined = pd.merge(combined,labels_tb, how='inner', on= ['ticker1','ticker2', 'target_date'] )"
   ]
  },
  {
   "cell_type": "code",
   "execution_count": null,
   "id": "8eaa8174-8ece-4332-8610-44f12e9309ca",
   "metadata": {},
   "outputs": [],
   "source": [
    "combined.to_csv('Data/tech_sector_pairs.csv', index=False)"
   ]
  },
  {
   "cell_type": "markdown",
   "id": "eb7ee454-a273-424c-a372-2059b7c03235",
   "metadata": {},
   "source": [
    "# Get sampled combs"
   ]
  },
  {
   "cell_type": "code",
   "execution_count": null,
   "id": "f17425b3-03fb-443f-836f-5feb48d04a16",
   "metadata": {},
   "outputs": [],
   "source": [
    "recorded_info_tb, features_tb, labels_tb = generate_training_data(\n",
    "        data=data_sampled,\n",
    "        training_len=500,\n",
    "        test_len=120,\n",
    "        sample_size_per_pair=10\n",
    "    )"
   ]
  },
  {
   "cell_type": "code",
   "execution_count": null,
   "id": "da6e52d6-24a6-4d83-8895-eaec447e2ed0",
   "metadata": {},
   "outputs": [],
   "source": [
    "combined = pd.merge(recorded_info_tb, features_tb, how='inner', on= ['ticker1','ticker2', 'target_date'])\n",
    "combined = pd.merge(combined,labels_tb, how='inner', on= ['ticker1','ticker2', 'target_date'] )\n",
    "combined.to_csv('Data/sampled_sector_pairs_200.csv', index=False)"
   ]
  },
  {
   "cell_type": "markdown",
   "id": "0ad1b7b6-a990-48f5-943c-d5cac0ec7138",
   "metadata": {},
   "source": [
    "# Examining"
   ]
  },
  {
   "cell_type": "code",
   "execution_count": 26,
   "id": "993fdd75-8bc4-4b99-947b-2772b9807d3f",
   "metadata": {},
   "outputs": [],
   "source": [
    "combined = pd.read_csv('Data/sampled_sector_pairs_200.csv')"
   ]
  },
  {
   "cell_type": "code",
   "execution_count": 28,
   "id": "0c58d8f1-e3f8-475e-b544-9fa9f15ff58c",
   "metadata": {},
   "outputs": [
    {
     "data": {
      "text/plain": [
       "count    207676.000000\n",
       "mean          0.006757\n",
       "std           0.466689\n",
       "min         -37.861598\n",
       "25%          -0.003950\n",
       "50%           0.000000\n",
       "75%           0.016097\n",
       "max          23.016912\n",
       "Name: total_pnl, dtype: float64"
      ]
     },
     "execution_count": 28,
     "metadata": {},
     "output_type": "execute_result"
    }
   ],
   "source": [
    "combined.total_pnl.describe()"
   ]
  },
  {
   "cell_type": "code",
   "execution_count": 29,
   "id": "6cf178c2-a66f-4bc8-8fb0-dc4e28d0049c",
   "metadata": {},
   "outputs": [
    {
     "data": {
      "text/html": [
       "<div>\n",
       "<style scoped>\n",
       "    .dataframe tbody tr th:only-of-type {\n",
       "        vertical-align: middle;\n",
       "    }\n",
       "\n",
       "    .dataframe tbody tr th {\n",
       "        vertical-align: top;\n",
       "    }\n",
       "\n",
       "    .dataframe thead th {\n",
       "        text-align: right;\n",
       "    }\n",
       "</style>\n",
       "<table border=\"1\" class=\"dataframe\">\n",
       "  <thead>\n",
       "    <tr style=\"text-align: right;\">\n",
       "      <th></th>\n",
       "      <th>ticker1</th>\n",
       "      <th>ticker2</th>\n",
       "      <th>target_date</th>\n",
       "      <th>abs_spread_mean</th>\n",
       "      <th>abs_spread_std</th>\n",
       "      <th>abs_spread_mean_l28</th>\n",
       "      <th>abs_spread_std_l28</th>\n",
       "      <th>same_sector_flag</th>\n",
       "      <th>same_sub_industry_flag</th>\n",
       "      <th>cos_sim</th>\n",
       "      <th>corr_coef</th>\n",
       "      <th>abs_spread_normed_max</th>\n",
       "      <th>abs_spread_normed_90th</th>\n",
       "      <th>abs_spread_normed_75th</th>\n",
       "      <th>abs_spread_normed_median</th>\n",
       "      <th>abs_spread_normed_l7_avg</th>\n",
       "      <th>abs_spread_normed_l14_avg</th>\n",
       "      <th>total_pnl</th>\n",
       "      <th>total_pnl_l28_mean_std</th>\n",
       "    </tr>\n",
       "  </thead>\n",
       "  <tbody>\n",
       "    <tr>\n",
       "      <th>61706</th>\n",
       "      <td>BKNG</td>\n",
       "      <td>F</td>\n",
       "      <td>2021-12-01</td>\n",
       "      <td>1994.916603</td>\n",
       "      <td>330.774518</td>\n",
       "      <td>2389.568579</td>\n",
       "      <td>125.875981</td>\n",
       "      <td>True</td>\n",
       "      <td>False</td>\n",
       "      <td>0.974361</td>\n",
       "      <td>0.872647</td>\n",
       "      <td>2.559709</td>\n",
       "      <td>1.572870</td>\n",
       "      <td>1.132254</td>\n",
       "      <td>0.844710</td>\n",
       "      <td>0.707190</td>\n",
       "      <td>0.985483</td>\n",
       "      <td>22.065485</td>\n",
       "      <td>9.593977</td>\n",
       "    </tr>\n",
       "    <tr>\n",
       "      <th>61707</th>\n",
       "      <td>BKNG</td>\n",
       "      <td>F</td>\n",
       "      <td>2021-10-13</td>\n",
       "      <td>1963.013843</td>\n",
       "      <td>311.235930</td>\n",
       "      <td>2377.410025</td>\n",
       "      <td>65.869321</td>\n",
       "      <td>True</td>\n",
       "      <td>False</td>\n",
       "      <td>0.983061</td>\n",
       "      <td>0.896185</td>\n",
       "      <td>2.617898</td>\n",
       "      <td>1.598196</td>\n",
       "      <td>1.136403</td>\n",
       "      <td>0.800470</td>\n",
       "      <td>1.547261</td>\n",
       "      <td>1.518131</td>\n",
       "      <td>21.976154</td>\n",
       "      <td>8.050768</td>\n",
       "    </tr>\n",
       "    <tr>\n",
       "      <th>62840</th>\n",
       "      <td>BKNG</td>\n",
       "      <td>VTRS</td>\n",
       "      <td>2021-10-25</td>\n",
       "      <td>1963.062542</td>\n",
       "      <td>320.267401</td>\n",
       "      <td>2417.505384</td>\n",
       "      <td>56.583791</td>\n",
       "      <td>False</td>\n",
       "      <td>False</td>\n",
       "      <td>0.973652</td>\n",
       "      <td>-0.211089</td>\n",
       "      <td>2.580851</td>\n",
       "      <td>1.589182</td>\n",
       "      <td>1.139216</td>\n",
       "      <td>0.812149</td>\n",
       "      <td>1.495318</td>\n",
       "      <td>1.502045</td>\n",
       "      <td>23.016912</td>\n",
       "      <td>8.817519</td>\n",
       "    </tr>\n",
       "  </tbody>\n",
       "</table>\n",
       "</div>"
      ],
      "text/plain": [
       "      ticker1 ticker2 target_date  abs_spread_mean  abs_spread_std  \\\n",
       "61706    BKNG       F  2021-12-01      1994.916603      330.774518   \n",
       "61707    BKNG       F  2021-10-13      1963.013843      311.235930   \n",
       "62840    BKNG    VTRS  2021-10-25      1963.062542      320.267401   \n",
       "\n",
       "       abs_spread_mean_l28  abs_spread_std_l28  same_sector_flag  \\\n",
       "61706          2389.568579          125.875981              True   \n",
       "61707          2377.410025           65.869321              True   \n",
       "62840          2417.505384           56.583791             False   \n",
       "\n",
       "       same_sub_industry_flag   cos_sim  corr_coef  abs_spread_normed_max  \\\n",
       "61706                   False  0.974361   0.872647               2.559709   \n",
       "61707                   False  0.983061   0.896185               2.617898   \n",
       "62840                   False  0.973652  -0.211089               2.580851   \n",
       "\n",
       "       abs_spread_normed_90th  abs_spread_normed_75th  \\\n",
       "61706                1.572870                1.132254   \n",
       "61707                1.598196                1.136403   \n",
       "62840                1.589182                1.139216   \n",
       "\n",
       "       abs_spread_normed_median  abs_spread_normed_l7_avg  \\\n",
       "61706                  0.844710                  0.707190   \n",
       "61707                  0.800470                  1.547261   \n",
       "62840                  0.812149                  1.495318   \n",
       "\n",
       "       abs_spread_normed_l14_avg  total_pnl  total_pnl_l28_mean_std  \n",
       "61706                   0.985483  22.065485                9.593977  \n",
       "61707                   1.518131  21.976154                8.050768  \n",
       "62840                   1.502045  23.016912                8.817519  "
      ]
     },
     "execution_count": 29,
     "metadata": {},
     "output_type": "execute_result"
    }
   ],
   "source": [
    "combined[combined.total_pnl>21]"
   ]
  },
  {
   "cell_type": "code",
   "execution_count": 37,
   "id": "0a1194aa-6e63-4b41-a2cd-1db9b4928787",
   "metadata": {},
   "outputs": [],
   "source": [
    "ticker1 = 'BKNG'\n",
    "ticker2 = 'F'\n",
    "# Get a list of unique dates for later use\n",
    "all_dates = data['Date'].unique()\n",
    "vec1_full = data['Close'][data.Ticker==ticker1].values\n",
    "vec2_full = data['Close'][data.Ticker==ticker2].values"
   ]
  },
  {
   "cell_type": "code",
   "execution_count": 38,
   "id": "a8560985-41a2-4dfd-bc62-7968c3f8860e",
   "metadata": {},
   "outputs": [],
   "source": [
    "idx = np.where(all_dates=='2021-12-01')[0][0]"
   ]
  },
  {
   "cell_type": "code",
   "execution_count": 39,
   "id": "d7171746-e20b-4f2b-a6a9-f0a00bed1e55",
   "metadata": {},
   "outputs": [
    {
     "data": {
      "text/plain": [
       "<matplotlib.lines.Line2D at 0x1379e5d90>"
      ]
     },
     "execution_count": 39,
     "metadata": {},
     "output_type": "execute_result"
    },
    {
     "data": {
      "image/png": "[encoded data removed]",
      "text/plain": [
       "<Figure size 640x480 with 1 Axes>"
      ]
     },
     "metadata": {},
     "output_type": "display_data"
    }
   ],
   "source": [
    "plt.plot(vec1_full, label='Stock1', color='green')\n",
    "plt.plot(vec2_full, label='Stock2', color='blue')\n",
    "plt.plot(abs(vec1_full - vec2_full), label='Absolute Spread', color='grey')\n",
    "plt.axvline(x=idx, color='red', linestyle='--', label='Vertical Line')\n",
    "plt.axvline(x=idx-500, color='red', linestyle='--', label='Vertical Line')\n",
    "plt.axvline(x=idx+120, color='red', linestyle='--', label='Vertical Line')"
   ]
  },
  {
   "cell_type": "code",
   "execution_count": 40,
   "id": "b44a6292-caf4-44d3-b0db-ceab942daa10",
   "metadata": {},
   "outputs": [],
   "source": [
    "trade = ExecutePairTrading(\n",
    "    abs_spread_mean=1994.916603,\n",
    "    abs_spread_std=330.774518\n",
    ").execute(\n",
    "vec1=vec1_full[idx:(idx+120)],\n",
    "    vec2=vec2_full[idx:(idx+120)]\n",
    ")"
   ]
  },
  {
   "cell_type": "code",
   "execution_count": 41,
   "id": "6cffac9d-babd-45af-a42a-ad8b64308a26",
   "metadata": {},
   "outputs": [
    {
     "data": {
      "text/html": [
       "<div>\n",
       "<style scoped>\n",
       "    .dataframe tbody tr th:only-of-type {\n",
       "        vertical-align: middle;\n",
       "    }\n",
       "\n",
       "    .dataframe tbody tr th {\n",
       "        vertical-align: top;\n",
       "    }\n",
       "\n",
       "    .dataframe thead th {\n",
       "        text-align: right;\n",
       "    }\n",
       "</style>\n",
       "<table border=\"1\" class=\"dataframe\">\n",
       "  <thead>\n",
       "    <tr style=\"text-align: right;\">\n",
       "      <th></th>\n",
       "      <th>exit_idx</th>\n",
       "      <th>entry_idx</th>\n",
       "      <th>stock1_price_entry</th>\n",
       "      <th>stock1_price_exit</th>\n",
       "      <th>stock2_price_entry</th>\n",
       "      <th>stock2_price_exit</th>\n",
       "      <th>long_stock_1</th>\n",
       "      <th>pnl</th>\n",
       "    </tr>\n",
       "  </thead>\n",
       "  <tbody>\n",
       "    <tr>\n",
       "      <th>0</th>\n",
       "      <td>65</td>\n",
       "      <td>48</td>\n",
       "      <td>2626.97998</td>\n",
       "      <td>1817.160034</td>\n",
       "      <td>18.35</td>\n",
       "      <td>15.97</td>\n",
       "      <td>False</td>\n",
       "      <td>2206.548514</td>\n",
       "    </tr>\n",
       "  </tbody>\n",
       "</table>\n",
       "</div>"
      ],
      "text/plain": [
       "   exit_idx  entry_idx  stock1_price_entry  stock1_price_exit  \\\n",
       "0        65         48          2626.97998        1817.160034   \n",
       "\n",
       "   stock2_price_entry  stock2_price_exit  long_stock_1          pnl  \n",
       "0               18.35              15.97         False  2206.548514  "
      ]
     },
     "execution_count": 41,
     "metadata": {},
     "output_type": "execute_result"
    }
   ],
   "source": [
    "trade.trade_execution_table"
   ]
  },
  {
   "cell_type": "code",
   "execution_count": 44,
   "id": "b23c31f9-6460-4ad8-a29d-c1f18033085a",
   "metadata": {},
   "outputs": [
    {
     "data": {
      "text/plain": [
       "<matplotlib.lines.Line2D at 0x1272cfbd0>"
      ]
     },
     "execution_count": 44,
     "metadata": {},
     "output_type": "execute_result"
    },
    {
     "data": {
      "image/png": "[encoded data removed]",
      "text/plain": [
       "<Figure size 640x480 with 1 Axes>"
      ]
     },
     "metadata": {},
     "output_type": "display_data"
    }
   ],
   "source": [
    "plt.plot(vec1_full[idx:(idx+120)], label='Stock1', color='green')\n",
    "# plt.plot(vec2_full[idx:(idx+120)], label='Stock2', color='blue')\n",
    "plt.axvline(x=48, color='red', linestyle='--', label='Vertical Line')\n",
    "plt.axvline(x=65, color='red', linestyle='--', label='Vertical Line')"
   ]
  },
  {
   "cell_type": "code",
   "execution_count": null,
   "id": "84e0e642-9a06-43c0-beb9-a985894adf62",
   "metadata": {},
   "outputs": [],
   "source": [
    "trade.final_pl_pct"
   ]
  },
  {
   "cell_type": "code",
   "execution_count": null,
   "id": "2ae5ab76-e225-4597-80a5-a82fc71d7a9a",
   "metadata": {},
   "outputs": [],
   "source": [
    "trade.final_pl"
   ]
  },
  {
   "cell_type": "code",
   "execution_count": null,
   "id": "096e6aa2-02ec-41ae-ac96-d00584d4215c",
   "metadata": {},
   "outputs": [],
   "source": []
  }
 ],
 "metadata": {
  "kernelspec": {
   "display_name": "Python 3 (ipykernel)",
   "language": "python",
   "name": "python3"
  },
  "language_info": {
   "codemirror_mode": {
    "name": "ipython",
    "version": 3
   },
   "file_extension": ".py",
   "mimetype": "text/x-python",
   "name": "python",
   "nbconvert_exporter": "python",
   "pygments_lexer": "ipython3",
   "version": "3.11.6"
  }
 },
 "nbformat": 4,
 "nbformat_minor": 5
}
