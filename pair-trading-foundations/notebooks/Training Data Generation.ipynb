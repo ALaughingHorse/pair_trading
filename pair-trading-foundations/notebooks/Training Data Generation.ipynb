{
 "cells": [
  {
   "cell_type": "code",
   "execution_count": 1,
   "id": "45bfe8ae-1745-4eaf-9d12-fe6dab5e6ae1",
   "metadata": {},
   "outputs": [],
   "source": [
    "import numpy as np\n",
    "from numpy.linalg import norm\n",
    "import pandas as pd\n",
    "import itertools\n",
    "import random\n",
    "from matplotlib import pyplot as plt\n",
    "from pair_trading_foundations.data_generation import ExecutePairTrading, generate_training_data\n",
    "random.seed(23)\n",
    "import cProfile\n",
    "import pstats"
   ]
  },
  {
   "cell_type": "code",
   "execution_count": 2,
   "id": "05f8ad47-14f9-4351-bf7d-15597793e5c4",
   "metadata": {},
   "outputs": [],
   "source": [
    "data = pd.read_csv('Data/sp500_full_20181231_to_20231229.csv')"
   ]
  },
  {
   "cell_type": "code",
   "execution_count": 3,
   "id": "b7e176ad-efe6-4f46-a66e-52072e5d1de4",
   "metadata": {},
   "outputs": [],
   "source": [
    "value_count_tb = data[['Ticker']].groupby('Ticker').size().reset_index()\n",
    "value_count_tb.columns = ['Ticker', 'Count']\n",
    "stock_to_keep = value_count_tb['Ticker'][value_count_tb.Count==value_count_tb.Count.max()]\n",
    "data = data[data.Ticker.isin(stock_to_keep)]\n",
    "\n",
    "sampled_tickers = random.sample(list(stock_to_keep.values), 10)\n",
    "\n",
    "data_tech = data[data['GICS Sector'].isin(['Information Technology'])]\n",
    "data_sampled = data[data['Ticker'].isin(sampled_tickers)]"
   ]
  },
  {
   "cell_type": "code",
   "execution_count": 4,
   "id": "15c56380-7a40-49cf-a1f1-d8f4f2dc29c0",
   "metadata": {},
   "outputs": [],
   "source": [
    "# data_sampled = data_sampled[['Date', 'Ticker','Close', 'GICS Sector', 'GICS Sub-Industry']]"
   ]
  },
  {
   "cell_type": "code",
   "execution_count": 5,
   "id": "eb50f906-37d7-4535-860a-b0ac13f5d3b4",
   "metadata": {},
   "outputs": [
    {
     "name": "stdout",
     "output_type": "stream",
     "text": [
      "Used around 0.3333333333333333s per pair for features of full history\n",
      "Used around 0.6666666666666666s per pair for features and labels of full history\n"
     ]
    }
   ],
   "source": [
    "print(f\"Used around {15/45}s per pair for features of full history\")\n",
    "print(f\"Used around {30/45}s per pair for features and labels of full history\")"
   ]
  },
  {
   "cell_type": "code",
   "execution_count": 8,
   "id": "021650b6-250b-45a0-bc2f-a281531f3d67",
   "metadata": {},
   "outputs": [
    {
     "data": {
      "text/plain": [
       "222.21666666666667"
      ]
     },
     "execution_count": 8,
     "metadata": {},
     "output_type": "execute_result"
    }
   ],
   "source": [
    "(19900*0.67)/60"
   ]
  },
  {
   "cell_type": "code",
   "execution_count": 9,
   "id": "a17477ce-6ffb-49b2-b18c-3b978cf58793",
   "metadata": {},
   "outputs": [
    {
     "data": {
      "text/plain": [
       "3.7"
      ]
     },
     "execution_count": 9,
     "metadata": {},
     "output_type": "execute_result"
    }
   ],
   "source": [
    "222/60"
   ]
  },
  {
   "cell_type": "code",
   "execution_count": 11,
   "id": "5ab775cd-8639-427d-8b35-4ec1f613bf04",
   "metadata": {},
   "outputs": [
    {
     "data": {
      "text/plain": [
       "5373.134328358208"
      ]
     },
     "execution_count": 11,
     "metadata": {},
     "output_type": "execute_result"
    }
   ],
   "source": [
    "(60*60)/0.67"
   ]
  },
  {
   "cell_type": "code",
   "execution_count": 6,
   "id": "1865eb17-41ec-44b3-a696-c7b4c8b14e82",
   "metadata": {},
   "outputs": [
    {
     "name": "stdout",
     "output_type": "stream",
     "text": [
      "45 stock pairs detected\n",
      "Took 0.011698246002197266 to initilize. Entering ticker pair loop\n"
     ]
    },
    {
     "name": "stderr",
     "output_type": "stream",
     "text": [
      "/Users/xiaoma/Desktop/current_desktop/mids/pair_trading/pair-trading-foundations/notebooks/pair_trading_foundations/data_generation.py:286: FutureWarning: The behavior of DataFrame concatenation with empty or all-NA entries is deprecated. In a future version, this will no longer exclude empty or all-NA columns when determining the result dtypes. To retain the old behavior, exclude the relevant entries before the concat operation.\n",
      "  features_tb = pd.concat(\n",
      "/Users/xiaoma/Desktop/current_desktop/mids/pair_trading/pair-trading-foundations/notebooks/pair_trading_foundations/data_generation.py:328: FutureWarning: The behavior of DataFrame concatenation with empty or all-NA entries is deprecated. In a future version, this will no longer exclude empty or all-NA columns when determining the result dtypes. To retain the old behavior, exclude the relevant entries before the concat operation.\n",
      "  labels_tb = pd.concat(\n",
      "/Users/xiaoma/Desktop/current_desktop/mids/pair_trading/pair-trading-foundations/notebooks/pair_trading_foundations/data_generation.py:337: FutureWarning: The behavior of DataFrame concatenation with empty or all-NA entries is deprecated. In a future version, this will no longer exclude empty or all-NA columns when determining the result dtypes. To retain the old behavior, exclude the relevant entries before the concat operation.\n",
      "  pnl_metadata_tb = pd.concat(\n"
     ]
    },
    {
     "name": "stdout",
     "output_type": "stream",
     "text": [
      "Took 28.26302409172058 to finish\n"
     ]
    }
   ],
   "source": [
    "features_tb, labels_tb, pnl_metadata_tb = generate_training_data(\n",
    "        data=data_sampled,\n",
    "        training_len=500,\n",
    "        test_len=120,\n",
    "        calculate_label=True,\n",
    "        verbose=False\n",
    "    )"
   ]
  },
  {
   "cell_type": "code",
   "execution_count": 16,
   "id": "667016c1-f54f-4f8e-96f0-328ab8c2bcb5",
   "metadata": {},
   "outputs": [
    {
     "data": {
      "text/plain": [
       "685        exit_idx  entry_idx  stock1_price_entry  st...\n",
       "686        exit_idx  entry_idx  stock1_price_entry  st...\n",
       "687        exit_idx  entry_idx  stock1_price_entry  st...\n",
       "688        exit_idx  entry_idx  stock1_price_entry  st...\n",
       "689        exit_idx  entry_idx  stock1_price_entry  st...\n",
       "                              ...                        \n",
       "1136       exit_idx  entry_idx  stock1_price_entry  st...\n",
       "1137       exit_idx  entry_idx  stock1_price_entry  st...\n",
       "1138       exit_idx  entry_idx  stock1_price_entry  st...\n",
       "1139       exit_idx  entry_idx  stock1_price_entry  st...\n",
       "1140       exit_idx  entry_idx  stock1_price_entry  st...\n",
       "Name: trade_executions, Length: 11340, dtype: object"
      ]
     },
     "execution_count": 16,
     "metadata": {},
     "output_type": "execute_result"
    }
   ],
   "source": [
    "pnl_metadata_tb.dropna()['trade_executions']"
   ]
  },
  {
   "cell_type": "markdown",
   "id": "acee7e8d-6f3c-4789-b4d6-4f05ebdfb3ae",
   "metadata": {},
   "source": [
    "# Get the tech sector only"
   ]
  },
  {
   "cell_type": "code",
   "execution_count": null,
   "id": "1ce89092-dc1f-4148-a062-61ee0809e5da",
   "metadata": {},
   "outputs": [],
   "source": [
    "with cProfile.Profile() as pr:\n",
    "    recorded_info_tb, features_tb, labels_tb = generate_training_data(\n",
    "        data=data_tech,\n",
    "        training_len=500,\n",
    "        test_len=120,\n",
    "        sample_size_per_pair=10\n",
    "    )\n",
    "\n",
    "stats = pstats.Stats(pr)\n",
    "stats.sort_stats(pstats.SortKey.TIME)\n",
    "# Now you have two options, either print the data or save it as a file\n",
    "stats.print_stats() # Print The Stats"
   ]
  },
  {
   "cell_type": "code",
   "execution_count": null,
   "id": "5c53dcaf-03a2-4d82-9354-3c65d2ed58d8",
   "metadata": {},
   "outputs": [],
   "source": [
    "stats.dump_stats(\"logs/path.prof\") # Saves the data"
   ]
  },
  {
   "cell_type": "code",
   "execution_count": null,
   "id": "d393a841-72ba-4fed-a3d8-0d71c6fe21a4",
   "metadata": {},
   "outputs": [],
   "source": [
    "combined = pd.merge(recorded_info_tb, features_tb, how='inner', on= ['ticker1','ticker2', 'target_date'])\n",
    "combined = pd.merge(combined,labels_tb, how='inner', on= ['ticker1','ticker2', 'target_date'] )"
   ]
  },
  {
   "cell_type": "code",
   "execution_count": null,
   "id": "8eaa8174-8ece-4332-8610-44f12e9309ca",
   "metadata": {},
   "outputs": [],
   "source": [
    "combined.to_csv('Data/tech_sector_pairs.csv', index=False)"
   ]
  },
  {
   "cell_type": "code",
   "execution_count": null,
   "id": "e6ff8c4a-d93a-4f3e-b1a1-d5633bf52fa4",
   "metadata": {},
   "outputs": [],
   "source": [
    "combined"
   ]
  },
  {
   "cell_type": "markdown",
   "id": "eb7ee454-a273-424c-a372-2059b7c03235",
   "metadata": {},
   "source": [
    "# Get sampled combs"
   ]
  },
  {
   "cell_type": "code",
   "execution_count": null,
   "id": "796ef247-45fc-4966-8ff8-f3ce3ce0b3d4",
   "metadata": {},
   "outputs": [],
   "source": [
    "(0.013090133666992188 * 124750)/60"
   ]
  },
  {
   "cell_type": "code",
   "execution_count": null,
   "id": "2ccaef4e-5ed3-4dd4-9fed-8d34b631e605",
   "metadata": {},
   "outputs": [],
   "source": [
    "19900*0.28"
   ]
  },
  {
   "cell_type": "code",
   "execution_count": null,
   "id": "9f53e9b3-dc9c-4e2a-b78d-540201c24ef1",
   "metadata": {},
   "outputs": [],
   "source": [
    "5572/60"
   ]
  },
  {
   "cell_type": "code",
   "execution_count": null,
   "id": "f17425b3-03fb-443f-836f-5feb48d04a16",
   "metadata": {},
   "outputs": [],
   "source": [
    "features_tb, labels_tb, pnl_metadata_tb = generate_training_data(\n",
    "        data=data_sampled,\n",
    "        training_len=500,\n",
    "        test_len=120,\n",
    "        calculate_label=True,\n",
    "        calculate_feature=True\n",
    "    )"
   ]
  },
  {
   "cell_type": "code",
   "execution_count": null,
   "id": "da6e52d6-24a6-4d83-8895-eaec447e2ed0",
   "metadata": {},
   "outputs": [],
   "source": [
    "combined = pd.merge(recorded_info_tb, features_tb, how='inner', on= ['ticker1','ticker2', 'target_date'])\n",
    "combined = pd.merge(combined,labels_tb, how='inner', on= ['ticker1','ticker2', 'target_date'] )\n",
    "combined.to_csv('Data/sampled_sector_pairs_200.csv', index=False)"
   ]
  },
  {
   "cell_type": "markdown",
   "id": "0ad1b7b6-a990-48f5-943c-d5cac0ec7138",
   "metadata": {},
   "source": [
    "# Examining"
   ]
  },
  {
   "cell_type": "code",
   "execution_count": null,
   "id": "993fdd75-8bc4-4b99-947b-2772b9807d3f",
   "metadata": {},
   "outputs": [],
   "source": [
    "combined = pd.read_csv('Data/sampled_sector_pairs_200.csv')"
   ]
  },
  {
   "cell_type": "code",
   "execution_count": null,
   "id": "73c137b3-d4d5-45b3-941b-debb1580c38c",
   "metadata": {},
   "outputs": [],
   "source": [
    "combined"
   ]
  },
  {
   "cell_type": "code",
   "execution_count": null,
   "id": "f9b5a964-fc4c-4afb-b3b0-0a15cf9259a2",
   "metadata": {},
   "outputs": [],
   "source": [
    "combined = combined.drop_duplicates().reset_index(drop=True)"
   ]
  },
  {
   "cell_type": "code",
   "execution_count": null,
   "id": "5617ce02-fce2-4738-9b1b-86c49a2f854d",
   "metadata": {},
   "outputs": [],
   "source": [
    "combined.shape"
   ]
  },
  {
   "cell_type": "code",
   "execution_count": null,
   "id": "9cab269c-a3d6-4ae1-accc-80eef6a900c6",
   "metadata": {},
   "outputs": [],
   "source": [
    "combined.head()"
   ]
  },
  {
   "cell_type": "code",
   "execution_count": null,
   "id": "a12163c3-d571-46b9-8a71-dd0287be3d10",
   "metadata": {},
   "outputs": [],
   "source": [
    "combined.shape"
   ]
  },
  {
   "cell_type": "code",
   "execution_count": null,
   "id": "3a965872-0b66-4f4d-8c90-35f0a21f2bc1",
   "metadata": {},
   "outputs": [],
   "source": [
    "random.choices()"
   ]
  },
  {
   "cell_type": "code",
   "execution_count": null,
   "id": "32a235be-87e8-49c6-a657-8166f1e4314e",
   "metadata": {},
   "outputs": [],
   "source": [
    "combined[['ticker1','ticker2']].groupby(['ticker1','ticker2']).size().sort_values()"
   ]
  },
  {
   "cell_type": "code",
   "execution_count": null,
   "id": "d31f0ab8-70c7-4dec-936d-febd1102009f",
   "metadata": {},
   "outputs": [],
   "source": [
    "combined[(combined.ticker1=='COR')&(combined.ticker2=='META')].drop_duplicates()"
   ]
  },
  {
   "cell_type": "code",
   "execution_count": null,
   "id": "0c58d8f1-e3f8-475e-b544-9fa9f15ff58c",
   "metadata": {},
   "outputs": [],
   "source": [
    "combined.total_pnl.describe()"
   ]
  },
  {
   "cell_type": "code",
   "execution_count": null,
   "id": "6cf178c2-a66f-4bc8-8fb0-dc4e28d0049c",
   "metadata": {},
   "outputs": [],
   "source": [
    "combined[combined.total_pnl>0.7]"
   ]
  },
  {
   "cell_type": "code",
   "execution_count": null,
   "id": "0a1194aa-6e63-4b41-a2cd-1db9b4928787",
   "metadata": {},
   "outputs": [],
   "source": [
    "ticker1 = 'AOS'\n",
    "ticker2 = 'AMD'\n",
    "# Get a list of unique dates for later use\n",
    "all_dates = data['Date'].unique()\n",
    "vec1_full = data['Close'][data.Ticker==ticker1].values\n",
    "vec2_full = data['Close'][data.Ticker==ticker2].values"
   ]
  },
  {
   "cell_type": "code",
   "execution_count": null,
   "id": "a8560985-41a2-4dfd-bc62-7968c3f8860e",
   "metadata": {},
   "outputs": [],
   "source": [
    "idx = np.where(all_dates=='2021-11-23')[0][0]"
   ]
  },
  {
   "cell_type": "code",
   "execution_count": null,
   "id": "d7171746-e20b-4f2b-a6a9-f0a00bed1e55",
   "metadata": {},
   "outputs": [],
   "source": [
    "plt.plot(vec1_full, label='Stock1', color='green')\n",
    "plt.plot(vec2_full, label='Stock2', color='blue')\n",
    "# plt.plot(abs(vec1_full - vec2_full), label='Absolute Spread', color='grey')\n",
    "plt.axvline(x=idx, color='red', linestyle='--', label='Vertical Line')\n",
    "plt.axvline(x=idx-500, color='red', linestyle='--', label='Vertical Line')\n",
    "plt.axvline(x=idx+120, color='red', linestyle='--', label='Vertical Line')"
   ]
  },
  {
   "cell_type": "code",
   "execution_count": null,
   "id": "b44a6292-caf4-44d3-b0db-ceab942daa10",
   "metadata": {},
   "outputs": [],
   "source": [
    "trade = ExecutePairTrading(\n",
    "    abs_spread_mean=21.923220,\n",
    "    abs_spread_std=15.530315\n",
    ").execute(\n",
    "vec1=vec1_full[idx:(idx+120)],\n",
    "    vec2=vec2_full[idx:(idx+120)]\n",
    ")"
   ]
  },
  {
   "cell_type": "code",
   "execution_count": null,
   "id": "6cffac9d-babd-45af-a42a-ad8b64308a26",
   "metadata": {},
   "outputs": [],
   "source": [
    "trade.trade_execution_table"
   ]
  },
  {
   "cell_type": "code",
   "execution_count": null,
   "id": "b23c31f9-6460-4ad8-a29d-c1f18033085a",
   "metadata": {},
   "outputs": [],
   "source": [
    "plt.plot(vec1_full[idx:(idx+120)], label='Stock1', color='green')\n",
    "plt.plot(vec2_full[idx:(idx+120)], label='Stock2', color='blue')\n",
    "plt.axvline(x=1, color='red', linestyle='--', label='Vertical Line')\n",
    "plt.axvline(x=106, color='red', linestyle='--', label='Vertical Line')"
   ]
  },
  {
   "cell_type": "code",
   "execution_count": null,
   "id": "84e0e642-9a06-43c0-beb9-a985894adf62",
   "metadata": {},
   "outputs": [],
   "source": [
    "trade.final_pl_pct"
   ]
  },
  {
   "cell_type": "code",
   "execution_count": null,
   "id": "2ae5ab76-e225-4597-80a5-a82fc71d7a9a",
   "metadata": {},
   "outputs": [],
   "source": [
    "trade.final_pl"
   ]
  },
  {
   "cell_type": "code",
   "execution_count": null,
   "id": "096e6aa2-02ec-41ae-ac96-d00584d4215c",
   "metadata": {},
   "outputs": [],
   "source": []
  }
 ],
 "metadata": {
  "kernelspec": {
   "display_name": "Python 3 (ipykernel)",
   "language": "python",
   "name": "python3"
  },
  "language_info": {
   "codemirror_mode": {
    "name": "ipython",
    "version": 3
   },
   "file_extension": ".py",
   "mimetype": "text/x-python",
   "name": "python",
   "nbconvert_exporter": "python",
   "pygments_lexer": "ipython3",
   "version": "3.11.6"
  }
 },
 "nbformat": 4,
 "nbformat_minor": 5
}
